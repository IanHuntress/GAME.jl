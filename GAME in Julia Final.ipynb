{
 "cells": [
  {
   "cell_type": "markdown",
   "metadata": {},
   "source": [
    "GAME (detecting cis-regulatory elements using a genetic algorithm. Wei Z1, Jensen ST) in Julia\n",
    "Team member: Mayank, Mohammad, Ian\n",
    "\n"
   ]
  },
  {
   "cell_type": "code",
   "execution_count": 26,
   "metadata": {},
   "outputs": [],
   "source": [
    "# We annotate the functions we use with its use, parameters, output, and time complexity (if we think it is relevant)\n",
    "# We skip some of the above information for functions that we feel are self explanatory with the intention of keeping the code clean\n",
    "# There is a total of 4 fasta files for the easy and hard challenges as described in our report and 1 fasta file for CRP data"
   ]
  },
  {
   "cell_type": "code",
   "execution_count": null,
   "metadata": {},
   "outputs": [],
   "source": [
    "# Data related notations\n",
    "# t -> Number of DNA sequences\n",
    "# l -> Length of a DNA sequence\n",
    "# w -> width of motif\n",
    "\n",
    "# GAME related notations\n",
    "# N -> Size of population\n",
    "# max generation steps -> maximum number of steps for which the genetic component of GAME runs\n",
    "# r -> Mutation rate of the genetic component of GAME. The probability with which each start site\n",
    "#      is mutated in a member of the population"
   ]
  },
  {
   "cell_type": "code",
   "execution_count": 7,
   "metadata": {},
   "outputs": [],
   "source": [
    "import Statistics\n",
    "import Random\n",
    "import StatsBase"
   ]
  },
  {
   "cell_type": "markdown",
   "metadata": {},
   "source": [
    "Functions for simulating biological data"
   ]
  },
  {
   "cell_type": "code",
   "execution_count": 8,
   "metadata": {},
   "outputs": [
    {
     "data": {
      "text/plain": [
       "generate_random_motif (generic function with 1 method)"
      ]
     },
     "execution_count": 8,
     "metadata": {},
     "output_type": "execute_result"
    }
   ],
   "source": [
    "# Algorithm: Generate random set of DNA sequences of given size and quantity\n",
    "# Parameters: Number of DNA sequences t, Length of sequence l\n",
    "# Output: t randomly generated DNA sequences\n",
    "# Time Complexity: O(t*l) \n",
    "function generate_random_sequences(number_of_sequences, sequence_length)\n",
    "    generated_sequences = []\n",
    "    for i in 1:number_of_sequences\n",
    "        generated_sequence = Random.randstring(\"ACGT\", sequence_length)\n",
    "        push!(generated_sequences, generated_sequence)\n",
    "    end\n",
    "    return generated_sequences\n",
    "end\n",
    "\n",
    "# Algorithm: Generate a random population of potential motif profiles of a given size for a given set of DNA sequences\n",
    "# Parameters: Size of population N, Number of DNA sequences t, Length of sequence l, Lenght of motif w\n",
    "# Output: N randomly generated motif profiles of width w for t DNA sequences of length l\n",
    "# Time Complexity: O(N*t)\n",
    "function generate_random_initial_population(population_size, number_of_sequences, sequence_length, motif_width)\n",
    "    generated_population = []\n",
    "    for i in 1:population_size\n",
    "        motif_start_point_range = 1:sequence_length - motif_width + 1\n",
    "        member_size = number_of_sequences\n",
    "        generated_member = rand(motif_start_point_range, member_size) # Generate a member of the population of size t\n",
    "        push!(generated_population, generated_member)\n",
    "    end\n",
    "    return generated_population\n",
    "end\n",
    "\n",
    "# Function: Generate a random motif string of a given size\n",
    "# Parameters: Lenght of motif w\n",
    "# Output: Randomly generated motif string of width w\n",
    "# Time Complexity: O(w)\n",
    "function generate_random_motif(motif_length)\n",
    "   return Random.randstring(\"ACGT\", motif_length)\n",
    "end"
   ]
  },
  {
   "cell_type": "markdown",
   "metadata": {},
   "source": [
    "Functions for Mutation, Crossover, Selection"
   ]
  },
  {
   "cell_type": "code",
   "execution_count": 9,
   "metadata": {},
   "outputs": [
    {
     "data": {
      "text/plain": [
       "mutation (generic function with 1 method)"
      ]
     },
     "execution_count": 9,
     "metadata": {},
     "output_type": "execute_result"
    }
   ],
   "source": [
    "# Helper functions for mutation step in the genetic algorithm\n",
    "\n",
    "\n",
    "# Count how many members of the population were mutated\n",
    "function count_mutated_members(initial_population, mutated_population)\n",
    "    mutated_members = 0\n",
    "    for (i, j) in zip(initial_population, mutated_population) \n",
    "        if any(i .!= j)\n",
    "            mutated_members += 1\n",
    "        end\n",
    "    end\n",
    "    return mutated_members\n",
    "end\n",
    "\n",
    "\n",
    "# Count how many point mutations occurred across all members of the population\n",
    "function count_mutations(initial_population, mutated_population)\n",
    "    mutations = 0\n",
    "    for (i, j) in zip(initial_population, mutated_population)\n",
    "        mask = (i .!= j)\n",
    "        mutations += StatsBase.countmap(mask)[true]\n",
    "    end\n",
    "    return mutations\n",
    "end\n",
    "\n",
    "function to_mutate(mutation_probability)\n",
    "    number = rand(1)[1]\n",
    "    if number  <= mutation_probability\n",
    "        return true\n",
    "    else\n",
    "        return false\n",
    "    end\n",
    "end\n",
    "\n",
    "# Algorithm: Perform mutations over a population of candidate motifs with a given mutation probability assuming uniform sequence legnths\n",
    "# Parameters: Population of motif profiles, mutation probability, length of sequence, expected width of motif\n",
    "# Output: Mutated population\n",
    "# Time complexity : O(N*t) \n",
    "function mutation(initial_population, mutation_probability, sequence_length, motif_width)    \n",
    "    mutated_population = [] # mutated_population\n",
    "    for i in 1:length(initial_population)\n",
    "        current_candidate = deepcopy(initial_population[i])\n",
    "        for j in 1:length(current_candidate)\n",
    "            if to_mutate(mutation_probability)\n",
    "                current_candidate[j] = rand(1:sequence_length-motif_width+1)\n",
    "            end\n",
    "        end\n",
    "        push!(mutated_population, current_candidate)\n",
    "    end\n",
    "    return mutated_population\n",
    "end"
   ]
  },
  {
   "cell_type": "code",
   "execution_count": 10,
   "metadata": {},
   "outputs": [
    {
     "data": {
      "text/plain": [
       "crossover (generic function with 1 method)"
      ]
     },
     "execution_count": 10,
     "metadata": {},
     "output_type": "execute_result"
    }
   ],
   "source": [
    "# Algorithm: Perform crossover step\n",
    "# Parameters: Population of motif profiles\n",
    "# Output: Post-crossover population\n",
    "# Time Complexity: O(N*t)\n",
    "function crossover(initial_population)    \n",
    "    shuffled_initial_population = initial_population[Random.randperm(length(initial_population))] # Shuffles/randomizes initial population\n",
    "    crossover_population = [] # Will hold children produced by crossover (N/2 pairs)\n",
    "    \n",
    "    for i in 1:2:length(shuffled_initial_population) # index by 2\n",
    "        if(i+1 <= length(shuffled_initial_population))\n",
    "            A = shuffled_initial_population[i]\n",
    "            B = shuffled_initial_population[i+1]\n",
    "            crossOverPoint = rand(1:length(A)) # cross over point; we assume A and B are of the same length (m)\n",
    "        \n",
    "            A_prime = []\n",
    "            B_prime = []\n",
    "            for j in 1:crossOverPoint\n",
    "                push!(A_prime, A[j])\n",
    "                push!(B_prime, B[j])\n",
    "            end\n",
    "            for j in crossOverPoint+1:length(A)\n",
    "                push!(A_prime, B[j])\n",
    "                push!(B_prime, A[j])\n",
    "            end\n",
    "\n",
    "            push!(crossover_population, A_prime)\n",
    "            push!(crossover_population, B_prime)\n",
    "        end\n",
    "    end\n",
    "    \n",
    "    return vcat(shuffled_initial_population, crossover_population)\n",
    "end"
   ]
  },
  {
   "cell_type": "code",
   "execution_count": 11,
   "metadata": {},
   "outputs": [
    {
     "data": {
      "text/plain": [
       "tournamentSelection (generic function with 1 method)"
      ]
     },
     "execution_count": 11,
     "metadata": {},
     "output_type": "execute_result"
    }
   ],
   "source": [
    "# Algorithm: Perform mutations over a population of candidate motifs with a given mutation probability assuming uniform sequence legnths\n",
    "# Parameters: Population of motif profiles, number of sequences, expected width of motif, estimated background frequency\n",
    "# Output: Post-selection population\n",
    "# Time Complexity: O(N*t*w)\n",
    "function tournamentSelection(population,tSize,seq,motifWidth, theta0k)\n",
    "    ### Population is group into tournaments of size tSize.\n",
    "    ### Output Winners of tournaments\n",
    "    \n",
    "    tournamentPopulation = population[Random.randperm(size(population)[1]),:]\n",
    "    Winners = []\n",
    "    \n",
    "    for j in 1:tSize:(size(tournamentPopulation)[1]-tSize+1)\n",
    "\n",
    "\n",
    "        bracket = tournamentPopulation[j:j+tSize-1,:]\n",
    "        \n",
    "        topScore = -1*typemax(Int64) ### Worst possible score is large number\n",
    "        bracketWinner = -1\n",
    "        for b in 1:size(bracket)[1]\n",
    "            # CurrentAlignment = [seq[idx][bracket[b][idx]:bracket[b][idx]+motifWidth-1] for idx in 1:length(seq)]\n",
    "            if BAYESIAN_SCORING\n",
    "                currentScore = Score(bracket[b], seq, motifWidth, theta0k)\n",
    "            else\n",
    "                motif_string = GenerateMotifStrings(bracket[b], motifWidth, seq)\n",
    "                currentScore = ConsensusScore(motif_string)\n",
    "            end\n",
    "            if(topScore < currentScore )\n",
    "                topScore = currentScore\n",
    "                bracketWinner = bracket[b]\n",
    "            end\n",
    "        end\n",
    "       push!(Winners,bracketWinner)\n",
    "    end\n",
    "    return Winners\n",
    "end"
   ]
  },
  {
   "cell_type": "markdown",
   "metadata": {},
   "source": [
    "Data type changing function"
   ]
  },
  {
   "cell_type": "code",
   "execution_count": 12,
   "metadata": {},
   "outputs": [
    {
     "data": {
      "text/plain": [
       "GenerateMotifStrings (generic function with 1 method)"
      ]
     },
     "execution_count": 12,
     "metadata": {},
     "output_type": "execute_result"
    }
   ],
   "source": [
    "# Algorithm: Generate motifs as a list of DNA sub-strings from a list of starting indices\n",
    "# Parameters: Motif profile as list of start sites, Width of motif, t DNA sequences\n",
    "# Output: Motif profile as strings\n",
    "# Time Complexity : O(t*w)\n",
    "function GenerateMotifStrings(motifs, motifWidth, DNA_sequences)\n",
    "  motif_strings = []\n",
    "  for i in 1:length(motifs)\n",
    "      start = motifs[i]\n",
    "      push!(motif_strings, DNA_sequences[i][start:start+motifWidth-1]) \n",
    "  end\n",
    "  return motif_strings\n",
    "end"
   ]
  },
  {
   "cell_type": "markdown",
   "metadata": {},
   "source": [
    "Adjust and Shift operations"
   ]
  },
  {
   "cell_type": "code",
   "execution_count": 13,
   "metadata": {},
   "outputs": [
    {
     "data": {
      "text/plain": [
       "Adjust (generic function with 1 method)"
      ]
     },
     "execution_count": 13,
     "metadata": {},
     "output_type": "execute_result"
    }
   ],
   "source": [
    "# Algorithm: Adjust the current optimal motif one start site at a time as described in the GAME paper and the report\n",
    "# Parameters: Optimal motif profile, DNA sequences, Lenght of a sequence, Number of sequences\n",
    "# Output: Adjusted motif\n",
    "# Time Complexity: O(l* t^3 * w^2) (WORST case [avg case is likely better]: score of best profile changes only by 1 every t iterations)\n",
    "function Adjust(motif, DNA_sequences, motif_width, sequence_length, number_of_sequences)\n",
    "    i = 0\n",
    "    motif_adjust = deepcopy(motif)\n",
    "    score_changes = true\n",
    "    best_score_for_i = -Inf\n",
    "    last_score_at_m = -Inf\n",
    "    first_time = true\n",
    "    best_profile_for_i = motif_adjust\n",
    "    k = 1\n",
    "    while score_changes\n",
    "        i += 1\n",
    "        \n",
    "        if i > number_of_sequences\n",
    "            i = 1\n",
    "        end\n",
    "        \n",
    "        # Find best motif start value j value for i'th sequence\n",
    "        for j in 1:sequence_length - motif_width + 1   #takes l*t*w (length of sequence * number of seq * width of motif)\n",
    "            k += 1\n",
    "            motif_adjust = vcat(best_profile_for_i[1:i-1], [j], best_profile_for_i[i+1:number_of_sequences])\n",
    "            motif_strings = GenerateMotifStrings(motif_adjust, motif_width, DNA_sequences)\n",
    "            score = ConsensusScore(motif_strings)\n",
    "            if score > best_score_for_i\n",
    "                 best_profile_for_i = deepcopy(motif_adjust)\n",
    "                 best_score_for_i = score\n",
    "            end\n",
    "        end\n",
    "        if i == number_of_sequences\n",
    "            if best_score_for_i > last_score_at_m && !first_time\n",
    "                last_score_at_m = best_score_for_i\n",
    "                score_changes = true\n",
    "            elseif best_score_for_i > last_score_at_m && first_time\n",
    "                last_score_at_m = best_score_for_i\n",
    "                first_time = false\n",
    "            else\n",
    "                score_changes = false\n",
    "            end\n",
    "        end\n",
    "    end\n",
    "    return best_profile_for_i\n",
    "end"
   ]
  },
  {
   "cell_type": "code",
   "execution_count": 14,
   "metadata": {},
   "outputs": [
    {
     "data": {
      "text/plain": [
       "Shift (generic function with 1 method)"
      ]
     },
     "execution_count": 14,
     "metadata": {},
     "output_type": "execute_result"
    }
   ],
   "source": [
    "# Algorithm: Shift the current optimal motif locally as described in the GAME paper and the report\n",
    "# Parameters: Optimal motif profile, expected motif width, DNA sequences\n",
    "# Time Complexity: O(t*w^2) (number of seq * (motif width)^2)\n",
    "function Shift(motif,motif_width,DNA_sequences)\n",
    "    shiftedStarts = [[clamp(motif[i]+k,1,length(DNA_sequences[i])-motif_width+1) for i in 1:length(motif)] for k in (-1*motif_width):(motif_width)]\n",
    "    # k′ = argmax Score(a1+k,………,am+k),−w≤k≤w \n",
    "    motif_sequences = map(motif -> GenerateMotifStrings(motif, motif_width, DNA_sequences), shiftedStarts)\n",
    "    currentScores = map(ConsensusScore, motif_sequences)\n",
    "    # A←A(a1+k′………,am+k′) Return best shifted \n",
    "    return(shiftedStarts[argmax(currentScores)])\n",
    "end"
   ]
  },
  {
   "cell_type": "markdown",
   "metadata": {},
   "source": [
    "Scoring functions"
   ]
  },
  {
   "cell_type": "code",
   "execution_count": 15,
   "metadata": {},
   "outputs": [
    {
     "data": {
      "text/plain": [
       "EstimateBackground (generic function with 2 methods)"
      ]
     },
     "execution_count": 15,
     "metadata": {},
     "output_type": "execute_result"
    }
   ],
   "source": [
    "function EstimateBackground(seq)\n",
    "  profile = Dict('A' => 0.0, 'C' => 0.0, 'T' => 0.0, 'G' => 0.0)\n",
    "  totalNumberOfBases = 0.0 #Total number of bases in the sequence\n",
    "  \n",
    "  for s in 1:length(seq)\n",
    "    for b in 1:length(seq[s])\n",
    "      profile[seq[s][b]] += 1.0\n",
    "      totalNumberOfBases += 1.0\n",
    "    end\n",
    "  end\n",
    "  \n",
    "  bases = ['A', 'C', 'G', 'T']\n",
    "  for i in 1:length(bases)\n",
    "    profile[bases[i]] /= totalNumberOfBases #Converts counts to frequencies\n",
    "  end\n",
    "  \n",
    "  return(profile)\n",
    "end\n",
    "\n",
    "function EstimateBackground(seq, motifs, motifLength)\n",
    "    background_frequency = Dict('A' => 0.0, 'C' => 0.0, 'T' => 0.0, 'G' => 0.0)\n",
    "    for sequence_no in 1:length(seq)\n",
    "       motif_excluded_range = [1:sequence_no - 1 ; sequence_no + motifLength: length(seq[sequence_no])]\n",
    "       for column_no in motif_excluded_range\n",
    "           background_frequency[seq[sequence_no][column_no]] += 1\n",
    "       end\n",
    "    end\n",
    "  \n",
    "  return background_frequency\n",
    "end"
   ]
  },
  {
   "cell_type": "code",
   "execution_count": 16,
   "metadata": {},
   "outputs": [
    {
     "data": {
      "text/plain": [
       "ConsensusScore (generic function with 1 method)"
      ]
     },
     "execution_count": 16,
     "metadata": {},
     "output_type": "execute_result"
    }
   ],
   "source": [
    "# Algorithm: Score amotif profile according to consensus scoring as defined in our textbook (Pevzner)\n",
    "# Parameters: Motif profile\n",
    "# Output: Integer score\n",
    "# Time Complexity: O(t*w)\n",
    "function ConsensusScore(motifs) # Uses Laplace's Rule of Succession\n",
    "    totalScore = 0\n",
    "    \n",
    "    for i in 1:length(motifs[1]) #Goes through every character in a motif\n",
    "        basesForCurrentCharacter = [] #Holds the bases found in character position i for each motif\n",
    "        for j in 1:length(motifs) #Goes through every motif, and adds base at position i for current motif to array\n",
    "            push!(basesForCurrentCharacter, motifs[j][i])\n",
    "        end\n",
    "        \n",
    "        counts = [0, 0, 0, 0]   # [A,C,G,T]\n",
    "        for j in 1:length(basesForCurrentCharacter) #Increases base count by 1 for corresponding base in current motif character\n",
    "            if(basesForCurrentCharacter[j] == 'A')\n",
    "                counts[1] = counts[1] + 1\n",
    "            elseif(basesForCurrentCharacter[j] == 'C')\n",
    "                counts[2] = counts[2] + 1\n",
    "            elseif(basesForCurrentCharacter[j] == 'G')\n",
    "                counts[3] = counts[3] + 1\n",
    "            elseif(basesForCurrentCharacter[j] == 'T')\n",
    "                counts[4] = counts[4] + 1\n",
    "            end\n",
    "        end\n",
    "        consensusCount = maximum(counts) #finds consensus base\n",
    "        totalScore = totalScore + consensusCount\n",
    "    end\n",
    "    \n",
    "    return totalScore  #Returns total score\n",
    "end"
   ]
  },
  {
   "cell_type": "code",
   "execution_count": 17,
   "metadata": {},
   "outputs": [
    {
     "data": {
      "text/plain": [
       "ConsensusString (generic function with 1 method)"
      ]
     },
     "execution_count": 17,
     "metadata": {},
     "output_type": "execute_result"
    }
   ],
   "source": [
    "# Algorithm: Generate consensus string from a motif profile of strings\n",
    "# Parameters: Motif profile as strings\n",
    "# Output: Consensus string\n",
    "# Time Complexity:  O(t*w) \n",
    "function ConsensusString(motifs) # Uses Laplace's Rule of Succession\n",
    "    finalString = \"\"\n",
    "    \n",
    "    for i in 1:length(motifs[1]) #Goes through every character in a motif\n",
    "        basesForCurrentCharacter = [] #Holds the bases found in character position i for each motif\n",
    "        for j in 1:length(motifs) #Goes through every motif, and adds base at position i for current motif to array\n",
    "            push!(basesForCurrentCharacter, motifs[j][i])\n",
    "        end\n",
    "        \n",
    "        counts = [0, 0, 0, 0]   # [A,C,G,T]\n",
    "        for j in 1:length(basesForCurrentCharacter) #Increases base count by 1 for corresponding base in current motif character\n",
    "            if(basesForCurrentCharacter[j] == 'A')\n",
    "                counts[1] = counts[1] + 1\n",
    "            elseif(basesForCurrentCharacter[j] == 'C')\n",
    "                counts[2] = counts[2] + 1\n",
    "            elseif(basesForCurrentCharacter[j] == 'G')\n",
    "                counts[3] = counts[3] + 1\n",
    "            elseif(basesForCurrentCharacter[j] == 'T')\n",
    "                counts[4] = counts[4] + 1\n",
    "            end\n",
    "        end\n",
    "        characterIndex = 1\n",
    "        maxOccurrence = 0\n",
    "        for j in 1:length(counts)\n",
    "            if(counts[j] > maxOccurrence)\n",
    "                characterIndex = j\n",
    "                maxOccurrence = counts[j]\n",
    "            end\n",
    "        end\n",
    "        baseCharacter = \"\"\n",
    "        if(characterIndex == 1)\n",
    "            baseCharacter = \"A\"\n",
    "        elseif(characterIndex == 2)\n",
    "            baseCharacter = \"C\"\n",
    "        elseif(characterIndex == 3)\n",
    "            baseCharacter = \"G\"\n",
    "        elseif(characterIndex == 4)\n",
    "            baseCharacter = \"T\"\n",
    "        end\n",
    "        \n",
    "        finalString = finalString * baseCharacter\n",
    "    end\n",
    "    \n",
    "    return finalString  #Returns consensusString\n",
    "end"
   ]
  },
  {
   "cell_type": "code",
   "execution_count": 18,
   "metadata": {},
   "outputs": [
    {
     "data": {
      "text/plain": [
       "Score (generic function with 1 method)"
      ]
     },
     "execution_count": 18,
     "metadata": {},
     "output_type": "execute_result"
    }
   ],
   "source": [
    "# Algorithm: Bayesian scoring function from GAME paper\n",
    "# Parametes: Motif profile, DNA sequences, expected width of motif, Estimated background frequency\n",
    "# Output: Real number score\n",
    "# Time Complexity: O(t*w)\n",
    "function Score(A, seq, motifLength, theta0k)\n",
    "    theta0k = EstimateBackground(seq, A, motifLength)\n",
    "    L = sum(length.(seq).-(motifLength).+1)\n",
    "    pHat = length(A) / L\n",
    "    alignment = [seq[idx][A[idx]:A[idx]+motifLength-1] for idx in 1:length(seq)]\n",
    "    profile = Dict('A' => [0.0 for i in 1:motifLength], 'C' => [0.0 for i in 1:motifLength], 'T' => [0.0 for i in 1:motifLength], 'G' => [0.0 for i in 1:motifLength])\n",
    "    \n",
    "    for i in 1:length(alignment) #Goes through number of k_mers \n",
    "        for j in 1:length(alignment[i]) #Goes through length of k_mer\n",
    "            profile[uppercase(alignment[i][j])][j] += 1 #Increase count of base (A, C, G, or T) for current base in k_mer\n",
    "        end\n",
    "    end\n",
    "  \n",
    "    for i in 1:length(alignment) # Goes through width of k-mer, applies Laplace's rule\n",
    "        profile['A'][i] = profile['A'][i] + 1\n",
    "        profile['C'][i] = profile['C'][i] + 1\n",
    "        profile['G'][i] = profile['G'][i] + 1\n",
    "        profile['T'][i] = profile['T'][i] + 1\n",
    "    end\n",
    "    for i in 1:length(length(alignment)) # Goes through width of k-mer, divides by (2*t) for Laplace's rule of succession\n",
    "        profile['A'][i] = profile['A'][i]/(2*length(alignment))\n",
    "        profile['C'][i] = profile['C'][i]/(2*length(alignment))\n",
    "        profile['G'][i] = profile['G'][i]/(2*length(alignment))\n",
    "        profile['T'][i] = profile['T'][i]/(2*length(alignment))\n",
    "    end\n",
    "  \n",
    "    bases = ['A', 'C', 'G', 'T']\n",
    "    productOverMotifFreq = 1\n",
    "    for i in 1:length(bases)\n",
    "        for j in 1:length(motifLength)\n",
    "          productOverMotifFreq *= ( profile[bases[i]][j] * (log(profile[bases[i]][j]) - log(theta0k[bases[i]])) )\n",
    "        end\n",
    "    end\n",
    "  return(length(A) * (log(pHat/(1.0-pHat)) - 1 + productOverMotifFreq))\n",
    "end"
   ]
  },
  {
   "cell_type": "code",
   "execution_count": 19,
   "metadata": {},
   "outputs": [
    {
     "data": {
      "text/plain": [
       "precisionGetter (generic function with 1 method)"
      ]
     },
     "execution_count": 19,
     "metadata": {},
     "output_type": "execute_result"
    }
   ],
   "source": [
    "# Algorithm: Find the precision for GAME on a particular dataset\n",
    "function precisionGetter(gameResults, injectedMotif, motifWidth, sequences)\n",
    "    bestPosition = 1\n",
    "    bestScore = 0\n",
    "    for i in 1:length(gameResults)\n",
    "        if(results[i][5] > bestScore)\n",
    "            bestScore = gameResults[i][5]\n",
    "            bestPosition = i\n",
    "        end\n",
    "    end\n",
    "    \n",
    "    startPositions = gameResults[bestPosition][4]\n",
    "    profile = GenerateMotifStrings(startPositions, motifWidth, sequences)\n",
    "    consensusString = ConsensusString(profile)\n",
    "    \n",
    "    precision = 0.0\n",
    "    for i in 1:length(consensusString)\n",
    "        if(consensusString[i] == injectedMotif[i])\n",
    "            precision += 1.0\n",
    "        end\n",
    "    end\n",
    "    precision = precision/(motifWidth*1.0)\n",
    "\n",
    "    return precision\n",
    "end"
   ]
  },
  {
   "cell_type": "markdown",
   "metadata": {},
   "source": [
    "Helper functions for Experimentation"
   ]
  },
  {
   "cell_type": "code",
   "execution_count": 20,
   "metadata": {},
   "outputs": [
    {
     "data": {
      "text/plain": [
       "injectMotif (generic function with 2 methods)"
      ]
     },
     "execution_count": 20,
     "metadata": {},
     "output_type": "execute_result"
    }
   ],
   "source": [
    "function injectMotif(singleSequence, motif, injectionSite, mutationRate=0.0) #Use for testing since we will know where motif is in this case\n",
    "  motifWidth = length(motif)\n",
    "  for i in 1:motifWidth\n",
    "        nucleotides = ['A', 'C', 'G', 'T']\n",
    "        if(rand(1)[1] <= mutationRate)\n",
    "            nucleotides_2 = []    #Holds all nucleotides that ARE NOT current nucleotide in motif\n",
    "            for j in 1:length(nucleotides)\n",
    "                if(nucleotides[j] != motif[i])\n",
    "                    push!(nucleotides_2, nucleotides[j])\n",
    "                end\n",
    "            end\n",
    "            \n",
    "            mutatedNucleotide = rand(nucleotides_2) #Randomly select nucleotide from array\n",
    "            \n",
    "            motif = motif[1:i-1] * mutatedNucleotide * motif[i+1:motifWidth] # Modify mutated nucleotide\n",
    "        end\n",
    "  end\n",
    "    \n",
    "    seqWithInjectedMotif = \"\"\n",
    "  if (injectionSite+motifWidth-1 <= length(singleSequence))  \n",
    "      seqWithInjectedMotif = singleSequence[1:injectionSite-1] * motif * singleSequence[injectionSite:length(singleSequence)] ### not allowed to edit strings like this\n",
    "  else\n",
    "    @warn \"Bad motif Injection site\"\n",
    "    @warn injectionSite+motifWidth-1, injectionSite, motifWidth, length(singleSequence)\n",
    "  end\n",
    "    \n",
    "  return seqWithInjectedMotif\n",
    "end"
   ]
  },
  {
   "cell_type": "markdown",
   "metadata": {},
   "source": [
    "GAME algorithm implementation"
   ]
  },
  {
   "cell_type": "code",
   "execution_count": 21,
   "metadata": {},
   "outputs": [
    {
     "data": {
      "text/plain": [
       "GAME (generic function with 6 methods)"
      ]
     },
     "execution_count": 21,
     "metadata": {},
     "output_type": "execute_result"
    }
   ],
   "source": [
    "# GAME Algorithm\n",
    "# Parameters: DNA sequences, mutation probability, max generation steps, population size, expected width of motif\n",
    "# Output: Max score of final population from the genetic component, Mean, Median, Optimal motif, Optimal motif score\n",
    "# Time Complexity: O(l*w^2*t^3)\n",
    "function GAME(initial_sequences=[],mutation_probability=0.001,max_gen=3000, population_size=50, motif_width=10)\n",
    "      # Initialize random sequences if not supplied as a parameter \n",
    "      if initial_sequences == []\n",
    "          initial_random_sequences = generate_random_sequences(number_of_sequences, sequence_length) \n",
    "      else\n",
    "          initial_random_sequences = initial_sequences\n",
    "      end    \n",
    "      seq = initial_random_sequences\n",
    "      sequence_length = length(seq[1])\n",
    "      number_of_sequences = length(seq)\n",
    "    \n",
    "      # Initialize a random popualtion\n",
    "      initial_random_population =  generate_random_initial_population(population_size, number_of_sequences, sequence_length, motif_width) \n",
    "\n",
    "      # Parameters for convergence and selection size\n",
    "      consecutiveSameAopt = 1\n",
    "      tournamentSize= 2\n",
    "    \n",
    "      # Lists are mutable objects in Julia and a copy must be made in order to preserve original data\n",
    "      initial_population = deepcopy(initial_random_population)\n",
    "\n",
    "      # Calculate a-priori background frequencies\n",
    "      theta0k = EstimateBackground(initial_random_sequences)\n",
    "     \n",
    "      # Variable initializations\n",
    "      i = 0\n",
    "      previousAopt = 0\n",
    "      Aopt = -1\n",
    "      Aopt_motif = []\n",
    "      maxScores = []\n",
    "      meanScores = []\n",
    "      medianScores = []\n",
    "      adjustShiftScoreArray = []\n",
    "\n",
    "      # (I) Genetic Part\n",
    "      # Iterate evolution until maximum generation is reached, or until optimal motif, Aopt fails to change much for 50 iterations (As defined in GAME paper)\n",
    "      while((i < max_gen) & (consecutiveSameAopt < 50)) #m (max number of generations)\n",
    "        mutated_population =  mutation(initial_population, mutation_probability, sequence_length, motif_width) \n",
    "        crossed_over_population = crossover(mutated_population)  #N*t (pop size * number of seq)\n",
    "        selected_population =  tournamentSelection(crossed_over_population, tournamentSize, initial_random_sequences, motif_width,theta0k) #N*t*w (pop size * number of seq * width of motif)\n",
    "        initial_population = selected_population\n",
    "        \n",
    "        # Choose scoring function and score the current generation\n",
    "        if BAYESIAN_SCORING\n",
    "            currentScores = map(motif -> Score(motif, initial_random_sequences, motif_width, theta0k), selected_population)\n",
    "        else\n",
    "            selected_population_strings = map(motif -> GenerateMotifStrings(motif, motif_width, initial_random_sequences), selected_population) #N*t*w (pop size * number of seq * width of motif)\n",
    "            currentScores = map(ConsensusScore, selected_population_strings) #t*w (number of seq * width of motif)\n",
    "        end\n",
    "        \n",
    "        # Compute and store common stasitical information\n",
    "        push!(maxScores, maximum(currentScores))\n",
    "        push!(meanScores, Statistics.mean(currentScores))\n",
    "        push!(medianScores, Statistics.median(currentScores))\n",
    "        \n",
    "        # Pick best motif profile from the current generation\n",
    "        Aopt = argmax(currentScores)\n",
    "\n",
    "        i+=1\n",
    "        \n",
    "        # Logic for conevrgence\n",
    "        if(currentScores[Aopt] == previousAopt)\n",
    "          consecutiveSameAopt+=1\n",
    "        else\n",
    "          consecutiveSameAopt=1\n",
    "        end\n",
    "        previousAopt = currentScores[Aopt]\n",
    "        Aopt_motif = selected_population[Aopt]\n",
    "      end\n",
    "     \n",
    "      # (II) Shift + Adjust Cycles to escape local optima\n",
    "      adjusted = -1\n",
    "      while(Aopt_motif != adjusted) \n",
    "            Aopt_motif = Adjust(Aopt_motif, seq, motif_width, sequence_length, number_of_sequences) \n",
    "            Aopt_motif = Shift(Aopt_motif,motif_width,seq)\n",
    "            adjusted = Aopt_motif\n",
    "      end\n",
    "    \n",
    "      # Choose a scoring function and score the optimal motif\n",
    "      if BAYESIAN_SCORING\n",
    "        Aopt_score = Score(Aopt_motif, initial_random_sequences, motif_width, theta0k)\n",
    "      else\n",
    "        Aopt_string = GenerateMotifStrings(Aopt_motif, motif_width, initial_random_sequences)  \n",
    "        Aopt_score =  ConsensusScore(Aopt_string) \n",
    "      end\n",
    "       \n",
    "    \n",
    "      return maxScores, medianScores, meanScores, Aopt_motif, Aopt_score\n",
    "end\n",
    "\n"
   ]
  },
  {
   "cell_type": "markdown",
   "metadata": {},
   "source": [
    "Tests"
   ]
  },
  {
   "cell_type": "markdown",
   "metadata": {},
   "source": [
    "Test for CRP data as described in Final report"
   ]
  },
  {
   "cell_type": "code",
   "execution_count": 22,
   "metadata": {},
   "outputs": [
    {
     "name": "stdout",
     "output_type": "stream",
     "text": [
      "Sequence 1: TAATGTTTGTGCTGGTTTTTGTGGCATCGGGCGAGAATAGCGCGTGGTGTGAAAGACTGTTTTTTTGATCGTTTTCACAAAAATGGAAGTCCACAGTCTTGAC\n",
      "Sequence 2: GACAAAAACGCGTAACAAAAGTGTCTATAATCACGGCAGAAAAGTCCACATTGATTATTTGCACGGCGTCACACTTTGGCTATGCCATAGCATTTTTATCCAT\n",
      "Sequence 3: ACAAATCCCAATAACTTAATATGGGATTTGTTATATATAACTTTATAAATTCCTAAAATTACACAAAGTTAATAACTGTGAGCATGGTCATATTTTTATCAAT\n",
      "Sequence 4: CACAAAGCGAAAGCTATGCTAAAACAGTCAGGATGCTACAGTAATACATTGATGTACTGCATGTATGCAAAGGACGTCACATTACCGTGCAGTACAGTTGATA\n",
      "Sequence 5: ACGGTGCTACACTTGTATGTAGCGCATCTTTCTTTACGGTCAATCAGCATGGTGTTAAATTGATCACGTTTTAGACCATTTTTTCGTCGTGAAACTAAAAAAA\n",
      "Sequence 6: AGTGAATTATTTGAACCAGATCGCATTACAGTGATGCAAACTTGTAAGTAGATTTCCTTAATTGTGATGTGTATCGAAGTGTGTTGCGGAGTAGATGTTAGAA\n",
      "Sequence 7: GCGCATAAAAAACGGCTAAATTCTTGTGTAAACGATCCACTAATTTATTCCATGTCACACTTTTCGCATCTTTGTTATGCTATGGTTATTTCATACCATAAGC\n",
      "Sequence 8: GCTCCGGCGGGGTTTTTTGTTATCTGCAATTCAGTACAAAACGTGATCAACCCCTCAATTTTCCCTTTGCTGAAAAATTTTCCATTGTCTCCCCTGTAAAGCT\n",
      "Sequence 9: AACGCAATTAATGTGAGTTAGCTCACTCATTAGGCACCCCAGGCTTTACACTTTATGCTTCCGGCTCGTATGTTGTGTGGAATTGTGAGCGGATAACAATTTC\n",
      "Sequence 10: ACATTACCGCCAATTCTGTAACAGAGATCACACAAAGCGACGGTGGGGCGTAGGGGCAAGGAGGATGGAAAGAGGTTGCCGTATAAAGAAACTAGAGTCCGTT\n",
      "Sequence 11: GGAGGAGGCGGGAGGATGAGAACACGGCTTCTGTGAACTAAACCGAGGTCATGTAAGGAATTTCGTGATGTTGCTTGCAAAAATCGTGGCGATTTTATGTGCG\n",
      "Sequence 12: GATCAGCGTCGTTTTAGGTGAGTTGTTAATAAAGATTTGGAATTGTGACACAGTGCAAATTCAGACACATAAAAAAACGTCATCGCTTGCATTAGAAAGGTTT\n",
      "Sequence 13: GCTGACAAAAAAGATTAAACATACCTTATACAAGACTTTTTTTTCATATGCCTGACGGAGTTCACACTTGTAAGTTTTCAACTACGTTGTAGACTTTACATCG\n",
      "Sequence 14: TTTTTTAAACATTAAAATTCTTACGTAATTTATAATCTTTAAAAAAAGCATTTAATATTGCTCCCCGAACGATTGTGATTCGATTCACATTTAAACAATTTCA\n",
      "Sequence 15: CCCATGAGAGTGAAATTGTTGTGATGTGGTTAACCCAATTAGAATTCGGGATTGACATGTCTTACCAAAAGGTAGAACTTATACGCCATCTCATCCGATGCAA\n",
      "Sequence 16: CTGGCTTAACTATGCGGCATCAGAGCAGATTGTACTGAGAGTGCACCATATGCGGTGTGAAATACCGCACAGATGCGTAAGGAGAAAATACCGCATCAGGCGC\n",
      "Sequence 17: CTGTGACGGAAGATCACATCGCAGAATAAATAAATCCTGGTGTCCCTGTTGATACCGGGAAGCCCTGGGCCAACTTTTGGCGAAAATGAGACGTTGATCGGCA\n",
      "Sequence 18: GATTTTTATACTTTAACTTGTTGATATTTAAAGGTATTTAATTGTAATAACGATACTCTGGAAAGTATTGAAAGTTAATTTGTGAGTGGTCGCACATATCCTG\n"
     ]
    }
   ],
   "source": [
    "# Read the seqeunces from the CRP Fasta file\n",
    "sequences = []\n",
    "open(\"CRP_TF_seq.fasta\") do file\n",
    "    i = 0\n",
    "    for ln in eachline(file)\n",
    "        i += 1 \n",
    "        if i % 2 == 0\n",
    "            println( \"Sequence \", (i // 2).num, \": \", \"$(ln)\")\n",
    "            push!(sequences, strip(ln))\n",
    "        end\n",
    "    end\n",
    "end\n"
   ]
  },
  {
   "cell_type": "code",
   "execution_count": 23,
   "metadata": {},
   "outputs": [
    {
     "name": "stdout",
     "output_type": "stream",
     "text": [
      "  5.968905 seconds (38.00 M allocations: 3.185 GiB, 7.41% gc time)\n"
     ]
    },
    {
     "data": {
      "text/plain": [
       "(Any[134, 134, 136, 136, 136, 136, 136, 138, 138, 139  …  170, 170, 170, 170, 170, 170, 170, 170, 170, 170], Any[117.0, 119.0, 121.0, 122.0, 124.0, 125.0, 126.0, 127.0, 128.0, 129.0  …  170.0, 170.0, 170.0, 170.0, 170.0, 170.0, 170.0, 170.0, 170.0, 170.0], Any[116.984, 119.13, 121.04, 122.64, 124.078, 125.382, 126.458, 127.398, 128.186, 129.246  …  169.996, 170.0, 169.994, 170.0, 170.0, 169.988, 170.0, 170.0, 169.992, 170.0], [2, 40, 39, 38, 49, 38, 10, 74, 72, 62, 57, 32, 64, 7, 5, 19, 83, 7], 186)"
      ]
     },
     "execution_count": 23,
     "metadata": {},
     "output_type": "execute_result"
    }
   ],
   "source": [
    "# Use Consensus Scoring\n",
    "BAYESIAN_SCORING = false\n",
    "# Run GAME with the default parameters as given in the paper and expected motif width\n",
    "@time GAME(sequences,0.001,3000, 500, 16)"
   ]
  },
  {
   "cell_type": "code",
   "execution_count": 24,
   "metadata": {},
   "outputs": [
    {
     "data": {
      "text/plain": [
       "\"AAAATTTTAAATTGTT\""
      ]
     },
     "execution_count": 24,
     "metadata": {},
     "output_type": "execute_result"
    }
   ],
   "source": [
    "q1 = GenerateMotifStrings([2, 40, 39, 38, 49, 38, 10, 74, 72, 62, 57, 32, 64, 7, 5, 19, 83, 7], 16, sequences)\n",
    " ConsensusString(q1)"
   ]
  },
  {
   "cell_type": "code",
   "execution_count": 1,
   "metadata": {},
   "outputs": [
    {
     "data": {
      "text/plain": [
       "generate_challenges (generic function with 1 method)"
      ]
     },
     "execution_count": 1,
     "metadata": {},
     "output_type": "execute_result"
    }
   ],
   "source": [
    "# Algorithm: generate challenges described in the report\n",
    "function generate_challenges(number_of_sequences, sequence_length, motif_length, m, mode)\n",
    "    sequences = generate_random_sequences(number_of_sequences, sequence_length)\n",
    "    motif_to_inject = generate_random_motif(motif_length)\n",
    "    injected_sequences = []\n",
    "    inject_positions = \"\"\n",
    "    println(sequences)\n",
    "    for sequence in sequences\n",
    "        position = rand(2:sequence_length-motif_length+1)\n",
    "        inject_positions *=  string(position) * \",\"\n",
    "        push!(injected_sequences, injectMotif(sequence, motif_to_inject, position, m))\n",
    "    end\n",
    "    return injected_sequences, inject_positions\n",
    "end"
   ]
  },
  {
   "cell_type": "code",
   "execution_count": 2,
   "metadata": {},
   "outputs": [],
   "source": [
    "# Challenges generated separately using above function"
   ]
  },
  {
   "cell_type": "markdown",
   "metadata": {},
   "source": [
    "Tests for running time and precision"
   ]
  },
  {
   "cell_type": "markdown",
   "metadata": {},
   "source": [
    "Easy Challenge with 100% Motif Conservation"
   ]
  },
  {
   "cell_type": "code",
   "execution_count": 33,
   "metadata": {},
   "outputs": [
    {
     "name": "stdout",
     "output_type": "stream",
     "text": [
      "Aopt1\n"
     ]
    },
    {
     "name": "stderr",
     "output_type": "stream",
     "text": [
      "┌ Info: Genetic screen finished...\n",
      "└ @ Main In[14]:63\n",
      "┌ Info: (\"Aopt_motif\", Any[35, 50, 17, 2, 41, 46, 49, 25, 14, 6, 22, 19, 5, 9, 38, 8, 6, 17, 8, 5])\n",
      "└ @ Main In[14]:64\n"
     ]
    },
    {
     "name": "stdout",
     "output_type": "stream",
     "text": [
      "Aopt1\n"
     ]
    },
    {
     "name": "stderr",
     "output_type": "stream",
     "text": [
      "┌ Info: Genetic screen finished...\n",
      "└ @ Main In[14]:63\n",
      "┌ Info: (\"Aopt_motif\", Any[35, 50, 17, 2, 41, 40, 49, 25, 14, 31, 22, 39, 5, 9, 38, 8, 6, 17, 9, 5])\n",
      "└ @ Main In[14]:64\n"
     ]
    },
    {
     "name": "stdout",
     "output_type": "stream",
     "text": [
      "Aopt1\n"
     ]
    },
    {
     "name": "stderr",
     "output_type": "stream",
     "text": [
      "┌ Info: Genetic screen finished...\n",
      "└ @ Main In[14]:63\n",
      "┌ Info: (\"Aopt_motif\", Any[34, 49, 16, 1, 40, 45, 46, 24, 13, 5, 21, 38, 4, 8, 37, 8, 5, 16, 5, 4])\n",
      "└ @ Main In[14]:64\n"
     ]
    },
    {
     "name": "stdout",
     "output_type": "stream",
     "text": [
      "Aopt1\n"
     ]
    },
    {
     "name": "stderr",
     "output_type": "stream",
     "text": [
      "┌ Info: Genetic screen finished...\n",
      "└ @ Main In[14]:63\n",
      "┌ Info: (\"Aopt_motif\", Any[33, 48, 15, 1, 39, 44, 47, 23, 12, 4, 20, 37, 3, 7, 36, 6, 4, 15, 6, 3])\n",
      "└ @ Main In[14]:64\n"
     ]
    },
    {
     "name": "stdout",
     "output_type": "stream",
     "text": [
      "Aopt1\n"
     ]
    },
    {
     "name": "stderr",
     "output_type": "stream",
     "text": [
      "┌ Info: Genetic screen finished...\n",
      "└ @ Main In[14]:63\n",
      "┌ Info: (\"Aopt_motif\", Any[34, 49, 16, 1, 40, 39, 48, 24, 14, 5, 21, 37, 6, 25, 37, 7, 5, 16, 7, 4])\n",
      "└ @ Main In[14]:64\n"
     ]
    },
    {
     "name": "stdout",
     "output_type": "stream",
     "text": [
      "Aopt1\n"
     ]
    },
    {
     "name": "stderr",
     "output_type": "stream",
     "text": [
      "┌ Info: Genetic screen finished...\n",
      "└ @ Main In[14]:63\n",
      "┌ Info: (\"Aopt_motif\", Any[36, 51, 18, 3, 42, 47, 50, 26, 15, 7, 23, 40, 6, 10, 39, 9, 7, 18, 9, 22])\n",
      "└ @ Main In[14]:64\n"
     ]
    },
    {
     "name": "stdout",
     "output_type": "stream",
     "text": [
      "Aopt1\n"
     ]
    },
    {
     "name": "stderr",
     "output_type": "stream",
     "text": [
      "┌ Info: Genetic screen finished...\n",
      "└ @ Main In[14]:63\n",
      "┌ Info: (\"Aopt_motif\", Any[34, 49, 16, 1, 40, 45, 48, 24, 13, 5, 21, 38, 4, 8, 37, 7, 5, 16, 7, 4])\n",
      "└ @ Main In[14]:64\n"
     ]
    },
    {
     "name": "stdout",
     "output_type": "stream",
     "text": [
      "Aopt1\n"
     ]
    },
    {
     "name": "stderr",
     "output_type": "stream",
     "text": [
      "┌ Info: Genetic screen finished...\n",
      "└ @ Main In[14]:63\n",
      "┌ Info: (\"Aopt_motif\", Any[37, 33, 19, 4, 43, 48, 35, 27, 16, 8, 24, 41, 7, 11, 46, 10, 8, 19, 10, 7])\n",
      "└ @ Main In[14]:64\n"
     ]
    },
    {
     "name": "stdout",
     "output_type": "stream",
     "text": [
      "Aopt1\n"
     ]
    },
    {
     "name": "stderr",
     "output_type": "stream",
     "text": [
      "┌ Info: Genetic screen finished...\n",
      "└ @ Main In[14]:63\n",
      "┌ Info: (\"Aopt_motif\", Any[34, 49, 16, 1, 40, 45, 45, 24, 13, 5, 21, 38, 4, 8, 37, 7, 3, 16, 7, 4])\n",
      "└ @ Main In[14]:64\n"
     ]
    },
    {
     "name": "stdout",
     "output_type": "stream",
     "text": [
      "Aopt1\n",
      "397.8\n"
     ]
    },
    {
     "name": "stderr",
     "output_type": "stream",
     "text": [
      "┌ Info: Genetic screen finished...\n",
      "└ @ Main In[14]:63\n",
      "┌ Info: (\"Aopt_motif\", Any[36, 51, 18, 3, 42, 47, 50, 26, 15, 6, 23, 40, 6, 9, 39, 9, 7, 18, 9, 6])\n",
      "└ @ Main In[14]:64\n"
     ]
    },
    {
     "data": {
      "text/plain": [
       "10-element Array{Any,1}:\n",
       " 400\n",
       " 400\n",
       " 400\n",
       " 390\n",
       " 400\n",
       " 400\n",
       " 400\n",
       " 388\n",
       " 400\n",
       " 400"
      ]
     },
     "execution_count": 33,
     "metadata": {},
     "output_type": "execute_result"
    }
   ],
   "source": [
    "easy_sequences = []\n",
    "open(\"Final Generated Fasta Files/Easy GGATAAAAATAAAAGCGGAT-35,50,17,2,41,46,49,25,14,6,22,39,5,9,38,8,6,17,8,5,.fasta\") do file\n",
    "    i = 0\n",
    "    for ln in eachline(file)\n",
    "        i += 1 \n",
    "        if i % 2 == 0\n",
    "            push!(easy_sequences, strip(ln))\n",
    "        end\n",
    "    end\n",
    "end\n",
    "BAYESIAN_SCORING = false\n",
    "\n",
    "results = []\n",
    "scores = []\n",
    "times = []\n",
    "for i in 1:10\n",
    "    (result, t) = @timed GAME(easy_sequences,0.001,3000, 500, 20)\n",
    "    push!(times, t)\n",
    "    push!(results, result)\n",
    "    push!(scores, result[5])\n",
    "end\n",
    "precision = precisionGetter(results, \"CGCTCTCCAGCTCGTAGCTC\", 20, easy_noisy_sequences)\n",
    "println(\"Precision:\\t\", precision)\n",
    "println(\"Average Score:\\t\", Statistics.mean(scores))\n",
    "scores"
   ]
  },
  {
   "cell_type": "code",
   "execution_count": 34,
   "metadata": {},
   "outputs": [
    {
     "data": {
      "text/plain": [
       "10-element Array{Any,1}:\n",
       " 10.678517272\n",
       "  6.833263487\n",
       "  4.029564223\n",
       "  7.632428968\n",
       "  6.489044327\n",
       "  6.260295558\n",
       "  4.16709661 \n",
       "  8.116985373\n",
       "  5.104873432\n",
       "  5.320168108"
      ]
     },
     "execution_count": 34,
     "metadata": {},
     "output_type": "execute_result"
    }
   ],
   "source": [
    "times"
   ]
  },
  {
   "cell_type": "code",
   "execution_count": 35,
   "metadata": {},
   "outputs": [
    {
     "data": {
      "text/plain": [
       "6.4632237358"
      ]
     },
     "execution_count": 35,
     "metadata": {},
     "output_type": "execute_result"
    }
   ],
   "source": [
    "Statistics.mean(times)"
   ]
  },
  {
   "cell_type": "markdown",
   "metadata": {},
   "source": [
    "Easy Challenge with 70% Motif Conservation"
   ]
  },
  {
   "cell_type": "code",
   "execution_count": 36,
   "metadata": {},
   "outputs": [
    {
     "name": "stdout",
     "output_type": "stream",
     "text": [
      "Aopt1\n"
     ]
    },
    {
     "name": "stderr",
     "output_type": "stream",
     "text": [
      "┌ Info: Genetic screen finished...\n",
      "└ @ Main In[14]:63\n",
      "┌ Info: (\"Aopt_motif\", Any[5, 6, 11, 41, 40, 11, 13, 39, 43, 42, 17, 20, 33, 42, 4, 11, 20, 36, 30, 38])\n",
      "└ @ Main In[14]:64\n"
     ]
    },
    {
     "name": "stdout",
     "output_type": "stream",
     "text": [
      "Aopt1\n"
     ]
    },
    {
     "name": "stderr",
     "output_type": "stream",
     "text": [
      "┌ Info: Genetic screen finished...\n",
      "└ @ Main In[14]:63\n",
      "┌ Info: (\"Aopt_motif\", Any[7, 8, 13, 43, 2, 3, 15, 41, 45, 44, 19, 22, 35, 37, 6, 43, 22, 1, 32, 40])\n",
      "└ @ Main In[14]:64\n"
     ]
    },
    {
     "name": "stdout",
     "output_type": "stream",
     "text": [
      "Aopt1\n"
     ]
    },
    {
     "name": "stderr",
     "output_type": "stream",
     "text": [
      "┌ Info: Genetic screen finished...\n",
      "└ @ Main In[14]:63\n",
      "┌ Info: (\"Aopt_motif\", Any[11, 2, 17, 37, 41, 7, 9, 27, 42, 48, 13, 26, 29, 38, 10, 7, 28, 32, 26, 37])\n",
      "└ @ Main In[14]:64\n"
     ]
    },
    {
     "name": "stdout",
     "output_type": "stream",
     "text": [
      "Aopt1\n"
     ]
    },
    {
     "name": "stderr",
     "output_type": "stream",
     "text": [
      "┌ Info: Genetic screen finished...\n",
      "└ @ Main In[14]:63\n",
      "┌ Info: (\"Aopt_motif\", Any[3, 34, 21, 39, 38, 9, 11, 39, 49, 40, 15, 10, 31, 48, 6, 43, 33, 19, 28, 36])\n",
      "└ @ Main In[14]:64\n"
     ]
    },
    {
     "name": "stdout",
     "output_type": "stream",
     "text": [
      "Aopt1\n"
     ]
    },
    {
     "name": "stderr",
     "output_type": "stream",
     "text": [
      "┌ Info: Genetic screen finished...\n",
      "└ @ Main In[14]:63\n",
      "┌ Info: (\"Aopt_motif\", Any[47, 4, 9, 39, 28, 9, 11, 37, 41, 40, 15, 28, 31, 40, 2, 9, 18, 34, 28, 36])\n",
      "└ @ Main In[14]:64\n"
     ]
    },
    {
     "name": "stdout",
     "output_type": "stream",
     "text": [
      "Aopt1\n"
     ]
    },
    {
     "name": "stderr",
     "output_type": "stream",
     "text": [
      "┌ Info: Genetic screen finished...\n",
      "└ @ Main In[14]:63\n",
      "┌ Info: (\"Aopt_motif\", Any[29, 13, 30, 29, 7, 48, 20, 46, 16, 49, 45, 41, 40, 49, 11, 15, 13, 33, 37, 45])\n",
      "└ @ Main In[14]:64\n"
     ]
    },
    {
     "name": "stdout",
     "output_type": "stream",
     "text": [
      "Aopt1\n"
     ]
    },
    {
     "name": "stderr",
     "output_type": "stream",
     "text": [
      "┌ Info: Genetic screen finished...\n",
      "└ @ Main In[14]:63\n",
      "┌ Info: (\"Aopt_motif\", Any[17, 15, 17, 35, 45, 17, 22, 48, 29, 51, 26, 11, 42, 15, 13, 42, 29, 21, 39, 47])\n",
      "└ @ Main In[14]:64\n"
     ]
    },
    {
     "name": "stdout",
     "output_type": "stream",
     "text": [
      "Aopt1\n"
     ]
    },
    {
     "name": "stderr",
     "output_type": "stream",
     "text": [
      "┌ Info: Genetic screen finished...\n",
      "└ @ Main In[14]:63\n",
      "┌ Info: (\"Aopt_motif\", Any[6, 22, 12, 42, 20, 12, 14, 40, 44, 43, 18, 21, 34, 43, 5, 42, 36, 31, 6, 39])\n",
      "└ @ Main In[14]:64\n",
      "┌ Info: Genetic screen finished...\n",
      "└ @ Main In[14]:63\n",
      "┌ Info: (\"Aopt_motif\", Any[1, 34, 14, 47, 13, 14, 40, 4, 14, 48, 3, 8, 39, 31, 36, 27, 18, 46, 36, 16])\n",
      "└ @ Main In[14]:64\n"
     ]
    },
    {
     "name": "stdout",
     "output_type": "stream",
     "text": [
      "Aopt1\n",
      "Aopt1\n",
      "Any[("
     ]
    },
    {
     "name": "stderr",
     "output_type": "stream",
     "text": [
      "┌ Info: Genetic screen finished...\n",
      "└ @ Main In[14]:63\n",
      "┌ Info: (\"Aopt_motif\", Any[9, 25, 8, 45, 4, 5, 17, 43, 47, 46, 21, 24, 37, 39, 1, 4, 24, 3, 34, 42])\n",
      "└ @ Main In[14]:64\n"
     ]
    },
    {
     "name": "stdout",
     "output_type": "stream",
     "text": [
      "Any[166, 166, 169, 170, 176, 176, 176, 176, 176, 176, 177, 179, 179, 179, 183, 184, 184, 184, 188, 188, 190, 191, 197, 197, 197, 197, 200, 200, 202, 202, 203, 204, 206, 207, 207, 207, 208, 208, 210, 210, 210, 210, 212, 213, 213, 213, 214, 214, 214, 214, 215, 216, 216, 216, 216, 216, 216, 218, 218, 218, 220, 220, 222, 222, 222, 222, 222, 223, 223, 223, 223, 223, 223, 223, 223, 225, 225, 225, 225, 225, 225, 225, 225, 225, 225, 225, 225, 225, 225, 225, 225, 225, 225, 225, 225, 225, 225, 225, 225, 225, 225, 225, 225, 225, 225, 225, 226, 226, 226, 226, 226, 226, 226, 226, 226, 226, 226, 226, 226, 226, 226, 226, 226, 226, 226, 226, 228, 228, 228, 230, 230, 230, 230, 230, 232, 232, 232, 232, 233, 233, 233, 233, 233, 233, 233, 234, 234, 234, 234, 234, 234, 235, 235, 235, 235, 235, 235, 235, 235, 235, 235, 235, 235, 235, 235, 235, 235, 235, 235, 235, 235, 235, 235, 235, 235, 235, 235, 235, 235, 235, 235, 235, 235, 236, 236, 236, 236, 236, 236, 236, 236, 236, 236, 236, 236, 238, 238, 238, 238, 238, 238, 238, 238, 238, 238, 238, 238, 238, 238, 238, 238, 238, 239, 239, 239, 239, 239, 239, 239, 239, 239, 239, 239, 239, 239, 239, 239, 239, 239, 239, 239, 239, 239, 239, 239, 239, 239, 239, 239, 239, 239, 239, 239, 239, 239, 239, 239, 242, 242, 242, 242, 242, 242, 242, 242, 242, 242, 242, 242, 242, 242, 242, 242, 242, 242, 242, 242, 242, 242, 242, 242, 242, 242, 242, 242, 242, 242, 242, 242, 242, 242, 242, 242, 242, 242, 242, 242, 244, 244, 244, 244, 244, 244, 244, 244, 244, 244, 245, 245, 245, 245, 245, 245, 245, 245, 245, 246, 246, 246, 246, 246, 246, 246, 246, 246, 246, 246, 246, 247, 247, 247, 247, 247, 247, 247, 247, 247, 247, 247, 247, 247, 247, 247, 248, 248, 248, 248, 248, 248, 248, 248, 248, 248, 248, 248, 248, 248, 248, 248, 248, 248, 248, 248, 248, 248, 248, 248, 248, 248, 248, 248, 248, 248, 248, 248, 248, 248, 248, 248, 248, 248, 248, 248, 248, 248, 248, 248, 253, 253, 253, 253, 253, 253, 253, 253, 253, 253, 253, 253, 253, 253, 254, 254, 254, 254, 254, 254, 254, 254, 254, 254, 254, 254, 254, 254, 254, 254, 254, 254, 254, 254, 254, 254, 254, 254, 254, 254, 254, 254, 254, 254, 254, 254, 254, 254, 254, 254, 254, 254, 254, 254, 254, 254, 254, 254, 254, 254, 254, 254, 254, 254], Any[151.0, 154.0, 155.0, 157.0, 158.0, 160.0, 161.0, 163.0, 164.0, 165.0, 166.0, 167.0, 169.0, 170.0, 171.0, 172.0, 173.0, 174.0, 175.0, 176.0, 177.0, 178.0, 180.0, 182.0, 183.0, 185.0, 187.0, 189.0, 191.0, 193.0, 195.0, 197.0, 198.0, 200.0, 201.0, 202.0, 203.0, 203.0, 204.0, 205.0, 206.0, 206.0, 207.0, 207.0, 208.0, 208.0, 209.0, 210.0, 211.0, 212.0, 213.0, 213.0, 213.0, 213.0, 214.0, 214.0, 214.0, 215.0, 215.0, 216.0, 216.0, 216.0, 216.0, 217.0, 218.0, 218.0, 218.0, 219.0, 220.0, 222.0, 222.0, 222.0, 222.0, 223.0, 223.0, 223.0, 223.0, 223.0, 223.0, 223.0, 223.0, 223.0, 223.0, 223.0, 225.0, 225.0, 225.0, 225.0, 225.0, 225.0, 225.0, 225.0, 225.0, 225.0, 225.0, 225.0, 225.0, 225.0, 225.0, 225.0, 225.0, 225.0, 225.0, 225.0, 225.0, 225.0, 225.0, 225.0, 225.0, 225.0, 225.0, 225.0, 225.0, 225.0, 226.0, 226.0, 226.0, 226.0, 226.0, 226.0, 226.0, 226.0, 226.0, 226.0, 226.0, 226.0, 226.0, 226.0, 226.0, 226.0, 226.0, 226.0, 226.0, 226.0, 228.0, 228.0, 228.0, 230.0, 230.0, 232.0, 232.0, 232.0, 232.0, 232.0, 232.0, 232.0, 233.0, 233.0, 233.0, 233.0, 233.0, 233.0, 234.0, 234.0, 234.0, 234.0, 234.0, 235.0, 235.0, 235.0, 235.0, 235.0, 235.0, 235.0, 235.0, 235.0, 235.0, 235.0, 235.0, 235.0, 235.0, 235.0, 235.0, 235.0, 235.0, 235.0, 235.0, 235.0, 235.0, 235.0, 235.0, 235.0, 235.0, 235.0, 235.0, 235.0, 235.0, 235.0, 235.0, 235.0, 235.0, 236.0, 236.0, 236.0, 236.0, 236.0, 236.0, 236.0, 236.0, 236.0, 236.0, 236.0, 236.0, 238.0, 238.0, 238.0, 238.0, 238.0, 238.0, 238.0, 238.0, 238.0, 238.0, 238.0, 238.0, 238.0, 238.0, 238.0, 238.0, 238.0, 239.0, 239.0, 239.0, 239.0, 239.0, 239.0, 239.0, 239.0, 239.0, 239.0, 239.0, 239.0, 239.0, 239.0, 239.0, 239.0, 239.0, 239.0, 239.0, 239.0, 239.0, 239.0, 239.0, 239.0, 239.0, 239.0, 239.0, 239.0, 239.0, 239.0, 239.0, 239.0, 239.0, 239.0, 239.0, 242.0, 242.0, 242.0, 242.0, 242.0, 242.0, 242.0, 242.0, 242.0, 242.0, 242.0, 242.0, 242.0, 242.0, 242.0, 242.0, 242.0, 242.0, 242.0, 242.0, 242.0, 242.0, 242.0, 242.0, 242.0, 242.0, 242.0, 242.0, 242.0, 242.0, 242.0, 242.0, 242.0, 242.0, 242.0, 242.0, 242.0, 242.0, 242.0, 242.0, 244.0, 244.0, 244.0, 244.0, 244.0, 244.0, 244.0, 244.0, 244.0, 244.0, 244.0, 245.0, 245.0, 245.0, 245.0, 245.0, 245.0, 245.0, 246.0, 246.0, 246.0, 246.0, 246.0, 246.0, 246.0, 246.0, 246.0, 246.0, 246.0, 246.0, 246.0, 247.0, 247.0, 247.0, 247.0, 247.0, 247.0, 247.0, 247.0, 247.0, 247.0, 247.0, 247.0, 247.0, 247.0, 247.0, 248.0, 248.0, 248.0, 248.0, 248.0, 248.0, 248.0, 248.0, 248.0, 248.0, 248.0, 248.0, 248.0, 248.0, 248.0, 248.0, 248.0, 248.0, 248.0, 248.0, 248.0, 248.0, 248.0, 248.0, 248.0, 248.0, 248.0, 248.0, 248.0, 248.0, 248.0, 248.0, 248.0, 248.0, 248.0, 248.0, 248.0, 248.0, 248.0, 248.0, 248.0, 248.0, 248.0, 248.0, 253.0, 253.0, 253.0, 253.0, 253.0, 253.0, 253.0, 253.0, 253.0, 253.0, 253.0, 253.0, 253.0, 253.0, 254.0, 254.0, 254.0, 254.0, 254.0, 254.0, 254.0, 254.0, 254.0, 254.0, 254.0, 254.0, 254.0, 254.0, 254.0, 254.0, 254.0, 254.0, 254.0, 254.0, 254.0, 254.0, 254.0, 254.0, 254.0, 254.0, 254.0, 254.0, 254.0, 254.0, 254.0, 254.0, 254.0, 254.0, 254.0, 254.0, 254.0, 254.0, 254.0, 254.0, 254.0, 254.0], Any[151.376, 153.742, 155.652, 157.072, 158.558, 160.224, 161.292, 162.824, 164.036, 165.418, 166.39, 167.334, 168.522, 169.41, 170.29, 171.454, 172.282, 173.378, 174.552, 175.692, 176.89, 178.338, 179.836, 181.588, 183.566, 185.364, 187.286, 189.254, 191.422, 193.354, 195.156, 196.84, 198.394, 199.816, 200.904, 201.906, 202.74, 203.464, 204.238, 204.852, 205.578, 206.282, 206.85, 207.404, 207.98, 208.508, 209.198, 210.018, 210.866, 211.75, 212.458, 212.964, 213.254, 213.542, 213.864, 214.196, 214.468, 214.814, 215.27, 215.694, 216.04, 216.298, 216.594, 217.034, 217.592, 218.198, 218.782, 219.412, 220.234, 221.042, 221.728, 222.088, 222.298, 222.528, 222.782, 222.948, 223.01, 223.024, 223.048, 223.092, 223.176, 223.34, 223.608, 223.972, 224.388, 224.81, 224.982, 225.0, 225.0, 225.0, 225.0, 225.0, 224.992, 225.0, 225.0, 225.0, 225.0, 225.0, 225.0, 225.0, 225.0, 225.0, 225.0, 225.0, 225.0, 225.0, 225.004, 225.004, 225.016, 225.028, 225.062, 225.104, 225.218, 225.378, 225.61, 225.85, 225.966, 225.998, 226.0, 225.98, 226.0, 226.0, 226.0, 225.99, 225.992, 226.0, 226.008, 226.008, 226.032, 226.08, 226.144, 226.288, 226.54, 226.936, 227.48, 228.16, 228.944, 229.844, 230.712, 231.462, 231.838, 232.02, 232.056, 232.11, 232.208, 232.374, 232.624, 232.892, 233.048, 233.148, 233.29, 233.494, 233.724, 233.942, 234.072, 234.174, 234.328, 234.522, 234.74, 234.904, 234.988, 235.0, 235.0, 235.0, 235.0, 235.0, 235.0, 235.0, 235.0, 235.0, 235.0, 235.0, 235.0, 235.0, 235.0, 235.0, 235.0, 235.0, 235.0, 235.0, 235.0, 235.0, 235.0, 235.0, 235.008, 235.016, 235.032, 235.064, 235.126, 235.216, 235.398, 235.634, 235.838, 235.964, 235.996, 236.008, 236.016, 236.032, 236.064, 236.128, 236.244, 236.452, 236.79, 237.276, 237.712, 237.942, 237.986, 238.0, 238.0, 238.0, 238.0, 238.0, 238.004, 238.008, 238.016, 238.032, 238.06, 238.114, 238.198, 238.354, 238.54, 238.792, 238.934, 239.0, 238.982, 239.0, 238.994, 239.0, 239.0, 238.986, 239.0, 238.984, 239.0, 239.0, 239.0, 239.0, 239.0, 239.0, 239.0, 239.0, 239.0, 239.0, 238.988, 238.996, 239.0, 239.0, 239.0, 239.012, 239.024, 239.048, 239.084, 239.192, 239.36, 239.684, 240.152, 240.806, 241.55, 241.898, 241.994, 242.0, 242.0, 242.0, 242.0, 242.0, 242.0, 242.0, 242.0, 242.0, 242.0, 242.0, 241.99, 242.0, 242.0, 241.992, 241.986, 242.0, 242.0, 242.0, 242.0, 242.0, 242.0, 242.0, 242.0, 242.0, 242.0, 242.0, 242.0, 242.008, 242.016, 242.032, 242.064, 242.12, 242.216, 242.408, 242.708, 243.144, 243.588, 243.936, 244.0, 244.008, 244.016, 244.028, 244.054, 244.104, 244.198, 244.346, 244.57, 244.812, 244.984, 245.056, 245.12, 245.226, 245.39, 245.61, 245.832, 245.966, 246.0, 245.986, 246.004, 246.008, 246.016, 246.03, 246.06, 246.118, 246.216, 246.376, 246.6, 246.82, 246.958, 246.996, 247.0, 247.0, 247.0, 247.004, 247.008, 247.016, 247.03, 247.054, 247.106, 247.2, 247.338, 247.552, 247.784, 247.938, 247.992, 247.998, 248.0, 248.0, 248.0, 248.0, 248.0, 248.0, 248.0, 248.0, 248.0, 248.0, 248.0, 248.0, 247.962, 248.0, 248.0, 248.0, 248.0, 248.0, 248.0, 247.986, 247.994, 248.0, 248.0, 248.0, 248.0, 247.988, 248.0, 248.0, 248.0, 248.0, 247.99, 248.02, 248.028, 248.08, 248.16, 248.32, 248.61, 249.16, 249.982, 251.146, 252.242, 252.87, 253.0, 253.0, 253.0, 253.004, 253.008, 253.016, 253.032, 253.062, 253.124, 253.226, 253.388, 253.62, 253.834, 253.956, 253.974, 254.0, 254.0, 254.0, 254.0, 254.0, 253.99, 254.0, 254.0, 254.0, 254.0, 254.0, 254.0, 254.0, 254.0, 254.0, 254.0, 253.988, 254.0, 254.0, 254.0, 254.0, 254.0, 254.0, 253.988, 254.0, 254.0, 254.0, 254.0, 253.984, 254.0, 254.0, 254.0, 254.0, 253.988, 254.0, 254.0, 254.0, 254.0], "
     ]
    },
    {
     "name": "stdout",
     "output_type": "stream",
     "text": [
      "[8, 9, 14, 44, 43, 14, 16, 42, 46, 45, 20, 23, 36, 45, 7, 14, 23, 39, 33, 41], 260), (Any[166, 168, 168, 169, 171, 171, 171, 174, 174, 175, 176, 182, 182, 182, 182, 182, 182, 184, 189, 189, 189, 189, 189, 193, 193, 193, 194, 194, 194, 197, 202, 202, 202, 207, 207, 210, 210, 213, 213, 214, 214, 219, 219, 220, 220, 221, 224, 224, 225, 228, 228, 228, 228, 228, 228, 228, 229, 229, 229, 229, 229, 229, 229, 230, 232, 232, 232, 232, 236, 236, 236, 236, 236, 236, 237, 237, 237, 237, 237, 239, 239, 239, 239, 241, 241, 242, 242, 243, 243, 245, 246, 246, 248, 249, 249, 251, 252, 252, 252, 252, 252, 253, 257, 257, 257, 257, 257, 258, 258, 258, 258, 258, 258, 258, 258, 258, 258, 258, 258, 258, 258, 258, 258, 258, 258, 258, 258, 258, 258, 258, 258, 259, 259, 259, 259, 259, 259, 259, 259, 259, 259, 259, 259, 259, 259, 259, 259, 259, 259, 259, 259, 259, 259, 259, 260, 260, 260, 260, 260, 260, 263, 263, 264, 264, 264, 264, 264, 264, 264, 264, 264, 264, 264, 264, 264, 264, 264, 264, 264, 264, 264, 264, 264, 264, 264, 264, 264, 264, 264, 264, 264, 264, 264, 265, 265, 265, 265, 265, 265, 265, 265, 265, 265, 265, 265, 265, 265, 265, 265, 265, 266, 266, 266, 266, 266, 266, 266, 266, 266, 266, 266, 266, 266, 266, 266, 266, 266, 266, 266, 266, 266, 266, 266, 266, 266, 266, 266, 266, 266, 266, 266, 266, 266, 266, 266, 266, 266, 266, 266, 266, 266, 266, 266, 266, 266, 266, 266, 266, 266, 266], Any[151.0, 153.0, 155.0, 157.0, 158.0, 159.0, 161.0, 162.0, 163.0, 163.0, 164.0, 165.0, 166.0, 167.0, 167.0, 169.0, 170.0, 171.0, 172.0, 173.0, 174.0, 175.0, 177.0, 178.0, 179.0, 181.0, 182.0, 184.0, 186.0, 187.0, 189.0, 191.0, 192.0, 194.0, 196.0, 198.0, 200.0, 202.0, 204.0, 205.0, 207.0, 209.0, 210.0, 211.0, 212.0, 214.0, 215.0, 216.0, 217.0, 218.0, 219.0, 221.0, 222.0, 224.0, 224.0, 225.0, 225.0, 228.0, 228.0, 228.0, 228.0, 228.0, 229.0, 229.0, 229.0, 229.0, 229.0, 229.0, 229.0, 229.0, 232.0, 232.0, 232.0, 232.0, 232.0, 232.0, 233.0, 236.0, 236.0, 236.0, 236.0, 236.0, 237.0, 237.0, 237.0, 237.0, 238.0, 239.0, 239.0, 239.0, 240.0, 240.0, 242.0, 242.0, 243.0, 244.0, 245.0, 246.0, 248.0, 249.0, 249.0, 251.0, 251.0, 251.0, 251.0, 252.0, 252.0, 252.0, 253.0, 253.0, 257.0, 257.0, 257.0, 257.0, 257.0, 258.0, 258.0, 258.0, 258.0, 258.0, 258.0, 258.0, 258.0, 258.0, 258.0, 258.0, 258.0, 258.0, 258.0, 258.0, 258.0, 258.0, 258.0, 258.0, 258.0, 258.0, 258.0, 258.0, 258.0, 259.0, 259.0, 259.0, 259.0, 259.0, 259.0, 259.0, 259.0, 259.0, 259.0, 259.0, 259.0, 259.0, 259.0, 259.0, 259.0, 259.0, 259.0, 259.0, 259.0, 259.0, 259.0, 259.0, 260.0, 260.0, 260.0, 260.0, 260.0, 260.0, 263.0, 264.0, 264.0, 264.0, 264.0, 264.0, 264.0, 264.0, 264.0, 264.0, 264.0, 264.0, 264.0, 264.0, 264.0, 264.0, 264.0, 264.0, 264.0, 264.0, 264.0, 264.0, 264.0, 264.0, 264.0, 264.0, 264.0, 264.0, 264.0, 264.0, 264.0, 264.0, 264.0, 265.0, 265.0, 265.0, 265.0, 265.0, 265.0, 265.0, 265.0, 265.0, 265.0, 265.0, 265.0, 265.0, 265.0, 265.0, 265.0, 265.0, 266.0, 266.0, 266.0, 266.0, 266.0, 266.0, 266.0, 266.0, 266.0, 266.0, 266.0, 266.0, 266.0, 266.0, 266.0, 266.0, 266.0, 266.0, 266.0, 266.0, 266.0, 266.0, 266.0, 266.0, 266.0, 266.0, 266.0, 266.0, 266.0, 266.0, 266.0, 266.0, 266.0, 266.0, 266.0, 266.0, 266.0, 266.0, 266.0, 266.0, 266.0, 266.0], Any[151.024, 153.308, 155.27, 156.772, 158.296, 159.378, 160.286, 161.426, 162.462, 163.31, 164.082, 164.972, 166.018, 166.648, 167.588, 168.548, 169.414, 170.506, 171.522, 172.618, 173.928, 175.3, 176.77, 178.022, 179.25, 180.942, 182.288, 183.914, 185.61, 187.31, 189.176, 190.816, 192.614, 194.416, 196.196, 198.11, 200.052, 202.036, 203.796, 205.532, 207.05, 208.494, 209.988, 211.276, 212.536, 213.72, 214.972, 216.07, 217.304, 218.512, 219.61, 220.72, 221.928, 223.048, 224.058, 224.934, 225.82, 226.67, 227.466, 227.952, 228.138, 228.344, 228.538, 228.774, 228.982, 229.044, 229.164, 229.362, 229.708, 230.24, 230.966, 231.69, 232.08, 232.298, 232.6, 233.126, 233.924, 234.908, 235.72, 236.07, 236.182, 236.348, 236.616, 236.95, 237.254, 237.614, 238.082, 238.72, 239.26, 239.696, 240.21, 240.816, 241.544, 242.398, 243.354, 244.306, 245.342, 246.542, 247.698, 248.852, 249.73, 250.46, 250.936, 251.228, 251.504, 251.84, 252.27, 252.728, 253.372, 254.234, 255.304, 256.32, 256.984, 257.276, 257.496, 257.73, 257.896, 257.992, 258.0, 257.996, 258.0, 258.0, 258.0, 258.0, 258.0, 257.996, 258.0, 257.994, 258.0, 258.0, 258.0, 258.004, 258.008, 258.016, 258.032, 258.064, 258.126, 258.232, 258.384, 258.658, 258.872, 258.978, 259.0, 259.0, 259.0, 259.0, 258.988, 258.988, 259.0, 259.0, 258.99, 258.998, 259.0, 259.0, 259.004, 259.008, 259.016, 259.032, 259.06, 259.108, 259.208, 259.372, 259.626, 259.904, 260.146, 260.354, 260.7, 261.292, 262.198, 263.12, 263.73, 263.976, 264.0, 264.0, 263.992, 264.0, 264.0, 264.0, 264.0, 263.988, 264.0, 263.984, 264.0, 264.0, 264.0, 264.0, 264.0, 264.0, 264.0, 264.0, 263.994, 263.994, 263.988, 264.004, 264.008, 264.016, 264.032, 264.062, 264.12, 264.214, 264.37, 264.588, 264.81, 264.956, 264.996, 264.998, 265.0, 264.99, 265.0, 265.0, 264.992, 265.008, 265.016, 265.032, 265.062, 265.106, 265.22, 265.366, 265.602, 265.832, 265.966, 265.996, 265.988, 266.0, 266.0, 266.0, 266.0, 266.0, 266.0, 265.984, 266.0, 266.0, 266.0, 266.0, 266.0, 266.0, 266.0, 266.0, 266.0, 265.988, 266.0, 266.0, 266.0, 266.0, 266.0, 266.0, 266.0, 266.0, 266.0, 265.99, 266.0, 266.0, 266.0, 266.0, 266.0, 266.0, 266.0, 266.0, 265.984, 266.0], [8, 9, 14, 44, 3, 4, 16, 42, 46, 45, 20, 23, 36, 38, 7, 44, 23, 2, 33, 41], 272), (Any[170, 170, 172, 172, 177, 177, 177, 182, 182, 182, 182, 182, 182, 182, 183, 184, 184, 185, 188, 188, 188, 189, 192, 194, 194, 195, 195, 195, 197, 198, 200, 200, 201, 202, 202, 202, 202, 205, 205, 205, 205, 205, 207, 207, 207, 208, 208, 208, 209, 209, 210, 210, 211, 213, 213, 213, 214, 214, 214, 215, 215, 215, 215, 215, 215, 215, 215, 216, 216, 216, 216, 216, 216, 216, 216, 216, 216, 216, 216, 216, 216, 216, 216, 216, 216, 216, 216, 216, 216, 216, 216, 216, 216, 216, 216, 216, 216, 216, 216, 216, 216, 216, 216, 216, 216, 216, 216, 216, 216, 216, 216, 216, 216, 216, 216, 216, 216], Any[151.0, 154.0, 155.5, 157.0, 158.5, 160.0, 161.0, 162.0, 163.0, 164.0, 165.0, 166.0, 167.0, 168.0, 169.0, 170.0, 173.0, 175.0, 177.0, 178.0, 180.0, 182.0, 183.0, 184.0, 185.0, 186.0, 188.0, 189.0, 190.0, 191.0, 192.0, 193.0, 194.0, 195.0, 196.0, 197.0, 198.0, 199.0, 200.0, 201.0, 201.0, 202.0, 202.0, 202.0, 203.0, 203.0, 204.0, 205.0, 206.0, 206.0, 207.0, 207.0, 207.0, 208.0, 209.0, 209.0, 209.0, 210.0, 210.0, 211.0, 212.0, 212.0, 213.0, 214.0, 214.0, 215.0, 215.0, 215.0, 215.0, 215.0, 215.0, 215.0, 215.0, 215.0, 215.0, 216.0, 216.0, 216.0, 216.0, 216.0, 216.0, 216.0, 216.0, 216.0, 216.0, 216.0, 216.0, 216.0, 216.0, 216.0, 216.0, 216.0, 216.0, 216.0, 216.0, 216.0, 216.0, 216.0, 216.0, 216.0, 216.0, 216.0, 216.0, 216.0, 216.0, 216.0, 216.0, 216.0, 216.0, 216.0, 216.0, 216.0, 216.0, 216.0, 216.0, 216.0, 216.0], Any[151.568, 153.784, 155.61, 157.19, 158.558, 159.924, 160.972, 162.09, 163.146, 164.054, 165.198, 165.864, 166.84, 168.006, 169.228, 170.674, 172.41, 174.454, 176.304, 178.24, 180.018, 181.658, 183.02, 184.17, 185.382, 186.566, 187.694, 188.782, 189.926, 191.056, 192.066, 193.194, 194.246, 195.192, 196.234, 197.16, 198.146, 199.036, 199.818, 200.554, 201.162, 201.638, 202.126, 202.584, 203.012, 203.594, 204.184, 204.824, 205.48, 206.076, 206.646, 207.076, 207.548, 207.988, 208.518, 208.996, 209.448, 209.906, 210.436, 211.106, 211.8, 212.488, 213.116, 213.702, 214.156, 214.514, 214.77, 214.96, 215.008, 215.01, 215.038, 215.074, 215.14, 215.262, 215.444, 215.668, 215.882, 215.98, 215.996, 216.0, 215.998, 215.998, 216.0, 216.0, 216.0, 216.0, 216.0, 216.0, 216.0, 216.0, 216.0, 216.0, 216.0, 216.0, 216.0, 216.0, 216.0, 216.0, 216.0, 216.0, 215.99, 216.0, 216.0, 216.0, 216.0, 216.0, 216.0, 216.0, 216.0, 216.0, 216.0, 216.0, 216.0, 216.0, 216.0, 216.0, 215.994], [50, 7, 12, 42, 41, 12, 14, 40, 44, 43, 18, 31, 34, 43, 15, 12, 21, 37, 31, 39], 251), (Any[167, 167, 172, 172, 176, 176, 176, 176, 176, 176, 178, 180, 180, 180, 182, 183, 183, 186, 188, 189, 190, 194, 194, 194, 194, 195, 195, 195, 198, 199, 200, 200, 200, 200, 202, 204, 205, 205, 205, 206, 207, 207, 207, 207, 208, 208, 208, 208, 209, 209, 209, 209, 209, 209, 209, 209, 209, 209, 209, 209, 209, 209, 209, 209, 209, 209, 209, 209, 209, 209, 209, 209, 209, 209, 209, 209, 209, 209, 210, 210, 210, 210, 210, 210, 210, 210, 211, 211, 211, 211, 211, 211, 211, 211, 211, 211, 211, 211, 211, 211, 211, 211, 213, 213, 213, 213, 213, 213, 213, 213, 213, 213, 213, 215, 215, 215, 215, 215, 215, 215, 217, 217, 217, 217, 217, 217, 217, 217, 217, 217, 217, 217, 217, 217, 217, 217, 217, 217, 217, 217, 217, 217, 217, 217, 217, 217, 217, 217, 217, 217, 217, 217, 217, 217, 217, 217, 217, 217, 221, 221, 221, 221, 221, 221, 221, 221, 221, 221, 221, 221, 221, 222, 222, 222, 223, 223, 223, 223, 223, 223, 223, 223, 223, 223, 223, 223, 223, 223, 223, 223, 223, 223, 223, 223, 223, 223, 223, 223, 223, 223, 223, 223, 223, 223, 223, 223, 223, 223, 223, 223, 223, 223, 223, 223, 223, 223, 223, 223, 223, 223, 224, 224, 224, 224, 224, 224, 224, 224, 224, 224, 224, 224, 224, 224, 224, 224, 224, 224, 224, 224, 224, 224, 226, 226, 226, 226, 226, 226, 226, 226, 226, 226, 226, 226, 226, 226, 226, 226, 226, 226, 226, 226, 226, 226, 226, 226, 226, 226, 226, 226, 226, 226, 226, 226, 226, 226, 226, 226, 226, 226, 226, 226, 226, 226, 226, 226, 226, 226, 226, 226, 226, 226], Any[152.0, 154.0, 156.0, 157.0, 159.0, 160.0, 161.0, 162.0, 163.0, 164.0, 165.0, 166.0, 167.0, 168.0, 169.0, 170.0, 171.0, 173.0, 174.0, 176.0, 177.0, 178.0, 180.0, 181.0, 182.5, 184.0, 186.0, 188.0, 189.0, 190.0, 191.0, 193.0, 194.0, 195.0, 196.0, 197.0, 198.0, 199.0, 200.0, 201.0, 203.0, 204.0, 204.0, 205.0, 205.0, 206.0, 206.0, 207.0, 207.0, 207.0, 207.0, 208.0, 208.0, 208.0, 208.0, 209.0, 209.0, 209.0, 209.0, 209.0, 209.0, 209.0, 209.0, 209.0, 209.0, 209.0, 209.0, 209.0, 209.0, 209.0, 209.0, 209.0, 209.0, 209.0, 209.0, 209.0, 209.0, 209.0, 209.0, 209.0, 209.0, 209.0, 209.0, 209.0, 209.0, 209.0, 209.5, 210.0, 210.0, 210.0, 210.0, 210.0, 210.0, 210.0, 211.0, 211.0, 211.0, 211.0, 211.0, 211.0, 211.0, 211.0, 211.0, 211.0, 211.0, 211.0, 211.0, 211.0, 211.0, 211.0, 213.0, 213.0, 213.0, 213.0, 213.0, 213.0, 213.0, 213.0, 213.0, 213"
     ]
    },
    {
     "name": "stdout",
     "output_type": "stream",
     "text": [
      ".0, 213.0, 215.0, 215.0, 215.0, 215.0, 215.0, 215.0, 215.0, 215.0, 217.0, 217.0, 217.0, 217.0, 217.0, 217.0, 217.0, 217.0, 217.0, 217.0, 217.0, 217.0, 217.0, 217.0, 217.0, 217.0, 217.0, 217.0, 217.0, 217.0, 217.0, 217.0, 217.0, 217.0, 217.0, 217.0, 217.0, 217.0, 217.0, 217.0, 217.0, 217.0, 217.0, 217.0, 217.0, 217.0, 217.0, 221.0, 221.0, 221.0, 221.0, 221.0, 221.0, 221.0, 221.0, 221.0, 221.0, 221.0, 221.0, 221.0, 222.0, 222.0, 222.0, 223.0, 223.0, 223.0, 223.0, 223.0, 223.0, 223.0, 223.0, 223.0, 223.0, 223.0, 223.0, 223.0, 223.0, 223.0, 223.0, 223.0, 223.0, 223.0, 223.0, 223.0, 223.0, 223.0, 223.0, 223.0, 223.0, 223.0, 223.0, 223.0, 223.0, 223.0, 223.0, 223.0, 223.0, 223.0, 223.0, 223.0, 223.0, 223.0, 223.0, 223.0, 223.0, 223.0, 223.0, 223.0, 223.0, 224.0, 224.0, 224.0, 224.0, 224.0, 224.0, 224.0, 224.0, 224.0, 224.0, 224.0, 224.0, 224.0, 224.0, 224.0, 224.0, 224.0, 224.0, 224.0, 224.0, 224.0, 224.0, 224.0, 226.0, 226.0, 226.0, 226.0, 226.0, 226.0, 226.0, 226.0, 226.0, 226.0, 226.0, 226.0, 226.0, 226.0, 226.0, 226.0, 226.0, 226.0, 226.0, 226.0, 226.0, 226.0, 226.0, 226.0, 226.0, 226.0, 226.0, 226.0, 226.0, 226.0, 226.0, 226.0, 226.0, 226.0, 226.0, 226.0, 226.0, 226.0, 226.0, 226.0, 226.0], Any[151.828, 154.12, 155.794, 157.288, 158.92, 160.18, 161.078, 162.158, 163.304, 164.346, 165.27, 166.318, 167.132, 168.114, 169.116, 170.236, 170.992, 172.426, 173.994, 175.406, 176.828, 178.252, 179.734, 181.13, 182.762, 184.436, 186.13, 187.756, 189.316, 190.586, 191.684, 192.824, 193.968, 195.076, 196.134, 197.172, 198.168, 199.314, 200.448, 201.566, 202.586, 203.484, 204.274, 204.892, 205.334, 205.746, 206.17, 206.536, 206.89, 207.18, 207.44, 207.702, 207.966, 208.144, 208.32, 208.516, 208.756, 208.926, 208.988, 208.998, 209.0, 209.0, 208.978, 209.0, 208.994, 209.0, 208.996, 209.0, 209.0, 209.0, 208.994, 209.0, 208.99, 208.992, 209.0, 209.0, 208.998, 209.0, 209.004, 209.008, 209.014, 209.03, 209.058, 209.11, 209.2, 209.328, 209.502, 209.724, 209.94, 210.03, 210.076, 210.136, 210.238, 210.416, 210.646, 210.868, 210.978, 210.998, 211.0, 211.0, 211.0, 211.0, 211.008, 211.0, 211.02, 211.056, 211.128, 211.24, 211.44, 211.75, 212.212, 212.7, 212.94, 213.004, 213.016, 213.032, 213.06, 213.112, 213.208, 213.404, 213.748, 214.2, 214.696, 214.968, 215.068, 215.148, 215.264, 215.504, 215.888, 216.36, 216.812, 216.978, 217.0, 217.0, 216.996, 217.0, 217.0, 216.988, 217.0, 217.0, 217.0, 217.0, 217.0, 217.0, 216.99, 217.0, 217.0, 216.996, 217.0, 217.0, 217.0, 217.0, 217.0, 217.0, 217.0, 217.0, 217.0, 217.0, 217.016, 217.028, 217.064, 217.114, 217.228, 217.454, 217.85, 218.476, 219.48, 220.39, 220.844, 220.994, 221.0, 221.004, 221.002, 221.022, 221.026, 221.08, 221.154, 221.282, 221.474, 221.744, 222.032, 222.346, 222.628, 222.86, 222.976, 222.992, 223.0, 223.0, 223.0, 223.0, 223.0, 223.0, 223.0, 223.0, 223.0, 223.0, 223.0, 223.0, 223.0, 222.994, 222.994, 222.978, 223.0, 223.0, 223.0, 223.0, 223.0, 223.0, 222.99, 223.0, 223.0, 223.0, 222.994, 223.0, 223.0, 223.0, 222.99, 223.0, 223.0, 223.0, 223.004, 222.984, 223.016, 223.028, 223.066, 223.13, 223.24, 223.396, 223.66, 223.862, 223.972, 223.998, 223.996, 224.0, 224.0, 224.0, 224.0, 224.0, 224.0, 224.0, 223.998, 224.0, 224.008, 224.008, 224.016, 224.028, 224.044, 224.1, 224.21, 224.4, 224.688, 225.152, 225.672, 225.908, 226.0, 226.0, 226.0, 226.0, 225.994, 226.0, 225.982, 226.0, 225.99, 226.0, 226.0, 225.99, 225.992, 226.0, 225.982, 226.0, 226.0, 226.0, 226.0, 226.0, 226.0, 226.0, 226.0, 226.0, 226.0, 226.0, 226.0, 226.0, 226.0, 226.0, 226.0, 226.0, 226.0, 226.0, 226.0, 226.0, 225.994, 226.0], [8, 9, 26, 44, 43, 14, 16, 42, 51, 45, 20, 15, 36, 9, 7, 48, 38, 24, 33, 41], 236), (Any[165, 170, 170, 170, 170, 173, 173, 175, 175, 176, 177, 177, 177, 178, 178, 179, 179, 179, 180, 181, 182, 186, 186, 188, 188, 190, 190, 191, 191, 191, 192, 197, 198, 198, 198, 200, 201, 201, 201, 202, 204, 204, 205, 205, 205, 205, 205, 206, 206, 207, 207, 207, 208, 208, 210, 210, 210, 210, 210, 212, 212, 212, 212, 213, 213, 215, 215, 215, 215, 215, 215, 215, 215, 216, 218, 218, 218, 218, 219, 219, 220, 220, 220, 222, 222, 222, 222, 222, 223, 223, 223, 223, 223, 223, 223, 225, 225, 225, 225, 225, 226, 226, 226, 227, 227, 227, 229, 229, 229, 229, 229, 229, 229, 229, 229, 233, 233, 234, 234, 234, 234, 235, 236, 237, 237, 237, 237, 237, 237, 237, 237, 237, 237, 237, 237, 237, 237, 237, 237, 237, 237, 237, 237, 237, 237, 237, 237, 237, 238, 238, 238, 238, 238, 238, 238, 239, 239, 239, 239, 239, 239, 239, 239, 239, 239, 239, 239, 239, 239, 239, 239, 239, 239, 239, 239, 239, 239, 239, 239, 239, 239, 239, 240, 240, 240, 240, 240, 240, 240, 240, 240, 240, 240, 240, 240, 240, 240, 240, 240, 241, 241, 241, 241, 241, 241, 241, 241, 241, 241, 241, 241, 241, 241, 241, 242, 242, 242, 242, 242, 242, 242, 242, 242, 242, 242, 242, 243, 243, 243, 243, 243, 243, 243, 243, 243, 244, 244, 244, 244, 244, 244, 244, 244, 244, 244, 244, 244, 244, 244, 244, 244, 244, 244, 244, 244, 244, 244, 244, 244, 244, 244, 244, 244, 244, 244, 244, 244, 244, 244, 244, 244, 245, 245, 245, 245, 245, 245, 245, 245, 245, 245, 245, 245, 245, 245, 245, 245, 245, 245, 245, 245, 245, 245, 245, 245, 245, 245, 245, 245, 245, 245, 245, 245, 245, 245, 245, 245, 245, 245, 245, 246, 246, 246, 246, 246, 246, 246, 246, 246, 246, 246, 246, 246, 246, 246, 246, 246, 246, 246, 246, 246, 246, 246, 246, 246, 246, 246, 246, 246, 246, 246, 246, 246, 246, 246, 246, 246, 246, 246, 246, 246, 246, 246, 246, 246, 246, 246, 246, 246, 246], Any[151.0, 154.0, 155.0, 157.0, 158.0, 159.0, 160.0, 161.0, 162.0, 163.0, 164.0, 165.0, 166.0, 167.0, 167.0, 168.0, 169.0, 170.0, 171.0, 171.0, 172.0, 173.0, 175.0, 176.0, 177.0, 178.0, 179.0, 180.0, 182.0, 183.0, 185.0, 186.0, 187.0, 188.0, 190.0, 191.0, 191.0, 192.0, 192.0, 193.0, 194.0, 195.0, 195.0, 196.0, 197.0, 197.0, 198.0, 199.0, 200.0, 202.0, 202.0, 204.0, 204.0, 205.0, 205.0, 206.0, 206.0, 207.0, 207.0, 208.0, 208.0, 208.0, 208.0, 210.0, 210.0, 212.0, 212.0, 212.0, 212.0, 212.0, 212.0, 212.0, 213.0, 213.0, 215.0, 215.0, 215.0, 215.0, 215.0, 215.0, 216.0, 217.0, 217.0, 218.0, 219.0, 220.0, 220.0, 220.0, 221.0, 222.0, 222.0, 222.0, 222.0, 222.0, 222.0, 223.0, 223.0, 223.0, 223.0, 223.0, 223.0, 223.0, 223.0, 223.0, 225.0, 225.0, 225.0, 225.0, 226.0, 226.0, 227.0, 227.0, 227.0, 229.0, 229.0, 229.0, 229.0, 229.0, 229.0, 229.0, 229.0, 229.0, 230.0, 232.0, 234.0, 234.0, 234.0, 234.0, 235.0, 235.0, 236.0, 237.0, 237.0, 237.0, 237.0, 237.0, 237.0, 237.0, 237.0, 237.0, 237.0, 237.0, 237.0, 237.0, 237.0, 237.0, 237.0, 237.0, 237.0, 237.0, 237.0, 237.0, 237.0, 237.0, 237.0, 237.0, 238.0, 238.0, 238.0, 238.0, 238.0, 238.0, 238.0, 238.0, 238.0, 239.0, 239.0, 239.0, 239.0, 239.0, 239.0, 239.0, 239.0, 239.0, 239.0, 239.0, 239.0, 239.0, 239.0, 239.0, 239.0, 239.0, 239.0, 239.0, 239.0, 239.0, 239.0, 239.0, 239.0, 239.0, 239.0, 240.0, 240.0, 240.0, 240.0, 240.0, 240.0, 240.0, 240.0, 240.0, 240.0, 240.0, 240.0, 240.0, 240.0, 240.0, 240.0, 241.0, 241.0, 241.0, 241.0, 241.0, 241.0, 241.0, 241.0, 241.0, 241.0, 241.0, 241.0, 241.0, 241.0, 241.0, 241.0, 242.0, 242.0, 242.0, 242.0, 242.0, 242.0, 242.0, 242.0, 242.0, 242.0, 242.0, 243.0, 243.0, 243.0, 243.0, 243.0, 243.0, 243.0, 243.0, 243.0, 243.0, 244.0, 244.0, 244.0, 244.0, 244.0, 244.0, 244.0, 244.0, 244.0, 244.0, 244.0, 244.0, 244.0, 244.0, 244.0, 244.0, 244.0, 244.0, 244.0, 244.0, 244.0, 244.0, 244.0, 244.0, 244.0, 244.0, 244.0, 244.0, 244.0, 244.0, 244.0, 244.0, 244.0, 244.0, 244.0, 245.0, 245.0, 245.0, 245.0, 245.0, 245.0, 245.0, 245.0, 245.0, 245.0, 245.0, 245.0, 245.0, 245.0, 245.0, 245.0, 245.0, 245.0, 245.0, 245.0, 245.0, 245.0, 245.0, 245.0, 245.0, 245.0, 245.0, 245.0, 245.0, 245.0, 245.0, 245.0, 245.0, 245.0, 245.0, 245.0, 245.0, 245.0, 245.0, 246.0, 246.0, 246.0, 246.0, 246.0, 246.0, 246.0, 246.0, 246.0, 246.0, 246.0, 246.0, 246.0, 246.0, 246.0, 246.0, 246.0, 246.0, 246.0, 246.0, 246.0, 246.0, 246.0, 246.0, 246.0, 246.0, 246.0, 246.0, 246.0, 246.0, 246.0, 246.0, 246.0, 246.0, 246.0, 246.0, 246.0, 246.0, 246.0, 246.0, 246.0, 246.0], Any[151.786, 153.852, 155.484, 156.88, 158.096, 159.358, 160.65, 161.512, 162.4, 163.284, 164.1, 164.948, 165.72, 166.484, 166.992, 167.778, 168.518, 169.27, 170.194, 170.936, 171.902, 173.188, 174.186, 175.402, 176.634, 177.896, 179.166, 180.354, 181.764, 183.076, 184.55, 185.87, 187.3, 188.466, 189.498, 190.498, 191.304, 192.082, 192.748, 193.442, 194.146, 194.936, 195.634, 196.22, 196.988, 197.638, 198.244, 199.026, 200.072, 201.052, 202.156, 203.188, 203.952, 204.628, 205.218, 205.736, 206.262, 206.79, 207.316, 207.768, 208.172, 208.564, 209.108, 209.826, 210.626, 211.372, 211.846, 212.024, 212.098, 212.22, 212.406, 212.728, 213.15, 213.778, 214.382, 214.872, 215.09, 215.214, 215.4, 215.696, 216.168, 216.73, 217.306, 217.992, 218.76, 219.464, 220.084, 220.56, 221.02, 221.496, 221.886, 222.026, 222.136, 222.27, 222.462, 222.702, 222.892, 223.012, 223.036, 223.058, 223.142, 223.268, 223.514, 223.862, 224.362, 224.822, 225.166, 225.452, 225.8, 226.182, 226.652, 227.14, 227.628, 228.164, 228.644, 228.916, 229.03, 229.064, 229.146, 229.312, 229.598, 230.098, 230.91, 232.022, 233.088, 233.874, 234.24, 234.49, 234.858, 235.374, 235.964, 236.524, 236.898, 237.0, 237.0, 237.0, 237.0, 237.0, 237.0, 237.0, 236.99, 237.0, 237.0, 237.0, 237.0, 237.0, 237.0, 237.0, 236.994, 237.008, 237.016, 237.032, 237.064, 237.12, 237.21, 237.372, 237.598, 237.83, 237.982, 238.012, 238.024, 238.072, 238.134, 238.248, 238.424, 238.672, 238.876, 238.976, 238.994, 239.0, 239.0, 239.0, 239.0, 239.0, 239.0, 239.0, 239.0, 239.0, 239.0, 239.0, 239.0, 239.0, 239.004, 239.004, 239.008, 239.016, 239.032, 239.064, 239.126, 239.228, 239.4, 239.636, 239.86, 239.968, 239.986, 240.0, 240.0, 239.986, 240.0, 240.004, 240.008, 240.014, 240.024, 240.056, 240.108, 240.212, 240.366, 240.61, 240.846, 240.962, 240.996, 241.0, 241.0, 241.0, 241.004, 241.006, 241.012, 241.024, 241.042, 241.072, 241.14, 241.238, 241.392, 241.622, 241.86, 241.974, 242.004, 242.008, 242.016, 242.028, 242.056, 242.1, 242.184, 242.338, 242.548, 242.78, 242.958, 243.01, 243.02, 243.038, 243.076, 243.146, 243.276, 243.452, 243.67, 243.866, 243.976, 244.0, 244.0, 244.0, 244.0, 244.0, 244.0, 244.0, 244.0, 244.0, 244.0, 244.0, 244.0, 244.0, 244.0, 243.976, 243.99, 244.0, 244.0, "
     ]
    },
    {
     "name": "stdout",
     "output_type": "stream",
     "text": [
      "244.0, 244.0, 244.0, 244.0, 243.986, 244.0, 244.004, 244.008, 244.016, 244.02, 244.052, 244.102, 244.158, 244.35, 244.55, 244.772, 244.918, 244.99, 245.0, 245.0, 245.0, 245.0, 244.988, 245.0, 245.0, 244.988, 244.988, 245.0, 245.0, 245.0, 245.0, 245.0, 245.0, 245.0, 245.0, 245.0, 245.0, 244.994, 245.0, 245.0, 245.0, 245.0, 245.0, 245.0, 245.0, 245.004, 244.998, 245.006, 245.032, 245.062, 245.116, 245.218, 245.38, 245.588, 245.844, 245.97, 245.998, 246.0, 245.992, 246.0, 246.0, 246.0, 245.986, 246.0, 246.0, 246.0, 245.988, 246.0, 246.0, 246.0, 246.0, 245.994, 246.0, 246.0, 245.97, 246.0, 246.0, 246.0, 246.0, 246.0, 246.0, 246.0, 246.0, 246.0, 246.0, 246.0, 246.0, 245.988, 246.0, 246.0, 246.0, 246.0, 246.0, 245.996, 245.996], [48, 5, 10, 40, 29, 10, 12, 38, 42, 41, 16, 29, 32, 41, 3, 50, 19, 35, 29, 37], 251), (Any[167, 168, 170, 170, 170, 174, 176, 176, 179, 179, 180, 180, 180, 182, 182, 186, 189, 189, 192, 192, 194, 198, 198, 202, 207, 211, 211, 211, 211, 215, 215, 215, 218, 218, 222, 222, 222, 222, 222, 222, 222, 223, 223, 223, 223, 223, 223, 224, 224, 224, 224, 224, 224, 224, 224, 224, 224, 224, 224, 224, 224, 224, 224, 224, 224, 224, 224, 224, 224, 224, 224, 224, 224, 224, 224, 224, 224, 224, 224, 224, 224, 224, 224, 224, 224, 224, 224, 224, 224, 224, 224, 224, 224, 224, 224, 224, 224], Any[152.0, 154.0, 155.0, 157.0, 158.5, 160.0, 161.0, 162.0, 163.0, 164.0, 165.0, 166.0, 167.0, 168.0, 168.0, 170.0, 171.0, 172.0, 173.0, 175.0, 177.0, 179.0, 182.0, 185.0, 188.0, 192.0, 195.0, 197.0, 200.0, 202.0, 204.0, 206.0, 208.0, 209.0, 212.0, 213.0, 215.0, 216.0, 218.0, 218.0, 220.0, 222.0, 222.0, 222.0, 222.0, 222.0, 222.0, 222.0, 222.0, 223.0, 223.0, 223.0, 223.0, 223.0, 224.0, 224.0, 224.0, 224.0, 224.0, 224.0, 224.0, 224.0, 224.0, 224.0, 224.0, 224.0, 224.0, 224.0, 224.0, 224.0, 224.0, 224.0, 224.0, 224.0, 224.0, 224.0, 224.0, 224.0, 224.0, 224.0, 224.0, 224.0, 224.0, 224.0, 224.0, 224.0, 224.0, 224.0, 224.0, 224.0, 224.0, 224.0, 224.0, 224.0, 224.0, 224.0, 224.0], Any[151.934, 153.958, 155.558, 157.5, 158.77, 160.034, 161.096, 162.032, 163.012, 164.102, 165.066, 165.94, 166.842, 167.738, 168.576, 169.552, 170.782, 172.044, 173.586, 175.292, 177.33, 179.526, 182.326, 185.12, 188.364, 191.406, 194.304, 197.084, 199.528, 201.89, 203.986, 206.12, 208.022, 209.818, 211.428, 213.106, 214.636, 216.13, 217.464, 218.714, 219.806, 220.8, 221.604, 221.932, 222.022, 222.048, 222.096, 222.182, 222.328, 222.548, 222.816, 223.022, 223.202, 223.38, 223.608, 223.832, 223.952, 223.996, 224.0, 224.0, 224.0, 224.0, 224.0, 224.0, 224.0, 224.0, 224.0, 224.0, 224.0, 224.0, 223.986, 224.0, 223.988, 224.0, 224.0, 224.0, 224.0, 224.0, 224.0, 223.99, 224.0, 224.0, 224.0, 224.0, 223.988, 223.988, 224.0, 223.986, 224.0, 224.0, 224.0, 224.0, 224.0, 224.0, 224.0, 224.0, 224.0], [8, 9, 7, 44, 3, 19, 16, 42, 46, 45, 20, 5, 36, 45, 7, 3, 23, 2, 33, 41], 266), (Any[172, 172, 172, 172, 172, 177, 177, 177, 177, 177, 178, 178, 179, 185, 185, 185, 185, 188, 188, 192, 195, 196, 198, 199, 199, 199, 201, 201, 201, 203, 203, 205, 205, 205, 207, 207, 207, 208, 208, 210, 210, 212, 214, 214, 214, 214, 214, 214, 215, 215, 216, 216, 216, 216, 216, 216, 217, 217, 217, 217, 217, 217, 220, 220, 220, 220, 220, 220, 221, 223, 223, 223, 224, 224, 224, 224, 224, 224, 224, 224, 224, 224, 224, 224, 224, 224, 224, 224, 224, 224, 224, 224, 224, 224, 224, 224, 224, 224, 227, 227, 227, 227, 227, 227, 227, 227, 227, 227, 227, 227, 227, 227, 227, 227, 227, 227, 227, 227, 227, 227, 227, 227, 227, 227, 227, 227, 227, 227, 227, 227, 227, 227, 227, 227, 227, 227, 227, 227, 229, 229, 229, 229, 229, 229, 229, 229, 229, 229, 229, 229, 229, 229, 229, 229, 229, 229, 229, 229, 229, 229, 229, 229, 229, 229, 229, 229, 229, 229, 229, 229, 229, 229, 229, 229, 229, 229, 230, 230, 230, 230, 230, 230, 230, 232, 232, 232, 232, 232, 232, 232, 232, 232, 232, 232, 232, 232, 232, 232, 232, 232, 232, 232, 232, 232, 232, 232, 232, 232, 232, 232, 232, 232, 232, 232, 232, 232, 232, 232, 232, 232, 232, 232, 232, 232, 232, 232, 232, 232, 232, 232, 232, 232, 232], Any[151.0, 154.0, 155.0, 157.0, 158.0, 160.0, 161.0, 162.0, 162.0, 163.5, 164.0, 165.0, 166.0, 167.0, 168.0, 169.0, 170.0, 172.0, 173.0, 175.0, 177.0, 179.0, 183.0, 185.0, 187.0, 189.0, 192.0, 193.0, 195.0, 198.0, 199.0, 201.0, 201.0, 201.0, 202.0, 202.0, 202.0, 203.0, 204.0, 205.0, 205.0, 207.0, 208.0, 208.0, 210.0, 210.0, 211.0, 212.0, 214.0, 214.0, 214.0, 214.0, 214.0, 214.0, 214.0, 214.0, 214.0, 215.0, 216.0, 216.0, 216.0, 216.0, 217.0, 217.0, 217.0, 217.0, 217.0, 217.0, 217.0, 218.0, 220.0, 220.0, 220.0, 220.0, 221.0, 221.0, 221.0, 223.0, 224.0, 224.0, 224.0, 224.0, 224.0, 224.0, 224.0, 224.0, 224.0, 224.0, 224.0, 224.0, 224.0, 224.0, 224.0, 224.0, 224.0, 224.0, 224.0, 224.0, 224.0, 224.0, 224.0, 224.0, 224.0, 224.0, 224.0, 224.0, 227.0, 227.0, 227.0, 227.0, 227.0, 227.0, 227.0, 227.0, 227.0, 227.0, 227.0, 227.0, 227.0, 227.0, 227.0, 227.0, 227.0, 227.0, 227.0, 227.0, 227.0, 227.0, 227.0, 227.0, 227.0, 227.0, 227.0, 227.0, 227.0, 227.0, 227.0, 227.0, 227.0, 227.0, 227.0, 227.0, 227.0, 227.0, 227.0, 227.0, 229.0, 229.0, 229.0, 229.0, 229.0, 229.0, 229.0, 229.0, 229.0, 229.0, 229.0, 229.0, 229.0, 229.0, 229.0, 229.0, 229.0, 229.0, 229.0, 229.0, 229.0, 229.0, 229.0, 229.0, 229.0, 229.0, 229.0, 229.0, 229.0, 229.0, 229.0, 229.0, 229.0, 229.0, 229.0, 229.0, 229.0, 229.0, 230.0, 230.0, 230.0, 230.0, 230.0, 230.0, 232.0, 232.0, 232.0, 232.0, 232.0, 232.0, 232.0, 232.0, 232.0, 232.0, 232.0, 232.0, 232.0, 232.0, 232.0, 232.0, 232.0, 232.0, 232.0, 232.0, 232.0, 232.0, 232.0, 232.0, 232.0, 232.0, 232.0, 232.0, 232.0, 232.0, 232.0, 232.0, 232.0, 232.0, 232.0, 232.0, 232.0, 232.0, 232.0, 232.0, 232.0, 232.0, 232.0], Any[151.732, 153.758, 155.554, 156.988, 158.388, 159.564, 160.68, 161.648, 162.538, 163.574, 164.348, 165.168, 165.858, 167.018, 168.116, 169.226, 170.596, 171.942, 173.668, 175.47, 177.618, 179.878, 182.296, 184.734, 187.278, 189.206, 191.44, 193.604, 195.588, 197.464, 199.014, 200.312, 201.066, 201.464, 201.826, 202.23, 202.718, 203.33, 204.016, 204.796, 205.746, 206.69, 207.59, 208.53, 209.456, 210.388, 211.318, 212.186, 212.984, 213.606, 213.906, 214.006, 214.056, 214.106, 214.206, 214.384, 214.684, 215.066, 215.478, 215.862, 216.114, 216.322, 216.558, 216.824, 217.01, 217.118, 217.232, 217.438, 217.796, 218.346, 219.022, 219.722, 220.19, 220.486, 220.828, 221.276, 221.762, 222.398, 223.064, 223.682, 223.928, 223.984, 224.0, 224.0, 223.99, 223.976, 224.0, 224.0, 224.0, 224.0, 224.0, 224.0, 224.0, 224.0, 224.0, 224.0, 224.0, 224.0, 224.0, 224.024, 224.048, 224.096, 224.182, 224.346, 224.668, 225.152, 225.858, 226.522, 226.916, 227.0, 227.0, 226.99, 227.0, 227.0, 227.0, 227.0, 226.992, 227.0, 227.0, 227.0, 227.0, 226.982, 227.0, 227.0, 226.984, 226.992, 227.0, 227.0, 227.0, 226.984, 227.0, 227.0, 226.99, 226.998, 227.0, 226.996, 227.0, 227.0, 227.008, 227.006, 227.004, 227.064, 227.124, 227.216, 227.432, 227.756, 228.204, 228.68, 228.94, 229.0, 229.0, 229.0, 229.0, 229.0, 229.0, 228.998, 229.0, 228.99, 229.0, 229.0, 228.984, 228.986, 229.0, 229.0, 228.992, 229.0, 229.0, 229.0, 229.0, 229.0, 229.0, 229.0, 229.0, 229.0, 229.0, 228.978, 229.004, 229.008, 229.014, 229.018, 229.056, 229.106, 229.194, 229.348, 229.55, 229.822, 230.028, 230.202, 230.422, 230.776, 231.224, 231.644, 231.928, 232.0, 232.0, 231.992, 232.0, 232.0, 231.99, 232.0, 232.0, 232.0, 232.0, 232.0, 232.0, 232.0, 232.0, 231.996, 231.984, 232.0, 232.0, 232.0, 232.0, 232.0, 232.0, 232.0, 232.0, 232.0, 232.0, 231.986, 232.0, 232.0, 232.0, 232.0, 231.994, 232.0, 232.0, 232.0, 232.0, 232.0, 232.0, 231.976, 232.0], [4, 15, 17, 35, 16, 17, 22, 48, 29, 51, 26, 11, 42, 15, 13, 42, 29, 35, 39, 47], 235), (Any[169, 171, 172, 173, 173, 173, 173, 173, 174, 180, 180, 180, 183, 184, 184, 184, 184, 185, 187, 187, 194, 194, 195, 199, 199, 199, 199, 200, 203, 204, 204, 207, 209, 210, 210, 211, 212, 212, 215, 215, 215, 216, 216, 216, 217, 218, 218, 218, 218, 219, 220, 220, 220, 220, 221, 221, 222, 222, 225, 225, 225, 225, 225, 225, 226, 226, 228, 228, 230, 230, 231, 231, 231, 231, 232, 232, 232, 232, 232, 232, 232, 232, 232, 233, 233, 233, 233, 234, 234, 234, 234, 234, 234, 234, 236, 236, 236, 236, 236, 236, 236, 238, 238, 238, 238, 238, 238, 239, 239, 239, 239, 239, 239, 239, 240, 240, 240, 241, 241, 241, 242, 242, 242, 243, 243, 243, 243, 244, 244, 244, 244, 244, 244, 244, 244, 244, 244, 245, 245, 245, 245, 245, 245, 245, 245, 245, 245, 245, 245, 245, 245, 245, 245, 245, 245, 245, 245, 245, 245, 245, 245, 245, 245, 245, 245, 245, 245, 245, 245, 245, 245, 245, 245, 245, 245, 245, 245, 245, 245, 245, 245, 245, 245, 245, 245, 245, 245], Any[152.0, 155.0, 156.0, 157.5, 159.0, 160.0, 161.0, 162.0, 163.0, 164.0, 165.0, 166.0, 167.0, 169.0, 170.0, 171.0, 172.0, 174.0, 176.0, 177.0, 179.0, 181.0, 182.5, 184.0, 186.0, 187.0, 188.0, 190.0, 192.0, 194.0, 196.0, 198.0, 200.0, 201.0, 202.0, 204.0, 205.0, 207.0, 208.0, 209.0, 210.0, 210.0, 211.0, 213.0, 214.0, 214.0, 214.0, 215.0, 216.0, 216.0, 217.0, 217.0, 218.0, 218.0, 218.0, 218.0, 219.0, 219.0, 219.0, 220.0, 220.0, 222.0, 222.0, 223.0, 223.0, 224.0, 225.0, 225.0, 225.0, 225.0, 225.0, 226.0, 226.0, 226.0, 228.0, 230.0, 230.0, 231.0, 231.0, 231.0, 231.0, 232.0, 232.0, 232.0, 232.0, 232.0, 232.0, 232.0, 232.0, 232.0, 233.0, 233.0, 233.0, 233.0, 234.0, 234.0, 234.0, 234.0, 234.0, 234.0, 234.0, 234.0, 236.0, 236.0, 236.0, 236.0, 236.0, 236.0, 238.0, 238.0, 238.0, 238.0, 238.0, 238.0, 238.0, 239.0, 239.0, 239.0, 239.0, 239.0, 239.0, 240.0, 240.0, 240.0, 240.0, 241.0, 241.0, 242.0, 242.0, 242.0, 243.0, 243.0, 243.0, 243.0, 244.0, 244.0, 244.0, 244.0, 244.0, 244.0, 244.0, 244.0, 244.0, 244.0, 244.0, 245.0, 245.0, 245.0, 245.0, 245.0, 245.0, 245.0, 245.0, 245.0, 245.0, 245.0, 245.0, 245.0, 245.0, 245.0, 245.0, 245.0, 245.0, 245.0, 245.0, 245.0, 245.0, 245.0, 245.0, 245.0, 245.0, 245.0, 245.0, 245.0, 245.0, 245.0, 245.0, 245.0, 245.0, 245.0, 245.0, 245.0, 245.0, 245.0, 245.0, 245.0, 245.0], Any[152.284, 154.608, 156.22, 157.652, 158.968, 160.01, 161.14, 162.308, 163.086, 164.156, 165.138, 166.36, 167.348, 168.582, 169.868, 171.09, 172.466, 174.024, 175.594, 177.278, 178.908, 180.714, 182.434, 184.17, 185.728, 187.276, 188.928, 190.672, 192.496, 194.348, 196.292, 197.916, 199.622, 201.138, 202.626, "
     ]
    },
    {
     "name": "stdout",
     "output_type": "stream",
     "text": [
      "203.936, 205.274, 206.61, 207.862, 208.974, 209.956, 210.854, 211.692, 212.536, 213.344, 214.074, 214.646, 215.172, 215.73, 216.204, 216.712, 217.142, 217.568, 217.928, 218.222, 218.5, 218.81, 219.164, 219.56, 220.104, 220.762, 221.468, 222.2, 222.892, 223.522, 224.058, 224.524, 224.852, 225.09, 225.262, 225.508, 225.876, 226.44, 227.178, 228.16, 229.256, 230.11, 230.618, 230.928, 231.178, 231.45, 231.692, 231.896, 231.986, 232.008, 232.032, 232.054, 232.112, 232.23, 232.39, 232.652, 232.93, 233.158, 233.364, 233.616, 233.844, 233.98, 234.042, 234.128, 234.232, 234.42, 234.744, 235.188, 235.674, 236.04, 236.248, 236.516, 236.958, 237.444, 237.868, 238.002, 238.056, 238.096, 238.202, 238.366, 238.598, 238.842, 239.004, 239.106, 239.208, 239.358, 239.604, 239.894, 240.238, 240.526, 240.966, 241.346, 241.754, 242.114, 242.434, 242.724, 242.986, 243.174, 243.342, 243.566, 243.806, 243.964, 244.0, 244.008, 244.016, 244.028, 244.052, 244.102, 244.196, 244.342, 244.558, 244.808, 244.964, 244.998, 244.986, 245.0, 245.0, 245.0, 245.0, 245.0, 245.0, 245.0, 244.982, 245.0, 245.0, 245.0, 245.0, 244.966, 244.99, 245.0, 244.982, 245.0, 244.986, 245.0, 244.99, 244.99, 244.992, 245.0, 245.0, 245.0, 245.0, 245.0, 245.0, 245.0, 245.0, 245.0, 244.982, 245.0, 245.0, 245.0, 244.996, 244.996], [8, 9, 14, 44, 22, 14, 16, 42, 46, 45, 20, 23, 36, 45, 7, 44, 23, 45, 33, 41], 262), (Any[170, 170, 170, 172, 172, 176, 173, 175, 175, 176, 181, 181, 181, 182, 182, 182, 183, 185, 185, 188, 193, 193, 193, 194, 194, 194, 194, 196, 197, 197, 197, 198, 198, 199, 199, 200, 202, 202, 202, 202, 202, 202, 202, 202, 202, 202, 202, 202, 203, 203, 203, 203, 204, 204, 204, 204, 204, 204, 204, 204, 205, 205, 205, 205, 205, 205, 205, 205, 205, 205, 205, 205, 205, 205, 205, 205, 205, 205, 205, 205, 205, 205, 205, 205, 206, 206, 206, 206, 206, 206, 206, 206, 206, 206, 206, 207, 207, 207, 207, 207, 207, 207, 207, 207, 207, 207, 208, 208, 208, 208, 208, 208, 208, 208, 208, 208, 208, 208, 208, 213, 213, 213, 213, 213, 213, 213, 213, 213, 213, 213, 213, 213, 213, 213, 213, 213, 213, 213, 213, 213, 213, 213, 213, 213, 213, 213, 213, 213, 213, 213, 213, 213, 213, 213, 213, 213, 213, 213, 213, 213, 213, 213, 214, 214, 214, 214, 215, 215, 215, 215, 215, 215, 215, 215, 215, 215, 215, 215, 215, 215, 215, 215, 215, 215, 215, 215, 215, 215, 215, 215, 215, 215, 215, 215, 215, 215, 215, 215, 215, 215, 215, 215, 215, 215, 215, 215, 215, 215, 215, 215, 215, 215, 215, 215, 215, 215], Any[151.0, 154.0, 155.0, 157.0, 158.0, 159.0, 160.0, 162.0, 163.0, 164.5, 165.5, 167.0, 168.0, 169.0, 170.0, 171.0, 173.0, 174.0, 175.0, 177.0, 179.0, 180.0, 182.0, 183.0, 185.0, 186.0, 187.0, 188.5, 189.0, 190.0, 191.0, 192.0, 193.0, 193.0, 194.0, 195.0, 195.0, 196.0, 197.0, 198.0, 198.0, 199.0, 199.0, 200.0, 200.0, 200.0, 201.0, 201.0, 201.0, 202.0, 202.0, 202.0, 202.0, 203.0, 203.0, 203.0, 203.0, 203.0, 203.0, 203.0, 204.0, 204.0, 204.0, 204.0, 204.0, 204.0, 205.0, 205.0, 205.0, 205.0, 205.0, 205.0, 205.0, 205.0, 205.0, 205.0, 205.0, 205.0, 205.0, 205.0, 205.0, 205.0, 205.0, 205.0, 205.0, 205.0, 205.0, 205.0, 205.0, 205.0, 205.0, 205.0, 206.0, 206.0, 206.0, 206.0, 206.0, 206.0, 206.0, 206.0, 206.0, 206.0, 206.0, 207.0, 207.0, 207.0, 207.0, 207.0, 207.0, 207.0, 207.0, 207.0, 207.0, 207.0, 208.0, 208.0, 208.0, 208.0, 208.0, 208.0, 208.0, 208.0, 208.0, 208.0, 208.0, 208.0, 208.0, 213.0, 213.0, 213.0, 213.0, 213.0, 213.0, 213.0, 213.0, 213.0, 213.0, 213.0, 213.0, 213.0, 213.0, 213.0, 213.0, 213.0, 213.0, 213.0, 213.0, 213.0, 213.0, 213.0, 213.0, 213.0, 213.0, 213.0, 213.0, 213.0, 213.0, 213.0, 213.0, 213.0, 213.0, 213.0, 213.0, 213.0, 213.0, 213.0, 213.0, 213.0, 213.0, 213.0, 214.0, 214.0, 214.0, 214.0, 214.0, 215.0, 215.0, 215.0, 215.0, 215.0, 215.0, 215.0, 215.0, 215.0, 215.0, 215.0, 215.0, 215.0, 215.0, 215.0, 215.0, 215.0, 215.0, 215.0, 215.0, 215.0, 215.0, 215.0, 215.0, 215.0, 215.0, 215.0, 215.0, 215.0, 215.0, 215.0, 215.0, 215.0, 215.0, 215.0, 215.0, 215.0, 215.0, 215.0, 215.0, 215.0], Any[151.422, 153.7, 155.428, 157.082, 158.682, 159.736, 160.83, 162.084, 163.318, 164.4, 165.526, 166.388, 167.564, 168.856, 170.204, 171.384, 172.782, 174.198, 175.462, 177.112, 178.676, 180.15, 181.822, 183.216, 184.7, 186.03, 187.282, 188.392, 189.372, 190.328, 191.148, 191.886, 192.532, 193.18, 193.956, 194.61, 195.304, 196.0, 196.77, 197.52, 198.168, 198.664, 199.178, 199.576, 199.972, 200.388, 200.792, 201.132, 201.4, 201.704, 201.942, 202.142, 202.346, 202.582, 202.838, 202.996, 203.056, 203.12, 203.214, 203.378, 203.586, 203.81, 203.986, 204.08, 204.16, 204.314, 204.536, 204.778, 204.934, 204.994, 205.0, 205.0, 205.0, 205.0, 204.99, 205.0, 205.0, 205.0, 205.0, 204.988, 205.0, 205.0, 205.0, 205.0, 205.004, 205.008, 205.016, 205.032, 205.062, 205.116, 205.204, 205.36, 205.584, 205.826, 205.98, 206.004, 206.008, 206.016, 206.018, 206.052, 206.1, 206.182, 206.356, 206.604, 206.844, 206.968, 207.0, 207.008, 207.016, 207.032, 207.052, 207.116, 207.208, 207.38, 207.61, 207.834, 207.97, 207.984, 207.982, 208.002, 208.036, 208.07, 208.14, 208.28, 208.55, 209.034, 209.81, 210.998, 212.252, 212.86, 212.982, 213.0, 213.0, 212.984, 213.0, 213.0, 213.0, 212.996, 213.0, 213.0, 213.0, 213.0, 213.0, 213.0, 213.0, 212.998, 212.996, 212.994, 212.99, 213.0, 213.0, 213.0, 213.0, 213.0, 213.0, 213.0, 213.0, 212.976, 212.978, 212.988, 213.0, 213.0, 213.004, 213.008, 213.016, 213.03, 213.064, 213.118, 213.222, 213.386, 213.63, 213.878, 214.054, 214.174, 214.312, 214.518, 214.78, 214.928, 214.998, 215.0, 215.0, 215.0, 215.0, 215.0, 215.0, 215.0, 215.0, 214.984, 214.998, 215.0, 215.0, 215.0, 215.0, 215.0, 215.0, 215.0, 215.0, 215.0, 215.0, 215.0, 215.0, 215.0, 215.0, 215.0, 215.0, 215.0, 215.0, 215.0, 214.988, 215.0, 215.0, 215.0, 215.0, 215.0, 215.0, 215.0], [8, 9, 7, 44, 3, 4, 16, 42, 46, 45, 20, 5, 36, 45, 7, 3, 23, 2, 33, 41], 269), (Any[166, 166, 173, 173, 173, 173, 174, 174, 179, 176, 176, 178, 178, 178, 179, 182, 183, 183, 183, 185, 185, 185, 186, 191, 194, 194, 194, 194, 194, 195, 195, 195, 195, 196, 206, 206, 206, 206, 206, 206, 207, 208, 208, 208, 210, 210, 210, 210, 212, 212, 213, 214, 215, 215, 215, 215, 215, 216, 219, 219, 219, 222, 222, 222, 222, 223, 223, 223, 225, 225, 225, 226, 226, 226, 227, 227, 234, 234, 234, 234, 234, 234, 234, 237, 237, 237, 237, 237, 237, 237, 237, 239, 239, 239, 239, 240, 240, 240, 240, 240, 240, 241, 241, 241, 241, 242, 242, 242, 242, 242, 242, 242, 242, 243, 243, 243, 243, 243, 243, 243, 243, 243, 243, 243, 243, 243, 243, 243, 243, 247, 247, 247, 247, 247, 247, 247, 247, 247, 247, 247, 247, 247, 247, 247, 247, 247, 247, 247, 247, 247, 247, 247, 253, 253, 253, 253, 253, 253, 253, 253, 253, 253, 253, 253, 253, 253, 253, 253, 253, 253, 253, 253, 253, 253, 253, 253, 253, 253, 253, 257, 257, 257, 257, 257, 257, 257, 257, 257, 257, 257, 257, 262, 262, 262, 262, 262, 262, 262, 262, 262, 262, 262, 262, 262, 262, 262, 262, 262, 262, 262, 262, 262, 262, 262, 262, 262, 262, 262, 262, 262, 262, 262, 262, 262, 262, 262, 262, 262, 262, 262, 262, 262, 262, 262, 262, 262, 262, 262, 262, 262, 262], Any[151.0, 154.0, 155.0, 156.0, 158.0, 159.0, 160.0, 161.0, 162.0, 164.0, 164.5, 165.0, 166.0, 167.0, 168.0, 169.0, 170.0, 171.0, 172.0, 173.0, 174.0, 174.0, 176.0, 176.5, 178.0, 179.0, 180.0, 181.0, 182.0, 183.0, 184.0, 185.0, 186.0, 187.0, 189.0, 190.0, 192.0, 193.0, 194.0, 196.0, 198.0, 200.0, 202.0, 203.0, 204.0, 205.0, 205.0, 206.0, 207.0, 208.0, 208.0, 209.0, 210.0, 210.0, 211.0, 212.0, 212.0, 212.0, 214.0, 215.0, 215.0, 215.0, 215.0, 216.0, 216.0, 216.0, 219.0, 221.0, 222.0, 222.0, 222.0, 223.0, 223.0, 223.0, 223.0, 224.0, 225.0, 226.0, 226.0, 226.0, 226.0, 227.0, 227.0, 227.0, 230.0, 234.0, 234.0, 234.0, 234.0, 234.0, 234.0, 237.0, 237.0, 237.0, 237.0, 237.0, 237.0, 237.0, 238.0, 239.0, 239.0, 239.0, 240.0, 240.0, 240.0, 240.0, 240.0, 240.0, 240.0, 241.0, 241.0, 242.0, 242.0, 242.0, 242.0, 242.0, 242.0, 242.0, 242.0, 242.0, 242.0, 243.0, 243.0, 243.0, 243.0, 243.0, 243.0, 243.0, 243.0, 243.0, 243.0, 243.0, 243.0, 243.0, 243.0, 243.0, 243.0, 247.0, 247.0, 247.0, 247.0, 247.0, 247.0, 247.0, 247.0, 247.0, 247.0, 247.0, 247.0, 247.0, 247.0, 247.0, 247.0, 247.0, 247.0, 247.0, 247.0, 247.0, 247.0, 247.0, 253.0, 253.0, 253.0, 253.0, 253.0, 253.0, 253.0, 253.0, 253.0, 253.0, 253.0, 253.0, 253.0, 253.0, 253.0, 253.0, 253.0, 253.0, 253.0, 253.0, 253.0, 253.0, 253.0, 253.0, 253.0, 253.0, 253.0, 257.0, 257.0, 257.0, 257.0, 257.0, 257.0, 257.0, 257.0, 257.0, 257.0, 257.0, 257.0, 262.0, 262.0, 262.0, 262.0, 262.0, 262.0, 262.0, 262.0, 262.0, 262.0, 262.0, 262.0, 262.0, 262.0, 262.0, 262.0, 262.0, 262.0, 262.0, 262.0, 262.0, 262.0, 262.0, 262.0, 262.0, 262.0, 262.0, 262.0, 262.0, 262.0, 262.0, 262.0, 262.0, 262.0, 262.0, 262.0, 262.0, 262.0, 262.0, 262.0, 262.0, 262.0], Any[151.608, 153.676, 155.232, 156.634, 157.814, 158.888, 160.094, 161.222, 162.266, 163.342, 164.326, 165.3, 166.296, 167.264, 168.082, 169.034, 169.922, 170.91, 171.586, 172.684, 173.592, 174.388, 175.578, 176.56, 177.47, 178.628, 179.926, 180.932, 182.132, 183.222, 183.962, 185.1, 186.064, 187.238, 188.67, 190.182, 191.674, 193.242, 194.73, 196.304, 198.0, 199.812, 201.406, 202.798, 203.874, 204.826, 205.574, 206.226, 206.968, 207.734, 208.454, 209.164, 209.846, 210.498, 211.17, 211.79, 212.386, 213.024, 213.74, 214.444, 214.978, 215.308, 215.614, 216.064, 216.746, 217.7, 219.038, 220.396, 221.516, 222.09, 222.37, 222.626, 222.934, 223.286, 223.652, 224.172, 224.888, 225.56, 226.028, 226.318, 226.644, 227.132, 227.9, 229.026, 230.504, 232.034, 233.42, 234.082, 234.396, 234.77, 235.316, 236.002, 236.656, 236.968, 237.078, 237.156, 237.302, 237.54, 237.938, 238.446, 238.896, 239.25, 239.51, 239.772, 239.954, 240.048, 240.116, 240.222, 240.378, 240.732, 241.108, 241.498, 241.792, 241.952, 241.988, 242.014, 242.024, 242.038, 242.09, 242.17, 242.308, 242.504, 242.742, 242.926, 242.994, 243.0, 243.0, 243.0, 243.0, 243.016, 243.032, 243.064, 243.128, 243.232, 243.464, 243.816, 244.448, 245.36, 246.364, 246.912, 246.986, 247.0, 246.996, 247.0, 247.0, 247.0, 247.0, 247.0, 246.992, 247.0, 247.0, 246.982, 247.024, 247.048, 247.096, 247.18, 247.372, 247.696, 248.272, 249.2, 250.576, 251.922, 252.68, 252.964, 253.0, 253.0, 253.0, 253.0, 252.994, 253.0, 253.0, 253.0, 252.988, 253.0, 252.994, "
     ]
    },
    {
     "name": "stdout",
     "output_type": "stream",
     "text": [
      "253.0, 253.0, 252.982, 253.0, 253.016, 253.032, 253.064, 253.128, 253.248, 253.464, 253.848, 254.528, 255.44, 256.368, 256.84, 257.0, 257.02, 257.04, 257.08, 257.14, 257.27, 257.54, 258.022, 258.81, 259.994, 261.338, 261.934, 262.0, 262.0, 262.0, 262.0, 262.0, 262.0, 261.998, 261.97, 261.992, 262.0, 262.0, 262.0, 262.0, 262.0, 262.0, 262.0, 262.0, 262.0, 262.0, 262.0, 261.986, 262.0, 261.984, 262.0, 262.0, 261.992, 262.0, 262.0, 262.0, 262.0, 262.0, 261.986, 262.0, 262.0, 262.0, 262.0, 262.0, 262.0, 262.0], [8, 9, 7, 44, 3, 4, 16, 42, 46, 45, 20, 23, 36, 38, 7, 3, 23, 2, 33, 41], 273)]Precision:\t1.0\n",
      "257.5\n"
     ]
    },
    {
     "data": {
      "text/plain": [
       "10-element Array{Any,1}:\n",
       " 260\n",
       " 272\n",
       " 251\n",
       " 236\n",
       " 251\n",
       " 266\n",
       " 235\n",
       " 262\n",
       " 269\n",
       " 273"
      ]
     },
     "execution_count": 36,
     "metadata": {},
     "output_type": "execute_result"
    }
   ],
   "source": [
    "easy_noisy_sequences = []\n",
    "open(\"Final Generated Fasta Files/Easy Noisy CGCTCTCCAGCTCGTAGCTC-8,9,7,44,3,4,16,42,46,45,20,23,36,38,7,3,23,2,33,41,.fasta\") do file\n",
    "    i = 0\n",
    "    for ln in eachline(file)\n",
    "        i += 1 \n",
    "        if i % 2 == 0\n",
    "            push!(easy_noisy_sequences, strip(ln))\n",
    "        end\n",
    "    end\n",
    "end\n",
    "BAYESIAN_SCORING = false\n",
    "\n",
    "results = []\n",
    "scores = []\n",
    "times = []\n",
    "for i in 1:10\n",
    "    (result, t) = @timed GAME(easy_noisy_sequences,0.001,3000, 500, 20)\n",
    "    push!(times, t)\n",
    "    push!(results, result)\n",
    "    push!(scores, result[5])\n",
    "end\n",
    "results\n",
    "\n",
    "print(results)\n",
    "\n",
    "precision = precisionGetter(results, \"CGCTCTCCAGCTCGTAGCTC\", 20, easy_noisy_sequences)\n",
    "println(\"Precision:\\t\", precision)\n",
    "\n",
    "println(Statistics.mean(scores))\n",
    "scores"
   ]
  },
  {
   "cell_type": "code",
   "execution_count": 37,
   "metadata": {},
   "outputs": [
    {
     "name": "stdout",
     "output_type": "stream",
     "text": [
      "Any[\"CGCTTTCATGCGATTAGCAC\", \"CGATCTCCAACTCGAATATC\", \"GGTTCTCCACTTTGCACCTC\", \"CGCTGTGTAGCTAATAGCAC\", \"TGGGCTTCCGCTCGAGGGTC\", \"CGATTCACGGCGCTTGCCTC\", \"GGGACACCAGTTCGTAGATG\", \"CGGTCTCGACGTCGTATCTG\", \"GGCCCCCCAGCACATAGCTT\", \"CGCTCCACAGCTCCTACCTC\", \"CGCTCTACAGCTCGTAGATC\", \"CGCCCTACAGGGCTAACCCC\", \"CGCTAACCAGCTCATAGCTC\", \"CGGTAGGCATCCCTCAGCTC\", \"CTCTCGACAGCCCGTTCATG\", \"AGATTTCCTGGCCGTCCCTT\", \"TGCTTTCCAACGCGTCGCTC\", \"TGCAGTGCCAGTCGTAACTC\", \"CACACCCAAGGTCTTAGCAC\", \"CGCTCTCCAGCACGTATGAC\"]\n",
      "CGCTCTCCAGCTCGTAGCTC\n"
     ]
    }
   ],
   "source": [
    "testProfile = GenerateMotifStrings([8, 9, 7, 44, 3, 4, 16, 42, 46, 45, 20, 23, 36, 38, 7, 3, 23, 2, 33, 41], 20, easy_noisy_sequences)\n",
    "println(testProfile)\n",
    "testConsensus = ConsensusString(testProfile)\n",
    "println(testConsensus)"
   ]
  },
  {
   "cell_type": "code",
   "execution_count": 38,
   "metadata": {},
   "outputs": [
    {
     "data": {
      "text/plain": [
       "11.821425183399999"
      ]
     },
     "execution_count": 38,
     "metadata": {},
     "output_type": "execute_result"
    }
   ],
   "source": [
    "Statistics.mean(times)"
   ]
  },
  {
   "cell_type": "markdown",
   "metadata": {},
   "source": [
    "Hard Challenge with 100% Motif Conservation"
   ]
  },
  {
   "cell_type": "code",
   "execution_count": 39,
   "metadata": {},
   "outputs": [
    {
     "name": "stderr",
     "output_type": "stream",
     "text": [
      "┌ Info: Genetic screen finished...\n",
      "└ @ Main In[14]:63\n",
      "┌ Info: (\"Aopt_motif\", Any[170, 101, 12, 105, 183, 108, 101, 113, 22, 142, 150, 27, 128, 99, 175, 64, 181, 37, 129, 35])\n",
      "└ @ Main In[14]:64\n"
     ]
    },
    {
     "name": "stdout",
     "output_type": "stream",
     "text": [
      "Aopt1\n"
     ]
    },
    {
     "name": "stderr",
     "output_type": "stream",
     "text": [
      "┌ Info: Genetic screen finished...\n",
      "└ @ Main In[14]:63\n",
      "┌ Info: (\"Aopt_motif\", Any[89, 7, 92, 148, 2, 45, 195, 87, 116, 113, 124, 80, 162, 112, 70, 85, 15, 186, 74, 150])\n",
      "└ @ Main In[14]:64\n"
     ]
    },
    {
     "name": "stdout",
     "output_type": "stream",
     "text": [
      "Aopt1\n"
     ]
    },
    {
     "name": "stderr",
     "output_type": "stream",
     "text": [
      "┌ Info: Genetic screen finished...\n",
      "└ @ Main In[14]:63\n",
      "┌ Info: (\"Aopt_motif\", Any[90, 9, 24, 24, 170, 103, 136, 11, 194, 68, 41, 174, 66, 172, 77, 124, 118, 108, 101, 132])\n",
      "└ @ Main In[14]:64\n"
     ]
    },
    {
     "name": "stdout",
     "output_type": "stream",
     "text": [
      "Aopt1\n"
     ]
    },
    {
     "name": "stderr",
     "output_type": "stream",
     "text": [
      "┌ Info: Genetic screen finished...\n",
      "└ @ Main In[14]:63\n",
      "┌ Info: (\"Aopt_motif\", Any[97, 136, 78, 39, 125, 139, 9, 28, 125, 132, 102, 59, 129, 23, 16, 21, 185, 48, 12, 24])\n",
      "└ @ Main In[14]:64\n"
     ]
    },
    {
     "name": "stdout",
     "output_type": "stream",
     "text": [
      "Aopt1\n"
     ]
    },
    {
     "name": "stderr",
     "output_type": "stream",
     "text": [
      "┌ Info: Genetic screen finished...\n",
      "└ @ Main In[14]:63\n",
      "┌ Info: (\"Aopt_motif\", Any[26, 65, 149, 87, 184, 66, 170, 181, 27, 92, 109, 187, 173, 90, 78, 36, 8, 70, 32, 166])\n",
      "└ @ Main In[14]:64\n"
     ]
    },
    {
     "name": "stdout",
     "output_type": "stream",
     "text": [
      "Aopt1\n"
     ]
    },
    {
     "name": "stderr",
     "output_type": "stream",
     "text": [
      "┌ Info: Genetic screen finished...\n",
      "└ @ Main In[14]:63\n",
      "┌ Info: (\"Aopt_motif\", Any[162, 133, 170, 38, 147, 66, 36, 167, 118, 178, 169, 52, 167, 131, 147, 28, 2, 121, 5, 192])\n",
      "└ @ Main In[14]:64\n"
     ]
    },
    {
     "name": "stdout",
     "output_type": "stream",
     "text": [
      "Aopt1\n"
     ]
    },
    {
     "name": "stderr",
     "output_type": "stream",
     "text": [
      "┌ Info: Genetic screen finished...\n",
      "└ @ Main In[14]:63\n",
      "┌ Info: (\"Aopt_motif\", Any[93, 157, 74, 20, 121, 123, 32, 155, 121, 128, 87, 55, 53, 97, 102, 7, 181, 44, 8, 161])\n",
      "└ @ Main In[14]:64\n"
     ]
    },
    {
     "name": "stdout",
     "output_type": "stream",
     "text": [
      "Aopt1\n"
     ]
    },
    {
     "name": "stderr",
     "output_type": "stream",
     "text": [
      "┌ Info: Genetic screen finished...\n",
      "└ @ Main In[14]:63\n",
      "┌ Info: (\"Aopt_motif\", Any[115, 159, 190, 22, 177, 48, 34, 157, 12, 34, 15, 37, 1, 99, 104, 9, 159, 46, 10, 103])\n",
      "└ @ Main In[14]:64\n"
     ]
    },
    {
     "name": "stdout",
     "output_type": "stream",
     "text": [
      "Aopt1\n"
     ]
    },
    {
     "name": "stderr",
     "output_type": "stream",
     "text": [
      "┌ Info: Genetic screen finished...\n",
      "└ @ Main In[14]:63\n",
      "┌ Info: (\"Aopt_motif\", Any[55, 2, 1, 115, 181, 88, 25, 153, 185, 126, 85, 104, 156, 1, 8, 148, 13, 42, 183, 13])\n",
      "└ @ Main In[14]:64\n"
     ]
    },
    {
     "name": "stdout",
     "output_type": "stream",
     "text": [
      "Aopt1\n"
     ]
    },
    {
     "name": "stderr",
     "output_type": "stream",
     "text": [
      "┌ Info: Genetic screen finished...\n",
      "└ @ Main In[14]:63\n",
      "┌ Info: (\"Aopt_motif\", Any[53, 161, 63, 24, 125, 135, 36, 159, 140, 10, 91, 88, 184, 23, 106, 21, 185, 48, 114, 165])\n",
      "└ @ Main In[14]:64\n"
     ]
    },
    {
     "name": "stdout",
     "output_type": "stream",
     "text": [
      "Aopt1\n",
      "Any[(Any[89, 90, 90, 93, 93, 93, 93, 93, 93, 94, 96, 96, 96, 96, 96, 97, 98, 98, 99, 101, 108, 108, 108, 108, 108, 108, 108, 109, 110, 110, 110, 111, 111, 112, 112, 114, 114, 114, 114, 114, 116, 116, 116, 117, 117, 118, 118, 118, 118, 118, 118, 119, 119, 119, 119, 119, 119, 120, 120, 120, 121, 121, 121, 121, 121, 122, 122, 123, 123, 123, 124, 124, 124, 124, 125, 125, 125, 125, 125, 125, 125, 125, 125, 125, 125, 125, 125, 125, 125, 125, 125, 125, 125, 125, 125, 125, 126, 126, 126, 126, 126, 126, 126, 126, 126, 126, 126, 126, 126, 126, 126, 126, 126, 126, 126, 126, 126, 126, 126, 126, 126, 126, 126, 126, 126, 126, 126, 126, 126, 126, 126, 126, 126, 126, 126, 126, 126, 126, 126, 126, 126, 126, 126, 126, 126, 126], Any[76.0, 77.0, 79.0, 80.0, 81.0, 82.0, 83.0, 83.0, 84.0, 85.0, 86.0, 87.0, 87.0, 88.0, 89.0, 90.0, 90.0, 91.0, 92.0, 93.0, 94.0, 95.0, 97.0, 98.0, 99.0, 100.0, 102.0, 103.0, 104.0, 105.0, 106.0, 107.0, 108.0, 108.0, 109.0, 109.0, 110.0, 110.0, 110.0, 111.0, 111.5, 112.0, 113.0, 113.0, 114.0, 114.0, 115.0, 116.0, 116.0, 117.0, 117.0, 117.0, 117.0, 117.0, 118.0, 118.0, 118.0, 118.0, 118.0, 119.0, 119.0, 119.0, 119.0, 120.0, 120.0, 120.0, 120.0, 120.0, 121.0, 121.0, 121.0, 121.0, 122.0, 122.0, 123.0, 123.0, 124.0, 124.0, 124.0, 124.0, 124.0, 124.0, 124.0, 125.0, 125.0, 125.0, 125.0, 125.0, 125.0, 125.0, 125.0, 125.0, 125.0, 125.0, 125.0, 125.0, 125.0, 125.0, 125.0, 125.0, 125.0, 125.0, 125.0, 125.0, 126.0, 126.0, 126.0, 126.0, 126.0, 126.0, 126.0, 126.0, 126.0, 126.0, 126.0, 126.0, 126.0, 126.0, 126.0, 126.0, 126.0, 126.0, 126.0, 126.0, 126.0, 126.0, 126.0, 126.0, 126.0, 126.0, 126.0, 126.0, 126.0, 126.0, 126.0, 126.0, 126.0, 126.0, 126.0, 126.0, 126.0, 126.0, 126.0, 126.0, 126.0, 126.0], Any[76.334, 77.798, 78.988, 80.09, 81.062, 81.976, 82.62, 83.504, 84.374, 85.184, 86.028, 86.558, 87.316, 87.952, 88.66, 89.528, 90.296, 91.016, 91.872, 92.892, 94.086, 95.164, 96.532, 97.832, 99.11, 100.406, 101.738, 102.926, 104.106, 105.19, 106.106, 106.9, 107.596, 108.174, 108.706, 109.194, 109.68, 110.128, 110.628, 111.128, 111.626, 112.198, 112.77, 113.314, 113.9, 114.564, 115.204, 115.8, 116.314, 116.694, 116.94, 117.104, 117.228, 117.402, 117.652, 117.888, 118.064, 118.18, 118.32, 118.562, 118.838, 119.06, 119.28, 119.522, 119.782, 120.038, 120.27, 120.504, 120.794, 121.066, 121.31, 121.57, 121.952, 122.344, 122.752, 123.172, 123.522, 123.81, 123.982, 124.078, 124.15, 124.264, 124.452, 124.686, 124.896, 124.986, 125.0, 125.0, 125.0, 124.994, 124.994, 125.0, 125.0, 125.0, 125.0, 125.0, 125.004, 125.008, 125.016, 125.032, 125.06, 125.116, 125.21, 125.392, 125.628, 125.81, 125.956, 126.0, 126.0, 126.0, 126.0, 125.998, 126.0, 125.994, 126.0, 126.0, 125.996, 126.0, 126.0, 126.0, 126.0, 126.0, 125.99, 126.0, 125.992, 126.0, 126.0, 126.0, 126.0, 126.0, 125.998, 126.0, 126.0, 126.0, 125.998, 125.992, 126.0, 126.0, 126.0, 125.988, 126.0, 126.0, 125.994, 126.0, 125.992, 126.0], [16, 101, 159, 105, 183, 23, 81, 113, 22, 3, 24, 170, 128, 59, 2, 64, 181, 9, 133, 7], 139), (Any[89, 91, 91, 91, 94, 94, 94, 94, 95, 95, 95, 98, 98, 98, 98, 98, 98, 98, 101, 101, 101, 101, 101, 102, 103, 103, 103, 103, 103, 104, 106, 106, 106, 106, 107, 107, 107, 111, 111, 111, 111, 111, 111, 112, 112, 112, 112, 112, 112, 112, 113, 113, 114, 114, 114, 114, 115, 115, 115, 115, 115, 115, 115, 115, 115, 116, 116, 116, 116, 116, 116, 116, 116, 116, 116, 116, 116, 116, 116, 116, 116, 116, 116, 116, 116, 116, 116, 116, 116, 116, 116, 116, 117, 117, 117, 117, 117, 117, 117, 117, 117, 117, 117, 118, 118, 118, 118, 118, 118, 118, 118, 119, 119, 119, 119, 119, 119, 119, 119, 119, 119, 119, 119, 119, 119, 119, 119, 119, 121, 121, 121, 121, 121, 121, 121, 121, 122, 122, 122, 122, 122, 122, 122, 122, 122, 122, 122, 122, 122, 122, 122, 122, 122, 122, 122, 122, 122, 122, 122, 122, 122, 122, 122, 122, 122, 122, 122, 122, 122, 122, 122, 122, 122, 122, 122, 122, 122, 122, 122, 122, 122, 122, 122, 122, 122, 122], Any[76.0, 77.0, 79.0, 80.0, 81.0, 82.0, 83.0, 84.0, 85.0, 85.0, 86.0, 87.0, 88.0, 89.0, 89.0, 90.0, 91.0, 91.0, 92.0, 93.0, 93.0, 94.0, 95.0, 96.0, 97.0, 97.0, 98.0, 98.0, 99.0, 100.0, 100.0, 101.0, 101.0, 102.0, 103.0, 103.0, 104.0, 104.0, 105.0, 105.0, 106.0, 107.0, 107.0, 108.0, 108.0, 109.0, 109.0, 110.0, 110.0, 111.0, 111.0, 111.0, 112.0, 112.0, 112.0, 112.0, 112.0, 113.0, 113.0, 113.0, 113.0, 114.0, 114.0, 114.0, 114.0, 115.0, 115.0, 115.0, 115.0, 115.0, 115.0, 116.0, 116.0, 116.0, 116.0, 116.0, 116.0, 116.0, 116.0, 116.0, 116.0, 116.0, 116.0, 116.0, 116.0, 116.0, 116.0, 116.0, 116.0, 116.0, 116.0, 116.0, 116.0, 116.0, 116.0, 116.0, 116.0, 116.0, 116.0, 116.0, 117.0, 117.0, 117.0, 117.0, 117.0, 117.0, 117.0, 117.0, 117.0, 117.0, 117.0, 117.0, 118.0, 118.0, 118.0, 118.0, 118.0, 119.0, 119.0, 119.0, 119.0, 119.0, 119.0, 119.0, 119.0, 119.0, 119.0, 119.0, 119.0, 119.0, 119.0, 119.0, 119.0, 119.0, 119.0, 119.0, 121.0, 121.0, 121.0, 121.0, 121.0, 122.0, 122.0, 122.0, 122.0, 122.0, 122.0, 122.0, 122.0, 122.0, 122.0, 122.0, 122.0, 122.0, 122.0, 122.0, 122.0, 122.0, 122.0, 122.0, 122.0, 122.0, 122.0, 122.0, 122.0, 122.0, 122.0, 122.0, 122.0, 122.0, 122.0, 122.0, 122.0, 122.0, 122.0, 122.0, 122.0, 122.0, 122.0, 122.0, 122.0, 122.0, 122.0, 122.0, 122.0, 122.0], Any[75.878, 77.604, 78.898, 80.15, 81.036, 81.778, 82.88, 83.694, 84.596, 85.238, 86.076, 86.832, 87.646, 88.358, 89.072, 89.766, 90.554, 91.208, 91.754, 92.624, 93.266, 94.044, 94.812, 95.614, 96.33, 96.986, 97.7, 98.394, 98.95, 99.58, 100.194, 100.862, 101.544, 102.142, 102.778, 103.364, 103.874, 104.444, 104.964, 105.46, 106.06, 106.626, 107.186, 107.734, 108.244, 108.75, 109.294, 109.756, 110.26, 110.638, 111.02, 111.346, 111.62, 111.83, 112.0, 112.198, 112.34, 112.562, 112.808, 113.096, 113.392, 113.692, 113.97, 114.186, 114.382, 114.614, 114.854, 115.004, 115.086, 115.188, 115.352, 115.584, 115.828, 115.968, 115.99, 116.0, 116.0, 116.0, 116.0, 116.0, 116.0, 116.0, 115.996, 116.0, 116.0, 116.0, 116.0, 116.0, 115.992, 116.0, 116.0, 116.0, 115.998, 116.008, 116.012, 116.024, 116.048, 116.096, 116.178, 116.32, 116.524, 116.782, 116.946, 116.994, 117.0, 117.008, 117.02, 117.042, 117.08, 117.152, 117.266, 117.462, 117.712, 117.928, 118.088, 118.212, 118.384, 118.608, 118.86, 118.974, 118.992, 119.0, 119.0, 118.996, 119.0, 118.998, 118.994, 118.996, 119.008, 119.004, 119.032, 119.068, 119.13, 119.252, 119.452, 119.796, 120.28, 120.716, 121.022, 121.168, 121.312, 121.542, 121.78, 121.95, 121.994, 122.0, 122.0, 122.0, 122.0, 122.0, 122.0, 121.992, 122.0, 122.0, 122.0, 121.99, 122.0, 121.998, 122.0, 122.0, 121.99, 122.0, 122.0, 122.0, 121.99, 122.0, 122.0, 122.0, 122.0, 122.0, 122.0, 121.994, 121.99, 122.0, 122.0, 121.994, 122.0, 122.0, 122.0, 122.0, 121.994, 122.0, 122.0, 122.0, 122.0, 122.0], [10, 7, 25, 131, 2, 170, 195, 9, 117, 113, 124, 80, 162, 7, 70, 85, 15, 186, 74, 79], 131), (Any[87, 87, 91, 91, 91, 91, 91, 96, 96, 96, 96, 96, 96, 96, 96, 97, 98, 99, 100, 100, 100, 102, 102, 103, 103, 103, 103, 105, 106, 107, 108, 108, 108, 108, 109, 109, 110, 112, 112, 112, 112, 112, 112, 112, 113, 113, 113, 114, 114, 114, 114, 114, 114, 114, 114, 114, 114, 114, 115, 115, 115, 115, 115, 115, 115, 115, 115, 115, 115, 115, 115, 115, 115, 115, 115, 115, 115, 115, 116, 116, 116, 116, 116, 116, 116, 116, 116, 116, 116, 116, 116, 116, 116, 116, 116, 116, 116, 117, 117, 117, 117, 117, 117, 118, 118, 118, 118, 119, 119, 119, 119, 119, 119, 120, 119, 120, 120, 120, 120, 120, 120, 120, 120, 120, 120, 120, 121, 121, 121, 121, 121, 121, 121, 121, 121, 121, 121, 121, 121, 121, 121, 121, 121, 121, 121, 121, 121, 121, 121, 121, 121, 121, 121, 121, 121, 121, 121, 121, 121, 121, 121, 121, 121, 121, 121, 121, 121, 121, 121, 121, 121, 121, 121, 121, 121, 121], Any[76.0, 77.0, 79.0, 80.0, 81.0, 81.0, 82.0, 83.0, 83.0, 85.0, 85.0, 86.0, 87.0, 88.0, 89.0, 90.0, 91.0, 92.0, 93.0, 94.0, 95.0, 96.0, 96.0, 97.0, 97.0, 99.0, 99.0, 100.0, 101.0, 102.0, 103.0, 103.0, 103.0, 104.0, 106.0, 106.0, 107.0, 108.0, 108.0, 108.0, 109.0, 109.0, 110.0, 111.0, 111.0, 112.0, 112.0, 112.0, 112.0, 112.0, 112.0, 113.0, 113.0, 113.0, 113.0, 114.0, 114.0, 114.0, 114.0, 114.0, 114.0, 114.0, 114.0, 114.0, 114.0, 114.0, 115.0, 115.0, 115.0, 115.0, 115.0, 115.0, 115.0, 115.0, 115.0, 115.0, 115.0, 115.0, 115.0, 115.0, 115.0, 115.0, 115.0, 115.0, 115.0, 115.0, 116.0, 116.0, 116.0, 116.0, 116.0, 116.0, 116.0, 116.0, 116.0, 116.0, 116.0, 116.0, 116.0, 116.0, 116.0, 116.0, 116.0, 116.0, 116.0, 117.0, 117.0, 117.0, 118.0, 118.0, 118.0, 118.0, 118.0, 119.0, 119.0, 119.0, 119.0, 119.0, 119.0, 119.0, 119.0, 119.0, 120.0, 120.0, 120.0, 120.0, 120.0, 120.0, 120.0, 120.0, 120.0, 120.0, 120.0, 120.0, 121.0, 121.0, 121.0, 121.0, 121.0, 121.0, 121.0, 121.0, 121.0, 121.0, 121.0, 121.0, 121.0, 121.0, 121.0, 121.0, 121.0, 121.0, 121.0, 121.0, 121.0, 121.0, 121.0, 121.0, 121.0, 121.0, 121.0, 121.0, 121.0, 121.0, 121.0, 121.0, 121.0, 121.0, 121.0, 121.0, 121.0, 121.0, 121.0, 121.0, 121.0, 121.0], Any[76.054, 77.528, 78.738, 79.71, 80.764, 81.496, 82.2, 82.938, 83.592, 84.36, 85.09, 85.896, 86.758, 87.744, 88.706, 89.712, 90.872, 91.796, 92.822, 93.782, 94.586, 95.43, 96.266, 96.994, 97.7, 98.482, 99.218, 100.066, 100.892, 101.7, 102.43, 103.168, 103.84, 104.536, 105.342, 106.126, 106.792, 107.392, 107.956, 108.486, 108.954, 109.436, 110.008, 110.594, 111.17, 111.624, 111.942, 112.078, 112.172, 112.258, 112.4, 112.636, 112.87, 113.108, 113.422, 113.67, 113.88, 113.976, 114.002, 114.008, 114.016, 114.032, 114.06, 114.104, 114.198, 114.35, 114.572, 114.82, 114.958, 114.988, 115.0, 114.994, 115.0, 115.0, 115.0, 115.0, 115.0, 115.0, 115.004, 115.008, 115.006, 115.032, 115.05, 115.11, 115.2, 115.36, 115.564, 115.806, 115.96, 115.994, 116.0, 116.0, 116.0, 116.0, 116.0, 116.0, 116.0, 116.004, 116.008, 116.014, 116.044, 116.08, 116.146, 116.272, 116.486, 116.744, 117.012, 117.298, 117.572, 117.832, 118.032, 118.156, 118.324, 118.54, 118.78, 118.94, 119.01, 119.036, 119.078, 119.146, 119.276, 119.478, 119.722, 119.914, 119.986, 119.996, 120.004, 120.008, 120.008, 120.03, 120.06, 120.11, 120.202, 120.354, 120.568, 120.796, 120.938, 120.99, 121.0, 121.0, 121.0, 120.99, 120.996, 121.0, 121.0, 121.0, 121.0, 121.0, 121.0, 121.0, 121.0, 120.988, 120.99, 121.0, 121.0, 121.0, 120.986, 121.0, 121.0, 120.996, 121.0, 121.0, 121.0, 121.0, 121.0, 121.0, 120.996, 121.0, 120.994, 121.0, 121.0, 121.0, 121.0, 121.0, 121.0, 121.0], [20, 20, 24, 24, 170, 103, 8, 124, 194, 3, 121, 174, 103, 14, 81, 75, 118, 108, 70, 81], 138), (Any[87, 89, 89, 89, 90, 92, 93, 93, 93, 93, 94, 95, 96, 97, 97, 98, 101, 101, 101, 101, 101, 101, 101, 101, 102, 103, 103, 105, 107, 111, 113, 113, 113, 113, 115, 115, 115, 116, 116, 116, 117, 118, 118, 118, 119, 119, 119, 119, 119, 119, 119, 119, 119, 119, 119, 119, 119, 119, 119, 119, 119, 119, 119, 119, 119, 119, 119, 120, 120, 120, 120, 120, 120, 120, 120, 120, 120, 120, 120, 120, 120, 120, 120, 120, 120, 120, 120, 120, 121, 121, 121, 121, 123, 123, 123, 124, 124, 124, 124, 124, 124, 124, 124, 124, 124, 124, 125, 125, 125, 125, 125, 125, 125, 125, 125, 125, 125, 125, 125, 126, 126, 126, 126, 126, 126, 126, 126, 126, 126, 128, 128, 128, 128, 128, 128, 128, 128, 128, 128, 128, 128, 128, 128, 128, 130, 130, 130, 130, 130, 130, 130, 131, 131, 131, 132, 132, 132, 132, 132, 132, 132, 132, 132, 132, 132, 132, 132, 132, 132, 132, 132, 132, 132, 132, 132, 132, 132, 132, 132, 132, 132, 132, 132, 132, 132, 132, 132, 132, 132, 132, 132, 132, 132, 132, 132, 132, 133, 133, 133, 133, 133, 133, 133, 133, 133, 133, 133, 133, 133, 133, 136, 136, 136, 136, 139, 139, 139, 139, 139, 139, 139, 139, 139, 139, 139, 139, 139, 139, 139, 139, 139, 139, 139, 139, 139, 139, 139, 139, 139, 139, 139, 139, 139, 139, 139, 139, 139, 139, 139, 139, 139, 139, 139, 139, 139, 139, 139, 139, 139, 139, 139, 139, 139, 139], Any[76.0, 77.0, 79.0, 80.0, 81.0, 82.0, 83.0, 83.0, 84.0, 85.0, 85.0, 86.0, 87.0, 87.0, 88.0, 88.0, 89.0, 90.0, 90.0, 91.0, 92.0, 92.0, 93.0, 94.0, 95.0, 96.0, 97.0, 98.0, 99.0, 100.0, 101.0, 103.0, 104.0, 106.0, 108.0, 110.0, 111.0, 112.0, 113.0, 113.0, 114.0, 115.0, 115.0, 115.0, 116.0, 117.0, 118.0, 118.0, 118.0, 118.0, 118.0, 118.0, 119.0, 119.0, 119.0, 119.0, 119.0, 119.0, 119.0, 119.0, 119.0, 119.0, 119.0, 119.0, 119.0, 119.0, 119.0, 119.0, 119.0, 119.0, 119.0, 119.0, 119.0, 119.0, 119.0, 120.0, 120.0, 120.0, 120.0, 120.0, 120.0, 120.0, 120.0, 120.0, 120.0, 120.0, 120.0, 120.0, 120.0, 120.0, 120.0, 120.0, 120.0, 120.0, 120.0, 120.0, 121.0, 121.0, 121.0, 121.0, 123.0, 124.0, 124.0, 124.0, 124.0, 124.0, 124.0, 124.0, 124.0, 124.0, 124.0, 124.0, 124.0, 124.0, 125.0, 125.0, 125.0, 125.0, 125.0, 125.0, 125.0, 125.0, 125.0, 125.0, 125.0, 125.0, 125.0, 126.0, 126.0, 126.0, 126.0, 126.0, 126.0, 126.0, 126.0, 126.0, 126.0, 128.0, 128.0, 128.0, 128.0, 128.0, 128.0, 128.0, 128.0, 128.0, 128.0, 128.0, 128.0, 128.0, 128.0, 128.0, 129.0, 130.0, 130.0, 130.0, 130.0, 131.0, 131.0, 131.0, 131.0, 132.0, 132.0, 132.0, 132.0, 132.0, 132.0, 132.0, 132.0, 132.0, 132.0, 132.0, 132.0, 132.0, 132.0, 132.0, 132.0, 132.0, 132.0, 132.0, 132.0, 132.0, 132.0, 132.0, 132.0, 132.0, 132.0, 132.0, 132.0, 132.0, 132.0, 132.0, 132.0, 132.0, 132.0, 132.0, 132.0, 132.0, 132.0, 132.0, 132.0, 132.0, 132.0, 132.0, 133.0, 133.0, 133.0, 133.0, 133.0, 133.0, 133.0, 133.0, 133.0, 133.0, 133.0, 133.0, 133.0, 133.0, 136.0, 136.0, 136.0, 139.0, 139.0, 139.0, 139.0, 139.0, 139.0, 139.0, 139.0, 139.0, 139.0, 139.0, 139.0, 139.0, 139.0, 139.0, 139.0, 139.0, 139.0, 139.0, 139.0, 139.0, 139.0, 139.0, 139.0, 139.0, 139.0, 139.0, 139.0, 139.0, 139.0, 139.0, 139.0, 139.0, 139.0, 139.0, 139.0, 139.0, 139.0, 139.0, 139.0, 139.0, 139.0, 139.0], Any[76.018, 77.59, 79.098, 80.254, 81.316, 82.002, 82.742, 83.374, 84.006, 84.668, 85.336, 86.044, 86.684, 87.32, 87.678, 88.246, 88.832, 89.496, 90.126, 90.836, 91.54, 92.18, 92.862, 93.622, 94.504, 95.416, 96.57, 97.722, 99.014, 100.312, 101.682, 103.078, 104.628, 106.234, 107.924, 109.556, 111.0, 112.116, 112.92, 113.512, 114.02, 114.61, 115.212, 115.708, 116.286, 116.964, 117.574, 117.918, 118.074, 118.156, 118.284, 118.474, 118.696, 118.892, 118.988, 119.0, 119.0, 119.0, 119.0, 119.0, 119.0, 119.0, 119.0, 119.0, 119.0, 119.0, 119.0, 119.0, 119.008, 119.016, 119.032, 119.062, 119.12, 119.218, 119.386, 119.63, 119.854, 119.976, 119.992, 120.0, 120.0, 120.0, 120.0, 120.0, 120.0, 120.0, 120.0, 119.996, 119.996, 120.008, 120.016, 120.032, 120.072, 120.142, 120.258, 120.458, 120.73, 121.098, 121.456, 121.932, 122.586, 123.288, 123.782, 123.962, 124.0, 124.0, 124.004, 124.008, 124.016, 124.032, 124.062, 124.112, 124.21, 124.368, 124.582, 124.812, 124.946, 125.0, 125.0, 125.004, 125.008, 125.012, 125.024, 125.048, 125.092, 125.164, 125.296, 125.51, 125.75, 125.93, 126.01, 126.03, 126.048, 126.1, 126.192, 126.376, 126.69, 127.134, 127.622, 127.898, 127.99, 128.0, 128.0, 128.0, 128.008, 128.008, 128.02, 128.036, 128.088, 128.168, 128.328, 128.588, 128.988, 129.494, 129.918, 130.178, 130.382, 130.636, 130.912, 131.192, 131.466, 131.748, 131.938, 131.996, 132.0, 132.0, 132.0, 132.0, 132.0, 132.0, 132.0, 132.0, 132.0, 132.0, 132.0, 132.0, 132.0, 131.996, 131.992, 132.0, 132.0, 132.0, 132.0, 132.0, 131.998, 132.0, 131.996, 132.0, 131.994, 132.0, 132.0, 132.0, 132.0, 131.994, 132.0, 132.0, 132.004, 132.008, 132.014, 132.028, 132.052, 132.104, 132.196, 132.344, 132.566, 132.788, 132.936, 132.996, 132.998, 133.0, 133.006, 133.036, 133.072, 133.132, 133.252, 133.486, 133.82, 134.4, 135.18, 136.024, 136.848, 137.688, 138.442, 138.886, 138.982, 139.0, 139.0, 139.0, 139.0, 138.994, 138.992, 139.0, 138.994, 139.0, 139.0, 139.0, 138.984, 139.0, 139.0, 138.994, 139.0, 139.0, 139.0, 139.0, 138.994, 138.986, 139.0, 139.0, 139.0, 139.0, 139.0, 139.0, 139.0, 139.0, 139.0, 139.0, 139.0, 139.0, 139.0, 138.99, 138.994, 139.0, 139.0, 139.0], [94, 158, 75, 36, 122, 124, 33, 156, 122, 7, 88, 56, 54, 20, 103, 18, 182, 45, 9, 162], 189), (Any[89, 89, 89, 89, 91, 91, 96, 96, 96, 96, 98, 98, 98, 98, 100, 100, 103, 103, 103, 105, 105, 106, 109, 111, 111, 112, 112, 112, 112, 112, 112, 113, 113, 115, 115, 115, 115, 116, 116, 118, 119, 119, 120, 120, 120, 120, 120, 121, 121, 122, 122, 122, 122, 122, 123, 123, 123, 123, 123, 123, 123, 123, 123, 123, 123, 123, 125, 125, 125, 125, 125, 125, 125, 125, 125, 125, 125, 125, 125, 125, 125, 125, 125, 125, 125, 125, 125, 125, 125, 125, 125, 125, 125, 125, 126, 126, 126, 126, 126, 126, 126, 126, 126, 126, 127, 127, 127, 127, 127, 127, 127, 127, 127, 127, 128, 128, 128, 128, 128, 128, 129, 129, 129, 129, 129, 129, 129, 129, 129, 129, 129, 129, 129, 129, 129, 129, 129, 129, 129, 129, 129, 129, 129, 129, 129, 129, 129, 129, 129, 129, 129, 129, 129, 129, 129, 129, 129, 129, 129, 129, 129, 129, 129, 129, 129, 129, 129, 129, 129, 129], Any[76.0, 77.0, 79.0, 80.0, 81.0, 81.0, 82.0, 83.0, 84.0, 84.0, 85.0, 86.0, 87.0, 88.0, 89.0, 90.0, 92.0, 93.0, 95.0, 96.0, 97.0, 98.0, 99.0, 100.0, 101.0, 102.0, 103.0, 105.0, 106.0, 106.0, 107.0, 108.0, 109.0, 110.0, 111.0, 111.0, 112.0, 113.0, 113.0, 114.0, 115.0, 115.0, 115.0, 116.0, 116.0, 117.0, 118.0, 118.0, 119.0, 119.0, 120.0, 120.0, 120.0, 120.0, 121.0, 121.0, 121.0, 122.0, 122.0, 122.0, 123.0, 123.0, 123.0, 123.0, 123.0, 123.0, 123.0, 123.0, 123.0, 123.0, 123.0, 123.0, 123.0, 123.0, 123.0, 125.0, 125.0, 125.0, 125.0, 125.0, 125.0, 125.0, 125.0, 125.0, 125.0, 125.0, 125.0, 125.0, 125.0, 125.0, 125.0, 125.0, 125.0, 125.0, 125.0, 125.0, 125.0, 125.0, 125.0, 125.0, 125.0, 125.0, 126.0, 126.0, 126.0, 126.0, 126.0, 126.0, 126.0, 126.0, 126.0, 126.0, 127.0, 127.0, 127.0, 127.0, 127.0, 127.0, 127.0, 127.0, 127.0, 128.0, 128.0, 128.0, 128.0, 128.0, 129.0, 129.0, 129.0, 129.0, 129.0, 129.0, 129.0, 129.0, 129.0, 129.0, 129.0, 129.0, 129.0, 129.0, 129.0, 129.0, 129.0, 129.0, 129.0, 129.0, 129.0, 129.0, 129.0, 129.0, 129.0, 129.0, 129.0, 129.0, 129.0, 129.0, 129.0, 129.0, 129.0, 129.0, 129.0, 129.0, 129.0, 129.0, 129.0, 129.0, 129.0, 129.0, 129.0, 129.0], Any[75.782, 77.43, 78.688, 79.78, 80.618, 81.49, 82.354, 83.188, 83.826, 84.6, 85.216, 86.094, 86.994, 88.034, 89.258, 90.506, 92.066, 93.36, 94.704, 96.078, 97.24, 98.344, 99.462, 100.444, 101.534, 102.632, 103.61, 104.67, 105.498, 106.42, 107.334, 108.096, 108.916, 109.872, 110.706, 111.426, 112.142, 112.778, 113.348, 113.94, 114.482, 114.96, 115.42, 115.878, 116.43, 117.088, 117.782, 118.436, 118.974, 119.434, 119.754, 120.03, 120.22, 120.422, 120.7, 121.052, 121.446, 121.802, 122.142, 122.424, 122.698, 122.9, 122.978, 123.0, 123.0, 123.0, 123.008, 123.016, 123.024, 123.048, 123.092, 123.178, 123.344, 123.596, 123.984, 124.488, 124.846, 124.972, 125.0, 125.0, 125.0, 124.994, 125.0, 125.0, 125.0, 125.0, 125.0, 125.0, 125.0, 125.0, 125.0, 125.0, 125.0, 125.0, 125.004, 125.0, 125.008, 125.032, 125.05, 125.116, 125.206, 125.366, 125.588, 125.832, 125.968, 126.006, 126.012, 126.024, 126.048, 126.094, 126.17, 126.314, 126.518, 126.78, 126.944, 127.002, 127.016, 127.046, 127.082, 127.172, 127.31, 127.528, 127.774, 128.002, 128.198, 128.39, 128.648, 128.864, 128.984, 129.0, 129.0, 129.0, 129.0, 129.0, 129.0, 129.0, 129.0, 129.0, 129.0, 128.996, 129.0, 129.0, 129.0, 129.0, 129.0, 129.0, 129.0, 129.0, 129.0, 128.998, 129.0, 129.0, 129.0, 129.0, 129.0, 128.994, 128.986, 128.994, 129.0, 128.992, 129.0, 128.99, 129.0, 129.0, 129.0, 129.0, 128.986, 129.0, 129.0, 129.0], [43, 65, 149, 146, 184, 66, 170, 169, 27, 197, 109, 187, 173, 9, 78, 54, 8, 127, 32, 166], 139), (Any[85, 89, 89, 89, 90, 90, 90, 91, 92, 92, 93, 94, 94, 94, 98, 98, 98, 99, 99, 99, 99, 102, 102, 102, 103, 106, 106, 109, 109, 109, 111, 111, 111, 111, 112, 113, 114, 115, 116, 116, 117, 117, 118, 118, 119, 119, 120, 121, 121, 121, 122, 122, 123, 123, 123, 123, 123, 123, 123, 123, 123, 123, 123, 123, 123, 123, 123, 123, 124, 124, 124, 125, 125, 125, 125, 125, 125, 126, 126, 126, 126, 126, 126, 126, 126, 126, 126, 126, 126, 126, 126, 126, 126, 126, 126, 126, 126, 126, 126, 126, 126, 126, 126, 126, 126, 126, 126, 126, 126, 126, 126, 126, 126, 126, 126, 126, 126, 126, 127, 127, 127, 127, 127, 127, 127, 128, 128, 128, 128, 128, 128, 128, 128, 128, 128, 129, 129, 129, 129, 129, 129, 129, 129, 129, 129, 129, 129, 130, 130, 130, 130, 130, 130, 130, 130, 130, 130, 130, 130, 130, 130, 130, 130, 130, 130, 130, 130, 130, 130, 130, 130, 130, 130, 130, 130, 130, 130, 130, 130, 130, 130, 130, 130, 130, 130, 130, 130, 130, 130, 130, 130, 130, 130, 130, 130, 130, 130], Any[75.0, 77.0, 78.0, 79.0, 80.0, 81.0, 82.0, 82.5, 83.0, 84.0, 84.0, 85.0, 86.0, 86.0, 87.0, 88.0, 88.0, 89.0, 90.0, 90.0, 91.0, 92.0, 92.0, 93.0, 94.0, 95.0, 96.0, 97.0, 98.0, 100.0, 102.0, 103.0, 105.0, 106.0, 107.0, 108.0, 108.0, 109.0, 110.0, 111.0, 111.0, 112.0, 113.0, 113.0, 114.0, 115.0, 116.0, 117.0, 117.0, 118.0, 119.0, 119.0, 120.0, 120.0, 121.0, 121.0, 122.0, 122.0, 122.0, 123.0, 123.0, 123.0, 123.0, 123.0, 123.0, 123.0, 123.0, 123.0, 123.0, 123.0, 123.0, 123.0, 123.0, 123.0, 123.0, 123.0, 124.0, 124.0, 124.0, 125.0, 125.0, 125.0, 125.0, 126.0, 126.0, 126.0, 126.0, 126.0, 126.0, 126.0, 126.0, 126.0, 126.0, 126.0, 126.0, 126.0, 126.0, 126.0, 126.0, 126.0, 126.0, 126.0, 126.0, 126.0, 126.0, 126.0, 126.0, 126.0, 126.0, 126.0, 126.0, 126.0, 126.0, 126.0, 126.0, 126.0, 126.0, 126.0, 126.0, 126.0, 126.0, 126.0, 126.0, 126.0, 126.0, 126.0, 127.0, 127.0, 127.0, 127.0, 127.0, 127.0, 128.0, 128.0, 128.0, 128.0, 128.0, 128.0, 128.0, 128.0, 128.0, 128.0, 128.0, 128.0, 129.0, 129.0, 129.0, 129.0, 129.0, 129.0, 129.0, 129.0, 129.0, 129.0, 130.0, 130.0, 130.0, 130.0, 130.0, 130.0, 130.0, 130.0, 130.0, 130.0, 130.0, 130.0, 130.0, 130.0, 130.0, 130.0, 130.0, 130.0, 130.0, 130.0, 130.0, 130.0, 130.0, 130.0, 130.0, 130.0, 130.0, 130.0, 130.0, 130.0, 130.0, 130.0, 130.0, 130.0, 130.0, 130.0, 130.0, 130.0, 130.0, 130.0, 130.0, 130.0, 130.0], Any[75.45, 77.048, 78.196, 79.106, 80.158, 81.002, 81.738, 82.372, 83.08, 83.72, 84.314, 84.93, 85.68, 86.272, 86.862, 87.726, 88.272, 88.932, 89.4, 90.284, 90.982, 91.42, 92.11, 92.856, 93.818, 94.74, 95.846, 96.972, 98.36, 99.994, 101.612, 103.154, 104.398, 105.568, 106.622, 107.578, 108.488, 109.244, 109.976, 110.768, 111.466, 112.23, 112.908, 113.646, 114.398, 115.186, 115.966, 116.686, 117.386, 118.062, 118.622, 119.206, 119.714, 120.236, 120.716, 121.178, 121.586, 121.986, 122.322, 122.608, 122.844, 122.962, 122.998, 123.0, 123.0, 123.0, 123.0, 122.994, 122.998, 123.008, 123.016, 123.04, 123.076, 123.15, 123.272, 123.49, 123.758, 124.078, 124.332, 124.606, 124.892, 125.158, 125.382, 125.606, 125.844, 125.974, 126.0, 126.0, 126.0, 126.0, 125.996, 126.0, 126.0, 126.0, 126.0, 126.0, 126.0, 125.996, 126.0, 126.0, 126.0, 126.0, 126.0, 126.0, 125.994, 126.0, 126.0, 126.0, 126.0, 126.0, 125.998, 125.998, 125.992, 126.0, 126.0, 126.0, 125.996, 126.0, 125.998, 126.008, 126.018, 126.026, 126.066, 126.11, 126.234, 126.408, 126.65, 126.864, 127.014, 127.076, 127.15, 127.286, 127.504, 127.758, 127.928, 127.998, 128.004, 128.008, 128.016, 128.032, 128.054, 128.108, 128.2, 128.36, 128.588, 128.822, 128.94, 129.0, 129.002, 129.024, 129.05, 129.1, 129.186, 129.32, 129.532, 129.792, 129.94, 129.994, 129.998, 129.998, 130.0, 130.0, 130.0, 130.0, 130.0, 130.0, 130.0, 130.0, 130.0, 130.0, 130.0, 130.0, 130.0, 130.0, 129.992, 129.994, 130.0, 129.992, 130.0, 130.0, 130.0, 130.0, 130.0, 130.0, 130.0, 130.0, 130.0, 130.0, 130.0, 129.994, 130.0, 130.0, 129.998, 130.0, 130.0, 129.996, 129.994], [11, 133, 170, 38, 147, 66, 36, 167, 118, 19, 169, 52, 57, 131, 15, 28, 2, 121, 5, 192], 136), (Any[90, 90, 90, 90, 92, 92, 94, 94, 94, 94, 93, 96, 96, 96, 98, 103, 103, 101, 101, 101, 102, 102, 103, 106, 115, 115, 115, 115, 115, 115, 118, 119, 123, 125, 125, 125, 128, 129, 131, 134, 135, 137, 141, 141, 142, 144, 144, 144, 144, 145, 146, 146, 146, 147, 147, 147, 147, 150, 150, 150, 151, 151, 152, 151, 152, 152, 152, 152, 152, 152, 152, 152, 152, 152, 152, 152, 152, 156, 156, 156, 156, 156, 156, 156, 156, 156, 157, 157, 157, 157, 157, 158, 158, 158, 158, 158, 158, 158, 158, 161, 161, 161, 161, 161, 161, 161, 161, 161, 161, 161, 161, 161, 161, 161, 161, 161, 161, 161, 161, 161, 161, 161, 161, 161, 161, 161, 161, 161, 161, 161, 161, 161, 161, 161, 161, 161, 161, 161, 161, 162, 162, 162, 162, 162, 162, 162, 162, 162, 162, 162, 162, 162, 162, 162, 163, 163, 163, 163, 163, 164, 164, 165, 165, 165, 165, 165, 165, 165, 165, 165, 165, 165, 165, 165, 165, 165, 165, 165, 165, 165, 165, 165, 165, 165, 165, 168, 168, 168, 168, 168, 168, 168, 168, 168, 168, 168, 168, 168, 168, 168, 168, 168, 168, 168, 169, 169, 169, 169, 169, 169, 169, 169, 169, 169, 169, 169, 169, 169, 169, 169, 169, 169, 169, 169, 169, 169, 169, 169, 169, 169, 169, 169, 169, 169, 169, 169, 169, 169, 169, 169, 169, 169, 169, 169, 169, 169, 169, 173, 173, 173, 173, 173, 173, 173, 173, 173, 173, 173, 176, 176, 176, 176, 176, 176, 176, 176, 176, 176, 176, 176, 176, 176, 176, 176, 176, 176, 176, 176, 176, 176, 176, 176, 176, 176, 176, 176, 176, 176, 176, 176, 176, 176, 176, 176, 176, 176, 178, 178, 178, 178, 178, 178, 178, 178, 178, 178, 178, 178, 178, 178, 178, 178, 178, 178, 178, 178, 178, 178, 178, 178, 178, 178, 178, 178, 178, 178, 178, 178, 178, 178, 178, 178, 178, 178, 178, 178, 178, 178, 178, 178, 178, 178, 178, 178, 178, 178], Any[75.0, 77.0, 78.0, 79.0, 80.0, 81.0, 82.0, 83.0, 83.5, 84.0, 85.0, 86.0, 86.0, 87.0, 88.0, 89.0, 89.0, 90.0, 91.0, 91.0, 92.0, 93.0, 93.0, 94.0, 95.0, 96.0, 97.0, 98.0, 99.0, 101.0, 104.0, 107.0, 110.0, 113.0, 115.0, 115.0, 116.0, 118.0, 120.0, 122.0, 123.0, 126.0, 128.0, 130.0, 132.0, 135.0, 136.0, 137.0, 139.0, 141.0, 141.0, 142.0, 142.0, 143.0, 143.0, 144.0, 145.0, 146.0, 146.0, 147.0, 147.0, 147.0, 148.0, 148.0, 149.0, 150.0, 150.0, 150.0, 150.0, 150.0, 152.0, 152.0, 152.0, 152.0, 152.0, 152.0, 152.0, 152.0, 152.0, 152.0, 152.0, 152.0, 152.0, 152.0, 152.0, 156.0, 156.0, 156.0, 156.0, 156.0, 156.0, 156.0, 156.0, 157.0, 157.0, 157.0, 157.0, 157.0, 158.0, 158.0, 158.0, 158.0, 158.0, 158.0, 158.0, 158.0, 158.0, 161.0, 161.0, 161.0, 161.0, 161.0, 161.0, 161.0, 161.0, 161.0, 161.0, 161.0, 161.0, 161.0, 161.0, 161.0, 161.0, 161.0, 161.0, 161.0, 161.0, 161.0, 161.0, 161.0, 161.0, 161.0, 161.0, 161.0, 161.0, 161.0, 161.0, 161.0, 161.0, 161.0, 161.0, 161.0, 161.0, 161.0, 161.0, 161.0, 161.0, 162.0, 162.0, 162.0, 162.0, 162.0, 162.0, 162.0, 162.0, 162.0, 162.0, 162.0, 162.0, 162.0, 162.0, 162.0, 163.0, 163.0, 163.0, 163.0, 163.0, 164.0, 164.0, 165.0, 165.0, 165.0, 165.0, 165.0, 165.0, 165.0, 165.0, 165.0, 165.0, 165.0, 165.0, 165.0, 165.0, 165.0, 165.0, 165.0, 165.0, 165.0, 165.0, 165.0, 165.0, 165.0, 165.0, 168.0, 168.0, 168.0, 168.0, 168.0, 168.0, 168.0, 168.0, 168.0, 168.0, 168.0, 168.0, 168.0, 168.0, 168.0, 168.0, 168.0, 168.0, 168.0, 169.0, 169.0, 169.0, 169.0, 169.0, 169.0, 169.0, 169.0, 169.0, 169.0, 169.0, 169.0, 169.0, 169.0, 169.0, 169.0, 169.0, 169.0, 169.0, 169.0, 169.0, 169.0, 169.0, 169.0, 169.0, 169.0, 169.0, 169.0, 169.0, 169.0, 169.0, 169.0, 169.0, 169.0, 169.0, 169.0, 169.0, 169.0, 169.0, 169.0, 169.0, 169.0, 170.0, 173.0, 173.0, 173.0, 173.0, 173.0, 173.0, 173.0, 173.0, 173.0, 173.0, 173.0, 176.0, 176.0, 176.0, 176.0, 176.0, 176.0, 176.0, 176.0, 176.0, 176.0, 176.0, 176.0, 176.0, 176.0, 176.0, 176.0, 176.0, 176.0, 176.0, 176.0, 176.0, 176.0, 176.0, 176.0, 176.0, 176.0, 176.0, 176.0, 176.0, 176.0, 176.0, 176.0, 176.0, 176.0, 176.0, 176.0, 176.0, 176.0, 178.0, 178.0, 178.0, 178.0, 178.0, 178.0, 178.0, 178.0, 178.0, 178.0, 178.0, 178.0, 178.0, 178.0, 178.0, 178.0, 178.0, 178.0, 178.0, 178.0, 178.0, 178.0, 178.0, 178.0, 178.0, 178.0, 178.0, 178.0, 178.0, 178.0, 178.0, 178.0, 178.0, 178.0, 178.0, 178.0, 178.0, 178.0, 178.0, 178.0, 178.0, 178.0], Any[75.484, 77.082, 78.398, 79.412, 80.434, 81.386, 82.178, 82.7, 83.582, 84.282, 84.912, 85.55, 86.306, 86.952, 87.558, 88.478, 89.106, 89.778, 90.602, 91.058, 91.894, 92.722, 93.4, 94.176, 94.822, 95.844, 96.878, 98.144, 99.688, 101.752, 104.202, 106.972, 109.696, 112.212, 114.104, 115.588, 117.072, 118.498, 120.22, 122.044, 123.958, 126.226, 128.22, 130.306, 132.422, 134.334, 136.066, 137.642, 139.022, 140.318, 141.38, 142.002, 142.516, 143.026, 143.606, 144.308, 145.066, 145.744, 146.314, 146.77, 147.158, 147.54, 147.98, 148.454, 148.998, 149.54, 149.928, 150.222, 150.49, 150.88, 151.324, 151.726, 151.94, 151.998, 152.0, 152.0, 152.0, 152.002, 152.018, 152.064, 152.128, 152.26, 152.5, 152.92, 153.594, 154.634, 155.468, 155.954, 156.032, 156.074, 156.136, 156.246, 156.426, 156.684, 156.928, 157.082, 157.202, 157.37, 157.602, 157.842, 157.986, 158.046, 158.096, 158.186, 158.342, 158.622, 159.086, 159.764, 160.466, 160.91, 160.994, 160.994, 161.0, 161.0, 160.984, 160.99, 161.0, 160.976, 160.99, 161.0, 161.0, 161.0, 161.0, 161.0, 161.0, 161.0, 161.0, 160.998, 161.0, 161.0, 161.0, 161.0, 161.0, 161.0, 160.992, 161.0, 161.0, 160.988, 161.0, 161.004, 161.008, 161.016, 161.032, 161.05, 161.11, 161.21, 161.364, 161.594, 161.832, 161.932, 161.998, 162.0, 161.984, 162.0, 162.004, 162.008, 162.016, 162.032, 162.062, 162.114, 162.232, 162.41, 162.66, 162.912, 163.114, 163.264, 163.5, 163.844, 164.276, 164.7, 164.92, 164.986, 165.0, 164.988, 164.988, 165.0, 165.0, 164.984, 165.0, 164.994, 165.0, 165.0, 165.0, 165.0, 164.986, 165.002, 165.024, 165.036, 165.096, 165.18, 165.354, 165.638, 166.1, 166.78, 167.466, 167.896, 167.988, 167.984, 168.0, 168.0, 168.0, 168.0, 168.0, 168.0, 168.004, 168.008, 168.004, 168.026, 168.052, 168.102, 168.194, 168.318, 168.534, 168.76, 168.938, 168.998, 169.0, 169.0, 169.0, 168.99, 169.0, 169.0, 169.0, 168.996, 169.0, 169.0, 169.0, 169.0, 169.0, 169.0, 169.0, 169.0, 169.0, 169.0, 169.0, 169.0, 169.0, 169.0, 169.0, 169.0, 168.99, 169.0, 168.992, 169.0, 169.0, 169.0, 168.986, 169.02, 169.04, 169.064, 169.126, 169.252, 169.464, 169.872, 170.572, 171.466, 172.266, 172.834, 173.008, 173.024, 173.042, 173.084, 173.162, 173.318, 173.558, 173.99, 174.51, 175.292, 175.778, 176.0, 176.0, 176.0, 176.0, 176.0, 176.0, 175.988, 176.0, 176.0, 176.0, 176.0, 176.0, 176.0, 176.0, 176.0, 176.0, 176.0, 176.0, 176.0, 176.0, 176.0, 176.0, 176.0, 175.976, 176.0, 176.0, 176.0, 176.008, 176.016, 176.032, 176.064, 176.128, 176.248, 176.46, 176.8, 177.26, 177.692, 177.924, 177.996, 178.0, 177.988, 178.0, 178.0, 177.986, 178.0, 178.0, 178.0, 178.0, 177.992, 178.0, 178.0, 177.99, 178.0, 177.988, 178.0, 178.0, 178.0, 178.0, 178.0, 178.0, 178.0, 178.0, 178.0, 177.986, 178.0, 178.0, 178.0, 178.0, 178.0, 178.0, 178.0, 178.0, 178.0, 178.0, 178.0, 178.0, 178.0], [94, 158, 75, 21, 122, 124, 33, 156, 122, 129, 88, 85, 54, 20, 103, 18, 182, 45, 9, 162], 200), (Any[90, 90, 92, 92, 92, 92, 92, 92, 92, 93, 93, 96, 96, 96, 96, 96, 96, 98, 100, 100, 100, 101, 102, 103, 104, 104, 104, 104, 104, 106, 105, 108, 108, 109, 110, 111, 111, 113, 114, 114, 117, 117, 118, 119, 120, 120, 123, 124, 124, 124, 124, 124, 124, 124, 124, 124, 124, 124, 124, 124, 124, 124, 124, 124, 124, 124, 127, 127, 127, 127, 127, 127, 127, 127, 128, 128, 129, 129, 129, 129, 130, 130, 130, 130, 131, 131, 131, 131, 132, 132, 132, 132, 132, 134, 134, 134, 134, 134, 134, 134, 134, 134, 134, 134, 134, 134, 134, 134, 134, 134, 134, 134, 137, 137, 137, 137, 137, 137, 137, 138, 138, 138, 138, 138, 138, 138, 138, 138, 138, 138, 138, 138, 138, 138, 138, 138, 138, 138, 138, 138, 138, 138, 138, 139, 139, 139, 139, 139, 139, 139, 139, 139, 139, 139, 139, 139, 139, 139, 139, 139, 139, 139, 139, 139, 139, 139, 139, 139, 139, 139, 139, 139, 140, 140, 140, 140, 140, 140, 140, 140, 140, 140, 140, 140, 140, 140, 140, 140, 140, 140, 140, 140, 140, 140, 140, 140, 140, 140, 140, 140, 140, 140, 140, 140, 140, 140, 140, 140, 140, 140, 140, 140, 140, 140, 140, 140, 140, 140, 140, 140, 140, 140], Any[76.0, 77.0, 79.0, 79.0, 80.0, 81.0, 82.0, 83.0, 83.0, 84.0, 85.0, 86.0, 87.0, 88.0, 88.0, 89.0, 89.0, 90.0, 90.0, 91.0, 91.0, 92.0, 93.0, 93.0, 94.0, 95.0, 96.0, 97.0, 98.0, 99.0, 100.0, 101.0, 102.0, 103.0, 104.0, 105.0, 106.0, 106.0, 107.0, 108.0, 109.0, 110.0, 111.0, 112.0, 113.0, 114.0, 115.0, 116.0, 117.0, 118.0, 118.0, 119.0, 120.0, 121.0, 121.0, 122.0, 123.0, 123.0, 124.0, 124.0, 124.0, 124.0, 124.0, 124.0, 124.0, 124.0, 124.0, 124.0, 124.0, 124.0, 124.0, 124.0, 124.0, 124.0, 127.0, 127.0, 127.0, 127.0, 127.0, 127.0, 127.0, 128.0, 128.0, 128.0, 129.0, 129.0, 130.0, 130.0, 130.0, 130.0, 131.0, 131.0, 131.0, 131.0, 131.0, 132.0, 132.0, 132.0, 132.0, 132.0, 134.0, 134.0, 134.0, 134.0, 134.0, 134.0, 134.0, 134.0, 134.0, 134.0, 134.0, 134.0, 134.0, 134.0, 134.0, 134.0, 134.0, 134.0, 134.0, 135.0, 137.0, 137.0, 137.0, 137.0, 138.0, 138.0, 138.0, 138.0, 138.0, 138.0, 138.0, 138.0, 138.0, 138.0, 138.0, 138.0, 138.0, 138.0, 138.0, 138.0, 138.0, 138.0, 138.0, 138.0, 138.0, 138.0, 138.0, 138.0, 138.0, 138.0, 138.0, 139.0, 139.0, 139.0, 139.0, 139.0, 139.0, 139.0, 139.0, 139.0, 139.0, 139.0, 139.0, 139.0, 139.0, 139.0, 139.0, 139.0, 139.0, 139.0, 139.0, 139.0, 139.0, 139.0, 139.0, 139.0, 139.0, 139.0, 139.0, 139.0, 140.0, 140.0, 140.0, 140.0, 140.0, 140.0, 140.0, 140.0, 140.0, 140.0, 140.0, 140.0, 140.0, 140.0, 140.0, 140.0, 140.0, 140.0, 140.0, 140.0, 140.0, 140.0, 140.0, 140.0, 140.0, 140.0, 140.0, 140.0, 140.0, 140.0, 140.0, 140.0, 140.0, 140.0, 140.0, 140.0, 140.0, 140.0, 140.0, 140.0, 140.0, 140.0], Any[76.05, 77.558, 78.808, 79.636, 80.624, 81.414, 82.018, 82.786, 83.496, 84.288, 85.092, 85.626, 86.514, 87.354, 87.954, 88.356, 88.698, 89.164, 89.808, 90.526, 91.11, 91.942, 92.544, 93.196, 93.968, 94.834, 95.738, 96.79, 97.758, 98.734, 99.846, 101.036, 102.154, 103.124, 104.062, 104.912, 105.792, 106.692, 107.594, 108.482, 109.446, 110.4, 111.358, 112.332, 113.132, 114.138, 115.07, 116.038, 116.876, 117.674, 118.396, 119.088, 119.788, 120.576, 121.368, 122.062, 122.712, 123.222, 123.562, 123.82, 123.984, 123.996, 124.0, 124.0, 124.0, 124.0, 124.012, 124.024, 124.048, 124.1, 124.2, 124.388, 124.708, 125.28, 126.0, 126.63, 126.958, 127.056, 127.112, 127.21, 127.37, 127.652, 127.998, 128.408, 128.808, 129.256, 129.69, 129.992, 130.172, 130.318, 130.532, 130.772, 131.02, 131.162, 131.32, 131.564, 131.852, 132.166, 132.48, 132.924, 133.382, 133.77, 133.966, 134.0, 134.0, 134.0, 134.0, 134.0, 134.0, 134.0, 134.0, 134.0, 134.016, 134.032, 134.062, 134.108, 134.232, 134.418, 134.768, 135.3, 136.064, 136.708, 137.124, 137.372, 137.624, 137.862, 137.976, 137.998, 138.0, 138.0, 137.994, 137.994, 138.0, 138.0, 138.0, 138.0, 138.0, 137.99, 138.0, 138.0, 138.0, 137.986, 138.0, 138.004, 138.008, 138.016, 138.032, 138.054, 138.128, 138.242, 138.418, 138.676, 138.88, 138.994, 139.0, 139.0, 139.0, 139.0, 139.0, 138.988, 138.994, 139.0, 138.99, 139.0, 139.0, 139.0, 139.0, 139.0, 138.992, 139.0, 138.986, 139.0, 139.004, 139.008, 139.016, 139.028, 139.052, 139.094, 139.184, 139.32, 139.534, 139.792, 139.944, 139.994, 140.0, 140.0, 140.0, 140.0, 140.0, 140.0, 140.0, 140.0, 139.99, 139.986, 140.0, 140.0, 139.996, 140.0, 140.0, 140.0, 140.0, 140.0, 140.0, 140.0, 140.0, 140.0, 139.99, 140.0, 140.0, 140.0, 140.0, 140.0, 140.0, 140.0, 140.0, 140.0, 140.0, 139.994, 140.0, 140.0, 140.0, 140.0], [94, 158, 75, 21, 122, 124, 33, 156, 122, 129, 88, 85, 54, 20, 103, 18, 182, 45, 9, 162], 200), (Any[87, 88, 88, 90, 90, 91, 93, 93, 95, 95, 97, 97, 97, 98, 98, 99, 99, 99, 99, 102, 102, 104, 104, 104, 105, 104, 107, 107, 107, 113, 113, 113, 113, 113, 113, 115, 116, 117, 118, 119, 119, 119, 119, 121, 121, 122, 123, 123, 123, 124, 125, 125, 127, 127, 127, 127, 127, 127, 127, 127, 127, 127, 127, 127, 129, 129, 129, 129, 129, 129, 129, 129, 129, 129, 129, 129, 129, 129, 129, 129, 129, 129, 129, 129, 129, 129, 129, 129, 129, 129, 129, 129, 129, 130, 130, 130, 130, 130, 130, 130, 130, 130, 130, 130, 130, 130, 130, 130, 132, 132, 132, 132, 132, 132, 132, 132, 132, 132, 132, 132, 132, 132, 133, 133, 133, 133, 133, 133, 133, 133, 133, 133, 133, 133, 133, 133, 133, 133, 133, 133, 133, 133, 133, 133, 133, 133, 133, 133, 133, 133, 133, 133, 133, 133, 133, 133, 133, 133, 133, 133, 133, 133, 133, 133, 133, 133, 133, 133, 133, 133, 133, 133], Any[75.5, 77.0, 78.0, 80.0, 81.0, 81.0, 82.0, 83.0, 84.0, 85.0, 86.0, 86.0, 87.0, 87.0, 88.0, 88.0, 89.0, 90.0, 90.0, 91.0, 92.0, 92.0, 93.0, 94.0, 94.0, 95.0, 96.0, 96.0, 97.0, 98.0, 99.0, 100.0, 101.0, 102.0, 104.0, 105.0, 106.0, 107.0, 109.0, 110.0, 112.0, 113.0, 114.0, 114.0, 115.0, 117.0, 118.0, 119.0, 119.0, 120.0, 120.0, 121.0, 122.0, 123.0, 123.0, 123.0, 124.0, 124.0, 126.0, 127.0, 127.0, 127.0, 127.0, 127.0, 127.0, 127.0, 127.0, 127.0, 127.0, 127.0, 127.0, 127.0, 127.0, 129.0, 129.0, 129.0, 129.0, 129.0, 129.0, 129.0, 129.0, 129.0, 129.0, 129.0, 129.0, 129.0, 129.0, 129.0, 129.0, 129.0, 129.0, 129.0, 129.0, 129.0, 129.0, 129.0, 129.0, 129.0, 129.0, 129.0, 129.0, 130.0, 130.0, 130.0, 130.0, 130.0, 130.0, 130.0, 130.0, 130.0, 130.0, 130.0, 130.0, 130.0, 130.0, 130.0, 132.0, 132.0, 132.0, 132.0, 132.0, 132.0, 132.0, 132.0, 132.0, 132.0, 132.0, 132.0, 132.0, 132.0, 133.0, 133.0, 133.0, 133.0, 133.0, 133.0, 133.0, 133.0, 133.0, 133.0, 133.0, 133.0, 133.0, 133.0, 133.0, 133.0, 133.0, 133.0, 133.0, 133.0, 133.0, 133.0, 133.0, 133.0, 133.0, 133.0, 133.0, 133.0, 133.0, 133.0, 133.0, 133.0, 133.0, 133.0, 133.0, 133.0, 133.0, 133.0, 133.0, 133.0, 133.0, 133.0], Any[75.732, 77.278, 78.564, 79.788, 80.754, 81.646, 82.556, 83.44, 83.972, 84.734, 85.318, 85.874, 86.518, 87.156, 87.716, 88.28, 88.978, 89.67, 90.194, 90.764, 91.288, 92.036, 92.748, 93.42, 94.214, 94.954, 95.7, 96.398, 97.18, 97.996, 98.828, 99.954, 101.048, 102.252, 103.566, 104.712, 106.138, 107.434, 108.878, 110.248, 111.562, 112.638, 113.548, 114.52, 115.478, 116.552, 117.582, 118.486, 119.18, 119.82, 120.488, 121.236, 122.02, 122.682, 123.144, 123.622, 124.138, 124.792, 125.54, 126.214, 126.68, 126.918, 126.988, 127.0, 127.008, 127.008, 127.016, 127.032, 127.056, 127.104, 127.208, 127.384, 127.712, 128.176, 128.64, 128.912, 128.992, 129.0, 129.0, 129.0, 129.0, 129.0, 129.0, 129.0, 129.0, 129.0, 129.0, 129.0, 129.0, 129.0, 129.0, 128.996, 129.0, 129.004, 129.004, 129.008, 129.028, 129.052, 129.1, 129.192, 129.324, 129.55, 129.778, 129.952, 129.986, 129.994, 130.0, 130.0, 130.008, 130.006, 130.022, 130.048, 130.096, 130.184, 130.36, 130.664, 131.124, 131.592, 131.908, 131.986, 131.994, 132.0, 132.004, 132.008, 132.016, 132.032, 132.062, 132.118, 132.216, 132.382, 132.622, 132.858, 132.974, 132.996, 133.0, 133.0, 133.0, 133.0, 133.0, 132.994, 133.0, 133.0, 133.0, 133.0, 132.98, 133.0, 133.0, 133.0, 133.0, 133.0, 133.0, 132.992, 133.0, 132.994, 133.0, 133.0, 133.0, 133.0, 132.992, 133.0, 132.994, 133.0, 133.0, 133.0, 133.0, 133.0, 133.0, 132.992, 133.0, 133.0, 133.0, 132.994], [55, 107, 65, 115, 181, 129, 30, 153, 185, 126, 85, 104, 156, 110, 8, 148, 179, 42, 183, 115], 141), (Any[86, 89, 89, 89, 92, 92, 93, 93, 93, 99, 99, 99, 99, 99, 99, 104, 104, 105, 105, 105, 108, 108, 109, 111, 112, 113, 113, 113, 114, 116, 117, 118, 121, 121, 123, 123, 124, 124, 124, 125, 128, 130, 130, 131, 131, 131, 132, 132, 133, 135, 135, 135, 135, 135, 135, 135, 135, 137, 137, 137, 137, 138, 138, 138, 138, 138, 139, 140, 140, 140, 140, 141, 142, 142, 142, 142, 142, 142, 143, 143, 144, 144, 145, 145, 145, 145, 145, 145, 146, 146, 146, 146, 146, 146, 146, 146, 146, 146, 146, 146, 146, 146, 148, 148, 148, 148, 148, 148, 148, 148, 148, 148, 148, 148, 148, 148, 148, 148, 148, 148, 148, 148, 148, 148, 148, 148, 148, 148, 148, 150, 150, 150, 150, 150, 150, 150, 150, 150, 150, 150, 150, 150, 150, 150, 150, 150, 150, 150, 150, 150, 150, 150, 150, 150, 150, 150, 150, 150, 150, 150, 150, 150, 150, 150, 150, 150, 150, 150, 150, 150, 150, 150, 150, 150, 150, 150, 150, 150, 150], Any[76.0, 77.0, 79.0, 80.0, 81.0, 82.0, 82.0, 83.0, 84.0, 85.0, 85.0, 86.0, 87.0, 87.0, 88.0, 89.0, 89.0, 90.5, 92.0, 93.0, 94.0, 96.0, 98.0, 99.0, 101.0, 103.0, 105.0, 106.0, 107.0, 108.0, 109.0, 111.0, 112.0, 114.0, 114.0, 116.0, 117.0, 118.0, 120.0, 120.0, 122.0, 123.0, 123.0, 124.0, 125.0, 125.0, 126.0, 128.0, 129.0, 130.0, 130.0, 132.0, 132.0, 132.0, 133.0, 133.0, 134.0, 134.0, 135.0, 135.0, 135.0, 135.0, 135.0, 135.0, 136.0, 137.0, 137.0, 137.0, 137.0, 137.0, 138.0, 138.0, 139.0, 139.0, 140.0, 140.0, 140.0, 140.0, 141.0, 142.0, 142.0, 142.0, 142.0, 142.0, 142.0, 143.0, 144.0, 144.0, 144.0, 144.0, 144.0, 145.0, 145.0, 145.0, 146.0, 146.0, 146.0, 146.0, 146.0, 146.0, 146.0, 146.0, 146.0, 146.0, 146.0, 146.0, 146.0, 146.0, 146.0, 146.0, 148.0, 148.0, 148.0, 148.0, 148.0, 148.0, 148.0, 148.0, 148.0, 148.0, 148.0, 148.0, 148.0, 148.0, 148.0, 148.0, 148.0, 148.0, 148.0, 148.0, 148.0, 148.0, 148.0, 148.0, 148.0, 148.0, 148.0, 150.0, 150.0, 150.0, 150.0, 150.0, 150.0, 150.0, 150.0, 150.0, 150.0, 150.0, 150.0, 150.0, 150.0, 150.0, 150.0, 150.0, 150.0, 150.0, 150.0, 150.0, 150.0, 150.0, 150.0, 150.0, 150.0, 150.0, 150.0, 150.0, 150.0, 150.0, 150.0, 150.0, 150.0, 150.0, 150.0, 150.0, 150.0, 150.0, 150.0, 150.0, 150.0], Any[76.006, 77.492, 78.684, 79.786, 80.712, 81.648, 82.552, 83.316, 84.036, 84.688, 85.31, 85.97, 86.608, 87.314, 87.974, 88.708, 89.482, 90.506, 91.632, 92.762, 94.364, 96.064, 97.856, 99.632, 101.408, 103.036, 104.592, 105.902, 107.1, 108.294, 109.514, 110.834, 112.162, 113.526, 114.762, 115.972, 117.288, 118.528, 119.604, 120.672, 121.694, 122.634, 123.42, 124.1, 124.942, 125.868, 126.816, 127.78, 128.798, 129.772, 130.596, 131.292, 131.902, 132.41, 132.812, 133.262, 133.714, 134.17, 134.604, 134.914, 135.032, 135.13, 135.256, 135.478, 135.836, 136.282, 136.742, 137.058, 137.24, 137.488, 137.872, 138.328, 138.806, 139.306, 139.68, 139.976, 140.278, 140.578, 141.004, 141.51, 141.904, 142.068, 142.178, 142.352, 142.638, 143.03, 143.492, 143.878, 144.106, 144.248, 144.442, 144.696, 144.984, 145.272, 145.534, 145.784, 145.956, 145.994, 146.0, 145.988, 146.0, 146.0, 146.008, 146.016, 146.032, 146.06, 146.112, 146.22, 146.372, 146.644, 147.046, 147.536, 147.858, 147.984, 148.0, 148.0, 148.0, 148.0, 148.0, 148.0, 148.0, 148.0, 148.0, 148.0, 147.994, 148.0, 148.0, 148.0, 148.0, 148.008, 148.016, 148.032, 148.064, 148.124, 148.224, 148.424, 148.748, 149.198, 149.694, 149.954, 150.0, 150.0, 149.992, 150.0, 150.0, 150.0, 150.0, 150.0, 150.0, 150.0, 150.0, 150.0, 150.0, 150.0, 150.0, 150.0, 150.0, 150.0, 150.0, 150.0, 150.0, 149.988, 149.996, 150.0, 150.0, 150.0, 150.0, 150.0, 150.0, 150.0, 150.0, 150.0, 150.0, 150.0, 150.0, 150.0, 150.0, 150.0, 150.0], [94, 158, 75, 36, 122, 124, 33, 156, 122, 129, 88, 85, 54, 20, 103, 18, 182, 45, 9, 162], 196)]Precision:\t1.0\n",
      "160.9\n"
     ]
    },
    {
     "data": {
      "text/plain": [
       "10-element Array{Any,1}:\n",
       " 139\n",
       " 131\n",
       " 138\n",
       " 189\n",
       " 139\n",
       " 136\n",
       " 200\n",
       " 200\n",
       " 141\n",
       " 196"
      ]
     },
     "execution_count": 39,
     "metadata": {},
     "output_type": "execute_result"
    }
   ],
   "source": [
    "hard_sequences = []\n",
    "open(\"Final Generated Fasta Files/Hard GGGCACCGAA-94,158,75,21,122,124,33,156,122,129,88,85,54,20,103,18,182,45,9,162,.fasta\") do file\n",
    "    i = 0\n",
    "    for ln in eachline(file)\n",
    "        i += 1 \n",
    "        if i % 2 == 0\n",
    "            push!(hard_sequences, strip(ln))\n",
    "        end\n",
    "    end\n",
    "end\n",
    "BAYESIAN_SCORING = false\n",
    "\n",
    "results = []\n",
    "scores = []\n",
    "times = []\n",
    "for i in 1:10\n",
    "    (result, t) = @timed GAME(hard_sequences,0.001,3000, 500, 10)\n",
    "    push!(times, t)\n",
    "    push!(results, result)\n",
    "    push!(scores, result[5])\n",
    "end\n",
    "results\n",
    "\n",
    "print(results)\n",
    "\n",
    "precision = precisionGetter(results, \"GGGCACCGAA\", 10, hard_sequences)\n",
    "println(\"Precision:\\t\", precision)\n",
    "\n",
    "println(Statistics.mean(scores))\n",
    "scores"
   ]
  },
  {
   "cell_type": "code",
   "execution_count": 40,
   "metadata": {},
   "outputs": [
    {
     "name": "stdout",
     "output_type": "stream",
     "text": [
      "Any[\"GGGCACCGAA\", \"GGGCACCGAA\", \"GGGCACCGAA\", \"GGGCACCGAA\", \"GGGCACCGAA\", \"GGGCACCGAA\", \"GGGCACCGAA\", \"GGGCACCGAA\", \"GGGCACCGAA\", \"GGGCACCGAA\", \"GGGCACCGAA\", \"GGGCACCGAA\", \"GGGCACCGAA\", \"GGGCACCGAA\", \"GGGCACCGAA\", \"GGGCACCGAA\", \"GGGCACCGAA\", \"GGGCACCGAA\", \"GGGCACCGAA\", \"GGGCACCGAA\"]\n",
      "GGGCACCGAA\n"
     ]
    }
   ],
   "source": [
    "testProfile = GenerateMotifStrings([94, 158, 75, 21, 122, 124, 33, 156, 122, 129, 88, 85, 54, 20, 103, 18, 182, 45, 9, 162], 10, hard_sequences)\n",
    "println(testProfile)\n",
    "testConsensus = ConsensusString(testProfile)\n",
    "println(testConsensus)"
   ]
  },
  {
   "cell_type": "code",
   "execution_count": 41,
   "metadata": {},
   "outputs": [
    {
     "data": {
      "text/plain": [
       "5.437794461299999"
      ]
     },
     "execution_count": 41,
     "metadata": {},
     "output_type": "execute_result"
    }
   ],
   "source": [
    "Statistics.mean(times)"
   ]
  },
  {
   "cell_type": "markdown",
   "metadata": {},
   "source": [
    "Hard Challenge with 70% Motif Conservation"
   ]
  },
  {
   "cell_type": "code",
   "execution_count": 42,
   "metadata": {},
   "outputs": [
    {
     "name": "stderr",
     "output_type": "stream",
     "text": [
      "┌ Info: Genetic screen finished...\n",
      "└ @ Main In[14]:63\n",
      "┌ Info: (\"Aopt_motif\", Any[179, 199, 127, 182, 116, 58, 71, 149, 179, 124, 59, 76, 186, 4, 98, 144, 125, 97, 101, 38])\n",
      "└ @ Main In[14]:64\n"
     ]
    },
    {
     "name": "stdout",
     "output_type": "stream",
     "text": [
      "Aopt1\n"
     ]
    },
    {
     "name": "stderr",
     "output_type": "stream",
     "text": [
      "┌ Info: Genetic screen finished...\n",
      "└ @ Main In[14]:63\n",
      "┌ Info: (\"Aopt_motif\", Any[35, 87, 133, 46, 189, 170, 154, 173, 81, 63, 21, 16, 162, 124, 94, 1, 159, 188, 196, 72])\n",
      "└ @ Main In[14]:64\n"
     ]
    },
    {
     "name": "stdout",
     "output_type": "stream",
     "text": [
      "Aopt1\n"
     ]
    },
    {
     "name": "stderr",
     "output_type": "stream",
     "text": [
      "┌ Info: Genetic screen finished...\n",
      "└ @ Main In[14]:63\n",
      "┌ Info: (\"Aopt_motif\", Any[173, 99, 154, 11, 145, 5, 200, 16, 130, 162, 119, 161, 136, 59, 196, 200, 6, 87, 109, 86])\n",
      "└ @ Main In[14]:64\n"
     ]
    },
    {
     "name": "stdout",
     "output_type": "stream",
     "text": [
      "Aopt1\n"
     ]
    },
    {
     "name": "stderr",
     "output_type": "stream",
     "text": [
      "┌ Info: Genetic screen finished...\n",
      "└ @ Main In[14]:63\n",
      "┌ Info: (\"Aopt_motif\", Any[140, 89, 190, 113, 182, 160, 176, 67, 147, 116, 7, 139, 13, 13, 22, 168, 97, 65, 120, 198])\n",
      "└ @ Main In[14]:64\n"
     ]
    },
    {
     "name": "stdout",
     "output_type": "stream",
     "text": [
      "Aopt1\n"
     ]
    },
    {
     "name": "stderr",
     "output_type": "stream",
     "text": [
      "┌ Info: Genetic screen finished...\n",
      "└ @ Main In[14]:63\n",
      "┌ Info: (\"Aopt_motif\", Any[79, 155, 97, 147, 25, 127, 13, 100, 21, 24, 140, 62, 34, 143, 67, 19, 185, 87, 83, 78])\n",
      "└ @ Main In[14]:64\n"
     ]
    },
    {
     "name": "stdout",
     "output_type": "stream",
     "text": [
      "Aopt1\n"
     ]
    },
    {
     "name": "stderr",
     "output_type": "stream",
     "text": [
      "┌ Info: Genetic screen finished...\n",
      "└ @ Main In[14]:63\n",
      "┌ Info: (\"Aopt_motif\", Any[119, 59, 29, 14, 164, 199, 55, 22, 122, 159, 73, 4, 52, 38, 8, 9, 62, 195, 109, 180])\n",
      "└ @ Main In[14]:64\n"
     ]
    },
    {
     "name": "stdout",
     "output_type": "stream",
     "text": [
      "Aopt1\n"
     ]
    },
    {
     "name": "stderr",
     "output_type": "stream",
     "text": [
      "┌ Info: Genetic screen finished...\n",
      "└ @ Main In[14]:63\n",
      "┌ Info: (\"Aopt_motif\", Any[115, 104, 37, 1, 190, 159, 159, 39, 19, 84, 110, 26, 39, 188, 169, 156, 73, 53, 116, 23])\n",
      "└ @ Main In[14]:64\n"
     ]
    },
    {
     "name": "stdout",
     "output_type": "stream",
     "text": [
      "Aopt1\n"
     ]
    },
    {
     "name": "stderr",
     "output_type": "stream",
     "text": [
      "┌ Info: Genetic screen finished...\n",
      "└ @ Main In[14]:63\n",
      "┌ Info: (\"Aopt_motif\", Any[29, 61, 137, 2, 1, 56, 137, 119, 97, 68, 95, 60, 172, 46, 97, 140, 53, 25, 122, 106])\n",
      "└ @ Main In[14]:64\n"
     ]
    },
    {
     "name": "stdout",
     "output_type": "stream",
     "text": [
      "Aopt1\n"
     ]
    },
    {
     "name": "stderr",
     "output_type": "stream",
     "text": [
      "┌ Info: Genetic screen finished...\n",
      "└ @ Main In[14]:63\n",
      "┌ Info: (\"Aopt_motif\", Any[104, 107, 28, 197, 152, 73, 147, 14, 178, 161, 66, 154, 51, 52, 162, 199, 118, 151, 108, 37])\n",
      "└ @ Main In[14]:64\n"
     ]
    },
    {
     "name": "stdout",
     "output_type": "stream",
     "text": [
      "Aopt1\n"
     ]
    },
    {
     "name": "stderr",
     "output_type": "stream",
     "text": [
      "┌ Info: Genetic screen finished...\n",
      "└ @ Main In[14]:63\n",
      "┌ Info: (\"Aopt_motif\", Any[75, 170, 136, 107, 38, 84, 169, 113, 187, 4, 65, 72, 172, 33, 119, 104, 193, 124, 172, 147])\n",
      "└ @ Main In[14]:64\n"
     ]
    },
    {
     "name": "stdout",
     "output_type": "stream",
     "text": [
      "Aopt1\n",
      "Any[(Any[86, 88, 88, 89, 91, 91, 92, 92, 93, 93, 94, 95, 95, 98, 98, 99, 99, 99, 99, 100, 100, 103, 103, 103, 103, 103, 104, 104, 105, 105, 105, 106, 107, 107, 107, 107, 108, 108, 108, 108, 108, 108, 111, 111, 111, 111, 111, 112, 112, 112, 112, 113, 114, 115, 115, 115, 115, 115, 116, 116, 116, 116, 116, 117, 117, 117, 117, 117, 117, 118, 118, 118, 118, 118, 118, 118, 118, 118, 118, 118, 118, 118, 118, 118, 119, 119, 119, 119, 119, 119, 119, 119, 119, 119, 119, 119, 119, 119, 119, 120, 120, 120, 120, 120, 120, 120, 120, 120, 120, 122, 122, 122, 122, 122, 122, 122, 122, 122, 122, 122, 122, 122, 122, 122, 122, 122, 122, 122, 122, 122, 122, 122, 122, 122, 123, 123, 123, 123, 123, 124, 124, 124, 124, 124, 124, 124, 124, 124, 124, 125, 125, 125, 125, 125, 125, 125, 125, 125, 125, 125, 127, 127, 127, 127, 127, 127, 127, 127, 127, 127, 127, 127, 127, 127, 127, 127, 127, 127, 127, 127, 127, 127, 128, 128, 128, 128, 129, 129, 129, 129, 129, 129, 129, 129, 129, 129, 129, 129, 129, 129, 129, 129, 129, 129, 129, 129, 129, 129, 129, 129, 129, 129, 129, 129, 129, 129, 129, 129, 129, 129, 129, 129, 129, 129, 129, 129, 129, 130, 130, 130, 130, 130, 130, 130, 130, 131, 131, 131, 131, 131, 131, 131, 131, 131, 131, 131, 131, 131, 131, 131, 131, 131, 131, 131, 131, 131, 131, 131, 131, 131, 131, 132, 132, 132, 132, 132, 132, 132, 132, 132, 132, 132, 132, 132, 132, 132, 132, 132, 132, 132, 132, 132, 132, 132, 133, 133, 133, 133, 133, 133, 133, 133, 133, 133, 133, 133, 133, 133, 134, 134, 134, 134, 134, 134, 134, 134, 134, 134, 134, 134, 134, 134, 134, 134, 134, 134, 134, 134, 134, 134, 134, 134, 134, 134, 134, 134, 134, 134, 134, 134, 134, 134, 134, 134, 134, 134, 134, 134, 134, 134, 134, 134, 134, 134, 134, 134, 134, 134], Any[76.0, 78.0, 79.0, 80.0, 81.0, 82.0, 83.0, 83.0, 84.0, 85.0, 85.0, 86.0, 87.0, 87.0, 88.0, 89.0, 89.0, 90.0, 90.0, 91.0, 92.0, 92.0, 93.0, 94.0, 95.0, 96.0, 97.0, 98.0, 98.0, 99.0, 100.0, 101.0, 102.0, 103.0, 104.0, 105.0, 105.5, 106.0, 106.0, 106.0, 106.0, 107.0, 107.0, 107.0, 107.0, 108.0, 108.0, 109.0, 109.0, 109.0, 110.0, 111.0, 111.0, 111.0, 112.0, 112.0, 112.0, 113.0, 113.0, 113.0, 114.0, 115.0, 115.0, 115.0, 115.0, 115.0, 115.0, 116.0, 116.0, 117.0, 117.0, 117.0, 117.0, 117.0, 117.0, 117.0, 118.0, 118.0, 118.0, 118.0, 118.0, 118.0, 118.0, 118.0, 118.0, 118.0, 118.0, 118.0, 118.0, 118.0, 118.0, 118.0, 118.0, 119.0, 119.0, 119.0, 119.0, 119.0, 119.0, 119.0, 119.0, 119.0, 119.0, 119.0, 119.0, 119.0, 119.0, 120.0, 120.0, 120.0, 120.0, 120.0, 120.0, 120.0, 120.0, 120.0, 120.0, 122.0, 122.0, 122.0, 122.0, 122.0, 122.0, 122.0, 122.0, 122.0, 122.0, 122.0, 122.0, 122.0, 122.0, 122.0, 122.0, 122.0, 122.0, 122.0, 122.0, 122.0, 122.0, 122.0, 122.0, 122.0, 123.0, 123.0, 123.0, 123.0, 123.0, 124.0, 124.0, 124.0, 124.0, 124.0, 124.0, 124.0, 124.0, 124.0, 125.0, 125.0, 125.0, 125.0, 125.0, 125.0, 125.0, 125.0, 125.0, 125.0, 125.0, 125.0, 127.0, 127.0, 127.0, 127.0, 127.0, 127.0, 127.0, 127.0, 127.0, 127.0, 127.0, 127.0, 127.0, 127.0, 127.0, 127.0, 127.0, 127.0, 127.0, 127.0, 127.0, 127.0, 128.0, 128.0, 128.0, 128.0, 128.0, 129.0, 129.0, 129.0, 129.0, 129.0, 129.0, 129.0, 129.0, 129.0, 129.0, 129.0, 129.0, 129.0, 129.0, 129.0, 129.0, 129.0, 129.0, 129.0, 129.0, 129.0, 129.0, 129.0, 129.0, 129.0, 129.0, 129.0, 129.0, 129.0, 129.0, 129.0, 129.0, 129.0, 129.0, 129.0, 129.0, 129.0, 129.0, 129.0, 129.0, 130.0, 130.0, 130.0, 130.0, 130.0, 130.0, 130.0, 130.0, 131.0, 131.0, 131.0, 131.0, 131.0, 131.0, 131.0, 131.0, 131.0, 131.0, 131.0, 131.0, 131.0, 131.0, 131.0, 131.0, 131.0, 131.0, 131.0, 131.0, 131.0, 131.0, 131.0, 131.0, 131.0, 131.0, 132.0, 132.0, 132.0, 132.0, 132.0, 132.0, 132.0, 132.0, 132.0, 132.0, 132.0, 132.0, 132.0, 132.0, 132.0, 132.0, 132.0, 132.0, 132.0, 132.0, 132.0, 132.0, 132.0, 133.0, 133.0, 133.0, 133.0, 133.0, 133.0, 133.0, 133.0, 133.0, 133.0, 133.0, 133.0, 133.0, 133.0, 134.0, 134.0, 134.0, 134.0, 134.0, 134.0, 134.0, 134.0, 134.0, 134.0, 134.0, 134.0, 134.0, 134.0, 134.0, 134.0, 134.0, 134.0, 134.0, 134.0, 134.0, 134.0, 134.0, 134.0, 134.0, 134.0, 134.0, 134.0, 134.0, 134.0, 134.0, 134.0, 134.0, 134.0, 134.0, 134.0, 134.0, 134.0, 134.0, 134.0, 134.0, 134.0], Any[76.254, 77.678, 78.99, 79.966, 80.958, 81.736, 82.496, 83.25, 83.992, 84.774, 85.418, 86.042, 86.592, 87.174, 87.85, 88.37, 88.994, 89.672, 90.29, 90.954, 91.798, 92.528, 93.186, 94.012, 94.846, 95.75, 96.734, 97.462, 98.29, 99.27, 100.176, 101.16, 102.044, 102.932, 103.868, 104.72, 105.32, 105.756, 106.044, 106.212, 106.39, 106.632, 106.898, 107.186, 107.474, 107.83, 108.3, 108.79, 109.204, 109.628, 110.046, 110.458, 110.9, 111.288, 111.622, 111.99, 112.296, 112.638, 113.076, 113.566, 114.166, 114.658, 114.948, 115.056, 115.126, 115.254, 115.466, 115.776, 116.128, 116.488, 116.78, 116.966, 117.04, 117.112, 117.224, 117.384, 117.62, 117.83, 117.966, 117.992, 118.0, 118.0, 118.0, 118.0, 118.002, 118.006, 118.008, 118.024, 118.048, 118.094, 118.176, 118.308, 118.496, 118.744, 118.93, 118.998, 119.0, 118.996, 119.0, 119.004, 119.008, 119.006, 119.032, 119.056, 119.118, 119.206, 119.39, 119.59, 119.824, 119.972, 120.014, 120.032, 120.064, 120.11, 120.232, 120.428, 120.696, 121.116, 121.614, 121.918, 122.0, 122.0, 122.0, 122.0, 121.994, 121.998, 122.0, 121.996, 122.0, 122.0, 121.994, 122.0, 121.998, 122.0, 122.004, 122.008, 122.016, 122.032, 122.062, 122.124, 122.236, 122.432, 122.69, 122.956, 123.124, 123.258, 123.434, 123.682, 123.894, 123.992, 124.008, 124.002, 124.038, 124.086, 124.166, 124.304, 124.52, 124.744, 124.938, 124.994, 125.006, 125.012, 125.026, 125.064, 125.128, 125.248, 125.46, 125.816, 126.296, 126.742, 126.972, 127.0, 126.988, 127.0, 127.0, 126.99, 127.0, 127.0, 127.0, 127.0, 127.0, 127.0, 127.004, 127.008, 127.016, 127.03, 127.062, 127.12, 127.214, 127.378, 127.612, 127.876, 128.07, 128.232, 128.404, 128.642, 128.868, 128.986, 129.0, 129.0, 129.0, 129.0, 129.0, 129.0, 129.0, 129.0, 129.0, 128.998, 128.994, 129.0, 128.992, 128.988, 129.0, 129.0, 129.0, 128.996, 129.0, 129.0, 129.0, 129.0, 129.0, 129.0, 129.0, 129.0, 129.0, 129.0, 129.0, 129.004, 129.008, 129.016, 129.032, 129.06, 129.116, 129.218, 129.38, 129.608, 129.848, 129.99, 130.036, 130.072, 130.132, 130.234, 130.412, 130.636, 130.864, 130.98, 130.998, 131.0, 131.0, 131.0, 131.0, 131.0, 131.0, 131.0, 131.0, 131.0, 131.0, 131.0, 131.0, 131.0, 131.0, 131.004, 131.004, 131.016, 131.032, 131.054, 131.116, 131.214, 131.382, 131.612, 131.832, 131.964, 131.996, 132.0, 132.0, 132.0, 131.992, 132.0, 132.0, 132.0, 132.0, 131.992, 132.0, 132.0, 132.004, 132.008, 132.016, 132.03, 132.06, 132.108, 132.194, 132.342, 132.554, 132.798, 132.952, 133.0, 133.0, 133.0, 132.996, 133.008, 133.016, 133.032, 133.058, 133.114, 133.214, 133.378, 133.6, 133.81, 133.964, 133.996, 134.0, 134.0, 133.996, 134.0, 134.0, 133.994, 134.0, 133.994, 134.0, 134.0, 134.0, 134.0, 134.0, 133.992, 134.0, 134.0, 133.996, 134.0, 133.99, 134.0, 134.0, 134.0, 134.0, 134.0, 134.0, 134.0, 134.0, 134.0, 134.0, 133.998, 134.0, 134.0, 133.992, 133.994, 134.0, 134.0, 134.0, 134.0], [3, 171, 127, 5, 116, 58, 71, 163, 21, 124, 59, 76, 186, 4, 98, 144, 125, 97, 101, 38], 140), (Any[88, 89, 89, 89, 90, 90, 90, 90, 90, 92, 95, 95, 95, 95, 95, 95, 97, 99, 100, 100, 103, 103, 103, 103, 103, 106, 106, 107, 107, 109, 109, 111, 111, 111, 111, 112, 112, 112, 113, 115, 115, 115, 115, 115, 116, 116, 116, 117, 117, 117, 117, 117, 117, 118, 118, 118, 118, 118, 118, 118, 118, 118, 119, 119, 119, 119, 120, 120, 120, 120, 120, 121, 121, 121, 121, 121, 121, 121, 122, 122, 122, 122, 123, 123, 123, 123, 123, 123, 123, 123, 124, 124, 124, 124, 124, 124, 124, 124, 124, 124, 124, 124, 124, 124, 124, 124, 124, 124, 124, 124, 124, 124, 124, 124, 124, 124, 124, 124, 124, 124, 124, 124, 124, 124, 124, 124, 124, 124, 124, 125, 125, 125, 125, 125, 125, 125, 125, 125, 125, 125, 125, 125, 125, 125, 125, 125, 125, 125, 125, 125, 125, 125, 125, 125, 125, 125, 125, 125, 125, 125, 125, 125, 125, 125, 125, 125, 125, 125, 125, 125, 125, 125, 125, 125, 125, 125, 125, 125, 125], Any[76.0, 78.0, 79.0, 80.0, 80.0, 81.0, 82.0, 83.0, 84.0, 84.0, 85.0, 85.0, 86.0, 87.0, 87.0, 88.0, 89.0, 89.0, 90.0, 91.0, 92.0, 93.0, 94.0, 96.0, 97.0, 98.0, 100.0, 101.0, 102.0, 103.0, 104.0, 105.0, 106.0, 107.0, 108.0, 108.0, 109.0, 110.0, 110.0, 111.0, 111.0, 112.0, 112.0, 113.0, 113.0, 114.0, 114.0, 115.0, 115.0, 115.0, 116.0, 116.0, 116.0, 116.0, 117.0, 117.0, 117.0, 117.0, 117.0, 118.0, 118.0, 118.0, 118.0, 118.0, 118.0, 118.0, 118.0, 118.0, 118.0, 118.0, 119.0, 119.0, 119.0, 119.0, 120.0, 120.0, 121.0, 121.0, 121.0, 121.0, 121.0, 121.0, 121.0, 121.0, 121.0, 121.0, 122.0, 122.0, 122.0, 122.0, 122.0, 123.0, 123.0, 123.0, 123.0, 123.0, 123.0, 124.0, 124.0, 124.0, 124.0, 124.0, 124.0, 124.0, 124.0, 124.0, 124.0, 124.0, 124.0, 124.0, 124.0, 124.0, 124.0, 124.0, 124.0, 124.0, 124.0, 124.0, 124.0, 124.0, 124.0, 124.0, 124.0, 124.0, 124.0, 124.0, 124.0, 124.0, 124.0, 124.0, 124.0, 124.0, 124.0, 124.0, 124.0, 124.0, 124.0, 125.0, 125.0, 125.0, 125.0, 125.0, 125.0, 125.0, 125.0, 125.0, 125.0, 125.0, 125.0, 125.0, 125.0, 125.0, 125.0, 125.0, 125.0, 125.0, 125.0, 125.0, 125.0, 125.0, 125.0, 125.0, 125.0, 125.0, 125.0, 125.0, 125.0, 125.0, 125.0, 125.0, 125.0, 125.0, 125.0, 125.0, 125.0, 125.0, 125.0, 125.0, 125.0], Any[76.284, 77.752, 78.946, 79.912, 80.658, 81.438, 82.196, 82.946, 83.526, 84.086, 84.678, 85.144, 85.782, 86.286, 87.034, 87.67, 88.416, 89.092, 89.858, 90.876, 92.066, 93.194, 94.384, 95.792, 97.2, 98.482, 99.65, 100.812, 101.82, 102.856, 103.894, 104.854, 105.846, 106.672, 107.56, 108.36, 109.086, 109.722, 110.25, 110.81, 111.278, 111.74, 112.192, 112.642, 113.184, 113.732, 114.184, 114.604, 114.988, 115.31, 115.644, 115.926, 116.126, 116.29, 116.516, 116.796, 117.024, 117.218, 117.426, 117.686, 117.898, 117.976, 118.0, 118.008, 118.008, 118.03, 118.064, 118.124, 118.228, 118.396, 118.656, 118.94, 119.204, 119.46, 119.822, 120.22, 120.586, 120.83, 120.968, 121.0, 121.018, 121.022, 121.076, 121.148, 121.274, 121.458, 121.708, 121.954, 122.126, 122.276, 122.48, 122.716, 122.928, 123.05, 123.108, 123.22, 123.402, 123.626, 123.838, 123.97, 124.0, 124.0, 123.992, 124.0, 124.0, 124.0, 124.0, 124.0, 124.0, 124.0, 124.0, 124.0, 124.0, 124.0, 123.996, 124.0, 124.0, 124.0, 124.0, 124.0, 124.0, 124.0, 124.0, 124.0, 124.0, 124.0, 124.0, 123.992, 123.992, 123.984, 124.008, 124.016, 124.032, 124.062, 124.12, 124.226, 124.398, 124.626, 124.85, 124.974, 124.996, 125.0, 125.0, 125.0, 124.994, 124.992, 125.0, 125.0, 124.998, 125.0, 124.996, 125.0, 125.0, 125.0, 124.998, 125.0, 125.0, 125.0, 125.0, 125.0, 125.0, 125.0, 125.0, 125.0, 125.0, 125.0, 124.992, 125.0, 124.992, 124.996, 125.0, 124.996, 125.0, 125.0, 124.994, 125.0, 125.0, 125.0, 125.0], [34, 86, 132, 69, 188, 169, 57, 138, 80, 38, 20, 15, 161, 123, 93, 172, 158, 187, 195, 71], 136), (Any[88, 88, 88, 89, 89, 89, 91, 92, 92, 95, 95, 95, 96, 96, 96, 96, 96, 96, 96, 97, 99, 99, 99, 99, 99, 100, 100, 100, 100, 100, 100, 103, 103, 103, 105, 105, 106, 107, 107, 107, 109, 110, 110, 111, 111, 112, 112, 112, 112, 112, 112, 113, 114, 114, 115, 116, 116, 116, 116, 118, 118, 118, 119, 120, 119, 120, 120, 120, 120, 120, 120, 120, 120, 120, 120, 120, 120, 120, 120, 121, 121, 121, 121, 121, 121, 121, 121, 122, 122, 122, 122, 122, 123, 123, 123, 123, 123, 123, 123, 123, 123, 123, 123, 123, 123, 123, 123, 123, 123, 123, 123, 123, 123, 123, 123, 123, 123, 123, 123, 123, 123, 123, 123, 123, 123, 123, 123, 123, 123, 123, 123, 123, 123, 123, 123, 124, 124, 124, 126, 127, 126, 126, 127, 127, 127, 127, 127, 127, 127, 127, 127, 127, 127, 127, 127, 127, 127, 127, 127, 127, 127, 127, 127, 127, 127, 127, 127, 127, 127, 127, 127, 128, 128, 128, 128, 128, 128, 128, 128, 128, 128, 128, 128, 128, 128, 128, 128, 128, 128, 128, 128, 128, 128, 128, 128, 128, 128, 128, 128, 128, 128, 128, 128, 128, 128, 128, 128, 128, 128, 128, 128, 128, 128, 128, 128, 128, 128, 128, 128, 128, 128], Any[76.0, 77.0, 79.0, 80.0, 81.0, 82.0, 82.0, 83.0, 84.0, 85.0, 85.0, 86.0, 86.0, 87.0, 88.0, 88.0, 89.0, 89.0, 90.0, 90.0, 90.5, 91.0, 91.0, 92.0, 92.0, 92.0, 93.0, 93.0, 94.0, 94.0, 95.0, 96.0, 96.0, 97.0, 98.0, 98.0, 99.0, 100.0, 101.0, 102.0, 102.0, 103.0, 105.0, 105.5, 106.0, 107.0, 108.0, 108.0, 109.0, 110.0, 111.0, 111.0, 111.0, 112.0, 112.0, 112.0, 112.0, 112.0, 113.0, 113.0, 114.0, 115.0, 115.5, 116.0, 117.0, 118.0, 118.0, 118.0, 119.0, 119.0, 119.0, 120.0, 120.0, 120.0, 120.0, 120.0, 120.0, 120.0, 120.0, 120.0, 120.0, 120.0, 120.0, 120.0, 120.0, 120.0, 120.0, 121.0, 121.0, 121.0, 121.0, 121.0, 121.0, 121.0, 121.0, 122.0, 122.0, 122.0, 122.0, 123.0, 123.0, 123.0, 123.0, 123.0, 123.0, 123.0, 123.0, 123.0, 123.0, 123.0, 123.0, 123.0, 123.0, 123.0, 123.0, 123.0, 123.0, 123.0, 123.0, 123.0, 123.0, 123.0, 123.0, 123.0, 123.0, 123.0, 123.0, 123.0, 123.0, 123.0, 123.0, 123.0, 123.0, 123.0, 123.0, 123.0, 123.0, 123.0, 123.0, 123.0, 123.0, 123.0, 123.0, 124.0, 124.0, 124.0, 126.0, 126.0, 127.0, 127.0, 127.0, 127.0, 127.0, 127.0, 127.0, 127.0, 127.0, 127.0, 127.0, 127.0, 127.0, 127.0, 127.0, 127.0, 127.0, 127.0, 127.0, 127.0, 127.0, 127.0, 127.0, 127.0, 127.0, 127.0, 127.0, 127.0, 127.0, 127.0, 127.0, 128.0, 128.0, 128.0, 128.0, 128.0, 128.0, 128.0, 128.0, 128.0, 128.0, 128.0, 128.0, 128.0, 128.0, 128.0, 128.0, 128.0, 128.0, 128.0, 128.0, 128.0, 128.0, 128.0, 128.0, 128.0, 128.0, 128.0, 128.0, 128.0, 128.0, 128.0, 128.0, 128.0, 128.0, 128.0, 128.0, 128.0, 128.0, 128.0, 128.0, 128.0, 128.0], Any[76.026, 77.578, 78.766, 79.796, 80.784, 81.692, 82.458, 83.32, 83.864, 84.722, 85.382, 85.772, 86.384, 86.764, 87.25, 87.754, 88.172, 88.68, 89.178, 89.584, 90.0, 90.53, 90.92, 91.22, 91.51, 92.108, 92.606, 93.224, 93.718, 94.224, 94.796, 95.46, 96.04, 96.678, 97.474, 98.288, 99.092, 99.998, 100.896, 101.782, 102.658, 103.58, 104.648, 105.576, 106.482, 107.262, 107.946, 108.604, 109.236, 109.876, 110.518, 110.962, 111.356, 111.646, 111.95, 112.132, 112.324, 112.58, 112.974, 113.514, 114.08, 114.706, 115.472, 116.138, 116.812, 117.434, 117.986, 118.436, 118.782, 119.088, 119.328, 119.582, 119.826, 119.952, 119.988, 120.0, 119.996, 119.986, 120.0, 120.004, 120.004, 120.008, 120.024, 120.064, 120.128, 120.238, 120.418, 120.664, 120.888, 121.01, 121.04, 121.08, 121.156, 121.28, 121.47, 121.722, 121.988, 122.222, 122.412, 122.65, 122.866, 122.978, 123.0, 123.0, 123.0, 123.0, 122.994, 122.992, 123.0, 123.0, 122.99, 123.0, 123.0, 123.0, 123.0, 123.0, 122.992, 122.992, 123.0, 123.0, 123.0, 123.0, 123.0, 123.0, 123.0, 123.0, 122.994, 122.996, 122.994, 123.0, 122.994, 123.0, 123.0, 123.0, 123.0, 123.004, 123.008, 123.016, 123.042, 123.084, 123.148, 123.28, 123.504, 123.83, 124.216, 124.684, 125.276, 126.008, 126.624, 126.942, 126.994, 127.0, 127.0, 127.0, 127.0, 127.0, 127.0, 127.0, 127.0, 127.0, 127.0, 127.0, 127.0, 127.0, 127.0, 127.0, 126.996, 127.0, 127.0, 127.0, 126.986, 127.004, 127.008, 127.012, 127.024, 127.048, 127.092, 127.176, 127.322, 127.532, 127.754, 127.93, 127.98, 128.0, 128.0, 127.994, 128.0, 128.0, 128.0, 128.0, 128.0, 128.0, 128.0, 128.0, 127.996, 128.0, 128.0, 128.0, 128.0, 128.0, 128.0, 128.0, 128.0, 128.0, 128.0, 127.992, 128.0, 128.0, 128.0, 128.0, 127.998, 127.992, 128.0, 128.0, 127.994, 128.0, 128.0, 128.0, 128.0, 128.0, 128.0], [25, 99, 154, 11, 145, 167, 187, 34, 130, 162, 119, 161, 136, 131, 60, 200, 174, 87, 109, 148], 136), (Any[88, 88, 88, 88, 91, 91, 92, 92, 92, 96, 96, 100, 100, 100, 100, 100, 100, 100, 102, 102, 102, 105, 107, 107, 107, 108, 108, 108, 110, 110, 112, 112, 112, 112, 112, 112, 113, 113, 114, 114, 114, 115, 115, 116, 117, 117, 118, 118, 118, 119, 120, 120, 121, 121, 121, 121, 121, 121, 121, 122, 122, 122, 122, 122, 122, 122, 122, 122, 123, 123, 123, 123, 123, 123, 123, 123, 123, 123, 123, 123, 124, 124, 124, 124, 124, 124, 124, 124, 124, 124, 124, 124, 124, 124, 124, 124, 124, 124, 124, 124, 124, 124, 124, 124, 124, 124, 124, 124, 124, 124, 124, 124, 124, 124, 124, 124, 124, 124, 124, 124, 124, 124, 124, 124, 124, 124, 124, 124, 124, 124], Any[75.0, 77.0, 78.0, 79.0, 80.0, 81.0, 82.0, 83.0, 84.0, 84.0, 85.0, 86.0, 87.0, 87.0, 88.0, 89.0, 90.0, 91.0, 92.0, 93.0, 95.0, 96.0, 97.0, 98.0, 99.0, 101.0, 101.0, 102.0, 103.0, 104.0, 104.0, 105.0, 105.0, 106.0, 107.0, 107.0, 108.0, 109.0, 110.0, 110.0, 111.0, 111.0, 112.0, 113.0, 113.0, 114.0, 114.0, 114.0, 115.0, 116.0, 116.0, 117.0, 118.0, 118.0, 119.0, 119.0, 120.0, 120.0, 120.0, 120.0, 121.0, 121.0, 121.0, 121.0, 121.0, 121.0, 121.0, 121.0, 122.0, 122.0, 122.0, 122.0, 122.0, 122.0, 122.0, 123.0, 123.0, 123.0, 123.0, 123.0, 123.0, 123.0, 123.0, 123.0, 123.0, 123.0, 123.0, 123.0, 124.0, 124.0, 124.0, 124.0, 124.0, 124.0, 124.0, 124.0, 124.0, 124.0, 124.0, 124.0, 124.0, 124.0, 124.0, 124.0, 124.0, 124.0, 124.0, 124.0, 124.0, 124.0, 124.0, 124.0, 124.0, 124.0, 124.0, 124.0, 124.0, 124.0, 124.0, 124.0, 124.0, 124.0, 124.0, 124.0, 124.0, 124.0, 124.0, 124.0, 124.0, 124.0], Any[75.75, 77.196, 78.494, 79.436, 80.416, 81.298, 82.184, 82.926, 83.566, 84.244, 84.996, 85.792, 86.394, 87.192, 87.95, 88.906, 89.736, 90.808, 91.756, 93.052, 94.51, 95.908, 97.242, 98.542, 99.582, 100.618, 101.51, 102.304, 102.984, 103.678, 104.296, 104.858, 105.388, 105.992, 106.628, 107.366, 108.122, 108.936, 109.736, 110.414, 110.986, 111.576, 112.152, 112.74, 113.274, 113.732, 114.196, 114.628, 115.132, 115.678, 116.352, 117.048, 117.778, 118.364, 118.808, 119.26, 119.632, 119.958, 120.18, 120.376, 120.592, 120.826, 120.982, 121.036, 121.072, 121.136, 121.24, 121.434, 121.662, 121.904, 122.006, 122.042, 122.108, 122.214, 122.384, 122.614, 122.83, 122.968, 122.992, 122.994, 123.004, 123.008, 123.016, 123.032, 123.058, 123.118, 123.222, 123.376, 123.618, 123.86, 123.972, 123.998, 124.0, 124.0, 124.0, 124.0, 124.0, 124.0, 124.0, 124.0, 124.0, 123.996, 124.0, 124.0, 124.0, 124.0, 124.0, 123.988, 124.0, 123.996, 123.992, 124.0, 124.0, 124.0, 124.0, 124.0, 124.0, 124.0, 124.0, 124.0, 123.998, 124.0, 124.0, 124.0, 124.0, 124.0, 124.0, 124.0, 124.0, 124.0], [189, 89, 46, 11, 182, 69, 178, 103, 41, 116, 7, 125, 108, 35, 22, 168, 97, 65, 120, 67], 137), (Any[86, 89, 89, 89, 92, 92, 92, 93, 93, 93, 93, 93, 93, 98, 98, 98, 98, 98, 98, 98, 98, 98, 99, 99, 100, 102, 100, 101, 102, 102, 103, 104, 104, 104, 105, 106, 106, 107, 107, 107, 107, 109, 109, 110, 110, 110, 110, 111, 115, 115, 115, 115, 115, 116, 117, 118, 118, 119, 119, 120, 121, 121, 122, 122, 123, 124, 124, 124, 124, 124, 125, 125, 125, 125, 126, 126, 126, 126, 126, 126, 127, 128, 128, 128, 128, 128, 128, 128, 128, 130, 130, 130, 130, 130, 130, 130, 130, 130, 130, 130, 130, 130, 130, 130, 130, 130, 130, 130, 130, 130, 130, 130, 130, 130, 130, 130, 130, 130, 130, 130, 130, 130, 130, 130, 130, 130, 130, 130, 130, 130, 130, 130, 130, 130, 130, 130, 130, 130, 130], Any[76.0, 77.0, 79.0, 80.0, 81.0, 81.5, 82.0, 83.0, 84.0, 84.0, 85.0, 86.0, 86.0, 87.0, 87.0, 88.0, 88.0, 89.0, 90.0, 90.0, 91.0, 91.0, 92.0, 92.0, 93.0, 94.0, 94.0, 95.0, 96.0, 96.0, 97.0, 98.0, 98.0, 98.0, 99.0, 100.0, 100.0, 101.0, 101.0, 102.0, 103.0, 104.0, 104.0, 105.0, 105.0, 106.0, 107.0, 107.0, 108.0, 108.0, 109.0, 110.0, 110.0, 111.0, 112.0, 113.0, 114.0, 115.0, 116.0, 116.0, 117.0, 118.0, 118.0, 119.0, 120.0, 120.0, 121.0, 121.0, 121.0, 122.0, 122.0, 123.0, 123.0, 124.0, 124.0, 124.0, 125.0, 125.0, 125.0, 125.0, 125.0, 125.0, 125.0, 126.0, 126.0, 126.0, 126.0, 126.0, 127.0, 128.0, 128.0, 128.0, 128.0, 128.0, 128.0, 128.0, 128.0, 128.0, 130.0, 130.0, 130.0, 130.0, 130.0, 130.0, 130.0, 130.0, 130.0, 130.0, 130.0, 130.0, 130.0, 130.0, 130.0, 130.0, 130.0, 130.0, 130.0, 130.0, 130.0, 130.0, 130.0, 130.0, 130.0, 130.0, 130.0, 130.0, 130.0, 130.0, 130.0, 130.0, 130.0, 130.0, 130.0, 130.0, 130.0, 130.0, 130.0, 130.0, 130.0], Any[76.11, 77.638, 78.744, 79.844, 80.822, 81.658, 82.374, 83.222, 83.836, 84.414, 85.02, 85.686, 86.142, 86.71, 87.11, 87.422, 88.166, 88.728, 89.2, 89.822, 90.524, 90.99, 91.736, 92.274, 92.826, 93.528, 94.118, 94.53, 95.222, 95.766, 96.472, 97.118, 97.706, 98.346, 98.876, 99.46, 100.038, 100.72, 101.408, 102.074, 102.824, 103.504, 104.19, 104.846, 105.426, 106.054, 106.628, 107.172, 107.766, 108.372, 108.986, 109.618, 110.346, 111.188, 112.076, 112.934, 113.926, 114.758, 115.632, 116.336, 117.0, 117.678, 118.366, 119.008, 119.64, 120.218, 120.694, 121.162, 121.552, 121.968, 122.426, 122.876, 123.348, 123.72, 124.05, 124.298, 124.524, 124.748, 124.964, 125.056, 125.126, 125.234, 125.412, 125.652, 125.934, 126.132, 126.316, 126.592, 126.998, 127.494, 127.856, 127.998, 128.03, 128.064, 128.124, 128.202, 128.396, 128.712, 129.162, 129.62, 129.906, 129.996, 130.0, 130.0, 130.0, 130.0, 130.0, 130.0, 130.0, 130.0, 130.0, 130.0, 130.0, 130.0, 130.0, 130.0, 130.0, 130.0, 130.0, 130.0, 130.0, 129.992, 130.0, 130.0, 130.0, 130.0, 130.0, 130.0, 130.0, 130.0, 130.0, 130.0, 130.0, 129.992, 130.0, 130.0, 130.0, 130.0, 130.0], [42, 155, 97, 147, 25, 127, 13, 113, 21, 24, 119, 62, 34, 143, 34, 19, 185, 87, 151, 2], 137), (Any[89, 89, 89, 89, 92, 93, 93, 95, 95, 95, 95, 95, 97, 98, 98, 98, 98, 98, 99, 99, 101, 101, 103, 106, 111, 111, 111, 111, 111, 111, 113, 113, 113, 114, 114, 114, 116, 117, 117, 118, 118, 118, 118, 119, 119, 119, 120, 120, 120, 120, 120, 121, 122, 122, 122, 122, 122, 123, 123, 123, 123, 123, 123, 123, 123, 123, 123, 124, 124, 124, 124, 124, 124, 124, 124, 124, 124, 124, 124, 125, 125, 125, 125, 125, 125, 125, 125, 125, 125, 125, 126, 126, 126, 126, 126, 126, 126, 126, 126, 126, 126, 126, 126, 126, 126, 126, 126, 126, 126, 126, 126, 126, 126, 126, 126, 126, 126, 126, 126, 126, 126, 126, 126, 126, 126, 126, 126, 126, 127, 127, 127, 127, 127, 127, 127, 127, 127, 127, 127, 127, 127, 127, 128, 128, 128, 128, 128, 128, 128, 128, 128, 128, 128, 128, 129, 129, 129, 129, 129, 129, 129, 129, 129, 129, 129, 129, 129, 129, 129, 129, 130, 130, 130, 130, 130, 130, 130, 130, 130, 130, 130, 130, 130, 130, 130, 130, 130, 130, 130, 130, 130, 130, 130, 130, 130, 130, 130, 130, 130, 130, 130, 130, 130, 130, 130, 130, 130, 130, 130, 130, 130, 130, 130, 130, 131, 131, 131, 131, 131, 131, 131, 131, 131, 131, 131, 132, 132, 132, 132, 132, 132, 132, 132, 132, 132, 132, 132, 132, 132, 132, 132, 132, 132, 132, 132, 132, 132, 132, 132, 132, 132, 132, 132, 132, 132, 132, 132, 132, 132, 132, 132, 132, 132, 132, 132, 132, 132, 132, 132, 132, 132, 132, 132, 132, 132], Any[76.0, 77.0, 78.0, 79.0, 80.0, 81.0, 82.0, 83.0, 84.0, 85.0, 85.0, 86.0, 87.0, 88.0, 88.0, 89.0, 90.0, 92.0, 93.0, 94.0, 95.0, 95.0, 96.0, 97.0, 98.0, 99.0, 100.0, 101.0, 102.0, 103.0, 105.0, 106.0, 107.0, 109.0, 110.0, 111.0, 111.0, 113.0, 113.0, 114.0, 114.0, 115.0, 116.0, 117.0, 117.0, 117.0, 118.0, 118.0, 118.0, 118.0, 119.0, 119.0, 119.0, 120.0, 120.0, 120.0, 120.0, 120.0, 121.0, 122.0, 122.0, 122.0, 122.0, 123.0, 123.0, 123.0, 123.0, 123.0, 123.0, 123.0, 123.0, 123.0, 123.0, 123.0, 123.0, 124.0, 124.0, 124.0, 124.0, 124.0, 124.0, 124.0, 124.0, 124.0, 124.0, 124.0, 124.0, 125.0, 125.0, 125.0, 125.0, 125.0, 125.0, 125.0, 125.0, 125.0, 125.0, 125.0, 125.0, 126.0, 126.0, 126.0, 126.0, 126.0, 126.0, 126.0, 126.0, 126.0, 126.0, 126.0, 126.0, 126.0, 126.0, 126.0, 126.0, 126.0, 126.0, 126.0, 126.0, 126.0, 126.0, 126.0, 126.0, 126.0, 126.0, 126.0, 126.0, 126.0, 126.0, 126.0, 126.0, 126.0, 126.0, 126.0, 126.0, 126.0, 127.0, 127.0, 127.0, 127.0, 127.0, 127.0, 127.0, 127.0, 127.0, 127.0, 127.0, 127.0, 127.0, 127.0, 127.0, 128.0, 128.0, 128.0, 128.0, 128.0, 128.0, 128.0, 128.0, 128.0, 128.0, 128.0, 129.0, 129.0, 129.0, 129.0, 129.0, 129.0, 129.0, 129.0, 129.0, 129.0, 129.0, 129.0, 129.0, 129.0, 129.0, 129.0, 130.0, 130.0, 130.0, 130.0, 130.0, 130.0, 130.0, 130.0, 130.0, 130.0, 130.0, 130.0, 130.0, 130.0, 130.0, 130.0, 130.0, 130.0, 130.0, 130.0, 130.0, 130.0, 130.0, 130.0, 130.0, 130.0, 130.0, 130.0, 130.0, 130.0, 130.0, 130.0, 130.0, 130.0, 130.0, 130.0, 130.0, 130.0, 130.0, 130.0, 130.0, 130.0, 130.0, 130.0, 131.0, 131.0, 131.0, 131.0, 131.0, 131.0, 131.0, 131.0, 131.0, 131.0, 131.0, 132.0, 132.0, 132.0, 132.0, 132.0, 132.0, 132.0, 132.0, 132.0, 132.0, 132.0, 132.0, 132.0, 132.0, 132.0, 132.0, 132.0, 132.0, 132.0, 132.0, 132.0, 132.0, 132.0, 132.0, 132.0, 132.0, 132.0, 132.0, 132.0, 132.0, 132.0, 132.0, 132.0, 132.0, 132.0, 132.0, 132.0, 132.0, 132.0, 132.0, 132.0, 132.0], Any[75.88, 77.51, 78.57, 79.622, 80.632, 81.312, 82.28, 83.136, 83.86, 84.602, 85.28, 86.068, 86.666, 87.602, 88.27, 89.15, 90.196, 91.2, 92.402, 93.61, 94.692, 95.628, 96.456, 97.372, 98.342, 99.346, 100.268, 101.326, 102.39, 103.554, 104.834, 106.136, 107.382, 108.696, 109.854, 110.876, 111.742, 112.568, 113.316, 113.926, 114.464, 115.068, 115.744, 116.442, 116.952, 117.31, 117.584, 117.882, 118.154, 118.462, 118.8, 119.102, 119.39, 119.674, 119.922, 120.11, 120.254, 120.508, 120.874, 121.324, 121.822, 122.208, 122.442, 122.688, 122.886, 122.978, 122.99, 123.004, 123.006, 123.016, 123.032, 123.06, 123.114, 123.226, 123.41, 123.646, 123.872, 123.978, 123.998, 124.004, 124.008, 124.016, 124.032, 124.062, 124.114, 124.216, 124.38, 124.616, 124.826, 124.952, 125.002, 125.004, 125.002, 125.01, 125.028, 125.064, 125.118, 125.224, 125.384, 125.63, 125.85, 125.972, 125.996, 126.0, 126.0, 126.0, 126.0, 126.0, 126.0, 126.0, 126.0, 126.0, 126.0, 126.0, 126.0, 126.0, 126.0, 126.0, 126.0, 126.0, 126.0, 126.0, 126.0, 125.998, 126.0, 126.0, 125.996, 126.0, 126.004, 126.008, 126.016, 126.032, 126.064, 126.122, 126.214, 126.384, 126.604, 126.838, 126.962, 127.0, 127.0, 126.986, 127.004, 127.008, 126.998, 127.024, 127.048, 127.09, 127.162, 127.304, 127.494, 127.728, 127.896, 127.97, 127.996, 128.008, 128.016, 128.028, 128.062, 128.122, 128.23, 128.404, 128.636, 128.834, 128.974, 128.998, 128.992, 128.994, 129.0, 129.0, 129.0, 129.008, 129.016, 129.032, 129.056, 129.118, 129.208, 129.37, 129.598, 129.838, 129.946, 129.998, 130.0, 130.0, 129.992, 130.0, 130.0, 129.992, 130.0, 130.0, 130.0, 129.986, 129.994, 130.0, 130.0, 130.0, 130.0, 130.0, 130.0, 130.0, 129.99, 130.0, 130.0, 130.0, 130.0, 129.994, 130.0, 129.994, 130.0, 130.0, 130.0, 130.0, 130.0, 129.992, 130.004, 130.008, 130.016, 130.032, 130.062, 130.108, 130.21, 130.37, 130.582, 130.82, 130.958, 131.002, 131.008, 131.012, 131.028, 131.052, 131.092, 131.188, 131.34, 131.548, 131.794, 131.932, 131.992, 131.992, 132.0, 132.0, 132.0, 132.0, 132.0, 132.0, 131.988, 132.0, 132.0, 132.0, 132.0, 132.0, 131.99, 132.0, 132.0, 132.0, 132.0, 132.0, 131.988, 132.0, 132.0, 132.0, 132.0, 132.0, 132.0, 132.0, 131.994, 132.0, 132.0, 132.0, 132.0, 132.0, 132.0, 132.0, 132.0, 132.0, 132.0], [3, 59, 29, 86, 164, 33, 55, 22, 122, 159, 73, 4, 52, 38, 34, 9, 126, 195, 109, 127], 138), (Any[85, 86, 89, 89, 89, 90, 91, 93, 94, 94, 95, 95, 95, 95, 95, 96, 96, 97, 97, 98, 98, 99, 100, 101, 103, 104, 104, 107, 107, 107, 109, 109, 110, 111, 111, 111, 113, 113, 113, 113, 113, 113, 115, 115, 115, 115, 115, 116, 116, 116, 116, 116, 117, 117, 117, 117, 117, 117, 117, 117, 117, 117, 117, 117, 117, 117, 117, 117, 117, 117, 117, 117, 117, 117, 117, 117, 117, 117, 117, 120, 120, 120, 120, 120, 120, 120, 120, 121, 122, 122, 122, 122, 122, 123, 123, 123, 123, 123, 123, 124, 124, 124, 124, 124, 124, 124, 124, 124, 124, 125, 125, 125, 125, 126, 126, 126, 126, 126, 126, 126, 127, 127, 127, 127, 127, 127, 127, 127, 127, 127, 127, 127, 127, 127, 127, 127, 127, 127, 127, 127, 127, 127, 127, 127, 127, 127, 127, 127, 127, 127, 127, 127, 127, 127, 127, 127, 127, 127, 127, 127, 127, 127, 127, 127, 127, 127, 127, 127, 127, 127], Any[76.0, 77.0, 79.0, 79.0, 80.0, 81.0, 82.0, 83.0, 84.0, 84.0, 85.0, 85.0, 86.0, 86.0, 87.0, 88.0, 88.0, 89.0, 89.0, 90.0, 91.0, 91.0, 92.0, 93.0, 94.0, 95.0, 96.0, 98.0, 99.0, 101.0, 102.0, 103.0, 104.0, 105.0, 106.0, 107.0, 108.0, 109.0, 110.0, 110.0, 111.0, 111.0, 112.0, 112.0, 112.0, 113.0, 113.0, 113.0, 114.0, 115.0, 115.0, 115.0, 115.0, 115.0, 115.5, 116.0, 116.0, 116.0, 117.0, 117.0, 117.0, 117.0, 117.0, 117.0, 117.0, 117.0, 117.0, 117.0, 117.0, 117.0, 117.0, 117.0, 117.0, 117.0, 117.0, 117.0, 117.0, 117.0, 117.0, 117.0, 117.0, 117.0, 117.0, 117.0, 117.0, 117.0, 117.0, 120.0, 120.0, 120.0, 120.0, 120.0, 120.0, 120.0, 121.0, 121.0, 121.0, 122.0, 122.0, 122.0, 123.0, 123.0, 123.0, 123.0, 123.0, 123.0, 123.0, 123.0, 124.0, 124.0, 124.0, 124.0, 124.0, 124.0, 124.0, 124.0, 125.0, 125.0, 125.0, 125.0, 126.0, 126.0, 126.0, 126.0, 126.0, 126.0, 126.0, 126.0, 126.0, 127.0, 127.0, 127.0, 127.0, 127.0, 127.0, 127.0, 127.0, 127.0, 127.0, 127.0, 127.0, 127.0, 127.0, 127.0, 127.0, 127.0, 127.0, 127.0, 127.0, 127.0, 127.0, 127.0, 127.0, 127.0, 127.0, 127.0, 127.0, 127.0, 127.0, 127.0, 127.0, 127.0, 127.0, 127.0, 127.0, 127.0, 127.0, 127.0, 127.0, 127.0], Any[75.644, 77.48, 78.63, 79.638, 80.552, 81.432, 82.258, 83.076, 83.678, 84.12, 84.656, 85.25, 85.79, 86.368, 87.022, 87.42, 87.89, 88.484, 89.084, 89.814, 90.5, 91.016, 91.94, 92.828, 93.912, 95.006, 96.256, 97.632, 99.106, 100.612, 101.91, 103.172, 104.2, 105.31, 106.368, 107.334, 108.234, 109.028, 109.714, 110.322, 110.834, 111.24, 111.622, 111.988, 112.342, 112.738, 113.11, 113.512, 113.98, 114.402, 114.756, 115.028, 115.178, 115.308, 115.522, 115.806, 116.098, 116.38, 116.644, 116.846, 116.978, 116.996, 117.0, 117.0, 116.984, 117.0, 117.0, 117.0, 117.0, 117.0, 117.0, 117.0, 117.0, 117.0, 117.0, 117.0, 117.0, 117.0, 117.0, 117.012, 117.008, 117.048, 117.088, 117.17, 117.338, 117.654, 118.17, 118.836, 119.574, 119.908, 120.06, 120.128, 120.258, 120.466, 120.766, 121.1, 121.478, 121.828, 122.132, 122.388, 122.65, 122.892, 122.996, 123.022, 123.04, 123.084, 123.16, 123.298, 123.508, 123.746, 123.926, 124.022, 124.06, 124.122, 124.23, 124.408, 124.658, 124.924, 125.172, 125.4, 125.65, 125.866, 125.992, 126.018, 126.04, 126.082, 126.144, 126.246, 126.438, 126.684, 126.894, 126.986, 127.0, 127.0, 126.996, 127.0, 127.0, 127.0, 127.0, 127.0, 126.998, 127.0, 127.0, 127.0, 127.0, 127.0, 127.0, 127.0, 127.0, 127.0, 127.0, 127.0, 127.0, 127.0, 127.0, 126.998, 127.0, 127.0, 127.0, 127.0, 127.0, 127.0, 127.0, 127.0, 127.0, 127.0, 127.0, 127.0, 127.0, 127.0], [23, 92, 37, 1, 172, 159, 7, 39, 19, 84, 110, 26, 53, 188, 169, 89, 73, 99, 62, 23], 135), (Any[87, 87, 91, 91, 91, 96, 96, 96, 96, 96, 96, 96, 96, 96, 96, 96, 97, 97, 97, 98, 98, 98, 98, 101, 101, 101, 101, 102, 102, 103, 105, 105, 105, 105, 105, 107, 107, 107, 107, 108, 108, 108, 108, 108, 108, 109, 109, 109, 109, 110, 110, 110, 110, 112, 112, 112, 112, 112, 113, 113, 114, 114, 114, 114, 115, 115, 115, 115, 115, 115, 115, 115, 115, 115, 115, 115, 115, 115, 115, 115, 115, 115, 116, 116, 116, 116, 116, 116, 116, 116, 116, 116, 116, 117, 117, 117, 117, 117, 117, 117, 117, 117, 117, 117, 118, 118, 118, 118, 118, 119, 119, 119, 119, 119, 119, 119, 119, 119, 119, 119, 119, 120, 120, 120, 120, 120, 120, 120, 120, 120, 120, 120, 120, 120, 120, 120, 120, 120, 120, 120, 120, 120, 120, 120, 120, 120, 120, 120, 120, 120, 120, 120, 120, 120, 120, 120, 120, 120, 120, 120, 120, 120, 120, 120, 120, 120, 120, 120, 120, 120, 120], Any[76.0, 77.0, 79.0, 80.0, 81.0, 81.0, 82.0, 83.0, 83.0, 84.0, 85.0, 85.0, 86.0, 87.0, 88.0, 88.0, 89.0, 90.0, 91.0, 91.0, 92.0, 93.0, 94.0, 94.0, 95.0, 96.0, 96.0, 96.0, 96.0, 97.0, 98.0, 98.0, 98.0, 99.0, 100.0, 100.0, 101.0, 102.0, 102.0, 104.0, 104.0, 105.0, 105.0, 106.0, 107.0, 107.0, 107.0, 107.0, 108.0, 108.0, 108.0, 108.0, 108.0, 109.0, 109.0, 109.0, 110.0, 110.0, 110.0, 110.0, 111.0, 112.0, 112.0, 112.0, 112.0, 113.0, 113.0, 114.0, 114.0, 114.0, 115.0, 115.0, 115.0, 115.0, 115.0, 115.0, 115.0, 115.0, 115.0, 115.0, 115.0, 115.0, 115.0, 115.0, 115.0, 115.0, 115.0, 115.0, 115.0, 115.0, 116.0, 116.0, 116.0, 116.0, 116.0, 116.0, 116.0, 116.0, 116.0, 116.0, 117.0, 117.0, 117.0, 117.0, 117.0, 117.0, 117.0, 117.0, 117.0, 117.0, 117.0, 117.0, 118.0, 118.0, 118.0, 118.5, 119.0, 119.0, 119.0, 119.0, 119.0, 119.0, 119.0, 119.0, 119.0, 119.0, 119.0, 119.0, 119.0, 120.0, 120.0, 120.0, 120.0, 120.0, 120.0, 120.0, 120.0, 120.0, 120.0, 120.0, 120.0, 120.0, 120.0, 120.0, 120.0, 120.0, 120.0, 120.0, 120.0, 120.0, 120.0, 120.0, 120.0, 120.0, 120.0, 120.0, 120.0, 120.0, 120.0, 120.0, 120.0, 120.0, 120.0, 120.0, 120.0, 120.0, 120.0, 120.0, 120.0, 120.0, 120.0], Any[75.774, 77.446, 78.814, 79.846, 80.738, 81.404, 81.89, 82.64, 83.288, 83.94, 84.84, 85.394, 86.086, 86.786, 87.58, 88.376, 89.066, 90.028, 90.584, 91.296, 92.092, 92.814, 93.388, 94.054, 94.432, 95.006, 95.48, 95.938, 96.38, 96.902, 97.41, 97.948, 98.534, 98.994, 99.682, 100.262, 101.014, 101.804, 102.626, 103.504, 104.216, 104.906, 105.496, 105.982, 106.446, 106.822, 107.094, 107.316, 107.526, 107.774, 108.008, 108.164, 108.366, 108.612, 108.914, 109.254, 109.568, 109.906, 110.268, 110.606, 111.036, 111.512, 111.892, 112.19, 112.42, 112.794, 113.212, 113.668, 114.08, 114.432, 114.69, 114.886, 114.97, 115.0, 115.0, 115.0, 115.0, 115.0, 115.0, 115.0, 115.0, 115.0, 115.004, 115.008, 115.012, 115.032, 115.064, 115.124, 115.226, 115.394, 115.618, 115.836, 115.97, 116.008, 116.016, 116.028, 116.056, 116.11, 116.204, 116.366, 116.602, 116.828, 116.952, 116.992, 117.004, 117.012, 117.024, 117.046, 117.082, 117.146, 117.27, 117.472, 117.744, 118.024, 118.262, 118.496, 118.764, 118.93, 118.992, 119.0, 119.0, 119.004, 119.0, 119.016, 119.016, 119.058, 119.11, 119.194, 119.33, 119.558, 119.8, 119.948, 119.998, 119.992, 119.992, 119.998, 119.994, 120.0, 120.0, 120.0, 120.0, 120.0, 119.998, 120.0, 119.992, 119.998, 119.996, 120.0, 120.0, 120.0, 120.0, 120.0, 120.0, 120.0, 120.0, 120.0, 120.0, 120.0, 120.0, 120.0, 119.984, 120.0, 120.0, 120.0, 120.0, 120.0, 120.0, 120.0, 120.0, 120.0, 120.0], [29, 8, 137, 79, 82, 56, 137, 40, 97, 68, 95, 60, 172, 46, 98, 140, 53, 25, 122, 134], 127), (Any[89, 90, 90, 94, 94, 94, 95, 95, 95, 95, 95, 95, 96, 96, 100, 100, 100, 100, 101, 101, 104, 105, 108, 108, 108, 108, 108, 108, 110, 110, 111, 111, 111, 112, 112, 115, 115, 116, 116, 116, 116, 116, 117, 117, 117, 118, 118, 118, 118, 118, 118, 118, 118, 119, 119, 119, 119, 119, 119, 119, 119, 119, 119, 119, 119, 119, 121, 121, 121, 121, 121, 121, 121, 122, 122, 122, 122, 122, 122, 122, 122, 122, 122, 123, 123, 123, 123, 123, 123, 123, 123, 123, 123, 123, 123, 123, 123, 123, 123, 123, 123, 123, 123, 123, 123, 123, 123, 123, 123, 123, 123, 123, 123, 123, 123, 123, 123, 123, 123, 123, 123, 123, 123, 123, 124, 124, 124, 124, 124, 124, 125, 125, 125, 125, 125, 125, 125, 126, 126, 126, 127, 127, 127, 127, 127, 128, 128, 128, 128, 128, 128, 128, 128, 128, 128, 128, 128, 128, 128, 128, 128, 128, 128, 128, 128, 128, 128, 128, 128, 128, 128, 128, 128, 128, 128, 128, 128, 128, 128, 128, 128, 128, 128, 128, 128, 128, 128, 128, 128, 128, 128, 128, 128, 128, 128], Any[76.0, 78.0, 79.0, 80.0, 81.0, 82.0, 82.0, 83.0, 84.0, 85.0, 85.0, 86.0, 87.0, 88.0, 89.5, 90.0, 92.0, 93.0, 94.0, 95.0, 95.0, 96.0, 97.0, 98.0, 98.0, 99.0, 100.0, 101.0, 102.5, 104.0, 105.0, 106.0, 107.0, 108.0, 109.0, 109.0, 110.0, 111.0, 111.0, 112.0, 112.0, 113.0, 114.0, 115.0, 115.0, 115.0, 116.0, 116.0, 116.0, 117.0, 117.0, 117.0, 118.0, 118.0, 118.0, 118.0, 118.0, 118.0, 118.0, 118.0, 118.0, 119.0, 119.0, 119.0, 119.0, 119.0, 119.0, 119.0, 119.0, 119.0, 119.0, 119.0, 119.0, 119.0, 121.0, 121.0, 121.0, 121.0, 121.0, 121.0, 121.0, 122.0, 122.0, 122.0, 122.0, 122.0, 122.0, 122.0, 122.0, 122.0, 122.0, 123.0, 123.0, 123.0, 123.0, 123.0, 123.0, 123.0, 123.0, 123.0, 123.0, 123.0, 123.0, 123.0, 123.0, 123.0, 123.0, 123.0, 123.0, 123.0, 123.0, 123.0, 123.0, 123.0, 123.0, 123.0, 123.0, 123.0, 123.0, 123.0, 123.0, 123.0, 123.0, 123.0, 123.0, 123.0, 123.0, 123.0, 123.0, 123.0, 123.0, 123.0, 124.0, 124.0, 124.0, 124.0, 124.0, 124.0, 124.0, 125.0, 125.0, 125.0, 125.0, 125.0, 125.0, 126.0, 127.0, 127.0, 127.0, 127.0, 127.0, 127.0, 127.0, 127.0, 128.0, 128.0, 128.0, 128.0, 128.0, 128.0, 128.0, 128.0, 128.0, 128.0, 128.0, 128.0, 128.0, 128.0, 128.0, 128.0, 128.0, 128.0, 128.0, 128.0, 128.0, 128.0, 128.0, 128.0, 128.0, 128.0, 128.0, 128.0, 128.0, 128.0, 128.0, 128.0, 128.0, 128.0, 128.0, 128.0, 128.0, 128.0, 128.0, 128.0, 128.0], Any[76.166, 77.61, 78.836, 79.848, 80.882, 81.89, 82.61, 83.454, 84.288, 84.956, 85.658, 86.376, 87.348, 88.29, 89.384, 90.46, 91.334, 92.566, 93.72, 94.62, 95.472, 96.218, 96.928, 97.726, 98.64, 99.574, 100.432, 101.526, 102.656, 103.896, 105.048, 106.184, 107.164, 107.964, 108.696, 109.42, 110.146, 110.824, 111.442, 112.03, 112.71, 113.468, 114.21, 114.782, 115.158, 115.416, 115.704, 116.058, 116.408, 116.786, 117.148, 117.454, 117.716, 117.914, 117.998, 118.012, 118.032, 118.062, 118.122, 118.224, 118.374, 118.604, 118.848, 118.974, 118.998, 119.0, 119.008, 119.016, 119.032, 119.068, 119.126, 119.242, 119.476, 119.838, 120.342, 120.766, 120.996, 121.074, 121.14, 121.252, 121.424, 121.652, 121.872, 121.982, 122.008, 122.016, 122.032, 122.064, 122.122, 122.234, 122.406, 122.636, 122.85, 122.958, 122.998, 123.0, 123.0, 123.0, 123.0, 122.996, 122.994, 123.0, 123.0, 123.0, 123.0, 123.0, 122.994, 123.0, 122.996, 122.992, 123.0, 123.0, 123.0, 123.0, 123.0, 122.99, 123.0, 122.992, 123.0, 123.0, 123.0, 123.0, 123.0, 123.0, 122.996, 123.008, 123.012, 123.024, 123.048, 123.09, 123.174, 123.314, 123.542, 123.78, 123.97, 124.064, 124.124, 124.246, 124.424, 124.67, 124.894, 125.042, 125.144, 125.31, 125.6, 125.982, 126.46, 126.826, 126.986, 127.036, 127.054, 127.134, 127.24, 127.428, 127.652, 127.87, 127.982, 128.0, 128.0, 128.0, 128.0, 128.0, 128.0, 128.0, 128.0, 127.986, 127.996, 128.0, 128.0, 128.0, 127.992, 128.0, 128.0, 128.0, 127.992, 127.992, 128.0, 127.996, 127.996, 127.986, 128.0, 127.994, 128.0, 128.0, 128.0, 128.0, 128.0, 128.0, 127.992, 127.992, 128.0, 128.0, 128.0, 128.0, 128.0], [156, 107, 74, 4, 163, 73, 147, 96, 178, 161, 66, 154, 51, 52, 162, 199, 20, 194, 108, 37], 138), (Any[86, 87, 89, 89, 92, 92, 92, 93, 93, 94, 94, 94, 94, 95, 95, 100, 100, 100, 100, 100, 100, 100, 100, 100, 100, 101, 101, 101, 101, 104, 104, 104, 104, 104, 106, 106, 107, 107, 108, 108, 109, 109, 110, 111, 112, 114, 114, 114, 114, 115, 115, 115, 116, 116, 116, 116, 116, 116, 116, 117, 117, 118, 118, 118, 118, 119, 119, 119, 119, 119, 119, 119, 119, 119, 119, 119, 119, 119, 120, 120, 120, 120, 120, 120, 120, 120, 120, 120, 120, 120, 120, 120, 120, 120, 120, 121, 121, 121, 121, 121, 121, 121, 121, 121, 121, 121, 121, 121, 121, 121, 121, 121, 121, 121, 122, 122, 122, 122, 122, 122, 122, 122, 122, 122, 122, 122, 122, 122, 122, 122, 122, 122, 123, 123, 123, 123, 123, 123, 124, 124, 124, 124, 124, 124, 124, 124, 124, 124, 124, 124, 124, 124, 124, 124, 124, 124, 124, 124, 124, 124, 124, 124, 124, 124, 124, 124, 124, 124, 125, 125, 125, 125, 125, 125, 125, 125, 125, 125, 125, 125, 125, 125, 125, 125, 125, 125, 125, 125, 125, 125, 125, 125, 125, 125, 125, 125, 125, 125, 125, 125, 125, 125, 125, 125, 125, 125, 125, 125, 125, 125, 125, 125, 125, 125, 125, 125, 125, 125], Any[76.0, 77.0, 79.0, 80.0, 81.0, 82.0, 82.0, 83.0, 84.0, 84.0, 85.0, 86.0, 86.0, 87.0, 87.0, 88.0, 88.0, 89.0, 89.0, 89.0, 90.0, 90.0, 91.0, 91.0, 92.0, 92.0, 93.0, 93.0, 93.0, 94.0, 95.0, 96.0, 96.0, 97.0, 98.0, 98.0, 99.0, 100.0, 100.0, 101.0, 101.5, 102.0, 103.0, 105.0, 106.0, 106.0, 108.0, 108.0, 109.0, 111.0, 111.0, 112.0, 113.0, 114.0, 114.0, 114.0, 115.0, 115.0, 115.0, 116.0, 116.0, 116.0, 116.0, 116.0, 116.0, 116.0, 117.0, 117.0, 118.0, 118.0, 118.0, 118.0, 119.0, 119.0, 119.0, 119.0, 119.0, 119.0, 119.0, 119.0, 119.0, 119.0, 119.0, 119.0, 119.0, 119.0, 120.0, 120.0, 120.0, 120.0, 120.0, 120.0, 120.0, 120.0, 120.0, 120.0, 120.0, 120.0, 120.0, 120.0, 120.0, 120.0, 120.0, 121.0, 121.0, 121.0, 121.0, 121.0, 121.0, 121.0, 121.0, 121.0, 121.0, 121.0, 121.0, 121.0, 121.0, 121.0, 121.0, 121.0, 121.0, 121.0, 122.0, 122.0, 122.0, 122.0, 122.0, 122.0, 122.0, 122.0, 122.0, 122.0, 122.0, 122.0, 122.0, 122.0, 122.0, 122.0, 122.0, 122.0, 123.0, 123.0, 123.0, 123.0, 123.0, 123.0, 123.0, 124.0, 124.0, 124.0, 124.0, 124.0, 124.0, 124.0, 124.0, 124.0, 124.0, 124.0, 124.0, 124.0, 124.0, 124.0, 124.0, 124.0, 124.0, 124.0, 124.0, 124.0, 124.0, 124.0, 124.0, 124.0, 124.0, 124.0, 124.0, 124.0, 125.0, 125.0, 125.0, 125.0, 125.0, 125.0, 125.0, 125.0, 125.0, 125.0, 125.0, 125.0, 125.0, 125.0, 125.0, 125.0, 125.0, 125.0, 125.0, 125.0, 125.0, 125.0, 125.0, 125.0, 125.0, 125.0, 125.0, 125.0, 125.0, 125.0, 125.0, 125.0, 125.0, 125.0, 125.0, 125.0, 125.0, 125.0, 125.0, 125.0, 125.0, 125.0], Any[75.936, 77.416, 78.846, 79.76, 80.61, 81.52, 82.3, 83.036, 83.818, 84.376, 84.754, 85.288, 85.836, 86.284, 86.746, 87.394, 87.762, 88.392, 88.648, 89.222, 89.484, 90.01, 90.302, 90.738, 91.106, 91.796, 92.204, 92.794, 93.362, 93.948, 94.554, 95.25, 95.892, 96.45, 97.122, 97.614, 98.57, 99.196, 99.748, 100.53, 101.372, 102.214, 103.358, 104.6, 105.788, 106.818, 107.784, 108.656, 109.572, 110.548, 111.488, 112.29, 112.97, 113.52, 113.984, 114.34, 114.636, 114.964, 115.274, 115.564, 115.834, 115.988, 116.054, 116.114, 116.222, 116.412, 116.732, 117.156, 117.556, 117.914, 118.14, 118.312, 118.54, 118.776, 118.94, 119.0, 119.0, 119.0, 119.002, 119.004, 119.006, 119.022, 119.05, 119.096, 119.186, 119.336, 119.54, 119.786, 119.948, 119.994, 120.0, 120.0, 120.0, 120.0, 120.0, 120.002, 120.008, 120.016, 120.032, 120.06, 120.11, 120.208, 120.348, 120.558, 120.796, 120.928, 120.988, 120.996, 120.994, 120.99, 120.988, 120.992, 120.996, 120.998, 120.998, 121.006, 121.014, 121.026, 121.05, 121.102, 121.192, 121.338, 121.556, 121.802, 121.948, 121.998, 122.0, 122.0, 122.0, 122.0, 121.994, 122.0, 122.004, 122.008, 122.016, 122.032, 122.054, 122.102, 122.188, 122.346, 122.56, 122.792, 122.97, 123.06, 123.116, 123.222, 123.396, 123.614, 123.842, 123.972, 123.994, 124.0, 124.0, 124.0, 123.996, 124.0, 124.0, 124.0, 124.0, 124.0, 124.0, 124.0, 124.0, 124.0, 124.0, 124.0, 124.0, 124.0, 123.996, 124.002, 124.014, 124.024, 124.046, 124.09, 124.17, 124.308, 124.526, 124.762, 124.934, 124.992, 125.0, 124.992, 125.0, 125.0, 125.0, 124.984, 125.0, 125.0, 125.0, 125.0, 125.0, 124.992, 125.0, 125.0, 125.0, 125.0, 125.0, 124.99, 125.0, 125.0, 125.0, 125.0, 124.996, 125.0, 125.0, 125.0, 125.0, 125.0, 125.0, 124.996, 125.0, 125.0, 125.0, 124.992, 124.996, 124.994, 124.996, 125.0], [75, 167, 25, 195, 88, 84, 169, 113, 59, 4, 192, 72, 172, 33, 119, 193, 193, 124, 172, 147], 133)]Precision:\t0.1\n",
      "135.7\n"
     ]
    },
    {
     "data": {
      "text/plain": [
       "10-element Array{Any,1}:\n",
       " 140\n",
       " 136\n",
       " 136\n",
       " 137\n",
       " 137\n",
       " 138\n",
       " 135\n",
       " 127\n",
       " 138\n",
       " 133"
      ]
     },
     "execution_count": 42,
     "metadata": {},
     "output_type": "execute_result"
    }
   ],
   "source": [
    "hard_noisy_sequences = []\n",
    "open(\"Final Generated Fasta Files/Hard Noisy AGCATCAGTT-183,169,3,84,162,31,110,200,177,123,163,74,85,113,32,81,120,112,46,36,.fasta\") do file\n",
    "    i = 0\n",
    "    for ln in eachline(file)\n",
    "        i += 1 \n",
    "        if i % 2 == 0\n",
    "            push!(hard_noisy_sequences, strip(ln))\n",
    "        end\n",
    "    end\n",
    "end\n",
    "BAYESIAN_SCORING = false\n",
    "\n",
    "results = []\n",
    "scores = []\n",
    "times = []\n",
    "for i in 1:10\n",
    "    (result, t) = @timed GAME(hard_noisy_sequences,0.001,3000, 500, 10)\n",
    "    push!(times, t)\n",
    "    push!(results, result)\n",
    "    push!(scores, result[5])\n",
    "end\n",
    "results\n",
    "\n",
    "print(results)\n",
    "\n",
    "precision = precisionGetter(results, \"AGCATCAGTT\", 10, hard_noisy_sequences)\n",
    "println(\"Precision:\\t\", precision)\n",
    "\n",
    "println(Statistics.mean(scores))\n",
    "scores"
   ]
  },
  {
   "cell_type": "code",
   "execution_count": 43,
   "metadata": {},
   "outputs": [
    {
     "name": "stdout",
     "output_type": "stream",
     "text": [
      "Any[\"GCGCACCCGA\", \"CCGCACTATA\", \"CCTGACCAGG\", \"ACTCACCAGG\", \"TCGCCCTCGA\", \"CCACACTATA\", \"TCGCAACAGA\", \"CCGAACTAGT\", \"GCCCAACTGA\", \"CCGCCTCACG\", \"ACGTGGCAGA\", \"CTGGACCAGC\", \"GAGCATCAGA\", \"ACGTACCAGA\", \"CCGGCCCAGC\", \"CATGACCTGA\", \"CCGCAGCAGT\", \"CCTTACTAGA\", \"CGGCACGTGA\", \"CCGAACCATT\"]\n",
      "CCGCACCAGA\n"
     ]
    }
   ],
   "source": [
    "testProfile = GenerateMotifStrings([39, 79, 38, 48, 104, 88, 31, 146, 18, 38, 187, 195, 133, 184, 80, 83, 119, 157, 179, 24], 10, hard_noisy_sequences)\n",
    "println(testProfile)\n",
    "testConsensus = ConsensusString(testProfile)\n",
    "println(testConsensus)"
   ]
  },
  {
   "cell_type": "code",
   "execution_count": 44,
   "metadata": {},
   "outputs": [
    {
     "data": {
      "text/plain": [
       "5.557933976399999"
      ]
     },
     "execution_count": 44,
     "metadata": {},
     "output_type": "execute_result"
    }
   ],
   "source": [
    "Statistics.mean(times)"
   ]
  },
  {
   "cell_type": "markdown",
   "metadata": {},
   "source": [
    "Tests for Graphs"
   ]
  },
  {
   "cell_type": "markdown",
   "metadata": {},
   "source": [
    "1) Easy Challenge Mutation vs Score"
   ]
  },
  {
   "cell_type": "code",
   "execution_count": 45,
   "metadata": {},
   "outputs": [
    {
     "name": "stdout",
     "output_type": "stream",
     "text": [
      "Any[\"GTGCTCCGGCAGTGGTGCTTAGTATCATCGTGAGGGATAAAAATAAAAGCGGATGTGCAACCCAGTAGGC\", \"CCTACAAGCTTTTTGTGGACCCAGTGATCGTTATTGACAGGATATCGCTGGATAAAAATAAAAGCGGATA\", \"TGTCTGCTGCACGGCAGGATAAAAATAAAAGCGGATTCCTTGTATATCTCGTGTAAATACGGACTGGGAG\", \"TGGATAAAAATAAAAGCGGATTTTGCCGCTTTGAGCCTCGTTACTGTGCGAGTAGATTCAACCCATTATC\", \"TCCGGTTGCACTTGCAAAATCTCGGCGCGAATTGAGTATAGGATAAAAATAAAAGCGGATCCTCACCCGC\", \"CACCCTTGGATTCAAAGAGAGGCTTGGGAAATTATATTTGCATCAGGATAAAAATAAAAGCGGATCTCGT\", \"GTAAGAACCATAATTTACCACGTCATTTTGCATGAGACACCATTAGTGGGATAAAAATAAAAGCGGATGT\", \"ATAAGCCCGGTTTTAAGTCGCCGAGGATAAAAATAAAAGCGGATTAGCCCAGCAAACTTTTCGAACTATG\", \"CACGCGCCCGCGGGGATAAAAATAAAAGCGGATATCAGTGTTCAATTGGCTTACGCTGTAGGCATAGACG\", \"CCGTGGGATAAAAATAAAAGCGGATGATATGTAACTAAACAAACGCACGTCGTGATCTCTCGTTGTGCAT\", \"TTAGCTGTAGGAAAATAGCACGGATAAAAATAAAAGCGGATTTAGTACTAAACTCCGGCCTCATTATGTA\", \"GCTGTGACGGGACGATACGCATCCAAAGGAACGTCGGTGGATAAAAATAAAAGCGGATAAAGGAAATTGC\", \"TCCCGGATAAAAATAAAAGCGGATAGCGTGCCCCAGAGGAGCGTGTCTGGGCCGTTGGCCTCATATGAGC\", \"GTGCATTAGGATAAAAATAAAAGCGGATGAAAAATACCCACGTCCGCTGCTTATAACCGGGCGCACCTCC\", \"GGGCCGCCGACACTGTGCGTGCGTCGTAGGGGTGCTTGGATAAAAATAAAAGCGGATGAACTGGTAGTAA\", \"GCTTGCCGGATAAAAATAAAAGCGGATCGACCTACGCACTAGGGTGTAGACGCTCGAAGTCTACCGCTAT\", \"CGATGGGATAAAAATAAAAGCGGATCAACGCGACTACTAACTATTTTCTCATATGTTGGCGTGTGAACCC\", \"CCTGGAAATTGTACTGGGATAAAAATAAAAGCGGATGACGAGATAGAAACATTATCTCAATCTAAAACTA\", \"CGTGGGAGGATAAAAATAAAAGCGGATTACACTCCGTGGTTGGAATCGCGCGCAGAGCCCCGATCCCTAC\", \"AAAGGGATAAAAATAAAAGCGGATGGAATTAGAAGACTCGTTTTTACTCGCGATACCAGGGAAACCGACT\"]\n",
      "Aopt1\n",
      " 12.094405 seconds (89.62 M allocations: 8.149 GiB, 9.73% gc time)\n"
     ]
    },
    {
     "name": "stderr",
     "output_type": "stream",
     "text": [
      "┌ Info: Genetic screen finished...\n",
      "└ @ Main In[14]:63\n",
      "┌ Info: (\"Aopt_motif\", Any[34, 49, 16, 1, 40, 45, 48, 24, 13, 5, 21, 38, 4, 8, 37, 7, 5, 16, 7, 4])\n",
      "└ @ Main In[14]:64\n"
     ]
    },
    {
     "name": "stdout",
     "output_type": "stream",
     "text": [
      "Aopt457\n",
      " 12.663863 seconds (90.86 M allocations: 8.261 GiB, 9.43% gc time)\n"
     ]
    },
    {
     "name": "stderr",
     "output_type": "stream",
     "text": [
      "┌ Info: Genetic screen finished...\n",
      "└ @ Main In[14]:63\n",
      "┌ Info: (\"Aopt_motif\", Any[34, 49, 16, 1, 40, 45, 48, 24, 13, 5, 21, 38, 4, 8, 37, 7, 5, 16, 7, 4])\n",
      "└ @ Main In[14]:64\n"
     ]
    },
    {
     "name": "stdout",
     "output_type": "stream",
     "text": [
      "Aopt154\n",
      "137.330742 seconds (929.79 M allocations: 84.525 GiB, 8.93% gc time)\n"
     ]
    },
    {
     "name": "stderr",
     "output_type": "stream",
     "text": [
      "┌ Info: Genetic screen finished...\n",
      "└ @ Main In[14]:63\n",
      "┌ Info: (\"Aopt_motif\", Any[34, 30, 36, 7, 40, 45, 48, 24, 13, 5, 21, 23, 4, 25, 33, 7, 5, 3, 7, 4])\n",
      "└ @ Main In[14]:64\n"
     ]
    },
    {
     "name": "stdout",
     "output_type": "stream",
     "text": [
      "Aopt254\n",
      "140.213203 seconds (929.79 M allocations: 84.525 GiB, 8.77% gc time)\n"
     ]
    },
    {
     "name": "stderr",
     "output_type": "stream",
     "text": [
      "┌ Info: Genetic screen finished...\n",
      "└ @ Main In[14]:63\n",
      "┌ Info: (\"Aopt_motif\", Any[10, 49, 21, 20, 22, 45, 27, 24, 13, 25, 39, 39, 26, 8, 43, 1, 5, 16, 15, 4])\n",
      "└ @ Main In[14]:64\n"
     ]
    },
    {
     "name": "stdout",
     "output_type": "stream",
     "text": [
      "Aopt1\n",
      "141.048270 seconds (929.79 M allocations: 84.525 GiB, 8.73% gc time)\n"
     ]
    },
    {
     "name": "stderr",
     "output_type": "stream",
     "text": [
      "┌ Info: Genetic screen finished...\n",
      "└ @ Main In[14]:63\n",
      "┌ Info: (\"Aopt_motif\", Any[42, 51, 17, 43, 14, 45, 21, 20, 7, 11, 28, 32, 7, 2, 37, 7, 35, 19, 7, 25])\n",
      "└ @ Main In[14]:64\n"
     ]
    },
    {
     "name": "stdout",
     "output_type": "stream",
     "text": [
      "Aopt235\n",
      "141.790177 seconds (929.79 M allocations: 84.525 GiB, 8.69% gc time)\n"
     ]
    },
    {
     "name": "stderr",
     "output_type": "stream",
     "text": [
      "┌ Info: Genetic screen finished...\n",
      "└ @ Main In[14]:63\n",
      "┌ Info: (\"Aopt_motif\", Any[36, 33, 20, 28, 39, 43, 49, 23, 17, 30, 1, 39, 5, 9, 10, 8, 44, 39, 4, 46])\n",
      "└ @ Main In[14]:64\n"
     ]
    },
    {
     "name": "stdout",
     "output_type": "stream",
     "text": [
      "Aopt443\n",
      "142.381888 seconds (929.98 M allocations: 84.544 GiB, 8.67% gc time)\n"
     ]
    },
    {
     "name": "stderr",
     "output_type": "stream",
     "text": [
      "┌ Info: Genetic screen finished...\n",
      "└ @ Main In[14]:63\n",
      "┌ Info: (\"Aopt_motif\", Any[38, 47, 14, 7, 16, 1, 41, 51, 17, 19, 22, 45, 7, 5, 51, 11, 34, 19, 11, 18])\n",
      "└ @ Main In[14]:64\n"
     ]
    },
    {
     "name": "stdout",
     "output_type": "stream",
     "text": [
      "Aopt261\n",
      "142.759423 seconds (929.79 M allocations: 84.525 GiB, 8.64% gc time)\n"
     ]
    },
    {
     "name": "stderr",
     "output_type": "stream",
     "text": [
      "┌ Info: Genetic screen finished...\n",
      "└ @ Main In[14]:63\n",
      "┌ Info: (\"Aopt_motif\", Any[45, 51, 16, 47, 40, 17, 44, 25, 18, 8, 28, 2, 2, 8, 42, 42, 14, 16, 48, 48])\n",
      "└ @ Main In[14]:64\n"
     ]
    },
    {
     "name": "stdout",
     "output_type": "stream",
     "text": [
      "Aopt113\n",
      "143.141653 seconds (929.79 M allocations: 84.525 GiB, 8.63% gc time)\n"
     ]
    },
    {
     "name": "stderr",
     "output_type": "stream",
     "text": [
      "┌ Info: Genetic screen finished...\n",
      "└ @ Main In[14]:63\n",
      "┌ Info: (\"Aopt_motif\", Any[40, 12, 20, 48, 28, 49, 48, 25, 3, 20, 1, 38, 8, 7, 37, 4, 31, 12, 25, 5])\n",
      "└ @ Main In[14]:64\n"
     ]
    },
    {
     "name": "stdout",
     "output_type": "stream",
     "text": [
      "Aopt86\n",
      "143.445690 seconds (929.79 M allocations: 84.525 GiB, 8.62% gc time)\n"
     ]
    },
    {
     "name": "stderr",
     "output_type": "stream",
     "text": [
      "┌ Info: Genetic screen finished...\n",
      "└ @ Main In[14]:63\n",
      "┌ Info: (\"Aopt_motif\", Any[46, 13, 49, 2, 9, 5, 28, 23, 12, 33, 24, 45, 1, 17, 43, 39, 6, 2, 4, 5])\n",
      "└ @ Main In[14]:64\n"
     ]
    },
    {
     "name": "stdout",
     "output_type": "stream",
     "text": [
      "Aopt111\n",
      "143.682528 seconds (929.79 M allocations: 84.525 GiB, 8.61% gc time)\n"
     ]
    },
    {
     "name": "stderr",
     "output_type": "stream",
     "text": [
      "┌ Info: Genetic screen finished...\n",
      "└ @ Main In[14]:63\n",
      "┌ Info: (\"Aopt_motif\", Any[30, 49, 16, 36, 7, 43, 27, 23, 13, 34, 5, 39, 24, 13, 35, 34, 9, 15, 7, 5])\n",
      "└ @ Main In[14]:64\n"
     ]
    },
    {
     "name": "stdout",
     "output_type": "stream",
     "text": [
      "Aopt193\n",
      "143.906046 seconds (929.79 M allocations: 84.525 GiB, 8.61% gc time)\n"
     ]
    },
    {
     "name": "stderr",
     "output_type": "stream",
     "text": [
      "┌ Info: Genetic screen finished...\n",
      "└ @ Main In[14]:63\n",
      "┌ Info: (\"Aopt_motif\", Any[34, 20, 3, 5, 10, 30, 9, 26, 15, 5, 19, 45, 3, 9, 3, 9, 37, 18, 11, 22])\n",
      "└ @ Main In[14]:64\n"
     ]
    },
    {
     "name": "stdout",
     "output_type": "stream",
     "text": [
      "Aopt471\n",
      "144.097017 seconds (929.79 M allocations: 84.525 GiB, 8.61% gc time)\n"
     ]
    },
    {
     "name": "stderr",
     "output_type": "stream",
     "text": [
      "┌ Info: Genetic screen finished...\n",
      "└ @ Main In[14]:63\n",
      "┌ Info: (\"Aopt_motif\", Any[17, 48, 2, 2, 38, 40, 43, 31, 22, 14, 23, 19, 45, 4, 32, 1, 14, 49, 19, 6])\n",
      "└ @ Main In[14]:64\n"
     ]
    },
    {
     "name": "stdout",
     "output_type": "stream",
     "text": [
      "Aopt164\n",
      "144.273855 seconds (929.98 M allocations: 84.544 GiB, 8.60% gc time)\n"
     ]
    },
    {
     "name": "stderr",
     "output_type": "stream",
     "text": [
      "┌ Info: Genetic screen finished...\n",
      "└ @ Main In[14]:63\n",
      "┌ Info: (\"Aopt_motif\", Any[28, 27, 13, 15, 4, 25, 12, 29, 9, 8, 21, 51, 6, 45, 43, 42, 28, 18, 7, 3])\n",
      "└ @ Main In[14]:64\n"
     ]
    },
    {
     "name": "stdout",
     "output_type": "stream",
     "text": [
      "Aopt64\n",
      "144.444287 seconds (929.98 M allocations: 84.544 GiB, 8.60% gc time)\n"
     ]
    },
    {
     "name": "stderr",
     "output_type": "stream",
     "text": [
      "┌ Info: Genetic screen finished...\n",
      "└ @ Main In[14]:63\n",
      "┌ Info: (\"Aopt_motif\", Any[42, 34, 20, 45, 9, 21, 2, 26, 7, 34, 9, 44, 44, 31, 41, 4, 7, 43, 11, 16])\n",
      "└ @ Main In[14]:64\n"
     ]
    },
    {
     "name": "stdout",
     "output_type": "stream",
     "text": [
      "Aopt27\n",
      "144.536720 seconds (929.79 M allocations: 84.525 GiB, 8.60% gc time)\n"
     ]
    },
    {
     "name": "stderr",
     "output_type": "stream",
     "text": [
      "┌ Info: Genetic screen finished...\n",
      "└ @ Main In[14]:63\n",
      "┌ Info: (\"Aopt_motif\", Any[40, 47, 15, 1, 36, 44, 3, 48, 6, 36, 32, 7, 7, 46, 31, 11, 13, 32, 7, 44])\n",
      "└ @ Main In[14]:64\n"
     ]
    },
    {
     "name": "stdout",
     "output_type": "stream",
     "text": [
      "Aopt253\n",
      "144.718833 seconds (929.79 M allocations: 84.525 GiB, 8.61% gc time)\n"
     ]
    },
    {
     "name": "stderr",
     "output_type": "stream",
     "text": [
      "┌ Info: Genetic screen finished...\n",
      "└ @ Main In[14]:63\n",
      "┌ Info: (\"Aopt_motif\", Any[41, 49, 19, 1, 31, 11, 9, 15, 14, 15, 7, 38, 10, 5, 45, 15, 3, 24, 30, 51])\n",
      "└ @ Main In[14]:64\n"
     ]
    },
    {
     "name": "stdout",
     "output_type": "stream",
     "text": [
      "Aopt69\n",
      "144.822599 seconds (929.98 M allocations: 84.544 GiB, 8.60% gc time)\n"
     ]
    },
    {
     "name": "stderr",
     "output_type": "stream",
     "text": [
      "┌ Info: Genetic screen finished...\n",
      "└ @ Main In[14]:63\n",
      "┌ Info: (\"Aopt_motif\", Any[33, 47, 20, 47, 24, 9, 41, 4, 33, 7, 22, 19, 49, 4, 34, 18, 4, 14, 5, 1])\n",
      "└ @ Main In[14]:64\n"
     ]
    },
    {
     "name": "stdout",
     "output_type": "stream",
     "text": [
      "Aopt5\n",
      "144.985833 seconds (929.98 M allocations: 84.544 GiB, 8.61% gc time)\n"
     ]
    },
    {
     "name": "stderr",
     "output_type": "stream",
     "text": [
      "┌ Info: Genetic screen finished...\n",
      "└ @ Main In[14]:63\n",
      "┌ Info: (\"Aopt_motif\", Any[33, 9, 18, 26, 37, 44, 46, 18, 30, 3, 20, 15, 9, 11, 37, 10, 17, 41, 18, 9])\n",
      "└ @ Main In[14]:64\n"
     ]
    },
    {
     "name": "stdout",
     "output_type": "stream",
     "text": [
      "Aopt377\n",
      "145.104856 seconds (929.79 M allocations: 84.525 GiB, 8.62% gc time)\n"
     ]
    },
    {
     "name": "stderr",
     "output_type": "stream",
     "text": [
      "┌ Info: Genetic screen finished...\n",
      "└ @ Main In[14]:63\n",
      "┌ Info: (\"Aopt_motif\", Any[1, 32, 51, 1, 39, 44, 3, 30, 12, 29, 4, 44, 6, 45, 1, 7, 33, 19, 8, 24])\n",
      "└ @ Main In[14]:64\n"
     ]
    },
    {
     "data": {
      "text/plain": [
       "20-element Array{Any,1}:\n",
       " (0.001, 400)               \n",
       " (0.051000000000000004, 400)\n",
       " (0.101, 400)               \n",
       " (0.15100000000000002, 400) \n",
       " (0.201, 400)               \n",
       " (0.251, 400)               \n",
       " (0.301, 375)               \n",
       " (0.351, 400)               \n",
       " (0.40099999999999997, 400) \n",
       " (0.45099999999999996, 400) \n",
       " (0.501, 400)               \n",
       " (0.551, 400)               \n",
       " (0.6010000000000001, 400)  \n",
       " (0.6510000000000001, 400)  \n",
       " (0.7010000000000002, 374)  \n",
       " (0.7510000000000002, 400)  \n",
       " (0.8010000000000003, 400)  \n",
       " (0.8510000000000003, 388)  \n",
       " (0.9010000000000004, 390)  \n",
       " (0.9510000000000004, 390)  "
      ]
     },
     "execution_count": 45,
     "metadata": {},
     "output_type": "execute_result"
    }
   ],
   "source": [
    "println(easy_sequences)\n",
    "step = 0.05\n",
    "mutrate_score = []\n",
    "r = 0.001\n",
    "while r < 1\n",
    "    result = @time GAME(easy_sequences,r,3000, 500, 20)\n",
    "    push!(mutrate_score, (r, result[5]))\n",
    "    r += step\n",
    "end\n",
    "mutrate_score"
   ]
  },
  {
   "cell_type": "code",
   "execution_count": 5,
   "metadata": {},
   "outputs": [
    {
     "ename": "LoadError",
     "evalue": "syntax: extra token \")\" after end of expression",
     "output_type": "error",
     "traceback": [
      "syntax: extra token \")\" after end of expression",
      ""
     ]
    }
   ],
   "source": [
    "2) Hard Challenge Mutation vs Score"
   ]
  },
  {
   "cell_type": "code",
   "execution_count": 53,
   "metadata": {},
   "outputs": [
    {
     "name": "stderr",
     "output_type": "stream",
     "text": [
      "┌ Info: Genetic screen finished...\n",
      "└ @ Main In[14]:63\n",
      "┌ Info: (\"Aopt_motif\", Any[93, 158, 133, 35, 199, 106, 187, 155, 121, 46, 94, 85, 17, 175, 155, 78, 163, 32, 154, 84])\n",
      "└ @ Main In[14]:64\n"
     ]
    },
    {
     "name": "stdout",
     "output_type": "stream",
     "text": [
      "Aopt1\n",
      "  8.156892 seconds (63.54 M allocations: 5.136 GiB, 10.41% gc time)\n"
     ]
    },
    {
     "name": "stderr",
     "output_type": "stream",
     "text": [
      "┌ Info: Genetic screen finished...\n",
      "└ @ Main In[14]:63\n",
      "┌ Info: (\"Aopt_motif\", Any[191, 190, 185, 23, 141, 134, 128, 83, 28, 57, 90, 87, 196, 152, 53, 104, 68, 105, 19, 145])\n",
      "└ @ Main In[14]:64\n"
     ]
    },
    {
     "name": "stdout",
     "output_type": "stream",
     "text": [
      "Aopt1\n",
      "  5.419540 seconds (40.94 M allocations: 3.309 GiB, 10.09% gc time)\n"
     ]
    },
    {
     "name": "stderr",
     "output_type": "stream",
     "text": [
      "┌ Info: Genetic screen finished...\n",
      "└ @ Main In[14]:63\n",
      "┌ Info: (\"Aopt_motif\", Any[99, 145, 115, 116, 162, 1, 38, 39, 29, 19, 49, 30, 66, 35, 112, 56, 18, 114, 101, 91])\n",
      "└ @ Main In[14]:64\n"
     ]
    },
    {
     "name": "stdout",
     "output_type": "stream",
     "text": [
      "Aopt235\n",
      " 80.425715 seconds (615.39 M allocations: 49.702 GiB, 10.22% gc time)\n"
     ]
    },
    {
     "name": "stderr",
     "output_type": "stream",
     "text": [
      "┌ Info: Genetic screen finished...\n",
      "└ @ Main In[14]:63\n",
      "┌ Info: (\"Aopt_motif\", Any[92, 156, 73, 19, 120, 122, 31, 154, 34, 127, 86, 182, 1, 18, 101, 16, 167, 43, 7, 160])\n",
      "└ @ Main In[14]:64\n"
     ]
    },
    {
     "name": "stdout",
     "output_type": "stream",
     "text": [
      "Aopt82\n",
      " 79.589935 seconds (615.39 M allocations: 49.702 GiB, 10.32% gc time)\n"
     ]
    },
    {
     "name": "stderr",
     "output_type": "stream",
     "text": [
      "┌ Info: Genetic screen finished...\n",
      "└ @ Main In[14]:63\n",
      "┌ Info: (\"Aopt_motif\", Any[94, 158, 75, 21, 64, 110, 190, 156, 122, 129, 160, 85, 56, 20, 103, 115, 166, 45, 9, 162])\n",
      "└ @ Main In[14]:64\n"
     ]
    },
    {
     "name": "stdout",
     "output_type": "stream",
     "text": [
      "Aopt13\n",
      " 79.553161 seconds (615.39 M allocations: 49.702 GiB, 10.34% gc time)\n"
     ]
    },
    {
     "name": "stderr",
     "output_type": "stream",
     "text": [
      "┌ Info: Genetic screen finished...\n",
      "└ @ Main In[14]:63\n",
      "┌ Info: (\"Aopt_motif\", Any[81, 159, 76, 22, 123, 125, 34, 157, 123, 13, 19, 86, 185, 78, 175, 19, 196, 46, 10, 72])\n",
      "└ @ Main In[14]:64\n"
     ]
    },
    {
     "name": "stdout",
     "output_type": "stream",
     "text": [
      "Aopt111\n",
      " 80.558986 seconds (615.39 M allocations: 49.702 GiB, 10.19% gc time)\n"
     ]
    },
    {
     "name": "stderr",
     "output_type": "stream",
     "text": [
      "┌ Info: Genetic screen finished...\n",
      "└ @ Main In[14]:63\n",
      "┌ Info: (\"Aopt_motif\", Any[183, 178, 55, 24, 5, 172, 68, 79, 65, 79, 72, 161, 148, 198, 35, 155, 71, 53, 172, 111])\n",
      "└ @ Main In[14]:64\n"
     ]
    },
    {
     "name": "stdout",
     "output_type": "stream",
     "text": [
      "Aopt141\n",
      " 82.300298 seconds (615.87 M allocations: 49.744 GiB, 10.00% gc time)\n"
     ]
    },
    {
     "name": "stderr",
     "output_type": "stream",
     "text": [
      "┌ Info: Genetic screen finished...\n",
      "└ @ Main In[14]:63\n",
      "┌ Info: (\"Aopt_motif\", Any[55, 116, 20, 142, 12, 81, 141, 54, 136, 172, 199, 85, 15, 123, 61, 171, 158, 41, 159, 112])\n",
      "└ @ Main In[14]:64\n"
     ]
    },
    {
     "name": "stdout",
     "output_type": "stream",
     "text": [
      "Aopt174\n",
      " 82.414422 seconds (615.39 M allocations: 49.702 GiB, 9.98% gc time)\n"
     ]
    },
    {
     "name": "stderr",
     "output_type": "stream",
     "text": [
      "┌ Info: Genetic screen finished...\n",
      "└ @ Main In[14]:63\n",
      "┌ Info: (\"Aopt_motif\", Any[98, 18, 173, 94, 89, 121, 73, 75, 17, 32, 178, 162, 158, 51, 161, 84, 96, 99, 182, 132])\n",
      "└ @ Main In[14]:64\n"
     ]
    },
    {
     "name": "stdout",
     "output_type": "stream",
     "text": [
      "Aopt171\n",
      " 82.582379 seconds (615.87 M allocations: 49.744 GiB, 9.95% gc time)\n"
     ]
    },
    {
     "name": "stderr",
     "output_type": "stream",
     "text": [
      "┌ Info: Genetic screen finished...\n",
      "└ @ Main In[14]:63\n",
      "┌ Info: (\"Aopt_motif\", Any[45, 1, 169, 175, 32, 81, 12, 137, 157, 43, 201, 166, 189, 198, 83, 61, 84, 185, 21, 179])\n",
      "└ @ Main In[14]:64\n"
     ]
    },
    {
     "name": "stdout",
     "output_type": "stream",
     "text": [
      "Aopt44\n",
      " 82.594029 seconds (615.39 M allocations: 49.703 GiB, 9.95% gc time)\n"
     ]
    },
    {
     "name": "stderr",
     "output_type": "stream",
     "text": [
      "┌ Info: Genetic screen finished...\n",
      "└ @ Main In[14]:63\n",
      "┌ Info: (\"Aopt_motif\", Any[186, 119, 50, 70, 121, 73, 110, 68, 86, 144, 12, 39, 160, 129, 200, 191, 139, 76, 193, 108])\n",
      "└ @ Main In[14]:64\n"
     ]
    },
    {
     "name": "stdout",
     "output_type": "stream",
     "text": [
      "Aopt203\n",
      " 82.772096 seconds (615.87 M allocations: 49.744 GiB, 9.95% gc time)\n"
     ]
    },
    {
     "name": "stderr",
     "output_type": "stream",
     "text": [
      "┌ Info: Genetic screen finished...\n",
      "└ @ Main In[14]:63\n",
      "┌ Info: (\"Aopt_motif\", Any[154, 57, 123, 33, 190, 137, 188, 62, 180, 145, 107, 92, 153, 62, 49, 85, 58, 63, 92, 23])\n",
      "└ @ Main In[14]:64\n"
     ]
    },
    {
     "name": "stdout",
     "output_type": "stream",
     "text": [
      "Aopt280\n",
      " 82.838945 seconds (615.87 M allocations: 49.744 GiB, 9.93% gc time)\n"
     ]
    },
    {
     "name": "stderr",
     "output_type": "stream",
     "text": [
      "┌ Info: Genetic screen finished...\n",
      "└ @ Main In[14]:63\n",
      "┌ Info: (\"Aopt_motif\", Any[104, 178, 167, 77, 166, 153, 91, 7, 99, 114, 135, 34, 105, 14, 48, 128, 14, 185, 87, 104])\n",
      "└ @ Main In[14]:64\n"
     ]
    },
    {
     "name": "stdout",
     "output_type": "stream",
     "text": [
      "Aopt356\n",
      " 82.892669 seconds (615.87 M allocations: 49.744 GiB, 9.93% gc time)\n"
     ]
    },
    {
     "name": "stderr",
     "output_type": "stream",
     "text": [
      "┌ Info: Genetic screen finished...\n",
      "└ @ Main In[14]:63\n",
      "┌ Info: (\"Aopt_motif\", Any[5, 160, 74, 10, 29, 139, 194, 190, 183, 11, 82, 46, 45, 62, 181, 133, 137, 177, 140, 187])\n",
      "└ @ Main In[14]:64\n"
     ]
    },
    {
     "name": "stdout",
     "output_type": "stream",
     "text": [
      "Aopt458\n",
      " 82.938853 seconds (615.39 M allocations: 49.702 GiB, 9.92% gc time)\n"
     ]
    },
    {
     "name": "stderr",
     "output_type": "stream",
     "text": [
      "┌ Info: Genetic screen finished...\n",
      "└ @ Main In[14]:63\n",
      "┌ Info: (\"Aopt_motif\", Any[61, 94, 4, 13, 25, 131, 71, 101, 89, 31, 130, 90, 27, 198, 169, 144, 141, 6, 97, 29])\n",
      "└ @ Main In[14]:64\n"
     ]
    },
    {
     "name": "stdout",
     "output_type": "stream",
     "text": [
      "Aopt7\n",
      " 82.982830 seconds (615.39 M allocations: 49.702 GiB, 9.92% gc time)\n"
     ]
    },
    {
     "name": "stderr",
     "output_type": "stream",
     "text": [
      "┌ Info: Genetic screen finished...\n",
      "└ @ Main In[14]:63\n",
      "┌ Info: (\"Aopt_motif\", Any[156, 19, 60, 86, 151, 81, 29, 179, 173, 138, 132, 110, 188, 96, 140, 114, 147, 30, 82, 73])\n",
      "└ @ Main In[14]:64\n"
     ]
    },
    {
     "name": "stdout",
     "output_type": "stream",
     "text": [
      "Aopt166\n",
      " 83.078697 seconds (615.87 M allocations: 49.744 GiB, 9.90% gc time)\n"
     ]
    },
    {
     "name": "stderr",
     "output_type": "stream",
     "text": [
      "┌ Info: Genetic screen finished...\n",
      "└ @ Main In[14]:63\n",
      "┌ Info: (\"Aopt_motif\", Any[200, 173, 186, 100, 107, 180, 200, 154, 21, 74, 177, 161, 34, 148, 52, 79, 21, 46, 161, 87])\n",
      "└ @ Main In[14]:64\n"
     ]
    },
    {
     "name": "stdout",
     "output_type": "stream",
     "text": [
      "Aopt136\n",
      " 83.176560 seconds (615.87 M allocations: 49.744 GiB, 9.90% gc time)\n"
     ]
    },
    {
     "name": "stderr",
     "output_type": "stream",
     "text": [
      "┌ Info: Genetic screen finished...\n",
      "└ @ Main In[14]:63\n",
      "┌ Info: (\"Aopt_motif\", Any[49, 102, 70, 128, 172, 178, 130, 125, 170, 112, 175, 162, 149, 154, 70, 171, 54, 133, 144, 109])\n",
      "└ @ Main In[14]:64\n"
     ]
    },
    {
     "name": "stdout",
     "output_type": "stream",
     "text": [
      "Aopt299\n",
      " 83.178457 seconds (615.39 M allocations: 49.702 GiB, 9.90% gc time)\n"
     ]
    },
    {
     "name": "stderr",
     "output_type": "stream",
     "text": [
      "┌ Info: Genetic screen finished...\n",
      "└ @ Main In[14]:63\n",
      "┌ Info: (\"Aopt_motif\", Any[158, 16, 33, 124, 184, 134, 189, 91, 5, 20, 147, 102, 44, 193, 72, 146, 46, 196, 25, 133])\n",
      "└ @ Main In[14]:64\n"
     ]
    },
    {
     "name": "stdout",
     "output_type": "stream",
     "text": [
      "Aopt272\n",
      " 83.216753 seconds (615.39 M allocations: 49.702 GiB, 9.88% gc time)\n"
     ]
    },
    {
     "name": "stderr",
     "output_type": "stream",
     "text": [
      "┌ Info: Genetic screen finished...\n",
      "└ @ Main In[14]:63\n",
      "┌ Info: (\"Aopt_motif\", Any[199, 6, 184, 113, 109, 79, 183, 46, 131, 84, 104, 140, 34, 141, 23, 155, 92, 26, 179, 171])\n",
      "└ @ Main In[14]:64\n"
     ]
    },
    {
     "name": "stdout",
     "output_type": "stream",
     "text": [
      "Aopt184\n",
      " 83.251041 seconds (615.39 M allocations: 49.702 GiB, 9.89% gc time)\n"
     ]
    },
    {
     "name": "stderr",
     "output_type": "stream",
     "text": [
      "┌ Info: Genetic screen finished...\n",
      "└ @ Main In[14]:63\n",
      "┌ Info: (\"Aopt_motif\", Any[39, 33, 48, 17, 86, 139, 141, 176, 145, 135, 151, 85, 61, 155, 45, 7, 134, 115, 95, 196])\n",
      "└ @ Main In[14]:64\n"
     ]
    },
    {
     "name": "stdout",
     "output_type": "stream",
     "text": [
      "Aopt137\n",
      " 83.342271 seconds (615.39 M allocations: 49.703 GiB, 9.88% gc time)\n"
     ]
    },
    {
     "name": "stderr",
     "output_type": "stream",
     "text": [
      "┌ Info: Genetic screen finished...\n",
      "└ @ Main In[14]:63\n",
      "┌ Info: (\"Aopt_motif\", Any[131, 20, 55, 107, 30, 47, 66, 46, 137, 196, 22, 165, 1, 127, 117, 4, 156, 178, 39, 118])\n",
      "└ @ Main In[14]:64\n"
     ]
    },
    {
     "name": "stdout",
     "output_type": "stream",
     "text": [
      "Aopt264\n",
      " 83.438079 seconds (615.87 M allocations: 49.744 GiB, 9.87% gc time)\n"
     ]
    },
    {
     "name": "stderr",
     "output_type": "stream",
     "text": [
      "┌ Info: Genetic screen finished...\n",
      "└ @ Main In[14]:63\n",
      "┌ Info: (\"Aopt_motif\", Any[89, 14, 143, 12, 117, 172, 89, 96, 48, 173, 201, 60, 189, 185, 72, 22, 25, 121, 53, 194])\n",
      "└ @ Main In[14]:64\n"
     ]
    },
    {
     "name": "stdout",
     "output_type": "stream",
     "text": [
      "Aopt91\n",
      " 83.440825 seconds (615.87 M allocations: 49.744 GiB, 9.87% gc time)\n"
     ]
    },
    {
     "name": "stderr",
     "output_type": "stream",
     "text": [
      "┌ Info: Genetic screen finished...\n",
      "└ @ Main In[14]:63\n",
      "┌ Info: (\"Aopt_motif\", Any[169, 115, 82, 73, 83, 8, 30, 127, 105, 141, 10, 10, 116, 13, 188, 113, 102, 174, 132, 12])\n",
      "└ @ Main In[14]:64\n"
     ]
    },
    {
     "name": "stdout",
     "output_type": "stream",
     "text": [
      "Aopt75\n",
      " 83.486745 seconds (615.39 M allocations: 49.703 GiB, 9.87% gc time)\n"
     ]
    },
    {
     "name": "stderr",
     "output_type": "stream",
     "text": [
      "┌ Info: Genetic screen finished...\n",
      "└ @ Main In[14]:63\n",
      "┌ Info: (\"Aopt_motif\", Any[20, 19, 192, 121, 41, 68, 13, 187, 196, 3, 86, 30, 38, 144, 69, 82, 84, 40, 123, 121])\n",
      "└ @ Main In[14]:64\n"
     ]
    },
    {
     "name": "stdout",
     "output_type": "stream",
     "text": [
      "Aopt317\n",
      " 83.552570 seconds (615.87 M allocations: 49.744 GiB, 9.86% gc time)\n"
     ]
    },
    {
     "name": "stderr",
     "output_type": "stream",
     "text": [
      "┌ Info: Genetic screen finished...\n",
      "└ @ Main In[14]:63\n",
      "┌ Info: (\"Aopt_motif\", Any[62, 128, 57, 99, 94, 184, 140, 116, 181, 48, 195, 2, 90, 181, 153, 139, 144, 117, 177, 188])\n",
      "└ @ Main In[14]:64\n"
     ]
    },
    {
     "name": "stdout",
     "output_type": "stream",
     "text": [
      "Aopt423\n",
      " 83.582794 seconds (615.87 M allocations: 49.744 GiB, 9.85% gc time)\n"
     ]
    },
    {
     "name": "stderr",
     "output_type": "stream",
     "text": [
      "┌ Info: Genetic screen finished...\n",
      "└ @ Main In[14]:63\n",
      "┌ Info: (\"Aopt_motif\", Any[144, 52, 90, 193, 131, 168, 56, 191, 76, 177, 165, 82, 133, 128, 163, 91, 108, 56, 94, 138])\n",
      "└ @ Main In[14]:64\n"
     ]
    },
    {
     "name": "stdout",
     "output_type": "stream",
     "text": [
      "Aopt361\n",
      " 83.595405 seconds (615.39 M allocations: 49.702 GiB, 9.86% gc time)\n"
     ]
    },
    {
     "name": "stderr",
     "output_type": "stream",
     "text": [
      "┌ Info: Genetic screen finished...\n",
      "└ @ Main In[14]:63\n",
      "┌ Info: (\"Aopt_motif\", Any[125, 173, 146, 111, 62, 51, 69, 180, 128, 173, 187, 79, 112, 130, 182, 112, 56, 103, 132, 24])\n",
      "└ @ Main In[14]:64\n"
     ]
    },
    {
     "name": "stdout",
     "output_type": "stream",
     "text": [
      "Aopt126\n",
      " 83.603418 seconds (615.39 M allocations: 49.702 GiB, 9.85% gc time)\n"
     ]
    },
    {
     "name": "stderr",
     "output_type": "stream",
     "text": [
      "┌ Info: Genetic screen finished...\n",
      "└ @ Main In[14]:63\n",
      "┌ Info: (\"Aopt_motif\", Any[55, 173, 72, 2, 40, 49, 179, 10, 37, 4, 14, 177, 124, 140, 178, 18, 99, 196, 9, 112])\n",
      "└ @ Main In[14]:64\n"
     ]
    },
    {
     "name": "stdout",
     "output_type": "stream",
     "text": [
      "Aopt7\n",
      " 83.626153 seconds (615.39 M allocations: 49.703 GiB, 9.85% gc time)\n"
     ]
    },
    {
     "name": "stderr",
     "output_type": "stream",
     "text": [
      "┌ Info: Genetic screen finished...\n",
      "└ @ Main In[14]:63\n",
      "┌ Info: (\"Aopt_motif\", Any[177, 22, 140, 188, 145, 65, 104, 158, 59, 90, 101, 51, 73, 149, 64, 166, 43, 102, 38, 171])\n",
      "└ @ Main In[14]:64\n"
     ]
    },
    {
     "name": "stdout",
     "output_type": "stream",
     "text": [
      "Aopt81\n",
      " 83.695036 seconds (615.87 M allocations: 49.744 GiB, 9.84% gc time)\n"
     ]
    },
    {
     "name": "stderr",
     "output_type": "stream",
     "text": [
      "┌ Info: Genetic screen finished...\n",
      "└ @ Main In[14]:63\n",
      "┌ Info: (\"Aopt_motif\", Any[60, 133, 173, 164, 76, 172, 6, 43, 192, 18, 160, 111, 80, 102, 164, 200, 104, 119, 98, 163])\n",
      "└ @ Main In[14]:64\n"
     ]
    },
    {
     "name": "stdout",
     "output_type": "stream",
     "text": [
      "Aopt184\n",
      " 83.783258 seconds (615.87 M allocations: 49.744 GiB, 9.83% gc time)\n"
     ]
    },
    {
     "name": "stderr",
     "output_type": "stream",
     "text": [
      "┌ Info: Genetic screen finished...\n",
      "└ @ Main In[14]:63\n",
      "┌ Info: (\"Aopt_motif\", Any[36, 155, 72, 137, 195, 56, 78, 122, 113, 37, 21, 162, 196, 195, 59, 93, 196, 121, 18, 66])\n",
      "└ @ Main In[14]:64\n"
     ]
    },
    {
     "name": "stdout",
     "output_type": "stream",
     "text": [
      "Aopt349\n",
      " 83.804850 seconds (615.87 M allocations: 49.744 GiB, 9.83% gc time)\n"
     ]
    },
    {
     "name": "stderr",
     "output_type": "stream",
     "text": [
      "┌ Info: Genetic screen finished...\n",
      "└ @ Main In[14]:63\n",
      "┌ Info: (\"Aopt_motif\", Any[121, 139, 176, 155, 138, 10, 177, 33, 49, 29, 2, 175, 118, 47, 179, 158, 7, 201, 28, 93])\n",
      "└ @ Main In[14]:64\n"
     ]
    },
    {
     "name": "stdout",
     "output_type": "stream",
     "text": [
      "Aopt284\n",
      " 83.809746 seconds (615.87 M allocations: 49.744 GiB, 9.83% gc time)\n"
     ]
    },
    {
     "name": "stderr",
     "output_type": "stream",
     "text": [
      "┌ Info: Genetic screen finished...\n",
      "└ @ Main In[14]:63\n",
      "┌ Info: (\"Aopt_motif\", Any[85, 194, 132, 146, 35, 73, 127, 120, 7, 183, 166, 26, 10, 58, 101, 100, 14, 74, 173, 194])\n",
      "└ @ Main In[14]:64\n"
     ]
    },
    {
     "name": "stdout",
     "output_type": "stream",
     "text": [
      "Aopt43\n",
      " 83.706046 seconds (615.39 M allocations: 49.702 GiB, 9.73% gc time)\n"
     ]
    },
    {
     "name": "stderr",
     "output_type": "stream",
     "text": [
      "┌ Info: Genetic screen finished...\n",
      "└ @ Main In[14]:63\n",
      "┌ Info: (\"Aopt_motif\", Any[42, 121, 171, 156, 118, 77, 148, 104, 148, 190, 104, 88, 155, 152, 85, 110, 180, 60, 4, 109])\n",
      "└ @ Main In[14]:64\n"
     ]
    },
    {
     "name": "stdout",
     "output_type": "stream",
     "text": [
      "Aopt271\n",
      " 82.192389 seconds (615.39 M allocations: 49.702 GiB, 8.31% gc time)\n"
     ]
    },
    {
     "name": "stderr",
     "output_type": "stream",
     "text": [
      "┌ Info: Genetic screen finished...\n",
      "└ @ Main In[14]:63\n",
      "┌ Info: (\"Aopt_motif\", Any[154, 25, 40, 39, 42, 196, 165, 195, 80, 140, 78, 89, 108, 101, 65, 80, 58, 19, 45, 141])\n",
      "└ @ Main In[14]:64\n"
     ]
    },
    {
     "name": "stdout",
     "output_type": "stream",
     "text": [
      "Aopt44\n",
      " 82.289775 seconds (615.87 M allocations: 49.744 GiB, 8.33% gc time)\n"
     ]
    },
    {
     "name": "stderr",
     "output_type": "stream",
     "text": [
      "┌ Info: Genetic screen finished...\n",
      "└ @ Main In[14]:63\n",
      "┌ Info: (\"Aopt_motif\", Any[178, 156, 63, 60, 116, 25, 157, 4, 9, 36, 194, 141, 182, 58, 60, 48, 54, 159, 172, 85])\n",
      "└ @ Main In[14]:64\n"
     ]
    },
    {
     "name": "stdout",
     "output_type": "stream",
     "text": [
      "Aopt231\n",
      " 82.317474 seconds (615.39 M allocations: 49.703 GiB, 8.34% gc time)\n"
     ]
    },
    {
     "name": "stderr",
     "output_type": "stream",
     "text": [
      "┌ Info: Genetic screen finished...\n",
      "└ @ Main In[14]:63\n",
      "┌ Info: (\"Aopt_motif\", Any[53, 2, 115, 201, 159, 100, 52, 98, 17, 68, 138, 160, 51, 146, 42, 132, 78, 125, 160, 24])\n",
      "└ @ Main In[14]:64\n"
     ]
    },
    {
     "name": "stdout",
     "output_type": "stream",
     "text": [
      "Aopt359\n",
      " 82.337254 seconds (615.39 M allocations: 49.702 GiB, 8.35% gc time)\n"
     ]
    },
    {
     "name": "stderr",
     "output_type": "stream",
     "text": [
      "┌ Info: Genetic screen finished...\n",
      "└ @ Main In[14]:63\n",
      "┌ Info: (\"Aopt_motif\", Any[119, 200, 80, 109, 106, 67, 195, 104, 154, 196, 185, 16, 48, 94, 45, 48, 152, 198, 22, 152])\n",
      "└ @ Main In[14]:64\n"
     ]
    },
    {
     "name": "stdout",
     "output_type": "stream",
     "text": [
      "Aopt43\n",
      " 82.414998 seconds (615.87 M allocations: 49.744 GiB, 8.35% gc time)\n"
     ]
    },
    {
     "name": "stderr",
     "output_type": "stream",
     "text": [
      "┌ Info: Genetic screen finished...\n",
      "└ @ Main In[14]:63\n",
      "┌ Info: (\"Aopt_motif\", Any[125, 10, 87, 136, 125, 76, 72, 156, 11, 109, 53, 63, 154, 198, 117, 186, 28, 24, 1, 168])\n",
      "└ @ Main In[14]:64\n"
     ]
    },
    {
     "name": "stdout",
     "output_type": "stream",
     "text": [
      "Aopt254\n",
      " 82.648130 seconds (616.85 M allocations: 49.826 GiB, 8.37% gc time)\n"
     ]
    },
    {
     "data": {
      "text/plain": [
       "40-element Array{Any,1}:\n",
       " (0.001, 200)               \n",
       " (0.026000000000000002, 138)\n",
       " (0.051000000000000004, 140)\n",
       " (0.07600000000000001, 198) \n",
       " (0.101, 200)               \n",
       " (0.126, 200)               \n",
       " (0.151, 139)               \n",
       " (0.176, 200)               \n",
       " (0.20099999999999998, 135) \n",
       " (0.22599999999999998, 139) \n",
       " (0.251, 133)               \n",
       " (0.276, 139)               \n",
       " (0.30100000000000005, 135) \n",
       " ⋮                          \n",
       " (0.7010000000000004, 200)  \n",
       " (0.7260000000000004, 200)  \n",
       " (0.7510000000000004, 133)  \n",
       " (0.7760000000000005, 133)  \n",
       " (0.8010000000000005, 130)  \n",
       " (0.8260000000000005, 141)  \n",
       " (0.8510000000000005, 135)  \n",
       " (0.8760000000000006, 137)  \n",
       " (0.9010000000000006, 139)  \n",
       " (0.9260000000000006, 136)  \n",
       " (0.9510000000000006, 134)  \n",
       " (0.9760000000000006, 200)  "
      ]
     },
     "execution_count": 53,
     "metadata": {},
     "output_type": "execute_result"
    }
   ],
   "source": [
    "step = 0.025\n",
    "mutrate_score_hard = []\n",
    "r = 0.001\n",
    "while r < 1\n",
    "    result = @time GAME(hard_sequences,r,3000, 500, 10)\n",
    "    push!(mutrate_score_hard, (r, result[5]))\n",
    "    r += step\n",
    "end\n",
    "mutrate_score_hard"
   ]
  },
  {
   "cell_type": "markdown",
   "metadata": {},
   "source": [
    "3) Easy Challenge Population vs Score"
   ]
  },
  {
   "cell_type": "code",
   "execution_count": 47,
   "metadata": {},
   "outputs": [
    {
     "name": "stderr",
     "output_type": "stream",
     "text": [
      "┌ Info: Genetic screen finished...\n",
      "└ @ Main In[14]:63\n",
      "┌ Info: (\"Aopt_motif\", Any[45, 35, 17, 34, 36, 48, 18, 32, 24, 6, 1, 43, 33, 32, 18, 51, 50, 17, 16, 1])\n",
      "└ @ Main In[14]:64\n"
     ]
    },
    {
     "name": "stdout",
     "output_type": "stream",
     "text": [
      "Aopt1\n",
      "  0.070836 seconds (467.38 k allocations: 44.499 MiB, 12.99% gc time)\n",
      "Aopt1\n",
      "  0.093705 seconds (664.63 k allocations: 63.527 MiB, 5.51% gc time)\n"
     ]
    },
    {
     "name": "stderr",
     "output_type": "stream",
     "text": [
      "┌ Info: Genetic screen finished...\n",
      "└ @ Main In[14]:63\n",
      "┌ Info: (\"Aopt_motif\", Any[1, 44, 47, 39, 44, 34, 23, 22, 5, 13, 25, 42, 28, 13, 51, 7, 29, 15, 24, 2])\n",
      "└ @ Main In[14]:64\n"
     ]
    },
    {
     "name": "stdout",
     "output_type": "stream",
     "text": [
      "Aopt1\n",
      "  0.106414 seconds (725.60 k allocations: 69.194 MiB, 9.54% gc time)\n"
     ]
    },
    {
     "name": "stderr",
     "output_type": "stream",
     "text": [
      "┌ Info: Genetic screen finished...\n",
      "└ @ Main In[14]:63\n",
      "┌ Info: (\"Aopt_motif\", Any[31, 40, 18, 8, 6, 51, 11, 31, 50, 22, 26, 51, 31, 8, 25, 13, 22, 13, 12, 21])\n",
      "└ @ Main In[14]:64\n"
     ]
    },
    {
     "name": "stdout",
     "output_type": "stream",
     "text": [
      "Aopt1\n",
      "  0.141233 seconds (965.72 k allocations: 91.438 MiB, 7.30% gc time)\n"
     ]
    },
    {
     "name": "stderr",
     "output_type": "stream",
     "text": [
      "┌ Info: Genetic screen finished...\n",
      "└ @ Main In[14]:63\n",
      "┌ Info: (\"Aopt_motif\", Any[10, 38, 22, 9, 35, 17, 10, 19, 4, 15, 19, 42, 12, 2, 42, 13, 51, 27, 26, 28])\n",
      "└ @ Main In[14]:64\n"
     ]
    },
    {
     "name": "stdout",
     "output_type": "stream",
     "text": [
      "Aopt1\n",
      "  0.084577 seconds (601.64 k allocations: 56.977 MiB, 6.14% gc time)\n"
     ]
    },
    {
     "name": "stderr",
     "output_type": "stream",
     "text": [
      "┌ Info: Genetic screen finished...\n",
      "└ @ Main In[14]:63\n",
      "┌ Info: (\"Aopt_motif\", Any[39, 16, 7, 2, 51, 10, 6, 41, 21, 37, 11, 43, 33, 11, 38, 47, 25, 16, 19, 51])\n",
      "└ @ Main In[14]:64\n",
      "┌ Info: Genetic screen finished...\n",
      "└ @ Main In[14]:63\n",
      "┌ Info: (\"Aopt_motif\", Any[9, 44, 40, 29, 17, 49, 26, 31, 34, 42, 28, 40, 1, 15, 49, 5, 16, 33, 22, 11])\n",
      "└ @ Main In[14]:64\n"
     ]
    },
    {
     "name": "stdout",
     "output_type": "stream",
     "text": [
      "Aopt1\n",
      "  0.120930 seconds (807.71 k allocations: 76.815 MiB, 8.39% gc time)\n"
     ]
    },
    {
     "name": "stderr",
     "output_type": "stream",
     "text": [
      "┌ Info: Genetic screen finished...\n",
      "└ @ Main In[14]:63\n",
      "┌ Info: (\"Aopt_motif\", Any[33, 31, 13, 6, 37, 6, 41, 18, 39, 6, 20, 3, 29, 24, 16, 22, 2, 2, 4, 3])\n",
      "└ @ Main In[14]:64\n"
     ]
    },
    {
     "name": "stdout",
     "output_type": "stream",
     "text": [
      "Aopt1\n",
      "  0.099542 seconds (682.22 k allocations: 64.460 MiB, 7.76% gc time)\n",
      "Aopt1\n",
      "  0.218301 seconds (1.50 M allocations: 141.068 MiB, 7.11% gc time)\n"
     ]
    },
    {
     "name": "stderr",
     "output_type": "stream",
     "text": [
      "┌ Info: Genetic screen finished...\n",
      "└ @ Main In[14]:63\n",
      "┌ Info: (\"Aopt_motif\", Any[12, 46, 17, 2, 1, 36, 46, 15, 7, 22, 36, 43, 36, 22, 31, 41, 4, 11, 3, 19])\n",
      "└ @ Main In[14]:64\n"
     ]
    },
    {
     "name": "stdout",
     "output_type": "stream",
     "text": [
      "Aopt1\n",
      "  0.134647 seconds (940.43 k allocations: 89.168 MiB, 7.63% gc time)\n"
     ]
    },
    {
     "name": "stderr",
     "output_type": "stream",
     "text": [
      "┌ Info: Genetic screen finished...\n",
      "└ @ Main In[14]:63\n",
      "┌ Info: (\"Aopt_motif\", Any[46, 48, 14, 27, 39, 42, 41, 14, 27, 39, 19, 48, 44, 1, 47, 20, 9, 12, 29, 2])\n",
      "└ @ Main In[14]:64\n"
     ]
    },
    {
     "name": "stdout",
     "output_type": "stream",
     "text": [
      "Aopt1\n",
      "  0.173821 seconds (1.20 M allocations: 113.452 MiB, 8.95% gc time)\n"
     ]
    },
    {
     "name": "stderr",
     "output_type": "stream",
     "text": [
      "┌ Info: Genetic screen finished...\n",
      "└ @ Main In[14]:63\n",
      "┌ Info: (\"Aopt_motif\", Any[40, 40, 19, 7, 16, 48, 5, 34, 1, 8, 11, 41, 3, 8, 49, 11, 3, 35, 10, 23])\n",
      "└ @ Main In[14]:64\n"
     ]
    },
    {
     "name": "stdout",
     "output_type": "stream",
     "text": [
      "Aopt1\n",
      "  0.143948 seconds (993.73 k allocations: 94.140 MiB, 7.21% gc time)\n"
     ]
    },
    {
     "name": "stderr",
     "output_type": "stream",
     "text": [
      "┌ Info: Genetic screen finished...\n",
      "└ @ Main In[14]:63\n",
      "┌ Info: (\"Aopt_motif\", Any[34, 44, 15, 26, 32, 16, 39, 24, 20, 12, 10, 31, 19, 13, 25, 50, 15, 47, 23, 12])\n",
      "└ @ Main In[14]:64\n"
     ]
    },
    {
     "name": "stdout",
     "output_type": "stream",
     "text": [
      "Aopt1\n",
      "  0.347485 seconds (2.43 M allocations: 227.230 MiB, 7.53% gc time)\n"
     ]
    },
    {
     "name": "stderr",
     "output_type": "stream",
     "text": [
      "┌ Info: Genetic screen finished...\n",
      "└ @ Main In[14]:63\n",
      "┌ Info: (\"Aopt_motif\", Any[30, 43, 12, 10, 19, 13, 6, 17, 20, 26, 23, 47, 8, 9, 39, 18, 17, 18, 10, 6])\n",
      "└ @ Main In[14]:64\n"
     ]
    },
    {
     "name": "stdout",
     "output_type": "stream",
     "text": [
      "Aopt1\n",
      "  0.163512 seconds (1.13 M allocations: 106.703 MiB, 8.03% gc time)\n"
     ]
    },
    {
     "name": "stderr",
     "output_type": "stream",
     "text": [
      "┌ Info: Genetic screen finished...\n",
      "└ @ Main In[14]:63\n",
      "┌ Info: (\"Aopt_motif\", Any[33, 25, 49, 33, 37, 34, 44, 43, 10, 3, 16, 6, 49, 7, 43, 3, 2, 13, 40, 22])\n",
      "└ @ Main In[14]:64\n"
     ]
    },
    {
     "name": "stdout",
     "output_type": "stream",
     "text": [
      "Aopt1\n",
      "  0.328722 seconds (2.30 M allocations: 214.874 MiB, 7.95% gc time)\n"
     ]
    },
    {
     "name": "stderr",
     "output_type": "stream",
     "text": [
      "┌ Info: Genetic screen finished...\n",
      "└ @ Main In[14]:63\n",
      "┌ Info: (\"Aopt_motif\", Any[43, 39, 14, 47, 33, 10, 50, 13, 11, 6, 24, 41, 5, 14, 35, 7, 8, 17, 12, 4])\n",
      "└ @ Main In[14]:64\n"
     ]
    },
    {
     "name": "stdout",
     "output_type": "stream",
     "text": [
      "Aopt1\n",
      "  0.195783 seconds (1.36 M allocations: 128.530 MiB, 7.97% gc time)\n"
     ]
    },
    {
     "name": "stderr",
     "output_type": "stream",
     "text": [
      "┌ Info: Genetic screen finished...\n",
      "└ @ Main In[14]:63\n",
      "┌ Info: (\"Aopt_motif\", Any[34, 25, 16, 6, 14, 11, 49, 29, 19, 7, 10, 43, 4, 15, 43, 9, 31, 47, 12, 29])\n",
      "└ @ Main In[14]:64\n"
     ]
    },
    {
     "name": "stdout",
     "output_type": "stream",
     "text": [
      "Aopt1\n",
      "  0.454580 seconds (3.12 M allocations: 290.842 MiB, 8.17% gc time)\n"
     ]
    },
    {
     "name": "stderr",
     "output_type": "stream",
     "text": [
      "┌ Info: Genetic screen finished...\n",
      "└ @ Main In[14]:63\n",
      "┌ Info: (\"Aopt_motif\", Any[42, 49, 18, 3, 36, 45, 50, 26, 16, 32, 36, 40, 7, 4, 39, 29, 7, 19, 5, 6])\n",
      "└ @ Main In[14]:64\n"
     ]
    },
    {
     "name": "stdout",
     "output_type": "stream",
     "text": [
      "Aopt1\n",
      "  0.221641 seconds (1.54 M allocations: 144.759 MiB, 8.34% gc time)\n"
     ]
    },
    {
     "name": "stderr",
     "output_type": "stream",
     "text": [
      "┌ Info: Genetic screen finished...\n",
      "└ @ Main In[14]:63\n",
      "┌ Info: (\"Aopt_motif\", Any[37, 18, 19, 5, 43, 43, 46, 21, 22, 33, 17, 15, 2, 13, 24, 12, 7, 40, 13, 18])\n",
      "└ @ Main In[14]:64\n"
     ]
    },
    {
     "name": "stdout",
     "output_type": "stream",
     "text": [
      "Aopt1\n",
      "  0.581828 seconds (4.14 M allocations: 385.997 MiB, 7.59% gc time)\n"
     ]
    },
    {
     "name": "stderr",
     "output_type": "stream",
     "text": [
      "┌ Info: Genetic screen finished...\n",
      "└ @ Main In[14]:63\n",
      "┌ Info: (\"Aopt_motif\", Any[36, 47, 14, 4, 36, 8, 49, 20, 17, 12, 24, 39, 7, 15, 44, 8, 7, 17, 2, 6])\n",
      "└ @ Main In[14]:64\n"
     ]
    },
    {
     "name": "stdout",
     "output_type": "stream",
     "text": [
      "Aopt1\n",
      "  0.356958 seconds (2.47 M allocations: 231.853 MiB, 7.99% gc time)\n"
     ]
    },
    {
     "name": "stderr",
     "output_type": "stream",
     "text": [
      "┌ Info: Genetic screen finished...\n",
      "└ @ Main In[14]:63\n",
      "┌ Info: (\"Aopt_motif\", Any[22, 51, 4, 4, 44, 43, 34, 34, 17, 10, 25, 41, 38, 17, 40, 11, 1, 20, 6, 13])\n",
      "└ @ Main In[14]:64\n"
     ]
    },
    {
     "name": "stdout",
     "output_type": "stream",
     "text": [
      "Aopt1\n",
      "  0.211328 seconds (1.50 M allocations: 140.261 MiB, 7.44% gc time)\n"
     ]
    },
    {
     "name": "stderr",
     "output_type": "stream",
     "text": [
      "┌ Info: Genetic screen finished...\n",
      "└ @ Main In[14]:63\n",
      "┌ Info: (\"Aopt_motif\", Any[32, 51, 18, 47, 39, 9, 1, 47, 18, 5, 21, 39, 5, 28, 40, 9, 13, 14, 9, 3])\n",
      "└ @ Main In[14]:64\n"
     ]
    },
    {
     "name": "stdout",
     "output_type": "stream",
     "text": [
      "Aopt1\n",
      "  0.527962 seconds (3.63 M allocations: 338.448 MiB, 7.92% gc time)\n"
     ]
    },
    {
     "name": "stderr",
     "output_type": "stream",
     "text": [
      "┌ Info: Genetic screen finished...\n",
      "└ @ Main In[14]:63\n",
      "┌ Info: (\"Aopt_motif\", Any[37, 49, 16, 49, 28, 46, 50, 8, 17, 31, 21, 38, 8, 11, 33, 28, 41, 16, 7, 47])\n",
      "└ @ Main In[14]:64\n"
     ]
    },
    {
     "name": "stdout",
     "output_type": "stream",
     "text": [
      "Aopt1\n",
      "  0.311527 seconds (2.21 M allocations: 206.318 MiB, 7.62% gc time)\n"
     ]
    },
    {
     "name": "stderr",
     "output_type": "stream",
     "text": [
      "┌ Info: Genetic screen finished...\n",
      "└ @ Main In[14]:63\n",
      "┌ Info: (\"Aopt_motif\", Any[35, 49, 14, 3, 47, 50, 49, 25, 21, 11, 29, 46, 9, 18, 37, 12, 12, 25, 17, 15])\n",
      "└ @ Main In[14]:64\n"
     ]
    },
    {
     "name": "stdout",
     "output_type": "stream",
     "text": [
      "Aopt1\n",
      "  0.770984 seconds (5.51 M allocations: 514.099 MiB, 8.11% gc time)\n"
     ]
    },
    {
     "name": "stderr",
     "output_type": "stream",
     "text": [
      "┌ Info: Genetic screen finished...\n",
      "└ @ Main In[14]:63\n",
      "┌ Info: (\"Aopt_motif\", Any[35, 51, 15, 2, 36, 46, 49, 41, 15, 6, 23, 39, 3, 15, 39, 5, 14, 17, 7, 5])\n",
      "└ @ Main In[14]:64\n"
     ]
    },
    {
     "name": "stdout",
     "output_type": "stream",
     "text": [
      "Aopt1\n",
      "  0.634130 seconds (4.46 M allocations: 416.461 MiB, 7.81% gc time)\n"
     ]
    },
    {
     "name": "stderr",
     "output_type": "stream",
     "text": [
      "┌ Info: Genetic screen finished...\n",
      "└ @ Main In[14]:63\n",
      "┌ Info: (\"Aopt_motif\", Any[40, 50, 17, 5, 40, 48, 34, 28, 26, 9, 43, 39, 7, 11, 41, 11, 17, 20, 11, 7])\n",
      "└ @ Main In[14]:64\n"
     ]
    },
    {
     "name": "stdout",
     "output_type": "stream",
     "text": [
      "Aopt1\n",
      "  0.401035 seconds (2.89 M allocations: 269.807 MiB, 7.83% gc time)\n"
     ]
    },
    {
     "name": "stderr",
     "output_type": "stream",
     "text": [
      "┌ Info: Genetic screen finished...\n",
      "└ @ Main In[14]:63\n",
      "┌ Info: (\"Aopt_motif\", Any[29, 50, 18, 2, 38, 47, 48, 30, 18, 10, 22, 38, 5, 8, 38, 13, 5, 11, 8, 4])\n",
      "└ @ Main In[14]:64\n"
     ]
    },
    {
     "name": "stdout",
     "output_type": "stream",
     "text": [
      "Aopt1\n",
      "  0.635826 seconds (4.54 M allocations: 423.734 MiB, 8.28% gc time)\n"
     ]
    },
    {
     "name": "stderr",
     "output_type": "stream",
     "text": [
      "┌ Info: Genetic screen finished...\n",
      "└ @ Main In[14]:63\n",
      "┌ Info: (\"Aopt_motif\", Any[31, 49, 16, 3, 40, 12, 4, 25, 16, 5, 21, 39, 2, 7, 38, 8, 6, 16, 4, 5])\n",
      "└ @ Main In[14]:64\n"
     ]
    },
    {
     "name": "stdout",
     "output_type": "stream",
     "text": [
      "Aopt1\n",
      "  0.530666 seconds (3.74 M allocations: 349.974 MiB, 7.95% gc time)\n"
     ]
    },
    {
     "name": "stderr",
     "output_type": "stream",
     "text": [
      "┌ Info: Genetic screen finished...\n",
      "└ @ Main In[14]:63\n",
      "┌ Info: (\"Aopt_motif\", Any[30, 45, 12, 2, 31, 34, 51, 25, 9, 14, 17, 44, 6, 4, 38, 10, 1, 25, 11, 10])\n",
      "└ @ Main In[14]:64\n"
     ]
    },
    {
     "name": "stdout",
     "output_type": "stream",
     "text": [
      "Aopt1\n",
      "  0.400104 seconds (2.89 M allocations: 269.752 MiB, 7.86% gc time)\n"
     ]
    },
    {
     "name": "stderr",
     "output_type": "stream",
     "text": [
      "┌ Info: Genetic screen finished...\n",
      "└ @ Main In[14]:63\n",
      "┌ Info: (\"Aopt_motif\", Any[42, 50, 14, 3, 42, 50, 50, 27, 16, 8, 9, 42, 7, 13, 42, 9, 9, 20, 10, 13])\n",
      "└ @ Main In[14]:64\n"
     ]
    },
    {
     "name": "stdout",
     "output_type": "stream",
     "text": [
      "Aopt1\n",
      "  0.387869 seconds (2.73 M allocations: 255.044 MiB, 8.16% gc time)\n"
     ]
    },
    {
     "name": "stderr",
     "output_type": "stream",
     "text": [
      "┌ Info: Genetic screen finished...\n",
      "└ @ Main In[14]:63\n",
      "┌ Info: (\"Aopt_motif\", Any[38, 48, 51, 1, 33, 45, 50, 22, 10, 4, 4, 50, 3, 7, 1, 5, 5, 15, 8, 1])\n",
      "└ @ Main In[14]:64\n"
     ]
    },
    {
     "name": "stdout",
     "output_type": "stream",
     "text": [
      "Aopt1\n",
      "  0.462065 seconds (3.22 M allocations: 301.562 MiB, 7.46% gc time)\n"
     ]
    },
    {
     "name": "stderr",
     "output_type": "stream",
     "text": [
      "┌ Info: Genetic screen finished...\n",
      "└ @ Main In[14]:63\n",
      "┌ Info: (\"Aopt_motif\", Any[30, 45, 14, 51, 37, 42, 3, 16, 37, 27, 14, 35, 21, 5, 34, 1, 7, 13, 7, 21])\n",
      "└ @ Main In[14]:64\n"
     ]
    },
    {
     "name": "stdout",
     "output_type": "stream",
     "text": [
      "Aopt1\n",
      "  0.448163 seconds (3.20 M allocations: 299.380 MiB, 8.23% gc time)\n"
     ]
    },
    {
     "name": "stderr",
     "output_type": "stream",
     "text": [
      "┌ Info: Genetic screen finished...\n",
      "└ @ Main In[14]:63\n",
      "┌ Info: (\"Aopt_motif\", Any[39, 38, 22, 4, 45, 51, 4, 29, 18, 24, 21, 44, 4, 15, 43, 11, 11, 15, 7, 7])\n",
      "└ @ Main In[14]:64\n"
     ]
    },
    {
     "name": "stdout",
     "output_type": "stream",
     "text": [
      "Aopt1\n",
      "  0.675011 seconds (4.81 M allocations: 449.007 MiB, 8.21% gc time)\n"
     ]
    },
    {
     "name": "stderr",
     "output_type": "stream",
     "text": [
      "┌ Info: Genetic screen finished...\n",
      "└ @ Main In[14]:63\n",
      "┌ Info: (\"Aopt_motif\", Any[32, 51, 15, 3, 36, 42, 3, 28, 10, 26, 16, 44, 4, 10, 37, 5, 5, 18, 2, 3])\n",
      "└ @ Main In[14]:64\n"
     ]
    },
    {
     "name": "stdout",
     "output_type": "stream",
     "text": [
      "Aopt1\n",
      "  0.568846 seconds (4.03 M allocations: 376.401 MiB, 8.00% gc time)\n"
     ]
    },
    {
     "name": "stderr",
     "output_type": "stream",
     "text": [
      "┌ Info: Genetic screen finished...\n",
      "└ @ Main In[14]:63\n",
      "┌ Info: (\"Aopt_motif\", Any[40, 46, 15, 46, 42, 45, 48, 24, 49, 4, 9, 40, 6, 3, 37, 8, 2, 13, 8, 3])\n",
      "└ @ Main In[14]:64\n"
     ]
    },
    {
     "name": "stdout",
     "output_type": "stream",
     "text": [
      "Aopt1\n",
      "  0.707246 seconds (5.03 M allocations: 469.833 MiB, 7.85% gc time)\n"
     ]
    },
    {
     "name": "stderr",
     "output_type": "stream",
     "text": [
      "┌ Info: Genetic screen finished...\n",
      "└ @ Main In[14]:63\n",
      "┌ Info: (\"Aopt_motif\", Any[31, 46, 13, 2, 36, 42, 39, 21, 8, 3, 6, 35, 5, 22, 33, 12, 1, 38, 13, 1])\n",
      "└ @ Main In[14]:64\n"
     ]
    },
    {
     "name": "stdout",
     "output_type": "stream",
     "text": [
      "Aopt1\n",
      "  0.557360 seconds (3.96 M allocations: 369.168 MiB, 8.15% gc time)\n"
     ]
    },
    {
     "name": "stderr",
     "output_type": "stream",
     "text": [
      "┌ Info: Genetic screen finished...\n",
      "└ @ Main In[14]:63\n",
      "┌ Info: (\"Aopt_motif\", Any[34, 49, 19, 2, 41, 8, 46, 26, 13, 25, 22, 36, 5, 29, 41, 7, 6, 19, 13, 7])\n",
      "└ @ Main In[14]:64\n"
     ]
    },
    {
     "name": "stdout",
     "output_type": "stream",
     "text": [
      "Aopt1\n",
      "  0.646206 seconds (4.57 M allocations: 427.473 MiB, 8.17% gc time)\n"
     ]
    },
    {
     "name": "stderr",
     "output_type": "stream",
     "text": [
      "┌ Info: Genetic screen finished...\n",
      "└ @ Main In[14]:63\n",
      "┌ Info: (\"Aopt_motif\", Any[35, 26, 19, 4, 46, 45, 51, 27, 20, 9, 25, 41, 9, 8, 42, 11, 8, 26, 9, 6])\n",
      "└ @ Main In[14]:64\n"
     ]
    },
    {
     "name": "stdout",
     "output_type": "stream",
     "text": [
      "Aopt1\n",
      "  1.268056 seconds (9.11 M allocations: 849.555 MiB, 8.01% gc time)\n"
     ]
    },
    {
     "name": "stderr",
     "output_type": "stream",
     "text": [
      "┌ Info: Genetic screen finished...\n",
      "└ @ Main In[14]:63\n",
      "┌ Info: (\"Aopt_motif\", Any[35, 49, 16, 1, 41, 41, 48, 23, 12, 7, 19, 17, 4, 9, 37, 6, 9, 40, 5, 3])\n",
      "└ @ Main In[14]:64\n"
     ]
    },
    {
     "name": "stdout",
     "output_type": "stream",
     "text": [
      "Aopt1\n",
      "  0.818299 seconds (5.71 M allocations: 533.571 MiB, 8.15% gc time)\n"
     ]
    },
    {
     "name": "stderr",
     "output_type": "stream",
     "text": [
      "┌ Info: Genetic screen finished...\n",
      "└ @ Main In[14]:63\n",
      "┌ Info: (\"Aopt_motif\", Any[30, 42, 47, 5, 36, 42, 44, 22, 11, 17, 17, 34, 2, 4, 33, 5, 10, 11, 6, 19])\n",
      "└ @ Main In[14]:64\n"
     ]
    },
    {
     "name": "stdout",
     "output_type": "stream",
     "text": [
      "Aopt1\n",
      "  0.825949 seconds (5.89 M allocations: 549.027 MiB, 8.11% gc time)\n"
     ]
    },
    {
     "name": "stderr",
     "output_type": "stream",
     "text": [
      "┌ Info: Genetic screen finished...\n",
      "└ @ Main In[14]:63\n",
      "┌ Info: (\"Aopt_motif\", Any[34, 49, 17, 4, 33, 40, 43, 19, 13, 5, 21, 36, 6, 9, 35, 2, 5, 32, 11, 4])\n",
      "└ @ Main In[14]:64\n"
     ]
    },
    {
     "name": "stdout",
     "output_type": "stream",
     "text": [
      "Aopt1\n",
      "  0.910081 seconds (6.38 M allocations: 595.219 MiB, 7.96% gc time)\n"
     ]
    },
    {
     "name": "stderr",
     "output_type": "stream",
     "text": [
      "┌ Info: Genetic screen finished...\n",
      "└ @ Main In[14]:63\n",
      "┌ Info: (\"Aopt_motif\", Any[37, 50, 17, 5, 13, 5, 49, 23, 16, 6, 8, 37, 5, 7, 42, 9, 6, 41, 8, 5])\n",
      "└ @ Main In[14]:64\n"
     ]
    },
    {
     "name": "stdout",
     "output_type": "stream",
     "text": [
      "Aopt1\n",
      "  0.555204 seconds (3.91 M allocations: 365.370 MiB, 8.18% gc time)\n"
     ]
    },
    {
     "name": "stderr",
     "output_type": "stream",
     "text": [
      "┌ Info: Genetic screen finished...\n",
      "└ @ Main In[14]:63\n",
      "┌ Info: (\"Aopt_motif\", Any[36, 47, 14, 6, 38, 43, 5, 28, 10, 27, 14, 42, 1, 6, 41, 7, 9, 14, 4, 8])\n",
      "└ @ Main In[14]:64\n"
     ]
    },
    {
     "name": "stdout",
     "output_type": "stream",
     "text": [
      "Aopt1\n",
      "  0.418597 seconds (2.98 M allocations: 278.665 MiB, 8.42% gc time)\n"
     ]
    },
    {
     "name": "stderr",
     "output_type": "stream",
     "text": [
      "┌ Info: Genetic screen finished...\n",
      "└ @ Main In[14]:63\n",
      "┌ Info: (\"Aopt_motif\", Any[34, 39, 16, 47, 40, 45, 48, 25, 14, 5, 22, 41, 4, 7, 34, 6, 5, 15, 7, 4])\n",
      "└ @ Main In[14]:64\n"
     ]
    },
    {
     "name": "stdout",
     "output_type": "stream",
     "text": [
      "Aopt1\n",
      "  0.633073 seconds (4.47 M allocations: 418.089 MiB, 8.06% gc time)\n"
     ]
    },
    {
     "name": "stderr",
     "output_type": "stream",
     "text": [
      "┌ Info: Genetic screen finished...\n",
      "└ @ Main In[14]:63\n",
      "┌ Info: (\"Aopt_motif\", Any[30, 37, 14, 5, 36, 41, 46, 22, 9, 31, 18, 36, 9, 6, 39, 5, 2, 37, 6, 2])\n",
      "└ @ Main In[14]:64\n"
     ]
    },
    {
     "name": "stdout",
     "output_type": "stream",
     "text": [
      "Aopt1\n",
      "  0.756042 seconds (5.34 M allocations: 498.347 MiB, 7.80% gc time)\n"
     ]
    },
    {
     "name": "stderr",
     "output_type": "stream",
     "text": [
      "┌ Info: Genetic screen finished...\n",
      "└ @ Main In[14]:63\n",
      "┌ Info: (\"Aopt_motif\", Any[36, 45, 12, 3, 42, 41, 49, 26, 9, 32, 20, 34, 22, 10, 39, 11, 36, 18, 11, 6])\n",
      "└ @ Main In[14]:64\n"
     ]
    },
    {
     "name": "stdout",
     "output_type": "stream",
     "text": [
      "Aopt1\n",
      "  0.646021 seconds (4.59 M allocations: 429.155 MiB, 8.38% gc time)\n"
     ]
    },
    {
     "name": "stderr",
     "output_type": "stream",
     "text": [
      "┌ Info: Genetic screen finished...\n",
      "└ @ Main In[14]:63\n",
      "┌ Info: (\"Aopt_motif\", Any[36, 51, 17, 5, 42, 46, 43, 27, 17, 8, 25, 42, 6, 5, 41, 3, 9, 26, 11, 8])\n",
      "└ @ Main In[14]:64\n"
     ]
    },
    {
     "name": "stdout",
     "output_type": "stream",
     "text": [
      "Aopt1\n",
      "  0.740738 seconds (5.28 M allocations: 492.670 MiB, 8.37% gc time)\n"
     ]
    },
    {
     "name": "stderr",
     "output_type": "stream",
     "text": [
      "┌ Info: Genetic screen finished...\n",
      "└ @ Main In[14]:63\n",
      "┌ Info: (\"Aopt_motif\", Any[40, 51, 27, 4, 45, 47, 50, 29, 15, 5, 25, 44, 6, 13, 42, 15, 8, 22, 10, 7])\n",
      "└ @ Main In[14]:64\n"
     ]
    },
    {
     "name": "stdout",
     "output_type": "stream",
     "text": [
      "Aopt1\n",
      "  0.561159 seconds (3.96 M allocations: 370.519 MiB, 8.13% gc time)\n"
     ]
    },
    {
     "name": "stderr",
     "output_type": "stream",
     "text": [
      "┌ Info: Genetic screen finished...\n",
      "└ @ Main In[14]:63\n",
      "┌ Info: (\"Aopt_motif\", Any[38, 46, 12, 4, 40, 47, 51, 25, 13, 8, 22, 40, 16, 5, 44, 7, 12, 19, 10, 27])\n",
      "└ @ Main In[14]:64\n"
     ]
    },
    {
     "name": "stdout",
     "output_type": "stream",
     "text": [
      "Aopt1\n",
      "  1.007366 seconds (7.18 M allocations: 669.776 MiB, 8.05% gc time)\n"
     ]
    },
    {
     "name": "stderr",
     "output_type": "stream",
     "text": [
      "┌ Info: Genetic screen finished...\n",
      "└ @ Main In[14]:63\n",
      "┌ Info: (\"Aopt_motif\", Any[31, 46, 18, 6, 37, 45, 51, 21, 16, 32, 27, 51, 7, 14, 37, 10, 10, 43, 9, 7])\n",
      "└ @ Main In[14]:64\n"
     ]
    },
    {
     "name": "stdout",
     "output_type": "stream",
     "text": [
      "Aopt1\n",
      "  1.328316 seconds (9.49 M allocations: 884.202 MiB, 8.34% gc time)\n"
     ]
    },
    {
     "name": "stderr",
     "output_type": "stream",
     "text": [
      "┌ Info: Genetic screen finished...\n",
      "└ @ Main In[14]:63\n",
      "┌ Info: (\"Aopt_motif\", Any[30, 51, 17, 3, 42, 48, 51, 26, 15, 9, 22, 37, 8, 9, 42, 11, 7, 42, 11, 6])\n",
      "└ @ Main In[14]:64\n"
     ]
    },
    {
     "name": "stdout",
     "output_type": "stream",
     "text": [
      "Aopt1\n",
      "  1.629415 seconds (11.51 M allocations: 1.048 GiB, 8.16% gc time)\n"
     ]
    },
    {
     "name": "stderr",
     "output_type": "stream",
     "text": [
      "┌ Info: Genetic screen finished...\n",
      "└ @ Main In[14]:63\n",
      "┌ Info: (\"Aopt_motif\", Any[38, 51, 17, 4, 28, 49, 49, 26, 17, 11, 22, 48, 5, 15, 41, 11, 9, 17, 11, 8])\n",
      "└ @ Main In[14]:64\n"
     ]
    },
    {
     "name": "stdout",
     "output_type": "stream",
     "text": [
      "Aopt1\n",
      "  1.241668 seconds (8.92 M allocations: 830.976 MiB, 8.30% gc time)\n"
     ]
    },
    {
     "name": "stderr",
     "output_type": "stream",
     "text": [
      "┌ Info: Genetic screen finished...\n",
      "└ @ Main In[14]:63\n",
      "┌ Info: (\"Aopt_motif\", Any[37, 47, 18, 3, 42, 47, 50, 29, 15, 7, 9, 40, 5, 11, 41, 10, 6, 21, 11, 8])\n",
      "└ @ Main In[14]:64\n"
     ]
    },
    {
     "name": "stdout",
     "output_type": "stream",
     "text": [
      "Aopt1\n",
      "  0.615290 seconds (4.34 M allocations: 404.782 MiB, 7.94% gc time)\n"
     ]
    },
    {
     "name": "stderr",
     "output_type": "stream",
     "text": [
      "┌ Info: Genetic screen finished...\n",
      "└ @ Main In[14]:63\n",
      "┌ Info: (\"Aopt_motif\", Any[35, 44, 16, 7, 4, 40, 43, 24, 14, 27, 22, 33, 5, 3, 46, 5, 1, 16, 2, 4])\n",
      "└ @ Main In[14]:64\n"
     ]
    },
    {
     "name": "stdout",
     "output_type": "stream",
     "text": [
      "Aopt1\n",
      "  2.288861 seconds (16.58 M allocations: 1.508 GiB, 8.39% gc time)\n"
     ]
    },
    {
     "name": "stderr",
     "output_type": "stream",
     "text": [
      "┌ Info: Genetic screen finished...\n",
      "└ @ Main In[14]:63\n",
      "┌ Info: (\"Aopt_motif\", Any[34, 49, 16, 1, 40, 39, 48, 23, 13, 6, 22, 38, 4, 2, 38, 7, 5, 17, 6, 4])\n",
      "└ @ Main In[14]:64\n"
     ]
    },
    {
     "name": "stdout",
     "output_type": "stream",
     "text": [
      "Aopt1\n",
      "  1.388605 seconds (9.88 M allocations: 920.675 MiB, 8.19% gc time)\n"
     ]
    },
    {
     "name": "stderr",
     "output_type": "stream",
     "text": [
      "┌ Info: Genetic screen finished...\n",
      "└ @ Main In[14]:63\n",
      "┌ Info: (\"Aopt_motif\", Any[32, 48, 15, 2, 40, 38, 47, 23, 11, 4, 20, 11, 3, 24, 32, 5, 5, 15, 6, 3])\n",
      "└ @ Main In[14]:64\n"
     ]
    },
    {
     "name": "stdout",
     "output_type": "stream",
     "text": [
      "Aopt1\n",
      "  1.024729 seconds (7.31 M allocations: 681.682 MiB, 8.26% gc time)\n"
     ]
    },
    {
     "name": "stderr",
     "output_type": "stream",
     "text": [
      "┌ Info: Genetic screen finished...\n",
      "└ @ Main In[14]:63\n",
      "┌ Info: (\"Aopt_motif\", Any[33, 48, 15, 1, 39, 44, 27, 23, 11, 7, 19, 37, 9, 23, 35, 6, 2, 21, 6, 3])\n",
      "└ @ Main In[14]:64\n"
     ]
    },
    {
     "name": "stdout",
     "output_type": "stream",
     "text": [
      "Aopt1\n",
      "  0.698799 seconds (4.95 M allocations: 461.953 MiB, 8.27% gc time)\n"
     ]
    },
    {
     "name": "stderr",
     "output_type": "stream",
     "text": [
      "┌ Info: Genetic screen finished...\n",
      "└ @ Main In[14]:63\n",
      "┌ Info: (\"Aopt_motif\", Any[34, 40, 16, 2, 39, 47, 46, 17, 14, 4, 23, 39, 5, 9, 31, 8, 4, 20, 8, 4])\n",
      "└ @ Main In[14]:64\n"
     ]
    },
    {
     "name": "stdout",
     "output_type": "stream",
     "text": [
      "Aopt1\n",
      "  1.278120 seconds (8.96 M allocations: 835.154 MiB, 8.11% gc time)\n"
     ]
    },
    {
     "name": "stderr",
     "output_type": "stream",
     "text": [
      "┌ Info: Genetic screen finished...\n",
      "└ @ Main In[14]:63\n",
      "┌ Info: (\"Aopt_motif\", Any[37, 36, 19, 6, 43, 5, 48, 11, 16, 27, 24, 41, 12, 11, 40, 10, 7, 22, 7, 7])\n",
      "└ @ Main In[14]:64\n"
     ]
    },
    {
     "name": "stdout",
     "output_type": "stream",
     "text": [
      "Aopt1\n",
      "  0.993078 seconds (7.22 M allocations: 673.240 MiB, 8.54% gc time)\n"
     ]
    },
    {
     "name": "stderr",
     "output_type": "stream",
     "text": [
      "┌ Info: Genetic screen finished...\n",
      "└ @ Main In[14]:63\n",
      "┌ Info: (\"Aopt_motif\", Any[35, 50, 17, 4, 43, 46, 51, 27, 15, 7, 24, 40, 6, 12, 41, 11, 9, 18, 8, 5])\n",
      "└ @ Main In[14]:64\n"
     ]
    },
    {
     "name": "stdout",
     "output_type": "stream",
     "text": [
      "Aopt1\n",
      "  0.876135 seconds (6.21 M allocations: 578.702 MiB, 8.43% gc time)\n"
     ]
    },
    {
     "name": "stderr",
     "output_type": "stream",
     "text": [
      "┌ Info: Genetic screen finished...\n",
      "└ @ Main In[14]:63\n",
      "┌ Info: (\"Aopt_motif\", Any[34, 49, 12, 3, 40, 46, 49, 28, 14, 8, 22, 23, 4, 25, 38, 9, 6, 36, 9, 5])\n",
      "└ @ Main In[14]:64\n"
     ]
    },
    {
     "name": "stdout",
     "output_type": "stream",
     "text": [
      "Aopt1\n",
      "  1.099280 seconds (7.82 M allocations: 729.063 MiB, 8.18% gc time)\n"
     ]
    },
    {
     "name": "stderr",
     "output_type": "stream",
     "text": [
      "┌ Info: Genetic screen finished...\n",
      "└ @ Main In[14]:63\n",
      "┌ Info: (\"Aopt_motif\", Any[32, 47, 13, 2, 38, 40, 46, 22, 9, 22, 19, 49, 7, 3, 33, 5, 3, 38, 5, 8])\n",
      "└ @ Main In[14]:64\n"
     ]
    },
    {
     "name": "stdout",
     "output_type": "stream",
     "text": [
      "Aopt1\n",
      "  1.945800 seconds (13.82 M allocations: 1.257 GiB, 8.34% gc time)\n"
     ]
    },
    {
     "name": "stderr",
     "output_type": "stream",
     "text": [
      "┌ Info: Genetic screen finished...\n",
      "└ @ Main In[14]:63\n",
      "┌ Info: (\"Aopt_motif\", Any[34, 48, 15, 47, 39, 6, 49, 23, 11, 23, 3, 37, 3, 23, 36, 6, 5, 15, 4, 2])\n",
      "└ @ Main In[14]:64\n"
     ]
    },
    {
     "name": "stdout",
     "output_type": "stream",
     "text": [
      "Aopt1\n",
      "  0.701040 seconds (4.98 M allocations: 464.305 MiB, 8.24% gc time)\n"
     ]
    },
    {
     "name": "stderr",
     "output_type": "stream",
     "text": [
      "┌ Info: Genetic screen finished...\n",
      "└ @ Main In[14]:63\n",
      "┌ Info: (\"Aopt_motif\", Any[34, 49, 15, 4, 41, 47, 49, 27, 17, 5, 7, 47, 7, 9, 38, 7, 15, 18, 8, 10])\n",
      "└ @ Main In[14]:64\n"
     ]
    },
    {
     "name": "stdout",
     "output_type": "stream",
     "text": [
      "Aopt1\n",
      "  1.934023 seconds (14.02 M allocations: 1.275 GiB, 8.51% gc time)\n"
     ]
    },
    {
     "name": "stderr",
     "output_type": "stream",
     "text": [
      "┌ Info: Genetic screen finished...\n",
      "└ @ Main In[14]:63\n",
      "┌ Info: (\"Aopt_motif\", Any[33, 39, 17, 1, 40, 45, 48, 24, 12, 5, 21, 38, 2, 8, 38, 6, 4, 16, 10, 4])\n",
      "└ @ Main In[14]:64\n"
     ]
    },
    {
     "name": "stdout",
     "output_type": "stream",
     "text": [
      "Aopt1\n",
      "  2.594500 seconds (18.34 M allocations: 1.668 GiB, 8.26% gc time)\n"
     ]
    },
    {
     "name": "stderr",
     "output_type": "stream",
     "text": [
      "┌ Info: Genetic screen finished...\n",
      "└ @ Main In[14]:63\n",
      "┌ Info: (\"Aopt_motif\", Any[43, 33, 19, 6, 43, 7, 51, 27, 16, 8, 9, 21, 7, 17, 40, 10, 8, 19, 10, 7])\n",
      "└ @ Main In[14]:64\n"
     ]
    },
    {
     "name": "stdout",
     "output_type": "stream",
     "text": [
      "Aopt1\n",
      "  0.970235 seconds (6.90 M allocations: 644.302 MiB, 8.24% gc time)\n"
     ]
    },
    {
     "name": "stderr",
     "output_type": "stream",
     "text": [
      "┌ Info: Genetic screen finished...\n",
      "└ @ Main In[14]:63\n",
      "┌ Info: (\"Aopt_motif\", Any[31, 48, 14, 2, 8, 43, 49, 25, 10, 3, 19, 36, 1, 6, 30, 5, 1, 12, 5, 4])\n",
      "└ @ Main In[14]:64\n"
     ]
    },
    {
     "name": "stdout",
     "output_type": "stream",
     "text": [
      "Aopt1\n",
      "  1.141980 seconds (8.06 M allocations: 751.259 MiB, 8.25% gc time)\n"
     ]
    },
    {
     "name": "stderr",
     "output_type": "stream",
     "text": [
      "┌ Info: Genetic screen finished...\n",
      "└ @ Main In[14]:63\n",
      "┌ Info: (\"Aopt_motif\", Any[36, 40, 18, 2, 42, 47, 49, 26, 33, 7, 23, 40, 6, 20, 38, 15, 7, 18, 9, 22])\n",
      "└ @ Main In[14]:64\n"
     ]
    },
    {
     "name": "stdout",
     "output_type": "stream",
     "text": [
      "Aopt1\n",
      "  1.402923 seconds (10.13 M allocations: 944.746 MiB, 8.69% gc time)\n"
     ]
    },
    {
     "name": "stderr",
     "output_type": "stream",
     "text": [
      "┌ Info: Genetic screen finished...\n",
      "└ @ Main In[14]:63\n",
      "┌ Info: (\"Aopt_motif\", Any[32, 47, 14, 2, 41, 43, 46, 23, 11, 6, 20, 10, 2, 5, 38, 5, 2, 16, 4, 1])\n",
      "└ @ Main In[14]:64\n"
     ]
    },
    {
     "name": "stdout",
     "output_type": "stream",
     "text": [
      "Aopt1\n",
      "  0.763697 seconds (5.38 M allocations: 501.924 MiB, 8.34% gc time)\n"
     ]
    },
    {
     "name": "stderr",
     "output_type": "stream",
     "text": [
      "┌ Info: Genetic screen finished...\n",
      "└ @ Main In[14]:63\n",
      "┌ Info: (\"Aopt_motif\", Any[35, 24, 17, 3, 36, 46, 49, 26, 12, 32, 24, 39, 6, 15, 41, 9, 2, 17, 14, 6])\n",
      "└ @ Main In[14]:64\n"
     ]
    },
    {
     "name": "stdout",
     "output_type": "stream",
     "text": [
      "Aopt1\n",
      "  2.579112 seconds (18.85 M allocations: 1.715 GiB, 8.61% gc time)\n"
     ]
    },
    {
     "name": "stderr",
     "output_type": "stream",
     "text": [
      "┌ Info: Genetic screen finished...\n",
      "└ @ Main In[14]:63\n",
      "┌ Info: (\"Aopt_motif\", Any[34, 49, 50, 1, 40, 45, 48, 8, 13, 5, 22, 38, 4, 8, 38, 8, 5, 16, 7, 5])\n",
      "└ @ Main In[14]:64\n"
     ]
    },
    {
     "name": "stdout",
     "output_type": "stream",
     "text": [
      "Aopt1\n",
      "  1.533421 seconds (11.04 M allocations: 1.005 GiB, 8.50% gc time)\n"
     ]
    },
    {
     "name": "stderr",
     "output_type": "stream",
     "text": [
      "┌ Info: Genetic screen finished...\n",
      "└ @ Main In[14]:63\n",
      "┌ Info: (\"Aopt_motif\", Any[33, 51, 50, 1, 40, 45, 48, 8, 13, 5, 12, 47, 4, 11, 43, 7, 10, 22, 7, 10])\n",
      "└ @ Main In[14]:64\n"
     ]
    },
    {
     "name": "stdout",
     "output_type": "stream",
     "text": [
      "Aopt1\n",
      "  2.623141 seconds (19.11 M allocations: 1.739 GiB, 8.61% gc time)\n"
     ]
    },
    {
     "name": "stderr",
     "output_type": "stream",
     "text": [
      "┌ Info: Genetic screen finished...\n",
      "└ @ Main In[14]:63\n",
      "┌ Info: (\"Aopt_motif\", Any[35, 50, 17, 2, 41, 46, 7, 25, 15, 6, 24, 39, 4, 3, 37, 7, 6, 11, 5, 5])\n",
      "└ @ Main In[14]:64\n"
     ]
    },
    {
     "name": "stdout",
     "output_type": "stream",
     "text": [
      "Aopt1\n",
      "  1.024105 seconds (7.19 M allocations: 670.434 MiB, 8.42% gc time)\n"
     ]
    },
    {
     "name": "stderr",
     "output_type": "stream",
     "text": [
      "┌ Info: Genetic screen finished...\n",
      "└ @ Main In[14]:63\n",
      "┌ Info: (\"Aopt_motif\", Any[36, 41, 18, 3, 12, 9, 48, 26, 15, 10, 22, 40, 6, 27, 39, 8, 17, 42, 9, 22])\n",
      "└ @ Main In[14]:64\n"
     ]
    },
    {
     "name": "stdout",
     "output_type": "stream",
     "text": [
      "Aopt1\n",
      "  0.938562 seconds (6.74 M allocations: 628.168 MiB, 8.63% gc time)\n"
     ]
    },
    {
     "name": "stderr",
     "output_type": "stream",
     "text": [
      "┌ Info: Genetic screen finished...\n",
      "└ @ Main In[14]:63\n",
      "┌ Info: (\"Aopt_motif\", Any[33, 47, 15, 2, 40, 44, 47, 20, 12, 4, 19, 36, 3, 2, 35, 6, 2, 16, 7, 3])\n",
      "└ @ Main In[14]:64\n"
     ]
    },
    {
     "name": "stdout",
     "output_type": "stream",
     "text": [
      "Aopt1\n",
      "  1.379102 seconds (9.95 M allocations: 927.206 MiB, 8.49% gc time)\n"
     ]
    },
    {
     "name": "stderr",
     "output_type": "stream",
     "text": [
      "┌ Info: Genetic screen finished...\n",
      "└ @ Main In[14]:63\n",
      "┌ Info: (\"Aopt_motif\", Any[34, 48, 16, 47, 39, 43, 47, 23, 12, 4, 20, 36, 4, 8, 41, 9, 4, 15, 6, 3])\n",
      "└ @ Main In[14]:64\n"
     ]
    },
    {
     "name": "stdout",
     "output_type": "stream",
     "text": [
      "Aopt1\n",
      "  1.313335 seconds (9.22 M allocations: 860.321 MiB, 8.32% gc time)\n"
     ]
    },
    {
     "name": "stderr",
     "output_type": "stream",
     "text": [
      "┌ Info: Genetic screen finished...\n",
      "└ @ Main In[14]:63\n",
      "┌ Info: (\"Aopt_motif\", Any[37, 49, 19, 4, 43, 26, 1, 11, 17, 8, 25, 41, 9, 11, 40, 9, 8, 43, 10, 12])\n",
      "└ @ Main In[14]:64\n"
     ]
    },
    {
     "name": "stdout",
     "output_type": "stream",
     "text": [
      "Aopt1\n",
      "  0.886059 seconds (6.34 M allocations: 591.438 MiB, 8.52% gc time)\n"
     ]
    },
    {
     "name": "stderr",
     "output_type": "stream",
     "text": [
      "┌ Info: Genetic screen finished...\n",
      "└ @ Main In[14]:63\n",
      "┌ Info: (\"Aopt_motif\", Any[33, 51, 16, 48, 40, 45, 48, 25, 13, 28, 5, 38, 3, 8, 36, 8, 5, 40, 7, 4])\n",
      "└ @ Main In[14]:64\n"
     ]
    },
    {
     "name": "stdout",
     "output_type": "stream",
     "text": [
      "Aopt1\n",
      "  1.445830 seconds (10.27 M allocations: 957.134 MiB, 8.53% gc time)\n"
     ]
    },
    {
     "name": "stderr",
     "output_type": "stream",
     "text": [
      "┌ Info: Genetic screen finished...\n",
      "└ @ Main In[14]:63\n",
      "┌ Info: (\"Aopt_motif\", Any[32, 39, 16, 1, 40, 45, 51, 24, 12, 24, 21, 38, 4, 2, 30, 7, 5, 14, 4, 4])\n",
      "└ @ Main In[14]:64\n"
     ]
    },
    {
     "name": "stdout",
     "output_type": "stream",
     "text": [
      "Aopt1\n",
      "  0.989648 seconds (7.08 M allocations: 659.982 MiB, 8.51% gc time)\n"
     ]
    },
    {
     "name": "stderr",
     "output_type": "stream",
     "text": [
      "┌ Info: Genetic screen finished...\n",
      "└ @ Main In[14]:63\n",
      "┌ Info: (\"Aopt_motif\", Any[32, 44, 17, 1, 39, 41, 47, 23, 12, 2, 20, 11, 2, 20, 36, 5, 2, 16, 6, 1])\n",
      "└ @ Main In[14]:64\n"
     ]
    },
    {
     "name": "stdout",
     "output_type": "stream",
     "text": [
      "Aopt1\n",
      "  1.083377 seconds (7.69 M allocations: 717.746 MiB, 8.50% gc time)\n"
     ]
    },
    {
     "name": "stderr",
     "output_type": "stream",
     "text": [
      "┌ Info: Genetic screen finished...\n",
      "└ @ Main In[14]:63\n",
      "┌ Info: (\"Aopt_motif\", Any[32, 44, 46, 4, 38, 43, 3, 22, 11, 3, 20, 10, 2, 6, 35, 7, 3, 38, 7, 2])\n",
      "└ @ Main In[14]:64\n"
     ]
    },
    {
     "name": "stdout",
     "output_type": "stream",
     "text": [
      "Aopt1\n",
      "  2.441432 seconds (17.52 M allocations: 1.593 GiB, 8.64% gc time)\n"
     ]
    },
    {
     "name": "stderr",
     "output_type": "stream",
     "text": [
      "┌ Info: Genetic screen finished...\n",
      "└ @ Main In[14]:63\n",
      "┌ Info: (\"Aopt_motif\", Any[35, 47, 17, 2, 41, 46, 49, 9, 12, 6, 22, 39, 5, 9, 38, 8, 5, 41, 8, 5])\n",
      "└ @ Main In[14]:64\n"
     ]
    },
    {
     "name": "stdout",
     "output_type": "stream",
     "text": [
      "Aopt1\n",
      "  1.894788 seconds (13.57 M allocations: 1.235 GiB, 8.60% gc time)\n"
     ]
    },
    {
     "name": "stderr",
     "output_type": "stream",
     "text": [
      "┌ Info: Genetic screen finished...\n",
      "└ @ Main In[14]:63\n",
      "┌ Info: (\"Aopt_motif\", Any[38, 51, 15, 3, 41, 47, 50, 23, 12, 32, 18, 37, 6, 13, 41, 9, 2, 18, 11, 6])\n",
      "└ @ Main In[14]:64\n"
     ]
    },
    {
     "name": "stdout",
     "output_type": "stream",
     "text": [
      "Aopt1\n",
      "  0.787447 seconds (5.69 M allocations: 530.870 MiB, 8.54% gc time)\n"
     ]
    },
    {
     "name": "stderr",
     "output_type": "stream",
     "text": [
      "┌ Info: Genetic screen finished...\n",
      "└ @ Main In[14]:63\n",
      "┌ Info: (\"Aopt_motif\", Any[35, 50, 17, 2, 40, 46, 48, 24, 15, 5, 7, 38, 5, 8, 38, 7, 5, 18, 9, 4])\n",
      "└ @ Main In[14]:64\n"
     ]
    },
    {
     "name": "stdout",
     "output_type": "stream",
     "text": [
      "Aopt1\n",
      "  1.987732 seconds (14.57 M allocations: 1.326 GiB, 8.78% gc time)\n"
     ]
    },
    {
     "name": "stderr",
     "output_type": "stream",
     "text": [
      "┌ Info: Genetic screen finished...\n",
      "└ @ Main In[14]:63\n",
      "┌ Info: (\"Aopt_motif\", Any[34, 51, 16, 1, 40, 45, 48, 24, 13, 30, 21, 38, 4, 2, 38, 7, 5, 40, 7, 7])\n",
      "└ @ Main In[14]:64\n"
     ]
    },
    {
     "name": "stdout",
     "output_type": "stream",
     "text": [
      "Aopt1\n",
      "  1.397577 seconds (10.09 M allocations: 940.453 MiB, 8.65% gc time)\n"
     ]
    },
    {
     "name": "stderr",
     "output_type": "stream",
     "text": [
      "┌ Info: Genetic screen finished...\n",
      "└ @ Main In[14]:63\n",
      "┌ Info: (\"Aopt_motif\", Any[35, 49, 16, 1, 40, 46, 48, 24, 12, 6, 21, 40, 6, 8, 39, 5, 21, 16, 7, 50])\n",
      "└ @ Main In[14]:64\n"
     ]
    },
    {
     "name": "stdout",
     "output_type": "stream",
     "text": [
      "Aopt1\n",
      "  1.240350 seconds (8.83 M allocations: 822.881 MiB, 8.41% gc time)\n"
     ]
    },
    {
     "name": "stderr",
     "output_type": "stream",
     "text": [
      "┌ Info: Genetic screen finished...\n",
      "└ @ Main In[14]:63\n",
      "┌ Info: (\"Aopt_motif\", Any[35, 50, 45, 48, 35, 30, 49, 26, 16, 6, 22, 45, 5, 25, 38, 7, 6, 17, 8, 4])\n",
      "└ @ Main In[14]:64\n"
     ]
    },
    {
     "name": "stdout",
     "output_type": "stream",
     "text": [
      "Aopt1\n",
      "  1.944772 seconds (14.11 M allocations: 1.283 GiB, 8.86% gc time)\n"
     ]
    },
    {
     "name": "stderr",
     "output_type": "stream",
     "text": [
      "┌ Info: Genetic screen finished...\n",
      "└ @ Main In[14]:63\n",
      "┌ Info: (\"Aopt_motif\", Any[34, 50, 17, 2, 41, 47, 49, 25, 14, 29, 22, 39, 5, 9, 38, 8, 6, 41, 8, 21])\n",
      "└ @ Main In[14]:64\n"
     ]
    },
    {
     "name": "stdout",
     "output_type": "stream",
     "text": [
      "Aopt1\n",
      "  0.850109 seconds (6.08 M allocations: 566.817 MiB, 8.33% gc time)\n"
     ]
    },
    {
     "name": "stderr",
     "output_type": "stream",
     "text": [
      "┌ Info: Genetic screen finished...\n",
      "└ @ Main In[14]:63\n",
      "┌ Info: (\"Aopt_motif\", Any[41, 37, 16, 3, 35, 50, 50, 29, 18, 10, 26, 43, 6, 13, 45, 13, 10, 20, 11, 9])\n",
      "└ @ Main In[14]:64\n"
     ]
    },
    {
     "name": "stdout",
     "output_type": "stream",
     "text": [
      "Aopt1\n",
      "  0.846216 seconds (6.02 M allocations: 561.751 MiB, 8.75% gc time)\n"
     ]
    },
    {
     "name": "stderr",
     "output_type": "stream",
     "text": [
      "┌ Info: Genetic screen finished...\n",
      "└ @ Main In[14]:63\n",
      "┌ Info: (\"Aopt_motif\", Any[34, 49, 15, 1, 40, 39, 47, 25, 14, 28, 19, 37, 2, 21, 37, 5, 4, 32, 7, 4])\n",
      "└ @ Main In[14]:64\n"
     ]
    },
    {
     "name": "stdout",
     "output_type": "stream",
     "text": [
      "Aopt1\n",
      "  0.930671 seconds (6.60 M allocations: 615.193 MiB, 8.56% gc time)\n"
     ]
    },
    {
     "name": "stderr",
     "output_type": "stream",
     "text": [
      "┌ Info: Genetic screen finished...\n",
      "└ @ Main In[14]:63\n",
      "┌ Info: (\"Aopt_motif\", Any[34, 34, 12, 48, 41, 48, 49, 26, 16, 6, 22, 39, 6, 6, 38, 7, 6, 16, 9, 5])\n",
      "└ @ Main In[14]:64\n"
     ]
    },
    {
     "name": "stdout",
     "output_type": "stream",
     "text": [
      "Aopt1\n",
      "  2.088211 seconds (15.11 M allocations: 1.375 GiB, 8.83% gc time)\n"
     ]
    },
    {
     "name": "stderr",
     "output_type": "stream",
     "text": [
      "┌ Info: Genetic screen finished...\n",
      "└ @ Main In[14]:63\n",
      "┌ Info: (\"Aopt_motif\", Any[32, 47, 15, 2, 39, 44, 46, 23, 12, 5, 22, 37, 3, 9, 36, 6, 6, 16, 5, 5])\n",
      "└ @ Main In[14]:64\n"
     ]
    },
    {
     "name": "stdout",
     "output_type": "stream",
     "text": [
      "Aopt1\n",
      "  1.209148 seconds (8.67 M allocations: 808.538 MiB, 8.66% gc time)\n"
     ]
    },
    {
     "name": "stderr",
     "output_type": "stream",
     "text": [
      "┌ Info: Genetic screen finished...\n",
      "└ @ Main In[14]:63\n",
      "┌ Info: (\"Aopt_motif\", Any[34, 51, 18, 1, 41, 7, 48, 21, 11, 5, 21, 40, 3, 24, 37, 7, 6, 16, 7, 20])\n",
      "└ @ Main In[14]:64\n"
     ]
    },
    {
     "name": "stdout",
     "output_type": "stream",
     "text": [
      "Aopt1\n",
      "  1.884825 seconds (13.47 M allocations: 1.225 GiB, 8.57% gc time)\n"
     ]
    },
    {
     "name": "stderr",
     "output_type": "stream",
     "text": [
      "┌ Info: Genetic screen finished...\n",
      "└ @ Main In[14]:63\n",
      "┌ Info: (\"Aopt_motif\", Any[37, 49, 19, 5, 27, 42, 51, 27, 34, 10, 26, 41, 7, 11, 40, 10, 8, 22, 10, 7])\n",
      "└ @ Main In[14]:64\n"
     ]
    },
    {
     "name": "stdout",
     "output_type": "stream",
     "text": [
      "Aopt1\n",
      "  2.353501 seconds (17.13 M allocations: 1.558 GiB, 8.77% gc time)\n"
     ]
    },
    {
     "name": "stderr",
     "output_type": "stream",
     "text": [
      "┌ Info: Genetic screen finished...\n",
      "└ @ Main In[14]:63\n",
      "┌ Info: (\"Aopt_motif\", Any[37, 42, 19, 4, 43, 42, 51, 27, 16, 8, 24, 22, 7, 11, 40, 10, 8, 22, 7, 7])\n",
      "└ @ Main In[14]:64\n"
     ]
    },
    {
     "name": "stdout",
     "output_type": "stream",
     "text": [
      "Aopt1\n",
      "  1.890950 seconds (13.57 M allocations: 1.235 GiB, 8.73% gc time)\n"
     ]
    },
    {
     "name": "stderr",
     "output_type": "stream",
     "text": [
      "┌ Info: Genetic screen finished...\n",
      "└ @ Main In[14]:63\n",
      "┌ Info: (\"Aopt_motif\", Any[32, 47, 14, 46, 38, 5, 46, 22, 10, 3, 19, 36, 2, 6, 36, 6, 3, 13, 5, 2])\n",
      "└ @ Main In[14]:64\n"
     ]
    },
    {
     "name": "stdout",
     "output_type": "stream",
     "text": [
      "Aopt1\n",
      "  2.345549 seconds (16.83 M allocations: 1.531 GiB, 8.62% gc time)\n"
     ]
    },
    {
     "name": "stderr",
     "output_type": "stream",
     "text": [
      "┌ Info: Genetic screen finished...\n",
      "└ @ Main In[14]:63\n",
      "┌ Info: (\"Aopt_motif\", Any[35, 50, 17, 50, 42, 47, 49, 9, 14, 6, 23, 36, 7, 3, 38, 9, 6, 17, 8, 4])\n",
      "└ @ Main In[14]:64\n"
     ]
    },
    {
     "name": "stdout",
     "output_type": "stream",
     "text": [
      "Aopt1\n",
      "  1.359711 seconds (9.69 M allocations: 902.856 MiB, 8.77% gc time)\n"
     ]
    },
    {
     "name": "stderr",
     "output_type": "stream",
     "text": [
      "┌ Info: Genetic screen finished...\n",
      "└ @ Main In[14]:63\n",
      "┌ Info: (\"Aopt_motif\", Any[35, 51, 17, 2, 41, 46, 48, 25, 12, 6, 4, 23, 5, 3, 38, 8, 6, 16, 5, 5])\n",
      "└ @ Main In[14]:64\n"
     ]
    },
    {
     "name": "stdout",
     "output_type": "stream",
     "text": [
      "Aopt1\n",
      "  2.790729 seconds (20.33 M allocations: 1.849 GiB, 8.79% gc time)\n"
     ]
    },
    {
     "name": "stderr",
     "output_type": "stream",
     "text": [
      "┌ Info: Genetic screen finished...\n",
      "└ @ Main In[14]:63\n",
      "┌ Info: (\"Aopt_motif\", Any[35, 50, 18, 2, 41, 46, 49, 22, 14, 9, 22, 39, 5, 3, 38, 8, 6, 17, 8, 5])\n",
      "└ @ Main In[14]:64\n"
     ]
    },
    {
     "name": "stdout",
     "output_type": "stream",
     "text": [
      "Aopt1\n",
      "  1.032814 seconds (7.27 M allocations: 677.711 MiB, 8.57% gc time)\n"
     ]
    },
    {
     "name": "stderr",
     "output_type": "stream",
     "text": [
      "┌ Info: Genetic screen finished...\n",
      "└ @ Main In[14]:63\n",
      "┌ Info: (\"Aopt_motif\", Any[33, 50, 17, 50, 41, 26, 51, 23, 14, 4, 16, 39, 5, 9, 44, 2, 4, 17, 8, 5])\n",
      "└ @ Main In[14]:64\n"
     ]
    },
    {
     "name": "stdout",
     "output_type": "stream",
     "text": [
      "Aopt1\n",
      "  1.400703 seconds (10.07 M allocations: 938.845 MiB, 8.76% gc time)\n"
     ]
    },
    {
     "name": "stderr",
     "output_type": "stream",
     "text": [
      "┌ Info: Genetic screen finished...\n",
      "└ @ Main In[14]:63\n",
      "┌ Info: (\"Aopt_motif\", Any[35, 51, 18, 2, 40, 46, 51, 26, 14, 11, 22, 39, 6, 3, 37, 9, 6, 17, 7, 5])\n",
      "└ @ Main In[14]:64\n"
     ]
    },
    {
     "name": "stdout",
     "output_type": "stream",
     "text": [
      "Aopt1\n",
      "  1.697814 seconds (12.24 M allocations: 1.114 GiB, 8.77% gc time)\n"
     ]
    },
    {
     "name": "stderr",
     "output_type": "stream",
     "text": [
      "┌ Info: Genetic screen finished...\n",
      "└ @ Main In[14]:63\n",
      "┌ Info: (\"Aopt_motif\", Any[32, 50, 13, 1, 41, 45, 46, 25, 14, 5, 21, 38, 2, 25, 40, 7, 21, 16, 7, 4])\n",
      "└ @ Main In[14]:64\n"
     ]
    },
    {
     "name": "stdout",
     "output_type": "stream",
     "text": [
      "Aopt1\n",
      "  1.548011 seconds (11.15 M allocations: 1.015 GiB, 8.85% gc time)\n"
     ]
    },
    {
     "name": "stderr",
     "output_type": "stream",
     "text": [
      "┌ Info: Genetic screen finished...\n",
      "└ @ Main In[14]:63\n",
      "┌ Info: (\"Aopt_motif\", Any[34, 49, 14, 2, 43, 45, 48, 22, 13, 6, 23, 39, 5, 8, 38, 7, 6, 18, 8, 6])\n",
      "└ @ Main In[14]:64\n"
     ]
    },
    {
     "name": "stdout",
     "output_type": "stream",
     "text": [
      "Aopt1\n",
      "  0.840540 seconds (6.03 M allocations: 562.471 MiB, 8.54% gc time)\n"
     ]
    },
    {
     "name": "stderr",
     "output_type": "stream",
     "text": [
      "┌ Info: Genetic screen finished...\n",
      "└ @ Main In[14]:63\n",
      "┌ Info: (\"Aopt_motif\", Any[34, 50, 16, 1, 35, 45, 48, 24, 7, 6, 21, 38, 4, 3, 29, 7, 5, 16, 4, 20])\n",
      "└ @ Main In[14]:64\n"
     ]
    },
    {
     "name": "stdout",
     "output_type": "stream",
     "text": [
      "Aopt1\n",
      "  0.868604 seconds (6.14 M allocations: 572.763 MiB, 8.89% gc time)\n"
     ]
    },
    {
     "name": "stderr",
     "output_type": "stream",
     "text": [
      "┌ Info: Genetic screen finished...\n",
      "└ @ Main In[14]:63\n",
      "┌ Info: (\"Aopt_motif\", Any[35, 48, 17, 2, 8, 44, 49, 25, 16, 8, 22, 40, 3, 8, 39, 8, 5, 23, 8, 4])\n",
      "└ @ Main In[14]:64\n"
     ]
    },
    {
     "name": "stdout",
     "output_type": "stream",
     "text": [
      "Aopt1\n",
      "  4.160228 seconds (30.32 M allocations: 2.757 GiB, 8.85% gc time)\n"
     ]
    },
    {
     "name": "stderr",
     "output_type": "stream",
     "text": [
      "┌ Info: Genetic screen finished...\n",
      "└ @ Main In[14]:63\n",
      "┌ Info: (\"Aopt_motif\", Any[33, 48, 15, 1, 39, 44, 47, 23, 12, 4, 5, 37, 3, 7, 36, 6, 4, 15, 6, 3])\n",
      "└ @ Main In[14]:64\n"
     ]
    },
    {
     "name": "stdout",
     "output_type": "stream",
     "text": [
      "Aopt1\n",
      "  1.158001 seconds (8.29 M allocations: 772.602 MiB, 8.70% gc time)\n"
     ]
    },
    {
     "name": "stderr",
     "output_type": "stream",
     "text": [
      "┌ Info: Genetic screen finished...\n",
      "└ @ Main In[14]:63\n",
      "┌ Info: (\"Aopt_motif\", Any[32, 49, 16, 3, 40, 28, 48, 22, 10, 8, 21, 38, 6, 8, 41, 7, 11, 16, 4, 4])\n",
      "└ @ Main In[14]:64\n"
     ]
    },
    {
     "name": "stdout",
     "output_type": "stream",
     "text": [
      "Aopt1\n",
      "  3.069481 seconds (22.22 M allocations: 2.021 GiB, 8.99% gc time)\n"
     ]
    },
    {
     "name": "stderr",
     "output_type": "stream",
     "text": [
      "┌ Info: Genetic screen finished...\n",
      "└ @ Main In[14]:63\n",
      "┌ Info: (\"Aopt_motif\", Any[36, 50, 17, 2, 41, 45, 49, 26, 13, 6, 7, 39, 6, 9, 38, 8, 1, 17, 8, 5])\n",
      "└ @ Main In[14]:64\n"
     ]
    },
    {
     "name": "stdout",
     "output_type": "stream",
     "text": [
      "Aopt1\n",
      "  1.378578 seconds (9.78 M allocations: 911.048 MiB, 8.60% gc time)\n"
     ]
    },
    {
     "name": "stderr",
     "output_type": "stream",
     "text": [
      "┌ Info: Genetic screen finished...\n",
      "└ @ Main In[14]:63\n",
      "┌ Info: (\"Aopt_motif\", Any[33, 45, 21, 2, 39, 38, 47, 23, 10, 2, 20, 37, 4, 7, 36, 6, 3, 45, 7, 3])\n",
      "└ @ Main In[14]:64\n"
     ]
    },
    {
     "name": "stdout",
     "output_type": "stream",
     "text": [
      "Aopt1\n",
      "  1.082807 seconds (7.64 M allocations: 711.652 MiB, 8.76% gc time)\n"
     ]
    },
    {
     "name": "stderr",
     "output_type": "stream",
     "text": [
      "┌ Info: Genetic screen finished...\n",
      "└ @ Main In[14]:63\n",
      "┌ Info: (\"Aopt_motif\", Any[30, 49, 20, 1, 39, 44, 47, 29, 15, 6, 16, 37, 3, 10, 38, 9, 5, 19, 6, 2])\n",
      "└ @ Main In[14]:64\n"
     ]
    },
    {
     "name": "stdout",
     "output_type": "stream",
     "text": [
      "Aopt1\n",
      "  1.169315 seconds (8.31 M allocations: 774.910 MiB, 8.63% gc time)\n"
     ]
    },
    {
     "name": "stderr",
     "output_type": "stream",
     "text": [
      "┌ Info: Genetic screen finished...\n",
      "└ @ Main In[14]:63\n",
      "┌ Info: (\"Aopt_motif\", Any[34, 50, 17, 2, 42, 46, 33, 25, 32, 6, 7, 39, 5, 9, 38, 13, 6, 14, 8, 51])\n",
      "└ @ Main In[14]:64\n"
     ]
    },
    {
     "name": "stdout",
     "output_type": "stream",
     "text": [
      "Aopt1\n",
      "  2.979132 seconds (21.20 M allocations: 1.928 GiB, 8.81% gc time)\n"
     ]
    },
    {
     "name": "stderr",
     "output_type": "stream",
     "text": [
      "┌ Info: Genetic screen finished...\n",
      "└ @ Main In[14]:63\n",
      "┌ Info: (\"Aopt_motif\", Any[17, 51, 19, 3, 42, 47, 50, 10, 16, 7, 23, 43, 9, 30, 39, 9, 7, 18, 10, 7])\n",
      "└ @ Main In[14]:64\n"
     ]
    },
    {
     "name": "stdout",
     "output_type": "stream",
     "text": [
      "Aopt1\n",
      "  1.693632 seconds (12.07 M allocations: 1.098 GiB, 8.86% gc time)\n"
     ]
    },
    {
     "name": "stderr",
     "output_type": "stream",
     "text": [
      "┌ Info: Genetic screen finished...\n",
      "└ @ Main In[14]:63\n",
      "┌ Info: (\"Aopt_motif\", Any[31, 47, 13, 43, 37, 4, 45, 21, 10, 23, 18, 35, 1, 21, 34, 4, 7, 13, 2, 1])\n",
      "└ @ Main In[14]:64\n"
     ]
    },
    {
     "name": "stdout",
     "output_type": "stream",
     "text": [
      "Aopt1\n",
      "  2.439872 seconds (17.55 M allocations: 1.596 GiB, 8.87% gc time)\n"
     ]
    },
    {
     "name": "stderr",
     "output_type": "stream",
     "text": [
      "┌ Info: Genetic screen finished...\n",
      "└ @ Main In[14]:63\n",
      "┌ Info: (\"Aopt_motif\", Any[32, 50, 15, 1, 39, 45, 33, 24, 11, 3, 20, 37, 3, 7, 37, 6, 4, 21, 6, 3])\n",
      "└ @ Main In[14]:64\n"
     ]
    },
    {
     "name": "stdout",
     "output_type": "stream",
     "text": [
      "Aopt1\n",
      "  2.832340 seconds (20.46 M allocations: 1.861 GiB, 8.87% gc time)\n"
     ]
    },
    {
     "name": "stderr",
     "output_type": "stream",
     "text": [
      "┌ Info: Genetic screen finished...\n",
      "└ @ Main In[14]:63\n",
      "┌ Info: (\"Aopt_motif\", Any[32, 48, 14, 1, 38, 46, 47, 21, 11, 2, 21, 37, 2, 7, 35, 6, 3, 15, 5, 2])\n",
      "└ @ Main In[14]:64\n"
     ]
    },
    {
     "name": "stdout",
     "output_type": "stream",
     "text": [
      "Aopt1\n",
      "  1.794060 seconds (12.91 M allocations: 1.175 GiB, 8.86% gc time)\n"
     ]
    },
    {
     "name": "stderr",
     "output_type": "stream",
     "text": [
      "┌ Info: Genetic screen finished...\n",
      "└ @ Main In[14]:63\n",
      "┌ Info: (\"Aopt_motif\", Any[34, 51, 16, 7, 35, 45, 48, 24, 15, 5, 20, 38, 4, 8, 38, 7, 4, 16, 4, 4])\n",
      "└ @ Main In[14]:64\n"
     ]
    },
    {
     "name": "stdout",
     "output_type": "stream",
     "text": [
      "Aopt1\n",
      "  1.907391 seconds (13.42 M allocations: 1.221 GiB, 8.79% gc time)\n"
     ]
    },
    {
     "name": "stderr",
     "output_type": "stream",
     "text": [
      "┌ Info: Genetic screen finished...\n",
      "└ @ Main In[14]:63\n",
      "┌ Info: (\"Aopt_motif\", Any[37, 36, 19, 4, 43, 50, 51, 26, 16, 8, 8, 38, 7, 8, 40, 10, 5, 35, 10, 8])\n",
      "└ @ Main In[14]:64\n"
     ]
    },
    {
     "name": "stdout",
     "output_type": "stream",
     "text": [
      "Aopt1\n",
      "  1.034208 seconds (7.36 M allocations: 686.583 MiB, 8.73% gc time)\n"
     ]
    },
    {
     "name": "stderr",
     "output_type": "stream",
     "text": [
      "┌ Info: Genetic screen finished...\n",
      "└ @ Main In[14]:63\n",
      "┌ Info: (\"Aopt_motif\", Any[32, 47, 15, 3, 39, 41, 47, 23, 10, 6, 23, 11, 3, 8, 36, 7, 4, 12, 6, 2])\n",
      "└ @ Main In[14]:64\n"
     ]
    },
    {
     "name": "stdout",
     "output_type": "stream",
     "text": [
      "Aopt1\n",
      "  1.879306 seconds (13.50 M allocations: 1.228 GiB, 8.97% gc time)\n"
     ]
    },
    {
     "name": "stderr",
     "output_type": "stream",
     "text": [
      "┌ Info: Genetic screen finished...\n",
      "└ @ Main In[14]:63\n",
      "┌ Info: (\"Aopt_motif\", Any[36, 51, 17, 4, 42, 47, 50, 24, 14, 7, 7, 40, 6, 10, 39, 8, 7, 18, 9, 6])\n",
      "└ @ Main In[14]:64\n"
     ]
    },
    {
     "name": "stdout",
     "output_type": "stream",
     "text": [
      "Aopt1\n",
      "  1.684884 seconds (12.18 M allocations: 1.108 GiB, 9.00% gc time)\n"
     ]
    },
    {
     "name": "stderr",
     "output_type": "stream",
     "text": [
      "┌ Info: Genetic screen finished...\n",
      "└ @ Main In[14]:63\n",
      "┌ Info: (\"Aopt_motif\", Any[36, 51, 17, 2, 41, 40, 49, 26, 14, 6, 22, 19, 5, 9, 38, 14, 6, 16, 8, 4])\n",
      "└ @ Main In[14]:64\n"
     ]
    },
    {
     "name": "stdout",
     "output_type": "stream",
     "text": [
      "Aopt1\n",
      "  2.680271 seconds (19.52 M allocations: 1.775 GiB, 9.00% gc time)\n"
     ]
    },
    {
     "name": "stderr",
     "output_type": "stream",
     "text": [
      "┌ Info: Genetic screen finished...\n",
      "└ @ Main In[14]:63\n",
      "┌ Info: (\"Aopt_motif\", Any[34, 49, 16, 1, 41, 45, 49, 24, 13, 5, 21, 38, 11, 8, 38, 7, 5, 17, 7, 5])\n",
      "└ @ Main In[14]:64\n"
     ]
    },
    {
     "name": "stdout",
     "output_type": "stream",
     "text": [
      "Aopt1\n",
      "  3.918868 seconds (27.55 M allocations: 2.505 GiB, 8.69% gc time)\n"
     ]
    },
    {
     "name": "stderr",
     "output_type": "stream",
     "text": [
      "┌ Info: Genetic screen finished...\n",
      "└ @ Main In[14]:63\n",
      "┌ Info: (\"Aopt_motif\", Any[36, 32, 19, 5, 42, 9, 50, 26, 17, 7, 23, 40, 5, 10, 39, 9, 17, 37, 9, 6])\n",
      "└ @ Main In[14]:64\n"
     ]
    },
    {
     "name": "stdout",
     "output_type": "stream",
     "text": [
      "Aopt1\n",
      "  1.924013 seconds (13.87 M allocations: 1.261 GiB, 8.93% gc time)\n"
     ]
    },
    {
     "name": "stderr",
     "output_type": "stream",
     "text": [
      "┌ Info: Genetic screen finished...\n",
      "└ @ Main In[14]:63\n",
      "┌ Info: (\"Aopt_motif\", Any[34, 50, 16, 48, 40, 45, 47, 24, 13, 5, 5, 38, 4, 10, 36, 7, 5, 16, 6, 4])\n",
      "└ @ Main In[14]:64\n"
     ]
    },
    {
     "name": "stdout",
     "output_type": "stream",
     "text": [
      "Aopt1\n",
      "  0.991566 seconds (7.06 M allocations: 658.018 MiB, 8.85% gc time)\n"
     ]
    },
    {
     "name": "stderr",
     "output_type": "stream",
     "text": [
      "┌ Info: Genetic screen finished...\n",
      "└ @ Main In[14]:63\n",
      "┌ Info: (\"Aopt_motif\", Any[34, 50, 17, 3, 39, 42, 45, 24, 11, 5, 21, 38, 4, 11, 38, 7, 5, 15, 8, 4])\n",
      "└ @ Main In[14]:64\n"
     ]
    },
    {
     "name": "stdout",
     "output_type": "stream",
     "text": [
      "Aopt1\n",
      "  1.609662 seconds (11.55 M allocations: 1.051 GiB, 8.89% gc time)\n"
     ]
    },
    {
     "name": "stderr",
     "output_type": "stream",
     "text": [
      "┌ Info: Genetic screen finished...\n",
      "└ @ Main In[14]:63\n",
      "┌ Info: (\"Aopt_motif\", Any[36, 51, 18, 2, 40, 45, 50, 27, 17, 10, 23, 40, 5, 13, 39, 8, 8, 18, 9, 6])\n",
      "└ @ Main In[14]:64\n"
     ]
    },
    {
     "name": "stdout",
     "output_type": "stream",
     "text": [
      "Aopt1\n",
      "  2.963212 seconds (21.46 M allocations: 1.952 GiB, 9.06% gc time)\n"
     ]
    },
    {
     "name": "stderr",
     "output_type": "stream",
     "text": [
      "┌ Info: Genetic screen finished...\n",
      "└ @ Main In[14]:63\n",
      "┌ Info: (\"Aopt_motif\", Any[35, 50, 17, 2, 41, 46, 49, 22, 14, 6, 22, 39, 5, 26, 38, 8, 6, 23, 8, 5])\n",
      "└ @ Main In[14]:64\n"
     ]
    },
    {
     "name": "stdout",
     "output_type": "stream",
     "text": [
      "Aopt1\n",
      "  1.310540 seconds (9.39 M allocations: 874.549 MiB, 9.01% gc time)\n"
     ]
    },
    {
     "name": "stderr",
     "output_type": "stream",
     "text": [
      "┌ Info: Genetic screen finished...\n",
      "└ @ Main In[14]:63\n",
      "┌ Info: (\"Aopt_motif\", Any[35, 50, 19, 2, 41, 46, 47, 25, 12, 4, 22, 19, 5, 15, 38, 8, 6, 17, 9, 5])\n",
      "└ @ Main In[14]:64\n"
     ]
    },
    {
     "name": "stdout",
     "output_type": "stream",
     "text": [
      "Aopt1\n",
      "  1.686904 seconds (12.04 M allocations: 1.095 GiB, 8.92% gc time)\n"
     ]
    },
    {
     "name": "stderr",
     "output_type": "stream",
     "text": [
      "┌ Info: Genetic screen finished...\n",
      "└ @ Main In[14]:63\n",
      "┌ Info: (\"Aopt_motif\", Any[35, 50, 17, 2, 42, 46, 49, 26, 14, 9, 22, 19, 5, 9, 39, 8, 22, 16, 6, 21])\n",
      "└ @ Main In[14]:64\n"
     ]
    },
    {
     "name": "stdout",
     "output_type": "stream",
     "text": [
      "Aopt1\n",
      "  1.828695 seconds (13.18 M allocations: 1.199 GiB, 8.97% gc time)\n"
     ]
    },
    {
     "name": "stderr",
     "output_type": "stream",
     "text": [
      "┌ Info: Genetic screen finished...\n",
      "└ @ Main In[14]:63\n",
      "┌ Info: (\"Aopt_motif\", Any[35, 50, 17, 3, 41, 46, 49, 9, 12, 6, 22, 39, 7, 9, 38, 8, 6, 41, 8, 5])\n",
      "└ @ Main In[14]:64\n"
     ]
    },
    {
     "name": "stdout",
     "output_type": "stream",
     "text": [
      "Aopt1\n",
      "  4.376299 seconds (31.90 M allocations: 2.900 GiB, 9.08% gc time)\n"
     ]
    },
    {
     "name": "stderr",
     "output_type": "stream",
     "text": [
      "┌ Info: Genetic screen finished...\n",
      "└ @ Main In[14]:63\n",
      "┌ Info: (\"Aopt_motif\", Any[34, 49, 16, 2, 40, 45, 48, 24, 13, 4, 21, 38, 4, 2, 37, 7, 4, 16, 7, 4])\n",
      "└ @ Main In[14]:64\n"
     ]
    },
    {
     "name": "stdout",
     "output_type": "stream",
     "text": [
      "Aopt1\n",
      "  3.353191 seconds (24.18 M allocations: 2.200 GiB, 8.98% gc time)\n"
     ]
    },
    {
     "name": "stderr",
     "output_type": "stream",
     "text": [
      "┌ Info: Genetic screen finished...\n",
      "└ @ Main In[14]:63\n",
      "┌ Info: (\"Aopt_motif\", Any[35, 50, 17, 2, 36, 40, 49, 9, 16, 6, 22, 39, 6, 9, 38, 8, 6, 17, 8, 4])\n",
      "└ @ Main In[14]:64\n"
     ]
    },
    {
     "name": "stdout",
     "output_type": "stream",
     "text": [
      "Aopt1\n",
      "  2.294063 seconds (16.92 M allocations: 1.540 GiB, 9.18% gc time)\n"
     ]
    },
    {
     "name": "stderr",
     "output_type": "stream",
     "text": [
      "┌ Info: Genetic screen finished...\n",
      "└ @ Main In[14]:63\n",
      "┌ Info: (\"Aopt_motif\", Any[33, 49, 16, 1, 40, 45, 48, 27, 13, 5, 21, 38, 4, 8, 37, 7, 5, 16, 7, 4])\n",
      "└ @ Main In[14]:64\n"
     ]
    },
    {
     "name": "stdout",
     "output_type": "stream",
     "text": [
      "Aopt1\n",
      "  2.493515 seconds (17.95 M allocations: 1.634 GiB, 8.90% gc time)\n"
     ]
    },
    {
     "name": "stderr",
     "output_type": "stream",
     "text": [
      "┌ Info: Genetic screen finished...\n",
      "└ @ Main In[14]:63\n",
      "┌ Info: (\"Aopt_motif\", Any[32, 48, 14, 2, 40, 44, 46, 23, 11, 4, 38, 37, 3, 7, 34, 7, 4, 15, 6, 3])\n",
      "└ @ Main In[14]:64\n"
     ]
    },
    {
     "name": "stdout",
     "output_type": "stream",
     "text": [
      "Aopt1\n",
      "  2.333574 seconds (16.77 M allocations: 1.526 GiB, 9.03% gc time)\n"
     ]
    },
    {
     "name": "stderr",
     "output_type": "stream",
     "text": [
      "┌ Info: Genetic screen finished...\n",
      "└ @ Main In[14]:63\n",
      "┌ Info: (\"Aopt_motif\", Any[34, 49, 18, 3, 42, 47, 48, 26, 15, 7, 7, 40, 6, 13, 39, 7, 7, 18, 10, 4])\n",
      "└ @ Main In[14]:64\n"
     ]
    },
    {
     "name": "stdout",
     "output_type": "stream",
     "text": [
      "Aopt1\n",
      "  2.552119 seconds (18.18 M allocations: 1.654 GiB, 8.84% gc time)\n"
     ]
    },
    {
     "name": "stderr",
     "output_type": "stream",
     "text": [
      "┌ Info: Genetic screen finished...\n",
      "└ @ Main In[14]:63\n",
      "┌ Info: (\"Aopt_motif\", Any[37, 35, 16, 4, 43, 10, 51, 11, 13, 8, 24, 41, 4, 17, 41, 10, 8, 19, 10, 7])\n",
      "└ @ Main In[14]:64\n"
     ]
    },
    {
     "name": "stdout",
     "output_type": "stream",
     "text": [
      "Aopt1\n",
      "  4.309382 seconds (31.47 M allocations: 2.863 GiB, 9.14% gc time)\n"
     ]
    },
    {
     "name": "stderr",
     "output_type": "stream",
     "text": [
      "┌ Info: Genetic screen finished...\n",
      "└ @ Main In[14]:63\n",
      "┌ Info: (\"Aopt_motif\", Any[35, 49, 16, 3, 40, 45, 48, 24, 13, 5, 21, 38, 4, 8, 37, 7, 5, 16, 7, 4])\n",
      "└ @ Main In[14]:64\n"
     ]
    },
    {
     "name": "stdout",
     "output_type": "stream",
     "text": [
      "Aopt1\n",
      "  1.660765 seconds (11.95 M allocations: 1.088 GiB, 9.02% gc time)\n"
     ]
    },
    {
     "name": "stderr",
     "output_type": "stream",
     "text": [
      "┌ Info: Genetic screen finished...\n",
      "└ @ Main In[14]:63\n",
      "┌ Info: (\"Aopt_motif\", Any[35, 49, 16, 1, 46, 45, 47, 24, 13, 8, 21, 38, 10, 11, 37, 7, 5, 40, 7, 2])\n",
      "└ @ Main In[14]:64\n"
     ]
    },
    {
     "name": "stdout",
     "output_type": "stream",
     "text": [
      "Aopt1\n",
      "  2.633895 seconds (18.70 M allocations: 1.701 GiB, 8.95% gc time)\n"
     ]
    },
    {
     "name": "stderr",
     "output_type": "stream",
     "text": [
      "┌ Info: Genetic screen finished...\n",
      "└ @ Main In[14]:63\n",
      "┌ Info: (\"Aopt_motif\", Any[31, 45, 13, 44, 37, 42, 45, 21, 9, 27, 20, 35, 1, 21, 34, 5, 2, 13, 4, 1])\n",
      "└ @ Main In[14]:64\n"
     ]
    },
    {
     "name": "stdout",
     "output_type": "stream",
     "text": [
      "Aopt1\n",
      "  1.136698 seconds (8.10 M allocations: 755.666 MiB, 8.82% gc time)\n"
     ]
    },
    {
     "name": "stderr",
     "output_type": "stream",
     "text": [
      "┌ Info: Genetic screen finished...\n",
      "└ @ Main In[14]:63\n",
      "┌ Info: (\"Aopt_motif\", Any[36, 50, 19, 2, 41, 47, 48, 28, 17, 5, 22, 39, 5, 9, 38, 9, 9, 20, 7, 4])\n",
      "└ @ Main In[14]:64\n"
     ]
    },
    {
     "name": "stdout",
     "output_type": "stream",
     "text": [
      "Aopt1\n",
      "  3.176034 seconds (22.99 M allocations: 2.092 GiB, 9.10% gc time)\n"
     ]
    },
    {
     "name": "stderr",
     "output_type": "stream",
     "text": [
      "┌ Info: Genetic screen finished...\n",
      "└ @ Main In[14]:63\n",
      "┌ Info: (\"Aopt_motif\", Any[34, 49, 16, 1, 40, 45, 48, 24, 13, 30, 22, 37, 4, 2, 37, 5, 5, 17, 7, 4])\n",
      "└ @ Main In[14]:64\n"
     ]
    },
    {
     "name": "stdout",
     "output_type": "stream",
     "text": [
      "Aopt1\n",
      "  1.586889 seconds (11.34 M allocations: 1.032 GiB, 9.11% gc time)\n"
     ]
    },
    {
     "name": "stderr",
     "output_type": "stream",
     "text": [
      "┌ Info: Genetic screen finished...\n",
      "└ @ Main In[14]:63\n",
      "┌ Info: (\"Aopt_motif\", Any[32, 49, 15, 47, 39, 44, 44, 23, 12, 9, 20, 51, 9, 7, 36, 6, 4, 15, 6, 3])\n",
      "└ @ Main In[14]:64\n"
     ]
    },
    {
     "name": "stdout",
     "output_type": "stream",
     "text": [
      "Aopt1\n",
      "  2.963610 seconds (21.23 M allocations: 1.932 GiB, 8.95% gc time)\n"
     ]
    },
    {
     "name": "stderr",
     "output_type": "stream",
     "text": [
      "┌ Info: Genetic screen finished...\n",
      "└ @ Main In[14]:63\n",
      "┌ Info: (\"Aopt_motif\", Any[36, 51, 18, 3, 42, 47, 49, 26, 15, 7, 7, 40, 13, 10, 38, 8, 7, 18, 9, 5])\n",
      "└ @ Main In[14]:64\n"
     ]
    },
    {
     "name": "stdout",
     "output_type": "stream",
     "text": [
      "Aopt1\n",
      "  3.904901 seconds (28.04 M allocations: 2.551 GiB, 9.01% gc time)\n"
     ]
    },
    {
     "name": "stderr",
     "output_type": "stream",
     "text": [
      "┌ Info: Genetic screen finished...\n",
      "└ @ Main In[14]:63\n",
      "┌ Info: (\"Aopt_motif\", Any[37, 33, 19, 4, 43, 48, 51, 27, 34, 8, 24, 15, 7, 11, 40, 10, 8, 19, 10, 7])\n",
      "└ @ Main In[14]:64\n"
     ]
    },
    {
     "name": "stdout",
     "output_type": "stream",
     "text": [
      "Aopt1\n",
      "  2.978322 seconds (21.70 M allocations: 1.975 GiB, 9.23% gc time)\n"
     ]
    },
    {
     "name": "stderr",
     "output_type": "stream",
     "text": [
      "┌ Info: Genetic screen finished...\n",
      "└ @ Main In[14]:63\n",
      "┌ Info: (\"Aopt_motif\", Any[34, 49, 16, 1, 40, 7, 48, 24, 13, 5, 6, 38, 5, 8, 37, 7, 5, 22, 7, 50])\n",
      "└ @ Main In[14]:64\n"
     ]
    },
    {
     "name": "stdout",
     "output_type": "stream",
     "text": [
      "Aopt1\n",
      "  2.844912 seconds (20.49 M allocations: 1.864 GiB, 9.05% gc time)\n"
     ]
    },
    {
     "name": "stderr",
     "output_type": "stream",
     "text": [
      "┌ Info: Genetic screen finished...\n",
      "└ @ Main In[14]:63\n",
      "┌ Info: (\"Aopt_motif\", Any[35, 50, 17, 3, 41, 46, 49, 25, 13, 9, 23, 39, 5, 4, 38, 8, 6, 41, 5, 5])\n",
      "└ @ Main In[14]:64\n"
     ]
    },
    {
     "name": "stdout",
     "output_type": "stream",
     "text": [
      "Aopt1\n",
      "  2.818430 seconds (20.22 M allocations: 1.840 GiB, 9.06% gc time)\n"
     ]
    },
    {
     "name": "stderr",
     "output_type": "stream",
     "text": [
      "┌ Info: Genetic screen finished...\n",
      "└ @ Main In[14]:63\n",
      "┌ Info: (\"Aopt_motif\", Any[32, 47, 14, 1, 38, 43, 46, 22, 10, 3, 4, 36, 2, 6, 36, 5, 2, 14, 5, 2])\n",
      "└ @ Main In[14]:64\n"
     ]
    },
    {
     "name": "stdout",
     "output_type": "stream",
     "text": [
      "Aopt1\n",
      "  3.355471 seconds (24.11 M allocations: 2.194 GiB, 9.10% gc time)\n"
     ]
    },
    {
     "name": "stderr",
     "output_type": "stream",
     "text": [
      "┌ Info: Genetic screen finished...\n",
      "└ @ Main In[14]:63\n",
      "┌ Info: (\"Aopt_motif\", Any[30, 47, 14, 2, 38, 44, 46, 23, 11, 3, 19, 36, 4, 23, 35, 5, 3, 15, 5, 2])\n",
      "└ @ Main In[14]:64\n"
     ]
    },
    {
     "name": "stdout",
     "output_type": "stream",
     "text": [
      "Aopt1\n",
      "  4.856953 seconds (35.06 M allocations: 3.190 GiB, 9.10% gc time)\n"
     ]
    },
    {
     "name": "stderr",
     "output_type": "stream",
     "text": [
      "┌ Info: Genetic screen finished...\n",
      "└ @ Main In[14]:63\n",
      "┌ Info: (\"Aopt_motif\", Any[35, 51, 18, 3, 42, 46, 50, 26, 17, 7, 23, 40, 6, 10, 39, 9, 7, 18, 9, 5])\n",
      "└ @ Main In[14]:64\n"
     ]
    },
    {
     "name": "stdout",
     "output_type": "stream",
     "text": [
      "Aopt1\n",
      "  4.310849 seconds (31.32 M allocations: 2.849 GiB, 9.22% gc time)\n"
     ]
    },
    {
     "name": "stderr",
     "output_type": "stream",
     "text": [
      "┌ Info: Genetic screen finished...\n",
      "└ @ Main In[14]:63\n",
      "┌ Info: (\"Aopt_motif\", Any[35, 50, 17, 2, 41, 46, 49, 25, 14, 6, 7, 39, 5, 9, 37, 8, 5, 17, 8, 21])\n",
      "└ @ Main In[14]:64\n"
     ]
    },
    {
     "name": "stdout",
     "output_type": "stream",
     "text": [
      "Aopt1\n",
      "  2.342868 seconds (17.01 M allocations: 1.548 GiB, 9.13% gc time)\n"
     ]
    },
    {
     "name": "stderr",
     "output_type": "stream",
     "text": [
      "┌ Info: Genetic screen finished...\n",
      "└ @ Main In[14]:63\n",
      "┌ Info: (\"Aopt_motif\", Any[35, 50, 14, 2, 41, 3, 49, 25, 14, 6, 22, 13, 5, 26, 38, 8, 6, 17, 9, 5])\n",
      "└ @ Main In[14]:64\n"
     ]
    },
    {
     "name": "stdout",
     "output_type": "stream",
     "text": [
      "Aopt1\n",
      "  1.947577 seconds (13.98 M allocations: 1.272 GiB, 9.17% gc time)\n"
     ]
    },
    {
     "name": "stderr",
     "output_type": "stream",
     "text": [
      "┌ Info: Genetic screen finished...\n",
      "└ @ Main In[14]:63\n",
      "┌ Info: (\"Aopt_motif\", Any[34, 49, 16, 1, 41, 45, 48, 24, 15, 5, 21, 38, 4, 24, 29, 7, 5, 14, 6, 2])\n",
      "└ @ Main In[14]:64\n"
     ]
    },
    {
     "name": "stdout",
     "output_type": "stream",
     "text": [
      "Aopt1\n",
      "  2.252752 seconds (16.12 M allocations: 1.467 GiB, 8.96% gc time)\n"
     ]
    },
    {
     "name": "stderr",
     "output_type": "stream",
     "text": [
      "┌ Info: Genetic screen finished...\n",
      "└ @ Main In[14]:63\n",
      "┌ Info: (\"Aopt_motif\", Any[36, 51, 18, 3, 42, 41, 50, 26, 14, 7, 23, 40, 5, 10, 39, 9, 6, 18, 9, 25])\n",
      "└ @ Main In[14]:64\n"
     ]
    },
    {
     "name": "stdout",
     "output_type": "stream",
     "text": [
      "Aopt1\n",
      "  2.387048 seconds (17.17 M allocations: 1.563 GiB, 9.21% gc time)\n"
     ]
    },
    {
     "name": "stderr",
     "output_type": "stream",
     "text": [
      "┌ Info: Genetic screen finished...\n",
      "└ @ Main In[14]:63\n",
      "┌ Info: (\"Aopt_motif\", Any[34, 49, 16, 1, 46, 45, 49, 24, 12, 5, 5, 46, 4, 8, 40, 8, 4, 19, 7, 3])\n",
      "└ @ Main In[14]:64\n"
     ]
    },
    {
     "name": "stdout",
     "output_type": "stream",
     "text": [
      "Aopt1\n",
      "  2.893601 seconds (21.13 M allocations: 1.923 GiB, 9.26% gc time)\n"
     ]
    },
    {
     "name": "stderr",
     "output_type": "stream",
     "text": [
      "┌ Info: Genetic screen finished...\n",
      "└ @ Main In[14]:63\n",
      "┌ Info: (\"Aopt_motif\", Any[34, 49, 17, 2, 41, 45, 48, 24, 13, 5, 21, 38, 4, 8, 37, 7, 5, 16, 7, 20])\n",
      "└ @ Main In[14]:64\n"
     ]
    },
    {
     "name": "stdout",
     "output_type": "stream",
     "text": [
      "Aopt1\n",
      "  1.610774 seconds (11.48 M allocations: 1.045 GiB, 8.87% gc time)\n"
     ]
    },
    {
     "name": "stderr",
     "output_type": "stream",
     "text": [
      "┌ Info: Genetic screen finished...\n",
      "└ @ Main In[14]:63\n",
      "┌ Info: (\"Aopt_motif\", Any[33, 49, 15, 1, 36, 44, 47, 25, 13, 3, 20, 37, 3, 8, 36, 6, 4, 16, 6, 3])\n",
      "└ @ Main In[14]:64\n"
     ]
    },
    {
     "name": "stdout",
     "output_type": "stream",
     "text": [
      "Aopt1\n",
      "  2.543570 seconds (18.54 M allocations: 1.687 GiB, 9.24% gc time)\n"
     ]
    },
    {
     "name": "stderr",
     "output_type": "stream",
     "text": [
      "┌ Info: Genetic screen finished...\n",
      "└ @ Main In[14]:63\n",
      "┌ Info: (\"Aopt_motif\", Any[34, 48, 16, 1, 40, 45, 48, 24, 11, 5, 21, 12, 6, 8, 37, 7, 5, 16, 7, 20])\n",
      "└ @ Main In[14]:64\n"
     ]
    },
    {
     "name": "stdout",
     "output_type": "stream",
     "text": [
      "Aopt1\n",
      "  2.215766 seconds (15.97 M allocations: 1.453 GiB, 9.19% gc time)\n"
     ]
    },
    {
     "name": "stderr",
     "output_type": "stream",
     "text": [
      "┌ Info: Genetic screen finished...\n",
      "└ @ Main In[14]:63\n",
      "┌ Info: (\"Aopt_motif\", Any[33, 48, 16, 2, 40, 45, 47, 24, 13, 30, 20, 18, 4, 8, 37, 7, 5, 16, 7, 3])\n",
      "└ @ Main In[14]:64\n"
     ]
    },
    {
     "name": "stdout",
     "output_type": "stream",
     "text": [
      "Aopt1\n",
      "  4.223859 seconds (30.28 M allocations: 2.755 GiB, 9.16% gc time)\n"
     ]
    },
    {
     "name": "stderr",
     "output_type": "stream",
     "text": [
      "┌ Info: Genetic screen finished...\n",
      "└ @ Main In[14]:63\n",
      "┌ Info: (\"Aopt_motif\", Any[35, 50, 51, 2, 41, 46, 49, 25, 16, 6, 23, 19, 5, 12, 38, 8, 5, 17, 9, 5])\n",
      "└ @ Main In[14]:64\n"
     ]
    },
    {
     "name": "stdout",
     "output_type": "stream",
     "text": [
      "Aopt1\n",
      "  1.299785 seconds (9.22 M allocations: 859.384 MiB, 9.19% gc time)\n"
     ]
    },
    {
     "name": "stderr",
     "output_type": "stream",
     "text": [
      "┌ Info: Genetic screen finished...\n",
      "└ @ Main In[14]:63\n",
      "┌ Info: (\"Aopt_motif\", Any[34, 49, 15, 3, 40, 45, 48, 22, 13, 28, 21, 12, 6, 8, 37, 7, 6, 42, 7, 4])\n",
      "└ @ Main In[14]:64\n"
     ]
    },
    {
     "name": "stdout",
     "output_type": "stream",
     "text": [
      "Aopt1\n",
      "  3.635711 seconds (26.84 M allocations: 2.442 GiB, 9.53% gc time)\n"
     ]
    },
    {
     "name": "stderr",
     "output_type": "stream",
     "text": [
      "┌ Info: Genetic screen finished...\n",
      "└ @ Main In[14]:63\n",
      "┌ Info: (\"Aopt_motif\", Any[34, 49, 16, 1, 40, 45, 48, 24, 13, 5, 20, 38, 4, 8, 37, 7, 3, 16, 7, 4])\n",
      "└ @ Main In[14]:64\n"
     ]
    },
    {
     "name": "stdout",
     "output_type": "stream",
     "text": [
      "Aopt1\n",
      "  3.222597 seconds (23.51 M allocations: 2.139 GiB, 9.30% gc time)\n"
     ]
    },
    {
     "name": "stderr",
     "output_type": "stream",
     "text": [
      "┌ Info: Genetic screen finished...\n",
      "└ @ Main In[14]:63\n",
      "┌ Info: (\"Aopt_motif\", Any[34, 50, 17, 2, 41, 40, 49, 25, 14, 6, 22, 39, 5, 9, 37, 8, 6, 17, 8, 5])\n",
      "└ @ Main In[14]:64\n"
     ]
    },
    {
     "name": "stdout",
     "output_type": "stream",
     "text": [
      "Aopt1\n",
      "  3.624317 seconds (25.89 M allocations: 2.355 GiB, 9.17% gc time)\n"
     ]
    },
    {
     "name": "stderr",
     "output_type": "stream",
     "text": [
      "┌ Info: Genetic screen finished...\n",
      "└ @ Main In[14]:63\n",
      "┌ Info: (\"Aopt_motif\", Any[37, 33, 25, 6, 43, 48, 51, 27, 16, 8, 26, 41, 4, 11, 40, 11, 8, 19, 10, 7])\n",
      "└ @ Main In[14]:64\n"
     ]
    },
    {
     "name": "stdout",
     "output_type": "stream",
     "text": [
      "Aopt1\n",
      "  1.635836 seconds (11.65 M allocations: 1.060 GiB, 9.16% gc time)\n"
     ]
    },
    {
     "name": "stderr",
     "output_type": "stream",
     "text": [
      "┌ Info: Genetic screen finished...\n",
      "└ @ Main In[14]:63\n",
      "┌ Info: (\"Aopt_motif\", Any[37, 46, 19, 4, 43, 42, 51, 28, 16, 31, 24, 41, 7, 31, 40, 10, 8, 19, 16, 7])\n",
      "└ @ Main In[14]:64\n"
     ]
    },
    {
     "name": "stdout",
     "output_type": "stream",
     "text": [
      "Aopt1\n",
      "  3.436205 seconds (24.70 M allocations: 2.247 GiB, 9.19% gc time)\n"
     ]
    },
    {
     "name": "stderr",
     "output_type": "stream",
     "text": [
      "┌ Info: Genetic screen finished...\n",
      "└ @ Main In[14]:63\n",
      "┌ Info: (\"Aopt_motif\", Any[36, 50, 18, 3, 44, 46, 50, 26, 15, 7, 22, 40, 6, 10, 39, 9, 7, 42, 9, 6])\n",
      "└ @ Main In[14]:64\n"
     ]
    },
    {
     "name": "stdout",
     "output_type": "stream",
     "text": [
      "Aopt1\n",
      "  3.912474 seconds (28.15 M allocations: 2.561 GiB, 9.21% gc time)\n"
     ]
    },
    {
     "name": "stderr",
     "output_type": "stream",
     "text": [
      "┌ Info: Genetic screen finished...\n",
      "└ @ Main In[14]:63\n",
      "┌ Info: (\"Aopt_motif\", Any[33, 48, 15, 1, 39, 44, 47, 23, 12, 4, 38, 37, 3, 7, 36, 6, 4, 16, 6, 3])\n",
      "└ @ Main In[14]:64\n"
     ]
    },
    {
     "name": "stdout",
     "output_type": "stream",
     "text": [
      "Aopt1\n",
      "  1.908972 seconds (13.62 M allocations: 1.239 GiB, 9.16% gc time)\n"
     ]
    },
    {
     "name": "stderr",
     "output_type": "stream",
     "text": [
      "┌ Info: Genetic screen finished...\n",
      "└ @ Main In[14]:63\n",
      "┌ Info: (\"Aopt_motif\", Any[33, 48, 16, 1, 34, 45, 46, 23, 12, 4, 21, 34, 1, 7, 36, 11, 4, 15, 6, 3])\n",
      "└ @ Main In[14]:64\n"
     ]
    },
    {
     "name": "stdout",
     "output_type": "stream",
     "text": [
      "Aopt1\n",
      "  2.886061 seconds (20.67 M allocations: 1.881 GiB, 9.15% gc time)\n"
     ]
    },
    {
     "name": "stderr",
     "output_type": "stream",
     "text": [
      "┌ Info: Genetic screen finished...\n",
      "└ @ Main In[14]:63\n",
      "┌ Info: (\"Aopt_motif\", Any[36, 51, 18, 3, 37, 9, 50, 26, 15, 7, 7, 40, 6, 10, 40, 9, 7, 42, 9, 6])\n",
      "└ @ Main In[14]:64\n"
     ]
    },
    {
     "name": "stdout",
     "output_type": "stream",
     "text": [
      "Aopt1\n",
      "  3.666379 seconds (26.43 M allocations: 2.405 GiB, 9.27% gc time)\n"
     ]
    },
    {
     "name": "stderr",
     "output_type": "stream",
     "text": [
      "┌ Info: Genetic screen finished...\n",
      "└ @ Main In[14]:63\n",
      "┌ Info: (\"Aopt_motif\", Any[35, 50, 16, 2, 36, 46, 49, 25, 12, 6, 22, 39, 7, 9, 38, 8, 6, 17, 7, 51])\n",
      "└ @ Main In[14]:64\n"
     ]
    },
    {
     "name": "stdout",
     "output_type": "stream",
     "text": [
      "Aopt1\n",
      "  2.918196 seconds (21.33 M allocations: 1.941 GiB, 9.38% gc time)\n"
     ]
    },
    {
     "name": "stderr",
     "output_type": "stream",
     "text": [
      "┌ Info: Genetic screen finished...\n",
      "└ @ Main In[14]:63\n",
      "┌ Info: (\"Aopt_motif\", Any[35, 50, 17, 2, 41, 46, 49, 25, 14, 6, 22, 39, 4, 9, 38, 8, 6, 17, 8, 5])\n",
      "└ @ Main In[14]:64\n"
     ]
    },
    {
     "name": "stdout",
     "output_type": "stream",
     "text": [
      "Aopt1\n",
      "  2.776124 seconds (20.19 M allocations: 1.837 GiB, 9.32% gc time)\n"
     ]
    },
    {
     "name": "stderr",
     "output_type": "stream",
     "text": [
      "┌ Info: Genetic screen finished...\n",
      "└ @ Main In[14]:63\n",
      "┌ Info: (\"Aopt_motif\", Any[35, 50, 17, 2, 41, 46, 49, 25, 14, 6, 22, 39, 5, 9, 38, 6, 4, 41, 5, 5])\n",
      "└ @ Main In[14]:64\n"
     ]
    },
    {
     "name": "stdout",
     "output_type": "stream",
     "text": [
      "Aopt1\n",
      "  2.148937 seconds (15.68 M allocations: 1.427 GiB, 9.27% gc time)\n"
     ]
    },
    {
     "name": "stderr",
     "output_type": "stream",
     "text": [
      "┌ Info: Genetic screen finished...\n",
      "└ @ Main In[14]:63\n",
      "┌ Info: (\"Aopt_motif\", Any[34, 49, 16, 1, 40, 45, 48, 24, 13, 28, 21, 38, 4, 25, 39, 7, 5, 16, 7, 4])\n",
      "└ @ Main In[14]:64\n"
     ]
    },
    {
     "name": "stdout",
     "output_type": "stream",
     "text": [
      "Aopt1\n",
      "  3.448915 seconds (25.06 M allocations: 2.280 GiB, 9.35% gc time)\n"
     ]
    },
    {
     "name": "stderr",
     "output_type": "stream",
     "text": [
      "┌ Info: Genetic screen finished...\n",
      "└ @ Main In[14]:63\n",
      "┌ Info: (\"Aopt_motif\", Any[33, 49, 16, 1, 40, 45, 48, 23, 13, 5, 20, 38, 6, 8, 38, 7, 5, 16, 6, 4])\n",
      "└ @ Main In[14]:64\n"
     ]
    },
    {
     "name": "stdout",
     "output_type": "stream",
     "text": [
      "Aopt1\n",
      "  2.793005 seconds (20.13 M allocations: 1.831 GiB, 9.30% gc time)\n"
     ]
    },
    {
     "name": "stderr",
     "output_type": "stream",
     "text": [
      "┌ Info: Genetic screen finished...\n",
      "└ @ Main In[14]:63\n",
      "┌ Info: (\"Aopt_motif\", Any[36, 50, 17, 2, 41, 46, 49, 25, 13, 6, 22, 13, 5, 9, 41, 8, 6, 23, 8, 21])\n",
      "└ @ Main In[14]:64\n"
     ]
    },
    {
     "name": "stdout",
     "output_type": "stream",
     "text": [
      "Aopt1\n",
      "  3.502594 seconds (25.24 M allocations: 2.296 GiB, 9.24% gc time)\n"
     ]
    },
    {
     "name": "stderr",
     "output_type": "stream",
     "text": [
      "┌ Info: Genetic screen finished...\n",
      "└ @ Main In[14]:63\n",
      "┌ Info: (\"Aopt_motif\", Any[34, 51, 16, 1, 40, 45, 48, 25, 13, 5, 39, 38, 4, 8, 37, 8, 6, 16, 7, 4])\n",
      "└ @ Main In[14]:64\n"
     ]
    },
    {
     "name": "stdout",
     "output_type": "stream",
     "text": [
      "Aopt1\n",
      "  1.320612 seconds (9.23 M allocations: 860.780 MiB, 9.15% gc time)\n"
     ]
    },
    {
     "name": "stderr",
     "output_type": "stream",
     "text": [
      "┌ Info: Genetic screen finished...\n",
      "└ @ Main In[14]:63\n",
      "┌ Info: (\"Aopt_motif\", Any[32, 48, 14, 2, 33, 43, 46, 25, 11, 6, 7, 36, 6, 22, 35, 5, 5, 15, 3, 2])\n",
      "└ @ Main In[14]:64\n"
     ]
    },
    {
     "name": "stdout",
     "output_type": "stream",
     "text": [
      "Aopt1\n",
      "  2.244591 seconds (16.26 M allocations: 1.479 GiB, 9.29% gc time)\n"
     ]
    },
    {
     "name": "stderr",
     "output_type": "stream",
     "text": [
      "┌ Info: Genetic screen finished...\n",
      "└ @ Main In[14]:63\n",
      "┌ Info: (\"Aopt_motif\", Any[34, 50, 16, 1, 40, 45, 47, 22, 13, 5, 20, 38, 4, 8, 37, 8, 5, 16, 7, 4])\n",
      "└ @ Main In[14]:64\n"
     ]
    },
    {
     "name": "stdout",
     "output_type": "stream",
     "text": [
      "Aopt1\n",
      "  2.227222 seconds (15.89 M allocations: 1.446 GiB, 9.27% gc time)\n"
     ]
    },
    {
     "name": "stderr",
     "output_type": "stream",
     "text": [
      "┌ Info: Genetic screen finished...\n",
      "└ @ Main In[14]:63\n",
      "┌ Info: (\"Aopt_motif\", Any[29, 46, 15, 45, 37, 42, 45, 21, 10, 2, 18, 35, 1, 5, 35, 4, 2, 15, 4, 1])\n",
      "└ @ Main In[14]:64\n"
     ]
    },
    {
     "name": "stdout",
     "output_type": "stream",
     "text": [
      "Aopt1\n",
      "  2.770480 seconds (19.91 M allocations: 1.812 GiB, 9.16% gc time)\n"
     ]
    },
    {
     "name": "stderr",
     "output_type": "stream",
     "text": [
      "┌ Info: Genetic screen finished...\n",
      "└ @ Main In[14]:63\n",
      "┌ Info: (\"Aopt_motif\", Any[34, 48, 14, 2, 41, 44, 48, 23, 12, 4, 20, 37, 3, 1, 38, 6, 4, 15, 6, 3])\n",
      "└ @ Main In[14]:64\n"
     ]
    },
    {
     "name": "stdout",
     "output_type": "stream",
     "text": [
      "Aopt1\n",
      "  1.847163 seconds (13.09 M allocations: 1.191 GiB, 9.20% gc time)\n"
     ]
    },
    {
     "name": "stderr",
     "output_type": "stream",
     "text": [
      "┌ Info: Genetic screen finished...\n",
      "└ @ Main In[14]:63\n",
      "┌ Info: (\"Aopt_motif\", Any[32, 48, 12, 47, 39, 44, 45, 24, 9, 4, 20, 37, 3, 7, 39, 6, 4, 15, 3, 3])\n",
      "└ @ Main In[14]:64\n"
     ]
    },
    {
     "name": "stdout",
     "output_type": "stream",
     "text": [
      "Aopt1\n",
      "  2.586451 seconds (18.61 M allocations: 1.693 GiB, 9.26% gc time)\n"
     ]
    },
    {
     "name": "stderr",
     "output_type": "stream",
     "text": [
      "┌ Info: Genetic screen finished...\n",
      "└ @ Main In[14]:63\n",
      "┌ Info: (\"Aopt_motif\", Any[36, 51, 16, 3, 42, 48, 34, 26, 15, 30, 23, 40, 6, 10, 41, 9, 7, 18, 9, 6])\n",
      "└ @ Main In[14]:64\n"
     ]
    },
    {
     "name": "stdout",
     "output_type": "stream",
     "text": [
      "Aopt1\n",
      "  2.916973 seconds (20.93 M allocations: 1.904 GiB, 9.25% gc time)\n"
     ]
    },
    {
     "name": "stderr",
     "output_type": "stream",
     "text": [
      "┌ Info: Genetic screen finished...\n",
      "└ @ Main In[14]:63\n",
      "┌ Info: (\"Aopt_motif\", Any[35, 49, 17, 2, 41, 46, 49, 25, 14, 6, 6, 39, 5, 25, 38, 8, 6, 41, 8, 21])\n",
      "└ @ Main In[14]:64\n"
     ]
    },
    {
     "name": "stdout",
     "output_type": "stream",
     "text": [
      "Aopt1\n",
      "  5.251288 seconds (38.00 M allocations: 3.456 GiB, 9.37% gc time)\n"
     ]
    },
    {
     "name": "stderr",
     "output_type": "stream",
     "text": [
      "┌ Info: Genetic screen finished...\n",
      "└ @ Main In[14]:63\n",
      "┌ Info: (\"Aopt_motif\", Any[33, 48, 15, 1, 40, 44, 47, 22, 12, 4, 5, 37, 3, 24, 36, 6, 4, 15, 6, 3])\n",
      "└ @ Main In[14]:64\n"
     ]
    },
    {
     "name": "stdout",
     "output_type": "stream",
     "text": [
      "Aopt1\n",
      "  3.961030 seconds (28.38 M allocations: 2.581 GiB, 9.27% gc time)\n"
     ]
    },
    {
     "name": "stderr",
     "output_type": "stream",
     "text": [
      "┌ Info: Genetic screen finished...\n",
      "└ @ Main In[14]:63\n",
      "┌ Info: (\"Aopt_motif\", Any[32, 47, 14, 1, 36, 43, 46, 22, 10, 3, 19, 36, 2, 6, 35, 5, 3, 14, 5, 18])\n",
      "└ @ Main In[14]:64\n"
     ]
    },
    {
     "name": "stdout",
     "output_type": "stream",
     "text": [
      "Aopt1\n",
      "  2.157324 seconds (15.52 M allocations: 1.412 GiB, 9.33% gc time)\n"
     ]
    },
    {
     "name": "stderr",
     "output_type": "stream",
     "text": [
      "┌ Info: Genetic screen finished...\n",
      "└ @ Main In[14]:63\n",
      "┌ Info: (\"Aopt_motif\", Any[34, 49, 16, 2, 40, 45, 48, 8, 13, 5, 21, 36, 4, 8, 37, 7, 5, 16, 6, 5])\n",
      "└ @ Main In[14]:64\n"
     ]
    },
    {
     "name": "stdout",
     "output_type": "stream",
     "text": [
      "Aopt1\n",
      "  3.596832 seconds (25.95 M allocations: 2.360 GiB, 9.41% gc time)\n"
     ]
    },
    {
     "name": "stderr",
     "output_type": "stream",
     "text": [
      "┌ Info: Genetic screen finished...\n",
      "└ @ Main In[14]:63\n",
      "┌ Info: (\"Aopt_motif\", Any[33, 49, 16, 1, 40, 45, 32, 8, 13, 4, 21, 18, 4, 8, 37, 7, 5, 16, 7, 4])\n",
      "└ @ Main In[14]:64\n"
     ]
    },
    {
     "name": "stdout",
     "output_type": "stream",
     "text": [
      "Aopt1\n",
      "  4.451939 seconds (32.68 M allocations: 2.972 GiB, 9.51% gc time)\n"
     ]
    },
    {
     "name": "stderr",
     "output_type": "stream",
     "text": [
      "┌ Info: Genetic screen finished...\n",
      "└ @ Main In[14]:63\n",
      "┌ Info: (\"Aopt_motif\", Any[33, 50, 16, 1, 40, 45, 48, 24, 13, 5, 21, 38, 4, 8, 37, 8, 5, 16, 7, 4])\n",
      "└ @ Main In[14]:64\n"
     ]
    },
    {
     "name": "stdout",
     "output_type": "stream",
     "text": [
      "Aopt1\n",
      "  3.698571 seconds (26.80 M allocations: 2.438 GiB, 9.37% gc time)\n"
     ]
    },
    {
     "name": "stderr",
     "output_type": "stream",
     "text": [
      "┌ Info: Genetic screen finished...\n",
      "└ @ Main In[14]:63\n",
      "┌ Info: (\"Aopt_motif\", Any[34, 49, 16, 1, 40, 45, 48, 8, 13, 5, 23, 38, 4, 8, 37, 8, 4, 16, 7, 4])\n",
      "└ @ Main In[14]:64\n"
     ]
    },
    {
     "name": "stdout",
     "output_type": "stream",
     "text": [
      "Aopt1\n",
      "  4.151889 seconds (30.49 M allocations: 2.773 GiB, 9.55% gc time)\n"
     ]
    },
    {
     "name": "stderr",
     "output_type": "stream",
     "text": [
      "┌ Info: Genetic screen finished...\n",
      "└ @ Main In[14]:63\n",
      "┌ Info: (\"Aopt_motif\", Any[34, 49, 16, 1, 40, 45, 48, 24, 13, 5, 20, 38, 4, 8, 37, 7, 5, 40, 7, 2])\n",
      "└ @ Main In[14]:64\n"
     ]
    },
    {
     "name": "stdout",
     "output_type": "stream",
     "text": [
      "Aopt1\n",
      "  4.487566 seconds (31.98 M allocations: 2.909 GiB, 9.22% gc time)\n"
     ]
    },
    {
     "name": "stderr",
     "output_type": "stream",
     "text": [
      "┌ Info: Genetic screen finished...\n",
      "└ @ Main In[14]:63\n",
      "┌ Info: (\"Aopt_motif\", Any[35, 50, 51, 2, 41, 46, 49, 9, 14, 6, 7, 39, 5, 9, 39, 8, 6, 17, 8, 5])\n",
      "└ @ Main In[14]:64\n"
     ]
    },
    {
     "name": "stdout",
     "output_type": "stream",
     "text": [
      "Aopt1\n",
      "  3.868800 seconds (27.79 M allocations: 2.527 GiB, 9.30% gc time)\n"
     ]
    },
    {
     "name": "stderr",
     "output_type": "stream",
     "text": [
      "┌ Info: Genetic screen finished...\n",
      "└ @ Main In[14]:63\n",
      "┌ Info: (\"Aopt_motif\", Any[32, 47, 14, 1, 39, 44, 46, 23, 10, 3, 19, 36, 2, 23, 36, 5, 3, 14, 6, 2])\n",
      "└ @ Main In[14]:64\n"
     ]
    },
    {
     "name": "stdout",
     "output_type": "stream",
     "text": [
      "Aopt1\n",
      "  2.200125 seconds (15.83 M allocations: 1.440 GiB, 9.34% gc time)\n"
     ]
    },
    {
     "name": "stderr",
     "output_type": "stream",
     "text": [
      "┌ Info: Genetic screen finished...\n",
      "└ @ Main In[14]:63\n",
      "┌ Info: (\"Aopt_motif\", Any[35, 50, 17, 3, 41, 48, 48, 24, 12, 6, 21, 39, 5, 9, 38, 8, 6, 17, 8, 21])\n",
      "└ @ Main In[14]:64\n"
     ]
    },
    {
     "name": "stdout",
     "output_type": "stream",
     "text": [
      "Aopt1\n",
      "  2.953660 seconds (21.48 M allocations: 1.954 GiB, 9.31% gc time)\n"
     ]
    },
    {
     "name": "stderr",
     "output_type": "stream",
     "text": [
      "┌ Info: Genetic screen finished...\n",
      "└ @ Main In[14]:63\n",
      "┌ Info: (\"Aopt_motif\", Any[33, 48, 15, 1, 39, 44, 47, 23, 12, 3, 20, 37, 3, 6, 36, 6, 4, 15, 6, 3])\n",
      "└ @ Main In[14]:64\n"
     ]
    },
    {
     "name": "stdout",
     "output_type": "stream",
     "text": [
      "Aopt1\n",
      "  5.659022 seconds (40.74 M allocations: 3.705 GiB, 9.35% gc time)\n"
     ]
    },
    {
     "name": "stderr",
     "output_type": "stream",
     "text": [
      "┌ Info: Genetic screen finished...\n",
      "└ @ Main In[14]:63\n",
      "┌ Info: (\"Aopt_motif\", Any[36, 50, 18, 3, 42, 47, 50, 26, 15, 10, 7, 40, 6, 9, 39, 9, 7, 18, 9, 6])\n",
      "└ @ Main In[14]:64\n"
     ]
    },
    {
     "name": "stdout",
     "output_type": "stream",
     "text": [
      "Aopt1\n",
      "  3.946245 seconds (28.72 M allocations: 2.613 GiB, 9.41% gc time)\n"
     ]
    },
    {
     "name": "stderr",
     "output_type": "stream",
     "text": [
      "┌ Info: Genetic screen finished...\n",
      "└ @ Main In[14]:63\n",
      "┌ Info: (\"Aopt_motif\", Any[34, 49, 16, 1, 40, 45, 48, 24, 12, 5, 21, 38, 4, 8, 37, 6, 5, 16, 7, 3])\n",
      "└ @ Main In[14]:64\n"
     ]
    },
    {
     "name": "stdout",
     "output_type": "stream",
     "text": [
      "Aopt1\n",
      "  3.209019 seconds (23.13 M allocations: 2.104 GiB, 9.45% gc time)\n"
     ]
    },
    {
     "name": "stderr",
     "output_type": "stream",
     "text": [
      "┌ Info: Genetic screen finished...\n",
      "└ @ Main In[14]:63\n",
      "┌ Info: (\"Aopt_motif\", Any[35, 50, 17, 2, 41, 46, 49, 25, 12, 31, 24, 19, 5, 9, 38, 8, 6, 17, 8, 5])\n",
      "└ @ Main In[14]:64\n"
     ]
    },
    {
     "name": "stdout",
     "output_type": "stream",
     "text": [
      "Aopt1\n",
      "  3.752459 seconds (27.22 M allocations: 2.475 GiB, 9.46% gc time)\n"
     ]
    },
    {
     "name": "stderr",
     "output_type": "stream",
     "text": [
      "┌ Info: Genetic screen finished...\n",
      "└ @ Main In[14]:63\n",
      "┌ Info: (\"Aopt_motif\", Any[33, 48, 15, 1, 39, 44, 47, 23, 12, 4, 20, 37, 3, 7, 37, 7, 4, 16, 6, 3])\n",
      "└ @ Main In[14]:64\n"
     ]
    },
    {
     "name": "stdout",
     "output_type": "stream",
     "text": [
      "Aopt1\n",
      "  5.288773 seconds (38.30 M allocations: 3.484 GiB, 9.49% gc time)\n"
     ]
    },
    {
     "name": "stderr",
     "output_type": "stream",
     "text": [
      "┌ Info: Genetic screen finished...\n",
      "└ @ Main In[14]:63\n",
      "┌ Info: (\"Aopt_motif\", Any[36, 51, 18, 3, 42, 9, 50, 26, 15, 7, 23, 40, 6, 10, 39, 9, 7, 18, 9, 6])\n",
      "└ @ Main In[14]:64\n"
     ]
    },
    {
     "name": "stdout",
     "output_type": "stream",
     "text": [
      "Aopt1\n",
      "  3.709793 seconds (27.25 M allocations: 2.479 GiB, 9.59% gc time)\n"
     ]
    },
    {
     "name": "stderr",
     "output_type": "stream",
     "text": [
      "┌ Info: Genetic screen finished...\n",
      "└ @ Main In[14]:63\n",
      "┌ Info: (\"Aopt_motif\", Any[34, 49, 16, 1, 40, 39, 48, 24, 13, 5, 21, 38, 4, 8, 37, 9, 5, 16, 7, 4])\n",
      "└ @ Main In[14]:64\n"
     ]
    },
    {
     "name": "stdout",
     "output_type": "stream",
     "text": [
      "Aopt1\n",
      "  4.188222 seconds (29.98 M allocations: 2.727 GiB, 9.45% gc time)\n"
     ]
    },
    {
     "name": "stderr",
     "output_type": "stream",
     "text": [
      "┌ Info: Genetic screen finished...\n",
      "└ @ Main In[14]:63\n",
      "┌ Info: (\"Aopt_motif\", Any[36, 51, 18, 3, 42, 47, 50, 26, 17, 7, 7, 40, 6, 10, 38, 9, 5, 18, 9, 6])\n",
      "└ @ Main In[14]:64\n"
     ]
    },
    {
     "name": "stdout",
     "output_type": "stream",
     "text": [
      "Aopt1\n",
      "  3.710537 seconds (26.91 M allocations: 2.448 GiB, 9.52% gc time)\n"
     ]
    },
    {
     "name": "stderr",
     "output_type": "stream",
     "text": [
      "┌ Info: Genetic screen finished...\n",
      "└ @ Main In[14]:63\n",
      "┌ Info: (\"Aopt_motif\", Any[34, 49, 50, 1, 40, 45, 48, 24, 13, 5, 21, 38, 3, 8, 37, 8, 6, 16, 7, 4])\n",
      "└ @ Main In[14]:64\n"
     ]
    },
    {
     "name": "stdout",
     "output_type": "stream",
     "text": [
      "Aopt1\n",
      "  3.344323 seconds (24.20 M allocations: 2.201 GiB, 9.45% gc time)\n"
     ]
    },
    {
     "name": "stderr",
     "output_type": "stream",
     "text": [
      "┌ Info: Genetic screen finished...\n",
      "└ @ Main In[14]:63\n",
      "┌ Info: (\"Aopt_motif\", Any[37, 33, 19, 4, 43, 48, 51, 27, 16, 8, 24, 41, 7, 11, 40, 11, 8, 19, 10, 8])\n",
      "└ @ Main In[14]:64\n"
     ]
    },
    {
     "name": "stdout",
     "output_type": "stream",
     "text": [
      "Aopt1\n",
      "  2.680512 seconds (19.37 M allocations: 1.762 GiB, 9.41% gc time)\n"
     ]
    },
    {
     "name": "stderr",
     "output_type": "stream",
     "text": [
      "┌ Info: Genetic screen finished...\n",
      "└ @ Main In[14]:63\n",
      "┌ Info: (\"Aopt_motif\", Any[34, 49, 16, 1, 35, 39, 48, 25, 13, 5, 21, 38, 4, 8, 37, 6, 5, 16, 7, 4])\n",
      "└ @ Main In[14]:64\n"
     ]
    },
    {
     "name": "stdout",
     "output_type": "stream",
     "text": [
      "Aopt1\n",
      "  2.852926 seconds (20.51 M allocations: 1.866 GiB, 9.38% gc time)\n"
     ]
    },
    {
     "name": "stderr",
     "output_type": "stream",
     "text": [
      "┌ Info: Genetic screen finished...\n",
      "└ @ Main In[14]:63\n",
      "┌ Info: (\"Aopt_motif\", Any[32, 47, 12, 1, 38, 43, 46, 22, 11, 1, 19, 36, 2, 6, 35, 7, 3, 15, 5, 3])\n",
      "└ @ Main In[14]:64\n"
     ]
    },
    {
     "name": "stdout",
     "output_type": "stream",
     "text": [
      "Aopt1\n",
      "  5.310269 seconds (38.09 M allocations: 3.464 GiB, 9.45% gc time)\n"
     ]
    },
    {
     "name": "stderr",
     "output_type": "stream",
     "text": [
      "┌ Info: Genetic screen finished...\n",
      "└ @ Main In[14]:63\n",
      "┌ Info: (\"Aopt_motif\", Any[31, 46, 13, 45, 37, 42, 45, 22, 10, 2, 18, 36, 1, 5, 34, 4, 2, 37, 4, 1])\n",
      "└ @ Main In[14]:64\n"
     ]
    },
    {
     "name": "stdout",
     "output_type": "stream",
     "text": [
      "Aopt1\n",
      "  5.307909 seconds (38.84 M allocations: 3.532 GiB, 9.57% gc time)\n"
     ]
    },
    {
     "name": "stderr",
     "output_type": "stream",
     "text": [
      "┌ Info: Genetic screen finished...\n",
      "└ @ Main In[14]:63\n",
      "┌ Info: (\"Aopt_motif\", Any[35, 50, 17, 2, 41, 40, 49, 25, 14, 6, 22, 39, 5, 9, 38, 8, 5, 17, 8, 5])\n",
      "└ @ Main In[14]:64\n"
     ]
    },
    {
     "name": "stdout",
     "output_type": "stream",
     "text": [
      "Aopt1\n",
      "  5.358444 seconds (39.09 M allocations: 3.555 GiB, 9.55% gc time)\n"
     ]
    },
    {
     "name": "stderr",
     "output_type": "stream",
     "text": [
      "┌ Info: Genetic screen finished...\n",
      "└ @ Main In[14]:63\n",
      "┌ Info: (\"Aopt_motif\", Any[35, 50, 17, 2, 41, 46, 48, 25, 14, 6, 22, 39, 5, 9, 38, 8, 6, 17, 8, 5])\n",
      "└ @ Main In[14]:64\n"
     ]
    },
    {
     "name": "stdout",
     "output_type": "stream",
     "text": [
      "Aopt1\n",
      "  4.472526 seconds (31.94 M allocations: 2.905 GiB, 9.36% gc time)\n"
     ]
    },
    {
     "name": "stderr",
     "output_type": "stream",
     "text": [
      "┌ Info: Genetic screen finished...\n",
      "└ @ Main In[14]:63\n",
      "┌ Info: (\"Aopt_motif\", Any[34, 49, 13, 2, 40, 7, 48, 23, 13, 5, 22, 18, 4, 2, 37, 7, 5, 40, 7, 4])\n",
      "└ @ Main In[14]:64\n"
     ]
    },
    {
     "name": "stdout",
     "output_type": "stream",
     "text": [
      "Aopt1\n",
      "  3.088374 seconds (22.36 M allocations: 2.034 GiB, 9.48% gc time)\n"
     ]
    },
    {
     "name": "stderr",
     "output_type": "stream",
     "text": [
      "┌ Info: Genetic screen finished...\n",
      "└ @ Main In[14]:63\n",
      "┌ Info: (\"Aopt_motif\", Any[33, 49, 16, 1, 40, 25, 48, 24, 13, 30, 21, 38, 4, 2, 37, 7, 6, 16, 7, 4])\n",
      "└ @ Main In[14]:64\n"
     ]
    },
    {
     "name": "stdout",
     "output_type": "stream",
     "text": [
      "Aopt1\n",
      "  2.663739 seconds (18.97 M allocations: 1.725 GiB, 9.38% gc time)\n"
     ]
    },
    {
     "name": "stderr",
     "output_type": "stream",
     "text": [
      "┌ Info: Genetic screen finished...\n",
      "└ @ Main In[14]:63\n",
      "┌ Info: (\"Aopt_motif\", Any[37, 51, 19, 5, 15, 45, 51, 27, 16, 8, 24, 21, 7, 11, 40, 10, 8, 19, 10, 7])\n",
      "└ @ Main In[14]:64\n"
     ]
    },
    {
     "name": "stdout",
     "output_type": "stream",
     "text": [
      "Aopt1\n",
      "  2.842143 seconds (20.39 M allocations: 1.854 GiB, 9.45% gc time)\n"
     ]
    },
    {
     "name": "stderr",
     "output_type": "stream",
     "text": [
      "┌ Info: Genetic screen finished...\n",
      "└ @ Main In[14]:63\n",
      "┌ Info: (\"Aopt_motif\", Any[33, 49, 16, 1, 40, 39, 48, 24, 11, 5, 21, 38, 3, 2, 36, 7, 3, 15, 7, 4])\n",
      "└ @ Main In[14]:64\n"
     ]
    },
    {
     "name": "stdout",
     "output_type": "stream",
     "text": [
      "Aopt1\n",
      "  3.337378 seconds (23.96 M allocations: 2.179 GiB, 9.43% gc time)\n"
     ]
    },
    {
     "name": "stderr",
     "output_type": "stream",
     "text": [
      "┌ Info: Genetic screen finished...\n",
      "└ @ Main In[14]:63\n",
      "┌ Info: (\"Aopt_motif\", Any[35, 50, 17, 2, 41, 46, 49, 25, 12, 6, 22, 39, 4, 9, 41, 9, 6, 41, 8, 21])\n",
      "└ @ Main In[14]:64\n"
     ]
    },
    {
     "name": "stdout",
     "output_type": "stream",
     "text": [
      "Aopt1\n",
      "  2.979629 seconds (21.42 M allocations: 1.949 GiB, 9.41% gc time)\n"
     ]
    },
    {
     "name": "stderr",
     "output_type": "stream",
     "text": [
      "┌ Info: Genetic screen finished...\n",
      "└ @ Main In[14]:63\n",
      "┌ Info: (\"Aopt_motif\", Any[43, 51, 19, 4, 43, 48, 51, 27, 16, 8, 24, 41, 6, 11, 40, 10, 17, 19, 10, 7])\n",
      "└ @ Main In[14]:64\n"
     ]
    },
    {
     "name": "stdout",
     "output_type": "stream",
     "text": [
      "Aopt1\n",
      "  3.356941 seconds (24.05 M allocations: 2.188 GiB, 9.48% gc time)\n"
     ]
    },
    {
     "name": "stderr",
     "output_type": "stream",
     "text": [
      "┌ Info: Genetic screen finished...\n",
      "└ @ Main In[14]:63\n",
      "┌ Info: (\"Aopt_motif\", Any[32, 47, 14, 2, 38, 5, 46, 22, 11, 3, 19, 36, 3, 7, 35, 7, 3, 14, 5, 2])\n",
      "└ @ Main In[14]:64\n"
     ]
    },
    {
     "name": "stdout",
     "output_type": "stream",
     "text": [
      "Aopt1\n",
      "  2.290642 seconds (16.57 M allocations: 1.507 GiB, 9.49% gc time)\n"
     ]
    },
    {
     "name": "stderr",
     "output_type": "stream",
     "text": [
      "┌ Info: Genetic screen finished...\n",
      "└ @ Main In[14]:63\n",
      "┌ Info: (\"Aopt_motif\", Any[35, 50, 17, 2, 41, 40, 49, 26, 14, 6, 7, 39, 6, 9, 37, 8, 6, 17, 8, 5])\n",
      "└ @ Main In[14]:64\n"
     ]
    },
    {
     "name": "stdout",
     "output_type": "stream",
     "text": [
      "Aopt1\n",
      "  2.886278 seconds (21.09 M allocations: 1.919 GiB, 9.64% gc time)\n"
     ]
    },
    {
     "name": "stderr",
     "output_type": "stream",
     "text": [
      "┌ Info: Genetic screen finished...\n",
      "└ @ Main In[14]:63\n",
      "┌ Info: (\"Aopt_motif\", Any[40, 39, 16, 1, 40, 45, 48, 24, 13, 5, 21, 38, 4, 8, 37, 7, 8, 16, 7, 4])\n",
      "└ @ Main In[14]:64\n"
     ]
    },
    {
     "name": "stdout",
     "output_type": "stream",
     "text": [
      "Aopt1\n",
      "  3.570936 seconds (25.34 M allocations: 2.304 GiB, 9.36% gc time)\n"
     ]
    },
    {
     "name": "stderr",
     "output_type": "stream",
     "text": [
      "┌ Info: Genetic screen finished...\n",
      "└ @ Main In[14]:63\n",
      "┌ Info: (\"Aopt_motif\", Any[38, 50, 12, 3, 42, 47, 50, 26, 15, 30, 23, 20, 6, 27, 39, 8, 7, 18, 9, 6])\n",
      "└ @ Main In[14]:64\n"
     ]
    },
    {
     "name": "stdout",
     "output_type": "stream",
     "text": [
      "Aopt1\n",
      "  4.312798 seconds (31.46 M allocations: 2.861 GiB, 9.64% gc time)\n"
     ]
    },
    {
     "name": "stderr",
     "output_type": "stream",
     "text": [
      "┌ Info: Genetic screen finished...\n",
      "└ @ Main In[14]:63\n",
      "┌ Info: (\"Aopt_motif\", Any[34, 49, 16, 1, 35, 45, 48, 24, 12, 6, 21, 12, 4, 8, 37, 7, 5, 16, 7, 4])\n",
      "└ @ Main In[14]:64\n"
     ]
    },
    {
     "name": "stdout",
     "output_type": "stream",
     "text": [
      "Aopt1\n",
      "  3.820908 seconds (27.45 M allocations: 2.496 GiB, 9.49% gc time)\n"
     ]
    },
    {
     "name": "stderr",
     "output_type": "stream",
     "text": [
      "┌ Info: Genetic screen finished...\n",
      "└ @ Main In[14]:63\n",
      "┌ Info: (\"Aopt_motif\", Any[33, 49, 16, 1, 40, 39, 46, 24, 15, 5, 21, 38, 4, 2, 38, 8, 5, 22, 7, 4])\n",
      "└ @ Main In[14]:64\n"
     ]
    },
    {
     "name": "stdout",
     "output_type": "stream",
     "text": [
      "Aopt1\n",
      "  5.047501 seconds (37.15 M allocations: 3.379 GiB, 9.71% gc time)\n"
     ]
    },
    {
     "name": "stderr",
     "output_type": "stream",
     "text": [
      "┌ Info: Genetic screen finished...\n",
      "└ @ Main In[14]:63\n",
      "┌ Info: (\"Aopt_motif\", Any[35, 50, 17, 2, 41, 46, 49, 25, 14, 6, 22, 39, 5, 9, 38, 8, 6, 41, 8, 5])\n",
      "└ @ Main In[14]:64\n"
     ]
    },
    {
     "name": "stdout",
     "output_type": "stream",
     "text": [
      "Aopt1\n",
      "  4.509223 seconds (32.83 M allocations: 2.986 GiB, 9.64% gc time)\n"
     ]
    },
    {
     "name": "stderr",
     "output_type": "stream",
     "text": [
      "┌ Info: Genetic screen finished...\n",
      "└ @ Main In[14]:63\n",
      "┌ Info: (\"Aopt_motif\", Any[35, 50, 51, 2, 41, 46, 49, 25, 14, 6, 22, 39, 5, 9, 38, 8, 5, 17, 8, 5])\n",
      "└ @ Main In[14]:64\n"
     ]
    },
    {
     "name": "stdout",
     "output_type": "stream",
     "text": [
      "Aopt1\n",
      "  2.507372 seconds (17.72 M allocations: 1.612 GiB, 9.28% gc time)\n"
     ]
    },
    {
     "name": "stderr",
     "output_type": "stream",
     "text": [
      "┌ Info: Genetic screen finished...\n",
      "└ @ Main In[14]:63\n",
      "┌ Info: (\"Aopt_motif\", Any[31, 46, 14, 51, 37, 42, 45, 21, 9, 2, 18, 51, 3, 4, 31, 6, 2, 13, 4, 1])\n",
      "└ @ Main In[14]:64\n"
     ]
    },
    {
     "name": "stdout",
     "output_type": "stream",
     "text": [
      "Aopt1\n",
      "  2.726229 seconds (19.69 M allocations: 1.791 GiB, 9.54% gc time)\n"
     ]
    },
    {
     "name": "stderr",
     "output_type": "stream",
     "text": [
      "┌ Info: Genetic screen finished...\n",
      "└ @ Main In[14]:63\n",
      "┌ Info: (\"Aopt_motif\", Any[37, 51, 19, 4, 43, 42, 51, 27, 17, 8, 24, 41, 7, 17, 40, 10, 8, 19, 10, 7])\n",
      "└ @ Main In[14]:64\n"
     ]
    },
    {
     "name": "stdout",
     "output_type": "stream",
     "text": [
      "Aopt1\n",
      "  2.656263 seconds (19.12 M allocations: 1.739 GiB, 9.47% gc time)\n"
     ]
    },
    {
     "name": "stderr",
     "output_type": "stream",
     "text": [
      "┌ Info: Genetic screen finished...\n",
      "└ @ Main In[14]:63\n",
      "┌ Info: (\"Aopt_motif\", Any[35, 50, 17, 2, 41, 46, 49, 25, 13, 6, 22, 36, 5, 9, 41, 8, 5, 17, 8, 21])\n",
      "└ @ Main In[14]:64\n"
     ]
    },
    {
     "name": "stdout",
     "output_type": "stream",
     "text": [
      "Aopt1\n",
      "  5.175532 seconds (37.41 M allocations: 3.402 GiB, 9.60% gc time)\n"
     ]
    },
    {
     "name": "stderr",
     "output_type": "stream",
     "text": [
      "┌ Info: Genetic screen finished...\n",
      "└ @ Main In[14]:63\n",
      "┌ Info: (\"Aopt_motif\", Any[35, 50, 17, 2, 13, 40, 50, 25, 14, 6, 22, 39, 5, 9, 39, 8, 6, 17, 8, 5])\n",
      "└ @ Main In[14]:64\n"
     ]
    },
    {
     "name": "stdout",
     "output_type": "stream",
     "text": [
      "Aopt1\n",
      "  2.508912 seconds (17.90 M allocations: 1.628 GiB, 9.40% gc time)\n"
     ]
    },
    {
     "name": "stderr",
     "output_type": "stream",
     "text": [
      "┌ Info: Genetic screen finished...\n",
      "└ @ Main In[14]:63\n",
      "┌ Info: (\"Aopt_motif\", Any[33, 48, 15, 47, 38, 44, 47, 24, 11, 4, 20, 37, 3, 7, 36, 7, 4, 15, 6, 3])\n",
      "└ @ Main In[14]:64\n"
     ]
    },
    {
     "name": "stdout",
     "output_type": "stream",
     "text": [
      "Aopt1\n",
      "  3.285981 seconds (24.14 M allocations: 2.196 GiB, 9.73% gc time)\n"
     ]
    },
    {
     "name": "stderr",
     "output_type": "stream",
     "text": [
      "┌ Info: Genetic screen finished...\n",
      "└ @ Main In[14]:63\n",
      "┌ Info: (\"Aopt_motif\", Any[34, 49, 16, 1, 40, 45, 48, 24, 13, 5, 22, 38, 4, 8, 37, 7, 5, 17, 7, 4])\n",
      "└ @ Main In[14]:64\n"
     ]
    },
    {
     "name": "stdout",
     "output_type": "stream",
     "text": [
      "Aopt1\n",
      "  2.609920 seconds (18.89 M allocations: 1.719 GiB, 9.51% gc time)\n"
     ]
    },
    {
     "name": "stderr",
     "output_type": "stream",
     "text": [
      "┌ Info: Genetic screen finished...\n",
      "└ @ Main In[14]:63\n",
      "┌ Info: (\"Aopt_motif\", Any[34, 49, 16, 1, 40, 45, 47, 24, 13, 4, 22, 38, 4, 8, 38, 7, 5, 16, 7, 4])\n",
      "└ @ Main In[14]:64\n"
     ]
    },
    {
     "name": "stdout",
     "output_type": "stream",
     "text": [
      "Aopt2\n",
      "  8.033098 seconds (58.67 M allocations: 5.334 GiB, 9.72% gc time)\n"
     ]
    },
    {
     "name": "stderr",
     "output_type": "stream",
     "text": [
      "┌ Info: Genetic screen finished...\n",
      "└ @ Main In[14]:63\n",
      "┌ Info: (\"Aopt_motif\", Any[34, 49, 16, 1, 40, 45, 48, 24, 13, 5, 21, 38, 4, 8, 37, 7, 5, 16, 7, 4])\n",
      "└ @ Main In[14]:64\n"
     ]
    },
    {
     "name": "stdout",
     "output_type": "stream",
     "text": [
      "Aopt1\n",
      "  1.888358 seconds (13.41 M allocations: 1.220 GiB, 9.38% gc time)\n"
     ]
    },
    {
     "name": "stderr",
     "output_type": "stream",
     "text": [
      "┌ Info: Genetic screen finished...\n",
      "└ @ Main In[14]:63\n",
      "┌ Info: (\"Aopt_motif\", Any[32, 50, 12, 2, 38, 43, 46, 22, 12, 3, 19, 36, 2, 23, 35, 5, 5, 14, 5, 2])\n",
      "└ @ Main In[14]:64\n"
     ]
    },
    {
     "name": "stdout",
     "output_type": "stream",
     "text": [
      "Aopt1\n",
      "  5.307562 seconds (38.13 M allocations: 3.467 GiB, 9.56% gc time)\n"
     ]
    },
    {
     "name": "stderr",
     "output_type": "stream",
     "text": [
      "┌ Info: Genetic screen finished...\n",
      "└ @ Main In[14]:63\n",
      "┌ Info: (\"Aopt_motif\", Any[37, 33, 19, 4, 43, 48, 51, 27, 16, 8, 8, 41, 7, 11, 40, 10, 14, 19, 10, 7])\n",
      "└ @ Main In[14]:64\n"
     ]
    },
    {
     "name": "stdout",
     "output_type": "stream",
     "text": [
      "Aopt1\n",
      "  3.563122 seconds (25.92 M allocations: 2.357 GiB, 9.69% gc time)\n"
     ]
    },
    {
     "name": "stderr",
     "output_type": "stream",
     "text": [
      "┌ Info: Genetic screen finished...\n",
      "└ @ Main In[14]:63\n",
      "┌ Info: (\"Aopt_motif\", Any[35, 50, 17, 2, 41, 46, 49, 25, 14, 6, 23, 39, 5, 9, 41, 8, 6, 17, 8, 5])\n",
      "└ @ Main In[14]:64\n"
     ]
    },
    {
     "name": "stdout",
     "output_type": "stream",
     "text": [
      "Aopt1\n",
      "  5.026080 seconds (36.32 M allocations: 3.303 GiB, 9.61% gc time)\n"
     ]
    },
    {
     "name": "stderr",
     "output_type": "stream",
     "text": [
      "┌ Info: Genetic screen finished...\n",
      "└ @ Main In[14]:63\n",
      "┌ Info: (\"Aopt_motif\", Any[35, 50, 17, 2, 13, 46, 49, 25, 14, 6, 22, 39, 5, 26, 38, 8, 5, 17, 8, 5])\n",
      "└ @ Main In[14]:64\n"
     ]
    },
    {
     "name": "stdout",
     "output_type": "stream",
     "text": [
      "Aopt1\n",
      "  2.768633 seconds (19.67 M allocations: 1.789 GiB, 9.46% gc time)\n"
     ]
    },
    {
     "name": "stderr",
     "output_type": "stream",
     "text": [
      "┌ Info: Genetic screen finished...\n",
      "└ @ Main In[14]:63\n",
      "┌ Info: (\"Aopt_motif\", Any[37, 51, 19, 1, 43, 48, 48, 24, 16, 8, 9, 25, 7, 5, 40, 10, 9, 19, 10, 7])\n",
      "└ @ Main In[14]:64\n"
     ]
    },
    {
     "name": "stdout",
     "output_type": "stream",
     "text": [
      "Aopt1\n",
      "  2.053676 seconds (14.64 M allocations: 1.332 GiB, 9.44% gc time)\n"
     ]
    },
    {
     "name": "stderr",
     "output_type": "stream",
     "text": [
      "┌ Info: Genetic screen finished...\n",
      "└ @ Main In[14]:63\n",
      "┌ Info: (\"Aopt_motif\", Any[35, 40, 17, 3, 47, 46, 49, 25, 13, 6, 22, 39, 5, 9, 38, 8, 6, 36, 5, 5])\n",
      "└ @ Main In[14]:64\n"
     ]
    },
    {
     "name": "stdout",
     "output_type": "stream",
     "text": [
      "Aopt1\n",
      "  5.597848 seconds (40.14 M allocations: 3.650 GiB, 9.53% gc time)\n"
     ]
    },
    {
     "name": "stderr",
     "output_type": "stream",
     "text": [
      "┌ Info: Genetic screen finished...\n",
      "└ @ Main In[14]:63\n",
      "┌ Info: (\"Aopt_motif\", Any[32, 47, 14, 46, 38, 43, 46, 22, 11, 3, 7, 37, 2, 6, 35, 5, 3, 14, 5, 2])\n",
      "└ @ Main In[14]:64\n"
     ]
    },
    {
     "name": "stdout",
     "output_type": "stream",
     "text": [
      "Aopt1\n",
      "  3.975874 seconds (28.39 M allocations: 2.582 GiB, 9.51% gc time)\n"
     ]
    },
    {
     "name": "stderr",
     "output_type": "stream",
     "text": [
      "┌ Info: Genetic screen finished...\n",
      "└ @ Main In[14]:63\n",
      "┌ Info: (\"Aopt_motif\", Any[32, 48, 15, 1, 39, 44, 46, 23, 12, 4, 19, 37, 3, 7, 36, 6, 1, 15, 6, 49])\n",
      "└ @ Main In[14]:64\n"
     ]
    },
    {
     "name": "stdout",
     "output_type": "stream",
     "text": [
      "Aopt1\n",
      "  2.868589 seconds (20.59 M allocations: 1.873 GiB, 9.58% gc time)\n"
     ]
    },
    {
     "name": "stderr",
     "output_type": "stream",
     "text": [
      "┌ Info: Genetic screen finished...\n",
      "└ @ Main In[14]:63\n",
      "┌ Info: (\"Aopt_motif\", Any[36, 50, 17, 3, 42, 9, 49, 26, 15, 7, 23, 40, 6, 16, 39, 9, 7, 18, 9, 6])\n",
      "└ @ Main In[14]:64\n"
     ]
    },
    {
     "name": "stdout",
     "output_type": "stream",
     "text": [
      "Aopt1\n",
      "  2.988030 seconds (21.47 M allocations: 1.952 GiB, 9.50% gc time)\n"
     ]
    },
    {
     "name": "stderr",
     "output_type": "stream",
     "text": [
      "┌ Info: Genetic screen finished...\n",
      "└ @ Main In[14]:63\n",
      "┌ Info: (\"Aopt_motif\", Any[34, 48, 16, 1, 41, 45, 49, 24, 13, 28, 21, 38, 4, 8, 37, 8, 5, 16, 7, 4])\n",
      "└ @ Main In[14]:64\n"
     ]
    },
    {
     "name": "stdout",
     "output_type": "stream",
     "text": [
      "Aopt1\n",
      "  2.834131 seconds (20.46 M allocations: 1.861 GiB, 9.58% gc time)\n"
     ]
    },
    {
     "name": "stderr",
     "output_type": "stream",
     "text": [
      "┌ Info: Genetic screen finished...\n",
      "└ @ Main In[14]:63\n",
      "┌ Info: (\"Aopt_motif\", Any[34, 49, 13, 1, 40, 46, 48, 23, 13, 5, 21, 38, 4, 8, 37, 7, 5, 16, 8, 4])\n",
      "└ @ Main In[14]:64\n"
     ]
    },
    {
     "name": "stdout",
     "output_type": "stream",
     "text": [
      "Aopt1\n",
      "  2.955626 seconds (21.35 M allocations: 1.942 GiB, 9.61% gc time)\n"
     ]
    },
    {
     "name": "stderr",
     "output_type": "stream",
     "text": [
      "┌ Info: Genetic screen finished...\n",
      "└ @ Main In[14]:63\n",
      "┌ Info: (\"Aopt_motif\", Any[34, 51, 17, 2, 36, 46, 33, 25, 14, 6, 22, 39, 5, 9, 38, 8, 6, 17, 8, 5])\n",
      "└ @ Main In[14]:64\n"
     ]
    },
    {
     "name": "stdout",
     "output_type": "stream",
     "text": [
      "Aopt1\n",
      "  5.096708 seconds (36.99 M allocations: 3.364 GiB, 9.64% gc time)\n"
     ]
    },
    {
     "name": "stderr",
     "output_type": "stream",
     "text": [
      "┌ Info: Genetic screen finished...\n",
      "└ @ Main In[14]:63\n",
      "┌ Info: (\"Aopt_motif\", Any[35, 50, 16, 1, 40, 45, 48, 23, 13, 5, 21, 38, 6, 25, 37, 7, 6, 16, 7, 4])\n",
      "└ @ Main In[14]:64\n"
     ]
    },
    {
     "name": "stdout",
     "output_type": "stream",
     "text": [
      "Aopt1\n",
      "  3.343374 seconds (24.05 M allocations: 2.187 GiB, 9.61% gc time)\n"
     ]
    },
    {
     "name": "stderr",
     "output_type": "stream",
     "text": [
      "┌ Info: Genetic screen finished...\n",
      "└ @ Main In[14]:63\n",
      "┌ Info: (\"Aopt_motif\", Any[36, 50, 17, 3, 42, 47, 50, 26, 15, 7, 23, 20, 6, 4, 39, 9, 7, 18, 9, 6])\n",
      "└ @ Main In[14]:64\n"
     ]
    },
    {
     "name": "stdout",
     "output_type": "stream",
     "text": [
      "Aopt1\n",
      "  4.292223 seconds (31.30 M allocations: 2.846 GiB, 9.68% gc time)\n"
     ]
    },
    {
     "name": "stderr",
     "output_type": "stream",
     "text": [
      "┌ Info: Genetic screen finished...\n",
      "└ @ Main In[14]:63\n",
      "┌ Info: (\"Aopt_motif\", Any[36, 51, 18, 3, 42, 47, 50, 26, 15, 7, 8, 40, 6, 10, 39, 9, 7, 18, 9, 6])\n",
      "└ @ Main In[14]:64\n"
     ]
    },
    {
     "name": "stdout",
     "output_type": "stream",
     "text": [
      "Aopt1\n",
      "  3.905060 seconds (28.15 M allocations: 2.560 GiB, 9.61% gc time)\n"
     ]
    },
    {
     "name": "stderr",
     "output_type": "stream",
     "text": [
      "┌ Info: Genetic screen finished...\n",
      "└ @ Main In[14]:63\n",
      "┌ Info: (\"Aopt_motif\", Any[34, 49, 16, 1, 41, 45, 48, 24, 12, 5, 21, 38, 4, 25, 38, 8, 5, 16, 7, 4])\n",
      "└ @ Main In[14]:64\n"
     ]
    },
    {
     "name": "stdout",
     "output_type": "stream",
     "text": [
      "Aopt1\n",
      "  4.245752 seconds (30.65 M allocations: 2.787 GiB, 9.58% gc time)\n"
     ]
    },
    {
     "name": "stderr",
     "output_type": "stream",
     "text": [
      "┌ Info: Genetic screen finished...\n",
      "└ @ Main In[14]:63\n",
      "┌ Info: (\"Aopt_motif\", Any[34, 49, 16, 1, 34, 45, 48, 8, 13, 5, 21, 38, 4, 8, 37, 8, 5, 16, 7, 4])\n",
      "└ @ Main In[14]:64\n"
     ]
    },
    {
     "name": "stdout",
     "output_type": "stream",
     "text": [
      "Aopt1\n",
      "  2.371871 seconds (16.89 M allocations: 1.536 GiB, 9.51% gc time)\n"
     ]
    },
    {
     "name": "stderr",
     "output_type": "stream",
     "text": [
      "┌ Info: Genetic screen finished...\n",
      "└ @ Main In[14]:63\n",
      "┌ Info: (\"Aopt_motif\", Any[34, 47, 50, 1, 40, 45, 48, 26, 13, 5, 21, 36, 5, 8, 37, 6, 5, 22, 7, 4])\n",
      "└ @ Main In[14]:64\n"
     ]
    },
    {
     "name": "stdout",
     "output_type": "stream",
     "text": [
      "Aopt1\n",
      "  4.060239 seconds (29.22 M allocations: 2.657 GiB, 9.64% gc time)\n"
     ]
    },
    {
     "name": "stderr",
     "output_type": "stream",
     "text": [
      "┌ Info: Genetic screen finished...\n",
      "└ @ Main In[14]:63\n",
      "┌ Info: (\"Aopt_motif\", Any[34, 51, 16, 1, 40, 7, 48, 24, 13, 5, 21, 18, 6, 8, 37, 6, 5, 16, 7, 20])\n",
      "└ @ Main In[14]:64\n"
     ]
    },
    {
     "name": "stdout",
     "output_type": "stream",
     "text": [
      "Aopt1\n",
      "  6.514952 seconds (47.82 M allocations: 4.348 GiB, 9.78% gc time)\n"
     ]
    },
    {
     "name": "stderr",
     "output_type": "stream",
     "text": [
      "┌ Info: Genetic screen finished...\n",
      "└ @ Main In[14]:63\n",
      "┌ Info: (\"Aopt_motif\", Any[34, 49, 16, 1, 40, 45, 48, 24, 13, 5, 21, 38, 4, 8, 37, 7, 5, 16, 7, 4])\n",
      "└ @ Main In[14]:64\n"
     ]
    },
    {
     "name": "stdout",
     "output_type": "stream",
     "text": [
      "Aopt1\n",
      "  2.855904 seconds (20.69 M allocations: 1.882 GiB, 9.67% gc time)\n"
     ]
    },
    {
     "name": "stderr",
     "output_type": "stream",
     "text": [
      "┌ Info: Genetic screen finished...\n",
      "└ @ Main In[14]:63\n",
      "┌ Info: (\"Aopt_motif\", Any[33, 49, 16, 4, 40, 45, 48, 24, 13, 5, 21, 38, 4, 8, 40, 7, 5, 16, 7, 4])\n",
      "└ @ Main In[14]:64\n"
     ]
    },
    {
     "name": "stdout",
     "output_type": "stream",
     "text": [
      "Aopt1\n",
      "  5.602533 seconds (40.67 M allocations: 3.698 GiB, 9.69% gc time)\n"
     ]
    },
    {
     "name": "stderr",
     "output_type": "stream",
     "text": [
      "┌ Info: Genetic screen finished...\n",
      "└ @ Main In[14]:63\n",
      "┌ Info: (\"Aopt_motif\", Any[34, 49, 17, 1, 40, 45, 49, 24, 13, 28, 21, 38, 4, 8, 37, 7, 6, 16, 7, 4])\n",
      "└ @ Main In[14]:64\n"
     ]
    },
    {
     "name": "stdout",
     "output_type": "stream",
     "text": [
      "Aopt1\n",
      "  2.200366 seconds (15.59 M allocations: 1.418 GiB, 9.56% gc time)\n"
     ]
    },
    {
     "name": "stderr",
     "output_type": "stream",
     "text": [
      "┌ Info: Genetic screen finished...\n",
      "└ @ Main In[14]:63\n",
      "┌ Info: (\"Aopt_motif\", Any[37, 49, 19, 2, 43, 50, 51, 24, 16, 8, 25, 41, 7, 11, 40, 10, 8, 25, 10, 7])\n",
      "└ @ Main In[14]:64\n"
     ]
    },
    {
     "name": "stdout",
     "output_type": "stream",
     "text": [
      "Aopt1\n",
      "  4.506053 seconds (32.94 M allocations: 2.995 GiB, 9.79% gc time)\n"
     ]
    },
    {
     "name": "stderr",
     "output_type": "stream",
     "text": [
      "┌ Info: Genetic screen finished...\n",
      "└ @ Main In[14]:63\n",
      "┌ Info: (\"Aopt_motif\", Any[34, 49, 16, 1, 40, 45, 48, 24, 13, 30, 21, 40, 4, 8, 37, 7, 5, 16, 7, 4])\n",
      "└ @ Main In[14]:64\n"
     ]
    },
    {
     "name": "stdout",
     "output_type": "stream",
     "text": [
      "Aopt1\n",
      "  5.445622 seconds (39.29 M allocations: 3.572 GiB, 9.64% gc time)\n"
     ]
    },
    {
     "name": "stderr",
     "output_type": "stream",
     "text": [
      "┌ Info: Genetic screen finished...\n",
      "└ @ Main In[14]:63\n",
      "┌ Info: (\"Aopt_motif\", Any[35, 50, 17, 2, 36, 46, 49, 25, 16, 6, 22, 39, 5, 9, 41, 9, 6, 17, 8, 5])\n",
      "└ @ Main In[14]:64\n"
     ]
    },
    {
     "name": "stdout",
     "output_type": "stream",
     "text": [
      "Aopt1\n",
      "  2.916248 seconds (21.02 M allocations: 1.912 GiB, 9.69% gc time)\n"
     ]
    },
    {
     "name": "stderr",
     "output_type": "stream",
     "text": [
      "┌ Info: Genetic screen finished...\n",
      "└ @ Main In[14]:63\n",
      "┌ Info: (\"Aopt_motif\", Any[34, 49, 16, 1, 34, 45, 48, 24, 13, 5, 22, 38, 4, 25, 37, 7, 5, 16, 7, 4])\n",
      "└ @ Main In[14]:64\n"
     ]
    },
    {
     "name": "stdout",
     "output_type": "stream",
     "text": [
      "Aopt1\n",
      "  3.166903 seconds (22.91 M allocations: 2.084 GiB, 9.61% gc time)\n"
     ]
    },
    {
     "name": "stderr",
     "output_type": "stream",
     "text": [
      "┌ Info: Genetic screen finished...\n",
      "└ @ Main In[14]:63\n",
      "┌ Info: (\"Aopt_motif\", Any[34, 51, 16, 1, 40, 39, 48, 24, 13, 5, 21, 37, 4, 9, 37, 7, 6, 16, 7, 4])\n",
      "└ @ Main In[14]:64\n"
     ]
    },
    {
     "name": "stdout",
     "output_type": "stream",
     "text": [
      "Aopt1\n",
      "  2.419045 seconds (17.41 M allocations: 1.583 GiB, 9.64% gc time)\n"
     ]
    },
    {
     "name": "stderr",
     "output_type": "stream",
     "text": [
      "┌ Info: Genetic screen finished...\n",
      "└ @ Main In[14]:63\n",
      "┌ Info: (\"Aopt_motif\", Any[34, 49, 16, 3, 41, 45, 48, 24, 13, 5, 21, 38, 4, 8, 37, 7, 5, 40, 6, 4])\n",
      "└ @ Main In[14]:64\n"
     ]
    },
    {
     "name": "stdout",
     "output_type": "stream",
     "text": [
      "Aopt1\n",
      "  3.323923 seconds (23.89 M allocations: 2.172 GiB, 9.66% gc time)\n"
     ]
    },
    {
     "name": "stderr",
     "output_type": "stream",
     "text": [
      "┌ Info: Genetic screen finished...\n",
      "└ @ Main In[14]:63\n",
      "┌ Info: (\"Aopt_motif\", Any[34, 49, 16, 1, 40, 39, 48, 24, 13, 4, 21, 37, 4, 8, 38, 5, 5, 15, 7, 20])\n",
      "└ @ Main In[14]:64\n"
     ]
    },
    {
     "name": "stdout",
     "output_type": "stream",
     "text": [
      "Aopt1\n",
      "  3.938431 seconds (27.85 M allocations: 2.533 GiB, 9.49% gc time)\n"
     ]
    },
    {
     "name": "stderr",
     "output_type": "stream",
     "text": [
      "┌ Info: Genetic screen finished...\n",
      "└ @ Main In[14]:63\n",
      "┌ Info: (\"Aopt_motif\", Any[36, 51, 18, 6, 36, 47, 34, 26, 15, 7, 7, 40, 6, 10, 39, 10, 36, 18, 9, 6])\n",
      "└ @ Main In[14]:64\n"
     ]
    },
    {
     "name": "stdout",
     "output_type": "stream",
     "text": [
      "Aopt1\n",
      "  3.430498 seconds (24.71 M allocations: 2.249 GiB, 9.69% gc time)\n"
     ]
    },
    {
     "name": "stderr",
     "output_type": "stream",
     "text": [
      "┌ Info: Genetic screen finished...\n",
      "└ @ Main In[14]:63\n",
      "┌ Info: (\"Aopt_motif\", Any[36, 51, 18, 3, 42, 47, 50, 23, 15, 7, 23, 40, 6, 10, 39, 9, 7, 18, 9, 6])\n",
      "└ @ Main In[14]:64\n"
     ]
    },
    {
     "name": "stdout",
     "output_type": "stream",
     "text": [
      "Aopt1\n",
      "  4.815368 seconds (34.46 M allocations: 3.136 GiB, 9.66% gc time)\n"
     ]
    },
    {
     "name": "stderr",
     "output_type": "stream",
     "text": [
      "┌ Info: Genetic screen finished...\n",
      "└ @ Main In[14]:63\n",
      "┌ Info: (\"Aopt_motif\", Any[32, 47, 14, 1, 38, 43, 46, 22, 11, 3, 4, 36, 3, 6, 35, 5, 3, 14, 6, 2])\n",
      "└ @ Main In[14]:64\n"
     ]
    },
    {
     "name": "stdout",
     "output_type": "stream",
     "text": [
      "Aopt1\n",
      "  6.852139 seconds (49.71 M allocations: 4.523 GiB, 9.77% gc time)\n"
     ]
    },
    {
     "name": "stderr",
     "output_type": "stream",
     "text": [
      "┌ Info: Genetic screen finished...\n",
      "└ @ Main In[14]:63\n",
      "┌ Info: (\"Aopt_motif\", Any[36, 51, 18, 3, 42, 47, 50, 26, 14, 7, 23, 40, 6, 10, 39, 9, 7, 18, 9, 5])\n",
      "└ @ Main In[14]:64\n"
     ]
    },
    {
     "name": "stdout",
     "output_type": "stream",
     "text": [
      "Aopt1\n",
      "  5.786358 seconds (41.65 M allocations: 3.790 GiB, 9.74% gc time)\n"
     ]
    },
    {
     "name": "stderr",
     "output_type": "stream",
     "text": [
      "┌ Info: Genetic screen finished...\n",
      "└ @ Main In[14]:63\n",
      "┌ Info: (\"Aopt_motif\", Any[32, 48, 15, 2, 39, 44, 47, 23, 12, 4, 20, 37, 3, 23, 36, 6, 4, 15, 6, 3])\n",
      "└ @ Main In[14]:64\n"
     ]
    },
    {
     "name": "stdout",
     "output_type": "stream",
     "text": [
      "Aopt1\n",
      "  2.423168 seconds (17.29 M allocations: 1.574 GiB, 9.51% gc time)\n"
     ]
    },
    {
     "name": "stderr",
     "output_type": "stream",
     "text": [
      "┌ Info: Genetic screen finished...\n",
      "└ @ Main In[14]:63\n",
      "┌ Info: (\"Aopt_motif\", Any[34, 48, 17, 2, 41, 46, 49, 25, 14, 6, 7, 41, 5, 25, 37, 7, 5, 17, 8, 5])\n",
      "└ @ Main In[14]:64\n"
     ]
    },
    {
     "name": "stdout",
     "output_type": "stream",
     "text": [
      "Aopt1\n",
      "  6.041528 seconds (43.59 M allocations: 3.967 GiB, 9.71% gc time)\n"
     ]
    },
    {
     "name": "stderr",
     "output_type": "stream",
     "text": [
      "┌ Info: Genetic screen finished...\n",
      "└ @ Main In[14]:63\n",
      "┌ Info: (\"Aopt_motif\", Any[34, 48, 15, 1, 39, 44, 48, 23, 12, 4, 20, 37, 3, 7, 36, 6, 4, 15, 6, 3])\n",
      "└ @ Main In[14]:64\n"
     ]
    },
    {
     "name": "stdout",
     "output_type": "stream",
     "text": [
      "Aopt1\n",
      "  5.869058 seconds (42.61 M allocations: 3.877 GiB, 9.80% gc time)\n"
     ]
    },
    {
     "name": "stderr",
     "output_type": "stream",
     "text": [
      "┌ Info: Genetic screen finished...\n",
      "└ @ Main In[14]:63\n",
      "┌ Info: (\"Aopt_motif\", Any[35, 50, 17, 2, 41, 46, 49, 25, 14, 6, 6, 39, 5, 9, 38, 8, 6, 17, 8, 5])\n",
      "└ @ Main In[14]:64\n"
     ]
    },
    {
     "name": "stdout",
     "output_type": "stream",
     "text": [
      "Aopt1\n",
      "  4.121508 seconds (30.02 M allocations: 2.732 GiB, 9.74% gc time)\n"
     ]
    },
    {
     "name": "stderr",
     "output_type": "stream",
     "text": [
      "┌ Info: Genetic screen finished...\n",
      "└ @ Main In[14]:63\n",
      "┌ Info: (\"Aopt_motif\", Any[35, 50, 17, 2, 41, 40, 49, 25, 15, 6, 22, 19, 5, 9, 38, 8, 6, 17, 8, 5])\n",
      "└ @ Main In[14]:64\n"
     ]
    },
    {
     "name": "stdout",
     "output_type": "stream",
     "text": [
      "Aopt1\n",
      "  6.474171 seconds (46.73 M allocations: 4.251 GiB, 9.75% gc time)\n"
     ]
    },
    {
     "name": "stderr",
     "output_type": "stream",
     "text": [
      "┌ Info: Genetic screen finished...\n",
      "└ @ Main In[14]:63\n",
      "┌ Info: (\"Aopt_motif\", Any[35, 50, 17, 2, 36, 46, 49, 25, 14, 6, 22, 39, 5, 9, 38, 8, 5, 41, 8, 5])\n",
      "└ @ Main In[14]:64\n"
     ]
    },
    {
     "name": "stdout",
     "output_type": "stream",
     "text": [
      "Aopt1\n",
      "  2.882967 seconds (20.35 M allocations: 1.852 GiB, 9.45% gc time)\n"
     ]
    },
    {
     "name": "stderr",
     "output_type": "stream",
     "text": [
      "┌ Info: Genetic screen finished...\n",
      "└ @ Main In[14]:63\n",
      "┌ Info: (\"Aopt_motif\", Any[36, 51, 24, 3, 42, 47, 49, 26, 15, 6, 23, 40, 6, 4, 39, 8, 7, 34, 9, 22])\n",
      "└ @ Main In[14]:64\n"
     ]
    },
    {
     "name": "stdout",
     "output_type": "stream",
     "text": [
      "Aopt1\n",
      "  6.453076 seconds (46.74 M allocations: 4.253 GiB, 9.75% gc time)\n"
     ]
    },
    {
     "name": "stderr",
     "output_type": "stream",
     "text": [
      "┌ Info: Genetic screen finished...\n",
      "└ @ Main In[14]:63\n",
      "┌ Info: (\"Aopt_motif\", Any[35, 50, 17, 2, 41, 46, 48, 25, 14, 6, 22, 39, 5, 9, 38, 7, 6, 17, 8, 5])\n",
      "└ @ Main In[14]:64\n"
     ]
    },
    {
     "name": "stdout",
     "output_type": "stream",
     "text": [
      "Aopt1\n",
      "  2.241909 seconds (16.18 M allocations: 1.473 GiB, 9.75% gc time)\n"
     ]
    },
    {
     "name": "stderr",
     "output_type": "stream",
     "text": [
      "┌ Info: Genetic screen finished...\n",
      "└ @ Main In[14]:63\n",
      "┌ Info: (\"Aopt_motif\", Any[35, 50, 17, 2, 41, 46, 49, 25, 12, 6, 22, 39, 5, 9, 38, 8, 6, 17, 8, 4])\n",
      "└ @ Main In[14]:64\n"
     ]
    },
    {
     "name": "stdout",
     "output_type": "stream",
     "text": [
      "Aopt1\n",
      "  4.507003 seconds (32.70 M allocations: 2.975 GiB, 9.85% gc time)\n"
     ]
    },
    {
     "name": "stderr",
     "output_type": "stream",
     "text": [
      "┌ Info: Genetic screen finished...\n",
      "└ @ Main In[14]:63\n",
      "┌ Info: (\"Aopt_motif\", Any[34, 49, 16, 1, 40, 45, 48, 24, 13, 30, 21, 37, 4, 8, 37, 7, 5, 16, 7, 4])\n",
      "└ @ Main In[14]:64\n"
     ]
    },
    {
     "name": "stdout",
     "output_type": "stream",
     "text": [
      "Aopt1\n",
      "  3.991933 seconds (28.54 M allocations: 2.598 GiB, 9.63% gc time)\n"
     ]
    },
    {
     "name": "stderr",
     "output_type": "stream",
     "text": [
      "┌ Info: Genetic screen finished...\n",
      "└ @ Main In[14]:63\n",
      "┌ Info: (\"Aopt_motif\", Any[32, 47, 14, 1, 38, 43, 46, 22, 11, 3, 19, 36, 2, 6, 29, 5, 3, 16, 5, 2])\n",
      "└ @ Main In[14]:64\n"
     ]
    },
    {
     "name": "stdout",
     "output_type": "stream",
     "text": [
      "Aopt1\n",
      "  4.267207 seconds (30.58 M allocations: 2.782 GiB, 9.67% gc time)\n"
     ]
    },
    {
     "name": "stderr",
     "output_type": "stream",
     "text": [
      "┌ Info: Genetic screen finished...\n",
      "└ @ Main In[14]:63\n",
      "┌ Info: (\"Aopt_motif\", Any[36, 51, 18, 3, 42, 47, 50, 26, 33, 30, 23, 40, 6, 10, 38, 8, 7, 18, 9, 6])\n",
      "└ @ Main In[14]:64\n"
     ]
    },
    {
     "name": "stdout",
     "output_type": "stream",
     "text": [
      "Aopt1\n",
      "  6.252964 seconds (45.24 M allocations: 4.116 GiB, 9.80% gc time)\n"
     ]
    },
    {
     "name": "stderr",
     "output_type": "stream",
     "text": [
      "┌ Info: Genetic screen finished...\n",
      "└ @ Main In[14]:63\n",
      "┌ Info: (\"Aopt_motif\", Any[34, 49, 13, 1, 40, 45, 48, 24, 13, 5, 6, 38, 4, 8, 37, 7, 5, 17, 5, 4])\n",
      "└ @ Main In[14]:64\n"
     ]
    },
    {
     "name": "stdout",
     "output_type": "stream",
     "text": [
      "Aopt1\n",
      "  4.342827 seconds (31.65 M allocations: 2.880 GiB, 9.89% gc time)\n"
     ]
    },
    {
     "name": "stderr",
     "output_type": "stream",
     "text": [
      "┌ Info: Genetic screen finished...\n",
      "└ @ Main In[14]:63\n",
      "┌ Info: (\"Aopt_motif\", Any[35, 50, 17, 2, 41, 46, 49, 25, 14, 6, 22, 39, 5, 9, 38, 8, 6, 16, 8, 5])\n",
      "└ @ Main In[14]:64\n"
     ]
    },
    {
     "name": "stdout",
     "output_type": "stream",
     "text": [
      "Aopt1\n",
      "  4.806599 seconds (34.87 M allocations: 3.173 GiB, 9.81% gc time)\n"
     ]
    },
    {
     "name": "stderr",
     "output_type": "stream",
     "text": [
      "┌ Info: Genetic screen finished...\n",
      "└ @ Main In[14]:63\n",
      "┌ Info: (\"Aopt_motif\", Any[32, 49, 13, 1, 40, 45, 48, 24, 13, 5, 21, 38, 4, 8, 37, 7, 4, 16, 7, 4])\n",
      "└ @ Main In[14]:64\n"
     ]
    },
    {
     "name": "stdout",
     "output_type": "stream",
     "text": [
      "Aopt1\n",
      "  6.181851 seconds (45.22 M allocations: 4.114 GiB, 9.91% gc time)\n"
     ]
    },
    {
     "name": "stderr",
     "output_type": "stream",
     "text": [
      "┌ Info: Genetic screen finished...\n",
      "└ @ Main In[14]:63\n",
      "┌ Info: (\"Aopt_motif\", Any[34, 49, 16, 1, 35, 45, 48, 24, 13, 5, 39, 38, 4, 8, 37, 7, 5, 16, 7, 4])\n",
      "└ @ Main In[14]:64\n"
     ]
    },
    {
     "name": "stdout",
     "output_type": "stream",
     "text": [
      "Aopt1\n",
      "  2.420187 seconds (17.00 M allocations: 1.547 GiB, 9.48% gc time)\n"
     ]
    },
    {
     "name": "stderr",
     "output_type": "stream",
     "text": [
      "┌ Info: Genetic screen finished...\n",
      "└ @ Main In[14]:63\n",
      "┌ Info: (\"Aopt_motif\", Any[35, 50, 14, 5, 44, 11, 49, 28, 19, 6, 25, 42, 8, 12, 41, 11, 10, 20, 5, 8])\n",
      "└ @ Main In[14]:64\n"
     ]
    },
    {
     "name": "stdout",
     "output_type": "stream",
     "text": [
      "Aopt1\n",
      "  4.311515 seconds (31.07 M allocations: 2.827 GiB, 9.84% gc time)\n"
     ]
    },
    {
     "name": "stderr",
     "output_type": "stream",
     "text": [
      "┌ Info: Genetic screen finished...\n",
      "└ @ Main In[14]:63\n",
      "┌ Info: (\"Aopt_motif\", Any[35, 50, 17, 2, 41, 46, 49, 25, 14, 6, 22, 39, 7, 9, 39, 8, 6, 17, 5, 5])\n",
      "└ @ Main In[14]:64\n"
     ]
    },
    {
     "name": "stdout",
     "output_type": "stream",
     "text": [
      "Aopt1\n",
      "  4.326662 seconds (31.59 M allocations: 2.874 GiB, 9.91% gc time)\n"
     ]
    },
    {
     "name": "stderr",
     "output_type": "stream",
     "text": [
      "┌ Info: Genetic screen finished...\n",
      "└ @ Main In[14]:63\n",
      "┌ Info: (\"Aopt_motif\", Any[36, 51, 18, 3, 42, 47, 50, 26, 15, 7, 23, 40, 6, 10, 39, 9, 7, 18, 9, 6])\n",
      "└ @ Main In[14]:64\n"
     ]
    },
    {
     "name": "stdout",
     "output_type": "stream",
     "text": [
      "Aopt1\n",
      "  5.841412 seconds (42.05 M allocations: 3.826 GiB, 9.78% gc time)\n"
     ]
    },
    {
     "name": "stderr",
     "output_type": "stream",
     "text": [
      "┌ Info: Genetic screen finished...\n",
      "└ @ Main In[14]:63\n",
      "┌ Info: (\"Aopt_motif\", Any[35, 50, 17, 2, 41, 40, 49, 25, 14, 31, 22, 39, 6, 9, 38, 8, 6, 23, 8, 51])\n",
      "└ @ Main In[14]:64\n"
     ]
    },
    {
     "name": "stdout",
     "output_type": "stream",
     "text": [
      "Aopt1\n",
      "  4.624756 seconds (32.87 M allocations: 2.992 GiB, 9.65% gc time)\n"
     ]
    },
    {
     "name": "stderr",
     "output_type": "stream",
     "text": [
      "┌ Info: Genetic screen finished...\n",
      "└ @ Main In[14]:63\n",
      "┌ Info: (\"Aopt_motif\", Any[33, 48, 15, 2, 39, 44, 47, 23, 12, 4, 38, 37, 5, 7, 37, 6, 6, 15, 5, 3])\n",
      "└ @ Main In[14]:64\n"
     ]
    },
    {
     "name": "stdout",
     "output_type": "stream",
     "text": [
      "Aopt1\n",
      "  4.568091 seconds (32.04 M allocations: 2.915 GiB, 9.56% gc time)\n"
     ]
    },
    {
     "name": "stderr",
     "output_type": "stream",
     "text": [
      "┌ Info: Genetic screen finished...\n",
      "└ @ Main In[14]:63\n",
      "┌ Info: (\"Aopt_motif\", Any[33, 48, 49, 1, 39, 44, 28, 23, 12, 29, 5, 37, 3, 6, 36, 4, 4, 14, 6, 3])\n",
      "└ @ Main In[14]:64\n"
     ]
    },
    {
     "name": "stdout",
     "output_type": "stream",
     "text": [
      "Aopt1\n",
      "  2.893460 seconds (20.50 M allocations: 1.866 GiB, 9.59% gc time)\n"
     ]
    },
    {
     "name": "stderr",
     "output_type": "stream",
     "text": [
      "┌ Info: Genetic screen finished...\n",
      "└ @ Main In[14]:63\n",
      "┌ Info: (\"Aopt_motif\", Any[34, 50, 17, 2, 41, 8, 49, 25, 12, 6, 6, 19, 5, 3, 38, 8, 6, 41, 8, 5])\n",
      "└ @ Main In[14]:64\n"
     ]
    },
    {
     "name": "stdout",
     "output_type": "stream",
     "text": [
      "Aopt1\n",
      "  4.177724 seconds (29.97 M allocations: 2.727 GiB, 9.89% gc time)\n"
     ]
    },
    {
     "name": "stderr",
     "output_type": "stream",
     "text": [
      "┌ Info: Genetic screen finished...\n",
      "└ @ Main In[14]:63\n",
      "┌ Info: (\"Aopt_motif\", Any[34, 49, 16, 4, 40, 45, 48, 27, 13, 4, 21, 38, 4, 8, 37, 7, 5, 19, 7, 4])\n",
      "└ @ Main In[14]:64\n"
     ]
    },
    {
     "name": "stdout",
     "output_type": "stream",
     "text": [
      "Aopt1\n",
      "  5.992648 seconds (43.17 M allocations: 3.928 GiB, 9.79% gc time)\n"
     ]
    },
    {
     "name": "stderr",
     "output_type": "stream",
     "text": [
      "┌ Info: Genetic screen finished...\n",
      "└ @ Main In[14]:63\n",
      "┌ Info: (\"Aopt_motif\", Any[37, 50, 19, 4, 43, 48, 51, 27, 16, 8, 24, 41, 7, 11, 40, 10, 8, 19, 10, 7])\n",
      "└ @ Main In[14]:64\n"
     ]
    },
    {
     "name": "stdout",
     "output_type": "stream",
     "text": [
      "Aopt1\n",
      "  6.322607 seconds (45.78 M allocations: 4.165 GiB, 9.94% gc time)\n"
     ]
    },
    {
     "name": "stderr",
     "output_type": "stream",
     "text": [
      "┌ Info: Genetic screen finished...\n",
      "└ @ Main In[14]:63\n",
      "┌ Info: (\"Aopt_motif\", Any[36, 51, 18, 3, 42, 9, 50, 26, 15, 7, 23, 40, 6, 10, 39, 9, 7, 18, 9, 6])\n",
      "└ @ Main In[14]:64\n"
     ]
    },
    {
     "name": "stdout",
     "output_type": "stream",
     "text": [
      "Aopt1\n",
      "  6.701609 seconds (49.14 M allocations: 4.471 GiB, 9.95% gc time)\n"
     ]
    },
    {
     "name": "stderr",
     "output_type": "stream",
     "text": [
      "┌ Info: Genetic screen finished...\n",
      "└ @ Main In[14]:63\n",
      "┌ Info: (\"Aopt_motif\", Any[36, 51, 18, 3, 42, 47, 50, 26, 15, 7, 23, 40, 6, 10, 39, 9, 7, 18, 9, 6])\n",
      "└ @ Main In[14]:64\n"
     ]
    },
    {
     "name": "stdout",
     "output_type": "stream",
     "text": [
      "Aopt1\n",
      "  4.167433 seconds (30.21 M allocations: 2.749 GiB, 9.89% gc time)\n"
     ]
    },
    {
     "name": "stderr",
     "output_type": "stream",
     "text": [
      "┌ Info: Genetic screen finished...\n",
      "└ @ Main In[14]:63\n",
      "┌ Info: (\"Aopt_motif\", Any[34, 49, 16, 1, 40, 45, 48, 24, 13, 5, 21, 38, 4, 2, 37, 8, 5, 16, 7, 4])\n",
      "└ @ Main In[14]:64\n"
     ]
    },
    {
     "name": "stdout",
     "output_type": "stream",
     "text": [
      "Aopt1\n",
      "  3.024084 seconds (21.48 M allocations: 1.955 GiB, 9.60% gc time)\n"
     ]
    },
    {
     "name": "stderr",
     "output_type": "stream",
     "text": [
      "┌ Info: Genetic screen finished...\n",
      "└ @ Main In[14]:63\n",
      "┌ Info: (\"Aopt_motif\", Any[37, 50, 19, 4, 43, 48, 51, 27, 16, 11, 42, 15, 7, 5, 40, 10, 6, 19, 10, 7])\n",
      "└ @ Main In[14]:64\n"
     ]
    },
    {
     "name": "stdout",
     "output_type": "stream",
     "text": [
      "Aopt1\n",
      "  4.480902 seconds (32.39 M allocations: 2.947 GiB, 9.83% gc time)\n"
     ]
    },
    {
     "name": "stderr",
     "output_type": "stream",
     "text": [
      "┌ Info: Genetic screen finished...\n",
      "└ @ Main In[14]:63\n",
      "┌ Info: (\"Aopt_motif\", Any[35, 50, 17, 2, 35, 46, 49, 25, 14, 6, 22, 19, 5, 3, 38, 9, 6, 17, 8, 5])\n",
      "└ @ Main In[14]:64\n"
     ]
    },
    {
     "name": "stdout",
     "output_type": "stream",
     "text": [
      "Aopt1\n",
      "  3.376008 seconds (24.49 M allocations: 2.228 GiB, 9.87% gc time)\n"
     ]
    },
    {
     "name": "stderr",
     "output_type": "stream",
     "text": [
      "┌ Info: Genetic screen finished...\n",
      "└ @ Main In[14]:63\n",
      "┌ Info: (\"Aopt_motif\", Any[34, 51, 16, 1, 40, 45, 48, 24, 10, 5, 21, 38, 4, 2, 37, 7, 4, 16, 7, 4])\n",
      "└ @ Main In[14]:64\n"
     ]
    },
    {
     "name": "stdout",
     "output_type": "stream",
     "text": [
      "Aopt1\n",
      "  3.477511 seconds (25.20 M allocations: 2.293 GiB, 9.92% gc time)\n"
     ]
    },
    {
     "name": "stderr",
     "output_type": "stream",
     "text": [
      "┌ Info: Genetic screen finished...\n",
      "└ @ Main In[14]:63\n",
      "┌ Info: (\"Aopt_motif\", Any[33, 49, 16, 1, 40, 45, 48, 24, 13, 6, 21, 38, 4, 8, 37, 7, 5, 40, 7, 4])\n",
      "└ @ Main In[14]:64\n"
     ]
    },
    {
     "name": "stdout",
     "output_type": "stream",
     "text": [
      "Aopt1\n",
      "  6.462758 seconds (46.73 M allocations: 4.251 GiB, 9.84% gc time)\n"
     ]
    },
    {
     "name": "stderr",
     "output_type": "stream",
     "text": [
      "┌ Info: Genetic screen finished...\n",
      "└ @ Main In[14]:63\n",
      "┌ Info: (\"Aopt_motif\", Any[33, 48, 15, 1, 39, 44, 47, 23, 12, 4, 20, 37, 2, 7, 36, 6, 4, 15, 6, 49])\n",
      "└ @ Main In[14]:64\n"
     ]
    },
    {
     "name": "stdout",
     "output_type": "stream",
     "text": [
      "Aopt1\n",
      "  2.591073 seconds (18.63 M allocations: 1.695 GiB, 9.74% gc time)\n"
     ]
    },
    {
     "name": "stderr",
     "output_type": "stream",
     "text": [
      "┌ Info: Genetic screen finished...\n",
      "└ @ Main In[14]:63\n",
      "┌ Info: (\"Aopt_motif\", Any[34, 50, 16, 1, 40, 45, 48, 21, 13, 5, 27, 38, 4, 8, 40, 7, 5, 22, 7, 3])\n",
      "└ @ Main In[14]:64\n"
     ]
    },
    {
     "name": "stdout",
     "output_type": "stream",
     "text": [
      "Aopt1\n",
      "  5.602866 seconds (40.12 M allocations: 3.650 GiB, 9.76% gc time)\n"
     ]
    },
    {
     "name": "stderr",
     "output_type": "stream",
     "text": [
      "┌ Info: Genetic screen finished...\n",
      "└ @ Main In[14]:63\n",
      "┌ Info: (\"Aopt_motif\", Any[33, 48, 15, 1, 39, 44, 47, 23, 12, 4, 38, 37, 3, 7, 36, 6, 4, 15, 6, 3])\n",
      "└ @ Main In[14]:64\n"
     ]
    },
    {
     "name": "stdout",
     "output_type": "stream",
     "text": [
      "Aopt1\n",
      "  7.014766 seconds (50.48 M allocations: 4.592 GiB, 9.80% gc time)\n"
     ]
    },
    {
     "name": "stderr",
     "output_type": "stream",
     "text": [
      "┌ Info: Genetic screen finished...\n",
      "└ @ Main In[14]:63\n",
      "┌ Info: (\"Aopt_motif\", Any[34, 49, 16, 48, 40, 45, 48, 24, 13, 6, 6, 38, 4, 8, 37, 7, 5, 16, 7, 4])\n",
      "└ @ Main In[14]:64\n"
     ]
    },
    {
     "name": "stdout",
     "output_type": "stream",
     "text": [
      "Aopt1\n",
      "  4.763486 seconds (34.89 M allocations: 3.174 GiB, 10.01% gc time)\n"
     ]
    },
    {
     "name": "stderr",
     "output_type": "stream",
     "text": [
      "┌ Info: Genetic screen finished...\n",
      "└ @ Main In[14]:63\n",
      "┌ Info: (\"Aopt_motif\", Any[34, 49, 16, 1, 40, 45, 48, 24, 13, 5, 21, 38, 4, 8, 37, 7, 5, 22, 7, 20])\n",
      "└ @ Main In[14]:64\n"
     ]
    },
    {
     "name": "stdout",
     "output_type": "stream",
     "text": [
      "Aopt1\n",
      "  3.584376 seconds (25.71 M allocations: 2.339 GiB, 9.72% gc time)\n"
     ]
    },
    {
     "name": "stderr",
     "output_type": "stream",
     "text": [
      "┌ Info: Genetic screen finished...\n",
      "└ @ Main In[14]:63\n",
      "┌ Info: (\"Aopt_motif\", Any[35, 50, 17, 2, 41, 46, 49, 26, 14, 6, 7, 39, 5, 9, 38, 8, 4, 17, 5, 5])\n",
      "└ @ Main In[14]:64\n"
     ]
    },
    {
     "name": "stdout",
     "output_type": "stream",
     "text": [
      "Aopt1\n",
      "  5.076374 seconds (36.60 M allocations: 3.330 GiB, 9.84% gc time)\n"
     ]
    },
    {
     "name": "stderr",
     "output_type": "stream",
     "text": [
      "┌ Info: Genetic screen finished...\n",
      "└ @ Main In[14]:63\n",
      "┌ Info: (\"Aopt_motif\", Any[35, 50, 17, 2, 41, 46, 49, 25, 14, 6, 22, 19, 4, 9, 38, 8, 5, 17, 8, 5])\n",
      "└ @ Main In[14]:64\n"
     ]
    },
    {
     "name": "stdout",
     "output_type": "stream",
     "text": [
      "Aopt1\n",
      "  5.293660 seconds (37.77 M allocations: 3.436 GiB, 9.75% gc time)\n"
     ]
    },
    {
     "name": "stderr",
     "output_type": "stream",
     "text": [
      "┌ Info: Genetic screen finished...\n",
      "└ @ Main In[14]:63\n",
      "┌ Info: (\"Aopt_motif\", Any[33, 48, 15, 1, 39, 6, 47, 23, 12, 5, 20, 37, 3, 7, 36, 6, 4, 14, 6, 3])\n",
      "└ @ Main In[14]:64\n"
     ]
    },
    {
     "name": "stdout",
     "output_type": "stream",
     "text": [
      "Aopt1\n",
      "  3.396055 seconds (24.76 M allocations: 2.253 GiB, 9.91% gc time)\n"
     ]
    },
    {
     "name": "stderr",
     "output_type": "stream",
     "text": [
      "┌ Info: Genetic screen finished...\n",
      "└ @ Main In[14]:63\n",
      "┌ Info: (\"Aopt_motif\", Any[34, 49, 16, 1, 40, 45, 48, 24, 13, 28, 21, 38, 4, 8, 37, 7, 6, 16, 7, 4])\n",
      "└ @ Main In[14]:64\n"
     ]
    },
    {
     "name": "stdout",
     "output_type": "stream",
     "text": [
      "Aopt1\n",
      "  5.898265 seconds (42.51 M allocations: 3.868 GiB, 9.87% gc time)\n"
     ]
    },
    {
     "name": "stderr",
     "output_type": "stream",
     "text": [
      "┌ Info: Genetic screen finished...\n",
      "└ @ Main In[14]:63\n",
      "┌ Info: (\"Aopt_motif\", Any[35, 50, 16, 2, 41, 8, 49, 26, 14, 6, 22, 39, 5, 9, 38, 8, 6, 17, 8, 5])\n",
      "└ @ Main In[14]:64\n"
     ]
    },
    {
     "name": "stdout",
     "output_type": "stream",
     "text": [
      "Aopt1\n",
      "  4.055175 seconds (29.79 M allocations: 2.710 GiB, 10.05% gc time)\n"
     ]
    },
    {
     "name": "stderr",
     "output_type": "stream",
     "text": [
      "┌ Info: Genetic screen finished...\n",
      "└ @ Main In[14]:63\n",
      "┌ Info: (\"Aopt_motif\", Any[34, 49, 16, 1, 40, 45, 48, 24, 13, 5, 21, 12, 4, 8, 37, 7, 5, 16, 7, 4])\n",
      "└ @ Main In[14]:64\n"
     ]
    },
    {
     "name": "stdout",
     "output_type": "stream",
     "text": [
      "Aopt1\n",
      "  3.954151 seconds (28.29 M allocations: 2.574 GiB, 9.80% gc time)\n"
     ]
    },
    {
     "name": "stderr",
     "output_type": "stream",
     "text": [
      "┌ Info: Genetic screen finished...\n",
      "└ @ Main In[14]:63\n",
      "┌ Info: (\"Aopt_motif\", Any[42, 51, 18, 3, 42, 46, 50, 26, 15, 7, 7, 40, 12, 10, 39, 9, 7, 18, 9, 6])\n",
      "└ @ Main In[14]:64\n"
     ]
    },
    {
     "name": "stdout",
     "output_type": "stream",
     "text": [
      "Aopt1\n",
      "  3.362133 seconds (24.52 M allocations: 2.231 GiB, 9.92% gc time)\n"
     ]
    },
    {
     "name": "stderr",
     "output_type": "stream",
     "text": [
      "┌ Info: Genetic screen finished...\n",
      "└ @ Main In[14]:63\n",
      "┌ Info: (\"Aopt_motif\", Any[35, 50, 18, 2, 41, 46, 49, 25, 14, 6, 22, 39, 5, 9, 38, 8, 6, 17, 8, 5])\n",
      "└ @ Main In[14]:64\n"
     ]
    },
    {
     "name": "stdout",
     "output_type": "stream",
     "text": [
      "Aopt1\n",
      "  2.659406 seconds (18.99 M allocations: 1.728 GiB, 9.79% gc time)\n"
     ]
    },
    {
     "name": "stderr",
     "output_type": "stream",
     "text": [
      "┌ Info: Genetic screen finished...\n",
      "└ @ Main In[14]:63\n",
      "┌ Info: (\"Aopt_motif\", Any[35, 50, 17, 2, 41, 46, 49, 26, 14, 6, 6, 39, 5, 9, 32, 8, 6, 17, 8, 5])\n",
      "└ @ Main In[14]:64\n"
     ]
    },
    {
     "name": "stdout",
     "output_type": "stream",
     "text": [
      "Aopt1\n",
      "  4.658859 seconds (33.78 M allocations: 3.073 GiB, 9.94% gc time)\n"
     ]
    },
    {
     "name": "stderr",
     "output_type": "stream",
     "text": [
      "┌ Info: Genetic screen finished...\n",
      "└ @ Main In[14]:63\n",
      "┌ Info: (\"Aopt_motif\", Any[34, 51, 16, 1, 40, 45, 49, 24, 13, 5, 21, 40, 4, 2, 37, 7, 5, 16, 7, 4])\n",
      "└ @ Main In[14]:64\n"
     ]
    },
    {
     "name": "stdout",
     "output_type": "stream",
     "text": [
      "Aopt1\n",
      "  5.097978 seconds (36.29 M allocations: 3.301 GiB, 9.74% gc time)\n"
     ]
    },
    {
     "name": "stderr",
     "output_type": "stream",
     "text": [
      "┌ Info: Genetic screen finished...\n",
      "└ @ Main In[14]:63\n",
      "┌ Info: (\"Aopt_motif\", Any[32, 47, 14, 46, 38, 43, 48, 23, 11, 28, 19, 37, 2, 6, 35, 5, 3, 14, 5, 2])\n",
      "└ @ Main In[14]:64\n"
     ]
    },
    {
     "name": "stdout",
     "output_type": "stream",
     "text": [
      "Aopt1\n",
      "  4.825884 seconds (34.76 M allocations: 3.162 GiB, 9.87% gc time)\n"
     ]
    },
    {
     "name": "stderr",
     "output_type": "stream",
     "text": [
      "┌ Info: Genetic screen finished...\n",
      "└ @ Main In[14]:63\n",
      "┌ Info: (\"Aopt_motif\", Any[35, 50, 17, 2, 13, 46, 49, 25, 14, 6, 23, 39, 5, 9, 38, 8, 6, 17, 8, 5])\n",
      "└ @ Main In[14]:64\n"
     ]
    },
    {
     "name": "stdout",
     "output_type": "stream",
     "text": [
      "Aopt1\n",
      "  3.317279 seconds (23.84 M allocations: 2.169 GiB, 10.06% gc time)\n"
     ]
    },
    {
     "name": "stderr",
     "output_type": "stream",
     "text": [
      "┌ Info: Genetic screen finished...\n",
      "└ @ Main In[14]:63\n",
      "┌ Info: (\"Aopt_motif\", Any[32, 49, 16, 1, 40, 39, 48, 24, 13, 5, 21, 38, 4, 8, 37, 8, 5, 16, 7, 4])\n",
      "└ @ Main In[14]:64\n"
     ]
    },
    {
     "name": "stdout",
     "output_type": "stream",
     "text": [
      "Aopt1\n",
      "  6.982352 seconds (50.93 M allocations: 4.633 GiB, 10.06% gc time)\n"
     ]
    },
    {
     "name": "stderr",
     "output_type": "stream",
     "text": [
      "┌ Info: Genetic screen finished...\n",
      "└ @ Main In[14]:63\n",
      "┌ Info: (\"Aopt_motif\", Any[34, 49, 16, 1, 40, 45, 48, 23, 13, 5, 21, 38, 4, 8, 37, 8, 5, 16, 7, 4])\n",
      "└ @ Main In[14]:64\n"
     ]
    },
    {
     "name": "stdout",
     "output_type": "stream",
     "text": [
      "Aopt1\n",
      "  5.032311 seconds (36.17 M allocations: 3.291 GiB, 9.85% gc time)\n"
     ]
    },
    {
     "name": "stderr",
     "output_type": "stream",
     "text": [
      "┌ Info: Genetic screen finished...\n",
      "└ @ Main In[14]:63\n",
      "┌ Info: (\"Aopt_motif\", Any[33, 49, 15, 1, 39, 44, 47, 23, 12, 4, 20, 37, 3, 1, 36, 6, 4, 15, 6, 3])\n",
      "└ @ Main In[14]:64\n"
     ]
    },
    {
     "name": "stdout",
     "output_type": "stream",
     "text": [
      "Aopt1\n",
      "  3.252542 seconds (23.41 M allocations: 2.130 GiB, 9.90% gc time)\n"
     ]
    },
    {
     "name": "stderr",
     "output_type": "stream",
     "text": [
      "┌ Info: Genetic screen finished...\n",
      "└ @ Main In[14]:63\n",
      "┌ Info: (\"Aopt_motif\", Any[36, 51, 18, 3, 42, 47, 49, 26, 15, 6, 23, 40, 6, 10, 39, 9, 7, 18, 9, 6])\n",
      "└ @ Main In[14]:64\n"
     ]
    },
    {
     "name": "stdout",
     "output_type": "stream",
     "text": [
      "Aopt1\n",
      "  6.656831 seconds (48.27 M allocations: 4.391 GiB, 9.98% gc time)\n"
     ]
    },
    {
     "name": "stderr",
     "output_type": "stream",
     "text": [
      "┌ Info: Genetic screen finished...\n",
      "└ @ Main In[14]:63\n",
      "┌ Info: (\"Aopt_motif\", Any[35, 50, 17, 2, 41, 46, 48, 25, 14, 6, 22, 39, 5, 9, 38, 8, 6, 17, 8, 5])\n",
      "└ @ Main In[14]:64\n"
     ]
    },
    {
     "name": "stdout",
     "output_type": "stream",
     "text": [
      "Aopt1\n",
      "  4.235509 seconds (30.57 M allocations: 2.781 GiB, 9.91% gc time)\n"
     ]
    },
    {
     "name": "stderr",
     "output_type": "stream",
     "text": [
      "┌ Info: Genetic screen finished...\n",
      "└ @ Main In[14]:63\n",
      "┌ Info: (\"Aopt_motif\", Any[34, 49, 16, 1, 40, 45, 48, 23, 47, 5, 21, 38, 4, 8, 37, 7, 5, 16, 7, 4])\n",
      "└ @ Main In[14]:64\n"
     ]
    },
    {
     "name": "stdout",
     "output_type": "stream",
     "text": [
      "Aopt1\n",
      "  3.021244 seconds (21.56 M allocations: 1.961 GiB, 9.78% gc time)\n"
     ]
    },
    {
     "name": "stderr",
     "output_type": "stream",
     "text": [
      "┌ Info: Genetic screen finished...\n",
      "└ @ Main In[14]:63\n",
      "┌ Info: (\"Aopt_motif\", Any[36, 50, 18, 3, 42, 47, 50, 26, 15, 7, 21, 40, 6, 10, 38, 9, 7, 18, 3, 6])\n",
      "└ @ Main In[14]:64\n"
     ]
    },
    {
     "name": "stdout",
     "output_type": "stream",
     "text": [
      "Aopt1\n",
      "  4.904483 seconds (35.46 M allocations: 3.226 GiB, 9.88% gc time)\n"
     ]
    },
    {
     "name": "stderr",
     "output_type": "stream",
     "text": [
      "┌ Info: Genetic screen finished...\n",
      "└ @ Main In[14]:63\n",
      "┌ Info: (\"Aopt_motif\", Any[34, 49, 16, 1, 41, 45, 48, 24, 13, 5, 21, 38, 6, 8, 37, 7, 5, 16, 7, 4])\n",
      "└ @ Main In[14]:64\n"
     ]
    },
    {
     "name": "stdout",
     "output_type": "stream",
     "text": [
      "Aopt1\n",
      "  3.071064 seconds (22.08 M allocations: 2.009 GiB, 9.89% gc time)\n"
     ]
    },
    {
     "name": "stderr",
     "output_type": "stream",
     "text": [
      "┌ Info: Genetic screen finished...\n",
      "└ @ Main In[14]:63\n",
      "┌ Info: (\"Aopt_motif\", Any[34, 49, 16, 1, 40, 45, 46, 24, 13, 5, 39, 18, 4, 8, 37, 7, 5, 16, 7, 4])\n",
      "└ @ Main In[14]:64\n"
     ]
    },
    {
     "name": "stdout",
     "output_type": "stream",
     "text": [
      "Aopt1\n",
      "  4.037960 seconds (28.59 M allocations: 2.601 GiB, 9.74% gc time)\n"
     ]
    },
    {
     "name": "stderr",
     "output_type": "stream",
     "text": [
      "┌ Info: Genetic screen finished...\n",
      "└ @ Main In[14]:63\n",
      "┌ Info: (\"Aopt_motif\", Any[37, 51, 19, 4, 43, 42, 4, 28, 16, 8, 24, 43, 7, 11, 40, 10, 8, 25, 11, 7])\n",
      "└ @ Main In[14]:64\n"
     ]
    },
    {
     "name": "stdout",
     "output_type": "stream",
     "text": [
      "Aopt1\n",
      "  3.656974 seconds (26.38 M allocations: 2.400 GiB, 9.91% gc time)\n"
     ]
    },
    {
     "name": "stderr",
     "output_type": "stream",
     "text": [
      "┌ Info: Genetic screen finished...\n",
      "└ @ Main In[14]:63\n",
      "┌ Info: (\"Aopt_motif\", Any[35, 50, 17, 2, 41, 46, 48, 26, 14, 31, 22, 39, 5, 9, 38, 8, 6, 17, 8, 5])\n",
      "└ @ Main In[14]:64\n"
     ]
    },
    {
     "name": "stdout",
     "output_type": "stream",
     "text": [
      "Aopt1\n",
      "  4.205597 seconds (30.55 M allocations: 2.779 GiB, 9.98% gc time)\n"
     ]
    },
    {
     "name": "stderr",
     "output_type": "stream",
     "text": [
      "┌ Info: Genetic screen finished...\n",
      "└ @ Main In[14]:63\n",
      "┌ Info: (\"Aopt_motif\", Any[33, 49, 16, 1, 40, 45, 48, 24, 13, 4, 21, 38, 4, 8, 40, 7, 5, 22, 7, 4])\n",
      "└ @ Main In[14]:64\n"
     ]
    },
    {
     "name": "stdout",
     "output_type": "stream",
     "text": [
      "Aopt1\n",
      "  3.336271 seconds (24.15 M allocations: 2.197 GiB, 9.98% gc time)\n"
     ]
    },
    {
     "name": "stderr",
     "output_type": "stream",
     "text": [
      "┌ Info: Genetic screen finished...\n",
      "└ @ Main In[14]:63\n",
      "┌ Info: (\"Aopt_motif\", Any[33, 49, 16, 1, 46, 45, 48, 24, 13, 5, 21, 38, 4, 8, 37, 7, 5, 16, 7, 3])\n",
      "└ @ Main In[14]:64\n"
     ]
    },
    {
     "name": "stdout",
     "output_type": "stream",
     "text": [
      "Aopt1\n",
      "  2.872313 seconds (20.76 M allocations: 1.889 GiB, 10.02% gc time)\n"
     ]
    },
    {
     "name": "stderr",
     "output_type": "stream",
     "text": [
      "┌ Info: Genetic screen finished...\n",
      "└ @ Main In[14]:63\n",
      "┌ Info: (\"Aopt_motif\", Any[34, 49, 16, 1, 35, 45, 48, 24, 13, 5, 21, 38, 4, 9, 37, 7, 5, 16, 7, 4])\n",
      "└ @ Main In[14]:64\n"
     ]
    },
    {
     "name": "stdout",
     "output_type": "stream",
     "text": [
      "Aopt1\n",
      "  5.109132 seconds (37.35 M allocations: 3.397 GiB, 10.07% gc time)\n"
     ]
    },
    {
     "name": "stderr",
     "output_type": "stream",
     "text": [
      "┌ Info: Genetic screen finished...\n",
      "└ @ Main In[14]:63\n",
      "┌ Info: (\"Aopt_motif\", Any[34, 49, 16, 1, 40, 45, 48, 24, 13, 5, 39, 38, 4, 8, 37, 7, 5, 16, 7, 4])\n",
      "└ @ Main In[14]:64\n"
     ]
    },
    {
     "name": "stdout",
     "output_type": "stream",
     "text": [
      "Aopt1\n",
      "  3.007891 seconds (21.29 M allocations: 1.937 GiB, 9.70% gc time)\n"
     ]
    },
    {
     "name": "stderr",
     "output_type": "stream",
     "text": [
      "┌ Info: Genetic screen finished...\n",
      "└ @ Main In[14]:63\n",
      "┌ Info: (\"Aopt_motif\", Any[33, 48, 15, 47, 34, 44, 47, 23, 11, 4, 20, 37, 3, 7, 36, 6, 4, 15, 3, 3])\n",
      "└ @ Main In[14]:64\n"
     ]
    },
    {
     "name": "stdout",
     "output_type": "stream",
     "text": [
      "Aopt1\n",
      "  6.111818 seconds (44.45 M allocations: 4.043 GiB, 10.07% gc time)\n"
     ]
    },
    {
     "name": "stderr",
     "output_type": "stream",
     "text": [
      "┌ Info: Genetic screen finished...\n",
      "└ @ Main In[14]:63\n",
      "┌ Info: (\"Aopt_motif\", Any[36, 51, 18, 3, 42, 47, 50, 26, 15, 7, 23, 40, 5, 10, 39, 9, 7, 18, 9, 6])\n",
      "└ @ Main In[14]:64\n"
     ]
    },
    {
     "name": "stdout",
     "output_type": "stream",
     "text": [
      "Aopt1\n",
      "  3.916617 seconds (28.69 M allocations: 2.610 GiB, 10.08% gc time)\n"
     ]
    },
    {
     "name": "stderr",
     "output_type": "stream",
     "text": [
      "┌ Info: Genetic screen finished...\n",
      "└ @ Main In[14]:63\n",
      "┌ Info: (\"Aopt_motif\", Any[35, 50, 17, 2, 41, 46, 49, 25, 14, 6, 22, 39, 5, 9, 38, 8, 6, 17, 8, 5])\n",
      "└ @ Main In[14]:64\n"
     ]
    },
    {
     "name": "stdout",
     "output_type": "stream",
     "text": [
      "Aopt1\n",
      "  2.653449 seconds (18.90 M allocations: 1.720 GiB, 9.78% gc time)\n"
     ]
    },
    {
     "name": "stderr",
     "output_type": "stream",
     "text": [
      "┌ Info: Genetic screen finished...\n",
      "└ @ Main In[14]:63\n",
      "┌ Info: (\"Aopt_motif\", Any[34, 49, 16, 1, 34, 7, 48, 24, 11, 4, 21, 38, 4, 8, 37, 7, 5, 40, 7, 4])\n",
      "└ @ Main In[14]:64\n"
     ]
    },
    {
     "name": "stdout",
     "output_type": "stream",
     "text": [
      "Aopt1\n",
      "  3.079062 seconds (21.94 M allocations: 1.997 GiB, 9.88% gc time)\n"
     ]
    },
    {
     "name": "stderr",
     "output_type": "stream",
     "text": [
      "┌ Info: Genetic screen finished...\n",
      "└ @ Main In[14]:63\n",
      "┌ Info: (\"Aopt_motif\", Any[37, 51, 19, 4, 43, 32, 51, 27, 16, 8, 24, 41, 7, 11, 40, 10, 8, 19, 10, 12])\n",
      "└ @ Main In[14]:64\n"
     ]
    },
    {
     "name": "stdout",
     "output_type": "stream",
     "text": [
      "Aopt1\n",
      "  4.834225 seconds (34.97 M allocations: 3.181 GiB, 9.98% gc time)\n"
     ]
    },
    {
     "name": "stderr",
     "output_type": "stream",
     "text": [
      "┌ Info: Genetic screen finished...\n",
      "└ @ Main In[14]:63\n",
      "┌ Info: (\"Aopt_motif\", Any[35, 50, 17, 2, 41, 46, 49, 9, 14, 6, 22, 39, 5, 9, 38, 8, 6, 17, 8, 5])\n",
      "└ @ Main In[14]:64\n"
     ]
    },
    {
     "name": "stdout",
     "output_type": "stream",
     "text": [
      "Aopt1\n",
      "  4.370451 seconds (31.08 M allocations: 2.827 GiB, 9.80% gc time)\n"
     ]
    },
    {
     "name": "stderr",
     "output_type": "stream",
     "text": [
      "┌ Info: Genetic screen finished...\n",
      "└ @ Main In[14]:63\n",
      "┌ Info: (\"Aopt_motif\", Any[36, 51, 18, 3, 42, 9, 50, 26, 15, 7, 23, 40, 6, 4, 39, 14, 6, 18, 9, 6])\n",
      "└ @ Main In[14]:64\n"
     ]
    },
    {
     "name": "stdout",
     "output_type": "stream",
     "text": [
      "Aopt1\n",
      "  5.595806 seconds (39.91 M allocations: 3.630 GiB, 9.84% gc time)\n"
     ]
    },
    {
     "name": "stderr",
     "output_type": "stream",
     "text": [
      "┌ Info: Genetic screen finished...\n",
      "└ @ Main In[14]:63\n",
      "┌ Info: (\"Aopt_motif\", Any[33, 48, 15, 1, 39, 44, 47, 23, 11, 2, 20, 35, 3, 7, 35, 6, 4, 15, 6, 3])\n",
      "└ @ Main In[14]:64\n"
     ]
    },
    {
     "name": "stdout",
     "output_type": "stream",
     "text": [
      "Aopt1\n",
      "  3.628936 seconds (26.12 M allocations: 2.377 GiB, 9.91% gc time)\n"
     ]
    },
    {
     "name": "stderr",
     "output_type": "stream",
     "text": [
      "┌ Info: Genetic screen finished...\n",
      "└ @ Main In[14]:63\n",
      "┌ Info: (\"Aopt_motif\", Any[34, 49, 16, 1, 41, 46, 48, 24, 13, 5, 21, 38, 6, 8, 38, 7, 5, 16, 7, 4])\n",
      "└ @ Main In[14]:64\n"
     ]
    },
    {
     "name": "stdout",
     "output_type": "stream",
     "text": [
      "Aopt1\n",
      "  2.891431 seconds (20.69 M allocations: 1.882 GiB, 9.86% gc time)\n"
     ]
    },
    {
     "name": "stderr",
     "output_type": "stream",
     "text": [
      "┌ Info: Genetic screen finished...\n",
      "└ @ Main In[14]:63\n",
      "┌ Info: (\"Aopt_motif\", Any[34, 50, 17, 2, 43, 46, 49, 25, 14, 6, 22, 39, 5, 9, 41, 7, 6, 17, 8, 5])\n",
      "└ @ Main In[14]:64\n"
     ]
    },
    {
     "name": "stdout",
     "output_type": "stream",
     "text": [
      "Aopt1\n",
      "  3.582773 seconds (25.66 M allocations: 2.334 GiB, 9.93% gc time)\n"
     ]
    },
    {
     "name": "stderr",
     "output_type": "stream",
     "text": [
      "┌ Info: Genetic screen finished...\n",
      "└ @ Main In[14]:63\n",
      "┌ Info: (\"Aopt_motif\", Any[36, 51, 18, 3, 42, 41, 50, 23, 15, 7, 23, 40, 6, 10, 39, 9, 5, 18, 9, 4])\n",
      "└ @ Main In[14]:64\n"
     ]
    },
    {
     "name": "stdout",
     "output_type": "stream",
     "text": [
      "Aopt1\n",
      "  7.693893 seconds (56.62 M allocations: 5.150 GiB, 10.16% gc time)\n"
     ]
    },
    {
     "name": "stderr",
     "output_type": "stream",
     "text": [
      "┌ Info: Genetic screen finished...\n",
      "└ @ Main In[14]:63\n",
      "┌ Info: (\"Aopt_motif\", Any[34, 49, 16, 1, 40, 45, 48, 24, 13, 5, 21, 18, 4, 8, 37, 7, 5, 16, 7, 4])\n",
      "└ @ Main In[14]:64\n"
     ]
    },
    {
     "name": "stdout",
     "output_type": "stream",
     "text": [
      "Aopt1\n",
      "  2.688865 seconds (19.15 M allocations: 1.742 GiB, 9.78% gc time)\n"
     ]
    },
    {
     "name": "stderr",
     "output_type": "stream",
     "text": [
      "┌ Info: Genetic screen finished...\n",
      "└ @ Main In[14]:63\n",
      "┌ Info: (\"Aopt_motif\", Any[35, 50, 17, 3, 36, 46, 49, 25, 14, 6, 22, 39, 5, 9, 38, 7, 5, 17, 8, 5])\n",
      "└ @ Main In[14]:64\n"
     ]
    },
    {
     "name": "stdout",
     "output_type": "stream",
     "text": [
      "Aopt1\n",
      "  5.379518 seconds (38.95 M allocations: 3.543 GiB, 10.03% gc time)\n"
     ]
    },
    {
     "name": "stderr",
     "output_type": "stream",
     "text": [
      "┌ Info: Genetic screen finished...\n",
      "└ @ Main In[14]:63\n",
      "┌ Info: (\"Aopt_motif\", Any[35, 50, 17, 2, 41, 46, 49, 25, 14, 6, 45, 39, 5, 9, 39, 8, 6, 17, 8, 5])\n",
      "└ @ Main In[14]:64\n"
     ]
    },
    {
     "name": "stdout",
     "output_type": "stream",
     "text": [
      "Aopt1\n",
      "  3.506086 seconds (25.33 M allocations: 2.304 GiB, 10.06% gc time)\n"
     ]
    },
    {
     "name": "stderr",
     "output_type": "stream",
     "text": [
      "┌ Info: Genetic screen finished...\n",
      "└ @ Main In[14]:63\n",
      "┌ Info: (\"Aopt_motif\", Any[34, 49, 16, 1, 40, 45, 48, 24, 13, 5, 39, 38, 6, 8, 37, 7, 5, 16, 7, 4])\n",
      "└ @ Main In[14]:64\n"
     ]
    },
    {
     "name": "stdout",
     "output_type": "stream",
     "text": [
      "Aopt1\n",
      "  3.150495 seconds (22.32 M allocations: 2.030 GiB, 9.78% gc time)\n"
     ]
    },
    {
     "name": "stderr",
     "output_type": "stream",
     "text": [
      "┌ Info: Genetic screen finished...\n",
      "└ @ Main In[14]:63\n",
      "┌ Info: (\"Aopt_motif\", Any[35, 49, 17, 2, 41, 46, 51, 25, 14, 31, 7, 39, 5, 9, 38, 8, 6, 33, 8, 5])\n",
      "└ @ Main In[14]:64\n"
     ]
    },
    {
     "name": "stdout",
     "output_type": "stream",
     "text": [
      "Aopt1\n",
      "  3.546531 seconds (25.04 M allocations: 2.279 GiB, 9.89% gc time)\n"
     ]
    },
    {
     "name": "stderr",
     "output_type": "stream",
     "text": [
      "┌ Info: Genetic screen finished...\n",
      "└ @ Main In[14]:63\n",
      "┌ Info: (\"Aopt_motif\", Any[37, 51, 19, 4, 43, 31, 51, 27, 16, 8, 24, 40, 6, 14, 40, 10, 8, 43, 10, 7])\n",
      "└ @ Main In[14]:64\n"
     ]
    },
    {
     "name": "stdout",
     "output_type": "stream",
     "text": [
      "Aopt1\n",
      "  4.995660 seconds (35.59 M allocations: 3.237 GiB, 9.92% gc time)\n"
     ]
    },
    {
     "name": "stderr",
     "output_type": "stream",
     "text": [
      "┌ Info: Genetic screen finished...\n",
      "└ @ Main In[14]:63\n",
      "┌ Info: (\"Aopt_motif\", Any[31, 46, 13, 45, 38, 42, 45, 22, 10, 2, 18, 35, 1, 5, 40, 4, 2, 13, 4, 1])\n",
      "└ @ Main In[14]:64\n"
     ]
    },
    {
     "name": "stdout",
     "output_type": "stream",
     "text": [
      "Aopt1\n",
      "  5.147735 seconds (37.71 M allocations: 3.430 GiB, 10.16% gc time)\n"
     ]
    },
    {
     "name": "stderr",
     "output_type": "stream",
     "text": [
      "┌ Info: Genetic screen finished...\n",
      "└ @ Main In[14]:63\n",
      "┌ Info: (\"Aopt_motif\", Any[34, 49, 16, 1, 40, 45, 48, 24, 13, 5, 6, 38, 4, 8, 37, 7, 5, 16, 7, 4])\n",
      "└ @ Main In[14]:64\n"
     ]
    },
    {
     "name": "stdout",
     "output_type": "stream",
     "text": [
      "Aopt1\n",
      "  3.954189 seconds (28.33 M allocations: 2.577 GiB, 9.88% gc time)\n"
     ]
    },
    {
     "name": "stderr",
     "output_type": "stream",
     "text": [
      "┌ Info: Genetic screen finished...\n",
      "└ @ Main In[14]:63\n",
      "┌ Info: (\"Aopt_motif\", Any[35, 50, 17, 2, 41, 45, 49, 25, 14, 6, 23, 39, 5, 9, 39, 8, 6, 33, 8, 5])\n",
      "└ @ Main In[14]:64\n"
     ]
    },
    {
     "name": "stdout",
     "output_type": "stream",
     "text": [
      "Aopt1\n",
      "  6.651977 seconds (48.37 M allocations: 4.399 GiB, 10.06% gc time)\n"
     ]
    },
    {
     "name": "stderr",
     "output_type": "stream",
     "text": [
      "┌ Info: Genetic screen finished...\n",
      "└ @ Main In[14]:63\n",
      "┌ Info: (\"Aopt_motif\", Any[35, 50, 17, 2, 41, 46, 49, 25, 12, 6, 22, 39, 5, 9, 38, 8, 6, 17, 8, 5])\n",
      "└ @ Main In[14]:64\n"
     ]
    },
    {
     "name": "stdout",
     "output_type": "stream",
     "text": [
      "Aopt1\n",
      "  4.053803 seconds (29.35 M allocations: 2.670 GiB, 10.04% gc time)\n"
     ]
    },
    {
     "name": "stderr",
     "output_type": "stream",
     "text": [
      "┌ Info: Genetic screen finished...\n",
      "└ @ Main In[14]:63\n",
      "┌ Info: (\"Aopt_motif\", Any[35, 50, 17, 2, 41, 46, 49, 26, 14, 6, 7, 39, 5, 9, 38, 8, 6, 17, 8, 5])\n",
      "└ @ Main In[14]:64\n"
     ]
    },
    {
     "name": "stdout",
     "output_type": "stream",
     "text": [
      "Aopt1\n",
      "  6.473014 seconds (46.72 M allocations: 4.249 GiB, 9.99% gc time)\n"
     ]
    },
    {
     "name": "stderr",
     "output_type": "stream",
     "text": [
      "┌ Info: Genetic screen finished...\n",
      "└ @ Main In[14]:63\n",
      "┌ Info: (\"Aopt_motif\", Any[35, 50, 17, 2, 13, 46, 49, 25, 14, 31, 22, 39, 5, 9, 38, 8, 5, 17, 8, 5])\n",
      "└ @ Main In[14]:64\n"
     ]
    },
    {
     "name": "stdout",
     "output_type": "stream",
     "text": [
      "Aopt1\n",
      "  5.365245 seconds (38.58 M allocations: 3.509 GiB, 9.93% gc time)\n"
     ]
    },
    {
     "name": "stderr",
     "output_type": "stream",
     "text": [
      "┌ Info: Genetic screen finished...\n",
      "└ @ Main In[14]:63\n",
      "┌ Info: (\"Aopt_motif\", Any[33, 48, 15, 2, 39, 44, 47, 22, 12, 4, 20, 37, 3, 7, 36, 6, 4, 15, 6, 3])\n",
      "└ @ Main In[14]:64\n"
     ]
    },
    {
     "name": "stdout",
     "output_type": "stream",
     "text": [
      "Aopt1\n",
      "  7.213344 seconds (52.38 M allocations: 4.764 GiB, 10.04% gc time)\n"
     ]
    },
    {
     "name": "stderr",
     "output_type": "stream",
     "text": [
      "┌ Info: Genetic screen finished...\n",
      "└ @ Main In[14]:63\n",
      "┌ Info: (\"Aopt_motif\", Any[34, 49, 16, 1, 41, 45, 47, 24, 13, 5, 6, 38, 4, 8, 37, 7, 5, 16, 7, 4])\n",
      "└ @ Main In[14]:64\n"
     ]
    },
    {
     "name": "stdout",
     "output_type": "stream",
     "text": [
      "Aopt1\n",
      "  6.427203 seconds (46.39 M allocations: 4.219 GiB, 10.05% gc time)\n"
     ]
    },
    {
     "name": "stderr",
     "output_type": "stream",
     "text": [
      "┌ Info: Genetic screen finished...\n",
      "└ @ Main In[14]:63\n",
      "┌ Info: (\"Aopt_motif\", Any[35, 50, 17, 2, 36, 46, 49, 25, 14, 6, 22, 39, 5, 9, 39, 8, 6, 17, 8, 51])\n",
      "└ @ Main In[14]:64\n"
     ]
    },
    {
     "name": "stdout",
     "output_type": "stream",
     "text": [
      "Aopt1\n",
      "  4.722308 seconds (34.67 M allocations: 3.154 GiB, 10.19% gc time)\n"
     ]
    },
    {
     "name": "stderr",
     "output_type": "stream",
     "text": [
      "┌ Info: Genetic screen finished...\n",
      "└ @ Main In[14]:63\n",
      "┌ Info: (\"Aopt_motif\", Any[34, 49, 16, 1, 40, 45, 48, 24, 13, 5, 21, 38, 4, 8, 37, 8, 5, 16, 7, 4])\n",
      "└ @ Main In[14]:64\n"
     ]
    },
    {
     "name": "stdout",
     "output_type": "stream",
     "text": [
      "Aopt1\n",
      "  5.734888 seconds (41.20 M allocations: 3.747 GiB, 9.93% gc time)\n"
     ]
    },
    {
     "name": "stderr",
     "output_type": "stream",
     "text": [
      "┌ Info: Genetic screen finished...\n",
      "└ @ Main In[14]:63\n",
      "┌ Info: (\"Aopt_motif\", Any[37, 51, 19, 4, 43, 42, 51, 27, 16, 8, 25, 41, 4, 11, 40, 11, 8, 19, 10, 7])\n",
      "└ @ Main In[14]:64\n"
     ]
    },
    {
     "name": "stdout",
     "output_type": "stream",
     "text": [
      "Aopt1\n",
      "  6.799957 seconds (49.27 M allocations: 4.481 GiB, 10.06% gc time)\n"
     ]
    },
    {
     "name": "stderr",
     "output_type": "stream",
     "text": [
      "┌ Info: Genetic screen finished...\n",
      "└ @ Main In[14]:63\n",
      "┌ Info: (\"Aopt_motif\", Any[34, 49, 16, 1, 40, 7, 48, 25, 13, 5, 21, 38, 4, 8, 37, 7, 5, 16, 7, 4])\n",
      "└ @ Main In[14]:64\n"
     ]
    },
    {
     "name": "stdout",
     "output_type": "stream",
     "text": [
      "Aopt1\n",
      "  5.266828 seconds (38.36 M allocations: 3.489 GiB, 10.09% gc time)\n"
     ]
    },
    {
     "name": "stderr",
     "output_type": "stream",
     "text": [
      "┌ Info: Genetic screen finished...\n",
      "└ @ Main In[14]:63\n",
      "┌ Info: (\"Aopt_motif\", Any[34, 49, 16, 1, 40, 45, 48, 24, 13, 30, 21, 38, 4, 8, 37, 7, 5, 16, 7, 4])\n",
      "└ @ Main In[14]:64\n"
     ]
    },
    {
     "name": "stdout",
     "output_type": "stream",
     "text": [
      "Aopt1\n",
      "  5.822237 seconds (42.30 M allocations: 3.848 GiB, 10.06% gc time)\n"
     ]
    },
    {
     "name": "stderr",
     "output_type": "stream",
     "text": [
      "┌ Info: Genetic screen finished...\n",
      "└ @ Main In[14]:63\n",
      "┌ Info: (\"Aopt_motif\", Any[36, 51, 18, 3, 42, 47, 50, 26, 15, 7, 23, 42, 6, 10, 39, 9, 7, 18, 9, 6])\n",
      "└ @ Main In[14]:64\n"
     ]
    },
    {
     "name": "stdout",
     "output_type": "stream",
     "text": [
      "Aopt1\n",
      "  3.506643 seconds (25.12 M allocations: 2.285 GiB, 9.95% gc time)\n"
     ]
    },
    {
     "name": "stderr",
     "output_type": "stream",
     "text": [
      "┌ Info: Genetic screen finished...\n",
      "└ @ Main In[14]:63\n",
      "┌ Info: (\"Aopt_motif\", Any[35, 50, 17, 2, 41, 46, 49, 25, 14, 6, 22, 39, 6, 3, 38, 8, 6, 17, 5, 5])\n",
      "└ @ Main In[14]:64\n"
     ]
    },
    {
     "name": "stdout",
     "output_type": "stream",
     "text": [
      "Aopt1\n",
      "  3.198126 seconds (22.66 M allocations: 2.062 GiB, 9.91% gc time)\n"
     ]
    },
    {
     "name": "stderr",
     "output_type": "stream",
     "text": [
      "┌ Info: Genetic screen finished...\n",
      "└ @ Main In[14]:63\n",
      "┌ Info: (\"Aopt_motif\", Any[33, 48, 15, 2, 39, 44, 47, 23, 12, 5, 20, 37, 3, 1, 36, 6, 4, 15, 6, 19])\n",
      "└ @ Main In[14]:64\n"
     ]
    },
    {
     "name": "stdout",
     "output_type": "stream",
     "text": [
      "Aopt1\n",
      "  3.987568 seconds (28.80 M allocations: 2.620 GiB, 9.99% gc time)\n"
     ]
    },
    {
     "name": "stderr",
     "output_type": "stream",
     "text": [
      "┌ Info: Genetic screen finished...\n",
      "└ @ Main In[14]:63\n",
      "┌ Info: (\"Aopt_motif\", Any[34, 49, 16, 1, 40, 45, 48, 8, 13, 30, 21, 38, 4, 8, 38, 7, 5, 40, 7, 4])\n",
      "└ @ Main In[14]:64\n"
     ]
    },
    {
     "name": "stdout",
     "output_type": "stream",
     "text": [
      "Aopt1\n",
      "  6.095357 seconds (43.44 M allocations: 3.951 GiB, 9.89% gc time)\n"
     ]
    },
    {
     "name": "stderr",
     "output_type": "stream",
     "text": [
      "┌ Info: Genetic screen finished...\n",
      "└ @ Main In[14]:63\n",
      "┌ Info: (\"Aopt_motif\", Any[33, 48, 15, 1, 39, 44, 47, 23, 12, 4, 20, 37, 3, 24, 36, 6, 4, 15, 6, 3])\n",
      "└ @ Main In[14]:64\n"
     ]
    },
    {
     "name": "stdout",
     "output_type": "stream",
     "text": [
      "Aopt1\n",
      "  5.343407 seconds (38.11 M allocations: 3.466 GiB, 9.87% gc time)\n"
     ]
    },
    {
     "name": "stderr",
     "output_type": "stream",
     "text": [
      "┌ Info: Genetic screen finished...\n",
      "└ @ Main In[14]:63\n",
      "┌ Info: (\"Aopt_motif\", Any[33, 48, 15, 6, 39, 44, 47, 23, 12, 2, 20, 35, 3, 24, 37, 6, 4, 15, 6, 3])\n",
      "└ @ Main In[14]:64\n"
     ]
    },
    {
     "name": "stdout",
     "output_type": "stream",
     "text": [
      "Aopt1\n",
      "  8.217620 seconds (59.30 M allocations: 5.393 GiB, 10.04% gc time)\n"
     ]
    },
    {
     "name": "stderr",
     "output_type": "stream",
     "text": [
      "┌ Info: Genetic screen finished...\n",
      "└ @ Main In[14]:63\n",
      "┌ Info: (\"Aopt_motif\", Any[36, 51, 17, 3, 42, 47, 50, 26, 15, 7, 23, 40, 6, 10, 39, 9, 6, 18, 9, 6])\n",
      "└ @ Main In[14]:64\n"
     ]
    },
    {
     "name": "stdout",
     "output_type": "stream",
     "text": [
      "Aopt1\n",
      "  7.114587 seconds (51.55 M allocations: 4.688 GiB, 10.10% gc time)\n"
     ]
    },
    {
     "name": "stderr",
     "output_type": "stream",
     "text": [
      "┌ Info: Genetic screen finished...\n",
      "└ @ Main In[14]:63\n",
      "┌ Info: (\"Aopt_motif\", Any[35, 50, 18, 2, 41, 46, 49, 25, 14, 6, 22, 39, 5, 9, 38, 8, 6, 17, 8, 5])\n",
      "└ @ Main In[14]:64\n"
     ]
    },
    {
     "name": "stdout",
     "output_type": "stream",
     "text": [
      "Aopt1\n",
      "  6.898481 seconds (49.98 M allocations: 4.546 GiB, 10.15% gc time)\n"
     ]
    },
    {
     "name": "stderr",
     "output_type": "stream",
     "text": [
      "┌ Info: Genetic screen finished...\n",
      "└ @ Main In[14]:63\n",
      "┌ Info: (\"Aopt_motif\", Any[35, 50, 17, 2, 41, 46, 49, 25, 14, 6, 22, 39, 5, 9, 38, 28, 6, 17, 8, 51])\n",
      "└ @ Main In[14]:64\n"
     ]
    },
    {
     "name": "stdout",
     "output_type": "stream",
     "text": [
      "Aopt1\n",
      "  7.139208 seconds (50.71 M allocations: 4.612 GiB, 9.92% gc time)\n"
     ]
    },
    {
     "name": "stderr",
     "output_type": "stream",
     "text": [
      "┌ Info: Genetic screen finished...\n",
      "└ @ Main In[14]:63\n",
      "┌ Info: (\"Aopt_motif\", Any[33, 48, 15, 47, 39, 38, 47, 23, 12, 4, 20, 38, 4, 7, 36, 6, 3, 39, 6, 3])\n",
      "└ @ Main In[14]:64\n"
     ]
    },
    {
     "name": "stdout",
     "output_type": "stream",
     "text": [
      "Aopt1\n",
      "  3.128289 seconds (22.29 M allocations: 2.027 GiB, 9.93% gc time)\n"
     ]
    },
    {
     "name": "stderr",
     "output_type": "stream",
     "text": [
      "┌ Info: Genetic screen finished...\n",
      "└ @ Main In[14]:63\n",
      "┌ Info: (\"Aopt_motif\", Any[36, 51, 18, 3, 42, 47, 50, 26, 15, 7, 23, 40, 7, 9, 39, 9, 7, 21, 9, 6])\n",
      "└ @ Main In[14]:64\n"
     ]
    },
    {
     "name": "stdout",
     "output_type": "stream",
     "text": [
      "Aopt1\n",
      "  3.188878 seconds (22.63 M allocations: 2.059 GiB, 9.83% gc time)\n"
     ]
    },
    {
     "name": "stderr",
     "output_type": "stream",
     "text": [
      "┌ Info: Genetic screen finished...\n",
      "└ @ Main In[14]:63\n",
      "┌ Info: (\"Aopt_motif\", Any[35, 49, 17, 2, 41, 40, 48, 25, 14, 6, 22, 13, 5, 9, 37, 8, 7, 17, 8, 5])\n",
      "└ @ Main In[14]:64\n"
     ]
    },
    {
     "name": "stdout",
     "output_type": "stream",
     "text": [
      "Aopt1\n",
      "  4.967020 seconds (35.33 M allocations: 3.214 GiB, 9.93% gc time)\n"
     ]
    },
    {
     "name": "stderr",
     "output_type": "stream",
     "text": [
      "┌ Info: Genetic screen finished...\n",
      "└ @ Main In[14]:63\n",
      "┌ Info: (\"Aopt_motif\", Any[35, 50, 18, 2, 41, 40, 49, 25, 14, 6, 23, 39, 5, 9, 41, 8, 1, 41, 8, 5])\n",
      "└ @ Main In[14]:64\n"
     ]
    },
    {
     "name": "stdout",
     "output_type": "stream",
     "text": [
      "Aopt1\n",
      "  3.405644 seconds (24.35 M allocations: 2.215 GiB, 9.89% gc time)\n"
     ]
    },
    {
     "name": "stderr",
     "output_type": "stream",
     "text": [
      "┌ Info: Genetic screen finished...\n",
      "└ @ Main In[14]:63\n",
      "┌ Info: (\"Aopt_motif\", Any[36, 51, 18, 3, 37, 47, 34, 20, 15, 7, 23, 40, 6, 10, 39, 9, 7, 18, 9, 6])\n",
      "└ @ Main In[14]:64\n"
     ]
    },
    {
     "name": "stdout",
     "output_type": "stream",
     "text": [
      "Aopt1\n",
      "  5.354399 seconds (38.72 M allocations: 3.521 GiB, 10.07% gc time)\n"
     ]
    },
    {
     "name": "stderr",
     "output_type": "stream",
     "text": [
      "┌ Info: Genetic screen finished...\n",
      "└ @ Main In[14]:63\n",
      "┌ Info: (\"Aopt_motif\", Any[35, 50, 17, 2, 41, 46, 49, 25, 14, 6, 24, 39, 5, 9, 38, 7, 6, 17, 8, 5])\n",
      "└ @ Main In[14]:64\n"
     ]
    },
    {
     "name": "stdout",
     "output_type": "stream",
     "text": [
      "Aopt1\n",
      "  3.900022 seconds (27.69 M allocations: 2.519 GiB, 9.92% gc time)\n"
     ]
    },
    {
     "name": "stderr",
     "output_type": "stream",
     "text": [
      "┌ Info: Genetic screen finished...\n",
      "└ @ Main In[14]:63\n",
      "┌ Info: (\"Aopt_motif\", Any[36, 51, 18, 2, 14, 47, 50, 20, 15, 7, 23, 14, 6, 10, 39, 9, 7, 18, 10, 6])\n",
      "└ @ Main In[14]:64\n"
     ]
    },
    {
     "name": "stdout",
     "output_type": "stream",
     "text": [
      "Aopt1\n",
      "  3.308879 seconds (23.56 M allocations: 2.144 GiB, 9.96% gc time)\n"
     ]
    },
    {
     "name": "stderr",
     "output_type": "stream",
     "text": [
      "┌ Info: Genetic screen finished...\n",
      "└ @ Main In[14]:63\n",
      "┌ Info: (\"Aopt_motif\", Any[35, 50, 17, 2, 36, 8, 49, 25, 14, 29, 22, 39, 5, 25, 38, 8, 6, 17, 8, 5])\n",
      "└ @ Main In[14]:64\n"
     ]
    },
    {
     "name": "stdout",
     "output_type": "stream",
     "text": [
      "Aopt1\n",
      "  4.189209 seconds (30.14 M allocations: 2.742 GiB, 9.99% gc time)\n"
     ]
    },
    {
     "name": "stderr",
     "output_type": "stream",
     "text": [
      "┌ Info: Genetic screen finished...\n",
      "└ @ Main In[14]:63\n",
      "┌ Info: (\"Aopt_motif\", Any[36, 51, 18, 3, 42, 47, 50, 26, 15, 7, 23, 40, 6, 4, 39, 9, 7, 42, 9, 6])\n",
      "└ @ Main In[14]:64\n"
     ]
    },
    {
     "name": "stdout",
     "output_type": "stream",
     "text": [
      "Aopt1\n",
      "  5.225759 seconds (37.75 M allocations: 3.433 GiB, 10.09% gc time)\n"
     ]
    },
    {
     "name": "stderr",
     "output_type": "stream",
     "text": [
      "┌ Info: Genetic screen finished...\n",
      "└ @ Main In[14]:63\n",
      "┌ Info: (\"Aopt_motif\", Any[35, 50, 17, 2, 41, 46, 49, 25, 14, 6, 22, 39, 7, 9, 38, 8, 6, 17, 5, 5])\n",
      "└ @ Main In[14]:64\n"
     ]
    },
    {
     "name": "stdout",
     "output_type": "stream",
     "text": [
      "Aopt1\n",
      "  6.836116 seconds (49.54 M allocations: 4.505 GiB, 10.07% gc time)\n"
     ]
    },
    {
     "name": "stderr",
     "output_type": "stream",
     "text": [
      "┌ Info: Genetic screen finished...\n",
      "└ @ Main In[14]:63\n",
      "┌ Info: (\"Aopt_motif\", Any[34, 50, 17, 2, 41, 46, 49, 25, 12, 6, 22, 39, 5, 9, 38, 8, 5, 17, 8, 5])\n",
      "└ @ Main In[14]:64\n"
     ]
    },
    {
     "name": "stdout",
     "output_type": "stream",
     "text": [
      "Aopt1\n",
      "  3.301267 seconds (23.58 M allocations: 2.145 GiB, 9.91% gc time)\n"
     ]
    },
    {
     "name": "stderr",
     "output_type": "stream",
     "text": [
      "┌ Info: Genetic screen finished...\n",
      "└ @ Main In[14]:63\n",
      "┌ Info: (\"Aopt_motif\", Any[36, 51, 18, 3, 42, 41, 46, 26, 15, 7, 23, 40, 6, 10, 39, 9, 7, 18, 9, 6])\n",
      "└ @ Main In[14]:64\n"
     ]
    },
    {
     "name": "stdout",
     "output_type": "stream",
     "text": [
      "Aopt1\n",
      "  5.204718 seconds (37.45 M allocations: 3.406 GiB, 10.02% gc time)\n"
     ]
    },
    {
     "name": "stderr",
     "output_type": "stream",
     "text": [
      "┌ Info: Genetic screen finished...\n",
      "└ @ Main In[14]:63\n",
      "┌ Info: (\"Aopt_motif\", Any[35, 50, 17, 3, 41, 46, 49, 26, 14, 6, 22, 39, 6, 9, 38, 8, 6, 17, 8, 3])\n",
      "└ @ Main In[14]:64\n"
     ]
    },
    {
     "name": "stdout",
     "output_type": "stream",
     "text": [
      "Aopt1\n",
      "  7.819719 seconds (57.49 M allocations: 5.228 GiB, 10.25% gc time)\n"
     ]
    },
    {
     "name": "stderr",
     "output_type": "stream",
     "text": [
      "┌ Info: Genetic screen finished...\n",
      "└ @ Main In[14]:63\n",
      "┌ Info: (\"Aopt_motif\", Any[34, 49, 16, 1, 40, 45, 48, 24, 13, 5, 21, 38, 4, 8, 37, 7, 4, 16, 7, 4])\n",
      "└ @ Main In[14]:64\n"
     ]
    },
    {
     "name": "stdout",
     "output_type": "stream",
     "text": [
      "Aopt1\n",
      "  9.159468 seconds (65.76 M allocations: 5.980 GiB, 10.05% gc time)\n"
     ]
    },
    {
     "name": "stderr",
     "output_type": "stream",
     "text": [
      "┌ Info: Genetic screen finished...\n",
      "└ @ Main In[14]:63\n",
      "┌ Info: (\"Aopt_motif\", Any[32, 47, 48, 46, 38, 5, 46, 22, 11, 3, 19, 36, 2, 6, 35, 5, 3, 14, 5, 2])\n",
      "└ @ Main In[14]:64\n"
     ]
    },
    {
     "name": "stdout",
     "output_type": "stream",
     "text": [
      "Aopt1\n",
      "  4.328409 seconds (31.33 M allocations: 2.849 GiB, 9.95% gc time)\n"
     ]
    },
    {
     "name": "stderr",
     "output_type": "stream",
     "text": [
      "┌ Info: Genetic screen finished...\n",
      "└ @ Main In[14]:63\n",
      "┌ Info: (\"Aopt_motif\", Any[35, 50, 17, 2, 13, 40, 49, 25, 14, 6, 22, 39, 5, 9, 38, 8, 6, 17, 8, 51])\n",
      "└ @ Main In[14]:64\n"
     ]
    },
    {
     "name": "stdout",
     "output_type": "stream",
     "text": [
      "Aopt1\n",
      "  3.614010 seconds (25.84 M allocations: 2.350 GiB, 10.40% gc time)\n"
     ]
    },
    {
     "name": "stderr",
     "output_type": "stream",
     "text": [
      "┌ Info: Genetic screen finished...\n",
      "└ @ Main In[14]:63\n",
      "┌ Info: (\"Aopt_motif\", Any[35, 50, 17, 2, 41, 48, 49, 25, 14, 6, 22, 39, 5, 9, 39, 8, 6, 17, 8, 4])\n",
      "└ @ Main In[14]:64\n"
     ]
    },
    {
     "name": "stdout",
     "output_type": "stream",
     "text": [
      "Aopt1\n",
      "  3.350875 seconds (23.72 M allocations: 2.158 GiB, 10.36% gc time)\n"
     ]
    },
    {
     "name": "stderr",
     "output_type": "stream",
     "text": [
      "┌ Info: Genetic screen finished...\n",
      "└ @ Main In[14]:63\n",
      "┌ Info: (\"Aopt_motif\", Any[34, 49, 50, 1, 40, 45, 48, 26, 13, 5, 22, 38, 4, 8, 37, 7, 8, 22, 4, 4])\n",
      "└ @ Main In[14]:64\n"
     ]
    },
    {
     "name": "stdout",
     "output_type": "stream",
     "text": [
      "Aopt1\n",
      "  7.291638 seconds (52.48 M allocations: 4.773 GiB, 10.11% gc time)\n"
     ]
    },
    {
     "name": "stderr",
     "output_type": "stream",
     "text": [
      "┌ Info: Genetic screen finished...\n",
      "└ @ Main In[14]:63\n",
      "┌ Info: (\"Aopt_motif\", Any[36, 51, 19, 3, 42, 47, 50, 26, 17, 7, 23, 40, 6, 10, 39, 9, 7, 18, 9, 6])\n",
      "└ @ Main In[14]:64\n"
     ]
    },
    {
     "name": "stdout",
     "output_type": "stream",
     "text": [
      "Aopt1\n",
      "  4.064889 seconds (28.81 M allocations: 2.621 GiB, 9.96% gc time)\n"
     ]
    },
    {
     "name": "stderr",
     "output_type": "stream",
     "text": [
      "┌ Info: Genetic screen finished...\n",
      "└ @ Main In[14]:63\n",
      "┌ Info: (\"Aopt_motif\", Any[36, 51, 18, 3, 36, 47, 50, 25, 15, 6, 23, 40, 5, 9, 38, 9, 7, 18, 9, 6])\n",
      "└ @ Main In[14]:64\n"
     ]
    },
    {
     "name": "stdout",
     "output_type": "stream",
     "text": [
      "Aopt1\n",
      "  7.078486 seconds (50.14 M allocations: 4.560 GiB, 9.88% gc time)\n"
     ]
    },
    {
     "name": "stderr",
     "output_type": "stream",
     "text": [
      "┌ Info: Genetic screen finished...\n",
      "└ @ Main In[14]:63\n",
      "┌ Info: (\"Aopt_motif\", Any[32, 47, 14, 46, 38, 43, 46, 22, 11, 3, 19, 36, 4, 1, 35, 3, 3, 14, 5, 2])\n",
      "└ @ Main In[14]:64\n"
     ]
    },
    {
     "name": "stdout",
     "output_type": "stream",
     "text": [
      "Aopt1\n",
      "  5.215829 seconds (37.53 M allocations: 3.413 GiB, 10.17% gc time)\n"
     ]
    },
    {
     "name": "stderr",
     "output_type": "stream",
     "text": [
      "┌ Info: Genetic screen finished...\n",
      "└ @ Main In[14]:63\n",
      "┌ Info: (\"Aopt_motif\", Any[36, 51, 18, 3, 42, 47, 50, 26, 13, 7, 23, 40, 6, 10, 39, 9, 7, 18, 9, 6])\n",
      "└ @ Main In[14]:64\n"
     ]
    },
    {
     "name": "stdout",
     "output_type": "stream",
     "text": [
      "Aopt1\n",
      "  5.844454 seconds (42.98 M allocations: 3.909 GiB, 10.32% gc time)\n"
     ]
    },
    {
     "name": "stderr",
     "output_type": "stream",
     "text": [
      "┌ Info: Genetic screen finished...\n",
      "└ @ Main In[14]:63\n",
      "┌ Info: (\"Aopt_motif\", Any[34, 49, 16, 1, 40, 45, 48, 24, 13, 5, 21, 38, 4, 8, 37, 7, 5, 16, 7, 4])\n",
      "└ @ Main In[14]:64\n"
     ]
    },
    {
     "name": "stdout",
     "output_type": "stream",
     "text": [
      "Aopt1\n",
      "  7.363005 seconds (53.27 M allocations: 4.844 GiB, 10.17% gc time)\n"
     ]
    },
    {
     "name": "stderr",
     "output_type": "stream",
     "text": [
      "┌ Info: Genetic screen finished...\n",
      "└ @ Main In[14]:63\n",
      "┌ Info: (\"Aopt_motif\", Any[35, 50, 17, 2, 41, 46, 49, 25, 14, 6, 22, 39, 5, 3, 37, 8, 6, 17, 8, 5])\n",
      "└ @ Main In[14]:64\n"
     ]
    },
    {
     "name": "stdout",
     "output_type": "stream",
     "text": [
      "Aopt1\n",
      "  4.004978 seconds (28.78 M allocations: 2.617 GiB, 10.00% gc time)\n"
     ]
    },
    {
     "name": "stderr",
     "output_type": "stream",
     "text": [
      "┌ Info: Genetic screen finished...\n",
      "└ @ Main In[14]:63\n",
      "┌ Info: (\"Aopt_motif\", Any[36, 51, 18, 3, 42, 47, 50, 26, 15, 7, 23, 40, 6, 10, 38, 9, 7, 18, 9, 6])\n",
      "└ @ Main In[14]:64\n"
     ]
    },
    {
     "name": "stdout",
     "output_type": "stream",
     "text": [
      "Aopt1\n",
      "  5.617076 seconds (40.80 M allocations: 3.710 GiB, 10.18% gc time)\n"
     ]
    },
    {
     "name": "stderr",
     "output_type": "stream",
     "text": [
      "┌ Info: Genetic screen finished...\n",
      "└ @ Main In[14]:63\n",
      "┌ Info: (\"Aopt_motif\", Any[36, 51, 18, 3, 42, 47, 50, 26, 15, 7, 23, 40, 6, 10, 39, 9, 7, 18, 6, 6])\n",
      "└ @ Main In[14]:64\n"
     ]
    },
    {
     "name": "stdout",
     "output_type": "stream",
     "text": [
      "Aopt1\n",
      "  4.357940 seconds (31.58 M allocations: 2.872 GiB, 10.07% gc time)\n"
     ]
    },
    {
     "name": "stderr",
     "output_type": "stream",
     "text": [
      "┌ Info: Genetic screen finished...\n",
      "└ @ Main In[14]:63\n",
      "┌ Info: (\"Aopt_motif\", Any[35, 50, 17, 2, 41, 46, 49, 25, 14, 31, 22, 39, 5, 9, 38, 8, 6, 17, 8, 5])\n",
      "└ @ Main In[14]:64\n"
     ]
    },
    {
     "name": "stdout",
     "output_type": "stream",
     "text": [
      "Aopt1\n",
      "  3.824208 seconds (27.47 M allocations: 2.499 GiB, 10.04% gc time)\n"
     ]
    },
    {
     "name": "stderr",
     "output_type": "stream",
     "text": [
      "┌ Info: Genetic screen finished...\n",
      "└ @ Main In[14]:63\n",
      "┌ Info: (\"Aopt_motif\", Any[35, 50, 17, 2, 41, 46, 49, 25, 14, 6, 7, 39, 5, 9, 38, 8, 4, 17, 8, 5])\n",
      "└ @ Main In[14]:64\n"
     ]
    },
    {
     "name": "stdout",
     "output_type": "stream",
     "text": [
      "Aopt12\n",
      "  3.382952 seconds (23.73 M allocations: 2.158 GiB, 9.82% gc time)\n"
     ]
    },
    {
     "name": "stderr",
     "output_type": "stream",
     "text": [
      "┌ Info: Genetic screen finished...\n",
      "└ @ Main In[14]:63\n",
      "┌ Info: (\"Aopt_motif\", Any[36, 49, 16, 3, 40, 26, 48, 22, 13, 5, 10, 38, 4, 8, 37, 7, 5, 16, 1, 4])\n",
      "└ @ Main In[14]:64\n"
     ]
    },
    {
     "name": "stdout",
     "output_type": "stream",
     "text": [
      "Aopt1\n",
      "  8.933695 seconds (65.26 M allocations: 5.935 GiB, 10.23% gc time)\n"
     ]
    },
    {
     "name": "stderr",
     "output_type": "stream",
     "text": [
      "┌ Info: Genetic screen finished...\n",
      "└ @ Main In[14]:63\n",
      "┌ Info: (\"Aopt_motif\", Any[35, 50, 18, 2, 41, 46, 49, 25, 14, 6, 22, 39, 5, 9, 38, 8, 6, 17, 8, 5])\n",
      "└ @ Main In[14]:64\n"
     ]
    },
    {
     "name": "stdout",
     "output_type": "stream",
     "text": [
      "Aopt1\n",
      "  5.313145 seconds (38.25 M allocations: 3.479 GiB, 10.10% gc time)\n"
     ]
    },
    {
     "name": "stderr",
     "output_type": "stream",
     "text": [
      "┌ Info: Genetic screen finished...\n",
      "└ @ Main In[14]:63\n",
      "┌ Info: (\"Aopt_motif\", Any[34, 49, 16, 1, 40, 45, 48, 24, 13, 5, 21, 36, 3, 8, 37, 7, 4, 16, 4, 4])\n",
      "└ @ Main In[14]:64\n"
     ]
    },
    {
     "name": "stdout",
     "output_type": "stream",
     "text": [
      "Aopt1\n",
      "  5.806002 seconds (42.16 M allocations: 3.834 GiB, 10.16% gc time)\n"
     ]
    },
    {
     "name": "stderr",
     "output_type": "stream",
     "text": [
      "┌ Info: Genetic screen finished...\n",
      "└ @ Main In[14]:63\n",
      "┌ Info: (\"Aopt_motif\", Any[36, 51, 18, 3, 42, 47, 50, 10, 15, 7, 23, 40, 6, 10, 39, 9, 7, 18, 9, 6])\n",
      "└ @ Main In[14]:64\n"
     ]
    },
    {
     "name": "stdout",
     "output_type": "stream",
     "text": [
      "Aopt1\n",
      "  6.727964 seconds (48.01 M allocations: 4.366 GiB, 10.03% gc time)\n"
     ]
    },
    {
     "name": "stderr",
     "output_type": "stream",
     "text": [
      "┌ Info: Genetic screen finished...\n",
      "└ @ Main In[14]:63\n",
      "┌ Info: (\"Aopt_motif\", Any[31, 46, 13, 45, 37, 42, 45, 21, 10, 2, 18, 35, 1, 5, 34, 4, 2, 13, 1, 1])\n",
      "└ @ Main In[14]:64\n"
     ]
    },
    {
     "name": "stdout",
     "output_type": "stream",
     "text": [
      "Aopt1\n",
      "  6.594943 seconds (47.77 M allocations: 4.344 GiB, 10.15% gc time)\n"
     ]
    },
    {
     "name": "stderr",
     "output_type": "stream",
     "text": [
      "┌ Info: Genetic screen finished...\n",
      "└ @ Main In[14]:63\n",
      "┌ Info: (\"Aopt_motif\", Any[36, 51, 18, 3, 42, 47, 50, 26, 17, 7, 23, 40, 6, 10, 39, 9, 7, 18, 9, 6])\n",
      "└ @ Main In[14]:64\n"
     ]
    },
    {
     "name": "stdout",
     "output_type": "stream",
     "text": [
      "Aopt1\n",
      "  7.578386 seconds (54.91 M allocations: 4.993 GiB, 10.18% gc time)\n"
     ]
    },
    {
     "name": "stderr",
     "output_type": "stream",
     "text": [
      "┌ Info: Genetic screen finished...\n",
      "└ @ Main In[14]:63\n",
      "┌ Info: (\"Aopt_motif\", Any[35, 50, 17, 2, 41, 46, 48, 25, 14, 6, 22, 39, 5, 9, 38, 8, 6, 17, 5, 5])\n",
      "└ @ Main In[14]:64\n"
     ]
    },
    {
     "name": "stdout",
     "output_type": "stream",
     "text": [
      "Aopt1\n",
      "  3.821845 seconds (27.54 M allocations: 2.505 GiB, 10.08% gc time)\n"
     ]
    },
    {
     "name": "stderr",
     "output_type": "stream",
     "text": [
      "┌ Info: Genetic screen finished...\n",
      "└ @ Main In[14]:63\n",
      "┌ Info: (\"Aopt_motif\", Any[34, 49, 16, 1, 40, 45, 48, 24, 13, 4, 21, 38, 5, 8, 37, 8, 5, 16, 7, 4])\n",
      "└ @ Main In[14]:64\n"
     ]
    },
    {
     "name": "stdout",
     "output_type": "stream",
     "text": [
      "Aopt1\n",
      "  5.041492 seconds (36.35 M allocations: 3.306 GiB, 10.13% gc time)\n"
     ]
    },
    {
     "name": "stderr",
     "output_type": "stream",
     "text": [
      "┌ Info: Genetic screen finished...\n",
      "└ @ Main In[14]:63\n",
      "┌ Info: (\"Aopt_motif\", Any[36, 51, 18, 3, 42, 47, 50, 26, 15, 7, 23, 40, 6, 10, 39, 9, 7, 18, 10, 6])\n",
      "└ @ Main In[14]:64\n"
     ]
    },
    {
     "name": "stdout",
     "output_type": "stream",
     "text": [
      "Aopt1\n",
      "  3.969177 seconds (28.66 M allocations: 2.607 GiB, 10.14% gc time)\n"
     ]
    },
    {
     "name": "stderr",
     "output_type": "stream",
     "text": [
      "┌ Info: Genetic screen finished...\n",
      "└ @ Main In[14]:63\n",
      "┌ Info: (\"Aopt_motif\", Any[34, 49, 16, 2, 40, 45, 48, 24, 11, 5, 21, 38, 4, 8, 38, 7, 5, 16, 7, 4])\n",
      "└ @ Main In[14]:64\n"
     ]
    },
    {
     "name": "stdout",
     "output_type": "stream",
     "text": [
      "Aopt1\n",
      "  4.529575 seconds (32.29 M allocations: 2.937 GiB, 9.99% gc time)\n"
     ]
    },
    {
     "name": "stderr",
     "output_type": "stream",
     "text": [
      "┌ Info: Genetic screen finished...\n",
      "└ @ Main In[14]:63\n",
      "┌ Info: (\"Aopt_motif\", Any[37, 33, 19, 4, 43, 48, 51, 27, 16, 8, 24, 41, 7, 11, 40, 11, 9, 19, 10, 7])\n",
      "└ @ Main In[14]:64\n"
     ]
    },
    {
     "name": "stdout",
     "output_type": "stream",
     "text": [
      "Aopt1\n",
      "  5.827631 seconds (42.01 M allocations: 3.820 GiB, 10.14% gc time)\n"
     ]
    },
    {
     "name": "stderr",
     "output_type": "stream",
     "text": [
      "┌ Info: Genetic screen finished...\n",
      "└ @ Main In[14]:63\n",
      "┌ Info: (\"Aopt_motif\", Any[34, 49, 16, 1, 40, 45, 47, 24, 13, 5, 21, 38, 4, 8, 40, 7, 5, 40, 7, 20])\n",
      "└ @ Main In[14]:64\n"
     ]
    },
    {
     "name": "stdout",
     "output_type": "stream",
     "text": [
      "Aopt1\n",
      "  6.020975 seconds (43.72 M allocations: 3.976 GiB, 10.21% gc time)\n"
     ]
    },
    {
     "name": "stderr",
     "output_type": "stream",
     "text": [
      "┌ Info: Genetic screen finished...\n",
      "└ @ Main In[14]:63\n",
      "┌ Info: (\"Aopt_motif\", Any[35, 50, 17, 2, 41, 46, 49, 25, 14, 6, 22, 39, 5, 9, 38, 8, 5, 17, 8, 5])\n",
      "└ @ Main In[14]:64\n"
     ]
    },
    {
     "name": "stdout",
     "output_type": "stream",
     "text": [
      "Aopt1\n",
      "  7.434293 seconds (54.48 M allocations: 4.954 GiB, 10.32% gc time)\n"
     ]
    },
    {
     "name": "stderr",
     "output_type": "stream",
     "text": [
      "┌ Info: Genetic screen finished...\n",
      "└ @ Main In[14]:63\n",
      "┌ Info: (\"Aopt_motif\", Any[34, 49, 16, 1, 40, 45, 48, 24, 13, 5, 21, 36, 4, 8, 37, 7, 5, 16, 7, 4])\n",
      "└ @ Main In[14]:64\n"
     ]
    },
    {
     "name": "stdout",
     "output_type": "stream",
     "text": [
      "Aopt1\n",
      "  3.461654 seconds (24.56 M allocations: 2.234 GiB, 10.10% gc time)\n"
     ]
    },
    {
     "name": "stderr",
     "output_type": "stream",
     "text": [
      "┌ Info: Genetic screen finished...\n",
      "└ @ Main In[14]:63\n",
      "┌ Info: (\"Aopt_motif\", Any[33, 48, 15, 1, 39, 44, 47, 23, 11, 4, 20, 37, 3, 7, 37, 6, 4, 15, 6, 3])\n",
      "└ @ Main In[14]:64\n"
     ]
    },
    {
     "name": "stdout",
     "output_type": "stream",
     "text": [
      "Aopt1\n",
      "  6.477978 seconds (46.95 M allocations: 4.270 GiB, 10.28% gc time)\n"
     ]
    },
    {
     "name": "stderr",
     "output_type": "stream",
     "text": [
      "┌ Info: Genetic screen finished...\n",
      "└ @ Main In[14]:63\n",
      "┌ Info: (\"Aopt_motif\", Any[36, 51, 18, 3, 42, 47, 50, 26, 15, 26, 23, 40, 6, 10, 39, 9, 7, 18, 9, 6])\n",
      "└ @ Main In[14]:64\n"
     ]
    },
    {
     "name": "stdout",
     "output_type": "stream",
     "text": [
      "Aopt1\n",
      "  5.822106 seconds (41.87 M allocations: 3.808 GiB, 10.16% gc time)\n"
     ]
    },
    {
     "name": "stderr",
     "output_type": "stream",
     "text": [
      "┌ Info: Genetic screen finished...\n",
      "└ @ Main In[14]:63\n",
      "┌ Info: (\"Aopt_motif\", Any[37, 33, 19, 4, 43, 48, 51, 27, 16, 8, 24, 41, 7, 11, 40, 10, 8, 19, 10, 7])\n",
      "└ @ Main In[14]:64\n"
     ]
    },
    {
     "name": "stdout",
     "output_type": "stream",
     "text": [
      "Aopt1\n",
      "  8.703296 seconds (62.35 M allocations: 5.669 GiB, 10.15% gc time)\n"
     ]
    },
    {
     "name": "stderr",
     "output_type": "stream",
     "text": [
      "┌ Info: Genetic screen finished...\n",
      "└ @ Main In[14]:63\n",
      "┌ Info: (\"Aopt_motif\", Any[37, 33, 19, 4, 43, 48, 51, 27, 16, 8, 24, 41, 7, 11, 40, 10, 8, 19, 10, 7])\n",
      "└ @ Main In[14]:64\n"
     ]
    },
    {
     "name": "stdout",
     "output_type": "stream",
     "text": [
      "Aopt1\n",
      "  7.916656 seconds (57.06 M allocations: 5.189 GiB, 10.18% gc time)\n"
     ]
    },
    {
     "name": "stderr",
     "output_type": "stream",
     "text": [
      "┌ Info: Genetic screen finished...\n",
      "└ @ Main In[14]:63\n",
      "┌ Info: (\"Aopt_motif\", Any[36, 51, 18, 3, 42, 47, 50, 10, 15, 7, 23, 40, 6, 10, 39, 9, 7, 42, 9, 6])\n",
      "└ @ Main In[14]:64\n"
     ]
    },
    {
     "name": "stdout",
     "output_type": "stream",
     "text": [
      "Aopt1\n",
      "  7.199596 seconds (52.23 M allocations: 4.750 GiB, 10.29% gc time)\n"
     ]
    },
    {
     "name": "stderr",
     "output_type": "stream",
     "text": [
      "┌ Info: Genetic screen finished...\n",
      "└ @ Main In[14]:63\n",
      "┌ Info: (\"Aopt_motif\", Any[35, 50, 17, 2, 41, 46, 49, 25, 14, 6, 22, 19, 5, 9, 38, 8, 6, 41, 8, 5])\n",
      "└ @ Main In[14]:64\n"
     ]
    },
    {
     "name": "stdout",
     "output_type": "stream",
     "text": [
      "Aopt1\n",
      "  6.600533 seconds (47.64 M allocations: 4.332 GiB, 10.16% gc time)\n"
     ]
    },
    {
     "name": "stderr",
     "output_type": "stream",
     "text": [
      "┌ Info: Genetic screen finished...\n",
      "└ @ Main In[14]:63\n",
      "┌ Info: (\"Aopt_motif\", Any[34, 49, 16, 1, 40, 7, 48, 24, 15, 5, 21, 37, 4, 8, 37, 7, 5, 16, 7, 4])\n",
      "└ @ Main In[14]:64\n"
     ]
    },
    {
     "name": "stdout",
     "output_type": "stream",
     "text": [
      "Aopt1\n",
      "  3.908338 seconds (27.73 M allocations: 2.522 GiB, 10.01% gc time)\n"
     ]
    },
    {
     "name": "stderr",
     "output_type": "stream",
     "text": [
      "┌ Info: Genetic screen finished...\n",
      "└ @ Main In[14]:63\n",
      "┌ Info: (\"Aopt_motif\", Any[33, 48, 15, 47, 39, 44, 47, 23, 12, 4, 38, 37, 3, 7, 36, 7, 4, 15, 6, 3])\n",
      "└ @ Main In[14]:64\n"
     ]
    },
    {
     "name": "stdout",
     "output_type": "stream",
     "text": [
      "Aopt1\n",
      "  4.412909 seconds (31.45 M allocations: 2.860 GiB, 10.08% gc time)\n"
     ]
    },
    {
     "name": "stderr",
     "output_type": "stream",
     "text": [
      "┌ Info: Genetic screen finished...\n",
      "└ @ Main In[14]:63\n",
      "┌ Info: (\"Aopt_motif\", Any[35, 49, 16, 1, 34, 45, 49, 24, 13, 5, 22, 38, 4, 8, 37, 7, 5, 40, 5, 4])\n",
      "└ @ Main In[14]:64\n"
     ]
    },
    {
     "name": "stdout",
     "output_type": "stream",
     "text": [
      "Aopt1\n",
      "  5.544623 seconds (39.40 M allocations: 3.583 GiB, 10.09% gc time)\n"
     ]
    },
    {
     "name": "stderr",
     "output_type": "stream",
     "text": [
      "┌ Info: Genetic screen finished...\n",
      "└ @ Main In[14]:63\n",
      "┌ Info: (\"Aopt_motif\", Any[32, 48, 15, 2, 39, 44, 46, 23, 12, 4, 20, 11, 3, 7, 36, 6, 4, 21, 6, 3])\n",
      "└ @ Main In[14]:64\n"
     ]
    },
    {
     "name": "stdout",
     "output_type": "stream",
     "text": [
      "Aopt1\n",
      "  9.329687 seconds (67.68 M allocations: 6.155 GiB, 10.25% gc time)\n"
     ]
    },
    {
     "name": "stderr",
     "output_type": "stream",
     "text": [
      "┌ Info: Genetic screen finished...\n",
      "└ @ Main In[14]:63\n",
      "┌ Info: (\"Aopt_motif\", Any[35, 50, 17, 2, 41, 46, 49, 25, 14, 6, 22, 39, 5, 9, 38, 8, 6, 17, 8, 51])\n",
      "└ @ Main In[14]:64\n"
     ]
    },
    {
     "name": "stdout",
     "output_type": "stream",
     "text": [
      "Aopt1\n",
      "  7.565543 seconds (54.28 M allocations: 4.936 GiB, 10.14% gc time)\n"
     ]
    },
    {
     "name": "stderr",
     "output_type": "stream",
     "text": [
      "┌ Info: Genetic screen finished...\n",
      "└ @ Main In[14]:63\n",
      "┌ Info: (\"Aopt_motif\", Any[33, 50, 16, 1, 39, 6, 47, 23, 12, 4, 20, 38, 3, 7, 36, 7, 4, 15, 6, 3])\n",
      "└ @ Main In[14]:64\n"
     ]
    },
    {
     "name": "stdout",
     "output_type": "stream",
     "text": [
      "Aopt1\n",
      "  4.558965 seconds (33.04 M allocations: 3.005 GiB, 10.27% gc time)\n"
     ]
    },
    {
     "name": "stderr",
     "output_type": "stream",
     "text": [
      "┌ Info: Genetic screen finished...\n",
      "└ @ Main In[14]:63\n",
      "┌ Info: (\"Aopt_motif\", Any[34, 49, 16, 1, 40, 45, 48, 24, 13, 3, 21, 38, 4, 8, 37, 7, 5, 40, 7, 4])\n",
      "└ @ Main In[14]:64\n"
     ]
    },
    {
     "name": "stdout",
     "output_type": "stream",
     "text": [
      "Aopt1\n",
      "  6.151563 seconds (44.70 M allocations: 4.065 GiB, 10.25% gc time)\n"
     ]
    },
    {
     "name": "stderr",
     "output_type": "stream",
     "text": [
      "┌ Info: Genetic screen finished...\n",
      "└ @ Main In[14]:63\n",
      "┌ Info: (\"Aopt_motif\", Any[36, 51, 18, 3, 42, 47, 50, 26, 15, 7, 23, 40, 6, 10, 39, 9, 7, 18, 9, 6])\n",
      "└ @ Main In[14]:64\n"
     ]
    },
    {
     "name": "stdout",
     "output_type": "stream",
     "text": [
      "Aopt1\n",
      "  6.386618 seconds (45.95 M allocations: 4.179 GiB, 10.22% gc time)\n"
     ]
    },
    {
     "name": "stderr",
     "output_type": "stream",
     "text": [
      "┌ Info: Genetic screen finished...\n",
      "└ @ Main In[14]:63\n",
      "┌ Info: (\"Aopt_motif\", Any[36, 51, 18, 3, 42, 47, 50, 26, 15, 7, 23, 14, 6, 10, 39, 9, 7, 18, 6, 6])\n",
      "└ @ Main In[14]:64\n"
     ]
    },
    {
     "name": "stdout",
     "output_type": "stream",
     "text": [
      "Aopt1\n",
      "  4.695798 seconds (34.24 M allocations: 3.114 GiB, 10.27% gc time)\n"
     ]
    },
    {
     "name": "stderr",
     "output_type": "stream",
     "text": [
      "┌ Info: Genetic screen finished...\n",
      "└ @ Main In[14]:63\n",
      "┌ Info: (\"Aopt_motif\", Any[34, 49, 16, 1, 40, 45, 48, 24, 13, 5, 21, 38, 4, 8, 37, 7, 5, 16, 5, 4])\n",
      "└ @ Main In[14]:64\n"
     ]
    },
    {
     "name": "stdout",
     "output_type": "stream",
     "text": [
      "Aopt1\n",
      "  8.324389 seconds (59.76 M allocations: 5.435 GiB, 10.19% gc time)\n"
     ]
    },
    {
     "name": "stderr",
     "output_type": "stream",
     "text": [
      "┌ Info: Genetic screen finished...\n",
      "└ @ Main In[14]:63\n",
      "┌ Info: (\"Aopt_motif\", Any[33, 48, 15, 1, 39, 44, 47, 23, 11, 4, 20, 37, 4, 7, 36, 6, 4, 15, 6, 3])\n",
      "└ @ Main In[14]:64\n"
     ]
    },
    {
     "name": "stdout",
     "output_type": "stream",
     "text": [
      "Aopt1\n",
      "  5.551139 seconds (39.63 M allocations: 3.604 GiB, 10.13% gc time)\n"
     ]
    },
    {
     "name": "stderr",
     "output_type": "stream",
     "text": [
      "┌ Info: Genetic screen finished...\n",
      "└ @ Main In[14]:63\n",
      "┌ Info: (\"Aopt_motif\", Any[37, 33, 19, 4, 43, 48, 51, 27, 16, 8, 9, 41, 7, 11, 40, 10, 18, 22, 10, 7])\n",
      "└ @ Main In[14]:64\n"
     ]
    },
    {
     "name": "stdout",
     "output_type": "stream",
     "text": [
      "Aopt1\n",
      "  9.000402 seconds (65.30 M allocations: 5.938 GiB, 10.28% gc time)\n"
     ]
    },
    {
     "name": "stderr",
     "output_type": "stream",
     "text": [
      "┌ Info: Genetic screen finished...\n",
      "└ @ Main In[14]:63\n",
      "┌ Info: (\"Aopt_motif\", Any[36, 51, 18, 3, 42, 47, 50, 26, 15, 7, 23, 40, 6, 10, 39, 9, 7, 18, 9, 6])\n",
      "└ @ Main In[14]:64\n"
     ]
    },
    {
     "name": "stdout",
     "output_type": "stream",
     "text": [
      "Aopt1\n",
      "  5.361874 seconds (38.50 M allocations: 3.501 GiB, 10.24% gc time)\n"
     ]
    },
    {
     "name": "stderr",
     "output_type": "stream",
     "text": [
      "┌ Info: Genetic screen finished...\n",
      "└ @ Main In[14]:63\n",
      "┌ Info: (\"Aopt_motif\", Any[34, 49, 16, 1, 41, 45, 48, 24, 13, 30, 21, 38, 4, 25, 37, 7, 5, 16, 7, 4])\n",
      "└ @ Main In[14]:64\n"
     ]
    },
    {
     "name": "stdout",
     "output_type": "stream",
     "text": [
      "Aopt1\n",
      "  4.366971 seconds (30.77 M allocations: 2.798 GiB, 10.08% gc time)\n"
     ]
    },
    {
     "name": "stderr",
     "output_type": "stream",
     "text": [
      "┌ Info: Genetic screen finished...\n",
      "└ @ Main In[14]:63\n",
      "┌ Info: (\"Aopt_motif\", Any[32, 47, 14, 1, 38, 5, 46, 22, 11, 3, 20, 36, 3, 6, 35, 5, 3, 14, 5, 2])\n",
      "└ @ Main In[14]:64\n"
     ]
    },
    {
     "name": "stdout",
     "output_type": "stream",
     "text": [
      "Aopt1\n",
      "  4.868268 seconds (34.72 M allocations: 3.158 GiB, 10.21% gc time)\n"
     ]
    },
    {
     "name": "stderr",
     "output_type": "stream",
     "text": [
      "┌ Info: Genetic screen finished...\n",
      "└ @ Main In[14]:63\n",
      "┌ Info: (\"Aopt_motif\", Any[37, 49, 19, 4, 43, 48, 51, 24, 16, 8, 24, 41, 7, 11, 40, 10, 9, 19, 10, 7])\n",
      "└ @ Main In[14]:64\n"
     ]
    },
    {
     "name": "stdout",
     "output_type": "stream",
     "text": [
      "Aopt1\n",
      "  5.486575 seconds (39.92 M allocations: 3.631 GiB, 10.31% gc time)\n"
     ]
    },
    {
     "name": "stderr",
     "output_type": "stream",
     "text": [
      "┌ Info: Genetic screen finished...\n",
      "└ @ Main In[14]:63\n",
      "┌ Info: (\"Aopt_motif\", Any[35, 50, 17, 2, 41, 46, 49, 25, 14, 6, 22, 39, 5, 9, 38, 8, 6, 17, 8, 5])\n",
      "└ @ Main In[14]:64\n"
     ]
    },
    {
     "name": "stdout",
     "output_type": "stream",
     "text": [
      "Aopt1\n",
      "  9.760986 seconds (69.63 M allocations: 6.331 GiB, 10.15% gc time)\n"
     ]
    },
    {
     "name": "stderr",
     "output_type": "stream",
     "text": [
      "┌ Info: Genetic screen finished...\n",
      "└ @ Main In[14]:63\n",
      "┌ Info: (\"Aopt_motif\", Any[35, 50, 17, 2, 13, 46, 48, 25, 14, 6, 22, 39, 6, 26, 38, 8, 6, 17, 8, 5])\n",
      "└ @ Main In[14]:64\n"
     ]
    },
    {
     "name": "stdout",
     "output_type": "stream",
     "text": [
      "Aopt1\n",
      "  3.347328 seconds (23.86 M allocations: 2.170 GiB, 10.06% gc time)\n"
     ]
    },
    {
     "name": "stderr",
     "output_type": "stream",
     "text": [
      "┌ Info: Genetic screen finished...\n",
      "└ @ Main In[14]:63\n",
      "┌ Info: (\"Aopt_motif\", Any[35, 50, 18, 2, 41, 46, 49, 25, 14, 6, 22, 39, 5, 9, 39, 8, 6, 16, 8, 5])\n",
      "└ @ Main In[14]:64\n"
     ]
    },
    {
     "name": "stdout",
     "output_type": "stream",
     "text": [
      "Aopt1\n",
      "  5.003078 seconds (36.38 M allocations: 3.308 GiB, 10.35% gc time)\n"
     ]
    },
    {
     "name": "stderr",
     "output_type": "stream",
     "text": [
      "┌ Info: Genetic screen finished...\n",
      "└ @ Main In[14]:63\n",
      "┌ Info: (\"Aopt_motif\", Any[34, 49, 16, 1, 40, 45, 48, 24, 13, 5, 21, 38, 4, 8, 37, 7, 5, 16, 6, 4])\n",
      "└ @ Main In[14]:64\n"
     ]
    },
    {
     "name": "stdout",
     "output_type": "stream",
     "text": [
      "Aopt1\n",
      "  7.712562 seconds (55.82 M allocations: 5.076 GiB, 10.31% gc time)\n"
     ]
    },
    {
     "name": "stderr",
     "output_type": "stream",
     "text": [
      "┌ Info: Genetic screen finished...\n",
      "└ @ Main In[14]:63\n",
      "┌ Info: (\"Aopt_motif\", Any[34, 49, 16, 1, 40, 45, 48, 24, 13, 5, 22, 38, 4, 8, 37, 8, 5, 16, 7, 4])\n",
      "└ @ Main In[14]:64\n"
     ]
    },
    {
     "name": "stdout",
     "output_type": "stream",
     "text": [
      "Aopt1\n",
      "  5.371669 seconds (38.69 M allocations: 3.518 GiB, 10.20% gc time)\n"
     ]
    },
    {
     "name": "stderr",
     "output_type": "stream",
     "text": [
      "┌ Info: Genetic screen finished...\n",
      "└ @ Main In[14]:63\n",
      "┌ Info: (\"Aopt_motif\", Any[35, 50, 17, 2, 41, 46, 49, 25, 14, 6, 22, 39, 5, 9, 38, 8, 6, 41, 8, 5])\n",
      "└ @ Main In[14]:64\n"
     ]
    },
    {
     "name": "stdout",
     "output_type": "stream",
     "text": [
      "Aopt1\n",
      "  5.906432 seconds (42.90 M allocations: 3.901 GiB, 10.35% gc time)\n"
     ]
    },
    {
     "name": "stderr",
     "output_type": "stream",
     "text": [
      "┌ Info: Genetic screen finished...\n",
      "└ @ Main In[14]:63\n",
      "┌ Info: (\"Aopt_motif\", Any[34, 49, 16, 1, 40, 39, 47, 24, 13, 5, 21, 38, 4, 8, 37, 7, 5, 16, 7, 4])\n",
      "└ @ Main In[14]:64\n"
     ]
    },
    {
     "name": "stdout",
     "output_type": "stream",
     "text": [
      "Aopt1\n",
      " 10.352907 seconds (75.70 M allocations: 6.884 GiB, 10.39% gc time)\n"
     ]
    },
    {
     "name": "stderr",
     "output_type": "stream",
     "text": [
      "┌ Info: Genetic screen finished...\n",
      "└ @ Main In[14]:63\n",
      "┌ Info: (\"Aopt_motif\", Any[34, 49, 16, 1, 40, 45, 48, 24, 13, 5, 21, 38, 4, 8, 37, 7, 5, 16, 4, 20])\n",
      "└ @ Main In[14]:64\n"
     ]
    },
    {
     "name": "stdout",
     "output_type": "stream",
     "text": [
      "Aopt1\n",
      "  6.253553 seconds (44.71 M allocations: 4.066 GiB, 10.17% gc time)\n"
     ]
    },
    {
     "name": "stderr",
     "output_type": "stream",
     "text": [
      "┌ Info: Genetic screen finished...\n",
      "└ @ Main In[14]:63\n",
      "┌ Info: (\"Aopt_motif\", Any[33, 48, 15, 1, 39, 44, 47, 23, 12, 4, 20, 37, 3, 7, 36, 6, 5, 15, 3, 3])\n",
      "└ @ Main In[14]:64\n"
     ]
    },
    {
     "name": "stdout",
     "output_type": "stream",
     "text": [
      "Aopt1\n",
      "  4.671369 seconds (33.64 M allocations: 3.059 GiB, 10.31% gc time)\n"
     ]
    },
    {
     "name": "stderr",
     "output_type": "stream",
     "text": [
      "┌ Info: Genetic screen finished...\n",
      "└ @ Main In[14]:63\n",
      "┌ Info: (\"Aopt_motif\", Any[36, 51, 18, 3, 42, 47, 50, 26, 15, 7, 23, 40, 6, 10, 39, 9, 7, 18, 9, 6])\n",
      "└ @ Main In[14]:64\n"
     ]
    },
    {
     "name": "stdout",
     "output_type": "stream",
     "text": [
      "Aopt1\n",
      "  4.718749 seconds (33.52 M allocations: 3.048 GiB, 10.05% gc time)\n"
     ]
    },
    {
     "name": "stderr",
     "output_type": "stream",
     "text": [
      "┌ Info: Genetic screen finished...\n",
      "└ @ Main In[14]:63\n",
      "┌ Info: (\"Aopt_motif\", Any[33, 48, 15, 1, 39, 44, 47, 23, 12, 3, 20, 36, 3, 7, 36, 6, 4, 15, 3, 3])\n",
      "└ @ Main In[14]:64\n"
     ]
    },
    {
     "name": "stdout",
     "output_type": "stream",
     "text": [
      "Aopt1\n",
      "  4.804132 seconds (34.33 M allocations: 3.122 GiB, 10.23% gc time)\n"
     ]
    },
    {
     "name": "stderr",
     "output_type": "stream",
     "text": [
      "┌ Info: Genetic screen finished...\n",
      "└ @ Main In[14]:63\n",
      "┌ Info: (\"Aopt_motif\", Any[35, 50, 17, 2, 41, 46, 49, 9, 13, 6, 22, 39, 5, 26, 38, 8, 6, 17, 8, 5])\n",
      "└ @ Main In[14]:64\n"
     ]
    },
    {
     "name": "stdout",
     "output_type": "stream",
     "text": [
      "Aopt1\n",
      "  6.000565 seconds (43.21 M allocations: 3.929 GiB, 10.20% gc time)\n"
     ]
    },
    {
     "name": "stderr",
     "output_type": "stream",
     "text": [
      "┌ Info: Genetic screen finished...\n",
      "└ @ Main In[14]:63\n",
      "┌ Info: (\"Aopt_motif\", Any[34, 50, 13, 1, 40, 45, 48, 24, 13, 5, 21, 37, 4, 25, 37, 7, 5, 16, 7, 4])\n",
      "└ @ Main In[14]:64\n"
     ]
    },
    {
     "name": "stdout",
     "output_type": "stream",
     "text": [
      "Aopt1\n",
      "  5.567485 seconds (39.94 M allocations: 3.632 GiB, 10.20% gc time)\n"
     ]
    },
    {
     "name": "stderr",
     "output_type": "stream",
     "text": [
      "┌ Info: Genetic screen finished...\n",
      "└ @ Main In[14]:63\n",
      "┌ Info: (\"Aopt_motif\", Any[35, 50, 17, 2, 36, 46, 49, 25, 14, 31, 22, 39, 5, 9, 38, 8, 5, 17, 8, 4])\n",
      "└ @ Main In[14]:64\n"
     ]
    },
    {
     "name": "stdout",
     "output_type": "stream",
     "text": [
      "Aopt1\n",
      "  3.721396 seconds (26.43 M allocations: 2.403 GiB, 10.14% gc time)\n"
     ]
    },
    {
     "name": "stderr",
     "output_type": "stream",
     "text": [
      "┌ Info: Genetic screen finished...\n",
      "└ @ Main In[14]:63\n",
      "┌ Info: (\"Aopt_motif\", Any[36, 51, 18, 3, 42, 47, 48, 26, 15, 7, 23, 20, 6, 23, 39, 9, 7, 18, 9, 6])\n",
      "└ @ Main In[14]:64\n"
     ]
    },
    {
     "name": "stdout",
     "output_type": "stream",
     "text": [
      "Aopt1\n",
      "  5.123456 seconds (37.11 M allocations: 3.375 GiB, 10.30% gc time)\n"
     ]
    },
    {
     "name": "stderr",
     "output_type": "stream",
     "text": [
      "┌ Info: Genetic screen finished...\n",
      "└ @ Main In[14]:63\n",
      "┌ Info: (\"Aopt_motif\", Any[35, 50, 17, 2, 41, 46, 49, 25, 14, 5, 22, 39, 5, 9, 38, 8, 6, 17, 8, 5])\n",
      "└ @ Main In[14]:64\n"
     ]
    },
    {
     "name": "stdout",
     "output_type": "stream",
     "text": [
      "Aopt1\n",
      "  9.224162 seconds (66.99 M allocations: 6.091 GiB, 10.34% gc time)\n"
     ]
    },
    {
     "name": "stderr",
     "output_type": "stream",
     "text": [
      "┌ Info: Genetic screen finished...\n",
      "└ @ Main In[14]:63\n",
      "┌ Info: (\"Aopt_motif\", Any[35, 49, 17, 2, 41, 46, 49, 25, 14, 6, 22, 39, 5, 9, 38, 8, 6, 17, 8, 5])\n",
      "└ @ Main In[14]:64\n"
     ]
    },
    {
     "name": "stdout",
     "output_type": "stream",
     "text": [
      "Aopt1\n",
      "  6.847076 seconds (48.55 M allocations: 4.415 GiB, 10.24% gc time)\n"
     ]
    },
    {
     "name": "stderr",
     "output_type": "stream",
     "text": [
      "┌ Info: Genetic screen finished...\n",
      "└ @ Main In[14]:63\n",
      "┌ Info: (\"Aopt_motif\", Any[32, 47, 14, 46, 38, 43, 46, 23, 11, 3, 19, 36, 2, 6, 35, 5, 3, 14, 5, 18])\n",
      "└ @ Main In[14]:64\n"
     ]
    },
    {
     "name": "stdout",
     "output_type": "stream",
     "text": [
      "Aopt1\n",
      "  3.644036 seconds (26.11 M allocations: 2.375 GiB, 10.35% gc time)\n"
     ]
    },
    {
     "name": "stderr",
     "output_type": "stream",
     "text": [
      "┌ Info: Genetic screen finished...\n",
      "└ @ Main In[14]:63\n",
      "┌ Info: (\"Aopt_motif\", Any[36, 51, 18, 3, 42, 47, 50, 26, 15, 7, 23, 40, 6, 10, 39, 9, 7, 18, 9, 6])\n",
      "└ @ Main In[14]:64\n"
     ]
    },
    {
     "name": "stdout",
     "output_type": "stream",
     "text": [
      "Aopt1\n",
      "  5.237508 seconds (37.44 M allocations: 3.405 GiB, 10.25% gc time)\n"
     ]
    },
    {
     "name": "stderr",
     "output_type": "stream",
     "text": [
      "┌ Info: Genetic screen finished...\n",
      "└ @ Main In[14]:63\n",
      "┌ Info: (\"Aopt_motif\", Any[33, 49, 15, 1, 39, 44, 47, 23, 12, 4, 20, 37, 3, 7, 36, 6, 4, 15, 6, 3])\n",
      "└ @ Main In[14]:64\n"
     ]
    },
    {
     "name": "stdout",
     "output_type": "stream",
     "text": [
      "Aopt1\n",
      "  4.856599 seconds (35.11 M allocations: 3.193 GiB, 10.35% gc time)\n"
     ]
    },
    {
     "name": "stderr",
     "output_type": "stream",
     "text": [
      "┌ Info: Genetic screen finished...\n",
      "└ @ Main In[14]:63\n",
      "┌ Info: (\"Aopt_motif\", Any[34, 49, 16, 1, 40, 45, 48, 23, 13, 4, 21, 38, 4, 8, 37, 7, 5, 16, 7, 4])\n",
      "└ @ Main In[14]:64\n"
     ]
    },
    {
     "name": "stdout",
     "output_type": "stream",
     "text": [
      "Aopt1\n",
      "  6.484642 seconds (46.49 M allocations: 4.227 GiB, 10.23% gc time)\n"
     ]
    },
    {
     "name": "stderr",
     "output_type": "stream",
     "text": [
      "┌ Info: Genetic screen finished...\n",
      "└ @ Main In[14]:63\n",
      "┌ Info: (\"Aopt_motif\", Any[33, 48, 15, 1, 39, 44, 47, 23, 12, 4, 20, 37, 3, 7, 36, 6, 4, 15, 6, 3])\n",
      "└ @ Main In[14]:64\n"
     ]
    },
    {
     "name": "stdout",
     "output_type": "stream",
     "text": [
      "Aopt1\n",
      "  3.638415 seconds (26.06 M allocations: 2.370 GiB, 10.21% gc time)\n"
     ]
    },
    {
     "name": "stderr",
     "output_type": "stream",
     "text": [
      "┌ Info: Genetic screen finished...\n",
      "└ @ Main In[14]:63\n",
      "┌ Info: (\"Aopt_motif\", Any[35, 50, 17, 2, 36, 46, 49, 25, 14, 6, 22, 39, 5, 9, 38, 8, 6, 17, 7, 5])\n",
      "└ @ Main In[14]:64\n"
     ]
    },
    {
     "name": "stdout",
     "output_type": "stream",
     "text": [
      "Aopt1\n",
      "  8.735638 seconds (62.87 M allocations: 5.716 GiB, 10.24% gc time)\n"
     ]
    },
    {
     "name": "stderr",
     "output_type": "stream",
     "text": [
      "┌ Info: Genetic screen finished...\n",
      "└ @ Main In[14]:63\n",
      "┌ Info: (\"Aopt_motif\", Any[36, 51, 18, 3, 42, 41, 50, 26, 15, 7, 23, 40, 7, 10, 39, 9, 7, 18, 9, 6])\n",
      "└ @ Main In[14]:64\n"
     ]
    },
    {
     "name": "stdout",
     "output_type": "stream",
     "text": [
      "Aopt1\n",
      "  4.142451 seconds (30.10 M allocations: 2.737 GiB, 10.36% gc time)\n"
     ]
    },
    {
     "name": "stderr",
     "output_type": "stream",
     "text": [
      "┌ Info: Genetic screen finished...\n",
      "└ @ Main In[14]:63\n",
      "┌ Info: (\"Aopt_motif\", Any[34, 49, 16, 1, 40, 45, 48, 24, 13, 5, 21, 38, 4, 8, 37, 7, 5, 16, 7, 4])\n",
      "└ @ Main In[14]:64\n"
     ]
    },
    {
     "name": "stdout",
     "output_type": "stream",
     "text": [
      "Aopt1\n",
      "  8.070893 seconds (58.66 M allocations: 5.334 GiB, 10.39% gc time)\n"
     ]
    },
    {
     "name": "stderr",
     "output_type": "stream",
     "text": [
      "┌ Info: Genetic screen finished...\n",
      "└ @ Main In[14]:63\n",
      "┌ Info: (\"Aopt_motif\", Any[34, 49, 16, 1, 40, 45, 48, 24, 13, 5, 21, 12, 4, 8, 37, 7, 5, 22, 7, 4])\n",
      "└ @ Main In[14]:64\n"
     ]
    },
    {
     "name": "stdout",
     "output_type": "stream",
     "text": [
      "Aopt1\n",
      "  4.523352 seconds (32.48 M allocations: 2.954 GiB, 10.23% gc time)\n"
     ]
    },
    {
     "name": "stderr",
     "output_type": "stream",
     "text": [
      "┌ Info: Genetic screen finished...\n",
      "└ @ Main In[14]:63\n",
      "┌ Info: (\"Aopt_motif\", Any[35, 50, 17, 2, 41, 46, 49, 25, 14, 6, 22, 39, 4, 26, 38, 8, 6, 17, 8, 5])\n",
      "└ @ Main In[14]:64\n"
     ]
    },
    {
     "name": "stdout",
     "output_type": "stream",
     "text": [
      "Aopt1\n",
      "  7.107247 seconds (51.33 M allocations: 4.667 GiB, 10.33% gc time)\n"
     ]
    },
    {
     "name": "stderr",
     "output_type": "stream",
     "text": [
      "┌ Info: Genetic screen finished...\n",
      "└ @ Main In[14]:63\n",
      "┌ Info: (\"Aopt_motif\", Any[36, 51, 18, 3, 42, 47, 50, 26, 15, 7, 23, 40, 6, 10, 42, 9, 7, 18, 9, 6])\n",
      "└ @ Main In[14]:64\n"
     ]
    },
    {
     "name": "stdout",
     "output_type": "stream",
     "text": [
      "Aopt1\n",
      "  7.029684 seconds (50.42 M allocations: 4.585 GiB, 10.24% gc time)\n"
     ]
    },
    {
     "name": "stderr",
     "output_type": "stream",
     "text": [
      "┌ Info: Genetic screen finished...\n",
      "└ @ Main In[14]:63\n",
      "┌ Info: (\"Aopt_motif\", Any[37, 33, 19, 4, 43, 48, 51, 27, 16, 8, 24, 41, 7, 11, 40, 10, 8, 19, 10, 7])\n",
      "└ @ Main In[14]:64\n"
     ]
    },
    {
     "name": "stdout",
     "output_type": "stream",
     "text": [
      "Aopt1\n",
      "  3.911105 seconds (28.10 M allocations: 2.555 GiB, 10.31% gc time)\n"
     ]
    },
    {
     "name": "stderr",
     "output_type": "stream",
     "text": [
      "┌ Info: Genetic screen finished...\n",
      "└ @ Main In[14]:63\n",
      "┌ Info: (\"Aopt_motif\", Any[36, 51, 18, 3, 42, 47, 50, 26, 15, 7, 23, 40, 6, 10, 39, 9, 7, 18, 9, 6])\n",
      "└ @ Main In[14]:64\n"
     ]
    },
    {
     "name": "stdout",
     "output_type": "stream",
     "text": [
      "Aopt1\n",
      "  6.789386 seconds (48.65 M allocations: 4.424 GiB, 10.25% gc time)\n"
     ]
    },
    {
     "name": "stderr",
     "output_type": "stream",
     "text": [
      "┌ Info: Genetic screen finished...\n",
      "└ @ Main In[14]:63\n",
      "┌ Info: (\"Aopt_motif\", Any[33, 48, 15, 1, 39, 44, 47, 23, 12, 4, 20, 37, 3, 8, 36, 6, 4, 15, 6, 3])\n",
      "└ @ Main In[14]:64\n"
     ]
    },
    {
     "name": "stdout",
     "output_type": "stream",
     "text": [
      "Aopt1\n",
      "  8.205649 seconds (59.72 M allocations: 5.430 GiB, 10.40% gc time)\n"
     ]
    },
    {
     "name": "stderr",
     "output_type": "stream",
     "text": [
      "┌ Info: Genetic screen finished...\n",
      "└ @ Main In[14]:63\n",
      "┌ Info: (\"Aopt_motif\", Any[35, 50, 17, 2, 41, 46, 49, 25, 14, 6, 22, 39, 5, 9, 38, 8, 6, 17, 8, 5])\n",
      "└ @ Main In[14]:64\n"
     ]
    },
    {
     "name": "stdout",
     "output_type": "stream",
     "text": [
      "Aopt1\n",
      "  8.645802 seconds (63.40 M allocations: 5.765 GiB, 10.50% gc time)\n"
     ]
    },
    {
     "name": "stderr",
     "output_type": "stream",
     "text": [
      "┌ Info: Genetic screen finished...\n",
      "└ @ Main In[14]:63\n",
      "┌ Info: (\"Aopt_motif\", Any[34, 49, 16, 1, 40, 45, 48, 24, 13, 5, 21, 38, 4, 8, 37, 7, 3, 16, 7, 4])\n",
      "└ @ Main In[14]:64\n"
     ]
    },
    {
     "name": "stdout",
     "output_type": "stream",
     "text": [
      "Aopt1\n",
      "  5.168869 seconds (37.18 M allocations: 3.381 GiB, 10.26% gc time)\n"
     ]
    },
    {
     "name": "stderr",
     "output_type": "stream",
     "text": [
      "┌ Info: Genetic screen finished...\n",
      "└ @ Main In[14]:63\n",
      "┌ Info: (\"Aopt_motif\", Any[36, 51, 18, 3, 14, 47, 50, 26, 15, 7, 23, 40, 6, 10, 39, 9, 7, 18, 9, 6])\n",
      "└ @ Main In[14]:64\n"
     ]
    },
    {
     "name": "stdout",
     "output_type": "stream",
     "text": [
      "Aopt1\n",
      "  7.732562 seconds (56.52 M allocations: 5.139 GiB, 10.48% gc time)\n"
     ]
    },
    {
     "name": "stderr",
     "output_type": "stream",
     "text": [
      "┌ Info: Genetic screen finished...\n",
      "└ @ Main In[14]:63\n",
      "┌ Info: (\"Aopt_motif\", Any[34, 49, 16, 1, 40, 7, 48, 24, 13, 5, 21, 38, 4, 8, 37, 7, 5, 16, 7, 4])\n",
      "└ @ Main In[14]:64\n"
     ]
    },
    {
     "name": "stdout",
     "output_type": "stream",
     "text": [
      "Aopt1\n",
      "  7.906787 seconds (57.09 M allocations: 5.191 GiB, 10.33% gc time)\n"
     ]
    },
    {
     "name": "stderr",
     "output_type": "stream",
     "text": [
      "┌ Info: Genetic screen finished...\n",
      "└ @ Main In[14]:63\n",
      "┌ Info: (\"Aopt_motif\", Any[35, 50, 17, 2, 41, 46, 49, 9, 14, 6, 22, 39, 5, 9, 38, 8, 6, 17, 8, 5])\n",
      "└ @ Main In[14]:64\n"
     ]
    },
    {
     "name": "stdout",
     "output_type": "stream",
     "text": [
      "Aopt1\n",
      "  7.612722 seconds (55.03 M allocations: 5.004 GiB, 10.43% gc time)\n"
     ]
    },
    {
     "name": "stderr",
     "output_type": "stream",
     "text": [
      "┌ Info: Genetic screen finished...\n",
      "└ @ Main In[14]:63\n",
      "┌ Info: (\"Aopt_motif\", Any[34, 49, 13, 1, 40, 45, 48, 24, 13, 5, 21, 38, 4, 25, 37, 7, 5, 16, 7, 4])\n",
      "└ @ Main In[14]:64\n"
     ]
    },
    {
     "name": "stdout",
     "output_type": "stream",
     "text": [
      "Aopt1\n",
      "  6.063627 seconds (44.11 M allocations: 4.011 GiB, 10.43% gc time)\n"
     ]
    },
    {
     "name": "stderr",
     "output_type": "stream",
     "text": [
      "┌ Info: Genetic screen finished...\n",
      "└ @ Main In[14]:63\n",
      "┌ Info: (\"Aopt_motif\", Any[35, 50, 17, 2, 41, 46, 49, 25, 14, 6, 22, 39, 5, 9, 38, 8, 6, 17, 8, 5])\n",
      "└ @ Main In[14]:64\n"
     ]
    },
    {
     "name": "stdout",
     "output_type": "stream",
     "text": [
      "Aopt1\n",
      "  8.447014 seconds (60.76 M allocations: 5.524 GiB, 10.33% gc time)\n"
     ]
    },
    {
     "name": "stderr",
     "output_type": "stream",
     "text": [
      "┌ Info: Genetic screen finished...\n",
      "└ @ Main In[14]:63\n",
      "┌ Info: (\"Aopt_motif\", Any[36, 51, 18, 3, 42, 47, 50, 26, 17, 7, 23, 40, 6, 10, 39, 9, 7, 18, 9, 6])\n",
      "└ @ Main In[14]:64\n"
     ]
    },
    {
     "name": "stdout",
     "output_type": "stream",
     "text": [
      "Aopt1\n",
      "  8.213897 seconds (58.74 M allocations: 5.340 GiB, 10.27% gc time)\n"
     ]
    },
    {
     "name": "stderr",
     "output_type": "stream",
     "text": [
      "┌ Info: Genetic screen finished...\n",
      "└ @ Main In[14]:63\n",
      "┌ Info: (\"Aopt_motif\", Any[33, 48, 15, 1, 39, 44, 47, 23, 12, 4, 20, 37, 3, 7, 36, 7, 4, 15, 6, 3])\n",
      "└ @ Main In[14]:64\n"
     ]
    },
    {
     "name": "stdout",
     "output_type": "stream",
     "text": [
      "Aopt1\n",
      "  6.195378 seconds (44.78 M allocations: 4.071 GiB, 10.40% gc time)\n"
     ]
    },
    {
     "name": "stderr",
     "output_type": "stream",
     "text": [
      "┌ Info: Genetic screen finished...\n",
      "└ @ Main In[14]:63\n",
      "┌ Info: (\"Aopt_motif\", Any[34, 49, 16, 1, 46, 45, 48, 24, 13, 5, 21, 38, 4, 8, 37, 7, 4, 16, 7, 4])\n",
      "└ @ Main In[14]:64\n"
     ]
    },
    {
     "name": "stdout",
     "output_type": "stream",
     "text": [
      "Aopt1\n",
      "  7.439580 seconds (54.06 M allocations: 4.915 GiB, 10.41% gc time)\n"
     ]
    },
    {
     "name": "stderr",
     "output_type": "stream",
     "text": [
      "┌ Info: Genetic screen finished...\n",
      "└ @ Main In[14]:63\n",
      "┌ Info: (\"Aopt_motif\", Any[34, 49, 13, 1, 40, 45, 48, 24, 12, 5, 21, 38, 4, 8, 37, 7, 5, 16, 7, 4])\n",
      "└ @ Main In[14]:64\n"
     ]
    },
    {
     "name": "stdout",
     "output_type": "stream",
     "text": [
      "Aopt1\n",
      "  6.023539 seconds (43.22 M allocations: 3.930 GiB, 10.28% gc time)\n"
     ]
    },
    {
     "name": "stderr",
     "output_type": "stream",
     "text": [
      "┌ Info: Genetic screen finished...\n",
      "└ @ Main In[14]:63\n",
      "┌ Info: (\"Aopt_motif\", Any[36, 51, 18, 3, 14, 47, 50, 26, 15, 30, 23, 40, 6, 4, 39, 9, 7, 18, 9, 6])\n",
      "└ @ Main In[14]:64\n"
     ]
    },
    {
     "name": "stdout",
     "output_type": "stream",
     "text": [
      "Aopt1\n",
      "  3.799293 seconds (27.20 M allocations: 2.474 GiB, 10.30% gc time)\n"
     ]
    },
    {
     "name": "stderr",
     "output_type": "stream",
     "text": [
      "┌ Info: Genetic screen finished...\n",
      "└ @ Main In[14]:63\n",
      "┌ Info: (\"Aopt_motif\", Any[34, 49, 16, 1, 40, 7, 48, 24, 13, 5, 21, 38, 4, 8, 37, 7, 5, 17, 7, 4])\n",
      "└ @ Main In[14]:64\n"
     ]
    },
    {
     "name": "stdout",
     "output_type": "stream",
     "text": [
      "Aopt1\n",
      "  4.341193 seconds (31.41 M allocations: 2.856 GiB, 10.41% gc time)\n"
     ]
    },
    {
     "name": "stderr",
     "output_type": "stream",
     "text": [
      "┌ Info: Genetic screen finished...\n",
      "└ @ Main In[14]:63\n",
      "┌ Info: (\"Aopt_motif\", Any[34, 49, 16, 1, 40, 45, 48, 24, 13, 5, 21, 38, 4, 8, 38, 7, 5, 16, 7, 4])\n",
      "└ @ Main In[14]:64\n"
     ]
    },
    {
     "name": "stdout",
     "output_type": "stream",
     "text": [
      "Aopt1\n",
      "  6.708516 seconds (48.67 M allocations: 4.425 GiB, 10.39% gc time)\n"
     ]
    },
    {
     "name": "stderr",
     "output_type": "stream",
     "text": [
      "┌ Info: Genetic screen finished...\n",
      "└ @ Main In[14]:63\n",
      "┌ Info: (\"Aopt_motif\", Any[33, 51, 16, 1, 40, 45, 48, 24, 13, 5, 21, 38, 6, 8, 37, 7, 5, 16, 7, 4])\n",
      "└ @ Main In[14]:64\n"
     ]
    },
    {
     "name": "stdout",
     "output_type": "stream",
     "text": [
      "Aopt1\n",
      "  7.562399 seconds (54.74 M allocations: 4.978 GiB, 10.31% gc time)\n"
     ]
    },
    {
     "name": "stderr",
     "output_type": "stream",
     "text": [
      "┌ Info: Genetic screen finished...\n",
      "└ @ Main In[14]:63\n",
      "┌ Info: (\"Aopt_motif\", Any[35, 50, 17, 2, 36, 46, 49, 9, 14, 6, 22, 39, 5, 9, 38, 8, 6, 17, 8, 5])\n",
      "└ @ Main In[14]:64\n"
     ]
    },
    {
     "name": "stdout",
     "output_type": "stream",
     "text": [
      "Aopt1\n",
      "  5.434942 seconds (39.77 M allocations: 3.616 GiB, 10.38% gc time)\n"
     ]
    },
    {
     "name": "stderr",
     "output_type": "stream",
     "text": [
      "┌ Info: Genetic screen finished...\n",
      "└ @ Main In[14]:63\n",
      "┌ Info: (\"Aopt_motif\", Any[34, 49, 16, 1, 40, 45, 48, 24, 13, 5, 21, 38, 4, 8, 37, 7, 5, 16, 7, 4])\n",
      "└ @ Main In[14]:64\n"
     ]
    },
    {
     "name": "stdout",
     "output_type": "stream",
     "text": [
      "Aopt1\n",
      "  5.012310 seconds (35.80 M allocations: 3.256 GiB, 10.22% gc time)\n"
     ]
    },
    {
     "name": "stderr",
     "output_type": "stream",
     "text": [
      "┌ Info: Genetic screen finished...\n",
      "└ @ Main In[14]:63\n",
      "┌ Info: (\"Aopt_motif\", Any[33, 48, 15, 1, 39, 44, 47, 23, 12, 4, 20, 37, 3, 7, 36, 6, 4, 15, 6, 3])\n",
      "└ @ Main In[14]:64\n"
     ]
    },
    {
     "name": "stdout",
     "output_type": "stream",
     "text": [
      "Aopt1\n",
      "  5.506118 seconds (39.64 M allocations: 3.604 GiB, 10.33% gc time)\n"
     ]
    },
    {
     "name": "stderr",
     "output_type": "stream",
     "text": [
      "┌ Info: Genetic screen finished...\n",
      "└ @ Main In[14]:63\n",
      "┌ Info: (\"Aopt_motif\", Any[37, 51, 19, 4, 43, 42, 51, 27, 16, 8, 24, 41, 7, 11, 40, 10, 8, 19, 10, 7])\n",
      "└ @ Main In[14]:64\n"
     ]
    },
    {
     "name": "stdout",
     "output_type": "stream",
     "text": [
      "Aopt1\n",
      "  4.991619 seconds (36.25 M allocations: 3.296 GiB, 10.40% gc time)\n"
     ]
    },
    {
     "name": "stderr",
     "output_type": "stream",
     "text": [
      "┌ Info: Genetic screen finished...\n",
      "└ @ Main In[14]:63\n",
      "┌ Info: (\"Aopt_motif\", Any[34, 49, 16, 2, 40, 45, 48, 24, 13, 5, 21, 38, 4, 8, 37, 7, 5, 16, 7, 4])\n",
      "└ @ Main In[14]:64\n"
     ]
    },
    {
     "name": "stdout",
     "output_type": "stream",
     "text": [
      "Aopt1\n",
      "  5.961876 seconds (43.06 M allocations: 3.915 GiB, 10.38% gc time)\n"
     ]
    },
    {
     "name": "stderr",
     "output_type": "stream",
     "text": [
      "┌ Info: Genetic screen finished...\n",
      "└ @ Main In[14]:63\n",
      "┌ Info: (\"Aopt_motif\", Any[34, 49, 13, 1, 40, 45, 48, 24, 13, 5, 21, 39, 4, 8, 37, 7, 4, 16, 7, 4])\n",
      "└ @ Main In[14]:64\n"
     ]
    },
    {
     "name": "stdout",
     "output_type": "stream",
     "text": [
      "Aopt1\n",
      "  6.071409 seconds (43.54 M allocations: 3.958 GiB, 10.27% gc time)\n"
     ]
    },
    {
     "name": "stderr",
     "output_type": "stream",
     "text": [
      "┌ Info: Genetic screen finished...\n",
      "└ @ Main In[14]:63\n",
      "┌ Info: (\"Aopt_motif\", Any[34, 49, 16, 1, 40, 45, 48, 25, 13, 5, 21, 38, 6, 8, 37, 7, 5, 17, 7, 4])\n",
      "└ @ Main In[14]:64\n"
     ]
    },
    {
     "name": "stdout",
     "output_type": "stream",
     "text": [
      "Aopt1\n",
      "  6.533456 seconds (47.40 M allocations: 4.310 GiB, 10.41% gc time)\n"
     ]
    },
    {
     "name": "stderr",
     "output_type": "stream",
     "text": [
      "┌ Info: Genetic screen finished...\n",
      "└ @ Main In[14]:63\n",
      "┌ Info: (\"Aopt_motif\", Any[34, 49, 16, 1, 40, 45, 48, 25, 13, 5, 21, 38, 4, 8, 37, 7, 5, 16, 7, 4])\n",
      "└ @ Main In[14]:64\n"
     ]
    },
    {
     "name": "stdout",
     "output_type": "stream",
     "text": [
      "Aopt1\n",
      "  3.994341 seconds (28.48 M allocations: 2.590 GiB, 10.22% gc time)\n"
     ]
    },
    {
     "name": "stderr",
     "output_type": "stream",
     "text": [
      "┌ Info: Genetic screen finished...\n",
      "└ @ Main In[14]:63\n",
      "┌ Info: (\"Aopt_motif\", Any[35, 49, 16, 1, 40, 45, 48, 24, 13, 5, 22, 39, 4, 8, 37, 8, 4, 16, 7, 4])\n",
      "└ @ Main In[14]:64\n"
     ]
    },
    {
     "name": "stdout",
     "output_type": "stream",
     "text": [
      "Aopt1\n",
      "  5.526375 seconds (39.53 M allocations: 3.595 GiB, 10.25% gc time)\n"
     ]
    },
    {
     "name": "stderr",
     "output_type": "stream",
     "text": [
      "┌ Info: Genetic screen finished...\n",
      "└ @ Main In[14]:63\n",
      "┌ Info: (\"Aopt_motif\", Any[32, 47, 15, 1, 38, 43, 46, 22, 11, 3, 19, 36, 2, 6, 35, 5, 3, 14, 5, 2])\n",
      "└ @ Main In[14]:64\n"
     ]
    },
    {
     "name": "stdout",
     "output_type": "stream",
     "text": [
      "Aopt1\n",
      "  4.398957 seconds (31.30 M allocations: 2.846 GiB, 10.30% gc time)\n"
     ]
    },
    {
     "name": "stderr",
     "output_type": "stream",
     "text": [
      "┌ Info: Genetic screen finished...\n",
      "└ @ Main In[14]:63\n",
      "┌ Info: (\"Aopt_motif\", Any[34, 49, 16, 1, 40, 45, 47, 24, 15, 5, 21, 38, 4, 8, 40, 7, 5, 16, 7, 4])\n",
      "└ @ Main In[14]:64\n"
     ]
    },
    {
     "name": "stdout",
     "output_type": "stream",
     "text": [
      "Aopt1\n",
      "  7.121840 seconds (51.69 M allocations: 4.700 GiB, 10.47% gc time)\n"
     ]
    },
    {
     "name": "stderr",
     "output_type": "stream",
     "text": [
      "┌ Info: Genetic screen finished...\n",
      "└ @ Main In[14]:63\n",
      "┌ Info: (\"Aopt_motif\", Any[35, 50, 17, 2, 41, 46, 49, 25, 14, 6, 22, 39, 5, 9, 38, 8, 6, 17, 8, 5])\n",
      "└ @ Main In[14]:64\n"
     ]
    },
    {
     "name": "stdout",
     "output_type": "stream",
     "text": [
      "Aopt1\n",
      "  5.730667 seconds (41.36 M allocations: 3.761 GiB, 10.44% gc time)\n"
     ]
    },
    {
     "name": "stderr",
     "output_type": "stream",
     "text": [
      "┌ Info: Genetic screen finished...\n",
      "└ @ Main In[14]:63\n",
      "┌ Info: (\"Aopt_motif\", Any[36, 51, 18, 3, 42, 47, 50, 26, 15, 7, 23, 40, 6, 10, 39, 9, 7, 18, 9, 6])\n",
      "└ @ Main In[14]:64\n"
     ]
    },
    {
     "name": "stdout",
     "output_type": "stream",
     "text": [
      "Aopt1\n",
      "  5.811780 seconds (41.36 M allocations: 3.761 GiB, 10.29% gc time)\n"
     ]
    },
    {
     "name": "stderr",
     "output_type": "stream",
     "text": [
      "┌ Info: Genetic screen finished...\n",
      "└ @ Main In[14]:63\n",
      "┌ Info: (\"Aopt_motif\", Any[33, 48, 15, 1, 39, 44, 47, 23, 12, 4, 20, 37, 3, 7, 36, 6, 4, 15, 3, 3])\n",
      "└ @ Main In[14]:64\n"
     ]
    },
    {
     "name": "stdout",
     "output_type": "stream",
     "text": [
      "Aopt1\n",
      "  4.848014 seconds (35.18 M allocations: 3.199 GiB, 10.38% gc time)\n"
     ]
    },
    {
     "name": "stderr",
     "output_type": "stream",
     "text": [
      "┌ Info: Genetic screen finished...\n",
      "└ @ Main In[14]:63\n",
      "┌ Info: (\"Aopt_motif\", Any[34, 49, 16, 1, 40, 46, 48, 24, 13, 5, 21, 38, 4, 8, 37, 7, 5, 16, 7, 4])\n",
      "└ @ Main In[14]:64\n"
     ]
    },
    {
     "name": "stdout",
     "output_type": "stream",
     "text": [
      "Aopt1\n",
      "  3.894747 seconds (27.93 M allocations: 2.539 GiB, 10.27% gc time)\n"
     ]
    },
    {
     "name": "stderr",
     "output_type": "stream",
     "text": [
      "┌ Info: Genetic screen finished...\n",
      "└ @ Main In[14]:63\n",
      "┌ Info: (\"Aopt_motif\", Any[35, 50, 17, 2, 41, 46, 49, 25, 13, 6, 22, 39, 5, 9, 38, 8, 6, 17, 8, 5])\n",
      "└ @ Main In[14]:64\n"
     ]
    },
    {
     "name": "stdout",
     "output_type": "stream",
     "text": [
      "Aopt1\n",
      "  4.507969 seconds (32.29 M allocations: 2.936 GiB, 10.33% gc time)\n"
     ]
    },
    {
     "name": "stderr",
     "output_type": "stream",
     "text": [
      "┌ Info: Genetic screen finished...\n",
      "└ @ Main In[14]:63\n",
      "┌ Info: (\"Aopt_motif\", Any[34, 51, 16, 1, 40, 46, 48, 24, 13, 5, 21, 37, 4, 8, 37, 7, 5, 16, 7, 4])\n",
      "└ @ Main In[14]:64\n"
     ]
    },
    {
     "name": "stdout",
     "output_type": "stream",
     "text": [
      "Aopt1\n",
      "  5.664585 seconds (41.09 M allocations: 3.737 GiB, 10.44% gc time)\n"
     ]
    },
    {
     "name": "stderr",
     "output_type": "stream",
     "text": [
      "┌ Info: Genetic screen finished...\n",
      "└ @ Main In[14]:63\n",
      "┌ Info: (\"Aopt_motif\", Any[34, 49, 16, 1, 41, 45, 48, 24, 13, 5, 21, 38, 4, 8, 37, 7, 5, 16, 7, 4])\n",
      "└ @ Main In[14]:64\n"
     ]
    },
    {
     "name": "stdout",
     "output_type": "stream",
     "text": [
      "Aopt1\n",
      "  5.571474 seconds (40.35 M allocations: 3.668 GiB, 10.33% gc time)\n"
     ]
    },
    {
     "name": "stderr",
     "output_type": "stream",
     "text": [
      "┌ Info: Genetic screen finished...\n",
      "└ @ Main In[14]:63\n",
      "┌ Info: (\"Aopt_motif\", Any[35, 50, 17, 2, 41, 46, 49, 25, 14, 6, 22, 39, 5, 9, 38, 8, 6, 17, 8, 5])\n",
      "└ @ Main In[14]:64\n"
     ]
    },
    {
     "name": "stdout",
     "output_type": "stream",
     "text": [
      "Aopt1\n",
      "  8.817032 seconds (64.12 M allocations: 5.830 GiB, 10.46% gc time)\n"
     ]
    },
    {
     "name": "stderr",
     "output_type": "stream",
     "text": [
      "┌ Info: Genetic screen finished...\n",
      "└ @ Main In[14]:63\n",
      "┌ Info: (\"Aopt_motif\", Any[35, 40, 17, 2, 41, 46, 49, 25, 14, 6, 22, 39, 5, 9, 38, 8, 6, 17, 8, 5])\n",
      "└ @ Main In[14]:64\n"
     ]
    },
    {
     "name": "stdout",
     "output_type": "stream",
     "text": [
      "Aopt1\n",
      "  4.508264 seconds (32.24 M allocations: 2.932 GiB, 10.32% gc time)\n"
     ]
    },
    {
     "name": "stderr",
     "output_type": "stream",
     "text": [
      "┌ Info: Genetic screen finished...\n",
      "└ @ Main In[14]:63\n",
      "┌ Info: (\"Aopt_motif\", Any[35, 50, 17, 2, 41, 46, 49, 25, 16, 29, 22, 39, 5, 3, 38, 8, 6, 17, 8, 5])\n",
      "└ @ Main In[14]:64\n"
     ]
    },
    {
     "name": "stdout",
     "output_type": "stream",
     "text": [
      "Aopt1\n",
      "  9.548325 seconds (69.59 M allocations: 6.327 GiB, 10.48% gc time)\n"
     ]
    },
    {
     "name": "stderr",
     "output_type": "stream",
     "text": [
      "┌ Info: Genetic screen finished...\n",
      "└ @ Main In[14]:63\n",
      "┌ Info: (\"Aopt_motif\", Any[34, 49, 16, 1, 40, 7, 48, 24, 13, 5, 21, 38, 4, 8, 37, 7, 5, 16, 7, 4])\n",
      "└ @ Main In[14]:64\n"
     ]
    },
    {
     "name": "stdout",
     "output_type": "stream",
     "text": [
      "Aopt1\n",
      "  6.053136 seconds (44.05 M allocations: 4.005 GiB, 10.44% gc time)\n"
     ]
    },
    {
     "name": "stderr",
     "output_type": "stream",
     "text": [
      "┌ Info: Genetic screen finished...\n",
      "└ @ Main In[14]:63\n",
      "┌ Info: (\"Aopt_motif\", Any[34, 49, 16, 1, 40, 45, 48, 24, 13, 5, 21, 38, 4, 8, 37, 7, 5, 16, 7, 4])\n",
      "└ @ Main In[14]:64\n"
     ]
    },
    {
     "name": "stdout",
     "output_type": "stream",
     "text": [
      "Aopt1\n",
      "  6.859631 seconds (50.20 M allocations: 4.564 GiB, 10.56% gc time)\n"
     ]
    },
    {
     "name": "stderr",
     "output_type": "stream",
     "text": [
      "┌ Info: Genetic screen finished...\n",
      "└ @ Main In[14]:63\n",
      "┌ Info: (\"Aopt_motif\", Any[34, 49, 16, 1, 40, 45, 48, 24, 13, 5, 21, 38, 4, 8, 37, 7, 6, 16, 7, 4])\n",
      "└ @ Main In[14]:64\n"
     ]
    },
    {
     "name": "stdout",
     "output_type": "stream",
     "text": [
      "Aopt1\n",
      "  7.089775 seconds (51.32 M allocations: 4.666 GiB, 10.40% gc time)\n"
     ]
    },
    {
     "name": "stderr",
     "output_type": "stream",
     "text": [
      "┌ Info: Genetic screen finished...\n",
      "└ @ Main In[14]:63\n",
      "┌ Info: (\"Aopt_motif\", Any[36, 51, 18, 3, 42, 47, 50, 26, 15, 7, 23, 40, 6, 10, 39, 9, 7, 18, 9, 6])\n",
      "└ @ Main In[14]:64\n"
     ]
    },
    {
     "name": "stdout",
     "output_type": "stream",
     "text": [
      "Aopt1\n",
      "  8.897940 seconds (64.90 M allocations: 5.901 GiB, 10.49% gc time)\n"
     ]
    },
    {
     "name": "stderr",
     "output_type": "stream",
     "text": [
      "┌ Info: Genetic screen finished...\n",
      "└ @ Main In[14]:63\n",
      "┌ Info: (\"Aopt_motif\", Any[34, 49, 16, 2, 40, 45, 48, 24, 13, 5, 21, 12, 4, 8, 37, 7, 5, 16, 7, 4])\n",
      "└ @ Main In[14]:64\n"
     ]
    },
    {
     "name": "stdout",
     "output_type": "stream",
     "text": [
      "Aopt1\n",
      "  5.164244 seconds (36.97 M allocations: 3.361 GiB, 10.33% gc time)\n"
     ]
    },
    {
     "name": "stderr",
     "output_type": "stream",
     "text": [
      "┌ Info: Genetic screen finished...\n",
      "└ @ Main In[14]:63\n",
      "┌ Info: (\"Aopt_motif\", Any[35, 50, 17, 3, 41, 46, 49, 25, 14, 6, 22, 39, 7, 9, 38, 8, 6, 17, 8, 5])\n",
      "└ @ Main In[14]:64\n"
     ]
    },
    {
     "data": {
      "text/plain": [
       "499-element Array{Any,1}:\n",
       " (2, 400)  \n",
       " (3, 374)  \n",
       " (4, 375)  \n",
       " (5, 346)  \n",
       " (6, 400)  \n",
       " (7, 368)  \n",
       " (8, 388)  \n",
       " (9, 368)  \n",
       " (10, 390) \n",
       " (11, 388) \n",
       " (12, 375) \n",
       " (13, 400) \n",
       " (14, 388) \n",
       " ⋮         \n",
       " (489, 400)\n",
       " (490, 400)\n",
       " (491, 400)\n",
       " (492, 400)\n",
       " (493, 400)\n",
       " (494, 400)\n",
       " (495, 400)\n",
       " (496, 400)\n",
       " (497, 400)\n",
       " (498, 400)\n",
       " (499, 400)\n",
       " (500, 400)"
      ]
     },
     "execution_count": 47,
     "metadata": {},
     "output_type": "execute_result"
    }
   ],
   "source": [
    "step = 1\n",
    "pop_score = []\n",
    "p = 2\n",
    "while p <= 500\n",
    "    result = @time GAME(easy_sequences,0.001,3000, p, 20)\n",
    "    push!(pop_score, (p, result[5]))\n",
    "    p += step\n",
    "end\n",
    "pop_score"
   ]
  },
  {
   "cell_type": "markdown",
   "metadata": {},
   "source": [
    "4) Hard Challenge Mutation vs Score"
   ]
  },
  {
   "cell_type": "code",
   "execution_count": 55,
   "metadata": {},
   "outputs": [
    {
     "name": "stderr",
     "output_type": "stream",
     "text": [
      "┌ Info: Genetic screen finished...\n",
      "└ @ Main In[14]:63\n",
      "┌ Info: (\"Aopt_motif\", Any[196, 141, 41, 140, 173, 106, 105, 158, 139, 73, 40, 200, 11, 25, 141, 141, 28, 142, 5, 26])\n",
      "└ @ Main In[14]:64\n"
     ]
    },
    {
     "name": "stdout",
     "output_type": "stream",
     "text": [
      "Aopt1\n",
      "  0.248346 seconds (2.02 M allocations: 173.779 MiB, 9.15% gc time)\n"
     ]
    },
    {
     "name": "stderr",
     "output_type": "stream",
     "text": [
      "┌ Info: Genetic screen finished...\n",
      "└ @ Main In[14]:63\n",
      "┌ Info: (\"Aopt_motif\", Any[40, 90, 117, 132, 177, 158, 130, 30, 96, 58, 98, 81, 145, 8, 111, 58, 170, 141, 103, 170])\n",
      "└ @ Main In[14]:64\n"
     ]
    },
    {
     "name": "stdout",
     "output_type": "stream",
     "text": [
      "Aopt1\n",
      "  0.205329 seconds (1.59 M allocations: 136.259 MiB, 7.74% gc time)\n"
     ]
    },
    {
     "name": "stderr",
     "output_type": "stream",
     "text": [
      "┌ Info: Genetic screen finished...\n",
      "└ @ Main In[14]:63\n",
      "┌ Info: (\"Aopt_motif\", Any[128, 168, 48, 193, 74, 45, 151, 53, 12, 110, 1, 136, 126, 93, 36, 90, 124, 148, 152, 68])\n",
      "└ @ Main In[14]:64\n"
     ]
    },
    {
     "name": "stdout",
     "output_type": "stream",
     "text": [
      "Aopt1\n",
      "  0.148341 seconds (1.09 M allocations: 93.034 MiB, 7.29% gc time)\n"
     ]
    },
    {
     "name": "stderr",
     "output_type": "stream",
     "text": [
      "┌ Info: Genetic screen finished...\n",
      "└ @ Main In[14]:63\n",
      "┌ Info: (\"Aopt_motif\", Any[68, 73, 141, 74, 73, 91, 50, 189, 45, 172, 179, 72, 114, 195, 91, 94, 117, 90, 154, 115])\n",
      "└ @ Main In[14]:64\n"
     ]
    },
    {
     "name": "stdout",
     "output_type": "stream",
     "text": [
      "Aopt1\n",
      "  0.145908 seconds (1.09 M allocations: 92.624 MiB, 7.59% gc time)\n"
     ]
    },
    {
     "name": "stderr",
     "output_type": "stream",
     "text": [
      "┌ Info: Genetic screen finished...\n",
      "└ @ Main In[14]:63\n",
      "┌ Info: (\"Aopt_motif\", Any[52, 64, 156, 17, 110, 121, 201, 91, 87, 22, 118, 179, 129, 84, 5, 155, 54, 170, 114, 30])\n",
      "└ @ Main In[14]:64\n"
     ]
    },
    {
     "name": "stdout",
     "output_type": "stream",
     "text": [
      "Aopt1\n",
      "  0.158516 seconds (1.21 M allocations: 102.899 MiB, 8.70% gc time)\n"
     ]
    },
    {
     "name": "stderr",
     "output_type": "stream",
     "text": [
      "┌ Info: Genetic screen finished...\n",
      "└ @ Main In[14]:63\n",
      "┌ Info: (\"Aopt_motif\", Any[42, 49, 97, 150, 116, 75, 11, 12, 23, 26, 80, 145, 29, 89, 61, 198, 189, 66, 176, 115])\n",
      "└ @ Main In[14]:64\n"
     ]
    },
    {
     "name": "stdout",
     "output_type": "stream",
     "text": [
      "Aopt1\n",
      "  0.229666 seconds (1.74 M allocations: 148.168 MiB, 8.31% gc time)\n"
     ]
    },
    {
     "name": "stderr",
     "output_type": "stream",
     "text": [
      "┌ Info: Genetic screen finished...\n",
      "└ @ Main In[14]:63\n",
      "┌ Info: (\"Aopt_motif\", Any[128, 168, 195, 13, 134, 135, 44, 75, 56, 121, 94, 78, 48, 47, 142, 140, 98, 163, 111, 195])\n",
      "└ @ Main In[14]:64\n"
     ]
    },
    {
     "name": "stdout",
     "output_type": "stream",
     "text": [
      "Aopt1\n",
      "  0.200025 seconds (1.49 M allocations: 125.242 MiB, 8.17% gc time)\n"
     ]
    },
    {
     "name": "stderr",
     "output_type": "stream",
     "text": [
      "┌ Info: Genetic screen finished...\n",
      "└ @ Main In[14]:63\n",
      "┌ Info: (\"Aopt_motif\", Any[162, 77, 169, 159, 10, 183, 115, 108, 192, 73, 127, 33, 68, 60, 154, 192, 135, 130, 97, 149])\n",
      "└ @ Main In[14]:64\n"
     ]
    },
    {
     "name": "stdout",
     "output_type": "stream",
     "text": [
      "Aopt1\n",
      "  0.220770 seconds (1.70 M allocations: 144.871 MiB, 7.32% gc time)\n"
     ]
    },
    {
     "name": "stderr",
     "output_type": "stream",
     "text": [
      "┌ Info: Genetic screen finished...\n",
      "└ @ Main In[14]:63\n",
      "┌ Info: (\"Aopt_motif\", Any[183, 1, 43, 6, 129, 165, 183, 49, 6, 189, 66, 130, 49, 50, 94, 140, 179, 58, 63, 16])\n",
      "└ @ Main In[14]:64\n"
     ]
    },
    {
     "name": "stdout",
     "output_type": "stream",
     "text": [
      "Aopt2\n",
      "  0.195385 seconds (1.46 M allocations: 122.934 MiB, 8.37% gc time)\n"
     ]
    },
    {
     "name": "stderr",
     "output_type": "stream",
     "text": [
      "┌ Info: Genetic screen finished...\n",
      "└ @ Main In[14]:63\n",
      "┌ Info: (\"Aopt_motif\", Any[146, 86, 108, 85, 104, 1, 92, 8, 19, 109, 175, 174, 187, 189, 81, 109, 136, 7, 119, 29])\n",
      "└ @ Main In[14]:64\n"
     ]
    },
    {
     "name": "stdout",
     "output_type": "stream",
     "text": [
      "Aopt1\n",
      "  0.249413 seconds (1.88 M allocations: 160.041 MiB, 7.64% gc time)\n"
     ]
    },
    {
     "name": "stderr",
     "output_type": "stream",
     "text": [
      "┌ Info: Genetic screen finished...\n",
      "└ @ Main In[14]:63\n",
      "┌ Info: (\"Aopt_motif\", Any[120, 162, 36, 198, 117, 131, 133, 199, 18, 145, 39, 69, 196, 58, 46, 196, 68, 40, 10, 51])\n",
      "└ @ Main In[14]:64\n"
     ]
    },
    {
     "name": "stdout",
     "output_type": "stream",
     "text": [
      "Aopt1\n",
      "  0.206492 seconds (1.57 M allocations: 132.435 MiB, 8.07% gc time)\n"
     ]
    },
    {
     "name": "stderr",
     "output_type": "stream",
     "text": [
      "┌ Info: Genetic screen finished...\n",
      "└ @ Main In[14]:63\n",
      "┌ Info: (\"Aopt_motif\", Any[133, 22, 37, 65, 122, 164, 177, 84, 64, 47, 64, 165, 127, 77, 64, 199, 133, 9, 10, 112])\n",
      "└ @ Main In[14]:64\n"
     ]
    },
    {
     "name": "stdout",
     "output_type": "stream",
     "text": [
      "Aopt1\n",
      "  0.163497 seconds (1.32 M allocations: 111.648 MiB, 8.49% gc time)\n"
     ]
    },
    {
     "name": "stderr",
     "output_type": "stream",
     "text": [
      "┌ Info: Genetic screen finished...\n",
      "└ @ Main In[14]:63\n",
      "┌ Info: (\"Aopt_motif\", Any[168, 120, 21, 30, 119, 133, 21, 151, 146, 132, 200, 82, 169, 163, 8, 59, 22, 61, 170, 137])\n",
      "└ @ Main In[14]:64\n"
     ]
    },
    {
     "name": "stdout",
     "output_type": "stream",
     "text": [
      "Aopt1\n",
      "  0.177622 seconds (1.37 M allocations: 115.960 MiB, 9.33% gc time)\n"
     ]
    },
    {
     "name": "stderr",
     "output_type": "stream",
     "text": [
      "┌ Info: Genetic screen finished...\n",
      "└ @ Main In[14]:63\n",
      "┌ Info: (\"Aopt_motif\", Any[163, 69, 176, 197, 113, 144, 197, 181, 174, 74, 49, 109, 29, 106, 58, 121, 61, 59, 89, 139])\n",
      "└ @ Main In[14]:64\n"
     ]
    },
    {
     "name": "stdout",
     "output_type": "stream",
     "text": [
      "Aopt1\n",
      "  0.224958 seconds (1.69 M allocations: 142.586 MiB, 7.35% gc time)\n"
     ]
    },
    {
     "name": "stderr",
     "output_type": "stream",
     "text": [
      "┌ Info: Genetic screen finished...\n",
      "└ @ Main In[14]:63\n",
      "┌ Info: (\"Aopt_motif\", Any[88, 34, 65, 143, 168, 76, 56, 156, 127, 1, 100, 90, 156, 201, 139, 180, 5, 124, 111, 167])\n",
      "└ @ Main In[14]:64\n"
     ]
    },
    {
     "name": "stdout",
     "output_type": "stream",
     "text": [
      "Aopt1\n",
      "  0.397732 seconds (3.14 M allocations: 264.063 MiB, 8.38% gc time)\n"
     ]
    },
    {
     "name": "stderr",
     "output_type": "stream",
     "text": [
      "┌ Info: Genetic screen finished...\n",
      "└ @ Main In[14]:63\n",
      "┌ Info: (\"Aopt_motif\", Any[21, 149, 186, 2, 163, 110, 17, 154, 50, 54, 32, 95, 179, 49, 200, 134, 44, 157, 122, 105])\n",
      "└ @ Main In[14]:64\n"
     ]
    },
    {
     "name": "stdout",
     "output_type": "stream",
     "text": [
      "Aopt1\n",
      "  0.222847 seconds (1.62 M allocations: 136.596 MiB, 8.63% gc time)\n"
     ]
    },
    {
     "name": "stderr",
     "output_type": "stream",
     "text": [
      "┌ Info: Genetic screen finished...\n",
      "└ @ Main In[14]:63\n",
      "┌ Info: (\"Aopt_motif\", Any[102, 171, 138, 157, 117, 176, 48, 124, 121, 3, 9, 97, 189, 150, 49, 36, 12, 31, 26, 171])\n",
      "└ @ Main In[14]:64\n"
     ]
    },
    {
     "name": "stdout",
     "output_type": "stream",
     "text": [
      "Aopt1\n",
      "  0.308899 seconds (2.47 M allocations: 209.108 MiB, 7.98% gc time)\n"
     ]
    },
    {
     "name": "stderr",
     "output_type": "stream",
     "text": [
      "┌ Info: Genetic screen finished...\n",
      "└ @ Main In[14]:63\n",
      "┌ Info: (\"Aopt_motif\", Any[179, 80, 187, 164, 57, 23, 15, 33, 162, 188, 39, 44, 88, 193, 128, 160, 42, 133, 153, 54])\n",
      "└ @ Main In[14]:64\n"
     ]
    },
    {
     "name": "stdout",
     "output_type": "stream",
     "text": [
      "Aopt1\n",
      "  0.227340 seconds (1.68 M allocations: 141.812 MiB, 8.55% gc time)\n"
     ]
    },
    {
     "name": "stderr",
     "output_type": "stream",
     "text": [
      "┌ Info: Genetic screen finished...\n",
      "└ @ Main In[14]:63\n",
      "┌ Info: (\"Aopt_motif\", Any[113, 76, 64, 14, 110, 17, 32, 123, 168, 110, 137, 38, 31, 67, 178, 183, 43, 94, 153, 141])\n",
      "└ @ Main In[14]:64\n"
     ]
    },
    {
     "name": "stdout",
     "output_type": "stream",
     "text": [
      "Aopt1\n",
      "  0.461959 seconds (3.64 M allocations: 303.623 MiB, 7.90% gc time)\n"
     ]
    },
    {
     "name": "stderr",
     "output_type": "stream",
     "text": [
      "┌ Info: Genetic screen finished...\n",
      "└ @ Main In[14]:63\n",
      "┌ Info: (\"Aopt_motif\", Any[185, 19, 105, 39, 149, 192, 14, 91, 168, 63, 154, 87, 66, 129, 160, 155, 41, 197, 92, 186])\n",
      "└ @ Main In[14]:64\n"
     ]
    },
    {
     "name": "stdout",
     "output_type": "stream",
     "text": [
      "Aopt1\n",
      "  0.211615 seconds (1.60 M allocations: 135.134 MiB, 9.09% gc time)\n"
     ]
    },
    {
     "name": "stderr",
     "output_type": "stream",
     "text": [
      "┌ Info: Genetic screen finished...\n",
      "└ @ Main In[14]:63\n",
      "┌ Info: (\"Aopt_motif\", Any[91, 63, 21, 23, 124, 103, 14, 164, 116, 67, 163, 190, 159, 3, 75, 104, 41, 14, 166, 76])\n",
      "└ @ Main In[14]:64\n"
     ]
    },
    {
     "name": "stdout",
     "output_type": "stream",
     "text": [
      "Aopt1\n",
      "  0.276501 seconds (2.23 M allocations: 187.121 MiB, 8.11% gc time)\n"
     ]
    },
    {
     "name": "stderr",
     "output_type": "stream",
     "text": [
      "┌ Info: Genetic screen finished...\n",
      "└ @ Main In[14]:63\n",
      "┌ Info: (\"Aopt_motif\", Any[9, 22, 145, 190, 158, 169, 123, 47, 179, 194, 188, 124, 140, 186, 40, 134, 9, 185, 45, 143])\n",
      "└ @ Main In[14]:64\n"
     ]
    },
    {
     "name": "stdout",
     "output_type": "stream",
     "text": [
      "Aopt1\n",
      "  0.252973 seconds (1.93 M allocations: 162.471 MiB, 8.85% gc time)\n"
     ]
    },
    {
     "name": "stderr",
     "output_type": "stream",
     "text": [
      "┌ Info: Genetic screen finished...\n",
      "└ @ Main In[14]:63\n",
      "┌ Info: (\"Aopt_motif\", Any[58, 47, 117, 132, 47, 132, 153, 18, 191, 42, 99, 106, 42, 121, 46, 183, 141, 130, 172, 198])\n",
      "└ @ Main In[14]:64\n"
     ]
    },
    {
     "name": "stdout",
     "output_type": "stream",
     "text": [
      "Aopt1\n",
      "  0.294279 seconds (2.28 M allocations: 192.953 MiB, 7.57% gc time)\n"
     ]
    },
    {
     "name": "stderr",
     "output_type": "stream",
     "text": [
      "┌ Info: Genetic screen finished...\n",
      "└ @ Main In[14]:63\n",
      "┌ Info: (\"Aopt_motif\", Any[147, 51, 174, 108, 131, 175, 148, 102, 185, 180, 17, 183, 137, 32, 118, 137, 167, 78, 115, 178])\n",
      "└ @ Main In[14]:64\n"
     ]
    },
    {
     "name": "stdout",
     "output_type": "stream",
     "text": [
      "Aopt1\n",
      "  0.437194 seconds (3.39 M allocations: 282.785 MiB, 8.36% gc time)\n"
     ]
    },
    {
     "name": "stderr",
     "output_type": "stream",
     "text": [
      "┌ Info: Genetic screen finished...\n",
      "└ @ Main In[14]:63\n",
      "┌ Info: (\"Aopt_motif\", Any[3, 90, 192, 97, 119, 24, 174, 42, 169, 127, 164, 156, 120, 167, 179, 99, 129, 160, 197, 127])\n",
      "└ @ Main In[14]:64\n"
     ]
    },
    {
     "name": "stdout",
     "output_type": "stream",
     "text": [
      "Aopt1\n",
      "  0.361190 seconds (2.79 M allocations: 232.926 MiB, 8.58% gc time)\n"
     ]
    },
    {
     "name": "stderr",
     "output_type": "stream",
     "text": [
      "┌ Info: Genetic screen finished...\n",
      "└ @ Main In[14]:63\n",
      "┌ Info: (\"Aopt_motif\", Any[158, 77, 186, 45, 95, 130, 80, 146, 32, 39, 149, 185, 171, 104, 17, 56, 111, 36, 121, 139])\n",
      "└ @ Main In[14]:64\n"
     ]
    },
    {
     "name": "stdout",
     "output_type": "stream",
     "text": [
      "Aopt1\n",
      "  0.337527 seconds (2.53 M allocations: 213.356 MiB, 8.24% gc time)\n"
     ]
    },
    {
     "name": "stderr",
     "output_type": "stream",
     "text": [
      "┌ Info: Genetic screen finished...\n",
      "└ @ Main In[14]:63\n",
      "┌ Info: (\"Aopt_motif\", Any[163, 131, 71, 149, 156, 34, 20, 159, 17, 125, 98, 81, 88, 31, 50, 90, 190, 57, 114, 136])\n",
      "└ @ Main In[14]:64\n"
     ]
    },
    {
     "name": "stdout",
     "output_type": "stream",
     "text": [
      "Aopt1\n",
      "  0.284516 seconds (2.27 M allocations: 190.038 MiB, 8.00% gc time)\n"
     ]
    },
    {
     "name": "stderr",
     "output_type": "stream",
     "text": [
      "┌ Info: Genetic screen finished...\n",
      "└ @ Main In[14]:63\n",
      "┌ Info: (\"Aopt_motif\", Any[184, 131, 32, 100, 13, 125, 146, 154, 150, 58, 124, 86, 3, 98, 1, 32, 47, 112, 90, 99])\n",
      "└ @ Main In[14]:64\n"
     ]
    },
    {
     "name": "stdout",
     "output_type": "stream",
     "text": [
      "Aopt1\n",
      "  0.252588 seconds (1.91 M allocations: 160.598 MiB, 8.93% gc time)\n"
     ]
    },
    {
     "name": "stderr",
     "output_type": "stream",
     "text": [
      "┌ Info: Genetic screen finished...\n",
      "└ @ Main In[14]:63\n",
      "┌ Info: (\"Aopt_motif\", Any[194, 129, 146, 24, 106, 118, 27, 123, 131, 113, 2, 164, 193, 120, 22, 122, 24, 7, 12, 124])\n",
      "└ @ Main In[14]:64\n"
     ]
    },
    {
     "name": "stdout",
     "output_type": "stream",
     "text": [
      "Aopt1\n",
      "  0.385567 seconds (3.11 M allocations: 263.582 MiB, 8.56% gc time)\n"
     ]
    },
    {
     "name": "stderr",
     "output_type": "stream",
     "text": [
      "┌ Info: Genetic screen finished...\n",
      "└ @ Main In[14]:63\n",
      "┌ Info: (\"Aopt_motif\", Any[132, 201, 181, 141, 126, 11, 123, 133, 135, 32, 73, 161, 88, 18, 6, 16, 42, 134, 8, 193])\n",
      "└ @ Main In[14]:64\n"
     ]
    },
    {
     "name": "stdout",
     "output_type": "stream",
     "text": [
      "Aopt1\n",
      "  0.454060 seconds (3.65 M allocations: 305.834 MiB, 8.61% gc time)\n"
     ]
    },
    {
     "name": "stderr",
     "output_type": "stream",
     "text": [
      "┌ Info: Genetic screen finished...\n",
      "└ @ Main In[14]:63\n",
      "┌ Info: (\"Aopt_motif\", Any[30, 16, 58, 155, 21, 177, 67, 63, 113, 98, 117, 170, 119, 189, 54, 34, 34, 144, 111, 25])\n",
      "└ @ Main In[14]:64\n"
     ]
    },
    {
     "name": "stdout",
     "output_type": "stream",
     "text": [
      "Aopt1\n",
      "  0.518598 seconds (3.95 M allocations: 330.737 MiB, 8.11% gc time)\n"
     ]
    },
    {
     "name": "stderr",
     "output_type": "stream",
     "text": [
      "┌ Info: Genetic screen finished...\n",
      "└ @ Main In[14]:63\n",
      "┌ Info: (\"Aopt_motif\", Any[123, 168, 133, 3, 21, 94, 118, 148, 46, 89, 142, 105, 115, 165, 180, 180, 181, 136, 117, 102])\n",
      "└ @ Main In[14]:64\n"
     ]
    },
    {
     "name": "stdout",
     "output_type": "stream",
     "text": [
      "Aopt1\n",
      "  0.368328 seconds (2.79 M allocations: 233.186 MiB, 8.49% gc time)\n"
     ]
    },
    {
     "name": "stderr",
     "output_type": "stream",
     "text": [
      "┌ Info: Genetic screen finished...\n",
      "└ @ Main In[14]:63\n",
      "┌ Info: (\"Aopt_motif\", Any[44, 77, 150, 120, 125, 124, 200, 156, 147, 7, 52, 33, 18, 177, 13, 151, 176, 89, 71, 128])\n",
      "└ @ Main In[14]:64\n"
     ]
    },
    {
     "name": "stdout",
     "output_type": "stream",
     "text": [
      "Aopt1\n",
      "  0.510185 seconds (4.11 M allocations: 344.840 MiB, 8.32% gc time)\n"
     ]
    },
    {
     "name": "stderr",
     "output_type": "stream",
     "text": [
      "┌ Info: Genetic screen finished...\n",
      "└ @ Main In[14]:63\n",
      "┌ Info: (\"Aopt_motif\", Any[10, 14, 29, 132, 49, 102, 120, 36, 177, 109, 26, 167, 142, 173, 111, 74, 148, 53, 46, 11])\n",
      "└ @ Main In[14]:64\n"
     ]
    },
    {
     "name": "stdout",
     "output_type": "stream",
     "text": [
      "Aopt1\n",
      "  0.265340 seconds (2.01 M allocations: 168.692 MiB, 8.68% gc time)\n"
     ]
    },
    {
     "name": "stderr",
     "output_type": "stream",
     "text": [
      "┌ Info: Genetic screen finished...\n",
      "└ @ Main In[14]:63\n",
      "┌ Info: (\"Aopt_motif\", Any[42, 83, 31, 197, 106, 98, 9, 15, 16, 18, 105, 146, 191, 81, 11, 15, 57, 103, 127, 5])\n",
      "└ @ Main In[14]:64\n"
     ]
    },
    {
     "name": "stdout",
     "output_type": "stream",
     "text": [
      "Aopt1\n",
      "  0.427105 seconds (3.26 M allocations: 274.411 MiB, 9.11% gc time)\n"
     ]
    },
    {
     "name": "stderr",
     "output_type": "stream",
     "text": [
      "┌ Info: Genetic screen finished...\n",
      "└ @ Main In[14]:63\n",
      "┌ Info: (\"Aopt_motif\", Any[100, 186, 111, 80, 43, 5, 49, 106, 187, 20, 24, 84, 190, 189, 25, 156, 149, 192, 31, 168])\n",
      "└ @ Main In[14]:64\n"
     ]
    },
    {
     "name": "stdout",
     "output_type": "stream",
     "text": [
      "Aopt1\n",
      "  0.477991 seconds (3.59 M allocations: 299.431 MiB, 7.87% gc time)\n"
     ]
    },
    {
     "name": "stderr",
     "output_type": "stream",
     "text": [
      "┌ Info: Genetic screen finished...\n",
      "└ @ Main In[14]:63\n",
      "┌ Info: (\"Aopt_motif\", Any[105, 43, 74, 197, 121, 122, 199, 8, 146, 177, 144, 197, 178, 67, 155, 8, 125, 95, 111, 162])\n",
      "└ @ Main In[14]:64\n"
     ]
    },
    {
     "name": "stdout",
     "output_type": "stream",
     "text": [
      "Aopt1\n",
      "  0.441962 seconds (3.44 M allocations: 286.764 MiB, 8.44% gc time)\n"
     ]
    },
    {
     "name": "stderr",
     "output_type": "stream",
     "text": [
      "┌ Info: Genetic screen finished...\n",
      "└ @ Main In[14]:63\n",
      "┌ Info: (\"Aopt_motif\", Any[68, 111, 158, 56, 30, 154, 59, 57, 156, 163, 155, 200, 98, 56, 118, 67, 193, 151, 180, 34])\n",
      "└ @ Main In[14]:64\n"
     ]
    },
    {
     "name": "stdout",
     "output_type": "stream",
     "text": [
      "Aopt1\n",
      "  0.474663 seconds (3.47 M allocations: 289.347 MiB, 8.47% gc time)\n"
     ]
    },
    {
     "name": "stderr",
     "output_type": "stream",
     "text": [
      "┌ Info: Genetic screen finished...\n",
      "└ @ Main In[14]:63\n",
      "┌ Info: (\"Aopt_motif\", Any[183, 45, 94, 68, 174, 201, 56, 76, 97, 113, 3, 128, 97, 154, 124, 133, 108, 151, 108, 39])\n",
      "└ @ Main In[14]:64\n"
     ]
    },
    {
     "name": "stdout",
     "output_type": "stream",
     "text": [
      "Aopt1\n",
      "  0.320497 seconds (2.38 M allocations: 199.583 MiB, 7.99% gc time)\n"
     ]
    },
    {
     "name": "stderr",
     "output_type": "stream",
     "text": [
      "┌ Info: Genetic screen finished...\n",
      "└ @ Main In[14]:63\n",
      "┌ Info: (\"Aopt_motif\", Any[95, 150, 175, 46, 37, 125, 179, 121, 68, 89, 104, 96, 186, 6, 2, 150, 200, 44, 139, 45])\n",
      "└ @ Main In[14]:64\n"
     ]
    },
    {
     "name": "stdout",
     "output_type": "stream",
     "text": [
      "Aopt1\n",
      "  0.626928 seconds (4.93 M allocations: 409.998 MiB, 8.70% gc time)\n"
     ]
    },
    {
     "name": "stderr",
     "output_type": "stream",
     "text": [
      "┌ Info: Genetic screen finished...\n",
      "└ @ Main In[14]:63\n",
      "┌ Info: (\"Aopt_motif\", Any[13, 119, 85, 40, 120, 104, 188, 179, 1, 49, 114, 199, 14, 32, 41, 191, 179, 123, 184, 192])\n",
      "└ @ Main In[14]:64\n"
     ]
    },
    {
     "name": "stdout",
     "output_type": "stream",
     "text": [
      "Aopt1\n",
      "  0.485395 seconds (3.88 M allocations: 323.568 MiB, 8.31% gc time)\n"
     ]
    },
    {
     "name": "stderr",
     "output_type": "stream",
     "text": [
      "┌ Info: Genetic screen finished...\n",
      "└ @ Main In[14]:63\n",
      "┌ Info: (\"Aopt_motif\", Any[78, 51, 159, 59, 67, 192, 73, 20, 157, 55, 155, 12, 153, 166, 18, 31, 74, 78, 143, 54])\n",
      "└ @ Main In[14]:64\n"
     ]
    },
    {
     "name": "stdout",
     "output_type": "stream",
     "text": [
      "Aopt1\n",
      "  0.531878 seconds (4.02 M allocations: 334.971 MiB, 8.66% gc time)\n"
     ]
    },
    {
     "name": "stderr",
     "output_type": "stream",
     "text": [
      "┌ Info: Genetic screen finished...\n",
      "└ @ Main In[14]:63\n",
      "┌ Info: (\"Aopt_motif\", Any[91, 140, 104, 143, 196, 9, 155, 111, 162, 160, 24, 90, 69, 44, 119, 86, 23, 124, 131, 78])\n",
      "└ @ Main In[14]:64\n"
     ]
    },
    {
     "name": "stdout",
     "output_type": "stream",
     "text": [
      "Aopt1\n",
      "  0.472396 seconds (3.62 M allocations: 301.997 MiB, 7.92% gc time)\n"
     ]
    },
    {
     "name": "stderr",
     "output_type": "stream",
     "text": [
      "┌ Info: Genetic screen finished...\n",
      "└ @ Main In[14]:63\n",
      "┌ Info: (\"Aopt_motif\", Any[42, 36, 148, 172, 29, 123, 147, 102, 138, 194, 110, 183, 140, 112, 62, 53, 181, 104, 168, 7])\n",
      "└ @ Main In[14]:64\n"
     ]
    },
    {
     "name": "stdout",
     "output_type": "stream",
     "text": [
      "Aopt1\n",
      "  0.649490 seconds (5.08 M allocations: 424.808 MiB, 8.86% gc time)\n"
     ]
    },
    {
     "name": "stderr",
     "output_type": "stream",
     "text": [
      "┌ Info: Genetic screen finished...\n",
      "└ @ Main In[14]:63\n",
      "┌ Info: (\"Aopt_motif\", Any[51, 138, 35, 24, 13, 122, 198, 21, 140, 135, 105, 23, 127, 164, 123, 8, 104, 65, 138, 153])\n",
      "└ @ Main In[14]:64\n"
     ]
    },
    {
     "name": "stdout",
     "output_type": "stream",
     "text": [
      "Aopt1\n",
      "  0.735121 seconds (5.76 M allocations: 478.772 MiB, 8.86% gc time)\n"
     ]
    },
    {
     "name": "stderr",
     "output_type": "stream",
     "text": [
      "┌ Info: Genetic screen finished...\n",
      "└ @ Main In[14]:63\n",
      "┌ Info: (\"Aopt_motif\", Any[36, 80, 17, 29, 130, 79, 187, 120, 132, 2, 99, 179, 89, 4, 2, 79, 129, 42, 97, 3])\n",
      "└ @ Main In[14]:64\n"
     ]
    },
    {
     "name": "stdout",
     "output_type": "stream",
     "text": [
      "Aopt1\n",
      "  0.939796 seconds (7.49 M allocations: 625.613 MiB, 8.75% gc time)\n"
     ]
    },
    {
     "name": "stderr",
     "output_type": "stream",
     "text": [
      "┌ Info: Genetic screen finished...\n",
      "└ @ Main In[14]:63\n",
      "┌ Info: (\"Aopt_motif\", Any[35, 90, 47, 131, 145, 19, 106, 60, 11, 141, 55, 22, 98, 95, 153, 60, 63, 155, 124, 45])\n",
      "└ @ Main In[14]:64\n"
     ]
    },
    {
     "name": "stdout",
     "output_type": "stream",
     "text": [
      "Aopt1\n",
      "  0.687830 seconds (5.10 M allocations: 424.249 MiB, 8.41% gc time)\n"
     ]
    },
    {
     "name": "stderr",
     "output_type": "stream",
     "text": [
      "┌ Info: Genetic screen finished...\n",
      "└ @ Main In[14]:63\n",
      "┌ Info: (\"Aopt_motif\", Any[189, 83, 14, 78, 26, 17, 72, 77, 85, 89, 114, 18, 132, 165, 111, 69, 113, 148, 118, 94])\n",
      "└ @ Main In[14]:64\n"
     ]
    },
    {
     "name": "stdout",
     "output_type": "stream",
     "text": [
      "Aopt1\n",
      "  0.681261 seconds (5.17 M allocations: 432.262 MiB, 8.00% gc time)\n"
     ]
    },
    {
     "name": "stderr",
     "output_type": "stream",
     "text": [
      "┌ Info: Genetic screen finished...\n",
      "└ @ Main In[14]:63\n",
      "┌ Info: (\"Aopt_motif\", Any[149, 136, 102, 185, 27, 18, 167, 70, 181, 83, 139, 84, 153, 94, 149, 129, 178, 180, 56, 36])\n",
      "└ @ Main In[14]:64\n"
     ]
    },
    {
     "name": "stdout",
     "output_type": "stream",
     "text": [
      "Aopt1\n",
      "  0.832378 seconds (6.40 M allocations: 531.564 MiB, 8.73% gc time)\n"
     ]
    },
    {
     "name": "stderr",
     "output_type": "stream",
     "text": [
      "┌ Info: Genetic screen finished...\n",
      "└ @ Main In[14]:63\n",
      "┌ Info: (\"Aopt_motif\", Any[147, 19, 5, 180, 120, 48, 70, 157, 135, 179, 95, 194, 45, 138, 52, 173, 137, 25, 138, 133])\n",
      "└ @ Main In[14]:64\n"
     ]
    },
    {
     "name": "stdout",
     "output_type": "stream",
     "text": [
      "Aopt1\n",
      "  0.634934 seconds (5.04 M allocations: 419.637 MiB, 8.68% gc time)\n"
     ]
    },
    {
     "name": "stderr",
     "output_type": "stream",
     "text": [
      "┌ Info: Genetic screen finished...\n",
      "└ @ Main In[14]:63\n",
      "┌ Info: (\"Aopt_motif\", Any[24, 64, 111, 184, 92, 133, 56, 127, 90, 95, 76, 109, 107, 7, 50, 26, 77, 69, 17, 29])\n",
      "└ @ Main In[14]:64\n"
     ]
    },
    {
     "name": "stdout",
     "output_type": "stream",
     "text": [
      "Aopt1\n",
      "  0.630705 seconds (4.89 M allocations: 406.544 MiB, 8.76% gc time)\n"
     ]
    },
    {
     "name": "stderr",
     "output_type": "stream",
     "text": [
      "┌ Info: Genetic screen finished...\n",
      "└ @ Main In[14]:63\n",
      "┌ Info: (\"Aopt_motif\", Any[134, 193, 5, 191, 96, 152, 48, 125, 63, 45, 31, 89, 75, 122, 3, 32, 161, 72, 77, 82])\n",
      "└ @ Main In[14]:64\n"
     ]
    },
    {
     "name": "stdout",
     "output_type": "stream",
     "text": [
      "Aopt1\n",
      "  0.634615 seconds (4.91 M allocations: 408.308 MiB, 8.28% gc time)\n"
     ]
    },
    {
     "name": "stderr",
     "output_type": "stream",
     "text": [
      "┌ Info: Genetic screen finished...\n",
      "└ @ Main In[14]:63\n",
      "┌ Info: (\"Aopt_motif\", Any[7, 106, 20, 146, 97, 12, 200, 37, 185, 4, 181, 32, 72, 4, 186, 83, 16, 184, 86, 45])\n",
      "└ @ Main In[14]:64\n"
     ]
    },
    {
     "name": "stdout",
     "output_type": "stream",
     "text": [
      "Aopt1\n",
      "  0.361754 seconds (2.78 M allocations: 232.056 MiB, 8.79% gc time)\n"
     ]
    },
    {
     "name": "stderr",
     "output_type": "stream",
     "text": [
      "┌ Info: Genetic screen finished...\n",
      "└ @ Main In[14]:63\n",
      "┌ Info: (\"Aopt_motif\", Any[21, 54, 13, 74, 77, 152, 102, 17, 40, 50, 75, 15, 112, 103, 161, 65, 39, 148, 25, 32])\n",
      "└ @ Main In[14]:64\n"
     ]
    },
    {
     "name": "stdout",
     "output_type": "stream",
     "text": [
      "Aopt1\n",
      "  0.639681 seconds (4.84 M allocations: 402.344 MiB, 8.19% gc time)\n"
     ]
    },
    {
     "name": "stderr",
     "output_type": "stream",
     "text": [
      "┌ Info: Genetic screen finished...\n",
      "└ @ Main In[14]:63\n",
      "┌ Info: (\"Aopt_motif\", Any[87, 144, 168, 84, 79, 3, 155, 102, 188, 139, 101, 116, 160, 87, 12, 192, 30, 126, 18, 47])\n",
      "└ @ Main In[14]:64\n"
     ]
    },
    {
     "name": "stdout",
     "output_type": "stream",
     "text": [
      "Aopt1\n",
      "  0.421422 seconds (3.28 M allocations: 273.524 MiB, 8.95% gc time)\n"
     ]
    },
    {
     "name": "stderr",
     "output_type": "stream",
     "text": [
      "┌ Info: Genetic screen finished...\n",
      "└ @ Main In[14]:63\n",
      "┌ Info: (\"Aopt_motif\", Any[93, 101, 79, 164, 198, 140, 101, 196, 22, 3, 191, 83, 107, 194, 81, 170, 24, 137, 24, 166])\n",
      "└ @ Main In[14]:64\n"
     ]
    },
    {
     "name": "stdout",
     "output_type": "stream",
     "text": [
      "Aopt1\n",
      "  0.451907 seconds (3.51 M allocations: 292.507 MiB, 8.40% gc time)\n"
     ]
    },
    {
     "name": "stderr",
     "output_type": "stream",
     "text": [
      "┌ Info: Genetic screen finished...\n",
      "└ @ Main In[14]:63\n",
      "┌ Info: (\"Aopt_motif\", Any[176, 176, 41, 46, 156, 168, 91, 117, 48, 198, 64, 79, 47, 177, 17, 55, 71, 141, 76, 167])\n",
      "└ @ Main In[14]:64\n"
     ]
    },
    {
     "name": "stdout",
     "output_type": "stream",
     "text": [
      "Aopt1\n",
      "  0.532307 seconds (4.14 M allocations: 345.121 MiB, 8.77% gc time)\n"
     ]
    },
    {
     "name": "stderr",
     "output_type": "stream",
     "text": [
      "┌ Info: Genetic screen finished...\n",
      "└ @ Main In[14]:63\n",
      "┌ Info: (\"Aopt_motif\", Any[167, 94, 183, 180, 129, 104, 97, 67, 69, 183, 45, 96, 89, 192, 189, 96, 123, 97, 196, 100])\n",
      "└ @ Main In[14]:64\n"
     ]
    },
    {
     "name": "stdout",
     "output_type": "stream",
     "text": [
      "Aopt1\n",
      "  0.377687 seconds (2.88 M allocations: 240.910 MiB, 8.51% gc time)\n"
     ]
    },
    {
     "name": "stderr",
     "output_type": "stream",
     "text": [
      "┌ Info: Genetic screen finished...\n",
      "└ @ Main In[14]:63\n",
      "┌ Info: (\"Aopt_motif\", Any[124, 149, 161, 187, 96, 163, 134, 72, 153, 112, 80, 130, 31, 174, 63, 6, 154, 41, 133, 103])\n",
      "└ @ Main In[14]:64\n"
     ]
    },
    {
     "name": "stdout",
     "output_type": "stream",
     "text": [
      "Aopt1\n",
      "  0.465000 seconds (3.46 M allocations: 288.963 MiB, 8.13% gc time)\n"
     ]
    },
    {
     "name": "stderr",
     "output_type": "stream",
     "text": [
      "┌ Info: Genetic screen finished...\n",
      "└ @ Main In[14]:63\n",
      "┌ Info: (\"Aopt_motif\", Any[13, 24, 82, 184, 142, 115, 104, 104, 144, 117, 153, 43, 188, 162, 189, 170, 70, 199, 152, 181])\n",
      "└ @ Main In[14]:64\n"
     ]
    },
    {
     "name": "stdout",
     "output_type": "stream",
     "text": [
      "Aopt1\n",
      "  0.510301 seconds (3.91 M allocations: 325.574 MiB, 8.59% gc time)\n"
     ]
    },
    {
     "name": "stderr",
     "output_type": "stream",
     "text": [
      "┌ Info: Genetic screen finished...\n",
      "└ @ Main In[14]:63\n",
      "┌ Info: (\"Aopt_motif\", Any[93, 109, 60, 89, 1, 40, 32, 50, 141, 6, 38, 139, 96, 97, 19, 17, 125, 83, 104, 88])\n",
      "└ @ Main In[14]:64\n"
     ]
    },
    {
     "name": "stdout",
     "output_type": "stream",
     "text": [
      "Aopt1\n",
      "  0.703504 seconds (5.56 M allocations: 464.009 MiB, 8.67% gc time)\n"
     ]
    },
    {
     "name": "stderr",
     "output_type": "stream",
     "text": [
      "┌ Info: Genetic screen finished...\n",
      "└ @ Main In[14]:63\n",
      "┌ Info: (\"Aopt_motif\", Any[25, 132, 2, 198, 93, 153, 89, 76, 28, 91, 61, 141, 196, 32, 192, 114, 10, 120, 156, 109])\n",
      "└ @ Main In[14]:64\n"
     ]
    },
    {
     "name": "stdout",
     "output_type": "stream",
     "text": [
      "Aopt1\n",
      "  0.588950 seconds (4.49 M allocations: 373.462 MiB, 8.48% gc time)\n"
     ]
    },
    {
     "name": "stderr",
     "output_type": "stream",
     "text": [
      "┌ Info: Genetic screen finished...\n",
      "└ @ Main In[14]:63\n",
      "┌ Info: (\"Aopt_motif\", Any[123, 39, 52, 198, 105, 67, 195, 151, 48, 85, 85, 67, 104, 140, 105, 189, 189, 97, 5, 196])\n",
      "└ @ Main In[14]:64\n"
     ]
    },
    {
     "name": "stdout",
     "output_type": "stream",
     "text": [
      "Aopt1\n",
      "  0.618827 seconds (4.84 M allocations: 402.295 MiB, 8.97% gc time)\n"
     ]
    },
    {
     "name": "stderr",
     "output_type": "stream",
     "text": [
      "┌ Info: Genetic screen finished...\n",
      "└ @ Main In[14]:63\n",
      "┌ Info: (\"Aopt_motif\", Any[40, 142, 152, 149, 190, 152, 200, 122, 142, 113, 192, 58, 3, 44, 110, 115, 41, 63, 99, 29])\n",
      "└ @ Main In[14]:64\n"
     ]
    },
    {
     "name": "stdout",
     "output_type": "stream",
     "text": [
      "Aopt1\n",
      "  0.472683 seconds (3.67 M allocations: 307.835 MiB, 8.57% gc time)\n"
     ]
    },
    {
     "name": "stderr",
     "output_type": "stream",
     "text": [
      "┌ Info: Genetic screen finished...\n",
      "└ @ Main In[14]:63\n",
      "┌ Info: (\"Aopt_motif\", Any[198, 61, 132, 79, 144, 96, 160, 84, 59, 72, 26, 157, 127, 155, 57, 90, 176, 10, 167, 114])\n",
      "└ @ Main In[14]:64\n"
     ]
    },
    {
     "name": "stdout",
     "output_type": "stream",
     "text": [
      "Aopt1\n",
      "  0.544304 seconds (4.09 M allocations: 342.809 MiB, 8.07% gc time)\n"
     ]
    },
    {
     "name": "stderr",
     "output_type": "stream",
     "text": [
      "┌ Info: Genetic screen finished...\n",
      "└ @ Main In[14]:63\n",
      "┌ Info: (\"Aopt_motif\", Any[9, 9, 7, 191, 173, 152, 136, 109, 118, 25, 111, 30, 147, 11, 144, 149, 31, 185, 109, 96])\n",
      "└ @ Main In[14]:64\n"
     ]
    },
    {
     "name": "stdout",
     "output_type": "stream",
     "text": [
      "Aopt1\n",
      "  0.796104 seconds (6.20 M allocations: 515.641 MiB, 8.87% gc time)\n"
     ]
    },
    {
     "name": "stderr",
     "output_type": "stream",
     "text": [
      "┌ Info: Genetic screen finished...\n",
      "└ @ Main In[14]:63\n",
      "┌ Info: (\"Aopt_motif\", Any[80, 159, 67, 167, 46, 101, 137, 108, 138, 156, 89, 73, 54, 39, 104, 135, 114, 18, 149, 197])\n",
      "└ @ Main In[14]:64\n"
     ]
    },
    {
     "name": "stdout",
     "output_type": "stream",
     "text": [
      "Aopt1\n",
      "  0.458475 seconds (3.63 M allocations: 302.505 MiB, 8.98% gc time)\n"
     ]
    },
    {
     "name": "stderr",
     "output_type": "stream",
     "text": [
      "┌ Info: Genetic screen finished...\n",
      "└ @ Main In[14]:63\n",
      "┌ Info: (\"Aopt_motif\", Any[92, 193, 87, 153, 15, 112, 149, 30, 111, 61, 144, 169, 76, 200, 187, 112, 103, 77, 131, 37])\n",
      "└ @ Main In[14]:64\n"
     ]
    },
    {
     "name": "stdout",
     "output_type": "stream",
     "text": [
      "Aopt1\n",
      "  0.733264 seconds (5.61 M allocations: 466.335 MiB, 8.48% gc time)\n"
     ]
    },
    {
     "name": "stderr",
     "output_type": "stream",
     "text": [
      "┌ Info: Genetic screen finished...\n",
      "└ @ Main In[14]:63\n",
      "┌ Info: (\"Aopt_motif\", Any[132, 171, 157, 126, 143, 201, 124, 183, 154, 21, 180, 55, 60, 19, 86, 106, 20, 31, 117, 88])\n",
      "└ @ Main In[14]:64\n"
     ]
    },
    {
     "name": "stdout",
     "output_type": "stream",
     "text": [
      "Aopt1\n",
      "  0.719039 seconds (5.54 M allocations: 460.876 MiB, 8.65% gc time)\n"
     ]
    },
    {
     "name": "stderr",
     "output_type": "stream",
     "text": [
      "┌ Info: Genetic screen finished...\n",
      "└ @ Main In[14]:63\n",
      "┌ Info: (\"Aopt_motif\", Any[77, 57, 4, 104, 40, 174, 82, 21, 80, 81, 47, 95, 43, 60, 161, 167, 56, 87, 177, 36])\n",
      "└ @ Main In[14]:64\n"
     ]
    },
    {
     "name": "stdout",
     "output_type": "stream",
     "text": [
      "Aopt1\n",
      "  0.755752 seconds (5.83 M allocations: 484.632 MiB, 8.61% gc time)\n"
     ]
    },
    {
     "name": "stderr",
     "output_type": "stream",
     "text": [
      "┌ Info: Genetic screen finished...\n",
      "└ @ Main In[14]:63\n",
      "┌ Info: (\"Aopt_motif\", Any[142, 47, 149, 25, 83, 140, 48, 92, 171, 135, 121, 25, 46, 54, 74, 23, 182, 66, 174, 166])\n",
      "└ @ Main In[14]:64\n"
     ]
    },
    {
     "name": "stdout",
     "output_type": "stream",
     "text": [
      "Aopt1\n",
      "  0.705419 seconds (5.64 M allocations: 469.101 MiB, 9.26% gc time)\n"
     ]
    },
    {
     "name": "stderr",
     "output_type": "stream",
     "text": [
      "┌ Info: Genetic screen finished...\n",
      "└ @ Main In[14]:63\n",
      "┌ Info: (\"Aopt_motif\", Any[95, 126, 100, 2, 108, 62, 34, 91, 124, 72, 125, 47, 191, 155, 111, 37, 196, 141, 105, 173])\n",
      "└ @ Main In[14]:64\n"
     ]
    },
    {
     "name": "stdout",
     "output_type": "stream",
     "text": [
      "Aopt1\n",
      "  0.602020 seconds (4.80 M allocations: 401.399 MiB, 8.79% gc time)\n"
     ]
    },
    {
     "name": "stderr",
     "output_type": "stream",
     "text": [
      "┌ Info: Genetic screen finished...\n",
      "└ @ Main In[14]:63\n",
      "┌ Info: (\"Aopt_motif\", Any[157, 181, 169, 166, 146, 88, 127, 198, 76, 115, 62, 166, 33, 139, 38, 120, 78, 92, 47, 63])\n",
      "└ @ Main In[14]:64\n"
     ]
    },
    {
     "name": "stdout",
     "output_type": "stream",
     "text": [
      "Aopt1\n",
      "  0.737488 seconds (5.62 M allocations: 467.189 MiB, 8.85% gc time)\n"
     ]
    },
    {
     "name": "stderr",
     "output_type": "stream",
     "text": [
      "┌ Info: Genetic screen finished...\n",
      "└ @ Main In[14]:63\n",
      "┌ Info: (\"Aopt_motif\", Any[54, 80, 10, 97, 109, 58, 30, 187, 66, 68, 119, 174, 142, 74, 100, 16, 179, 100, 99, 200])\n",
      "└ @ Main In[14]:64\n"
     ]
    },
    {
     "name": "stdout",
     "output_type": "stream",
     "text": [
      "Aopt1\n",
      "  1.592500 seconds (12.72 M allocations: 1.032 GiB, 8.94% gc time)\n"
     ]
    },
    {
     "name": "stderr",
     "output_type": "stream",
     "text": [
      "┌ Info: Genetic screen finished...\n",
      "└ @ Main In[14]:63\n",
      "┌ Info: (\"Aopt_motif\", Any[138, 184, 54, 74, 62, 185, 73, 97, 164, 78, 138, 177, 188, 89, 189, 152, 137, 138, 64, 180])\n",
      "└ @ Main In[14]:64\n"
     ]
    },
    {
     "name": "stdout",
     "output_type": "stream",
     "text": [
      "Aopt1\n",
      "  0.879649 seconds (6.64 M allocations: 552.266 MiB, 8.45% gc time)\n"
     ]
    },
    {
     "name": "stderr",
     "output_type": "stream",
     "text": [
      "┌ Info: Genetic screen finished...\n",
      "└ @ Main In[14]:63\n",
      "┌ Info: (\"Aopt_motif\", Any[20, 181, 5, 83, 78, 191, 164, 81, 191, 125, 105, 95, 144, 126, 18, 42, 106, 117, 63, 124])\n",
      "└ @ Main In[14]:64\n"
     ]
    },
    {
     "name": "stdout",
     "output_type": "stream",
     "text": [
      "Aopt1\n",
      "  0.738033 seconds (5.71 M allocations: 474.921 MiB, 8.83% gc time)\n"
     ]
    },
    {
     "name": "stderr",
     "output_type": "stream",
     "text": [
      "┌ Info: Genetic screen finished...\n",
      "└ @ Main In[14]:63\n",
      "┌ Info: (\"Aopt_motif\", Any[192, 184, 121, 94, 27, 95, 122, 129, 98, 24, 71, 22, 163, 110, 78, 147, 164, 83, 21, 129])\n",
      "└ @ Main In[14]:64\n"
     ]
    },
    {
     "name": "stdout",
     "output_type": "stream",
     "text": [
      "Aopt1\n",
      "  0.860546 seconds (6.66 M allocations: 553.898 MiB, 8.67% gc time)\n"
     ]
    },
    {
     "name": "stderr",
     "output_type": "stream",
     "text": [
      "┌ Info: Genetic screen finished...\n",
      "└ @ Main In[14]:63\n",
      "┌ Info: (\"Aopt_motif\", Any[101, 3, 179, 86, 62, 166, 70, 163, 178, 52, 3, 92, 70, 57, 191, 113, 104, 69, 16, 92])\n",
      "└ @ Main In[14]:64\n"
     ]
    },
    {
     "name": "stdout",
     "output_type": "stream",
     "text": [
      "Aopt1\n",
      "  0.964380 seconds (7.43 M allocations: 617.403 MiB, 8.67% gc time)\n"
     ]
    },
    {
     "name": "stderr",
     "output_type": "stream",
     "text": [
      "┌ Info: Genetic screen finished...\n",
      "└ @ Main In[14]:63\n",
      "┌ Info: (\"Aopt_motif\", Any[48, 146, 11, 4, 40, 134, 172, 105, 92, 151, 124, 54, 147, 82, 141, 151, 107, 59, 30, 6])\n",
      "└ @ Main In[14]:64\n"
     ]
    },
    {
     "name": "stdout",
     "output_type": "stream",
     "text": [
      "Aopt1\n",
      "  1.481715 seconds (11.66 M allocations: 967.413 MiB, 9.10% gc time)\n"
     ]
    },
    {
     "name": "stderr",
     "output_type": "stream",
     "text": [
      "┌ Info: Genetic screen finished...\n",
      "└ @ Main In[14]:63\n",
      "┌ Info: (\"Aopt_motif\", Any[90, 155, 91, 129, 124, 126, 152, 152, 31, 62, 98, 29, 175, 91, 65, 187, 89, 68, 161, 192])\n",
      "└ @ Main In[14]:64\n"
     ]
    },
    {
     "name": "stdout",
     "output_type": "stream",
     "text": [
      "Aopt1\n",
      "  1.321358 seconds (10.54 M allocations: 878.186 MiB, 8.99% gc time)\n"
     ]
    },
    {
     "name": "stderr",
     "output_type": "stream",
     "text": [
      "┌ Info: Genetic screen finished...\n",
      "└ @ Main In[14]:63\n",
      "┌ Info: (\"Aopt_motif\", Any[113, 24, 26, 101, 154, 102, 127, 118, 70, 121, 84, 132, 122, 118, 57, 27, 40, 126, 18, 158])\n",
      "└ @ Main In[14]:64\n"
     ]
    },
    {
     "name": "stdout",
     "output_type": "stream",
     "text": [
      "Aopt1\n",
      "  1.198957 seconds (9.31 M allocations: 772.520 MiB, 8.73% gc time)\n"
     ]
    },
    {
     "name": "stderr",
     "output_type": "stream",
     "text": [
      "┌ Info: Genetic screen finished...\n",
      "└ @ Main In[14]:63\n",
      "┌ Info: (\"Aopt_motif\", Any[193, 132, 70, 29, 194, 47, 28, 60, 24, 69, 36, 93, 198, 194, 159, 175, 191, 118, 77, 115])\n",
      "└ @ Main In[14]:64\n"
     ]
    },
    {
     "name": "stdout",
     "output_type": "stream",
     "text": [
      "Aopt1\n",
      "  0.866735 seconds (6.75 M allocations: 561.176 MiB, 8.96% gc time)\n"
     ]
    },
    {
     "name": "stderr",
     "output_type": "stream",
     "text": [
      "┌ Info: Genetic screen finished...\n",
      "└ @ Main In[14]:63\n",
      "┌ Info: (\"Aopt_motif\", Any[10, 40, 177, 158, 177, 90, 32, 196, 72, 51, 37, 84, 75, 97, 189, 172, 29, 82, 103, 153])\n",
      "└ @ Main In[14]:64\n"
     ]
    },
    {
     "name": "stdout",
     "output_type": "stream",
     "text": [
      "Aopt1\n",
      "  0.780058 seconds (6.03 M allocations: 501.551 MiB, 8.88% gc time)\n"
     ]
    },
    {
     "name": "stderr",
     "output_type": "stream",
     "text": [
      "┌ Info: Genetic screen finished...\n",
      "└ @ Main In[14]:63\n",
      "┌ Info: (\"Aopt_motif\", Any[189, 117, 177, 17, 22, 182, 102, 132, 85, 147, 84, 129, 153, 16, 29, 139, 39, 18, 134, 94])\n",
      "└ @ Main In[14]:64\n"
     ]
    },
    {
     "name": "stdout",
     "output_type": "stream",
     "text": [
      "Aopt1\n",
      "  1.333103 seconds (10.10 M allocations: 837.740 MiB, 8.55% gc time)\n"
     ]
    },
    {
     "name": "stderr",
     "output_type": "stream",
     "text": [
      "┌ Info: Genetic screen finished...\n",
      "└ @ Main In[14]:63\n",
      "┌ Info: (\"Aopt_motif\", Any[131, 10, 46, 122, 193, 104, 47, 25, 140, 30, 54, 93, 104, 55, 59, 60, 116, 122, 20, 28])\n",
      "└ @ Main In[14]:64\n"
     ]
    },
    {
     "name": "stdout",
     "output_type": "stream",
     "text": [
      "Aopt1\n",
      "  0.744041 seconds (5.83 M allocations: 485.154 MiB, 8.89% gc time)\n"
     ]
    },
    {
     "name": "stderr",
     "output_type": "stream",
     "text": [
      "┌ Info: Genetic screen finished...\n",
      "└ @ Main In[14]:63\n",
      "┌ Info: (\"Aopt_motif\", Any[143, 1, 65, 22, 168, 25, 178, 121, 20, 29, 200, 90, 41, 16, 103, 99, 5, 53, 183, 9])\n",
      "└ @ Main In[14]:64\n"
     ]
    },
    {
     "name": "stdout",
     "output_type": "stream",
     "text": [
      "Aopt1\n",
      "  1.202516 seconds (9.54 M allocations: 791.376 MiB, 9.14% gc time)\n"
     ]
    },
    {
     "name": "stderr",
     "output_type": "stream",
     "text": [
      "┌ Info: Genetic screen finished...\n",
      "└ @ Main In[14]:63\n",
      "┌ Info: (\"Aopt_motif\", Any[51, 112, 195, 17, 123, 51, 57, 42, 123, 18, 89, 108, 55, 114, 198, 9, 201, 174, 156, 163])\n",
      "└ @ Main In[14]:64\n"
     ]
    },
    {
     "name": "stdout",
     "output_type": "stream",
     "text": [
      "Aopt1\n",
      "  0.721155 seconds (5.80 M allocations: 482.471 MiB, 9.18% gc time)\n"
     ]
    },
    {
     "name": "stderr",
     "output_type": "stream",
     "text": [
      "┌ Info: Genetic screen finished...\n",
      "└ @ Main In[14]:63\n",
      "┌ Info: (\"Aopt_motif\", Any[52, 126, 114, 146, 124, 17, 186, 90, 174, 86, 102, 109, 175, 148, 15, 155, 167, 31, 98, 81])\n",
      "└ @ Main In[14]:64\n"
     ]
    },
    {
     "name": "stdout",
     "output_type": "stream",
     "text": [
      "Aopt1\n",
      "  1.580890 seconds (12.57 M allocations: 1.019 GiB, 9.14% gc time)\n"
     ]
    },
    {
     "name": "stderr",
     "output_type": "stream",
     "text": [
      "┌ Info: Genetic screen finished...\n",
      "└ @ Main In[14]:63\n",
      "┌ Info: (\"Aopt_motif\", Any[93, 81, 144, 184, 148, 75, 38, 47, 109, 20, 62, 157, 114, 36, 128, 65, 34, 69, 7, 152])\n",
      "└ @ Main In[14]:64\n"
     ]
    },
    {
     "name": "stdout",
     "output_type": "stream",
     "text": [
      "Aopt1\n",
      "  0.607022 seconds (4.69 M allocations: 390.781 MiB, 8.97% gc time)\n"
     ]
    },
    {
     "name": "stderr",
     "output_type": "stream",
     "text": [
      "┌ Info: Genetic screen finished...\n",
      "└ @ Main In[14]:63\n",
      "┌ Info: (\"Aopt_motif\", Any[143, 170, 182, 82, 51, 62, 100, 164, 197, 81, 20, 2, 171, 95, 199, 102, 56, 149, 3, 22])\n",
      "└ @ Main In[14]:64\n"
     ]
    },
    {
     "name": "stdout",
     "output_type": "stream",
     "text": [
      "Aopt1\n",
      "  1.125698 seconds (8.57 M allocations: 711.225 MiB, 8.66% gc time)\n"
     ]
    },
    {
     "name": "stderr",
     "output_type": "stream",
     "text": [
      "┌ Info: Genetic screen finished...\n",
      "└ @ Main In[14]:63\n",
      "┌ Info: (\"Aopt_motif\", Any[193, 39, 185, 7, 114, 111, 19, 94, 96, 114, 134, 155, 190, 11, 191, 72, 152, 167, 107, 90])\n",
      "└ @ Main In[14]:64\n"
     ]
    },
    {
     "name": "stdout",
     "output_type": "stream",
     "text": [
      "Aopt1\n",
      "  1.789215 seconds (13.68 M allocations: 1.107 GiB, 8.84% gc time)\n"
     ]
    },
    {
     "name": "stderr",
     "output_type": "stream",
     "text": [
      "┌ Info: Genetic screen finished...\n",
      "└ @ Main In[14]:63\n",
      "┌ Info: (\"Aopt_motif\", Any[12, 99, 7, 38, 114, 126, 138, 11, 63, 131, 200, 81, 129, 167, 15, 15, 18, 99, 172, 42])\n",
      "└ @ Main In[14]:64\n"
     ]
    },
    {
     "name": "stdout",
     "output_type": "stream",
     "text": [
      "Aopt1\n",
      "  0.904704 seconds (7.30 M allocations: 606.594 MiB, 9.41% gc time)\n"
     ]
    },
    {
     "name": "stderr",
     "output_type": "stream",
     "text": [
      "┌ Info: Genetic screen finished...\n",
      "└ @ Main In[14]:63\n",
      "┌ Info: (\"Aopt_motif\", Any[77, 40, 197, 102, 7, 68, 88, 159, 38, 30, 17, 194, 38, 146, 84, 155, 41, 189, 152, 42])\n",
      "└ @ Main In[14]:64\n"
     ]
    },
    {
     "name": "stdout",
     "output_type": "stream",
     "text": [
      "Aopt1\n",
      "  1.044630 seconds (8.21 M allocations: 681.598 MiB, 8.99% gc time)\n"
     ]
    },
    {
     "name": "stderr",
     "output_type": "stream",
     "text": [
      "┌ Info: Genetic screen finished...\n",
      "└ @ Main In[14]:63\n",
      "┌ Info: (\"Aopt_motif\", Any[153, 89, 179, 24, 36, 135, 111, 115, 135, 2, 149, 48, 160, 120, 91, 188, 14, 82, 97, 101])\n",
      "└ @ Main In[14]:64\n"
     ]
    },
    {
     "name": "stdout",
     "output_type": "stream",
     "text": [
      "Aopt1\n",
      "  0.812859 seconds (6.40 M allocations: 531.817 MiB, 8.93% gc time)\n"
     ]
    },
    {
     "name": "stderr",
     "output_type": "stream",
     "text": [
      "┌ Info: Genetic screen finished...\n",
      "└ @ Main In[14]:63\n",
      "┌ Info: (\"Aopt_motif\", Any[39, 19, 70, 201, 143, 102, 10, 79, 120, 63, 97, 54, 186, 147, 178, 10, 82, 107, 4, 106])\n",
      "└ @ Main In[14]:64\n"
     ]
    },
    {
     "name": "stdout",
     "output_type": "stream",
     "text": [
      "Aopt1\n",
      "  1.806463 seconds (14.27 M allocations: 1.155 GiB, 9.10% gc time)\n"
     ]
    },
    {
     "name": "stderr",
     "output_type": "stream",
     "text": [
      "┌ Info: Genetic screen finished...\n",
      "└ @ Main In[14]:63\n",
      "┌ Info: (\"Aopt_motif\", Any[161, 46, 82, 138, 3, 182, 49, 200, 31, 72, 47, 86, 54, 37, 45, 185, 105, 168, 201, 90])\n",
      "└ @ Main In[14]:64\n"
     ]
    },
    {
     "name": "stdout",
     "output_type": "stream",
     "text": [
      "Aopt1\n",
      "  0.780538 seconds (6.04 M allocations: 502.200 MiB, 8.94% gc time)\n"
     ]
    },
    {
     "name": "stderr",
     "output_type": "stream",
     "text": [
      "┌ Info: Genetic screen finished...\n",
      "└ @ Main In[14]:63\n",
      "┌ Info: (\"Aopt_motif\", Any[58, 5, 155, 110, 101, 13, 180, 140, 191, 7, 118, 3, 159, 11, 103, 85, 69, 189, 107, 162])\n",
      "└ @ Main In[14]:64\n"
     ]
    },
    {
     "name": "stdout",
     "output_type": "stream",
     "text": [
      "Aopt1\n",
      "  0.932705 seconds (7.36 M allocations: 612.913 MiB, 9.14% gc time)\n"
     ]
    },
    {
     "name": "stderr",
     "output_type": "stream",
     "text": [
      "┌ Info: Genetic screen finished...\n",
      "└ @ Main In[14]:63\n",
      "┌ Info: (\"Aopt_motif\", Any[37, 93, 171, 24, 125, 144, 192, 45, 194, 26, 62, 25, 120, 124, 81, 85, 47, 122, 99, 136])\n",
      "└ @ Main In[14]:64\n"
     ]
    },
    {
     "name": "stdout",
     "output_type": "stream",
     "text": [
      "Aopt1\n",
      "  0.691973 seconds (5.55 M allocations: 465.739 MiB, 9.51% gc time)\n"
     ]
    },
    {
     "name": "stderr",
     "output_type": "stream",
     "text": [
      "┌ Info: Genetic screen finished...\n",
      "└ @ Main In[14]:63\n",
      "┌ Info: (\"Aopt_motif\", Any[126, 196, 69, 197, 182, 44, 194, 31, 140, 130, 98, 159, 182, 144, 55, 95, 125, 5, 187, 156])\n",
      "└ @ Main In[14]:64\n"
     ]
    },
    {
     "name": "stdout",
     "output_type": "stream",
     "text": [
      "Aopt1\n",
      "  1.380471 seconds (10.92 M allocations: 906.006 MiB, 9.06% gc time)\n"
     ]
    },
    {
     "name": "stderr",
     "output_type": "stream",
     "text": [
      "┌ Info: Genetic screen finished...\n",
      "└ @ Main In[14]:63\n",
      "┌ Info: (\"Aopt_motif\", Any[94, 129, 24, 147, 108, 132, 79, 120, 114, 14, 95, 78, 117, 113, 78, 1, 84, 147, 189, 115])\n",
      "└ @ Main In[14]:64\n"
     ]
    },
    {
     "name": "stdout",
     "output_type": "stream",
     "text": [
      "Aopt1\n",
      "  0.876693 seconds (6.99 M allocations: 580.571 MiB, 9.39% gc time)\n"
     ]
    },
    {
     "name": "stderr",
     "output_type": "stream",
     "text": [
      "┌ Info: Genetic screen finished...\n",
      "└ @ Main In[14]:63\n",
      "┌ Info: (\"Aopt_motif\", Any[8, 43, 3, 88, 121, 99, 25, 10, 138, 111, 103, 98, 157, 65, 180, 165, 92, 29, 176, 199])\n",
      "└ @ Main In[14]:64\n"
     ]
    },
    {
     "name": "stdout",
     "output_type": "stream",
     "text": [
      "Aopt1\n",
      "  0.978786 seconds (7.57 M allocations: 628.451 MiB, 8.76% gc time)\n"
     ]
    },
    {
     "name": "stderr",
     "output_type": "stream",
     "text": [
      "┌ Info: Genetic screen finished...\n",
      "└ @ Main In[14]:63\n",
      "┌ Info: (\"Aopt_motif\", Any[186, 185, 140, 106, 32, 165, 156, 82, 96, 87, 71, 160, 53, 199, 157, 148, 35, 42, 156, 103])\n",
      "└ @ Main In[14]:64\n"
     ]
    },
    {
     "name": "stdout",
     "output_type": "stream",
     "text": [
      "Aopt1\n",
      "  1.067504 seconds (8.12 M allocations: 678.293 MiB, 8.79% gc time)\n"
     ]
    },
    {
     "name": "stderr",
     "output_type": "stream",
     "text": [
      "┌ Info: Genetic screen finished...\n",
      "└ @ Main In[14]:63\n",
      "┌ Info: (\"Aopt_motif\", Any[62, 98, 85, 142, 167, 46, 134, 137, 48, 9, 55, 117, 125, 186, 178, 153, 146, 147, 39, 29])\n",
      "└ @ Main In[14]:64\n"
     ]
    },
    {
     "name": "stdout",
     "output_type": "stream",
     "text": [
      "Aopt1\n",
      "  1.023906 seconds (7.74 M allocations: 642.659 MiB, 8.97% gc time)\n"
     ]
    },
    {
     "name": "stderr",
     "output_type": "stream",
     "text": [
      "┌ Info: Genetic screen finished...\n",
      "└ @ Main In[14]:63\n",
      "┌ Info: (\"Aopt_motif\", Any[190, 107, 116, 182, 78, 172, 142, 161, 40, 21, 194, 79, 140, 83, 52, 157, 40, 148, 176, 132])\n",
      "└ @ Main In[14]:64\n"
     ]
    },
    {
     "name": "stdout",
     "output_type": "stream",
     "text": [
      "Aopt1\n",
      "  1.292602 seconds (10.13 M allocations: 840.084 MiB, 9.00% gc time)\n"
     ]
    },
    {
     "name": "stderr",
     "output_type": "stream",
     "text": [
      "┌ Info: Genetic screen finished...\n",
      "└ @ Main In[14]:63\n",
      "┌ Info: (\"Aopt_motif\", Any[88, 68, 132, 19, 177, 46, 64, 196, 145, 196, 66, 77, 88, 12, 164, 118, 124, 7, 5, 76])\n",
      "└ @ Main In[14]:64\n"
     ]
    },
    {
     "name": "stdout",
     "output_type": "stream",
     "text": [
      "Aopt1\n",
      "  1.243684 seconds (9.69 M allocations: 804.223 MiB, 9.10% gc time)\n"
     ]
    },
    {
     "name": "stderr",
     "output_type": "stream",
     "text": [
      "┌ Info: Genetic screen finished...\n",
      "└ @ Main In[14]:63\n",
      "┌ Info: (\"Aopt_motif\", Any[93, 17, 133, 15, 52, 91, 55, 148, 30, 128, 92, 195, 144, 189, 196, 69, 175, 83, 154, 102])\n",
      "└ @ Main In[14]:64\n"
     ]
    },
    {
     "name": "stdout",
     "output_type": "stream",
     "text": [
      "Aopt1\n",
      "  1.115624 seconds (8.70 M allocations: 724.290 MiB, 9.02% gc time)\n"
     ]
    },
    {
     "name": "stderr",
     "output_type": "stream",
     "text": [
      "┌ Info: Genetic screen finished...\n",
      "└ @ Main In[14]:63\n",
      "┌ Info: (\"Aopt_motif\", Any[166, 194, 3, 16, 91, 179, 51, 62, 128, 107, 52, 189, 55, 189, 4, 19, 159, 161, 75, 197])\n",
      "└ @ Main In[14]:64\n"
     ]
    },
    {
     "name": "stdout",
     "output_type": "stream",
     "text": [
      "Aopt1\n",
      "  1.518464 seconds (11.89 M allocations: 986.101 MiB, 9.12% gc time)\n"
     ]
    },
    {
     "name": "stderr",
     "output_type": "stream",
     "text": [
      "┌ Info: Genetic screen finished...\n",
      "└ @ Main In[14]:63\n",
      "┌ Info: (\"Aopt_motif\", Any[34, 56, 151, 182, 124, 15, 63, 1, 50, 171, 3, 155, 49, 49, 144, 127, 24, 191, 66, 196])\n",
      "└ @ Main In[14]:64\n"
     ]
    },
    {
     "name": "stdout",
     "output_type": "stream",
     "text": [
      "Aopt1\n",
      "  1.228696 seconds (9.50 M allocations: 788.440 MiB, 9.01% gc time)\n"
     ]
    },
    {
     "name": "stderr",
     "output_type": "stream",
     "text": [
      "┌ Info: Genetic screen finished...\n",
      "└ @ Main In[14]:63\n",
      "┌ Info: (\"Aopt_motif\", Any[140, 73, 53, 69, 103, 180, 50, 4, 45, 190, 137, 178, 137, 75, 184, 8, 129, 90, 191, 17])\n",
      "└ @ Main In[14]:64\n"
     ]
    },
    {
     "name": "stdout",
     "output_type": "stream",
     "text": [
      "Aopt1\n",
      "  1.098344 seconds (8.49 M allocations: 704.572 MiB, 8.96% gc time)\n"
     ]
    },
    {
     "name": "stderr",
     "output_type": "stream",
     "text": [
      "┌ Info: Genetic screen finished...\n",
      "└ @ Main In[14]:63\n",
      "┌ Info: (\"Aopt_motif\", Any[46, 66, 126, 147, 101, 55, 199, 130, 171, 163, 105, 62, 199, 10, 24, 36, 9, 138, 170, 167])\n",
      "└ @ Main In[14]:64\n"
     ]
    },
    {
     "name": "stdout",
     "output_type": "stream",
     "text": [
      "Aopt1\n",
      "  0.858746 seconds (6.72 M allocations: 560.356 MiB, 9.29% gc time)\n"
     ]
    },
    {
     "name": "stderr",
     "output_type": "stream",
     "text": [
      "┌ Info: Genetic screen finished...\n",
      "└ @ Main In[14]:63\n",
      "┌ Info: (\"Aopt_motif\", Any[180, 153, 188, 147, 117, 110, 18, 141, 79, 181, 194, 178, 7, 119, 143, 7, 21, 156, 74, 59])\n",
      "└ @ Main In[14]:64\n"
     ]
    },
    {
     "name": "stdout",
     "output_type": "stream",
     "text": [
      "Aopt1\n",
      "  0.651352 seconds (4.95 M allocations: 412.095 MiB, 8.96% gc time)\n"
     ]
    },
    {
     "name": "stderr",
     "output_type": "stream",
     "text": [
      "┌ Info: Genetic screen finished...\n",
      "└ @ Main In[14]:63\n",
      "┌ Info: (\"Aopt_motif\", Any[147, 162, 96, 146, 139, 153, 59, 160, 177, 92, 60, 201, 77, 102, 137, 58, 32, 97, 58, 194])\n",
      "└ @ Main In[14]:64\n"
     ]
    },
    {
     "name": "stdout",
     "output_type": "stream",
     "text": [
      "Aopt1\n",
      "  1.164259 seconds (8.85 M allocations: 734.764 MiB, 8.76% gc time)\n"
     ]
    },
    {
     "name": "stderr",
     "output_type": "stream",
     "text": [
      "┌ Info: Genetic screen finished...\n",
      "└ @ Main In[14]:63\n",
      "┌ Info: (\"Aopt_motif\", Any[90, 31, 70, 30, 195, 38, 28, 161, 132, 60, 97, 172, 59, 64, 98, 190, 145, 50, 95, 184])\n",
      "└ @ Main In[14]:64\n"
     ]
    },
    {
     "name": "stdout",
     "output_type": "stream",
     "text": [
      "Aopt1\n",
      "  1.211106 seconds (9.57 M allocations: 796.228 MiB, 9.38% gc time)\n"
     ]
    },
    {
     "name": "stderr",
     "output_type": "stream",
     "text": [
      "┌ Info: Genetic screen finished...\n",
      "└ @ Main In[14]:63\n",
      "┌ Info: (\"Aopt_motif\", Any[93, 201, 29, 20, 121, 69, 199, 29, 199, 117, 13, 184, 128, 199, 201, 136, 131, 124, 110, 84])\n",
      "└ @ Main In[14]:64\n"
     ]
    },
    {
     "name": "stdout",
     "output_type": "stream",
     "text": [
      "Aopt1\n",
      "  1.568855 seconds (12.47 M allocations: 1.012 GiB, 9.23% gc time)\n"
     ]
    },
    {
     "name": "stderr",
     "output_type": "stream",
     "text": [
      "┌ Info: Genetic screen finished...\n",
      "└ @ Main In[14]:63\n",
      "┌ Info: (\"Aopt_motif\", Any[193, 120, 29, 71, 116, 23, 199, 133, 8, 68, 36, 89, 166, 62, 119, 184, 199, 159, 98, 200])\n",
      "└ @ Main In[14]:64\n"
     ]
    },
    {
     "name": "stdout",
     "output_type": "stream",
     "text": [
      "Aopt1\n",
      "  0.951487 seconds (7.42 M allocations: 616.381 MiB, 9.12% gc time)\n"
     ]
    },
    {
     "name": "stderr",
     "output_type": "stream",
     "text": [
      "┌ Info: Genetic screen finished...\n",
      "└ @ Main In[14]:63\n",
      "┌ Info: (\"Aopt_motif\", Any[48, 74, 28, 14, 154, 32, 198, 90, 135, 14, 57, 199, 52, 18, 180, 187, 156, 94, 111, 194])\n",
      "└ @ Main In[14]:64\n"
     ]
    },
    {
     "name": "stdout",
     "output_type": "stream",
     "text": [
      "Aopt1\n",
      "  1.560936 seconds (12.19 M allocations: 1012.411 MiB, 9.30% gc time)\n"
     ]
    },
    {
     "name": "stderr",
     "output_type": "stream",
     "text": [
      "┌ Info: Genetic screen finished...\n",
      "└ @ Main In[14]:63\n",
      "┌ Info: (\"Aopt_motif\", Any[94, 76, 1, 197, 22, 70, 118, 61, 84, 119, 53, 39, 41, 190, 75, 76, 182, 17, 84, 162])\n",
      "└ @ Main In[14]:64\n"
     ]
    },
    {
     "name": "stdout",
     "output_type": "stream",
     "text": [
      "Aopt1\n",
      "  1.409868 seconds (10.92 M allocations: 907.632 MiB, 9.01% gc time)\n"
     ]
    },
    {
     "name": "stderr",
     "output_type": "stream",
     "text": [
      "┌ Info: Genetic screen finished...\n",
      "└ @ Main In[14]:63\n",
      "┌ Info: (\"Aopt_motif\", Any[55, 201, 117, 104, 16, 75, 165, 189, 8, 88, 155, 32, 127, 68, 114, 119, 98, 102, 8, 161])\n",
      "└ @ Main In[14]:64\n"
     ]
    },
    {
     "name": "stdout",
     "output_type": "stream",
     "text": [
      "Aopt1\n",
      "  1.984547 seconds (15.42 M allocations: 1.247 GiB, 9.24% gc time)\n"
     ]
    },
    {
     "name": "stderr",
     "output_type": "stream",
     "text": [
      "┌ Info: Genetic screen finished...\n",
      "└ @ Main In[14]:63\n",
      "┌ Info: (\"Aopt_motif\", Any[102, 149, 76, 174, 8, 186, 34, 184, 97, 17, 106, 4, 55, 21, 6, 167, 42, 145, 138, 9])\n",
      "└ @ Main In[14]:64\n"
     ]
    },
    {
     "name": "stdout",
     "output_type": "stream",
     "text": [
      "Aopt1\n",
      "  1.669382 seconds (13.15 M allocations: 1.064 GiB, 9.16% gc time)\n"
     ]
    },
    {
     "name": "stderr",
     "output_type": "stream",
     "text": [
      "┌ Info: Genetic screen finished...\n",
      "└ @ Main In[14]:63\n",
      "┌ Info: (\"Aopt_motif\", Any[185, 73, 86, 97, 50, 164, 30, 5, 185, 44, 187, 22, 51, 166, 58, 15, 84, 196, 166, 18])\n",
      "└ @ Main In[14]:64\n"
     ]
    },
    {
     "name": "stdout",
     "output_type": "stream",
     "text": [
      "Aopt1\n",
      "  1.722827 seconds (13.34 M allocations: 1.083 GiB, 9.18% gc time)\n"
     ]
    },
    {
     "name": "stderr",
     "output_type": "stream",
     "text": [
      "┌ Info: Genetic screen finished...\n",
      "└ @ Main In[14]:63\n",
      "┌ Info: (\"Aopt_motif\", Any[58, 126, 169, 19, 82, 134, 47, 28, 108, 2, 49, 72, 147, 7, 49, 92, 2, 69, 12, 192])\n",
      "└ @ Main In[14]:64\n"
     ]
    },
    {
     "name": "stdout",
     "output_type": "stream",
     "text": [
      "Aopt1\n",
      "  1.795658 seconds (14.50 M allocations: 1.174 GiB, 9.57% gc time)\n"
     ]
    },
    {
     "name": "stderr",
     "output_type": "stream",
     "text": [
      "┌ Info: Genetic screen finished...\n",
      "└ @ Main In[14]:63\n",
      "┌ Info: (\"Aopt_motif\", Any[115, 10, 55, 195, 115, 48, 137, 28, 6, 177, 93, 188, 165, 75, 169, 9, 19, 128, 152, 106])\n",
      "└ @ Main In[14]:64\n"
     ]
    },
    {
     "name": "stdout",
     "output_type": "stream",
     "text": [
      "Aopt1\n",
      "  1.874138 seconds (14.50 M allocations: 1.174 GiB, 9.43% gc time)\n"
     ]
    },
    {
     "name": "stderr",
     "output_type": "stream",
     "text": [
      "┌ Info: Genetic screen finished...\n",
      "└ @ Main In[14]:63\n",
      "┌ Info: (\"Aopt_motif\", Any[52, 131, 179, 138, 190, 199, 136, 131, 81, 7, 195, 50, 38, 155, 7, 107, 67, 27, 107, 149])\n",
      "└ @ Main In[14]:64\n"
     ]
    },
    {
     "name": "stdout",
     "output_type": "stream",
     "text": [
      "Aopt1\n",
      "  1.137222 seconds (8.83 M allocations: 732.674 MiB, 9.09% gc time)\n"
     ]
    },
    {
     "name": "stderr",
     "output_type": "stream",
     "text": [
      "┌ Info: Genetic screen finished...\n",
      "└ @ Main In[14]:63\n",
      "┌ Info: (\"Aopt_motif\", Any[128, 158, 36, 21, 196, 125, 177, 41, 80, 32, 104, 32, 14, 20, 133, 8, 101, 97, 79, 104])\n",
      "└ @ Main In[14]:64\n"
     ]
    },
    {
     "name": "stdout",
     "output_type": "stream",
     "text": [
      "Aopt1\n",
      "  0.792395 seconds (6.34 M allocations: 526.816 MiB, 9.87% gc time)\n"
     ]
    },
    {
     "name": "stderr",
     "output_type": "stream",
     "text": [
      "┌ Info: Genetic screen finished...\n",
      "└ @ Main In[14]:63\n",
      "┌ Info: (\"Aopt_motif\", Any[170, 116, 101, 51, 12, 11, 23, 141, 48, 49, 174, 157, 112, 125, 160, 132, 177, 17, 44, 56])\n",
      "└ @ Main In[14]:64\n"
     ]
    },
    {
     "name": "stdout",
     "output_type": "stream",
     "text": [
      "Aopt1\n",
      "  2.044869 seconds (15.26 M allocations: 1.234 GiB, 8.77% gc time)\n"
     ]
    },
    {
     "name": "stderr",
     "output_type": "stream",
     "text": [
      "┌ Info: Genetic screen finished...\n",
      "└ @ Main In[14]:63\n",
      "┌ Info: (\"Aopt_motif\", Any[150, 93, 87, 18, 81, 59, 23, 133, 169, 96, 140, 71, 38, 195, 171, 116, 129, 99, 166, 139])\n",
      "└ @ Main In[14]:64\n"
     ]
    },
    {
     "name": "stdout",
     "output_type": "stream",
     "text": [
      "Aopt1\n",
      "  1.625314 seconds (12.33 M allocations: 1.004 GiB, 9.03% gc time)\n"
     ]
    },
    {
     "name": "stderr",
     "output_type": "stream",
     "text": [
      "┌ Info: Genetic screen finished...\n",
      "└ @ Main In[14]:63\n",
      "┌ Info: (\"Aopt_motif\", Any[104, 53, 90, 155, 43, 114, 161, 83, 22, 119, 141, 161, 118, 2, 53, 121, 73, 153, 133, 145])\n",
      "└ @ Main In[14]:64\n"
     ]
    },
    {
     "name": "stdout",
     "output_type": "stream",
     "text": [
      "Aopt1\n",
      "  1.288252 seconds (9.77 M allocations: 809.935 MiB, 9.00% gc time)\n"
     ]
    },
    {
     "name": "stderr",
     "output_type": "stream",
     "text": [
      "┌ Info: Genetic screen finished...\n",
      "└ @ Main In[14]:63\n",
      "┌ Info: (\"Aopt_motif\", Any[128, 4, 17, 87, 153, 16, 52, 49, 125, 179, 66, 37, 111, 61, 72, 73, 167, 49, 12, 43])\n",
      "└ @ Main In[14]:64\n"
     ]
    },
    {
     "name": "stdout",
     "output_type": "stream",
     "text": [
      "Aopt1\n",
      "  1.133268 seconds (8.98 M allocations: 744.888 MiB, 9.42% gc time)\n"
     ]
    },
    {
     "name": "stderr",
     "output_type": "stream",
     "text": [
      "┌ Info: Genetic screen finished...\n",
      "└ @ Main In[14]:63\n",
      "┌ Info: (\"Aopt_motif\", Any[14, 54, 192, 61, 61, 146, 107, 92, 169, 57, 193, 5, 64, 103, 119, 42, 149, 13, 118, 145])\n",
      "└ @ Main In[14]:64\n"
     ]
    },
    {
     "name": "stdout",
     "output_type": "stream",
     "text": [
      "Aopt1\n",
      "  1.350355 seconds (9.96 M allocations: 826.657 MiB, 8.83% gc time)\n"
     ]
    },
    {
     "name": "stderr",
     "output_type": "stream",
     "text": [
      "┌ Info: Genetic screen finished...\n",
      "└ @ Main In[14]:63\n",
      "┌ Info: (\"Aopt_motif\", Any[186, 39, 127, 76, 179, 68, 185, 123, 60, 10, 17, 31, 136, 13, 6, 68, 119, 176, 122, 131])\n",
      "└ @ Main In[14]:64\n"
     ]
    },
    {
     "name": "stdout",
     "output_type": "stream",
     "text": [
      "Aopt1\n",
      "  1.827875 seconds (14.22 M allocations: 1.152 GiB, 9.31% gc time)\n"
     ]
    },
    {
     "name": "stderr",
     "output_type": "stream",
     "text": [
      "┌ Info: Genetic screen finished...\n",
      "└ @ Main In[14]:63\n",
      "┌ Info: (\"Aopt_motif\", Any[102, 110, 97, 29, 71, 21, 83, 9, 166, 2, 78, 166, 118, 4, 26, 161, 78, 74, 137, 141])\n",
      "└ @ Main In[14]:64\n"
     ]
    },
    {
     "name": "stdout",
     "output_type": "stream",
     "text": [
      "Aopt1\n",
      "  2.134182 seconds (16.75 M allocations: 1.356 GiB, 9.43% gc time)\n"
     ]
    },
    {
     "name": "stderr",
     "output_type": "stream",
     "text": [
      "┌ Info: Genetic screen finished...\n",
      "└ @ Main In[14]:63\n",
      "┌ Info: (\"Aopt_motif\", Any[104, 174, 108, 34, 93, 107, 32, 115, 140, 15, 91, 3, 147, 61, 20, 16, 132, 59, 147, 165])\n",
      "└ @ Main In[14]:64\n"
     ]
    },
    {
     "name": "stdout",
     "output_type": "stream",
     "text": [
      "Aopt1\n",
      "  1.180206 seconds (9.34 M allocations: 775.307 MiB, 9.31% gc time)\n"
     ]
    },
    {
     "name": "stderr",
     "output_type": "stream",
     "text": [
      "┌ Info: Genetic screen finished...\n",
      "└ @ Main In[14]:63\n",
      "┌ Info: (\"Aopt_motif\", Any[6, 60, 197, 82, 138, 185, 143, 100, 197, 46, 189, 66, 32, 167, 84, 63, 98, 8, 81, 19])\n",
      "└ @ Main In[14]:64\n"
     ]
    },
    {
     "name": "stdout",
     "output_type": "stream",
     "text": [
      "Aopt1\n",
      "  1.623082 seconds (12.37 M allocations: 1.003 GiB, 9.13% gc time)\n"
     ]
    },
    {
     "name": "stderr",
     "output_type": "stream",
     "text": [
      "┌ Info: Genetic screen finished...\n",
      "└ @ Main In[14]:63\n",
      "┌ Info: (\"Aopt_motif\", Any[121, 112, 32, 155, 19, 84, 21, 90, 93, 158, 80, 154, 44, 47, 87, 195, 55, 167, 59, 100])\n",
      "└ @ Main In[14]:64\n"
     ]
    },
    {
     "name": "stdout",
     "output_type": "stream",
     "text": [
      "Aopt1\n",
      "  0.788336 seconds (5.95 M allocations: 494.787 MiB, 9.14% gc time)\n"
     ]
    },
    {
     "name": "stderr",
     "output_type": "stream",
     "text": [
      "┌ Info: Genetic screen finished...\n",
      "└ @ Main In[14]:63\n",
      "┌ Info: (\"Aopt_motif\", Any[103, 99, 35, 61, 19, 165, 134, 61, 103, 57, 112, 172, 154, 159, 118, 126, 64, 24, 40, 55])\n",
      "└ @ Main In[14]:64\n"
     ]
    },
    {
     "name": "stdout",
     "output_type": "stream",
     "text": [
      "Aopt1\n",
      "  1.771502 seconds (13.16 M allocations: 1.066 GiB, 8.75% gc time)\n"
     ]
    },
    {
     "name": "stderr",
     "output_type": "stream",
     "text": [
      "┌ Info: Genetic screen finished...\n",
      "└ @ Main In[14]:63\n",
      "┌ Info: (\"Aopt_motif\", Any[49, 162, 144, 40, 126, 108, 195, 129, 47, 112, 44, 27, 47, 139, 14, 175, 98, 133, 158, 201])\n",
      "└ @ Main In[14]:64\n"
     ]
    },
    {
     "name": "stdout",
     "output_type": "stream",
     "text": [
      "Aopt1\n",
      "  1.599819 seconds (12.71 M allocations: 1.030 GiB, 9.71% gc time)\n"
     ]
    },
    {
     "name": "stderr",
     "output_type": "stream",
     "text": [
      "┌ Info: Genetic screen finished...\n",
      "└ @ Main In[14]:63\n",
      "┌ Info: (\"Aopt_motif\", Any[51, 159, 76, 37, 102, 85, 191, 157, 142, 93, 94, 154, 55, 144, 183, 19, 187, 124, 170, 90])\n",
      "└ @ Main In[14]:64\n"
     ]
    },
    {
     "name": "stdout",
     "output_type": "stream",
     "text": [
      "Aopt1\n",
      "  1.379764 seconds (11.11 M allocations: 923.706 MiB, 9.57% gc time)\n"
     ]
    },
    {
     "name": "stderr",
     "output_type": "stream",
     "text": [
      "┌ Info: Genetic screen finished...\n",
      "└ @ Main In[14]:63\n",
      "┌ Info: (\"Aopt_motif\", Any[201, 120, 164, 39, 5, 128, 137, 159, 125, 132, 35, 88, 4, 26, 185, 167, 19, 48, 152, 90])\n",
      "└ @ Main In[14]:64\n"
     ]
    },
    {
     "name": "stdout",
     "output_type": "stream",
     "text": [
      "Aopt1\n",
      "  1.966403 seconds (16.03 M allocations: 1.300 GiB, 9.78% gc time)\n"
     ]
    },
    {
     "name": "stderr",
     "output_type": "stream",
     "text": [
      "┌ Info: Genetic screen finished...\n",
      "└ @ Main In[14]:63\n",
      "┌ Info: (\"Aopt_motif\", Any[153, 113, 23, 110, 38, 135, 178, 25, 125, 132, 91, 88, 167, 128, 14, 55, 163, 14, 74, 128])\n",
      "└ @ Main In[14]:64\n"
     ]
    },
    {
     "name": "stdout",
     "output_type": "stream",
     "text": [
      "Aopt1\n",
      "  1.400436 seconds (11.50 M allocations: 958.385 MiB, 9.85% gc time)\n"
     ]
    },
    {
     "name": "stderr",
     "output_type": "stream",
     "text": [
      "┌ Info: Genetic screen finished...\n",
      "└ @ Main In[14]:63\n",
      "┌ Info: (\"Aopt_motif\", Any[63, 75, 123, 49, 77, 81, 191, 23, 127, 110, 13, 25, 34, 116, 155, 10, 65, 21, 8, 104])\n",
      "└ @ Main In[14]:64\n"
     ]
    },
    {
     "name": "stdout",
     "output_type": "stream",
     "text": [
      "Aopt1\n",
      "  1.796574 seconds (13.91 M allocations: 1.127 GiB, 9.18% gc time)\n"
     ]
    },
    {
     "name": "stderr",
     "output_type": "stream",
     "text": [
      "┌ Info: Genetic screen finished...\n",
      "└ @ Main In[14]:63\n",
      "┌ Info: (\"Aopt_motif\", Any[144, 173, 21, 143, 13, 13, 171, 157, 128, 121, 89, 75, 55, 182, 34, 195, 159, 145, 71, 163])\n",
      "└ @ Main In[14]:64\n"
     ]
    },
    {
     "name": "stdout",
     "output_type": "stream",
     "text": [
      "Aopt1\n",
      "  0.813598 seconds (6.48 M allocations: 538.425 MiB, 9.71% gc time)\n"
     ]
    },
    {
     "name": "stderr",
     "output_type": "stream",
     "text": [
      "┌ Info: Genetic screen finished...\n",
      "└ @ Main In[14]:63\n",
      "┌ Info: (\"Aopt_motif\", Any[166, 158, 66, 148, 124, 176, 142, 109, 59, 52, 37, 49, 8, 142, 65, 173, 14, 72, 98, 168])\n",
      "└ @ Main In[14]:64\n"
     ]
    },
    {
     "name": "stdout",
     "output_type": "stream",
     "text": [
      "Aopt1\n",
      "  1.066598 seconds (8.34 M allocations: 692.542 MiB, 9.50% gc time)\n"
     ]
    },
    {
     "name": "stderr",
     "output_type": "stream",
     "text": [
      "┌ Info: Genetic screen finished...\n",
      "└ @ Main In[14]:63\n",
      "┌ Info: (\"Aopt_motif\", Any[107, 76, 51, 122, 116, 174, 22, 196, 49, 49, 98, 38, 13, 14, 149, 13, 127, 96, 154, 107])\n",
      "└ @ Main In[14]:64\n"
     ]
    },
    {
     "name": "stdout",
     "output_type": "stream",
     "text": [
      "Aopt1\n",
      "  1.650231 seconds (12.63 M allocations: 1.023 GiB, 9.24% gc time)\n"
     ]
    },
    {
     "name": "stderr",
     "output_type": "stream",
     "text": [
      "┌ Info: Genetic screen finished...\n",
      "└ @ Main In[14]:63\n",
      "┌ Info: (\"Aopt_motif\", Any[116, 34, 76, 181, 91, 56, 141, 89, 53, 130, 9, 197, 144, 21, 71, 190, 141, 124, 10, 184])\n",
      "└ @ Main In[14]:64\n"
     ]
    },
    {
     "name": "stdout",
     "output_type": "stream",
     "text": [
      "Aopt1\n",
      "  1.736551 seconds (13.88 M allocations: 1.126 GiB, 9.48% gc time)\n"
     ]
    },
    {
     "name": "stderr",
     "output_type": "stream",
     "text": [
      "┌ Info: Genetic screen finished...\n",
      "└ @ Main In[14]:63\n",
      "┌ Info: (\"Aopt_motif\", Any[133, 160, 133, 13, 127, 43, 118, 173, 9, 6, 19, 32, 7, 17, 45, 182, 22, 199, 176, 154])\n",
      "└ @ Main In[14]:64\n"
     ]
    },
    {
     "name": "stdout",
     "output_type": "stream",
     "text": [
      "Aopt1\n",
      "  1.804009 seconds (14.11 M allocations: 1.143 GiB, 9.51% gc time)\n"
     ]
    },
    {
     "name": "stderr",
     "output_type": "stream",
     "text": [
      "┌ Info: Genetic screen finished...\n",
      "└ @ Main In[14]:63\n",
      "┌ Info: (\"Aopt_motif\", Any[53, 156, 63, 39, 159, 127, 97, 195, 140, 115, 91, 53, 151, 55, 98, 197, 161, 30, 12, 82])\n",
      "└ @ Main In[14]:64\n"
     ]
    },
    {
     "name": "stdout",
     "output_type": "stream",
     "text": [
      "Aopt1\n",
      "  2.977345 seconds (24.17 M allocations: 1.960 GiB, 9.71% gc time)\n"
     ]
    },
    {
     "name": "stderr",
     "output_type": "stream",
     "text": [
      "┌ Info: Genetic screen finished...\n",
      "└ @ Main In[14]:63\n",
      "┌ Info: (\"Aopt_motif\", Any[16, 158, 75, 16, 2, 82, 33, 137, 171, 129, 118, 33, 114, 20, 176, 171, 66, 183, 149, 196])\n",
      "└ @ Main In[14]:64\n"
     ]
    },
    {
     "name": "stdout",
     "output_type": "stream",
     "text": [
      "Aopt1\n",
      "  1.192052 seconds (9.44 M allocations: 783.410 MiB, 9.60% gc time)\n"
     ]
    },
    {
     "name": "stderr",
     "output_type": "stream",
     "text": [
      "┌ Info: Genetic screen finished...\n",
      "└ @ Main In[14]:63\n",
      "┌ Info: (\"Aopt_motif\", Any[168, 128, 143, 109, 73, 103, 8, 103, 93, 158, 109, 103, 150, 131, 158, 41, 110, 108, 93, 122])\n",
      "└ @ Main In[14]:64\n"
     ]
    },
    {
     "name": "stdout",
     "output_type": "stream",
     "text": [
      "Aopt1\n",
      "  1.536189 seconds (11.86 M allocations: 984.191 MiB, 9.48% gc time)\n"
     ]
    },
    {
     "name": "stderr",
     "output_type": "stream",
     "text": [
      "┌ Info: Genetic screen finished...\n",
      "└ @ Main In[14]:63\n",
      "┌ Info: (\"Aopt_motif\", Any[26, 65, 157, 55, 160, 3, 5, 111, 95, 146, 77, 7, 59, 153, 118, 105, 103, 60, 35, 146])\n",
      "└ @ Main In[14]:64\n"
     ]
    },
    {
     "name": "stdout",
     "output_type": "stream",
     "text": [
      "Aopt1\n",
      "  1.543108 seconds (11.58 M allocations: 960.687 MiB, 9.31% gc time)\n"
     ]
    },
    {
     "name": "stderr",
     "output_type": "stream",
     "text": [
      "┌ Info: Genetic screen finished...\n",
      "└ @ Main In[14]:63\n",
      "┌ Info: (\"Aopt_motif\", Any[12, 49, 139, 163, 148, 166, 103, 112, 99, 85, 194, 141, 107, 73, 147, 134, 198, 143, 23, 25])\n",
      "└ @ Main In[14]:64\n"
     ]
    },
    {
     "name": "stdout",
     "output_type": "stream",
     "text": [
      "Aopt1\n",
      "  1.601083 seconds (12.07 M allocations: 1001.389 MiB, 9.17% gc time)\n"
     ]
    },
    {
     "name": "stderr",
     "output_type": "stream",
     "text": [
      "┌ Info: Genetic screen finished...\n",
      "└ @ Main In[14]:63\n",
      "┌ Info: (\"Aopt_motif\", Any[144, 79, 52, 27, 17, 177, 126, 46, 84, 121, 1, 147, 65, 81, 86, 55, 169, 97, 75, 58])\n",
      "└ @ Main In[14]:64\n"
     ]
    },
    {
     "name": "stdout",
     "output_type": "stream",
     "text": [
      "Aopt1\n",
      "  1.784455 seconds (13.77 M allocations: 1.116 GiB, 9.34% gc time)\n"
     ]
    },
    {
     "name": "stderr",
     "output_type": "stream",
     "text": [
      "┌ Info: Genetic screen finished...\n",
      "└ @ Main In[14]:63\n",
      "┌ Info: (\"Aopt_motif\", Any[58, 124, 201, 158, 108, 32, 13, 16, 178, 136, 190, 1, 99, 83, 11, 55, 57, 104, 176, 126])\n",
      "└ @ Main In[14]:64\n"
     ]
    },
    {
     "name": "stdout",
     "output_type": "stream",
     "text": [
      "Aopt1\n",
      "  2.091341 seconds (16.39 M allocations: 1.327 GiB, 9.65% gc time)\n"
     ]
    },
    {
     "name": "stderr",
     "output_type": "stream",
     "text": [
      "┌ Info: Genetic screen finished...\n",
      "└ @ Main In[14]:63\n",
      "┌ Info: (\"Aopt_motif\", Any[59, 112, 12, 3, 172, 169, 96, 74, 46, 118, 18, 48, 105, 62, 31, 77, 138, 185, 72, 78])\n",
      "└ @ Main In[14]:64\n"
     ]
    },
    {
     "name": "stdout",
     "output_type": "stream",
     "text": [
      "Aopt1\n",
      "  1.921129 seconds (14.83 M allocations: 1.201 GiB, 9.54% gc time)\n"
     ]
    },
    {
     "name": "stderr",
     "output_type": "stream",
     "text": [
      "┌ Info: Genetic screen finished...\n",
      "└ @ Main In[14]:63\n",
      "┌ Info: (\"Aopt_motif\", Any[12, 126, 152, 160, 51, 200, 46, 143, 169, 166, 131, 125, 74, 182, 24, 60, 47, 125, 91, 87])\n",
      "└ @ Main In[14]:64\n"
     ]
    },
    {
     "name": "stdout",
     "output_type": "stream",
     "text": [
      "Aopt1\n",
      "  2.301736 seconds (17.71 M allocations: 1.436 GiB, 9.31% gc time)\n"
     ]
    },
    {
     "name": "stderr",
     "output_type": "stream",
     "text": [
      "┌ Info: Genetic screen finished...\n",
      "└ @ Main In[14]:63\n",
      "┌ Info: (\"Aopt_motif\", Any[16, 15, 90, 42, 182, 178, 143, 198, 186, 22, 89, 159, 140, 112, 197, 190, 101, 92, 177, 196])\n",
      "└ @ Main In[14]:64\n"
     ]
    },
    {
     "name": "stdout",
     "output_type": "stream",
     "text": [
      "Aopt1\n",
      "  2.131886 seconds (16.54 M allocations: 1.339 GiB, 9.38% gc time)\n"
     ]
    },
    {
     "name": "stderr",
     "output_type": "stream",
     "text": [
      "┌ Info: Genetic screen finished...\n",
      "└ @ Main In[14]:63\n",
      "┌ Info: (\"Aopt_motif\", Any[201, 112, 125, 164, 148, 125, 134, 142, 93, 198, 89, 86, 15, 103, 174, 55, 183, 128, 120, 9])\n",
      "└ @ Main In[14]:64\n"
     ]
    },
    {
     "name": "stdout",
     "output_type": "stream",
     "text": [
      "Aopt1\n",
      "  1.508986 seconds (11.78 M allocations: 979.575 MiB, 9.55% gc time)\n"
     ]
    },
    {
     "name": "stderr",
     "output_type": "stream",
     "text": [
      "┌ Info: Genetic screen finished...\n",
      "└ @ Main In[14]:63\n",
      "┌ Info: (\"Aopt_motif\", Any[198, 141, 22, 34, 124, 46, 3, 86, 25, 34, 72, 144, 56, 22, 5, 187, 118, 185, 11, 164])\n",
      "└ @ Main In[14]:64\n"
     ]
    },
    {
     "name": "stdout",
     "output_type": "stream",
     "text": [
      "Aopt1\n",
      "  1.491882 seconds (11.95 M allocations: 991.118 MiB, 9.68% gc time)\n"
     ]
    },
    {
     "name": "stderr",
     "output_type": "stream",
     "text": [
      "┌ Info: Genetic screen finished...\n",
      "└ @ Main In[14]:63\n",
      "┌ Info: (\"Aopt_motif\", Any[62, 194, 19, 172, 113, 199, 117, 165, 138, 130, 18, 138, 144, 87, 98, 19, 183, 110, 10, 158])\n",
      "└ @ Main In[14]:64\n"
     ]
    },
    {
     "name": "stdout",
     "output_type": "stream",
     "text": [
      "Aopt1\n",
      "  1.888429 seconds (14.89 M allocations: 1.208 GiB, 9.70% gc time)\n"
     ]
    },
    {
     "name": "stderr",
     "output_type": "stream",
     "text": [
      "┌ Info: Genetic screen finished...\n",
      "└ @ Main In[14]:63\n",
      "┌ Info: (\"Aopt_motif\", Any[171, 187, 160, 29, 32, 21, 82, 72, 63, 68, 22, 59, 126, 35, 61, 148, 61, 38, 36, 79])\n",
      "└ @ Main In[14]:64\n"
     ]
    },
    {
     "name": "stdout",
     "output_type": "stream",
     "text": [
      "Aopt1\n",
      "  1.129696 seconds (8.55 M allocations: 709.561 MiB, 9.12% gc time)\n"
     ]
    },
    {
     "name": "stderr",
     "output_type": "stream",
     "text": [
      "┌ Info: Genetic screen finished...\n",
      "└ @ Main In[14]:63\n",
      "┌ Info: (\"Aopt_motif\", Any[137, 117, 59, 24, 183, 131, 39, 63, 51, 64, 141, 88, 124, 41, 77, 166, 101, 118, 151, 132])\n",
      "└ @ Main In[14]:64\n"
     ]
    },
    {
     "name": "stdout",
     "output_type": "stream",
     "text": [
      "Aopt1\n",
      "  1.521067 seconds (11.89 M allocations: 986.243 MiB, 9.71% gc time)\n"
     ]
    },
    {
     "name": "stderr",
     "output_type": "stream",
     "text": [
      "┌ Info: Genetic screen finished...\n",
      "└ @ Main In[14]:63\n",
      "┌ Info: (\"Aopt_motif\", Any[41, 24, 76, 143, 123, 66, 34, 43, 172, 112, 60, 86, 55, 177, 104, 19, 183, 46, 50, 163])\n",
      "└ @ Main In[14]:64\n"
     ]
    },
    {
     "name": "stdout",
     "output_type": "stream",
     "text": [
      "Aopt1\n",
      "  4.087475 seconds (33.33 M allocations: 2.696 GiB, 9.94% gc time)\n"
     ]
    },
    {
     "name": "stderr",
     "output_type": "stream",
     "text": [
      "┌ Info: Genetic screen finished...\n",
      "└ @ Main In[14]:63\n",
      "┌ Info: (\"Aopt_motif\", Any[91, 90, 160, 62, 199, 24, 86, 146, 10, 165, 19, 118, 106, 197, 159, 31, 83, 92, 123, 36])\n",
      "└ @ Main In[14]:64\n"
     ]
    },
    {
     "name": "stdout",
     "output_type": "stream",
     "text": [
      "Aopt1\n",
      "  1.453422 seconds (10.96 M allocations: 909.685 MiB, 9.05% gc time)\n"
     ]
    },
    {
     "name": "stderr",
     "output_type": "stream",
     "text": [
      "┌ Info: Genetic screen finished...\n",
      "└ @ Main In[14]:63\n",
      "┌ Info: (\"Aopt_motif\", Any[51, 159, 76, 37, 123, 105, 34, 42, 129, 8, 105, 86, 55, 2, 104, 19, 183, 184, 112, 163])\n",
      "└ @ Main In[14]:64\n"
     ]
    },
    {
     "name": "stdout",
     "output_type": "stream",
     "text": [
      "Aopt1\n",
      "  3.066175 seconds (25.40 M allocations: 2.055 GiB, 10.20% gc time)\n"
     ]
    },
    {
     "name": "stderr",
     "output_type": "stream",
     "text": [
      "┌ Info: Genetic screen finished...\n",
      "└ @ Main In[14]:63\n",
      "┌ Info: (\"Aopt_motif\", Any[55, 137, 176, 155, 87, 127, 176, 93, 105, 64, 110, 104, 157, 64, 159, 29, 145, 148, 95, 40])\n",
      "└ @ Main In[14]:64\n"
     ]
    },
    {
     "name": "stdout",
     "output_type": "stream",
     "text": [
      "Aopt1\n",
      "  1.280128 seconds (10.08 M allocations: 836.400 MiB, 9.56% gc time)\n"
     ]
    },
    {
     "name": "stderr",
     "output_type": "stream",
     "text": [
      "┌ Info: Genetic screen finished...\n",
      "└ @ Main In[14]:63\n",
      "┌ Info: (\"Aopt_motif\", Any[39, 158, 89, 1, 199, 124, 200, 41, 35, 129, 88, 33, 18, 148, 182, 171, 182, 103, 169, 133])\n",
      "└ @ Main In[14]:64\n"
     ]
    },
    {
     "name": "stdout",
     "output_type": "stream",
     "text": [
      "Aopt1\n",
      "  1.604486 seconds (12.98 M allocations: 1.051 GiB, 9.84% gc time)\n"
     ]
    },
    {
     "name": "stderr",
     "output_type": "stream",
     "text": [
      "┌ Info: Genetic screen finished...\n",
      "└ @ Main In[14]:63\n",
      "┌ Info: (\"Aopt_motif\", Any[12, 26, 173, 19, 187, 2, 11, 44, 125, 179, 77, 200, 184, 80, 42, 21, 80, 59, 195, 84])\n",
      "└ @ Main In[14]:64\n"
     ]
    },
    {
     "name": "stdout",
     "output_type": "stream",
     "text": [
      "Aopt1\n",
      "  1.614984 seconds (12.57 M allocations: 1.018 GiB, 9.62% gc time)\n"
     ]
    },
    {
     "name": "stderr",
     "output_type": "stream",
     "text": [
      "┌ Info: Genetic screen finished...\n",
      "└ @ Main In[14]:63\n",
      "┌ Info: (\"Aopt_motif\", Any[1, 88, 85, 48, 75, 14, 121, 76, 64, 115, 11, 80, 151, 141, 8, 134, 116, 17, 122, 80])\n",
      "└ @ Main In[14]:64\n"
     ]
    },
    {
     "name": "stdout",
     "output_type": "stream",
     "text": [
      "Aopt1\n",
      "  1.766570 seconds (13.53 M allocations: 1.096 GiB, 9.36% gc time)\n"
     ]
    },
    {
     "name": "stderr",
     "output_type": "stream",
     "text": [
      "┌ Info: Genetic screen finished...\n",
      "└ @ Main In[14]:63\n",
      "┌ Info: (\"Aopt_motif\", Any[59, 159, 184, 111, 102, 83, 75, 138, 123, 24, 126, 64, 23, 141, 163, 61, 183, 53, 75, 127])\n",
      "└ @ Main In[14]:64\n"
     ]
    },
    {
     "name": "stdout",
     "output_type": "stream",
     "text": [
      "Aopt1\n",
      "  2.694312 seconds (21.73 M allocations: 1.758 GiB, 9.84% gc time)\n"
     ]
    },
    {
     "name": "stderr",
     "output_type": "stream",
     "text": [
      "┌ Info: Genetic screen finished...\n",
      "└ @ Main In[14]:63\n",
      "┌ Info: (\"Aopt_motif\", Any[10, 6, 135, 196, 115, 170, 185, 48, 62, 189, 92, 149, 11, 86, 88, 93, 125, 30, 189, 82])\n",
      "└ @ Main In[14]:64\n"
     ]
    },
    {
     "name": "stdout",
     "output_type": "stream",
     "text": [
      "Aopt1\n",
      "  1.669689 seconds (13.13 M allocations: 1.065 GiB, 9.68% gc time)\n"
     ]
    },
    {
     "name": "stderr",
     "output_type": "stream",
     "text": [
      "┌ Info: Genetic screen finished...\n",
      "└ @ Main In[14]:63\n",
      "┌ Info: (\"Aopt_motif\", Any[83, 137, 60, 182, 166, 36, 28, 68, 96, 106, 83, 10, 151, 112, 56, 200, 137, 170, 64, 157])\n",
      "└ @ Main In[14]:64\n"
     ]
    },
    {
     "name": "stdout",
     "output_type": "stream",
     "text": [
      "Aopt1\n",
      "  1.358808 seconds (10.41 M allocations: 863.797 MiB, 9.53% gc time)\n"
     ]
    },
    {
     "name": "stderr",
     "output_type": "stream",
     "text": [
      "┌ Info: Genetic screen finished...\n",
      "└ @ Main In[14]:63\n",
      "┌ Info: (\"Aopt_motif\", Any[114, 87, 89, 89, 196, 9, 140, 111, 75, 140, 181, 184, 117, 27, 176, 72, 152, 177, 64, 62])\n",
      "└ @ Main In[14]:64\n"
     ]
    },
    {
     "name": "stdout",
     "output_type": "stream",
     "text": [
      "Aopt1\n",
      "  2.305064 seconds (17.43 M allocations: 1.410 GiB, 9.30% gc time)\n"
     ]
    },
    {
     "name": "stderr",
     "output_type": "stream",
     "text": [
      "┌ Info: Genetic screen finished...\n",
      "└ @ Main In[14]:63\n",
      "┌ Info: (\"Aopt_motif\", Any[119, 76, 52, 142, 122, 70, 33, 41, 53, 129, 88, 33, 110, 20, 103, 1, 182, 45, 17, 157])\n",
      "└ @ Main In[14]:64\n"
     ]
    },
    {
     "name": "stdout",
     "output_type": "stream",
     "text": [
      "Aopt1\n",
      "  3.021615 seconds (23.63 M allocations: 1.912 GiB, 9.56% gc time)\n"
     ]
    },
    {
     "name": "stderr",
     "output_type": "stream",
     "text": [
      "┌ Info: Genetic screen finished...\n",
      "└ @ Main In[14]:63\n",
      "┌ Info: (\"Aopt_motif\", Any[195, 98, 19, 32, 129, 11, 8, 113, 10, 197, 38, 24, 186, 147, 198, 74, 128, 121, 185, 54])\n",
      "└ @ Main In[14]:64\n"
     ]
    },
    {
     "name": "stdout",
     "output_type": "stream",
     "text": [
      "Aopt1\n",
      "  2.019858 seconds (15.48 M allocations: 1.253 GiB, 9.50% gc time)\n"
     ]
    },
    {
     "name": "stderr",
     "output_type": "stream",
     "text": [
      "┌ Info: Genetic screen finished...\n",
      "└ @ Main In[14]:63\n",
      "┌ Info: (\"Aopt_motif\", Any[93, 157, 101, 15, 110, 166, 54, 133, 13, 88, 149, 176, 127, 62, 71, 69, 37, 101, 163, 141])\n",
      "└ @ Main In[14]:64\n"
     ]
    },
    {
     "name": "stdout",
     "output_type": "stream",
     "text": [
      "Aopt1\n",
      "  2.038607 seconds (16.04 M allocations: 1.300 GiB, 9.69% gc time)\n"
     ]
    },
    {
     "name": "stderr",
     "output_type": "stream",
     "text": [
      "┌ Info: Genetic screen finished...\n",
      "└ @ Main In[14]:63\n",
      "┌ Info: (\"Aopt_motif\", Any[99, 156, 107, 144, 35, 41, 9, 117, 49, 134, 116, 83, 12, 18, 61, 169, 95, 181, 99, 112])\n",
      "└ @ Main In[14]:64\n"
     ]
    },
    {
     "name": "stdout",
     "output_type": "stream",
     "text": [
      "Aopt1\n",
      "  1.653825 seconds (13.19 M allocations: 1.068 GiB, 9.82% gc time)\n"
     ]
    },
    {
     "name": "stderr",
     "output_type": "stream",
     "text": [
      "┌ Info: Genetic screen finished...\n",
      "└ @ Main In[14]:63\n",
      "┌ Info: (\"Aopt_motif\", Any[85, 123, 94, 41, 91, 33, 76, 62, 41, 176, 19, 2, 19, 28, 184, 36, 88, 4, 115, 167])\n",
      "└ @ Main In[14]:64\n"
     ]
    },
    {
     "name": "stdout",
     "output_type": "stream",
     "text": [
      "Aopt1\n",
      "  1.835721 seconds (14.49 M allocations: 1.173 GiB, 9.76% gc time)\n"
     ]
    },
    {
     "name": "stderr",
     "output_type": "stream",
     "text": [
      "┌ Info: Genetic screen finished...\n",
      "└ @ Main In[14]:63\n",
      "┌ Info: (\"Aopt_motif\", Any[157, 144, 154, 133, 173, 21, 167, 139, 92, 36, 170, 2, 149, 46, 119, 83, 30, 148, 148, 144])\n",
      "└ @ Main In[14]:64\n"
     ]
    },
    {
     "name": "stdout",
     "output_type": "stream",
     "text": [
      "Aopt1\n",
      "  2.163107 seconds (16.76 M allocations: 1.357 GiB, 9.48% gc time)\n"
     ]
    },
    {
     "name": "stderr",
     "output_type": "stream",
     "text": [
      "┌ Info: Genetic screen finished...\n",
      "└ @ Main In[14]:63\n",
      "┌ Info: (\"Aopt_motif\", Any[97, 88, 152, 24, 187, 127, 77, 44, 76, 141, 41, 190, 118, 12, 134, 73, 19, 11, 195, 11])\n",
      "└ @ Main In[14]:64\n"
     ]
    },
    {
     "name": "stdout",
     "output_type": "stream",
     "text": [
      "Aopt1\n",
      "  3.510289 seconds (27.33 M allocations: 2.211 GiB, 9.62% gc time)\n"
     ]
    },
    {
     "name": "stderr",
     "output_type": "stream",
     "text": [
      "┌ Info: Genetic screen finished...\n",
      "└ @ Main In[14]:63\n",
      "┌ Info: (\"Aopt_motif\", Any[100, 93, 157, 197, 141, 103, 11, 97, 125, 135, 141, 42, 131, 83, 109, 14, 53, 48, 127, 141])\n",
      "└ @ Main In[14]:64\n"
     ]
    },
    {
     "name": "stdout",
     "output_type": "stream",
     "text": [
      "Aopt1\n",
      "  2.188417 seconds (17.16 M allocations: 1.389 GiB, 9.68% gc time)\n"
     ]
    },
    {
     "name": "stderr",
     "output_type": "stream",
     "text": [
      "┌ Info: Genetic screen finished...\n",
      "└ @ Main In[14]:63\n",
      "┌ Info: (\"Aopt_motif\", Any[191, 12, 24, 185, 125, 16, 12, 159, 99, 78, 164, 106, 57, 95, 100, 28, 143, 42, 87, 115])\n",
      "└ @ Main In[14]:64\n"
     ]
    },
    {
     "name": "stdout",
     "output_type": "stream",
     "text": [
      "Aopt1\n",
      "  1.913815 seconds (14.72 M allocations: 1.192 GiB, 9.38% gc time)\n"
     ]
    },
    {
     "name": "stderr",
     "output_type": "stream",
     "text": [
      "┌ Info: Genetic screen finished...\n",
      "└ @ Main In[14]:63\n",
      "┌ Info: (\"Aopt_motif\", Any[110, 160, 179, 38, 114, 180, 110, 11, 193, 77, 201, 102, 175, 66, 69, 20, 14, 1, 157, 159])\n",
      "└ @ Main In[14]:64\n"
     ]
    },
    {
     "name": "stdout",
     "output_type": "stream",
     "text": [
      "Aopt1\n",
      "  2.774690 seconds (22.11 M allocations: 1.789 GiB, 9.88% gc time)\n"
     ]
    },
    {
     "name": "stderr",
     "output_type": "stream",
     "text": [
      "┌ Info: Genetic screen finished...\n",
      "└ @ Main In[14]:63\n",
      "┌ Info: (\"Aopt_motif\", Any[33, 195, 42, 120, 24, 157, 118, 35, 59, 62, 49, 19, 8, 14, 191, 72, 176, 39, 121, 63])\n",
      "└ @ Main In[14]:64\n"
     ]
    },
    {
     "name": "stdout",
     "output_type": "stream",
     "text": [
      "Aopt1\n",
      "  2.587271 seconds (19.35 M allocations: 1.566 GiB, 9.24% gc time)\n"
     ]
    },
    {
     "name": "stderr",
     "output_type": "stream",
     "text": [
      "┌ Info: Genetic screen finished...\n",
      "└ @ Main In[14]:63\n",
      "┌ Info: (\"Aopt_motif\", Any[190, 136, 91, 7, 175, 88, 100, 199, 5, 165, 152, 181, 110, 171, 116, 195, 40, 105, 176, 95])\n",
      "└ @ Main In[14]:64\n"
     ]
    },
    {
     "name": "stdout",
     "output_type": "stream",
     "text": [
      "Aopt1\n",
      "  2.011722 seconds (15.41 M allocations: 1.247 GiB, 9.58% gc time)\n"
     ]
    },
    {
     "name": "stderr",
     "output_type": "stream",
     "text": [
      "┌ Info: Genetic screen finished...\n",
      "└ @ Main In[14]:63\n",
      "┌ Info: (\"Aopt_motif\", Any[77, 166, 196, 180, 188, 115, 118, 32, 94, 90, 47, 17, 102, 104, 189, 92, 111, 168, 161, 183])\n",
      "└ @ Main In[14]:64\n"
     ]
    },
    {
     "name": "stdout",
     "output_type": "stream",
     "text": [
      "Aopt1\n",
      "  1.838357 seconds (14.20 M allocations: 1.150 GiB, 9.53% gc time)\n"
     ]
    },
    {
     "name": "stderr",
     "output_type": "stream",
     "text": [
      "┌ Info: Genetic screen finished...\n",
      "└ @ Main In[14]:63\n",
      "┌ Info: (\"Aopt_motif\", Any[11, 193, 146, 26, 150, 24, 131, 142, 85, 38, 200, 127, 61, 48, 143, 172, 13, 71, 153, 138])\n",
      "└ @ Main In[14]:64\n"
     ]
    },
    {
     "name": "stdout",
     "output_type": "stream",
     "text": [
      "Aopt1\n",
      "  3.211747 seconds (24.94 M allocations: 2.017 GiB, 9.57% gc time)\n"
     ]
    },
    {
     "name": "stderr",
     "output_type": "stream",
     "text": [
      "┌ Info: Genetic screen finished...\n",
      "└ @ Main In[14]:63\n",
      "┌ Info: (\"Aopt_motif\", Any[191, 5, 170, 117, 80, 117, 15, 53, 178, 120, 134, 148, 61, 104, 64, 130, 91, 82, 104, 145])\n",
      "└ @ Main In[14]:64\n"
     ]
    },
    {
     "name": "stdout",
     "output_type": "stream",
     "text": [
      "Aopt1\n",
      "  1.848196 seconds (14.11 M allocations: 1.143 GiB, 9.54% gc time)\n"
     ]
    },
    {
     "name": "stderr",
     "output_type": "stream",
     "text": [
      "┌ Info: Genetic screen finished...\n",
      "└ @ Main In[14]:63\n",
      "┌ Info: (\"Aopt_motif\", Any[85, 144, 168, 98, 139, 75, 168, 179, 176, 137, 74, 7, 41, 121, 153, 36, 88, 103, 102, 143])\n",
      "└ @ Main In[14]:64\n"
     ]
    },
    {
     "name": "stdout",
     "output_type": "stream",
     "text": [
      "Aopt1\n",
      "  1.668380 seconds (12.74 M allocations: 1.033 GiB, 9.61% gc time)\n"
     ]
    },
    {
     "name": "stderr",
     "output_type": "stream",
     "text": [
      "┌ Info: Genetic screen finished...\n",
      "└ @ Main In[14]:63\n",
      "┌ Info: (\"Aopt_motif\", Any[111, 34, 29, 20, 107, 69, 2, 80, 136, 128, 117, 84, 144, 19, 12, 17, 191, 21, 8, 161])\n",
      "└ @ Main In[14]:64\n"
     ]
    },
    {
     "name": "stdout",
     "output_type": "stream",
     "text": [
      "Aopt1\n",
      "  4.185249 seconds (33.67 M allocations: 2.722 GiB, 9.99% gc time)\n"
     ]
    },
    {
     "name": "stderr",
     "output_type": "stream",
     "text": [
      "┌ Info: Genetic screen finished...\n",
      "└ @ Main In[14]:63\n",
      "┌ Info: (\"Aopt_motif\", Any[93, 102, 10, 165, 164, 112, 79, 170, 38, 126, 101, 84, 51, 110, 48, 179, 118, 32, 77, 188])\n",
      "└ @ Main In[14]:64\n"
     ]
    },
    {
     "name": "stdout",
     "output_type": "stream",
     "text": [
      "Aopt1\n",
      "  2.198431 seconds (17.20 M allocations: 1.392 GiB, 9.69% gc time)\n"
     ]
    },
    {
     "name": "stderr",
     "output_type": "stream",
     "text": [
      "┌ Info: Genetic screen finished...\n",
      "└ @ Main In[14]:63\n",
      "┌ Info: (\"Aopt_motif\", Any[111, 157, 74, 20, 144, 49, 11, 87, 127, 64, 44, 145, 53, 76, 102, 7, 181, 115, 168, 161])\n",
      "└ @ Main In[14]:64\n"
     ]
    },
    {
     "name": "stdout",
     "output_type": "stream",
     "text": [
      "Aopt1\n",
      "  2.281901 seconds (18.29 M allocations: 1.480 GiB, 10.04% gc time)\n"
     ]
    },
    {
     "name": "stderr",
     "output_type": "stream",
     "text": [
      "┌ Info: Genetic screen finished...\n",
      "└ @ Main In[14]:63\n",
      "┌ Info: (\"Aopt_motif\", Any[63, 40, 45, 133, 192, 106, 184, 196, 116, 64, 55, 157, 106, 119, 167, 78, 128, 29, 76, 14])\n",
      "└ @ Main In[14]:64\n"
     ]
    },
    {
     "name": "stdout",
     "output_type": "stream",
     "text": [
      "Aopt1\n",
      "  3.789625 seconds (29.17 M allocations: 2.359 GiB, 9.52% gc time)\n"
     ]
    },
    {
     "name": "stderr",
     "output_type": "stream",
     "text": [
      "┌ Info: Genetic screen finished...\n",
      "└ @ Main In[14]:63\n",
      "┌ Info: (\"Aopt_motif\", Any[38, 97, 47, 157, 111, 47, 43, 112, 144, 85, 69, 106, 58, 185, 2, 12, 164, 8, 91, 82])\n",
      "└ @ Main In[14]:64\n"
     ]
    },
    {
     "name": "stdout",
     "output_type": "stream",
     "text": [
      "Aopt1\n",
      "  1.198238 seconds (9.35 M allocations: 775.501 MiB, 9.84% gc time)\n"
     ]
    },
    {
     "name": "stderr",
     "output_type": "stream",
     "text": [
      "┌ Info: Genetic screen finished...\n",
      "└ @ Main In[14]:63\n",
      "┌ Info: (\"Aopt_motif\", Any[186, 156, 50, 201, 120, 85, 197, 154, 120, 117, 99, 180, 52, 55, 70, 16, 180, 100, 192, 187])\n",
      "└ @ Main In[14]:64\n"
     ]
    },
    {
     "name": "stdout",
     "output_type": "stream",
     "text": [
      "Aopt1\n",
      "  2.846580 seconds (22.79 M allocations: 1.843 GiB, 9.92% gc time)\n"
     ]
    },
    {
     "name": "stderr",
     "output_type": "stream",
     "text": [
      "┌ Info: Genetic screen finished...\n",
      "└ @ Main In[14]:63\n",
      "┌ Info: (\"Aopt_motif\", Any[152, 34, 200, 39, 75, 16, 189, 153, 197, 190, 198, 182, 120, 17, 159, 79, 167, 96, 181, 142])\n",
      "└ @ Main In[14]:64\n"
     ]
    },
    {
     "name": "stdout",
     "output_type": "stream",
     "text": [
      "Aopt1\n",
      "  2.094658 seconds (16.19 M allocations: 1.310 GiB, 9.58% gc time)\n"
     ]
    },
    {
     "name": "stderr",
     "output_type": "stream",
     "text": [
      "┌ Info: Genetic screen finished...\n",
      "└ @ Main In[14]:63\n",
      "┌ Info: (\"Aopt_motif\", Any[114, 130, 36, 132, 79, 26, 185, 48, 171, 107, 99, 80, 118, 147, 46, 49, 127, 68, 28, 197])\n",
      "└ @ Main In[14]:64\n"
     ]
    },
    {
     "name": "stdout",
     "output_type": "stream",
     "text": [
      "Aopt1\n",
      "  1.851522 seconds (14.50 M allocations: 1.174 GiB, 9.75% gc time)\n"
     ]
    },
    {
     "name": "stderr",
     "output_type": "stream",
     "text": [
      "┌ Info: Genetic screen finished...\n",
      "└ @ Main In[14]:63\n",
      "┌ Info: (\"Aopt_motif\", Any[155, 86, 16, 173, 128, 64, 97, 148, 47, 139, 31, 195, 109, 137, 124, 130, 24, 16, 171, 79])\n",
      "└ @ Main In[14]:64\n"
     ]
    },
    {
     "name": "stdout",
     "output_type": "stream",
     "text": [
      "Aopt1\n",
      "  1.618413 seconds (12.41 M allocations: 1.005 GiB, 9.52% gc time)\n"
     ]
    },
    {
     "name": "stderr",
     "output_type": "stream",
     "text": [
      "┌ Info: Genetic screen finished...\n",
      "└ @ Main In[14]:63\n",
      "┌ Info: (\"Aopt_motif\", Any[56, 61, 64, 195, 120, 51, 38, 181, 135, 50, 104, 129, 152, 76, 172, 6, 20, 95, 82, 155])\n",
      "└ @ Main In[14]:64\n"
     ]
    },
    {
     "name": "stdout",
     "output_type": "stream",
     "text": [
      "Aopt1\n",
      "  1.876435 seconds (14.72 M allocations: 1.191 GiB, 9.80% gc time)\n"
     ]
    },
    {
     "name": "stderr",
     "output_type": "stream",
     "text": [
      "┌ Info: Genetic screen finished...\n",
      "└ @ Main In[14]:63\n",
      "┌ Info: (\"Aopt_motif\", Any[142, 162, 187, 40, 112, 179, 144, 10, 132, 69, 51, 93, 65, 180, 68, 165, 29, 113, 109, 106])\n",
      "└ @ Main In[14]:64\n"
     ]
    },
    {
     "name": "stdout",
     "output_type": "stream",
     "text": [
      "Aopt1\n",
      "  2.692278 seconds (21.21 M allocations: 1.719 GiB, 9.76% gc time)\n"
     ]
    },
    {
     "name": "stderr",
     "output_type": "stream",
     "text": [
      "┌ Info: Genetic screen finished...\n",
      "└ @ Main In[14]:63\n",
      "┌ Info: (\"Aopt_motif\", Any[85, 21, 121, 177, 171, 38, 102, 6, 126, 201, 42, 193, 156, 169, 82, 74, 119, 184, 71, 115])\n",
      "└ @ Main In[14]:64\n"
     ]
    },
    {
     "name": "stdout",
     "output_type": "stream",
     "text": [
      "Aopt1\n",
      "  1.488222 seconds (11.66 M allocations: 966.944 MiB, 9.96% gc time)\n"
     ]
    },
    {
     "name": "stderr",
     "output_type": "stream",
     "text": [
      "┌ Info: Genetic screen finished...\n",
      "└ @ Main In[14]:63\n",
      "┌ Info: (\"Aopt_motif\", Any[45, 6, 91, 172, 88, 131, 142, 121, 16, 29, 71, 2, 125, 91, 68, 165, 40, 188, 151, 127])\n",
      "└ @ Main In[14]:64\n"
     ]
    },
    {
     "name": "stdout",
     "output_type": "stream",
     "text": [
      "Aopt1\n",
      "  1.859101 seconds (14.94 M allocations: 1.209 GiB, 9.94% gc time)\n"
     ]
    },
    {
     "name": "stderr",
     "output_type": "stream",
     "text": [
      "┌ Info: Genetic screen finished...\n",
      "└ @ Main In[14]:63\n",
      "┌ Info: (\"Aopt_motif\", Any[128, 143, 132, 171, 191, 158, 150, 16, 42, 186, 129, 185, 65, 192, 93, 43, 90, 3, 87, 145])\n",
      "└ @ Main In[14]:64\n"
     ]
    },
    {
     "name": "stdout",
     "output_type": "stream",
     "text": [
      "Aopt1\n",
      "  3.087620 seconds (23.52 M allocations: 1.902 GiB, 9.52% gc time)\n"
     ]
    },
    {
     "name": "stderr",
     "output_type": "stream",
     "text": [
      "┌ Info: Genetic screen finished...\n",
      "└ @ Main In[14]:63\n",
      "┌ Info: (\"Aopt_motif\", Any[67, 84, 100, 2, 144, 5, 15, 143, 150, 159, 26, 164, 42, 149, 62, 128, 60, 176, 129, 77])\n",
      "└ @ Main In[14]:64\n"
     ]
    },
    {
     "name": "stdout",
     "output_type": "stream",
     "text": [
      "Aopt1\n",
      "  1.353602 seconds (10.03 M allocations: 831.972 MiB, 9.23% gc time)\n"
     ]
    },
    {
     "name": "stderr",
     "output_type": "stream",
     "text": [
      "┌ Info: Genetic screen finished...\n",
      "└ @ Main In[14]:63\n",
      "┌ Info: (\"Aopt_motif\", Any[153, 158, 188, 2, 117, 124, 126, 100, 146, 118, 88, 74, 1, 37, 103, 18, 182, 170, 154, 162])\n",
      "└ @ Main In[14]:64\n"
     ]
    },
    {
     "name": "stdout",
     "output_type": "stream",
     "text": [
      "Aopt1\n",
      "  1.830847 seconds (14.46 M allocations: 1.171 GiB, 9.89% gc time)\n"
     ]
    },
    {
     "name": "stderr",
     "output_type": "stream",
     "text": [
      "┌ Info: Genetic screen finished...\n",
      "└ @ Main In[14]:63\n",
      "┌ Info: (\"Aopt_motif\", Any[68, 22, 80, 48, 146, 88, 45, 126, 177, 143, 6, 8, 122, 35, 155, 64, 46, 50, 112, 59])\n",
      "└ @ Main In[14]:64\n"
     ]
    },
    {
     "name": "stdout",
     "output_type": "stream",
     "text": [
      "Aopt1\n",
      "  1.842372 seconds (13.79 M allocations: 1.117 GiB, 9.32% gc time)\n"
     ]
    },
    {
     "name": "stderr",
     "output_type": "stream",
     "text": [
      "┌ Info: Genetic screen finished...\n",
      "└ @ Main In[14]:63\n",
      "┌ Info: (\"Aopt_motif\", Any[159, 97, 189, 160, 179, 50, 93, 12, 191, 7, 121, 88, 17, 136, 185, 85, 182, 109, 172, 85])\n",
      "└ @ Main In[14]:64\n"
     ]
    },
    {
     "name": "stdout",
     "output_type": "stream",
     "text": [
      "Aopt1\n",
      "  2.280975 seconds (17.97 M allocations: 1.454 GiB, 9.97% gc time)\n"
     ]
    },
    {
     "name": "stderr",
     "output_type": "stream",
     "text": [
      "┌ Info: Genetic screen finished...\n",
      "└ @ Main In[14]:63\n",
      "┌ Info: (\"Aopt_motif\", Any[108, 100, 47, 69, 182, 120, 12, 154, 170, 18, 163, 72, 154, 167, 1, 11, 34, 182, 123, 199])\n",
      "└ @ Main In[14]:64\n"
     ]
    },
    {
     "name": "stdout",
     "output_type": "stream",
     "text": [
      "Aopt1\n",
      "  2.507490 seconds (19.49 M allocations: 1.577 GiB, 9.75% gc time)\n"
     ]
    },
    {
     "name": "stderr",
     "output_type": "stream",
     "text": [
      "┌ Info: Genetic screen finished...\n",
      "└ @ Main In[14]:63\n",
      "┌ Info: (\"Aopt_motif\", Any[46, 171, 23, 77, 156, 80, 166, 88, 42, 142, 121, 188, 162, 4, 160, 53, 7, 84, 149, 150])\n",
      "└ @ Main In[14]:64\n"
     ]
    },
    {
     "name": "stdout",
     "output_type": "stream",
     "text": [
      "Aopt1\n",
      "  1.601080 seconds (12.43 M allocations: 1.006 GiB, 9.72% gc time)\n"
     ]
    },
    {
     "name": "stderr",
     "output_type": "stream",
     "text": [
      "┌ Info: Genetic screen finished...\n",
      "└ @ Main In[14]:63\n",
      "┌ Info: (\"Aopt_motif\", Any[84, 22, 125, 26, 127, 130, 81, 47, 16, 76, 170, 90, 169, 115, 22, 55, 9, 3, 15, 137])\n",
      "└ @ Main In[14]:64\n"
     ]
    },
    {
     "name": "stdout",
     "output_type": "stream",
     "text": [
      "Aopt1\n",
      "  2.729734 seconds (21.46 M allocations: 1.736 GiB, 9.95% gc time)\n"
     ]
    },
    {
     "name": "stderr",
     "output_type": "stream",
     "text": [
      "┌ Info: Genetic screen finished...\n",
      "└ @ Main In[14]:63\n",
      "┌ Info: (\"Aopt_motif\", Any[52, 187, 130, 96, 108, 72, 162, 5, 87, 114, 85, 142, 70, 77, 116, 14, 199, 41, 123, 185])\n",
      "└ @ Main In[14]:64\n"
     ]
    },
    {
     "name": "stdout",
     "output_type": "stream",
     "text": [
      "Aopt1\n",
      "  3.339891 seconds (25.67 M allocations: 2.078 GiB, 9.67% gc time)\n"
     ]
    },
    {
     "name": "stderr",
     "output_type": "stream",
     "text": [
      "┌ Info: Genetic screen finished...\n",
      "└ @ Main In[14]:63\n",
      "┌ Info: (\"Aopt_motif\", Any[76, 63, 183, 81, 2, 152, 15, 82, 11, 62, 72, 58, 56, 31, 139, 113, 77, 125, 86, 11])\n",
      "└ @ Main In[14]:64\n"
     ]
    },
    {
     "name": "stdout",
     "output_type": "stream",
     "text": [
      "Aopt1\n",
      "  2.516877 seconds (19.42 M allocations: 1.571 GiB, 9.62% gc time)\n"
     ]
    },
    {
     "name": "stderr",
     "output_type": "stream",
     "text": [
      "┌ Info: Genetic screen finished...\n",
      "└ @ Main In[14]:63\n",
      "┌ Info: (\"Aopt_motif\", Any[162, 156, 27, 44, 130, 68, 188, 135, 130, 178, 97, 150, 14, 18, 54, 191, 180, 107, 17, 198])\n",
      "└ @ Main In[14]:64\n"
     ]
    },
    {
     "name": "stdout",
     "output_type": "stream",
     "text": [
      "Aopt1\n",
      "  1.782588 seconds (14.09 M allocations: 1.142 GiB, 9.97% gc time)\n"
     ]
    },
    {
     "name": "stderr",
     "output_type": "stream",
     "text": [
      "┌ Info: Genetic screen finished...\n",
      "└ @ Main In[14]:63\n",
      "┌ Info: (\"Aopt_motif\", Any[95, 159, 90, 137, 128, 42, 47, 25, 140, 130, 102, 163, 179, 21, 98, 19, 164, 33, 114, 105])\n",
      "└ @ Main In[14]:64\n"
     ]
    },
    {
     "name": "stdout",
     "output_type": "stream",
     "text": [
      "Aopt1\n",
      "  2.357554 seconds (18.78 M allocations: 1.521 GiB, 9.98% gc time)\n"
     ]
    },
    {
     "name": "stderr",
     "output_type": "stream",
     "text": [
      "┌ Info: Genetic screen finished...\n",
      "└ @ Main In[14]:63\n",
      "┌ Info: (\"Aopt_motif\", Any[164, 186, 187, 1, 150, 173, 130, 190, 107, 70, 148, 24, 108, 103, 194, 6, 135, 31, 103, 112])\n",
      "└ @ Main In[14]:64\n"
     ]
    },
    {
     "name": "stdout",
     "output_type": "stream",
     "text": [
      "Aopt1\n",
      "  2.430172 seconds (18.19 M allocations: 1.472 GiB, 9.42% gc time)\n"
     ]
    },
    {
     "name": "stderr",
     "output_type": "stream",
     "text": [
      "┌ Info: Genetic screen finished...\n",
      "└ @ Main In[14]:63\n",
      "┌ Info: (\"Aopt_motif\", Any[188, 175, 149, 35, 200, 124, 143, 24, 122, 179, 92, 122, 18, 124, 21, 54, 98, 46, 9, 142])\n",
      "└ @ Main In[14]:64\n"
     ]
    },
    {
     "name": "stdout",
     "output_type": "stream",
     "text": [
      "Aopt1\n",
      "  2.846096 seconds (22.75 M allocations: 1.840 GiB, 9.99% gc time)\n"
     ]
    },
    {
     "name": "stderr",
     "output_type": "stream",
     "text": [
      "┌ Info: Genetic screen finished...\n",
      "└ @ Main In[14]:63\n",
      "┌ Info: (\"Aopt_motif\", Any[39, 158, 75, 180, 85, 50, 33, 156, 137, 88, 65, 135, 5, 78, 3, 171, 132, 163, 140, 162])\n",
      "└ @ Main In[14]:64\n"
     ]
    },
    {
     "name": "stdout",
     "output_type": "stream",
     "text": [
      "Aopt1\n",
      "  2.983435 seconds (24.10 M allocations: 1.949 GiB, 10.12% gc time)\n"
     ]
    },
    {
     "name": "stderr",
     "output_type": "stream",
     "text": [
      "┌ Info: Genetic screen finished...\n",
      "└ @ Main In[14]:63\n",
      "┌ Info: (\"Aopt_motif\", Any[156, 94, 47, 16, 17, 171, 185, 9, 142, 201, 96, 178, 19, 64, 51, 164, 1, 40, 169, 115])\n",
      "└ @ Main In[14]:64\n"
     ]
    },
    {
     "name": "stdout",
     "output_type": "stream",
     "text": [
      "Aopt1\n",
      "  2.301244 seconds (18.17 M allocations: 1.470 GiB, 10.00% gc time)\n"
     ]
    },
    {
     "name": "stderr",
     "output_type": "stream",
     "text": [
      "┌ Info: Genetic screen finished...\n",
      "└ @ Main In[14]:63\n",
      "┌ Info: (\"Aopt_motif\", Any[165, 34, 148, 172, 116, 69, 48, 155, 121, 175, 101, 84, 13, 56, 43, 17, 191, 44, 8, 195])\n",
      "└ @ Main In[14]:64\n"
     ]
    },
    {
     "name": "stdout",
     "output_type": "stream",
     "text": [
      "Aopt1\n",
      "  2.977201 seconds (23.78 M allocations: 1.923 GiB, 10.04% gc time)\n"
     ]
    },
    {
     "name": "stderr",
     "output_type": "stream",
     "text": [
      "┌ Info: Genetic screen finished...\n",
      "└ @ Main In[14]:63\n",
      "┌ Info: (\"Aopt_motif\", Any[3, 154, 48, 17, 118, 30, 46, 21, 5, 116, 34, 178, 124, 91, 99, 14, 111, 93, 145, 192])\n",
      "└ @ Main In[14]:64\n"
     ]
    },
    {
     "name": "stdout",
     "output_type": "stream",
     "text": [
      "Aopt1\n",
      "  1.878801 seconds (14.75 M allocations: 1.198 GiB, 9.85% gc time)\n"
     ]
    },
    {
     "name": "stderr",
     "output_type": "stream",
     "text": [
      "┌ Info: Genetic screen finished...\n",
      "└ @ Main In[14]:63\n",
      "┌ Info: (\"Aopt_motif\", Any[126, 114, 122, 147, 182, 179, 119, 177, 115, 75, 169, 2, 178, 191, 108, 63, 66, 145, 72, 148])\n",
      "└ @ Main In[14]:64\n"
     ]
    },
    {
     "name": "stdout",
     "output_type": "stream",
     "text": [
      "Aopt1\n",
      "  1.798260 seconds (13.72 M allocations: 1.110 GiB, 9.60% gc time)\n"
     ]
    },
    {
     "name": "stderr",
     "output_type": "stream",
     "text": [
      "┌ Info: Genetic screen finished...\n",
      "└ @ Main In[14]:63\n",
      "┌ Info: (\"Aopt_motif\", Any[95, 136, 76, 144, 172, 125, 201, 167, 92, 37, 122, 86, 146, 150, 89, 103, 168, 185, 26, 179])\n",
      "└ @ Main In[14]:64\n"
     ]
    },
    {
     "name": "stdout",
     "output_type": "stream",
     "text": [
      "Aopt1\n",
      "  2.488531 seconds (19.30 M allocations: 1.562 GiB, 9.77% gc time)\n"
     ]
    },
    {
     "name": "stderr",
     "output_type": "stream",
     "text": [
      "┌ Info: Genetic screen finished...\n",
      "└ @ Main In[14]:63\n",
      "┌ Info: (\"Aopt_motif\", Any[12, 32, 10, 141, 171, 49, 159, 132, 134, 87, 42, 51, 69, 34, 88, 154, 129, 64, 183, 175])\n",
      "└ @ Main In[14]:64\n"
     ]
    },
    {
     "name": "stdout",
     "output_type": "stream",
     "text": [
      "Aopt1\n",
      "  2.381707 seconds (18.65 M allocations: 1.509 GiB, 9.90% gc time)\n"
     ]
    },
    {
     "name": "stderr",
     "output_type": "stream",
     "text": [
      "┌ Info: Genetic screen finished...\n",
      "└ @ Main In[14]:63\n",
      "┌ Info: (\"Aopt_motif\", Any[92, 156, 28, 14, 120, 122, 188, 79, 120, 116, 100, 83, 51, 18, 73, 97, 180, 101, 7, 160])\n",
      "└ @ Main In[14]:64\n"
     ]
    },
    {
     "name": "stdout",
     "output_type": "stream",
     "text": [
      "Aopt1\n",
      "  4.675102 seconds (37.39 M allocations: 3.022 GiB, 10.11% gc time)\n"
     ]
    },
    {
     "name": "stderr",
     "output_type": "stream",
     "text": [
      "┌ Info: Genetic screen finished...\n",
      "└ @ Main In[14]:63\n",
      "┌ Info: (\"Aopt_motif\", Any[92, 58, 87, 201, 119, 172, 197, 132, 82, 134, 85, 120, 38, 17, 199, 168, 35, 100, 194, 159])\n",
      "└ @ Main In[14]:64\n"
     ]
    },
    {
     "name": "stdout",
     "output_type": "stream",
     "text": [
      "Aopt1\n",
      "  2.286057 seconds (17.92 M allocations: 1.452 GiB, 9.86% gc time)\n"
     ]
    },
    {
     "name": "stderr",
     "output_type": "stream",
     "text": [
      "┌ Info: Genetic screen finished...\n",
      "└ @ Main In[14]:63\n",
      "┌ Info: (\"Aopt_motif\", Any[50, 23, 75, 2, 122, 50, 33, 156, 122, 129, 102, 50, 15, 21, 182, 1, 182, 52, 9, 120])\n",
      "└ @ Main In[14]:64\n"
     ]
    },
    {
     "name": "stdout",
     "output_type": "stream",
     "text": [
      "Aopt1\n",
      "  3.610783 seconds (29.00 M allocations: 2.345 GiB, 10.08% gc time)\n"
     ]
    },
    {
     "name": "stderr",
     "output_type": "stream",
     "text": [
      "┌ Info: Genetic screen finished...\n",
      "└ @ Main In[14]:63\n",
      "┌ Info: (\"Aopt_motif\", Any[65, 192, 15, 67, 15, 91, 170, 201, 44, 96, 36, 24, 108, 103, 194, 94, 125, 31, 111, 54])\n",
      "└ @ Main In[14]:64\n"
     ]
    },
    {
     "name": "stdout",
     "output_type": "stream",
     "text": [
      "Aopt1\n",
      "  2.183076 seconds (16.47 M allocations: 1.333 GiB, 9.59% gc time)\n"
     ]
    },
    {
     "name": "stderr",
     "output_type": "stream",
     "text": [
      "┌ Info: Genetic screen finished...\n",
      "└ @ Main In[14]:63\n",
      "┌ Info: (\"Aopt_motif\", Any[111, 11, 24, 156, 106, 146, 139, 161, 143, 29, 200, 176, 193, 170, 83, 88, 120, 114, 95, 132])\n",
      "└ @ Main In[14]:64\n"
     ]
    },
    {
     "name": "stdout",
     "output_type": "stream",
     "text": [
      "Aopt1\n",
      "  2.360513 seconds (18.60 M allocations: 1.505 GiB, 9.91% gc time)\n"
     ]
    },
    {
     "name": "stderr",
     "output_type": "stream",
     "text": [
      "┌ Info: Genetic screen finished...\n",
      "└ @ Main In[14]:63\n",
      "┌ Info: (\"Aopt_motif\", Any[81, 199, 63, 39, 197, 184, 30, 13, 33, 191, 85, 76, 4, 3, 99, 187, 131, 19, 110, 19])\n",
      "└ @ Main In[14]:64\n"
     ]
    },
    {
     "name": "stdout",
     "output_type": "stream",
     "text": [
      "Aopt1\n",
      "  2.766271 seconds (21.65 M allocations: 1.751 GiB, 9.88% gc time)\n"
     ]
    },
    {
     "name": "stderr",
     "output_type": "stream",
     "text": [
      "┌ Info: Genetic screen finished...\n",
      "└ @ Main In[14]:63\n",
      "┌ Info: (\"Aopt_motif\", Any[43, 161, 78, 145, 5, 139, 143, 159, 76, 132, 91, 53, 167, 179, 53, 87, 185, 112, 12, 165])\n",
      "└ @ Main In[14]:64\n"
     ]
    },
    {
     "name": "stdout",
     "output_type": "stream",
     "text": [
      "Aopt1\n",
      "  5.469994 seconds (43.79 M allocations: 3.539 GiB, 10.15% gc time)\n"
     ]
    },
    {
     "name": "stderr",
     "output_type": "stream",
     "text": [
      "┌ Info: Genetic screen finished...\n",
      "└ @ Main In[14]:63\n",
      "┌ Info: (\"Aopt_motif\", Any[5, 11, 172, 193, 178, 46, 48, 105, 13, 104, 194, 127, 52, 194, 193, 98, 191, 95, 194, 81])\n",
      "└ @ Main In[14]:64\n"
     ]
    },
    {
     "name": "stdout",
     "output_type": "stream",
     "text": [
      "Aopt1\n",
      "  3.806909 seconds (29.75 M allocations: 2.405 GiB, 9.82% gc time)\n"
     ]
    },
    {
     "name": "stderr",
     "output_type": "stream",
     "text": [
      "┌ Info: Genetic screen finished...\n",
      "└ @ Main In[14]:63\n",
      "┌ Info: (\"Aopt_motif\", Any[126, 130, 122, 119, 182, 169, 157, 65, 115, 5, 20, 26, 130, 138, 49, 164, 119, 107, 187, 116])\n",
      "└ @ Main In[14]:64\n"
     ]
    },
    {
     "name": "stdout",
     "output_type": "stream",
     "text": [
      "Aopt1\n",
      "  2.239416 seconds (17.40 M allocations: 1.408 GiB, 9.83% gc time)\n"
     ]
    },
    {
     "name": "stderr",
     "output_type": "stream",
     "text": [
      "┌ Info: Genetic screen finished...\n",
      "└ @ Main In[14]:63\n",
      "┌ Info: (\"Aopt_motif\", Any[71, 99, 191, 107, 61, 160, 113, 3, 182, 166, 146, 5, 101, 107, 146, 108, 106, 173, 43, 37])\n",
      "└ @ Main In[14]:64\n"
     ]
    },
    {
     "name": "stdout",
     "output_type": "stream",
     "text": [
      "Aopt1\n",
      "  4.449987 seconds (32.66 M allocations: 2.640 GiB, 9.33% gc time)\n"
     ]
    },
    {
     "name": "stderr",
     "output_type": "stream",
     "text": [
      "┌ Info: Genetic screen finished...\n",
      "└ @ Main In[14]:63\n",
      "┌ Info: (\"Aopt_motif\", Any[75, 176, 38, 2, 195, 125, 34, 82, 129, 130, 122, 57, 55, 99, 121, 19, 134, 46, 150, 163])\n",
      "└ @ Main In[14]:64\n"
     ]
    },
    {
     "name": "stdout",
     "output_type": "stream",
     "text": [
      "Aopt1\n",
      "  3.871752 seconds (30.66 M allocations: 2.479 GiB, 10.04% gc time)\n"
     ]
    },
    {
     "name": "stderr",
     "output_type": "stream",
     "text": [
      "┌ Info: Genetic screen finished...\n",
      "└ @ Main In[14]:63\n",
      "┌ Info: (\"Aopt_motif\", Any[48, 69, 94, 54, 82, 172, 7, 1, 99, 141, 79, 45, 197, 152, 192, 117, 155, 37, 132, 91])\n",
      "└ @ Main In[14]:64\n"
     ]
    },
    {
     "name": "stdout",
     "output_type": "stream",
     "text": [
      "Aopt1\n",
      "  1.816855 seconds (13.48 M allocations: 1.093 GiB, 9.48% gc time)\n"
     ]
    },
    {
     "name": "stderr",
     "output_type": "stream",
     "text": [
      "┌ Info: Genetic screen finished...\n",
      "└ @ Main In[14]:63\n",
      "┌ Info: (\"Aopt_motif\", Any[161, 162, 138, 67, 117, 162, 45, 129, 3, 192, 151, 201, 72, 196, 170, 64, 68, 98, 79, 138])\n",
      "└ @ Main In[14]:64\n"
     ]
    },
    {
     "name": "stdout",
     "output_type": "stream",
     "text": [
      "Aopt1\n",
      "  2.639054 seconds (19.89 M allocations: 1.609 GiB, 9.71% gc time)\n"
     ]
    },
    {
     "name": "stderr",
     "output_type": "stream",
     "text": [
      "┌ Info: Genetic screen finished...\n",
      "└ @ Main In[14]:63\n",
      "┌ Info: (\"Aopt_motif\", Any[57, 24, 76, 22, 123, 125, 13, 43, 123, 34, 89, 86, 18, 6, 104, 51, 183, 110, 127, 197])\n",
      "└ @ Main In[14]:64\n"
     ]
    },
    {
     "name": "stdout",
     "output_type": "stream",
     "text": [
      "Aopt1\n",
      "  5.558779 seconds (45.58 M allocations: 3.683 GiB, 10.42% gc time)\n"
     ]
    },
    {
     "name": "stderr",
     "output_type": "stream",
     "text": [
      "┌ Info: Genetic screen finished...\n",
      "└ @ Main In[14]:63\n",
      "┌ Info: (\"Aopt_motif\", Any[167, 3, 67, 132, 140, 148, 127, 118, 133, 177, 84, 165, 122, 113, 57, 120, 32, 177, 85, 109])\n",
      "└ @ Main In[14]:64\n"
     ]
    },
    {
     "name": "stdout",
     "output_type": "stream",
     "text": [
      "Aopt1\n",
      "  2.831136 seconds (21.79 M allocations: 1.763 GiB, 9.71% gc time)\n"
     ]
    },
    {
     "name": "stderr",
     "output_type": "stream",
     "text": [
      "┌ Info: Genetic screen finished...\n",
      "└ @ Main In[14]:63\n",
      "┌ Info: (\"Aopt_motif\", Any[97, 115, 40, 2, 144, 81, 165, 87, 90, 89, 67, 143, 200, 44, 84, 99, 131, 146, 141, 142])\n",
      "└ @ Main In[14]:64\n"
     ]
    },
    {
     "name": "stdout",
     "output_type": "stream",
     "text": [
      "Aopt1\n",
      "  3.408159 seconds (26.46 M allocations: 2.139 GiB, 9.83% gc time)\n"
     ]
    },
    {
     "name": "stderr",
     "output_type": "stream",
     "text": [
      "┌ Info: Genetic screen finished...\n",
      "└ @ Main In[14]:63\n",
      "┌ Info: (\"Aopt_motif\", Any[34, 150, 191, 153, 76, 165, 71, 57, 156, 62, 138, 12, 82, 200, 140, 145, 81, 78, 93, 5])\n",
      "└ @ Main In[14]:64\n"
     ]
    },
    {
     "name": "stdout",
     "output_type": "stream",
     "text": [
      "Aopt1\n",
      "  2.116428 seconds (15.73 M allocations: 1.273 GiB, 9.52% gc time)\n"
     ]
    },
    {
     "name": "stderr",
     "output_type": "stream",
     "text": [
      "┌ Info: Genetic screen finished...\n",
      "└ @ Main In[14]:63\n",
      "┌ Info: (\"Aopt_motif\", Any[50, 17, 75, 142, 199, 50, 199, 156, 137, 128, 14, 50, 18, 37, 103, 8, 182, 45, 105, 162])\n",
      "└ @ Main In[14]:64\n"
     ]
    },
    {
     "name": "stdout",
     "output_type": "stream",
     "text": [
      "Aopt1\n",
      "  4.350085 seconds (34.83 M allocations: 2.815 GiB, 10.18% gc time)\n"
     ]
    },
    {
     "name": "stderr",
     "output_type": "stream",
     "text": [
      "┌ Info: Genetic screen finished...\n",
      "└ @ Main In[14]:63\n",
      "┌ Info: (\"Aopt_motif\", Any[117, 23, 127, 182, 117, 130, 57, 181, 75, 67, 94, 193, 138, 26, 187, 91, 187, 163, 174, 88])\n",
      "└ @ Main In[14]:64\n"
     ]
    },
    {
     "name": "stdout",
     "output_type": "stream",
     "text": [
      "Aopt1\n",
      "  2.585787 seconds (20.48 M allocations: 1.656 GiB, 9.99% gc time)\n"
     ]
    },
    {
     "name": "stderr",
     "output_type": "stream",
     "text": [
      "┌ Info: Genetic screen finished...\n",
      "└ @ Main In[14]:63\n",
      "┌ Info: (\"Aopt_motif\", Any[54, 31, 71, 199, 116, 120, 196, 78, 118, 116, 100, 81, 68, 16, 71, 133, 178, 31, 123, 187])\n",
      "└ @ Main In[14]:64\n"
     ]
    },
    {
     "name": "stdout",
     "output_type": "stream",
     "text": [
      "Aopt1\n",
      "  3.753184 seconds (29.36 M allocations: 2.374 GiB, 9.90% gc time)\n"
     ]
    },
    {
     "name": "stderr",
     "output_type": "stream",
     "text": [
      "┌ Info: Genetic screen finished...\n",
      "└ @ Main In[14]:63\n",
      "┌ Info: (\"Aopt_motif\", Any[149, 12, 71, 192, 38, 182, 188, 44, 142, 28, 41, 25, 83, 23, 179, 90, 124, 41, 5, 57])\n",
      "└ @ Main In[14]:64\n"
     ]
    },
    {
     "name": "stdout",
     "output_type": "stream",
     "text": [
      "Aopt1\n",
      "  2.142581 seconds (16.67 M allocations: 1.349 GiB, 9.98% gc time)\n"
     ]
    },
    {
     "name": "stderr",
     "output_type": "stream",
     "text": [
      "┌ Info: Genetic screen finished...\n",
      "└ @ Main In[14]:63\n",
      "┌ Info: (\"Aopt_motif\", Any[165, 181, 113, 107, 23, 69, 80, 187, 108, 151, 180, 166, 78, 58, 115, 194, 59, 117, 37, 6])\n",
      "└ @ Main In[14]:64\n"
     ]
    },
    {
     "name": "stdout",
     "output_type": "stream",
     "text": [
      "Aopt1\n",
      "  3.771922 seconds (28.30 M allocations: 2.288 GiB, 9.53% gc time)\n"
     ]
    },
    {
     "name": "stderr",
     "output_type": "stream",
     "text": [
      "┌ Info: Genetic screen finished...\n",
      "└ @ Main In[14]:63\n",
      "┌ Info: (\"Aopt_motif\", Any[52, 119, 86, 185, 118, 165, 40, 153, 70, 72, 99, 137, 37, 1, 199, 182, 192, 100, 67, 5])\n",
      "└ @ Main In[14]:64\n"
     ]
    },
    {
     "name": "stdout",
     "output_type": "stream",
     "text": [
      "Aopt1\n",
      "  2.791819 seconds (21.89 M allocations: 1.772 GiB, 9.97% gc time)\n"
     ]
    },
    {
     "name": "stderr",
     "output_type": "stream",
     "text": [
      "┌ Info: Genetic screen finished...\n",
      "└ @ Main In[14]:63\n",
      "┌ Info: (\"Aopt_motif\", Any[48, 128, 129, 91, 137, 102, 172, 20, 22, 42, 120, 189, 82, 174, 57, 162, 117, 25, 92, 17])\n",
      "└ @ Main In[14]:64\n"
     ]
    },
    {
     "name": "stdout",
     "output_type": "stream",
     "text": [
      "Aopt1\n",
      "  3.281808 seconds (25.09 M allocations: 2.029 GiB, 9.74% gc time)\n"
     ]
    },
    {
     "name": "stderr",
     "output_type": "stream",
     "text": [
      "┌ Info: Genetic screen finished...\n",
      "└ @ Main In[14]:63\n",
      "┌ Info: (\"Aopt_motif\", Any[92, 200, 28, 187, 120, 57, 31, 155, 145, 196, 95, 83, 16, 172, 31, 192, 130, 43, 147, 160])\n",
      "└ @ Main In[14]:64\n"
     ]
    },
    {
     "name": "stdout",
     "output_type": "stream",
     "text": [
      "Aopt1\n",
      "  2.864546 seconds (22.46 M allocations: 1.818 GiB, 10.00% gc time)\n"
     ]
    },
    {
     "name": "stderr",
     "output_type": "stream",
     "text": [
      "┌ Info: Genetic screen finished...\n",
      "└ @ Main In[14]:63\n",
      "┌ Info: (\"Aopt_motif\", Any[64, 10, 137, 122, 197, 87, 159, 52, 199, 48, 149, 133, 21, 93, 59, 156, 31, 133, 60, 151])\n",
      "└ @ Main In[14]:64\n"
     ]
    },
    {
     "name": "stdout",
     "output_type": "stream",
     "text": [
      "Aopt1\n",
      "  2.874675 seconds (21.53 M allocations: 1.741 GiB, 9.45% gc time)\n"
     ]
    },
    {
     "name": "stderr",
     "output_type": "stream",
     "text": [
      "┌ Info: Genetic screen finished...\n",
      "└ @ Main In[14]:63\n",
      "┌ Info: (\"Aopt_motif\", Any[79, 102, 194, 94, 117, 163, 33, 155, 35, 197, 38, 171, 54, 190, 103, 18, 132, 45, 106, 8])\n",
      "└ @ Main In[14]:64\n"
     ]
    },
    {
     "name": "stdout",
     "output_type": "stream",
     "text": [
      "Aopt1\n",
      "  2.796227 seconds (21.73 M allocations: 1.758 GiB, 10.00% gc time)\n"
     ]
    },
    {
     "name": "stderr",
     "output_type": "stream",
     "text": [
      "┌ Info: Genetic screen finished...\n",
      "└ @ Main In[14]:63\n",
      "┌ Info: (\"Aopt_motif\", Any[100, 12, 92, 19, 125, 130, 36, 122, 169, 174, 102, 105, 83, 179, 127, 14, 14, 29, 27, 165])\n",
      "└ @ Main In[14]:64\n"
     ]
    },
    {
     "name": "stdout",
     "output_type": "stream",
     "text": [
      "Aopt1\n",
      "  2.333521 seconds (18.62 M allocations: 1.506 GiB, 10.22% gc time)\n"
     ]
    },
    {
     "name": "stderr",
     "output_type": "stream",
     "text": [
      "┌ Info: Genetic screen finished...\n",
      "└ @ Main In[14]:63\n",
      "┌ Info: (\"Aopt_motif\", Any[88, 6, 46, 188, 178, 91, 27, 121, 130, 45, 87, 21, 181, 54, 100, 98, 125, 113, 153, 98])\n",
      "└ @ Main In[14]:64\n"
     ]
    },
    {
     "name": "stdout",
     "output_type": "stream",
     "text": [
      "Aopt1\n",
      "  1.560282 seconds (12.07 M allocations: 1000.496 MiB, 9.90% gc time)\n"
     ]
    },
    {
     "name": "stderr",
     "output_type": "stream",
     "text": [
      "┌ Info: Genetic screen finished...\n",
      "└ @ Main In[14]:63\n",
      "┌ Info: (\"Aopt_motif\", Any[91, 29, 24, 66, 83, 37, 39, 21, 121, 62, 31, 49, 193, 84, 18, 163, 74, 16, 181, 81])\n",
      "└ @ Main In[14]:64\n"
     ]
    },
    {
     "name": "stdout",
     "output_type": "stream",
     "text": [
      "Aopt1\n",
      "  2.572330 seconds (19.80 M allocations: 1.601 GiB, 9.81% gc time)\n"
     ]
    },
    {
     "name": "stderr",
     "output_type": "stream",
     "text": [
      "┌ Info: Genetic screen finished...\n",
      "└ @ Main In[14]:63\n",
      "┌ Info: (\"Aopt_motif\", Any[130, 145, 54, 197, 114, 191, 195, 27, 96, 67, 3, 6, 150, 167, 80, 96, 187, 189, 174, 108])\n",
      "└ @ Main In[14]:64\n"
     ]
    },
    {
     "name": "stdout",
     "output_type": "stream",
     "text": [
      "Aopt1\n",
      "  3.565810 seconds (27.54 M allocations: 2.226 GiB, 9.83% gc time)\n"
     ]
    },
    {
     "name": "stderr",
     "output_type": "stream",
     "text": [
      "┌ Info: Genetic screen finished...\n",
      "└ @ Main In[14]:63\n",
      "┌ Info: (\"Aopt_motif\", Any[199, 34, 111, 4, 111, 196, 189, 122, 32, 22, 31, 149, 71, 127, 21, 57, 44, 140, 126, 117])\n",
      "└ @ Main In[14]:64\n"
     ]
    },
    {
     "name": "stdout",
     "output_type": "stream",
     "text": [
      "Aopt1\n",
      "  1.712935 seconds (13.29 M allocations: 1.075 GiB, 9.81% gc time)\n"
     ]
    },
    {
     "name": "stderr",
     "output_type": "stream",
     "text": [
      "┌ Info: Genetic screen finished...\n",
      "└ @ Main In[14]:63\n",
      "┌ Info: (\"Aopt_motif\", Any[131, 8, 87, 123, 128, 50, 32, 198, 145, 124, 58, 180, 180, 164, 195, 17, 124, 44, 79, 201])\n",
      "└ @ Main In[14]:64\n"
     ]
    },
    {
     "name": "stdout",
     "output_type": "stream",
     "text": [
      "Aopt1\n",
      "  2.723572 seconds (21.30 M allocations: 1.722 GiB, 10.00% gc time)\n"
     ]
    },
    {
     "name": "stderr",
     "output_type": "stream",
     "text": [
      "┌ Info: Genetic screen finished...\n",
      "└ @ Main In[14]:63\n",
      "┌ Info: (\"Aopt_motif\", Any[34, 184, 83, 15, 116, 172, 196, 1, 49, 187, 135, 19, 30, 51, 58, 115, 177, 18, 123, 197])\n",
      "└ @ Main In[14]:64\n"
     ]
    },
    {
     "name": "stdout",
     "output_type": "stream",
     "text": [
      "Aopt1\n",
      "  2.508168 seconds (18.94 M allocations: 1.532 GiB, 9.54% gc time)\n"
     ]
    },
    {
     "name": "stderr",
     "output_type": "stream",
     "text": [
      "┌ Info: Genetic screen finished...\n",
      "└ @ Main In[14]:63\n",
      "┌ Info: (\"Aopt_motif\", Any[49, 102, 10, 10, 89, 112, 199, 56, 66, 87, 196, 55, 122, 196, 32, 171, 157, 115, 174, 82])\n",
      "└ @ Main In[14]:64\n"
     ]
    },
    {
     "name": "stdout",
     "output_type": "stream",
     "text": [
      "Aopt1\n",
      "  2.650715 seconds (20.27 M allocations: 1.641 GiB, 9.76% gc time)\n"
     ]
    },
    {
     "name": "stderr",
     "output_type": "stream",
     "text": [
      "┌ Info: Genetic screen finished...\n",
      "└ @ Main In[14]:63\n",
      "┌ Info: (\"Aopt_motif\", Any[186, 89, 19, 152, 104, 181, 173, 2, 180, 170, 195, 171, 27, 165, 185, 135, 34, 133, 92, 42])\n",
      "└ @ Main In[14]:64\n"
     ]
    },
    {
     "name": "stdout",
     "output_type": "stream",
     "text": [
      "Aopt1\n",
      "  1.946806 seconds (14.75 M allocations: 1.195 GiB, 9.76% gc time)\n"
     ]
    },
    {
     "name": "stderr",
     "output_type": "stream",
     "text": [
      "┌ Info: Genetic screen finished...\n",
      "└ @ Main In[14]:63\n",
      "┌ Info: (\"Aopt_motif\", Any[17, 44, 82, 148, 80, 177, 134, 49, 192, 185, 90, 34, 24, 190, 131, 25, 90, 104, 73, 108])\n",
      "└ @ Main In[14]:64\n"
     ]
    },
    {
     "name": "stdout",
     "output_type": "stream",
     "text": [
      "Aopt1\n",
      "  1.505327 seconds (11.37 M allocations: 943.495 MiB, 9.55% gc time)\n"
     ]
    },
    {
     "name": "stderr",
     "output_type": "stream",
     "text": [
      "┌ Info: Genetic screen finished...\n",
      "└ @ Main In[14]:63\n",
      "┌ Info: (\"Aopt_motif\", Any[141, 151, 128, 121, 194, 121, 101, 151, 78, 200, 129, 53, 9, 165, 96, 61, 175, 28, 152, 19])\n",
      "└ @ Main In[14]:64\n"
     ]
    },
    {
     "name": "stdout",
     "output_type": "stream",
     "text": [
      "Aopt1\n",
      "  2.981170 seconds (22.63 M allocations: 1.832 GiB, 9.71% gc time)\n"
     ]
    },
    {
     "name": "stderr",
     "output_type": "stream",
     "text": [
      "┌ Info: Genetic screen finished...\n",
      "└ @ Main In[14]:63\n",
      "┌ Info: (\"Aopt_motif\", Any[116, 156, 86, 139, 119, 121, 197, 79, 88, 126, 35, 160, 181, 74, 82, 168, 179, 100, 186, 159])\n",
      "└ @ Main In[14]:64\n"
     ]
    },
    {
     "name": "stdout",
     "output_type": "stream",
     "text": [
      "Aopt1\n",
      "  2.863747 seconds (22.58 M allocations: 1.830 GiB, 10.11% gc time)\n"
     ]
    },
    {
     "name": "stderr",
     "output_type": "stream",
     "text": [
      "┌ Info: Genetic screen finished...\n",
      "└ @ Main In[14]:63\n",
      "┌ Info: (\"Aopt_motif\", Any[54, 172, 197, 20, 132, 58, 140, 153, 141, 133, 97, 184, 51, 176, 32, 54, 25, 5, 194, 200])\n",
      "└ @ Main In[14]:64\n"
     ]
    },
    {
     "name": "stdout",
     "output_type": "stream",
     "text": [
      "Aopt1\n",
      "  2.477164 seconds (19.53 M allocations: 1.583 GiB, 10.04% gc time)\n"
     ]
    },
    {
     "name": "stderr",
     "output_type": "stream",
     "text": [
      "┌ Info: Genetic screen finished...\n",
      "└ @ Main In[14]:63\n",
      "┌ Info: (\"Aopt_motif\", Any[22, 61, 167, 41, 127, 141, 141, 121, 127, 134, 105, 108, 41, 98, 108, 30, 99, 50, 14, 143])\n",
      "└ @ Main In[14]:64\n"
     ]
    },
    {
     "name": "stdout",
     "output_type": "stream",
     "text": [
      "Aopt1\n",
      "  2.975323 seconds (23.44 M allocations: 1.898 GiB, 10.10% gc time)\n"
     ]
    },
    {
     "name": "stderr",
     "output_type": "stream",
     "text": [
      "┌ Info: Genetic screen finished...\n",
      "└ @ Main In[14]:63\n",
      "┌ Info: (\"Aopt_motif\", Any[61, 105, 102, 198, 174, 170, 119, 137, 26, 7, 107, 50, 118, 7, 70, 125, 44, 84, 122, 28])\n",
      "└ @ Main In[14]:64\n"
     ]
    },
    {
     "name": "stdout",
     "output_type": "stream",
     "text": [
      "Aopt1\n",
      "  2.742031 seconds (21.02 M allocations: 1.702 GiB, 9.75% gc time)\n"
     ]
    },
    {
     "name": "stderr",
     "output_type": "stream",
     "text": [
      "┌ Info: Genetic screen finished...\n",
      "└ @ Main In[14]:63\n",
      "┌ Info: (\"Aopt_motif\", Any[166, 62, 77, 107, 40, 147, 14, 168, 116, 177, 107, 109, 159, 43, 139, 55, 90, 47, 11, 87])\n",
      "└ @ Main In[14]:64\n"
     ]
    },
    {
     "name": "stdout",
     "output_type": "stream",
     "text": [
      "Aopt1\n",
      "  2.959834 seconds (23.29 M allocations: 1.885 GiB, 10.15% gc time)\n"
     ]
    },
    {
     "name": "stderr",
     "output_type": "stream",
     "text": [
      "┌ Info: Genetic screen finished...\n",
      "└ @ Main In[14]:63\n",
      "┌ Info: (\"Aopt_motif\", Any[113, 157, 133, 172, 178, 99, 32, 199, 79, 80, 101, 38, 183, 19, 12, 7, 43, 44, 115, 199])\n",
      "└ @ Main In[14]:64\n"
     ]
    },
    {
     "name": "stdout",
     "output_type": "stream",
     "text": [
      "Aopt1\n",
      "  1.659473 seconds (12.99 M allocations: 1.053 GiB, 9.94% gc time)\n"
     ]
    },
    {
     "name": "stderr",
     "output_type": "stream",
     "text": [
      "┌ Info: Genetic screen finished...\n",
      "└ @ Main In[14]:63\n",
      "┌ Info: (\"Aopt_motif\", Any[180, 81, 136, 38, 35, 52, 138, 142, 169, 181, 90, 101, 83, 100, 158, 169, 103, 181, 131, 84])\n",
      "└ @ Main In[14]:64\n"
     ]
    },
    {
     "name": "stdout",
     "output_type": "stream",
     "text": [
      "Aopt1\n",
      "  5.255074 seconds (41.11 M allocations: 3.326 GiB, 10.02% gc time)\n"
     ]
    },
    {
     "name": "stderr",
     "output_type": "stream",
     "text": [
      "┌ Info: Genetic screen finished...\n",
      "└ @ Main In[14]:63\n",
      "┌ Info: (\"Aopt_motif\", Any[167, 63, 169, 197, 2, 133, 41, 138, 43, 177, 196, 124, 43, 45, 40, 38, 116, 84, 99, 191])\n",
      "└ @ Main In[14]:64\n"
     ]
    },
    {
     "name": "stdout",
     "output_type": "stream",
     "text": [
      "Aopt1\n",
      "  4.234425 seconds (33.73 M allocations: 2.729 GiB, 10.17% gc time)\n"
     ]
    },
    {
     "name": "stderr",
     "output_type": "stream",
     "text": [
      "┌ Info: Genetic screen finished...\n",
      "└ @ Main In[14]:63\n",
      "┌ Info: (\"Aopt_motif\", Any[14, 83, 154, 14, 145, 175, 23, 197, 66, 191, 57, 25, 109, 148, 84, 128, 44, 144, 103, 107])\n",
      "└ @ Main In[14]:64\n"
     ]
    },
    {
     "name": "stdout",
     "output_type": "stream",
     "text": [
      "Aopt1\n",
      "  1.600707 seconds (11.99 M allocations: 994.814 MiB, 9.69% gc time)\n"
     ]
    },
    {
     "name": "stderr",
     "output_type": "stream",
     "text": [
      "┌ Info: Genetic screen finished...\n",
      "└ @ Main In[14]:63\n",
      "┌ Info: (\"Aopt_motif\", Any[19, 88, 171, 29, 75, 66, 47, 160, 119, 115, 21, 82, 191, 35, 170, 5, 70, 113, 68, 91])\n",
      "└ @ Main In[14]:64\n"
     ]
    },
    {
     "name": "stdout",
     "output_type": "stream",
     "text": [
      "Aopt1\n",
      "  3.394971 seconds (26.45 M allocations: 2.141 GiB, 9.97% gc time)\n"
     ]
    },
    {
     "name": "stderr",
     "output_type": "stream",
     "text": [
      "┌ Info: Genetic screen finished...\n",
      "└ @ Main In[14]:63\n",
      "┌ Info: (\"Aopt_motif\", Any[95, 24, 190, 174, 123, 125, 147, 89, 123, 72, 168, 108, 165, 21, 183, 19, 141, 1, 10, 163])\n",
      "└ @ Main In[14]:64\n"
     ]
    },
    {
     "name": "stdout",
     "output_type": "stream",
     "text": [
      "Aopt1\n",
      "  3.823375 seconds (30.65 M allocations: 2.481 GiB, 10.27% gc time)\n"
     ]
    },
    {
     "name": "stderr",
     "output_type": "stream",
     "text": [
      "┌ Info: Genetic screen finished...\n",
      "└ @ Main In[14]:63\n",
      "┌ Info: (\"Aopt_motif\", Any[92, 74, 73, 140, 83, 122, 48, 154, 135, 189, 86, 198, 40, 109, 83, 16, 180, 123, 111, 187])\n",
      "└ @ Main In[14]:64\n"
     ]
    },
    {
     "name": "stdout",
     "output_type": "stream",
     "text": [
      "Aopt1\n",
      "  4.111028 seconds (32.03 M allocations: 2.593 GiB, 10.05% gc time)\n"
     ]
    },
    {
     "name": "stderr",
     "output_type": "stream",
     "text": [
      "┌ Info: Genetic screen finished...\n",
      "└ @ Main In[14]:63\n",
      "┌ Info: (\"Aopt_motif\", Any[77, 57, 156, 102, 173, 143, 165, 179, 187, 151, 77, 11, 61, 86, 145, 26, 148, 127, 32, 36])\n",
      "└ @ Main In[14]:64\n"
     ]
    },
    {
     "name": "stdout",
     "output_type": "stream",
     "text": [
      "Aopt1\n",
      "  2.259573 seconds (17.17 M allocations: 1.390 GiB, 9.74% gc time)\n"
     ]
    },
    {
     "name": "stderr",
     "output_type": "stream",
     "text": [
      "┌ Info: Genetic screen finished...\n",
      "└ @ Main In[14]:63\n",
      "┌ Info: (\"Aopt_motif\", Any[7, 74, 35, 134, 156, 158, 134, 184, 12, 45, 86, 96, 105, 159, 25, 61, 175, 171, 153, 53])\n",
      "└ @ Main In[14]:64\n"
     ]
    },
    {
     "name": "stdout",
     "output_type": "stream",
     "text": [
      "Aopt1\n",
      "  2.813182 seconds (20.88 M allocations: 1.690 GiB, 9.50% gc time)\n"
     ]
    },
    {
     "name": "stderr",
     "output_type": "stream",
     "text": [
      "┌ Info: Genetic screen finished...\n",
      "└ @ Main In[14]:63\n",
      "┌ Info: (\"Aopt_motif\", Any[11, 11, 46, 162, 16, 92, 48, 86, 13, 96, 58, 154, 189, 166, 170, 59, 35, 32, 194, 112])\n",
      "└ @ Main In[14]:64\n"
     ]
    },
    {
     "name": "stdout",
     "output_type": "stream",
     "text": [
      "Aopt1\n",
      "  2.287917 seconds (17.40 M allocations: 1.409 GiB, 9.77% gc time)\n"
     ]
    },
    {
     "name": "stderr",
     "output_type": "stream",
     "text": [
      "┌ Info: Genetic screen finished...\n",
      "└ @ Main In[14]:63\n",
      "┌ Info: (\"Aopt_motif\", Any[141, 89, 176, 16, 17, 119, 133, 132, 39, 4, 146, 103, 83, 108, 58, 70, 113, 97, 113, 157])\n",
      "└ @ Main In[14]:64\n"
     ]
    },
    {
     "name": "stdout",
     "output_type": "stream",
     "text": [
      "Aopt1\n",
      "  3.336286 seconds (25.13 M allocations: 2.036 GiB, 9.84% gc time)\n"
     ]
    },
    {
     "name": "stderr",
     "output_type": "stream",
     "text": [
      "┌ Info: Genetic screen finished...\n",
      "└ @ Main In[14]:63\n",
      "┌ Info: (\"Aopt_motif\", Any[15, 153, 80, 62, 84, 33, 123, 17, 57, 29, 166, 176, 35, 42, 43, 158, 66, 81, 169, 59])\n",
      "└ @ Main In[14]:64\n"
     ]
    },
    {
     "name": "stdout",
     "output_type": "stream",
     "text": [
      "Aopt1\n",
      "  4.151705 seconds (31.54 M allocations: 2.552 GiB, 9.73% gc time)\n"
     ]
    },
    {
     "name": "stderr",
     "output_type": "stream",
     "text": [
      "┌ Info: Genetic screen finished...\n",
      "└ @ Main In[14]:63\n",
      "┌ Info: (\"Aopt_motif\", Any[25, 4, 182, 159, 53, 149, 5, 91, 43, 136, 4, 2, 159, 116, 141, 39, 77, 83, 16, 30])\n",
      "└ @ Main In[14]:64\n"
     ]
    },
    {
     "name": "stdout",
     "output_type": "stream",
     "text": [
      "Aopt1\n",
      "  3.041718 seconds (23.67 M allocations: 1.916 GiB, 10.05% gc time)\n"
     ]
    },
    {
     "name": "stderr",
     "output_type": "stream",
     "text": [
      "┌ Info: Genetic screen finished...\n",
      "└ @ Main In[14]:63\n",
      "┌ Info: (\"Aopt_motif\", Any[99, 1, 34, 94, 152, 129, 140, 116, 85, 65, 200, 184, 85, 1, 18, 36, 144, 66, 194, 200])\n",
      "└ @ Main In[14]:64\n"
     ]
    },
    {
     "name": "stdout",
     "output_type": "stream",
     "text": [
      "Aopt1\n",
      "  3.499926 seconds (28.00 M allocations: 2.266 GiB, 10.27% gc time)\n"
     ]
    },
    {
     "name": "stderr",
     "output_type": "stream",
     "text": [
      "┌ Info: Genetic screen finished...\n",
      "└ @ Main In[14]:63\n",
      "┌ Info: (\"Aopt_motif\", Any[51, 159, 22, 22, 123, 14, 34, 126, 123, 130, 89, 57, 36, 70, 157, 9, 26, 46, 10, 163])\n",
      "└ @ Main In[14]:64\n"
     ]
    },
    {
     "name": "stdout",
     "output_type": "stream",
     "text": [
      "Aopt1\n",
      "  5.413829 seconds (43.68 M allocations: 3.533 GiB, 10.42% gc time)\n"
     ]
    },
    {
     "name": "stderr",
     "output_type": "stream",
     "text": [
      "┌ Info: Genetic screen finished...\n",
      "└ @ Main In[14]:63\n",
      "┌ Info: (\"Aopt_motif\", Any[167, 64, 171, 48, 201, 133, 200, 128, 123, 180, 168, 51, 43, 162, 14, 79, 1, 34, 139, 121])\n",
      "└ @ Main In[14]:64\n"
     ]
    },
    {
     "name": "stdout",
     "output_type": "stream",
     "text": [
      "Aopt1\n",
      "  2.605509 seconds (20.05 M allocations: 1.623 GiB, 9.90% gc time)\n"
     ]
    },
    {
     "name": "stderr",
     "output_type": "stream",
     "text": [
      "┌ Info: Genetic screen finished...\n",
      "└ @ Main In[14]:63\n",
      "┌ Info: (\"Aopt_motif\", Any[54, 98, 29, 98, 96, 87, 144, 196, 184, 64, 164, 74, 177, 46, 74, 34, 16, 49, 110, 137])\n",
      "└ @ Main In[14]:64\n"
     ]
    },
    {
     "name": "stdout",
     "output_type": "stream",
     "text": [
      "Aopt1\n",
      "  3.367228 seconds (26.31 M allocations: 2.129 GiB, 9.99% gc time)\n"
     ]
    },
    {
     "name": "stderr",
     "output_type": "stream",
     "text": [
      "┌ Info: Genetic screen finished...\n",
      "└ @ Main In[14]:63\n",
      "┌ Info: (\"Aopt_motif\", Any[130, 32, 27, 18, 196, 49, 76, 153, 139, 29, 90, 29, 12, 17, 105, 67, 189, 42, 11, 159])\n",
      "└ @ Main In[14]:64\n"
     ]
    },
    {
     "name": "stdout",
     "output_type": "stream",
     "text": [
      "Aopt1\n",
      "  2.148392 seconds (17.00 M allocations: 1.380 GiB, 10.20% gc time)\n"
     ]
    },
    {
     "name": "stderr",
     "output_type": "stream",
     "text": [
      "┌ Info: Genetic screen finished...\n",
      "└ @ Main In[14]:63\n",
      "┌ Info: (\"Aopt_motif\", Any[173, 64, 171, 149, 125, 42, 7, 110, 159, 73, 55, 64, 88, 90, 22, 198, 92, 187, 167, 146])\n",
      "└ @ Main In[14]:64\n"
     ]
    },
    {
     "name": "stdout",
     "output_type": "stream",
     "text": [
      "Aopt1\n",
      "  3.104469 seconds (24.28 M allocations: 1.965 GiB, 10.07% gc time)\n"
     ]
    },
    {
     "name": "stderr",
     "output_type": "stream",
     "text": [
      "┌ Info: Genetic screen finished...\n",
      "└ @ Main In[14]:63\n",
      "┌ Info: (\"Aopt_motif\", Any[67, 94, 186, 200, 171, 53, 124, 195, 66, 50, 35, 153, 33, 173, 27, 6, 98, 8, 158, 82])\n",
      "└ @ Main In[14]:64\n"
     ]
    },
    {
     "name": "stdout",
     "output_type": "stream",
     "text": [
      "Aopt1\n",
      "  3.863916 seconds (29.40 M allocations: 2.379 GiB, 9.75% gc time)\n"
     ]
    },
    {
     "name": "stderr",
     "output_type": "stream",
     "text": [
      "┌ Info: Genetic screen finished...\n",
      "└ @ Main In[14]:63\n",
      "┌ Info: (\"Aopt_motif\", Any[59, 156, 73, 19, 120, 68, 15, 154, 120, 127, 12, 83, 52, 18, 129, 16, 42, 43, 7, 193])\n",
      "└ @ Main In[14]:64\n"
     ]
    },
    {
     "name": "stdout",
     "output_type": "stream",
     "text": [
      "Aopt1\n",
      "  5.239050 seconds (41.90 M allocations: 3.389 GiB, 10.32% gc time)\n"
     ]
    },
    {
     "name": "stderr",
     "output_type": "stream",
     "text": [
      "┌ Info: Genetic screen finished...\n",
      "└ @ Main In[14]:63\n",
      "┌ Info: (\"Aopt_motif\", Any[188, 128, 116, 76, 155, 192, 125, 32, 8, 146, 150, 197, 71, 38, 139, 161, 105, 8, 148, 177])\n",
      "└ @ Main In[14]:64\n"
     ]
    },
    {
     "name": "stdout",
     "output_type": "stream",
     "text": [
      "Aopt1\n",
      "  4.211548 seconds (31.94 M allocations: 2.584 GiB, 9.87% gc time)\n"
     ]
    },
    {
     "name": "stderr",
     "output_type": "stream",
     "text": [
      "┌ Info: Genetic screen finished...\n",
      "└ @ Main In[14]:63\n",
      "┌ Info: (\"Aopt_motif\", Any[132, 31, 187, 164, 177, 136, 124, 181, 160, 86, 92, 127, 198, 163, 198, 39, 117, 107, 13, 111])\n",
      "└ @ Main In[14]:64\n"
     ]
    },
    {
     "name": "stdout",
     "output_type": "stream",
     "text": [
      "Aopt1\n",
      "  4.639838 seconds (35.93 M allocations: 2.907 GiB, 10.03% gc time)\n"
     ]
    },
    {
     "name": "stderr",
     "output_type": "stream",
     "text": [
      "┌ Info: Genetic screen finished...\n",
      "└ @ Main In[14]:63\n",
      "┌ Info: (\"Aopt_motif\", Any[144, 140, 75, 74, 123, 62, 91, 6, 172, 120, 44, 56, 145, 21, 131, 50, 134, 184, 9, 9])\n",
      "└ @ Main In[14]:64\n"
     ]
    },
    {
     "name": "stdout",
     "output_type": "stream",
     "text": [
      "Aopt1\n",
      "  2.284324 seconds (18.12 M allocations: 1.467 GiB, 10.27% gc time)\n"
     ]
    },
    {
     "name": "stderr",
     "output_type": "stream",
     "text": [
      "┌ Info: Genetic screen finished...\n",
      "└ @ Main In[14]:63\n",
      "┌ Info: (\"Aopt_motif\", Any[60, 12, 92, 38, 176, 121, 30, 20, 119, 124, 19, 22, 106, 119, 24, 72, 31, 29, 73, 159])\n",
      "└ @ Main In[14]:64\n"
     ]
    },
    {
     "name": "stdout",
     "output_type": "stream",
     "text": [
      "Aopt1\n",
      "  2.565409 seconds (19.90 M allocations: 1.611 GiB, 9.93% gc time)\n"
     ]
    },
    {
     "name": "stderr",
     "output_type": "stream",
     "text": [
      "┌ Info: Genetic screen finished...\n",
      "└ @ Main In[14]:63\n",
      "┌ Info: (\"Aopt_motif\", Any[159, 6, 43, 116, 115, 53, 26, 148, 140, 44, 177, 18, 8, 138, 27, 11, 151, 94, 147, 181])\n",
      "└ @ Main In[14]:64\n"
     ]
    },
    {
     "name": "stdout",
     "output_type": "stream",
     "text": [
      "Aopt1\n",
      "  2.236771 seconds (17.05 M allocations: 1.380 GiB, 9.87% gc time)\n"
     ]
    },
    {
     "name": "stderr",
     "output_type": "stream",
     "text": [
      "┌ Info: Genetic screen finished...\n",
      "└ @ Main In[14]:63\n",
      "┌ Info: (\"Aopt_motif\", Any[99, 26, 39, 201, 116, 129, 192, 86, 13, 123, 30, 174, 17, 200, 29, 20, 110, 108, 131, 11])\n",
      "└ @ Main In[14]:64\n"
     ]
    },
    {
     "name": "stdout",
     "output_type": "stream",
     "text": [
      "Aopt1\n",
      "  1.906827 seconds (14.77 M allocations: 1.198 GiB, 9.94% gc time)\n"
     ]
    },
    {
     "name": "stderr",
     "output_type": "stream",
     "text": [
      "┌ Info: Genetic screen finished...\n",
      "└ @ Main In[14]:63\n",
      "┌ Info: (\"Aopt_motif\", Any[156, 103, 21, 22, 101, 169, 146, 157, 128, 130, 40, 9, 146, 177, 104, 63, 183, 23, 184, 88])\n",
      "└ @ Main In[14]:64\n"
     ]
    },
    {
     "name": "stdout",
     "output_type": "stream",
     "text": [
      "Aopt1\n",
      "  3.316536 seconds (26.26 M allocations: 2.127 GiB, 10.14% gc time)\n"
     ]
    },
    {
     "name": "stderr",
     "output_type": "stream",
     "text": [
      "┌ Info: Genetic screen finished...\n",
      "└ @ Main In[14]:63\n",
      "┌ Info: (\"Aopt_motif\", Any[62, 112, 150, 22, 113, 102, 45, 43, 123, 198, 15, 86, 179, 21, 183, 83, 165, 46, 190, 163])\n",
      "└ @ Main In[14]:64\n"
     ]
    },
    {
     "name": "stdout",
     "output_type": "stream",
     "text": [
      "Aopt1\n",
      "  3.906338 seconds (31.12 M allocations: 2.518 GiB, 10.29% gc time)\n"
     ]
    },
    {
     "name": "stderr",
     "output_type": "stream",
     "text": [
      "┌ Info: Genetic screen finished...\n",
      "└ @ Main In[14]:63\n",
      "┌ Info: (\"Aopt_motif\", Any[42, 4, 17, 159, 109, 35, 167, 104, 136, 109, 73, 53, 142, 46, 23, 33, 19, 78, 101, 129])\n",
      "└ @ Main In[14]:64\n"
     ]
    },
    {
     "name": "stdout",
     "output_type": "stream",
     "text": [
      "Aopt1\n",
      "  3.063336 seconds (24.73 M allocations: 2.002 GiB, 10.44% gc time)\n"
     ]
    },
    {
     "name": "stderr",
     "output_type": "stream",
     "text": [
      "┌ Info: Genetic screen finished...\n",
      "└ @ Main In[14]:63\n",
      "┌ Info: (\"Aopt_motif\", Any[35, 39, 84, 122, 141, 120, 28, 152, 195, 94, 53, 140, 9, 106, 95, 96, 154, 74, 122, 198])\n",
      "└ @ Main In[14]:64\n"
     ]
    },
    {
     "name": "stdout",
     "output_type": "stream",
     "text": [
      "Aopt1\n",
      "  3.852543 seconds (29.14 M allocations: 2.358 GiB, 9.73% gc time)\n"
     ]
    },
    {
     "name": "stderr",
     "output_type": "stream",
     "text": [
      "┌ Info: Genetic screen finished...\n",
      "└ @ Main In[14]:63\n",
      "┌ Info: (\"Aopt_motif\", Any[158, 115, 30, 37, 133, 168, 95, 194, 167, 120, 44, 188, 86, 144, 27, 19, 119, 184, 198, 201])\n",
      "└ @ Main In[14]:64\n"
     ]
    },
    {
     "name": "stdout",
     "output_type": "stream",
     "text": [
      "Aopt1\n",
      "  2.378140 seconds (18.59 M allocations: 1.505 GiB, 10.15% gc time)\n"
     ]
    },
    {
     "name": "stderr",
     "output_type": "stream",
     "text": [
      "┌ Info: Genetic screen finished...\n",
      "└ @ Main In[14]:63\n",
      "┌ Info: (\"Aopt_motif\", Any[97, 20, 148, 24, 111, 107, 43, 11, 140, 10, 149, 88, 84, 23, 106, 88, 69, 48, 20, 165])\n",
      "└ @ Main In[14]:64\n"
     ]
    },
    {
     "name": "stdout",
     "output_type": "stream",
     "text": [
      "Aopt1\n",
      "  3.998660 seconds (32.62 M allocations: 2.641 GiB, 10.50% gc time)\n"
     ]
    },
    {
     "name": "stderr",
     "output_type": "stream",
     "text": [
      "┌ Info: Genetic screen finished...\n",
      "└ @ Main In[14]:63\n",
      "┌ Info: (\"Aopt_motif\", Any[23, 159, 134, 189, 146, 98, 156, 157, 103, 74, 95, 175, 72, 183, 65, 126, 67, 85, 105, 105])\n",
      "└ @ Main In[14]:64\n"
     ]
    },
    {
     "name": "stdout",
     "output_type": "stream",
     "text": [
      "Aopt1\n",
      "  2.453719 seconds (18.59 M allocations: 1.505 GiB, 9.84% gc time)\n"
     ]
    },
    {
     "name": "stderr",
     "output_type": "stream",
     "text": [
      "┌ Info: Genetic screen finished...\n",
      "└ @ Main In[14]:63\n",
      "┌ Info: (\"Aopt_motif\", Any[135, 86, 134, 189, 146, 178, 18, 138, 27, 110, 193, 97, 55, 176, 132, 113, 91, 174, 1, 103])\n",
      "└ @ Main In[14]:64\n"
     ]
    },
    {
     "name": "stdout",
     "output_type": "stream",
     "text": [
      "Aopt1\n",
      "  3.136009 seconds (23.62 M allocations: 1.912 GiB, 9.68% gc time)\n"
     ]
    },
    {
     "name": "stderr",
     "output_type": "stream",
     "text": [
      "┌ Info: Genetic screen finished...\n",
      "└ @ Main In[14]:63\n",
      "┌ Info: (\"Aopt_motif\", Any[108, 100, 98, 163, 107, 22, 139, 4, 86, 85, 23, 23, 110, 36, 171, 60, 34, 199, 108, 110])\n",
      "└ @ Main In[14]:64\n"
     ]
    },
    {
     "name": "stdout",
     "output_type": "stream",
     "text": [
      "Aopt1\n",
      "  4.259313 seconds (32.59 M allocations: 2.637 GiB, 9.93% gc time)\n"
     ]
    },
    {
     "name": "stderr",
     "output_type": "stream",
     "text": [
      "┌ Info: Genetic screen finished...\n",
      "└ @ Main In[14]:63\n",
      "┌ Info: (\"Aopt_motif\", Any[92, 21, 141, 19, 51, 122, 38, 155, 83, 118, 201, 183, 52, 18, 101, 135, 180, 100, 7, 153])\n",
      "└ @ Main In[14]:64\n"
     ]
    },
    {
     "name": "stdout",
     "output_type": "stream",
     "text": [
      "Aopt1\n",
      "  2.785857 seconds (21.92 M allocations: 1.774 GiB, 10.18% gc time)\n"
     ]
    },
    {
     "name": "stderr",
     "output_type": "stream",
     "text": [
      "┌ Info: Genetic screen finished...\n",
      "└ @ Main In[14]:63\n",
      "┌ Info: (\"Aopt_motif\", Any[93, 157, 88, 20, 121, 123, 2, 120, 127, 128, 101, 84, 53, 19, 130, 17, 43, 101, 8, 154])\n",
      "└ @ Main In[14]:64\n"
     ]
    },
    {
     "name": "stdout",
     "output_type": "stream",
     "text": [
      "Aopt1\n",
      "  5.898944 seconds (47.90 M allocations: 3.874 GiB, 10.48% gc time)\n"
     ]
    },
    {
     "name": "stderr",
     "output_type": "stream",
     "text": [
      "┌ Info: Genetic screen finished...\n",
      "└ @ Main In[14]:63\n",
      "┌ Info: (\"Aopt_motif\", Any[192, 6, 93, 14, 178, 44, 83, 38, 88, 123, 119, 82, 170, 61, 48, 47, 102, 1, 147, 112])\n",
      "└ @ Main In[14]:64\n"
     ]
    },
    {
     "name": "stdout",
     "output_type": "stream",
     "text": [
      "Aopt1\n",
      "  4.261102 seconds (33.76 M allocations: 2.731 GiB, 10.24% gc time)\n"
     ]
    },
    {
     "name": "stderr",
     "output_type": "stream",
     "text": [
      "┌ Info: Genetic screen finished...\n",
      "└ @ Main In[14]:63\n",
      "┌ Info: (\"Aopt_motif\", Any[105, 172, 164, 22, 81, 72, 186, 173, 61, 8, 119, 86, 165, 99, 125, 32, 102, 120, 68, 163])\n",
      "└ @ Main In[14]:64\n"
     ]
    },
    {
     "name": "stdout",
     "output_type": "stream",
     "text": [
      "Aopt1\n",
      "  2.816901 seconds (22.18 M allocations: 1.795 GiB, 10.17% gc time)\n"
     ]
    },
    {
     "name": "stderr",
     "output_type": "stream",
     "text": [
      "┌ Info: Genetic screen finished...\n",
      "└ @ Main In[14]:63\n",
      "┌ Info: (\"Aopt_motif\", Any[52, 112, 77, 23, 124, 126, 5, 158, 139, 131, 106, 58, 56, 137, 105, 20, 184, 47, 51, 122])\n",
      "└ @ Main In[14]:64\n"
     ]
    },
    {
     "name": "stdout",
     "output_type": "stream",
     "text": [
      "Aopt1\n",
      "  5.656290 seconds (46.13 M allocations: 3.731 GiB, 10.57% gc time)\n"
     ]
    },
    {
     "name": "stderr",
     "output_type": "stream",
     "text": [
      "┌ Info: Genetic screen finished...\n",
      "└ @ Main In[14]:63\n",
      "┌ Info: (\"Aopt_motif\", Any[110, 156, 48, 19, 90, 39, 198, 120, 145, 127, 98, 159, 52, 93, 85, 24, 124, 94, 1, 134])\n",
      "└ @ Main In[14]:64\n"
     ]
    },
    {
     "name": "stdout",
     "output_type": "stream",
     "text": [
      "Aopt1\n",
      "  4.200753 seconds (32.83 M allocations: 2.658 GiB, 10.08% gc time)\n"
     ]
    },
    {
     "name": "stderr",
     "output_type": "stream",
     "text": [
      "┌ Info: Genetic screen finished...\n",
      "└ @ Main In[14]:63\n",
      "┌ Info: (\"Aopt_motif\", Any[47, 161, 57, 38, 40, 110, 138, 11, 166, 18, 42, 101, 57, 101, 184, 87, 142, 190, 172, 160])\n",
      "└ @ Main In[14]:64\n"
     ]
    },
    {
     "name": "stdout",
     "output_type": "stream",
     "text": [
      "Aopt1\n",
      "  2.705796 seconds (21.07 M allocations: 1.705 GiB, 10.08% gc time)\n"
     ]
    },
    {
     "name": "stderr",
     "output_type": "stream",
     "text": [
      "┌ Info: Genetic screen finished...\n",
      "└ @ Main In[14]:63\n",
      "┌ Info: (\"Aopt_motif\", Any[46, 164, 136, 7, 40, 137, 196, 27, 133, 66, 147, 142, 20, 186, 99, 14, 89, 3, 5, 107])\n",
      "└ @ Main In[14]:64\n"
     ]
    },
    {
     "name": "stdout",
     "output_type": "stream",
     "text": [
      "Aopt1\n",
      "  6.870066 seconds (53.50 M allocations: 4.326 GiB, 10.18% gc time)\n"
     ]
    },
    {
     "name": "stderr",
     "output_type": "stream",
     "text": [
      "┌ Info: Genetic screen finished...\n",
      "└ @ Main In[14]:63\n",
      "┌ Info: (\"Aopt_motif\", Any[96, 23, 105, 34, 80, 126, 146, 169, 116, 178, 28, 91, 201, 7, 87, 78, 18, 63, 98, 164])\n",
      "└ @ Main In[14]:64\n"
     ]
    },
    {
     "name": "stdout",
     "output_type": "stream",
     "text": [
      "Aopt1\n",
      "  2.599317 seconds (20.56 M allocations: 1.665 GiB, 10.25% gc time)\n"
     ]
    },
    {
     "name": "stderr",
     "output_type": "stream",
     "text": [
      "┌ Info: Genetic screen finished...\n",
      "└ @ Main In[14]:63\n",
      "┌ Info: (\"Aopt_motif\", Any[180, 116, 80, 38, 110, 169, 96, 195, 130, 121, 94, 173, 150, 167, 53, 173, 187, 47, 73, 149])\n",
      "└ @ Main In[14]:64\n"
     ]
    },
    {
     "name": "stdout",
     "output_type": "stream",
     "text": [
      "Aopt1\n",
      "  3.207738 seconds (25.01 M allocations: 2.024 GiB, 10.11% gc time)\n"
     ]
    },
    {
     "name": "stderr",
     "output_type": "stream",
     "text": [
      "┌ Info: Genetic screen finished...\n",
      "└ @ Main In[14]:63\n",
      "┌ Info: (\"Aopt_motif\", Any[94, 158, 75, 21, 7, 124, 40, 41, 171, 129, 88, 56, 54, 20, 103, 18, 182, 33, 9, 162])\n",
      "└ @ Main In[14]:64\n"
     ]
    },
    {
     "name": "stdout",
     "output_type": "stream",
     "text": [
      "Aopt1\n",
      "  6.676132 seconds (54.69 M allocations: 4.422 GiB, 10.62% gc time)\n"
     ]
    },
    {
     "name": "stderr",
     "output_type": "stream",
     "text": [
      "┌ Info: Genetic screen finished...\n",
      "└ @ Main In[14]:63\n",
      "┌ Info: (\"Aopt_motif\", Any[58, 173, 181, 107, 87, 19, 138, 30, 169, 127, 116, 140, 101, 111, 162, 137, 75, 181, 71, 145])\n",
      "└ @ Main In[14]:64\n"
     ]
    },
    {
     "name": "stdout",
     "output_type": "stream",
     "text": [
      "Aopt1\n",
      "  4.691904 seconds (36.16 M allocations: 2.925 GiB, 10.01% gc time)\n"
     ]
    },
    {
     "name": "stderr",
     "output_type": "stream",
     "text": [
      "┌ Info: Genetic screen finished...\n",
      "└ @ Main In[14]:63\n",
      "┌ Info: (\"Aopt_motif\", Any[178, 65, 121, 160, 26, 160, 188, 109, 27, 108, 28, 125, 148, 161, 156, 128, 164, 33, 138, 30])\n",
      "└ @ Main In[14]:64\n"
     ]
    },
    {
     "name": "stdout",
     "output_type": "stream",
     "text": [
      "Aopt1\n",
      "  3.315577 seconds (25.19 M allocations: 2.038 GiB, 9.83% gc time)\n"
     ]
    },
    {
     "name": "stderr",
     "output_type": "stream",
     "text": [
      "┌ Info: Genetic screen finished...\n",
      "└ @ Main In[14]:63\n",
      "┌ Info: (\"Aopt_motif\", Any[52, 32, 107, 144, 183, 26, 35, 158, 82, 9, 90, 87, 87, 125, 184, 187, 1, 24, 4, 157])\n",
      "└ @ Main In[14]:64\n"
     ]
    },
    {
     "name": "stdout",
     "output_type": "stream",
     "text": [
      "Aopt1\n",
      "  2.656199 seconds (21.18 M allocations: 1.716 GiB, 10.37% gc time)\n"
     ]
    },
    {
     "name": "stderr",
     "output_type": "stream",
     "text": [
      "┌ Info: Genetic screen finished...\n",
      "└ @ Main In[14]:63\n",
      "┌ Info: (\"Aopt_motif\", Any[151, 103, 141, 1, 172, 191, 48, 43, 65, 118, 100, 127, 76, 199, 138, 149, 134, 77, 159, 172])\n",
      "└ @ Main In[14]:64\n"
     ]
    },
    {
     "name": "stdout",
     "output_type": "stream",
     "text": [
      "Aopt1\n",
      "  3.205343 seconds (24.83 M allocations: 2.009 GiB, 10.06% gc time)\n"
     ]
    },
    {
     "name": "stderr",
     "output_type": "stream",
     "text": [
      "┌ Info: Genetic screen finished...\n",
      "└ @ Main In[14]:63\n",
      "┌ Info: (\"Aopt_motif\", Any[200, 45, 8, 176, 197, 178, 44, 68, 27, 164, 12, 116, 117, 99, 157, 60, 78, 153, 87, 63])\n",
      "└ @ Main In[14]:64\n"
     ]
    },
    {
     "name": "stdout",
     "output_type": "stream",
     "text": [
      "Aopt1\n",
      "  2.836138 seconds (21.07 M allocations: 1.706 GiB, 9.65% gc time)\n"
     ]
    },
    {
     "name": "stderr",
     "output_type": "stream",
     "text": [
      "┌ Info: Genetic screen finished...\n",
      "└ @ Main In[14]:63\n",
      "┌ Info: (\"Aopt_motif\", Any[95, 149, 3, 158, 86, 169, 34, 43, 129, 198, 106, 34, 145, 46, 39, 9, 201, 46, 185, 103])\n",
      "└ @ Main In[14]:64\n"
     ]
    },
    {
     "name": "stdout",
     "output_type": "stream",
     "text": [
      "Aopt1\n",
      "  3.199158 seconds (25.11 M allocations: 2.032 GiB, 10.18% gc time)\n"
     ]
    },
    {
     "name": "stderr",
     "output_type": "stream",
     "text": [
      "┌ Info: Genetic screen finished...\n",
      "└ @ Main In[14]:63\n",
      "┌ Info: (\"Aopt_motif\", Any[93, 1, 29, 15, 195, 51, 2, 13, 138, 31, 55, 81, 14, 68, 7, 26, 149, 183, 127, 141])\n",
      "└ @ Main In[14]:64\n"
     ]
    },
    {
     "name": "stdout",
     "output_type": "stream",
     "text": [
      "Aopt1\n",
      "  2.962671 seconds (23.54 M allocations: 1.905 GiB, 10.33% gc time)\n"
     ]
    },
    {
     "name": "stderr",
     "output_type": "stream",
     "text": [
      "┌ Info: Genetic screen finished...\n",
      "└ @ Main In[14]:63\n",
      "┌ Info: (\"Aopt_motif\", Any[54, 139, 29, 114, 84, 100, 140, 116, 141, 197, 186, 17, 85, 74, 97, 189, 144, 26, 148, 98])\n",
      "└ @ Main In[14]:64\n"
     ]
    },
    {
     "name": "stdout",
     "output_type": "stream",
     "text": [
      "Aopt1\n",
      "  4.810586 seconds (37.97 M allocations: 3.071 GiB, 10.31% gc time)\n"
     ]
    },
    {
     "name": "stderr",
     "output_type": "stream",
     "text": [
      "┌ Info: Genetic screen finished...\n",
      "└ @ Main In[14]:63\n",
      "┌ Info: (\"Aopt_motif\", Any[186, 103, 131, 105, 120, 130, 31, 79, 120, 127, 50, 138, 154, 18, 101, 100, 81, 95, 125, 201])\n",
      "└ @ Main In[14]:64\n"
     ]
    },
    {
     "name": "stdout",
     "output_type": "stream",
     "text": [
      "Aopt1\n",
      "  4.346303 seconds (33.22 M allocations: 2.689 GiB, 9.92% gc time)\n"
     ]
    },
    {
     "name": "stderr",
     "output_type": "stream",
     "text": [
      "┌ Info: Genetic screen finished...\n",
      "└ @ Main In[14]:63\n",
      "┌ Info: (\"Aopt_motif\", Any[133, 39, 94, 76, 178, 190, 154, 13, 3, 124, 143, 94, 69, 163, 199, 99, 103, 172, 14, 43])\n",
      "└ @ Main In[14]:64\n"
     ]
    },
    {
     "name": "stdout",
     "output_type": "stream",
     "text": [
      "Aopt1\n",
      "  4.012539 seconds (30.29 M allocations: 2.451 GiB, 9.82% gc time)\n"
     ]
    },
    {
     "name": "stderr",
     "output_type": "stream",
     "text": [
      "┌ Info: Genetic screen finished...\n",
      "└ @ Main In[14]:63\n",
      "┌ Info: (\"Aopt_motif\", Any[130, 154, 62, 69, 119, 59, 46, 97, 54, 116, 71, 179, 51, 142, 41, 15, 102, 99, 81, 159])\n",
      "└ @ Main In[14]:64\n"
     ]
    },
    {
     "name": "stdout",
     "output_type": "stream",
     "text": [
      "Aopt1\n",
      "  5.723101 seconds (45.42 M allocations: 3.675 GiB, 10.34% gc time)\n"
     ]
    },
    {
     "name": "stderr",
     "output_type": "stream",
     "text": [
      "┌ Info: Genetic screen finished...\n",
      "└ @ Main In[14]:63\n",
      "┌ Info: (\"Aopt_motif\", Any[172, 146, 155, 105, 54, 4, 67, 199, 150, 71, 58, 40, 42, 151, 88, 84, 31, 133, 198, 172])\n",
      "└ @ Main In[14]:64\n"
     ]
    },
    {
     "name": "stdout",
     "output_type": "stream",
     "text": [
      "Aopt1\n",
      "  3.138497 seconds (23.57 M allocations: 1.907 GiB, 9.86% gc time)\n"
     ]
    },
    {
     "name": "stderr",
     "output_type": "stream",
     "text": [
      "┌ Info: Genetic screen finished...\n",
      "└ @ Main In[14]:63\n",
      "┌ Info: (\"Aopt_motif\", Any[50, 158, 99, 94, 79, 100, 33, 41, 122, 129, 88, 85, 80, 190, 176, 171, 182, 118, 169, 8])\n",
      "└ @ Main In[14]:64\n"
     ]
    },
    {
     "name": "stdout",
     "output_type": "stream",
     "text": [
      "Aopt1\n",
      "  4.832874 seconds (38.04 M allocations: 3.077 GiB, 10.22% gc time)\n"
     ]
    },
    {
     "name": "stderr",
     "output_type": "stream",
     "text": [
      "┌ Info: Genetic screen finished...\n",
      "└ @ Main In[14]:63\n",
      "┌ Info: (\"Aopt_motif\", Any[23, 28, 183, 144, 201, 187, 35, 158, 201, 131, 76, 2, 56, 43, 121, 103, 107, 104, 117, 144])\n",
      "└ @ Main In[14]:64\n"
     ]
    },
    {
     "name": "stdout",
     "output_type": "stream",
     "text": [
      "Aopt1\n",
      "  2.746273 seconds (21.17 M allocations: 1.714 GiB, 9.93% gc time)\n"
     ]
    },
    {
     "name": "stderr",
     "output_type": "stream",
     "text": [
      "┌ Info: Genetic screen finished...\n",
      "└ @ Main In[14]:63\n",
      "┌ Info: (\"Aopt_motif\", Any[9, 164, 92, 24, 155, 170, 97, 140, 194, 179, 170, 125, 151, 153, 21, 93, 188, 186, 110, 182])\n",
      "└ @ Main In[14]:64\n"
     ]
    },
    {
     "name": "stdout",
     "output_type": "stream",
     "text": [
      "Aopt1\n",
      "  3.356538 seconds (25.85 M allocations: 2.091 GiB, 10.01% gc time)\n"
     ]
    },
    {
     "name": "stderr",
     "output_type": "stream",
     "text": [
      "┌ Info: Genetic screen finished...\n",
      "└ @ Main In[14]:63\n",
      "┌ Info: (\"Aopt_motif\", Any[118, 6, 65, 20, 16, 92, 94, 24, 7, 41, 46, 155, 11, 184, 15, 47, 175, 39, 190, 195])\n",
      "└ @ Main In[14]:64\n"
     ]
    },
    {
     "name": "stdout",
     "output_type": "stream",
     "text": [
      "Aopt1\n",
      "  2.105669 seconds (16.19 M allocations: 1.311 GiB, 9.92% gc time)\n"
     ]
    },
    {
     "name": "stderr",
     "output_type": "stream",
     "text": [
      "┌ Info: Genetic screen finished...\n",
      "└ @ Main In[14]:63\n",
      "┌ Info: (\"Aopt_motif\", Any[19, 115, 165, 36, 105, 28, 150, 160, 111, 11, 126, 104, 130, 89, 16, 88, 199, 177, 163, 130])\n",
      "└ @ Main In[14]:64\n"
     ]
    },
    {
     "name": "stdout",
     "output_type": "stream",
     "text": [
      "Aopt1\n",
      "  4.378671 seconds (34.33 M allocations: 2.777 GiB, 10.21% gc time)\n"
     ]
    },
    {
     "name": "stderr",
     "output_type": "stream",
     "text": [
      "┌ Info: Genetic screen finished...\n",
      "└ @ Main In[14]:63\n",
      "┌ Info: (\"Aopt_motif\", Any[5, 61, 179, 79, 96, 39, 188, 154, 110, 176, 12, 46, 70, 16, 99, 16, 201, 18, 80, 192])\n",
      "└ @ Main In[14]:64\n"
     ]
    },
    {
     "name": "stdout",
     "output_type": "stream",
     "text": [
      "Aopt1\n",
      "  4.045217 seconds (31.56 M allocations: 2.553 GiB, 10.21% gc time)\n"
     ]
    },
    {
     "name": "stderr",
     "output_type": "stream",
     "text": [
      "┌ Info: Genetic screen finished...\n",
      "└ @ Main In[14]:63\n",
      "┌ Info: (\"Aopt_motif\", Any[49, 75, 74, 20, 107, 123, 39, 155, 121, 128, 87, 84, 53, 19, 74, 7, 181, 44, 8, 161])\n",
      "└ @ Main In[14]:64\n"
     ]
    },
    {
     "name": "stdout",
     "output_type": "stream",
     "text": [
      "Aopt1\n",
      "  9.092710 seconds (72.25 M allocations: 5.841 GiB, 10.32% gc time)\n"
     ]
    },
    {
     "name": "stderr",
     "output_type": "stream",
     "text": [
      "┌ Info: Genetic screen finished...\n",
      "└ @ Main In[14]:63\n",
      "┌ Info: (\"Aopt_motif\", Any[124, 10, 149, 195, 180, 185, 2, 197, 170, 147, 92, 1, 84, 169, 22, 83, 29, 184, 25, 142])\n",
      "└ @ Main In[14]:64\n"
     ]
    },
    {
     "name": "stdout",
     "output_type": "stream",
     "text": [
      "Aopt1\n",
      "  2.532679 seconds (19.64 M allocations: 1.590 GiB, 10.04% gc time)\n"
     ]
    },
    {
     "name": "stderr",
     "output_type": "stream",
     "text": [
      "┌ Info: Genetic screen finished...\n",
      "└ @ Main In[14]:63\n",
      "┌ Info: (\"Aopt_motif\", Any[34, 168, 1, 139, 138, 12, 89, 2, 196, 173, 50, 139, 103, 63, 126, 59, 112, 201, 135, 45])\n",
      "└ @ Main In[14]:64\n"
     ]
    },
    {
     "name": "stdout",
     "output_type": "stream",
     "text": [
      "Aopt1\n",
      "  2.991439 seconds (22.36 M allocations: 1.809 GiB, 9.76% gc time)\n"
     ]
    },
    {
     "name": "stderr",
     "output_type": "stream",
     "text": [
      "┌ Info: Genetic screen finished...\n",
      "└ @ Main In[14]:63\n",
      "┌ Info: (\"Aopt_motif\", Any[163, 200, 73, 77, 197, 48, 198, 154, 51, 31, 86, 106, 185, 18, 85, 77, 42, 171, 159, 160])\n",
      "└ @ Main In[14]:64\n"
     ]
    },
    {
     "name": "stdout",
     "output_type": "stream",
     "text": [
      "Aopt1\n",
      "  4.223344 seconds (32.69 M allocations: 2.646 GiB, 10.07% gc time)\n"
     ]
    },
    {
     "name": "stderr",
     "output_type": "stream",
     "text": [
      "┌ Info: Genetic screen finished...\n",
      "└ @ Main In[14]:63\n",
      "┌ Info: (\"Aopt_motif\", Any[129, 141, 150, 181, 172, 62, 141, 47, 15, 66, 93, 29, 19, 70, 79, 176, 99, 110, 10, 87])\n",
      "└ @ Main In[14]:64\n"
     ]
    },
    {
     "name": "stdout",
     "output_type": "stream",
     "text": [
      "Aopt1\n",
      "  4.540743 seconds (35.90 M allocations: 2.903 GiB, 10.30% gc time)\n"
     ]
    },
    {
     "name": "stderr",
     "output_type": "stream",
     "text": [
      "┌ Info: Genetic screen finished...\n",
      "└ @ Main In[14]:63\n",
      "┌ Info: (\"Aopt_motif\", Any[18, 11, 39, 177, 147, 25, 160, 168, 28, 103, 176, 144, 65, 34, 88, 103, 102, 113, 61, 31])\n",
      "└ @ Main In[14]:64\n"
     ]
    },
    {
     "name": "stdout",
     "output_type": "stream",
     "text": [
      "Aopt1\n",
      "  5.436325 seconds (41.06 M allocations: 3.321 GiB, 9.80% gc time)\n"
     ]
    },
    {
     "name": "stderr",
     "output_type": "stream",
     "text": [
      "┌ Info: Genetic screen finished...\n",
      "└ @ Main In[14]:63\n",
      "┌ Info: (\"Aopt_motif\", Any[116, 159, 26, 68, 113, 106, 45, 26, 49, 76, 48, 51, 2, 72, 183, 23, 166, 28, 160, 134])\n",
      "└ @ Main In[14]:64\n"
     ]
    },
    {
     "name": "stdout",
     "output_type": "stream",
     "text": [
      "Aopt1\n",
      "  3.668189 seconds (28.95 M allocations: 2.342 GiB, 10.30% gc time)\n"
     ]
    },
    {
     "name": "stderr",
     "output_type": "stream",
     "text": [
      "┌ Info: Genetic screen finished...\n",
      "└ @ Main In[14]:63\n",
      "┌ Info: (\"Aopt_motif\", Any[201, 11, 24, 193, 175, 172, 16, 50, 77, 37, 194, 112, 189, 142, 60, 59, 30, 32, 130, 81])\n",
      "└ @ Main In[14]:64\n"
     ]
    },
    {
     "name": "stdout",
     "output_type": "stream",
     "text": [
      "Aopt1\n",
      "  4.325714 seconds (33.27 M allocations: 2.691 GiB, 10.03% gc time)\n"
     ]
    },
    {
     "name": "stderr",
     "output_type": "stream",
     "text": [
      "┌ Info: Genetic screen finished...\n",
      "└ @ Main In[14]:63\n",
      "┌ Info: (\"Aopt_motif\", Any[110, 156, 27, 18, 115, 85, 53, 195, 119, 126, 187, 143, 182, 18, 88, 15, 96, 64, 6, 131])\n",
      "└ @ Main In[14]:64\n"
     ]
    },
    {
     "name": "stdout",
     "output_type": "stream",
     "text": [
      "Aopt1\n",
      "  2.690337 seconds (21.22 M allocations: 1.717 GiB, 10.31% gc time)\n"
     ]
    },
    {
     "name": "stderr",
     "output_type": "stream",
     "text": [
      "┌ Info: Genetic screen finished...\n",
      "└ @ Main In[14]:63\n",
      "┌ Info: (\"Aopt_motif\", Any[90, 154, 26, 17, 154, 120, 29, 151, 133, 125, 54, 18, 50, 113, 81, 14, 114, 75, 5, 158])\n",
      "└ @ Main In[14]:64\n"
     ]
    },
    {
     "name": "stdout",
     "output_type": "stream",
     "text": [
      "Aopt1\n",
      "  6.266621 seconds (48.50 M allocations: 3.922 GiB, 10.14% gc time)\n"
     ]
    },
    {
     "name": "stderr",
     "output_type": "stream",
     "text": [
      "┌ Info: Genetic screen finished...\n",
      "└ @ Main In[14]:63\n",
      "┌ Info: (\"Aopt_motif\", Any[64, 171, 93, 105, 164, 95, 115, 163, 88, 150, 165, 144, 146, 66, 128, 76, 179, 77, 68, 23])\n",
      "└ @ Main In[14]:64\n"
     ]
    },
    {
     "name": "stdout",
     "output_type": "stream",
     "text": [
      "Aopt1\n",
      "  4.885937 seconds (37.43 M allocations: 3.029 GiB, 9.98% gc time)\n"
     ]
    },
    {
     "name": "stderr",
     "output_type": "stream",
     "text": [
      "┌ Info: Genetic screen finished...\n",
      "└ @ Main In[14]:63\n",
      "┌ Info: (\"Aopt_motif\", Any[168, 175, 77, 191, 15, 36, 51, 53, 178, 74, 3, 191, 24, 161, 105, 200, 171, 111, 59, 157])\n",
      "└ @ Main In[14]:64\n"
     ]
    },
    {
     "name": "stdout",
     "output_type": "stream",
     "text": [
      "Aopt1\n",
      "  6.324080 seconds (48.36 M allocations: 3.910 GiB, 9.97% gc time)\n"
     ]
    },
    {
     "name": "stderr",
     "output_type": "stream",
     "text": [
      "┌ Info: Genetic screen finished...\n",
      "└ @ Main In[14]:63\n",
      "┌ Info: (\"Aopt_motif\", Any[93, 201, 74, 20, 195, 100, 137, 5, 121, 125, 13, 31, 158, 126, 18, 78, 4, 32, 8, 153])\n",
      "└ @ Main In[14]:64\n"
     ]
    },
    {
     "name": "stdout",
     "output_type": "stream",
     "text": [
      "Aopt1\n",
      "  3.845723 seconds (30.50 M allocations: 2.469 GiB, 10.27% gc time)\n"
     ]
    },
    {
     "name": "stderr",
     "output_type": "stream",
     "text": [
      "┌ Info: Genetic screen finished...\n",
      "└ @ Main In[14]:63\n",
      "┌ Info: (\"Aopt_motif\", Any[107, 114, 172, 150, 39, 179, 94, 111, 44, 16, 194, 99, 44, 185, 15, 39, 94, 62, 75, 147])\n",
      "└ @ Main In[14]:64\n"
     ]
    },
    {
     "name": "stdout",
     "output_type": "stream",
     "text": [
      "Aopt1\n",
      "  5.427014 seconds (42.01 M allocations: 3.397 GiB, 10.10% gc time)\n"
     ]
    },
    {
     "name": "stderr",
     "output_type": "stream",
     "text": [
      "┌ Info: Genetic screen finished...\n",
      "└ @ Main In[14]:63\n",
      "┌ Info: (\"Aopt_motif\", Any[61, 179, 197, 47, 125, 192, 171, 159, 161, 40, 31, 17, 67, 89, 165, 57, 19, 176, 122, 142])\n",
      "└ @ Main In[14]:64\n"
     ]
    },
    {
     "name": "stdout",
     "output_type": "stream",
     "text": [
      "Aopt1\n",
      "  2.266163 seconds (17.14 M allocations: 1.389 GiB, 9.85% gc time)\n"
     ]
    },
    {
     "name": "stderr",
     "output_type": "stream",
     "text": [
      "┌ Info: Genetic screen finished...\n",
      "└ @ Main In[14]:63\n",
      "┌ Info: (\"Aopt_motif\", Any[170, 34, 95, 105, 21, 74, 99, 189, 56, 36, 131, 73, 76, 56, 118, 118, 57, 152, 35, 177])\n",
      "└ @ Main In[14]:64\n"
     ]
    },
    {
     "name": "stdout",
     "output_type": "stream",
     "text": [
      "Aopt1\n",
      "  4.717169 seconds (35.17 M allocations: 2.844 GiB, 9.73% gc time)\n"
     ]
    },
    {
     "name": "stderr",
     "output_type": "stream",
     "text": [
      "┌ Info: Genetic screen finished...\n",
      "└ @ Main In[14]:63\n",
      "┌ Info: (\"Aopt_motif\", Any[92, 21, 164, 140, 188, 168, 72, 173, 189, 133, 126, 175, 157, 78, 82, 74, 119, 113, 68, 6])\n",
      "└ @ Main In[14]:64\n"
     ]
    },
    {
     "name": "stdout",
     "output_type": "stream",
     "text": [
      "Aopt1\n",
      "  2.432423 seconds (19.01 M allocations: 1.538 GiB, 10.35% gc time)\n"
     ]
    },
    {
     "name": "stderr",
     "output_type": "stream",
     "text": [
      "┌ Info: Genetic screen finished...\n",
      "└ @ Main In[14]:63\n",
      "┌ Info: (\"Aopt_motif\", Any[12, 12, 128, 139, 161, 113, 9, 153, 57, 81, 99, 39, 123, 17, 100, 169, 56, 116, 154, 21])\n",
      "└ @ Main In[14]:64\n"
     ]
    },
    {
     "name": "stdout",
     "output_type": "stream",
     "text": [
      "Aopt1\n",
      "  3.777319 seconds (28.84 M allocations: 2.339 GiB, 9.90% gc time)\n"
     ]
    },
    {
     "name": "stderr",
     "output_type": "stream",
     "text": [
      "┌ Info: Genetic screen finished...\n",
      "└ @ Main In[14]:63\n",
      "┌ Info: (\"Aopt_motif\", Any[107, 110, 188, 1, 150, 103, 8, 20, 127, 128, 87, 88, 126, 19, 164, 7, 118, 13, 8, 118])\n",
      "└ @ Main In[14]:64\n"
     ]
    },
    {
     "name": "stdout",
     "output_type": "stream",
     "text": [
      "Aopt1\n",
      "  6.463104 seconds (50.39 M allocations: 4.076 GiB, 10.24% gc time)\n"
     ]
    },
    {
     "name": "stderr",
     "output_type": "stream",
     "text": [
      "┌ Info: Genetic screen finished...\n",
      "└ @ Main In[14]:63\n",
      "┌ Info: (\"Aopt_motif\", Any[21, 158, 75, 142, 156, 201, 12, 14, 122, 32, 121, 55, 54, 20, 103, 102, 20, 50, 149, 118])\n",
      "└ @ Main In[14]:64\n"
     ]
    },
    {
     "name": "stdout",
     "output_type": "stream",
     "text": [
      "Aopt1\n",
      "  4.652674 seconds (36.71 M allocations: 2.969 GiB, 10.31% gc time)\n"
     ]
    },
    {
     "name": "stderr",
     "output_type": "stream",
     "text": [
      "┌ Info: Genetic screen finished...\n",
      "└ @ Main In[14]:63\n",
      "┌ Info: (\"Aopt_motif\", Any[166, 76, 75, 189, 145, 124, 33, 137, 122, 129, 105, 85, 54, 197, 182, 8, 132, 52, 9, 196])\n",
      "└ @ Main In[14]:64\n"
     ]
    },
    {
     "name": "stdout",
     "output_type": "stream",
     "text": [
      "Aopt1\n",
      "  5.436130 seconds (43.45 M allocations: 3.513 GiB, 10.46% gc time)\n"
     ]
    },
    {
     "name": "stderr",
     "output_type": "stream",
     "text": [
      "┌ Info: Genetic screen finished...\n",
      "└ @ Main In[14]:63\n",
      "┌ Info: (\"Aopt_motif\", Any[140, 104, 44, 175, 110, 138, 142, 24, 130, 199, 117, 91, 171, 142, 196, 20, 10, 72, 98, 98])\n",
      "└ @ Main In[14]:64\n"
     ]
    },
    {
     "name": "stdout",
     "output_type": "stream",
     "text": [
      "Aopt1\n",
      "  4.992276 seconds (39.22 M allocations: 3.171 GiB, 10.28% gc time)\n"
     ]
    },
    {
     "name": "stderr",
     "output_type": "stream",
     "text": [
      "┌ Info: Genetic screen finished...\n",
      "└ @ Main In[14]:63\n",
      "┌ Info: (\"Aopt_motif\", Any[75, 45, 169, 123, 140, 158, 121, 198, 189, 192, 177, 23, 93, 75, 33, 172, 195, 194, 197, 65])\n",
      "└ @ Main In[14]:64\n"
     ]
    },
    {
     "name": "stdout",
     "output_type": "stream",
     "text": [
      "Aopt1\n",
      "  3.497972 seconds (26.44 M allocations: 2.141 GiB, 9.86% gc time)\n"
     ]
    },
    {
     "name": "stderr",
     "output_type": "stream",
     "text": [
      "┌ Info: Genetic screen finished...\n",
      "└ @ Main In[14]:63\n",
      "┌ Info: (\"Aopt_motif\", Any[110, 102, 80, 187, 188, 155, 118, 114, 181, 145, 51, 128, 47, 50, 165, 10, 124, 191, 62, 194])\n",
      "└ @ Main In[14]:64\n"
     ]
    },
    {
     "name": "stdout",
     "output_type": "stream",
     "text": [
      "Aopt1\n",
      "  4.438545 seconds (33.93 M allocations: 2.744 GiB, 9.95% gc time)\n"
     ]
    },
    {
     "name": "stderr",
     "output_type": "stream",
     "text": [
      "┌ Info: Genetic screen finished...\n",
      "└ @ Main In[14]:63\n",
      "┌ Info: (\"Aopt_motif\", Any[89, 39, 44, 90, 113, 45, 195, 48, 117, 67, 54, 80, 9, 167, 56, 3, 153, 28, 192, 169])\n",
      "└ @ Main In[14]:64\n"
     ]
    },
    {
     "name": "stdout",
     "output_type": "stream",
     "text": [
      "Aopt1\n",
      "  3.553795 seconds (27.69 M allocations: 2.240 GiB, 10.21% gc time)\n"
     ]
    },
    {
     "name": "stderr",
     "output_type": "stream",
     "text": [
      "┌ Info: Genetic screen finished...\n",
      "└ @ Main In[14]:63\n",
      "┌ Info: (\"Aopt_motif\", Any[169, 93, 192, 183, 51, 149, 146, 78, 83, 146, 131, 59, 151, 40, 147, 169, 136, 125, 81, 8])\n",
      "└ @ Main In[14]:64\n"
     ]
    },
    {
     "name": "stdout",
     "output_type": "stream",
     "text": [
      "Aopt1\n",
      "  4.814777 seconds (36.59 M allocations: 2.959 GiB, 9.99% gc time)\n"
     ]
    },
    {
     "name": "stderr",
     "output_type": "stream",
     "text": [
      "┌ Info: Genetic screen finished...\n",
      "└ @ Main In[14]:63\n",
      "┌ Info: (\"Aopt_motif\", Any[20, 74, 50, 194, 179, 130, 31, 28, 120, 50, 100, 31, 52, 122, 200, 16, 71, 31, 7, 160])\n",
      "└ @ Main In[14]:64\n"
     ]
    },
    {
     "name": "stdout",
     "output_type": "stream",
     "text": [
      "Aopt1\n",
      "  2.469742 seconds (19.38 M allocations: 1.569 GiB, 10.23% gc time)\n"
     ]
    },
    {
     "name": "stderr",
     "output_type": "stream",
     "text": [
      "┌ Info: Genetic screen finished...\n",
      "└ @ Main In[14]:63\n",
      "┌ Info: (\"Aopt_motif\", Any[85, 7, 77, 23, 119, 134, 14, 11, 75, 6, 90, 137, 56, 178, 131, 15, 17, 183, 11, 164])\n",
      "└ @ Main In[14]:64\n"
     ]
    },
    {
     "name": "stdout",
     "output_type": "stream",
     "text": [
      "Aopt1\n",
      "  2.621877 seconds (20.85 M allocations: 1.689 GiB, 10.40% gc time)\n"
     ]
    },
    {
     "name": "stderr",
     "output_type": "stream",
     "text": [
      "┌ Info: Genetic screen finished...\n",
      "└ @ Main In[14]:63\n",
      "┌ Info: (\"Aopt_motif\", Any[15, 76, 11, 195, 145, 62, 100, 107, 25, 120, 190, 162, 61, 135, 45, 1, 56, 125, 16, 196])\n",
      "└ @ Main In[14]:64\n"
     ]
    },
    {
     "name": "stdout",
     "output_type": "stream",
     "text": [
      "Aopt1\n",
      "  3.653020 seconds (27.70 M allocations: 2.241 GiB, 9.95% gc time)\n"
     ]
    },
    {
     "name": "stderr",
     "output_type": "stream",
     "text": [
      "┌ Info: Genetic screen finished...\n",
      "└ @ Main In[14]:63\n",
      "┌ Info: (\"Aopt_motif\", Any[135, 29, 38, 52, 36, 159, 18, 66, 47, 165, 31, 114, 102, 106, 123, 108, 76, 16, 134, 183])\n",
      "└ @ Main In[14]:64\n"
     ]
    },
    {
     "name": "stdout",
     "output_type": "stream",
     "text": [
      "Aopt1\n",
      "  4.716578 seconds (34.48 M allocations: 2.789 GiB, 9.59% gc time)\n"
     ]
    },
    {
     "name": "stderr",
     "output_type": "stream",
     "text": [
      "┌ Info: Genetic screen finished...\n",
      "└ @ Main In[14]:63\n",
      "┌ Info: (\"Aopt_motif\", Any[152, 153, 173, 157, 189, 146, 103, 94, 171, 171, 200, 55, 85, 111, 44, 189, 13, 13, 44, 132])\n",
      "└ @ Main In[14]:64\n"
     ]
    },
    {
     "name": "stdout",
     "output_type": "stream",
     "text": [
      "Aopt1\n",
      "  4.352560 seconds (34.04 M allocations: 2.753 GiB, 10.16% gc time)\n"
     ]
    },
    {
     "name": "stderr",
     "output_type": "stream",
     "text": [
      "┌ Info: Genetic screen finished...\n",
      "└ @ Main In[14]:63\n",
      "┌ Info: (\"Aopt_motif\", Any[117, 63, 68, 160, 130, 197, 90, 49, 174, 32, 91, 150, 141, 172, 112, 126, 167, 187, 172, 48])\n",
      "└ @ Main In[14]:64\n"
     ]
    },
    {
     "name": "stdout",
     "output_type": "stream",
     "text": [
      "Aopt1\n",
      "  4.379929 seconds (34.37 M allocations: 2.780 GiB, 10.33% gc time)\n"
     ]
    },
    {
     "name": "stderr",
     "output_type": "stream",
     "text": [
      "┌ Info: Genetic screen finished...\n",
      "└ @ Main In[14]:63\n",
      "┌ Info: (\"Aopt_motif\", Any[181, 9, 92, 24, 187, 144, 43, 137, 90, 200, 128, 174, 148, 23, 106, 118, 185, 66, 192, 11])\n",
      "└ @ Main In[14]:64\n"
     ]
    },
    {
     "name": "stdout",
     "output_type": "stream",
     "text": [
      "Aopt1\n",
      "  6.075779 seconds (47.13 M allocations: 3.810 GiB, 10.13% gc time)\n"
     ]
    },
    {
     "name": "stderr",
     "output_type": "stream",
     "text": [
      "┌ Info: Genetic screen finished...\n",
      "└ @ Main In[14]:63\n",
      "┌ Info: (\"Aopt_motif\", Any[114, 198, 188, 136, 127, 44, 139, 17, 49, 123, 98, 158, 184, 145, 61, 166, 188, 32, 83, 107])\n",
      "└ @ Main In[14]:64\n"
     ]
    },
    {
     "name": "stdout",
     "output_type": "stream",
     "text": [
      "Aopt1\n",
      "  5.486126 seconds (42.76 M allocations: 3.457 GiB, 10.22% gc time)\n"
     ]
    },
    {
     "name": "stderr",
     "output_type": "stream",
     "text": [
      "┌ Info: Genetic screen finished...\n",
      "└ @ Main In[14]:63\n",
      "┌ Info: (\"Aopt_motif\", Any[140, 104, 185, 181, 103, 183, 50, 174, 136, 9, 187, 129, 123, 117, 146, 27, 163, 47, 180, 104])\n",
      "└ @ Main In[14]:64\n"
     ]
    },
    {
     "name": "stdout",
     "output_type": "stream",
     "text": [
      "Aopt1\n",
      "  2.378715 seconds (18.45 M allocations: 1.493 GiB, 10.18% gc time)\n"
     ]
    },
    {
     "name": "stderr",
     "output_type": "stream",
     "text": [
      "┌ Info: Genetic screen finished...\n",
      "└ @ Main In[14]:63\n",
      "┌ Info: (\"Aopt_motif\", Any[95, 77, 76, 126, 54, 133, 81, 19, 138, 130, 15, 86, 24, 118, 151, 83, 45, 126, 18, 88])\n",
      "└ @ Main In[14]:64\n"
     ]
    },
    {
     "name": "stdout",
     "output_type": "stream",
     "text": [
      "Aopt1\n",
      "  4.899743 seconds (38.34 M allocations: 3.100 GiB, 10.27% gc time)\n"
     ]
    },
    {
     "name": "stderr",
     "output_type": "stream",
     "text": [
      "┌ Info: Genetic screen finished...\n",
      "└ @ Main In[14]:63\n",
      "┌ Info: (\"Aopt_motif\", Any[107, 115, 126, 137, 128, 180, 110, 168, 79, 41, 110, 100, 46, 154, 28, 71, 93, 108, 121, 88])\n",
      "└ @ Main In[14]:64\n"
     ]
    },
    {
     "name": "stdout",
     "output_type": "stream",
     "text": [
      "Aopt1\n",
      "  2.956295 seconds (22.15 M allocations: 1.792 GiB, 10.01% gc time)\n"
     ]
    },
    {
     "name": "stderr",
     "output_type": "stream",
     "text": [
      "┌ Info: Genetic screen finished...\n",
      "└ @ Main In[14]:63\n",
      "┌ Info: (\"Aopt_motif\", Any[80, 99, 157, 127, 196, 177, 85, 131, 20, 84, 66, 190, 128, 184, 81, 112, 38, 73, 33, 114])\n",
      "└ @ Main In[14]:64\n"
     ]
    },
    {
     "name": "stdout",
     "output_type": "stream",
     "text": [
      "Aopt1\n",
      "  5.497590 seconds (41.26 M allocations: 3.336 GiB, 9.84% gc time)\n"
     ]
    },
    {
     "name": "stderr",
     "output_type": "stream",
     "text": [
      "┌ Info: Genetic screen finished...\n",
      "└ @ Main In[14]:63\n",
      "┌ Info: (\"Aopt_motif\", Any[156, 1, 113, 129, 98, 128, 51, 88, 171, 28, 15, 73, 84, 128, 138, 35, 73, 126, 181, 126])\n",
      "└ @ Main In[14]:64\n"
     ]
    },
    {
     "name": "stdout",
     "output_type": "stream",
     "text": [
      "Aopt1\n",
      "  4.264993 seconds (34.17 M allocations: 2.763 GiB, 10.50% gc time)\n"
     ]
    },
    {
     "name": "stderr",
     "output_type": "stream",
     "text": [
      "┌ Info: Genetic screen finished...\n",
      "└ @ Main In[14]:63\n",
      "┌ Info: (\"Aopt_motif\", Any[40, 61, 173, 20, 170, 137, 180, 121, 127, 134, 105, 184, 158, 126, 74, 42, 120, 66, 148, 179])\n",
      "└ @ Main In[14]:64\n"
     ]
    },
    {
     "name": "stdout",
     "output_type": "stream",
     "text": [
      "Aopt1\n",
      "  3.341929 seconds (26.93 M allocations: 2.178 GiB, 10.59% gc time)\n"
     ]
    },
    {
     "name": "stderr",
     "output_type": "stream",
     "text": [
      "┌ Info: Genetic screen finished...\n",
      "└ @ Main In[14]:63\n",
      "┌ Info: (\"Aopt_motif\", Any[50, 158, 75, 21, 199, 41, 200, 41, 171, 129, 38, 158, 54, 20, 131, 171, 66, 183, 113, 196])\n",
      "└ @ Main In[14]:64\n"
     ]
    },
    {
     "name": "stdout",
     "output_type": "stream",
     "text": [
      "Aopt1\n",
      "  4.715362 seconds (37.54 M allocations: 3.035 GiB, 10.43% gc time)\n"
     ]
    },
    {
     "name": "stderr",
     "output_type": "stream",
     "text": [
      "┌ Info: Genetic screen finished...\n",
      "└ @ Main In[14]:63\n",
      "┌ Info: (\"Aopt_motif\", Any[97, 113, 28, 39, 125, 135, 139, 159, 125, 132, 91, 88, 88, 157, 106, 53, 69, 48, 181, 165])\n",
      "└ @ Main In[14]:64\n"
     ]
    },
    {
     "name": "stdout",
     "output_type": "stream",
     "text": [
      "Aopt1\n",
      "  6.210044 seconds (50.84 M allocations: 4.110 GiB, 10.79% gc time)\n"
     ]
    },
    {
     "name": "stderr",
     "output_type": "stream",
     "text": [
      "┌ Info: Genetic screen finished...\n",
      "└ @ Main In[14]:63\n",
      "┌ Info: (\"Aopt_motif\", Any[57, 136, 142, 143, 175, 18, 201, 24, 84, 121, 145, 184, 11, 88, 23, 103, 143, 78, 16, 86])\n",
      "└ @ Main In[14]:64\n"
     ]
    },
    {
     "name": "stdout",
     "output_type": "stream",
     "text": [
      "Aopt1\n",
      "  3.899915 seconds (30.42 M allocations: 2.460 GiB, 10.22% gc time)\n"
     ]
    },
    {
     "name": "stderr",
     "output_type": "stream",
     "text": [
      "┌ Info: Genetic screen finished...\n",
      "└ @ Main In[14]:63\n",
      "┌ Info: (\"Aopt_motif\", Any[87, 66, 187, 188, 71, 174, 59, 129, 180, 153, 92, 19, 96, 154, 79, 67, 77, 8, 21, 147])\n",
      "└ @ Main In[14]:64\n"
     ]
    },
    {
     "name": "stdout",
     "output_type": "stream",
     "text": [
      "Aopt1\n",
      "  3.537202 seconds (26.59 M allocations: 2.151 GiB, 9.91% gc time)\n"
     ]
    },
    {
     "name": "stderr",
     "output_type": "stream",
     "text": [
      "┌ Info: Genetic screen finished...\n",
      "└ @ Main In[14]:63\n",
      "┌ Info: (\"Aopt_motif\", Any[83, 15, 131, 194, 43, 130, 55, 40, 144, 135, 69, 195, 9, 140, 84, 76, 121, 138, 102, 60])\n",
      "└ @ Main In[14]:64\n"
     ]
    },
    {
     "name": "stdout",
     "output_type": "stream",
     "text": [
      "Aopt1\n",
      "  5.221482 seconds (41.45 M allocations: 3.352 GiB, 10.38% gc time)\n"
     ]
    },
    {
     "name": "stderr",
     "output_type": "stream",
     "text": [
      "┌ Info: Genetic screen finished...\n",
      "└ @ Main In[14]:63\n",
      "┌ Info: (\"Aopt_motif\", Any[6, 53, 74, 141, 1, 49, 32, 106, 170, 89, 58, 84, 17, 76, 102, 101, 181, 44, 9, 189])\n",
      "└ @ Main In[14]:64\n"
     ]
    },
    {
     "name": "stdout",
     "output_type": "stream",
     "text": [
      "Aopt1\n",
      "  2.373891 seconds (18.57 M allocations: 1.503 GiB, 10.53% gc time)\n"
     ]
    },
    {
     "name": "stderr",
     "output_type": "stream",
     "text": [
      "┌ Info: Genetic screen finished...\n",
      "└ @ Main In[14]:63\n",
      "┌ Info: (\"Aopt_motif\", Any[190, 182, 54, 12, 91, 93, 13, 152, 98, 39, 152, 46, 141, 16, 99, 159, 27, 104, 165, 197])\n",
      "└ @ Main In[14]:64\n"
     ]
    },
    {
     "name": "stdout",
     "output_type": "stream",
     "text": [
      "Aopt1\n",
      "  3.813436 seconds (28.89 M allocations: 2.336 GiB, 9.97% gc time)\n"
     ]
    },
    {
     "name": "stderr",
     "output_type": "stream",
     "text": [
      "┌ Info: Genetic screen finished...\n",
      "└ @ Main In[14]:63\n",
      "┌ Info: (\"Aopt_motif\", Any[181, 181, 74, 9, 21, 69, 27, 106, 2, 61, 31, 190, 46, 158, 185, 118, 125, 66, 158, 177])\n",
      "└ @ Main In[14]:64\n"
     ]
    },
    {
     "name": "stdout",
     "output_type": "stream",
     "text": [
      "Aopt1\n",
      "  4.941021 seconds (37.40 M allocations: 3.024 GiB, 10.02% gc time)\n"
     ]
    },
    {
     "name": "stderr",
     "output_type": "stream",
     "text": [
      "┌ Info: Genetic screen finished...\n",
      "└ @ Main In[14]:63\n",
      "┌ Info: (\"Aopt_motif\", Any[106, 77, 98, 111, 113, 105, 13, 123, 109, 121, 142, 41, 115, 96, 121, 83, 159, 37, 187, 9])\n",
      "└ @ Main In[14]:64\n"
     ]
    },
    {
     "name": "stdout",
     "output_type": "stream",
     "text": [
      "Aopt1\n",
      "  2.573202 seconds (19.75 M allocations: 1.598 GiB, 10.03% gc time)\n"
     ]
    },
    {
     "name": "stderr",
     "output_type": "stream",
     "text": [
      "┌ Info: Genetic screen finished...\n",
      "└ @ Main In[14]:63\n",
      "┌ Info: (\"Aopt_motif\", Any[99, 145, 97, 170, 6, 154, 150, 65, 93, 168, 133, 44, 195, 103, 136, 120, 55, 13, 37, 31])\n",
      "└ @ Main In[14]:64\n"
     ]
    },
    {
     "name": "stdout",
     "output_type": "stream",
     "text": [
      "Aopt1\n",
      "  4.827110 seconds (36.03 M allocations: 2.914 GiB, 9.89% gc time)\n"
     ]
    },
    {
     "name": "stderr",
     "output_type": "stream",
     "text": [
      "┌ Info: Genetic screen finished...\n",
      "└ @ Main In[14]:63\n",
      "┌ Info: (\"Aopt_motif\", Any[94, 76, 75, 36, 199, 124, 33, 25, 137, 129, 14, 85, 72, 20, 103, 18, 182, 45, 9, 162])\n",
      "└ @ Main In[14]:64\n"
     ]
    },
    {
     "name": "stdout",
     "output_type": "stream",
     "text": [
      "Aopt1\n",
      "  8.282665 seconds (67.94 M allocations: 5.492 GiB, 10.83% gc time)\n"
     ]
    },
    {
     "name": "stderr",
     "output_type": "stream",
     "text": [
      "┌ Info: Genetic screen finished...\n",
      "└ @ Main In[14]:63\n",
      "┌ Info: (\"Aopt_motif\", Any[88, 18, 72, 143, 158, 101, 12, 122, 14, 5, 119, 86, 101, 89, 30, 122, 81, 181, 90, 79])\n",
      "└ @ Main In[14]:64\n"
     ]
    },
    {
     "name": "stdout",
     "output_type": "stream",
     "text": [
      "Aopt1\n",
      "  2.658854 seconds (20.57 M allocations: 1.664 GiB, 10.21% gc time)\n"
     ]
    },
    {
     "name": "stderr",
     "output_type": "stream",
     "text": [
      "┌ Info: Genetic screen finished...\n",
      "└ @ Main In[14]:63\n",
      "┌ Info: (\"Aopt_motif\", Any[107, 12, 136, 136, 76, 100, 6, 117, 30, 68, 125, 168, 36, 63, 15, 81, 161, 73, 107, 122])\n",
      "└ @ Main In[14]:64\n"
     ]
    },
    {
     "name": "stdout",
     "output_type": "stream",
     "text": [
      "Aopt1\n",
      "  4.359769 seconds (33.57 M allocations: 2.717 GiB, 10.15% gc time)\n"
     ]
    },
    {
     "name": "stderr",
     "output_type": "stream",
     "text": [
      "┌ Info: Genetic screen finished...\n",
      "└ @ Main In[14]:63\n",
      "┌ Info: (\"Aopt_motif\", Any[17, 160, 77, 144, 186, 26, 5, 139, 13, 104, 145, 165, 56, 88, 105, 20, 136, 47, 161, 164])\n",
      "└ @ Main In[14]:64\n"
     ]
    },
    {
     "name": "stdout",
     "output_type": "stream",
     "text": [
      "Aopt1\n",
      "  5.213984 seconds (40.98 M allocations: 3.315 GiB, 10.36% gc time)\n"
     ]
    },
    {
     "name": "stderr",
     "output_type": "stream",
     "text": [
      "┌ Info: Genetic screen finished...\n",
      "└ @ Main In[14]:63\n",
      "┌ Info: (\"Aopt_motif\", Any[92, 74, 87, 19, 120, 68, 198, 154, 120, 127, 188, 20, 143, 55, 73, 61, 180, 43, 7, 160])\n",
      "└ @ Main In[14]:64\n"
     ]
    },
    {
     "name": "stdout",
     "output_type": "stream",
     "text": [
      "Aopt1\n",
      "  8.343219 seconds (65.67 M allocations: 5.310 GiB, 10.40% gc time)\n"
     ]
    },
    {
     "name": "stderr",
     "output_type": "stream",
     "text": [
      "┌ Info: Genetic screen finished...\n",
      "└ @ Main In[14]:63\n",
      "┌ Info: (\"Aopt_motif\", Any[50, 158, 75, 21, 2, 124, 40, 156, 122, 129, 88, 74, 72, 20, 103, 18, 132, 33, 9, 8])\n",
      "└ @ Main In[14]:64\n"
     ]
    },
    {
     "name": "stdout",
     "output_type": "stream",
     "text": [
      "Aopt1\n",
      "  7.112451 seconds (57.77 M allocations: 4.670 GiB, 10.68% gc time)\n"
     ]
    },
    {
     "name": "stderr",
     "output_type": "stream",
     "text": [
      "┌ Info: Genetic screen finished...\n",
      "└ @ Main In[14]:63\n",
      "┌ Info: (\"Aopt_motif\", Any[38, 108, 146, 143, 125, 44, 178, 159, 70, 10, 20, 180, 159, 75, 79, 51, 122, 128, 166, 27])\n",
      "└ @ Main In[14]:64\n"
     ]
    },
    {
     "name": "stdout",
     "output_type": "stream",
     "text": [
      "Aopt1\n",
      "  2.777777 seconds (22.20 M allocations: 1.796 GiB, 10.56% gc time)\n"
     ]
    },
    {
     "name": "stderr",
     "output_type": "stream",
     "text": [
      "┌ Info: Genetic screen finished...\n",
      "└ @ Main In[14]:63\n",
      "┌ Info: (\"Aopt_motif\", Any[94, 158, 89, 21, 199, 124, 33, 156, 122, 129, 88, 85, 54, 197, 131, 18, 164, 97, 57, 120])\n",
      "└ @ Main In[14]:64\n"
     ]
    },
    {
     "name": "stdout",
     "output_type": "stream",
     "text": [
      "Aopt1\n",
      "  7.441383 seconds (60.45 M allocations: 4.886 GiB, 10.74% gc time)\n"
     ]
    },
    {
     "name": "stderr",
     "output_type": "stream",
     "text": [
      "┌ Info: Genetic screen finished...\n",
      "└ @ Main In[14]:63\n",
      "┌ Info: (\"Aopt_motif\", Any[39, 112, 122, 3, 124, 26, 177, 43, 124, 131, 90, 86, 16, 22, 77, 52, 18, 125, 184, 120])\n",
      "└ @ Main In[14]:64\n"
     ]
    },
    {
     "name": "stdout",
     "output_type": "stream",
     "text": [
      "Aopt1\n",
      "  3.991113 seconds (32.81 M allocations: 2.655 GiB, 10.82% gc time)\n"
     ]
    },
    {
     "name": "stderr",
     "output_type": "stream",
     "text": [
      "┌ Info: Genetic screen finished...\n",
      "└ @ Main In[14]:63\n",
      "┌ Info: (\"Aopt_motif\", Any[104, 141, 180, 159, 103, 192, 105, 137, 188, 73, 107, 64, 62, 38, 132, 26, 148, 59, 104, 128])\n",
      "└ @ Main In[14]:64\n"
     ]
    },
    {
     "name": "stdout",
     "output_type": "stream",
     "text": [
      "Aopt1\n",
      "  4.050738 seconds (31.68 M allocations: 2.562 GiB, 10.34% gc time)\n"
     ]
    },
    {
     "name": "stderr",
     "output_type": "stream",
     "text": [
      "┌ Info: Genetic screen finished...\n",
      "└ @ Main In[14]:63\n",
      "┌ Info: (\"Aopt_motif\", Any[96, 160, 77, 144, 183, 126, 42, 43, 124, 131, 90, 87, 43, 22, 13, 27, 184, 47, 11, 120])\n",
      "└ @ Main In[14]:64\n"
     ]
    },
    {
     "name": "stdout",
     "output_type": "stream",
     "text": [
      "Aopt1\n",
      "  2.450498 seconds (20.02 M allocations: 1.620 GiB, 10.82% gc time)\n"
     ]
    },
    {
     "name": "stderr",
     "output_type": "stream",
     "text": [
      "┌ Info: Genetic screen finished...\n",
      "└ @ Main In[14]:63\n",
      "┌ Info: (\"Aopt_motif\", Any[125, 57, 72, 18, 153, 120, 46, 131, 197, 190, 85, 104, 140, 167, 45, 73, 116, 29, 108, 198])\n",
      "└ @ Main In[14]:64\n"
     ]
    },
    {
     "name": "stdout",
     "output_type": "stream",
     "text": [
      "Aopt1\n",
      "  3.689342 seconds (28.15 M allocations: 2.276 GiB, 10.13% gc time)\n"
     ]
    },
    {
     "name": "stderr",
     "output_type": "stream",
     "text": [
      "┌ Info: Genetic screen finished...\n",
      "└ @ Main In[14]:63\n",
      "┌ Info: (\"Aopt_motif\", Any[125, 96, 81, 179, 47, 117, 26, 181, 130, 199, 52, 195, 69, 13, 95, 173, 125, 95, 15, 62])\n",
      "└ @ Main In[14]:64\n"
     ]
    },
    {
     "name": "stdout",
     "output_type": "stream",
     "text": [
      "Aopt1\n",
      "  4.096604 seconds (30.88 M allocations: 2.497 GiB, 10.10% gc time)\n"
     ]
    },
    {
     "name": "stderr",
     "output_type": "stream",
     "text": [
      "┌ Info: Genetic screen finished...\n",
      "└ @ Main In[14]:63\n",
      "┌ Info: (\"Aopt_motif\", Any[39, 159, 67, 37, 126, 48, 134, 113, 28, 177, 142, 34, 185, 152, 22, 19, 45, 31, 129, 83])\n",
      "└ @ Main In[14]:64\n"
     ]
    },
    {
     "name": "stdout",
     "output_type": "stream",
     "text": [
      "Aopt1\n",
      "  4.075374 seconds (31.67 M allocations: 2.561 GiB, 10.20% gc time)\n"
     ]
    },
    {
     "name": "stderr",
     "output_type": "stream",
     "text": [
      "┌ Info: Genetic screen finished...\n",
      "└ @ Main In[14]:63\n",
      "┌ Info: (\"Aopt_motif\", Any[180, 178, 123, 175, 173, 143, 45, 195, 193, 77, 90, 76, 56, 6, 80, 3, 6, 72, 11, 117])\n",
      "└ @ Main In[14]:64\n"
     ]
    },
    {
     "name": "stdout",
     "output_type": "stream",
     "text": [
      "Aopt1\n",
      "  3.827913 seconds (29.58 M allocations: 2.392 GiB, 10.22% gc time)\n"
     ]
    },
    {
     "name": "stderr",
     "output_type": "stream",
     "text": [
      "┌ Info: Genetic screen finished...\n",
      "└ @ Main In[14]:63\n",
      "┌ Info: (\"Aopt_motif\", Any[17, 17, 38, 106, 57, 79, 16, 64, 199, 155, 4, 151, 100, 46, 121, 54, 107, 172, 58, 34])\n",
      "└ @ Main In[14]:64\n"
     ]
    },
    {
     "name": "stdout",
     "output_type": "stream",
     "text": [
      "Aopt1\n",
      "  3.350639 seconds (25.18 M allocations: 2.037 GiB, 10.01% gc time)\n"
     ]
    },
    {
     "name": "stderr",
     "output_type": "stream",
     "text": [
      "┌ Info: Genetic screen finished...\n",
      "└ @ Main In[14]:63\n",
      "┌ Info: (\"Aopt_motif\", Any[105, 141, 121, 160, 110, 64, 42, 121, 164, 15, 49, 58, 8, 142, 49, 52, 24, 111, 98, 104])\n",
      "└ @ Main In[14]:64\n"
     ]
    },
    {
     "name": "stdout",
     "output_type": "stream",
     "text": [
      "Aopt1\n",
      "  4.999689 seconds (39.45 M allocations: 3.190 GiB, 10.43% gc time)\n"
     ]
    },
    {
     "name": "stderr",
     "output_type": "stream",
     "text": [
      "┌ Info: Genetic screen finished...\n",
      "└ @ Main In[14]:63\n",
      "┌ Info: (\"Aopt_motif\", Any[98, 106, 1, 6, 89, 171, 44, 160, 132, 11, 96, 89, 93, 14, 135, 12, 186, 49, 13, 166])\n",
      "└ @ Main In[14]:64\n"
     ]
    },
    {
     "name": "stdout",
     "output_type": "stream",
     "text": [
      "Aopt1\n",
      "  4.463074 seconds (35.08 M allocations: 2.837 GiB, 10.42% gc time)\n"
     ]
    },
    {
     "name": "stderr",
     "output_type": "stream",
     "text": [
      "┌ Info: Genetic screen finished...\n",
      "└ @ Main In[14]:63\n",
      "┌ Info: (\"Aopt_motif\", Any[111, 11, 88, 14, 198, 58, 31, 108, 34, 26, 13, 199, 113, 116, 140, 188, 143, 134, 16, 104])\n",
      "└ @ Main In[14]:64\n"
     ]
    },
    {
     "name": "stdout",
     "output_type": "stream",
     "text": [
      "Aopt1\n",
      "  7.229552 seconds (55.30 M allocations: 4.470 GiB, 10.13% gc time)\n"
     ]
    },
    {
     "name": "stderr",
     "output_type": "stream",
     "text": [
      "┌ Info: Genetic screen finished...\n",
      "└ @ Main In[14]:63\n",
      "┌ Info: (\"Aopt_motif\", Any[180, 19, 122, 34, 124, 106, 138, 123, 101, 9, 40, 189, 16, 178, 63, 10, 142, 28, 167, 104])\n",
      "└ @ Main In[14]:64\n"
     ]
    },
    {
     "name": "stdout",
     "output_type": "stream",
     "text": [
      "Aopt1\n",
      "  2.626569 seconds (20.34 M allocations: 1.646 GiB, 10.22% gc time)\n"
     ]
    },
    {
     "name": "stderr",
     "output_type": "stream",
     "text": [
      "┌ Info: Genetic screen finished...\n",
      "└ @ Main In[14]:63\n",
      "┌ Info: (\"Aopt_motif\", Any[153, 171, 201, 184, 108, 193, 166, 88, 198, 32, 151, 85, 54, 45, 152, 118, 7, 9, 82, 143])\n",
      "└ @ Main In[14]:64\n"
     ]
    },
    {
     "name": "stdout",
     "output_type": "stream",
     "text": [
      "Aopt1\n",
      "  3.118035 seconds (24.11 M allocations: 1.950 GiB, 10.20% gc time)\n"
     ]
    },
    {
     "name": "stderr",
     "output_type": "stream",
     "text": [
      "┌ Info: Genetic screen finished...\n",
      "└ @ Main In[14]:63\n",
      "┌ Info: (\"Aopt_motif\", Any[95, 118, 155, 125, 185, 110, 176, 122, 123, 144, 201, 193, 42, 182, 62, 85, 165, 133, 79, 139])\n",
      "└ @ Main In[14]:64\n"
     ]
    },
    {
     "name": "stdout",
     "output_type": "stream",
     "text": [
      "Aopt1\n",
      "  3.370353 seconds (26.53 M allocations: 2.146 GiB, 10.48% gc time)\n"
     ]
    },
    {
     "name": "stderr",
     "output_type": "stream",
     "text": [
      "┌ Info: Genetic screen finished...\n",
      "└ @ Main In[14]:63\n",
      "┌ Info: (\"Aopt_motif\", Any[111, 75, 64, 20, 6, 53, 31, 38, 126, 118, 7, 32, 16, 163, 180, 188, 73, 44, 157, 188])\n",
      "└ @ Main In[14]:64\n"
     ]
    },
    {
     "name": "stdout",
     "output_type": "stream",
     "text": [
      "Aopt1\n",
      "  3.080957 seconds (23.90 M allocations: 1.933 GiB, 10.31% gc time)\n"
     ]
    },
    {
     "name": "stderr",
     "output_type": "stream",
     "text": [
      "┌ Info: Genetic screen finished...\n",
      "└ @ Main In[14]:63\n",
      "┌ Info: (\"Aopt_motif\", Any[10, 197, 25, 67, 156, 55, 98, 130, 145, 76, 96, 191, 13, 159, 70, 13, 169, 50, 174, 20])\n",
      "└ @ Main In[14]:64\n"
     ]
    },
    {
     "name": "stdout",
     "output_type": "stream",
     "text": [
      "Aopt1\n",
      "  4.231720 seconds (32.62 M allocations: 2.637 GiB, 10.31% gc time)\n"
     ]
    },
    {
     "name": "stderr",
     "output_type": "stream",
     "text": [
      "┌ Info: Genetic screen finished...\n",
      "└ @ Main In[14]:63\n",
      "┌ Info: (\"Aopt_motif\", Any[20, 89, 172, 9, 177, 174, 70, 172, 187, 86, 154, 11, 165, 93, 185, 46, 141, 101, 109, 42])\n",
      "└ @ Main In[14]:64\n"
     ]
    },
    {
     "name": "stdout",
     "output_type": "stream",
     "text": [
      "Aopt1\n",
      "  4.261543 seconds (32.78 M allocations: 2.651 GiB, 10.20% gc time)\n"
     ]
    },
    {
     "name": "stderr",
     "output_type": "stream",
     "text": [
      "┌ Info: Genetic screen finished...\n",
      "└ @ Main In[14]:63\n",
      "┌ Info: (\"Aopt_motif\", Any[41, 159, 76, 143, 118, 125, 127, 157, 123, 130, 89, 75, 55, 2, 104, 51, 183, 120, 112, 163])\n",
      "└ @ Main In[14]:64\n"
     ]
    },
    {
     "name": "stdout",
     "output_type": "stream",
     "text": [
      "Aopt1\n",
      "  5.225398 seconds (42.59 M allocations: 3.443 GiB, 10.79% gc time)\n"
     ]
    },
    {
     "name": "stderr",
     "output_type": "stream",
     "text": [
      "┌ Info: Genetic screen finished...\n",
      "└ @ Main In[14]:63\n",
      "┌ Info: (\"Aopt_motif\", Any[201, 58, 72, 82, 119, 67, 163, 153, 20, 1, 152, 119, 174, 17, 126, 76, 81, 42, 6, 70])\n",
      "└ @ Main In[14]:64\n"
     ]
    },
    {
     "name": "stdout",
     "output_type": "stream",
     "text": [
      "Aopt1\n",
      "  5.819650 seconds (44.38 M allocations: 3.593 GiB, 10.09% gc time)\n"
     ]
    },
    {
     "name": "stderr",
     "output_type": "stream",
     "text": [
      "┌ Info: Genetic screen finished...\n",
      "└ @ Main In[14]:63\n",
      "┌ Info: (\"Aopt_motif\", Any[117, 74, 87, 186, 120, 175, 198, 7, 50, 118, 86, 83, 52, 148, 101, 100, 180, 31, 167, 160])\n",
      "└ @ Main In[14]:64\n"
     ]
    },
    {
     "name": "stdout",
     "output_type": "stream",
     "text": [
      "Aopt1\n",
      "  7.259979 seconds (57.15 M allocations: 4.621 GiB, 10.45% gc time)\n"
     ]
    },
    {
     "name": "stderr",
     "output_type": "stream",
     "text": [
      "┌ Info: Genetic screen finished...\n",
      "└ @ Main In[14]:63\n",
      "┌ Info: (\"Aopt_motif\", Any[177, 142, 102, 80, 69, 144, 168, 192, 90, 166, 157, 98, 71, 46, 141, 139, 158, 11, 88, 179])\n",
      "└ @ Main In[14]:64\n"
     ]
    },
    {
     "name": "stdout",
     "output_type": "stream",
     "text": [
      "Aopt1\n",
      "  6.634332 seconds (49.14 M allocations: 3.972 GiB, 9.83% gc time)\n"
     ]
    },
    {
     "name": "stderr",
     "output_type": "stream",
     "text": [
      "┌ Info: Genetic screen finished...\n",
      "└ @ Main In[14]:63\n",
      "┌ Info: (\"Aopt_motif\", Any[126, 156, 73, 201, 120, 122, 31, 154, 120, 127, 12, 31, 52, 67, 101, 16, 180, 31, 7, 160])\n",
      "└ @ Main In[14]:64\n"
     ]
    },
    {
     "name": "stdout",
     "output_type": "stream",
     "text": [
      "Aopt1\n",
      "  6.928568 seconds (55.42 M allocations: 4.480 GiB, 10.57% gc time)\n"
     ]
    },
    {
     "name": "stderr",
     "output_type": "stream",
     "text": [
      "┌ Info: Genetic screen finished...\n",
      "└ @ Main In[14]:63\n",
      "┌ Info: (\"Aopt_motif\", Any[94, 158, 52, 21, 196, 124, 140, 8, 166, 47, 38, 85, 190, 113, 176, 78, 38, 132, 113, 115])\n",
      "└ @ Main In[14]:64\n"
     ]
    },
    {
     "name": "stdout",
     "output_type": "stream",
     "text": [
      "Aopt1\n",
      "  5.121131 seconds (40.29 M allocations: 3.259 GiB, 10.45% gc time)\n"
     ]
    },
    {
     "name": "stderr",
     "output_type": "stream",
     "text": [
      "┌ Info: Genetic screen finished...\n",
      "└ @ Main In[14]:63\n",
      "┌ Info: (\"Aopt_motif\", Any[201, 193, 105, 170, 184, 9, 48, 121, 168, 71, 36, 168, 199, 1, 74, 124, 71, 32, 140, 31])\n",
      "└ @ Main In[14]:64\n"
     ]
    },
    {
     "name": "stdout",
     "output_type": "stream",
     "text": [
      "Aopt1\n",
      "  4.401992 seconds (33.75 M allocations: 2.729 GiB, 10.21% gc time)\n"
     ]
    },
    {
     "name": "stderr",
     "output_type": "stream",
     "text": [
      "┌ Info: Genetic screen finished...\n",
      "└ @ Main In[14]:63\n",
      "┌ Info: (\"Aopt_motif\", Any[87, 160, 44, 92, 110, 134, 42, 138, 130, 90, 117, 65, 147, 142, 95, 10, 174, 95, 2, 135])\n",
      "└ @ Main In[14]:64\n"
     ]
    },
    {
     "name": "stdout",
     "output_type": "stream",
     "text": [
      "Aopt1\n",
      "  4.278993 seconds (33.41 M allocations: 2.701 GiB, 10.32% gc time)\n"
     ]
    },
    {
     "name": "stderr",
     "output_type": "stream",
     "text": [
      "┌ Info: Genetic screen finished...\n",
      "└ @ Main In[14]:63\n",
      "┌ Info: (\"Aopt_motif\", Any[127, 109, 74, 141, 121, 123, 78, 155, 136, 15, 37, 84, 53, 19, 84, 93, 191, 44, 168, 161])\n",
      "└ @ Main In[14]:64\n"
     ]
    },
    {
     "name": "stdout",
     "output_type": "stream",
     "text": [
      "Aopt1\n",
      "  7.705627 seconds (61.04 M allocations: 4.933 GiB, 10.51% gc time)\n"
     ]
    },
    {
     "name": "stderr",
     "output_type": "stream",
     "text": [
      "┌ Info: Genetic screen finished...\n",
      "└ @ Main In[14]:63\n",
      "┌ Info: (\"Aopt_motif\", Any[53, 156, 87, 19, 125, 50, 31, 28, 120, 20, 99, 180, 143, 75, 185, 73, 23, 181, 152, 140])\n",
      "└ @ Main In[14]:64\n"
     ]
    },
    {
     "name": "stdout",
     "output_type": "stream",
     "text": [
      "Aopt1\n",
      "  2.828102 seconds (22.36 M allocations: 1.810 GiB, 10.52% gc time)\n"
     ]
    },
    {
     "name": "stderr",
     "output_type": "stream",
     "text": [
      "┌ Info: Genetic screen finished...\n",
      "└ @ Main In[14]:63\n",
      "┌ Info: (\"Aopt_motif\", Any[62, 159, 91, 190, 162, 118, 194, 121, 163, 66, 145, 79, 55, 118, 166, 2, 120, 23, 106, 163])\n",
      "└ @ Main In[14]:64\n"
     ]
    },
    {
     "name": "stdout",
     "output_type": "stream",
     "text": [
      "Aopt1\n",
      "  2.405788 seconds (18.56 M allocations: 1.502 GiB, 10.21% gc time)\n"
     ]
    },
    {
     "name": "stderr",
     "output_type": "stream",
     "text": [
      "┌ Info: Genetic screen finished...\n",
      "└ @ Main In[14]:63\n",
      "┌ Info: (\"Aopt_motif\", Any[192, 152, 187, 193, 126, 145, 102, 47, 118, 11, 96, 93, 58, 172, 107, 22, 43, 113, 193, 194])\n",
      "└ @ Main In[14]:64\n"
     ]
    },
    {
     "name": "stdout",
     "output_type": "stream",
     "text": [
      "Aopt1\n",
      "  4.339131 seconds (34.02 M allocations: 2.754 GiB, 10.39% gc time)\n"
     ]
    },
    {
     "name": "stderr",
     "output_type": "stream",
     "text": [
      "┌ Info: Genetic screen finished...\n",
      "└ @ Main In[14]:63\n",
      "┌ Info: (\"Aopt_motif\", Any[13, 74, 101, 67, 70, 11, 158, 71, 106, 86, 35, 129, 197, 17, 127, 147, 81, 42, 182, 75])\n",
      "└ @ Main In[14]:64\n"
     ]
    },
    {
     "name": "stdout",
     "output_type": "stream",
     "text": [
      "Aopt1\n",
      "  3.855073 seconds (28.55 M allocations: 2.311 GiB, 9.81% gc time)\n"
     ]
    },
    {
     "name": "stderr",
     "output_type": "stream",
     "text": [
      "┌ Info: Genetic screen finished...\n",
      "└ @ Main In[14]:63\n",
      "┌ Info: (\"Aopt_motif\", Any[93, 157, 74, 20, 144, 123, 39, 40, 136, 128, 87, 128, 53, 19, 161, 17, 163, 44, 8, 161])\n",
      "└ @ Main In[14]:64\n"
     ]
    },
    {
     "name": "stdout",
     "output_type": "stream",
     "text": [
      "Aopt1\n",
      " 10.490290 seconds (83.71 M allocations: 6.765 GiB, 10.69% gc time)\n"
     ]
    },
    {
     "name": "stderr",
     "output_type": "stream",
     "text": [
      "┌ Info: Genetic screen finished...\n",
      "└ @ Main In[14]:63\n",
      "┌ Info: (\"Aopt_motif\", Any[18, 18, 141, 5, 168, 150, 83, 167, 36, 156, 66, 119, 199, 1, 156, 51, 91, 128, 33, 9])\n",
      "└ @ Main In[14]:64\n"
     ]
    },
    {
     "name": "stdout",
     "output_type": "stream",
     "text": [
      "Aopt1\n",
      "  4.808626 seconds (37.31 M allocations: 3.016 GiB, 10.29% gc time)\n"
     ]
    },
    {
     "name": "stderr",
     "output_type": "stream",
     "text": [
      "┌ Info: Genetic screen finished...\n",
      "└ @ Main In[14]:63\n",
      "┌ Info: (\"Aopt_motif\", Any[185, 112, 190, 22, 170, 199, 87, 199, 81, 100, 24, 57, 74, 21, 154, 9, 134, 52, 98, 120])\n",
      "└ @ Main In[14]:64\n"
     ]
    },
    {
     "name": "stdout",
     "output_type": "stream",
     "text": [
      "Aopt1\n",
      "  4.024370 seconds (30.94 M allocations: 2.502 GiB, 10.20% gc time)\n"
     ]
    },
    {
     "name": "stderr",
     "output_type": "stream",
     "text": [
      "┌ Info: Genetic screen finished...\n",
      "└ @ Main In[14]:63\n",
      "┌ Info: (\"Aopt_motif\", Any[127, 21, 25, 122, 190, 87, 159, 160, 105, 147, 17, 89, 104, 15, 159, 175, 98, 66, 174, 19])\n",
      "└ @ Main In[14]:64\n"
     ]
    },
    {
     "name": "stdout",
     "output_type": "stream",
     "text": [
      "Aopt1\n",
      "  5.667950 seconds (43.53 M allocations: 3.519 GiB, 10.21% gc time)\n"
     ]
    },
    {
     "name": "stderr",
     "output_type": "stream",
     "text": [
      "┌ Info: Genetic screen finished...\n",
      "└ @ Main In[14]:63\n",
      "┌ Info: (\"Aopt_motif\", Any[93, 157, 139, 124, 121, 49, 39, 155, 121, 71, 121, 84, 53, 19, 32, 7, 181, 44, 8, 161])\n",
      "└ @ Main In[14]:64\n"
     ]
    },
    {
     "name": "stdout",
     "output_type": "stream",
     "text": [
      "Aopt1\n",
      "  5.287596 seconds (42.15 M allocations: 3.407 GiB, 10.54% gc time)\n"
     ]
    },
    {
     "name": "stderr",
     "output_type": "stream",
     "text": [
      "┌ Info: Genetic screen finished...\n",
      "└ @ Main In[14]:63\n",
      "┌ Info: (\"Aopt_motif\", Any[60, 89, 108, 188, 38, 135, 39, 170, 114, 74, 105, 55, 198, 120, 14, 71, 93, 108, 143, 125])\n",
      "└ @ Main In[14]:64\n"
     ]
    },
    {
     "name": "stdout",
     "output_type": "stream",
     "text": [
      "Aopt1\n",
      "  4.411015 seconds (34.36 M allocations: 2.778 GiB, 10.34% gc time)\n"
     ]
    },
    {
     "name": "stderr",
     "output_type": "stream",
     "text": [
      "┌ Info: Genetic screen finished...\n",
      "└ @ Main In[14]:63\n",
      "┌ Info: (\"Aopt_motif\", Any[132, 190, 129, 186, 8, 42, 80, 154, 58, 80, 23, 113, 78, 38, 115, 161, 26, 117, 63, 25])\n",
      "└ @ Main In[14]:64\n"
     ]
    },
    {
     "name": "stdout",
     "output_type": "stream",
     "text": [
      "Aopt1\n",
      "  7.598963 seconds (57.80 M allocations: 4.672 GiB, 10.13% gc time)\n"
     ]
    },
    {
     "name": "stderr",
     "output_type": "stream",
     "text": [
      "┌ Info: Genetic screen finished...\n",
      "└ @ Main In[14]:63\n",
      "┌ Info: (\"Aopt_motif\", Any[193, 87, 17, 139, 165, 3, 7, 111, 118, 124, 186, 94, 38, 84, 16, 88, 199, 8, 101, 81])\n",
      "└ @ Main In[14]:64\n"
     ]
    },
    {
     "name": "stdout",
     "output_type": "stream",
     "text": [
      "Aopt1\n",
      "  4.141641 seconds (32.07 M allocations: 2.593 GiB, 10.35% gc time)\n"
     ]
    },
    {
     "name": "stderr",
     "output_type": "stream",
     "text": [
      "┌ Info: Genetic screen finished...\n",
      "└ @ Main In[14]:63\n",
      "┌ Info: (\"Aopt_motif\", Any[10, 138, 33, 36, 153, 135, 169, 33, 117, 60, 193, 88, 13, 90, 67, 53, 145, 55, 114, 165])\n",
      "└ @ Main In[14]:64\n"
     ]
    },
    {
     "name": "stdout",
     "output_type": "stream",
     "text": [
      "Aopt1\n",
      "  3.593486 seconds (28.06 M allocations: 2.269 GiB, 10.51% gc time)\n"
     ]
    },
    {
     "name": "stderr",
     "output_type": "stream",
     "text": [
      "┌ Info: Genetic screen finished...\n",
      "└ @ Main In[14]:63\n",
      "┌ Info: (\"Aopt_motif\", Any[10, 94, 186, 39, 159, 73, 129, 110, 64, 157, 147, 37, 75, 162, 59, 122, 98, 8, 152, 80])\n",
      "└ @ Main In[14]:64\n"
     ]
    },
    {
     "name": "stdout",
     "output_type": "stream",
     "text": [
      "Aopt1\n",
      "  2.667413 seconds (20.12 M allocations: 1.628 GiB, 10.01% gc time)\n"
     ]
    },
    {
     "name": "stderr",
     "output_type": "stream",
     "text": [
      "┌ Info: Genetic screen finished...\n",
      "└ @ Main In[14]:63\n",
      "┌ Info: (\"Aopt_motif\", Any[186, 156, 73, 19, 120, 58, 31, 105, 6, 127, 149, 83, 52, 18, 129, 16, 180, 43, 7, 187])\n",
      "└ @ Main In[14]:64\n"
     ]
    },
    {
     "name": "stdout",
     "output_type": "stream",
     "text": [
      "Aopt1\n",
      "  5.841852 seconds (46.94 M allocations: 3.794 GiB, 10.67% gc time)\n"
     ]
    },
    {
     "name": "stderr",
     "output_type": "stream",
     "text": [
      "┌ Info: Genetic screen finished...\n",
      "└ @ Main In[14]:63\n",
      "┌ Info: (\"Aopt_motif\", Any[123, 100, 172, 6, 75, 136, 172, 141, 94, 167, 126, 6, 143, 58, 17, 180, 109, 107, 23, 34])\n",
      "└ @ Main In[14]:64\n"
     ]
    },
    {
     "name": "stdout",
     "output_type": "stream",
     "text": [
      "Aopt1\n",
      "  4.785231 seconds (36.94 M allocations: 2.986 GiB, 10.33% gc time)\n"
     ]
    },
    {
     "name": "stderr",
     "output_type": "stream",
     "text": [
      "┌ Info: Genetic screen finished...\n",
      "└ @ Main In[14]:63\n",
      "┌ Info: (\"Aopt_motif\", Any[95, 159, 76, 22, 123, 25, 34, 42, 123, 130, 15, 136, 55, 21, 104, 51, 183, 63, 10, 163])\n",
      "└ @ Main In[14]:64\n"
     ]
    },
    {
     "name": "stdout",
     "output_type": "stream",
     "text": [
      "Aopt1\n",
      "  7.621432 seconds (61.95 M allocations: 5.007 GiB, 10.77% gc time)\n"
     ]
    },
    {
     "name": "stderr",
     "output_type": "stream",
     "text": [
      "┌ Info: Genetic screen finished...\n",
      "└ @ Main In[14]:63\n",
      "┌ Info: (\"Aopt_motif\", Any[92, 156, 28, 19, 120, 68, 31, 154, 6, 127, 149, 31, 52, 18, 73, 21, 180, 43, 7, 160])\n",
      "└ @ Main In[14]:64\n"
     ]
    },
    {
     "name": "stdout",
     "output_type": "stream",
     "text": [
      "Aopt1\n",
      "  8.646848 seconds (69.14 M allocations: 5.587 GiB, 10.62% gc time)\n"
     ]
    },
    {
     "name": "stderr",
     "output_type": "stream",
     "text": [
      "┌ Info: Genetic screen finished...\n",
      "└ @ Main In[14]:63\n",
      "┌ Info: (\"Aopt_motif\", Any[94, 76, 20, 21, 122, 124, 33, 137, 80, 129, 104, 85, 18, 69, 103, 189, 182, 33, 9, 162])\n",
      "└ @ Main In[14]:64\n"
     ]
    },
    {
     "name": "stdout",
     "output_type": "stream",
     "text": [
      "Aopt1\n",
      "  6.251767 seconds (50.73 M allocations: 4.100 GiB, 10.80% gc time)\n"
     ]
    },
    {
     "name": "stderr",
     "output_type": "stream",
     "text": [
      "┌ Info: Genetic screen finished...\n",
      "└ @ Main In[14]:63\n",
      "┌ Info: (\"Aopt_motif\", Any[165, 96, 10, 119, 191, 109, 131, 126, 76, 93, 116, 68, 28, 12, 195, 172, 124, 139, 153, 76])\n",
      "└ @ Main In[14]:64\n"
     ]
    },
    {
     "name": "stdout",
     "output_type": "stream",
     "text": [
      "Aopt1\n",
      "  4.322347 seconds (32.65 M allocations: 2.640 GiB, 10.10% gc time)\n"
     ]
    },
    {
     "name": "stderr",
     "output_type": "stream",
     "text": [
      "┌ Info: Genetic screen finished...\n",
      "└ @ Main In[14]:63\n",
      "┌ Info: (\"Aopt_motif\", Any[98, 135, 174, 153, 90, 138, 190, 126, 89, 169, 32, 144, 175, 25, 108, 137, 36, 78, 131, 123])\n",
      "└ @ Main In[14]:64\n"
     ]
    },
    {
     "name": "stdout",
     "output_type": "stream",
     "text": [
      "Aopt1\n",
      "  3.290214 seconds (25.54 M allocations: 2.066 GiB, 10.27% gc time)\n"
     ]
    },
    {
     "name": "stderr",
     "output_type": "stream",
     "text": [
      "┌ Info: Genetic screen finished...\n",
      "└ @ Main In[14]:63\n",
      "┌ Info: (\"Aopt_motif\", Any[165, 14, 188, 147, 134, 129, 39, 111, 127, 181, 127, 55, 186, 91, 26, 199, 49, 50, 164, 107])\n",
      "└ @ Main In[14]:64\n"
     ]
    },
    {
     "name": "stdout",
     "output_type": "stream",
     "text": [
      "Aopt1\n",
      "  5.318752 seconds (41.37 M allocations: 3.344 GiB, 10.39% gc time)\n"
     ]
    },
    {
     "name": "stderr",
     "output_type": "stream",
     "text": [
      "┌ Info: Genetic screen finished...\n",
      "└ @ Main In[14]:63\n",
      "┌ Info: (\"Aopt_motif\", Any[67, 94, 186, 101, 135, 118, 20, 19, 159, 52, 8, 92, 197, 92, 197, 96, 137, 8, 162, 136])\n",
      "└ @ Main In[14]:64\n"
     ]
    },
    {
     "name": "stdout",
     "output_type": "stream",
     "text": [
      "Aopt1\n",
      "  6.015096 seconds (45.48 M allocations: 3.676 GiB, 10.07% gc time)\n"
     ]
    },
    {
     "name": "stderr",
     "output_type": "stream",
     "text": [
      "┌ Info: Genetic screen finished...\n",
      "└ @ Main In[14]:63\n",
      "┌ Info: (\"Aopt_motif\", Any[133, 187, 51, 66, 42, 62, 125, 143, 51, 190, 155, 39, 137, 124, 102, 99, 118, 102, 195, 70])\n",
      "└ @ Main In[14]:64\n"
     ]
    },
    {
     "name": "stdout",
     "output_type": "stream",
     "text": [
      "Aopt1\n",
      "  6.292195 seconds (47.48 M allocations: 3.837 GiB, 10.09% gc time)\n"
     ]
    },
    {
     "name": "stderr",
     "output_type": "stream",
     "text": [
      "┌ Info: Genetic screen finished...\n",
      "└ @ Main In[14]:63\n",
      "┌ Info: (\"Aopt_motif\", Any[24, 161, 122, 153, 156, 133, 15, 138, 12, 132, 107, 88, 146, 23, 14, 85, 166, 126, 12, 121])\n",
      "└ @ Main In[14]:64\n"
     ]
    },
    {
     "name": "stdout",
     "output_type": "stream",
     "text": [
      "Aopt1\n",
      "  5.237035 seconds (41.74 M allocations: 3.374 GiB, 10.57% gc time)\n"
     ]
    },
    {
     "name": "stderr",
     "output_type": "stream",
     "text": [
      "┌ Info: Genetic screen finished...\n",
      "└ @ Main In[14]:63\n",
      "┌ Info: (\"Aopt_motif\", Any[94, 158, 89, 21, 184, 124, 40, 9, 52, 129, 59, 85, 54, 37, 131, 171, 182, 102, 9, 162])\n",
      "└ @ Main In[14]:64\n"
     ]
    },
    {
     "name": "stdout",
     "output_type": "stream",
     "text": [
      "Aopt1\n",
      "  5.462789 seconds (43.90 M allocations: 3.549 GiB, 10.80% gc time)\n"
     ]
    },
    {
     "name": "stderr",
     "output_type": "stream",
     "text": [
      "┌ Info: Genetic screen finished...\n",
      "└ @ Main In[14]:63\n",
      "┌ Info: (\"Aopt_motif\", Any[85, 125, 170, 133, 167, 134, 197, 89, 199, 108, 19, 125, 106, 161, 141, 54, 115, 10, 32, 30])\n",
      "└ @ Main In[14]:64\n"
     ]
    },
    {
     "name": "stdout",
     "output_type": "stream",
     "text": [
      "Aopt1\n",
      "  6.288740 seconds (48.23 M allocations: 3.898 GiB, 10.34% gc time)\n"
     ]
    },
    {
     "name": "stderr",
     "output_type": "stream",
     "text": [
      "┌ Info: Genetic screen finished...\n",
      "└ @ Main In[14]:63\n",
      "┌ Info: (\"Aopt_motif\", Any[58, 7, 66, 136, 43, 19, 17, 87, 128, 30, 167, 185, 179, 117, 24, 104, 75, 36, 17, 145])\n",
      "└ @ Main In[14]:64\n"
     ]
    },
    {
     "name": "stdout",
     "output_type": "stream",
     "text": [
      "Aopt1\n",
      "  6.058616 seconds (46.63 M allocations: 3.769 GiB, 10.31% gc time)\n"
     ]
    },
    {
     "name": "stderr",
     "output_type": "stream",
     "text": [
      "┌ Info: Genetic screen finished...\n",
      "└ @ Main In[14]:63\n",
      "┌ Info: (\"Aopt_motif\", Any[165, 157, 74, 141, 126, 123, 32, 80, 136, 32, 87, 84, 53, 19, 12, 17, 181, 44, 193, 161])\n",
      "└ @ Main In[14]:64\n"
     ]
    },
    {
     "name": "stdout",
     "output_type": "stream",
     "text": [
      "Aopt1\n",
      "  8.555537 seconds (69.08 M allocations: 5.583 GiB, 10.76% gc time)\n"
     ]
    },
    {
     "name": "stderr",
     "output_type": "stream",
     "text": [
      "┌ Info: Genetic screen finished...\n",
      "└ @ Main In[14]:63\n",
      "┌ Info: (\"Aopt_motif\", Any[80, 32, 99, 32, 35, 121, 8, 117, 20, 156, 200, 75, 164, 38, 128, 124, 61, 175, 33, 37])\n",
      "└ @ Main In[14]:64\n"
     ]
    },
    {
     "name": "stdout",
     "output_type": "stream",
     "text": [
      "Aopt1\n",
      "  4.188640 seconds (31.93 M allocations: 2.581 GiB, 10.17% gc time)\n"
     ]
    },
    {
     "name": "stderr",
     "output_type": "stream",
     "text": [
      "┌ Info: Genetic screen finished...\n",
      "└ @ Main In[14]:63\n",
      "┌ Info: (\"Aopt_motif\", Any[95, 24, 90, 143, 118, 125, 176, 122, 172, 17, 89, 141, 42, 151, 104, 190, 183, 46, 170, 163])\n",
      "└ @ Main In[14]:64\n"
     ]
    },
    {
     "name": "stdout",
     "output_type": "stream",
     "text": [
      "Aopt1\n",
      "  2.772753 seconds (22.11 M allocations: 1.788 GiB, 10.57% gc time)\n"
     ]
    },
    {
     "name": "stderr",
     "output_type": "stream",
     "text": [
      "┌ Info: Genetic screen finished...\n",
      "└ @ Main In[14]:63\n",
      "┌ Info: (\"Aopt_motif\", Any[152, 14, 10, 18, 50, 84, 68, 194, 70, 29, 152, 71, 199, 145, 150, 59, 35, 180, 83, 70])\n",
      "└ @ Main In[14]:64\n"
     ]
    },
    {
     "name": "stdout",
     "output_type": "stream",
     "text": [
      "Aopt1\n",
      "  4.205236 seconds (32.07 M allocations: 2.593 GiB, 10.24% gc time)\n"
     ]
    },
    {
     "name": "stderr",
     "output_type": "stream",
     "text": [
      "┌ Info: Genetic screen finished...\n",
      "└ @ Main In[14]:63\n",
      "┌ Info: (\"Aopt_motif\", Any[131, 121, 138, 44, 120, 104, 1, 9, 55, 20, 86, 43, 22, 128, 85, 119, 148, 125, 175, 109])\n",
      "└ @ Main In[14]:64\n"
     ]
    },
    {
     "name": "stdout",
     "output_type": "stream",
     "text": [
      "Aopt1\n",
      "  2.674493 seconds (20.74 M allocations: 1.678 GiB, 10.30% gc time)\n"
     ]
    },
    {
     "name": "stderr",
     "output_type": "stream",
     "text": [
      "┌ Info: Genetic screen finished...\n",
      "└ @ Main In[14]:63\n",
      "┌ Info: (\"Aopt_motif\", Any[42, 14, 31, 22, 162, 74, 13, 16, 138, 34, 103, 184, 74, 96, 65, 103, 196, 80, 129, 116])\n",
      "└ @ Main In[14]:64\n"
     ]
    },
    {
     "name": "stdout",
     "output_type": "stream",
     "text": [
      "Aopt1\n",
      "  5.809504 seconds (45.42 M allocations: 3.671 GiB, 10.44% gc time)\n"
     ]
    },
    {
     "name": "stderr",
     "output_type": "stream",
     "text": [
      "┌ Info: Genetic screen finished...\n",
      "└ @ Main In[14]:63\n",
      "┌ Info: (\"Aopt_motif\", Any[91, 155, 62, 38, 196, 121, 30, 38, 134, 19, 98, 179, 50, 17, 99, 78, 191, 99, 109, 139])\n",
      "└ @ Main In[14]:64\n"
     ]
    },
    {
     "name": "stdout",
     "output_type": "stream",
     "text": [
      "Aopt1\n",
      "  5.821784 seconds (46.21 M allocations: 3.738 GiB, 10.63% gc time)\n"
     ]
    },
    {
     "name": "stderr",
     "output_type": "stream",
     "text": [
      "┌ Info: Genetic screen finished...\n",
      "└ @ Main In[14]:63\n",
      "┌ Info: (\"Aopt_motif\", Any[191, 146, 92, 173, 171, 34, 153, 114, 94, 136, 63, 171, 106, 28, 84, 23, 90, 81, 28, 76])\n",
      "└ @ Main In[14]:64\n"
     ]
    },
    {
     "name": "stdout",
     "output_type": "stream",
     "text": [
      "Aopt1\n",
      "  5.825420 seconds (45.06 M allocations: 3.642 GiB, 10.42% gc time)\n"
     ]
    },
    {
     "name": "stderr",
     "output_type": "stream",
     "text": [
      "┌ Info: Genetic screen finished...\n",
      "└ @ Main In[14]:63\n",
      "┌ Info: (\"Aopt_motif\", Any[136, 76, 155, 171, 38, 34, 200, 30, 76, 90, 109, 25, 109, 116, 120, 1, 169, 36, 119, 201])\n",
      "└ @ Main In[14]:64\n"
     ]
    },
    {
     "name": "stdout",
     "output_type": "stream",
     "text": [
      "Aopt1\n",
      "  4.270214 seconds (32.35 M allocations: 2.615 GiB, 10.06% gc time)\n"
     ]
    },
    {
     "name": "stderr",
     "output_type": "stream",
     "text": [
      "┌ Info: Genetic screen finished...\n",
      "└ @ Main In[14]:63\n",
      "┌ Info: (\"Aopt_motif\", Any[53, 32, 47, 190, 35, 38, 187, 36, 62, 115, 85, 47, 82, 147, 17, 89, 200, 42, 139, 186])\n",
      "└ @ Main In[14]:64\n"
     ]
    },
    {
     "name": "stdout",
     "output_type": "stream",
     "text": [
      "Aopt1\n",
      "  4.094000 seconds (31.74 M allocations: 2.566 GiB, 10.37% gc time)\n"
     ]
    },
    {
     "name": "stderr",
     "output_type": "stream",
     "text": [
      "┌ Info: Genetic screen finished...\n",
      "└ @ Main In[14]:63\n",
      "┌ Info: (\"Aopt_motif\", Any[93, 157, 74, 141, 121, 49, 49, 136, 121, 71, 87, 84, 17, 175, 175, 17, 181, 44, 8, 161])\n",
      "└ @ Main In[14]:64\n"
     ]
    },
    {
     "name": "stdout",
     "output_type": "stream",
     "text": [
      "Aopt1\n",
      "  8.577747 seconds (67.66 M allocations: 5.467 GiB, 10.54% gc time)\n"
     ]
    },
    {
     "name": "stderr",
     "output_type": "stream",
     "text": [
      "┌ Info: Genetic screen finished...\n",
      "└ @ Main In[14]:63\n",
      "┌ Info: (\"Aopt_motif\", Any[95, 159, 76, 143, 113, 83, 34, 138, 146, 130, 89, 86, 73, 70, 183, 2, 183, 46, 170, 94])\n",
      "└ @ Main In[14]:64\n"
     ]
    },
    {
     "name": "stdout",
     "output_type": "stream",
     "text": [
      "Aopt1\n",
      "  5.601431 seconds (44.71 M allocations: 3.614 GiB, 10.65% gc time)\n"
     ]
    },
    {
     "name": "stderr",
     "output_type": "stream",
     "text": [
      "┌ Info: Genetic screen finished...\n",
      "└ @ Main In[14]:63\n",
      "┌ Info: (\"Aopt_motif\", Any[38, 132, 17, 18, 81, 95, 30, 153, 88, 117, 54, 82, 11, 95, 72, 15, 179, 64, 68, 159])\n",
      "└ @ Main In[14]:64\n"
     ]
    },
    {
     "name": "stdout",
     "output_type": "stream",
     "text": [
      "Aopt1\n",
      "  2.818648 seconds (22.02 M allocations: 1.781 GiB, 10.53% gc time)\n"
     ]
    },
    {
     "name": "stderr",
     "output_type": "stream",
     "text": [
      "┌ Info: Genetic screen finished...\n",
      "└ @ Main In[14]:63\n",
      "┌ Info: (\"Aopt_motif\", Any[92, 156, 73, 19, 120, 122, 198, 80, 120, 127, 86, 83, 182, 18, 101, 100, 180, 101, 7, 153])\n",
      "└ @ Main In[14]:64\n"
     ]
    },
    {
     "name": "stdout",
     "output_type": "stream",
     "text": [
      "Aopt1\n",
      " 10.299310 seconds (81.70 M allocations: 6.601 GiB, 10.60% gc time)\n"
     ]
    },
    {
     "name": "stderr",
     "output_type": "stream",
     "text": [
      "┌ Info: Genetic screen finished...\n",
      "└ @ Main In[14]:63\n",
      "┌ Info: (\"Aopt_motif\", Any[109, 40, 48, 70, 177, 37, 124, 98, 135, 125, 63, 81, 50, 162, 81, 97, 124, 190, 76, 153])\n",
      "└ @ Main In[14]:64\n"
     ]
    },
    {
     "name": "stdout",
     "output_type": "stream",
     "text": [
      "Aopt1\n",
      "  5.656406 seconds (43.60 M allocations: 3.524 GiB, 10.32% gc time)\n"
     ]
    },
    {
     "name": "stderr",
     "output_type": "stream",
     "text": [
      "┌ Info: Genetic screen finished...\n",
      "└ @ Main In[14]:63\n",
      "┌ Info: (\"Aopt_motif\", Any[171, 107, 146, 68, 178, 9, 96, 142, 107, 61, 127, 117, 150, 131, 176, 31, 94, 132, 37, 27])\n",
      "└ @ Main In[14]:64\n"
     ]
    },
    {
     "name": "stdout",
     "output_type": "stream",
     "text": [
      "Aopt1\n",
      "  4.951326 seconds (37.78 M allocations: 3.054 GiB, 10.20% gc time)\n"
     ]
    },
    {
     "name": "stderr",
     "output_type": "stream",
     "text": [
      "┌ Info: Genetic screen finished...\n",
      "└ @ Main In[14]:63\n",
      "┌ Info: (\"Aopt_motif\", Any[112, 35, 49, 19, 120, 122, 198, 154, 137, 127, 57, 161, 70, 148, 73, 100, 201, 161, 147, 113])\n",
      "└ @ Main In[14]:64\n"
     ]
    },
    {
     "name": "stdout",
     "output_type": "stream",
     "text": [
      "Aopt1\n",
      "  4.591614 seconds (35.90 M allocations: 2.902 GiB, 10.40% gc time)\n"
     ]
    },
    {
     "name": "stderr",
     "output_type": "stream",
     "text": [
      "┌ Info: Genetic screen finished...\n",
      "└ @ Main In[14]:63\n",
      "┌ Info: (\"Aopt_motif\", Any[43, 123, 13, 100, 61, 149, 3, 64, 11, 153, 25, 47, 167, 28, 117, 153, 68, 81, 43, 8])\n",
      "└ @ Main In[14]:64\n"
     ]
    },
    {
     "name": "stdout",
     "output_type": "stream",
     "text": [
      "Aopt1\n",
      "  4.268443 seconds (32.48 M allocations: 2.625 GiB, 10.19% gc time)\n"
     ]
    },
    {
     "name": "stderr",
     "output_type": "stream",
     "text": [
      "┌ Info: Genetic screen finished...\n",
      "└ @ Main In[14]:63\n",
      "┌ Info: (\"Aopt_motif\", Any[93, 75, 74, 141, 121, 131, 32, 155, 121, 128, 58, 84, 53, 97, 102, 17, 181, 32, 8, 161])\n",
      "└ @ Main In[14]:64\n"
     ]
    },
    {
     "name": "stdout",
     "output_type": "stream",
     "text": [
      "Aopt1\n",
      "  9.706508 seconds (78.26 M allocations: 6.324 GiB, 10.77% gc time)\n"
     ]
    },
    {
     "name": "stderr",
     "output_type": "stream",
     "text": [
      "┌ Info: Genetic screen finished...\n",
      "└ @ Main In[14]:63\n",
      "┌ Info: (\"Aopt_motif\", Any[93, 157, 74, 20, 121, 123, 32, 80, 121, 128, 87, 84, 17, 19, 12, 7, 181, 32, 8, 132])\n",
      "└ @ Main In[14]:64\n"
     ]
    },
    {
     "name": "stdout",
     "output_type": "stream",
     "text": [
      "Aopt1\n",
      "  7.623138 seconds (61.57 M allocations: 4.975 GiB, 10.92% gc time)\n"
     ]
    },
    {
     "name": "stderr",
     "output_type": "stream",
     "text": [
      "┌ Info: Genetic screen finished...\n",
      "└ @ Main In[14]:63\n",
      "┌ Info: (\"Aopt_motif\", Any[53, 113, 148, 145, 125, 135, 139, 123, 140, 132, 91, 174, 57, 4, 106, 75, 124, 48, 20, 165])\n",
      "└ @ Main In[14]:64\n"
     ]
    },
    {
     "name": "stdout",
     "output_type": "stream",
     "text": [
      "Aopt1\n",
      "  5.670195 seconds (46.54 M allocations: 3.763 GiB, 10.99% gc time)\n"
     ]
    },
    {
     "name": "stderr",
     "output_type": "stream",
     "text": [
      "┌ Info: Genetic screen finished...\n",
      "└ @ Main In[14]:63\n",
      "┌ Info: (\"Aopt_motif\", Any[96, 177, 170, 38, 124, 126, 35, 27, 124, 131, 90, 58, 56, 39, 133, 80, 1, 54, 11, 164])\n",
      "└ @ Main In[14]:64\n"
     ]
    },
    {
     "name": "stdout",
     "output_type": "stream",
     "text": [
      "Aopt1\n",
      "  6.004887 seconds (48.14 M allocations: 3.891 GiB, 10.73% gc time)\n"
     ]
    },
    {
     "name": "stderr",
     "output_type": "stream",
     "text": [
      "┌ Info: Genetic screen finished...\n",
      "└ @ Main In[14]:63\n",
      "┌ Info: (\"Aopt_motif\", Any[96, 104, 77, 144, 124, 126, 42, 139, 104, 131, 90, 87, 183, 22, 65, 20, 27, 121, 11, 164])\n",
      "└ @ Main In[14]:64\n"
     ]
    },
    {
     "name": "stdout",
     "output_type": "stream",
     "text": [
      "Aopt1\n",
      "  6.046776 seconds (48.14 M allocations: 3.891 GiB, 10.71% gc time)\n"
     ]
    },
    {
     "name": "stderr",
     "output_type": "stream",
     "text": [
      "┌ Info: Genetic screen finished...\n",
      "└ @ Main In[14]:63\n",
      "┌ Info: (\"Aopt_motif\", Any[53, 156, 63, 19, 125, 127, 36, 159, 125, 2, 91, 88, 162, 23, 106, 53, 11, 69, 12, 165])\n",
      "└ @ Main In[14]:64\n"
     ]
    },
    {
     "name": "stdout",
     "output_type": "stream",
     "text": [
      "Aopt1\n",
      "  8.020144 seconds (66.29 M allocations: 5.357 GiB, 11.03% gc time)\n"
     ]
    },
    {
     "name": "stderr",
     "output_type": "stream",
     "text": [
      "┌ Info: Genetic screen finished...\n",
      "└ @ Main In[14]:63\n",
      "┌ Info: (\"Aopt_motif\", Any[129, 111, 121, 147, 13, 132, 167, 42, 199, 33, 75, 116, 73, 114, 153, 119, 8, 18, 138, 30])\n",
      "└ @ Main In[14]:64\n"
     ]
    },
    {
     "name": "stdout",
     "output_type": "stream",
     "text": [
      "Aopt1\n",
      "  7.605855 seconds (59.04 M allocations: 4.771 GiB, 10.42% gc time)\n"
     ]
    },
    {
     "name": "stderr",
     "output_type": "stream",
     "text": [
      "┌ Info: Genetic screen finished...\n",
      "└ @ Main In[14]:63\n",
      "┌ Info: (\"Aopt_motif\", Any[196, 85, 102, 109, 60, 77, 133, 186, 157, 55, 158, 97, 80, 94, 155, 43, 61, 111, 139, 8])\n",
      "└ @ Main In[14]:64\n"
     ]
    },
    {
     "name": "stdout",
     "output_type": "stream",
     "text": [
      "Aopt1\n",
      "  4.621888 seconds (34.17 M allocations: 2.762 GiB, 9.89% gc time)\n"
     ]
    },
    {
     "name": "stderr",
     "output_type": "stream",
     "text": [
      "┌ Info: Genetic screen finished...\n",
      "└ @ Main In[14]:63\n",
      "┌ Info: (\"Aopt_motif\", Any[88, 6, 83, 149, 116, 118, 184, 193, 131, 68, 96, 21, 181, 172, 70, 26, 76, 119, 179, 135])\n",
      "└ @ Main In[14]:64\n"
     ]
    },
    {
     "name": "stdout",
     "output_type": "stream",
     "text": [
      "Aopt1\n",
      "  5.505019 seconds (42.80 M allocations: 3.459 GiB, 10.57% gc time)\n"
     ]
    },
    {
     "name": "stderr",
     "output_type": "stream",
     "text": [
      "┌ Info: Genetic screen finished...\n",
      "└ @ Main In[14]:63\n",
      "┌ Info: (\"Aopt_motif\", Any[166, 77, 76, 22, 123, 125, 191, 157, 45, 130, 1, 86, 15, 136, 183, 19, 159, 46, 10, 94])\n",
      "└ @ Main In[14]:64\n"
     ]
    },
    {
     "name": "stdout",
     "output_type": "stream",
     "text": [
      "Aopt1\n",
      "  8.049175 seconds (63.77 M allocations: 5.153 GiB, 10.61% gc time)\n"
     ]
    },
    {
     "name": "stderr",
     "output_type": "stream",
     "text": [
      "┌ Info: Genetic screen finished...\n",
      "└ @ Main In[14]:63\n",
      "┌ Info: (\"Aopt_motif\", Any[20, 198, 117, 139, 161, 166, 8, 189, 111, 98, 22, 45, 69, 173, 57, 124, 50, 178, 164, 177])\n",
      "└ @ Main In[14]:64\n"
     ]
    },
    {
     "name": "stdout",
     "output_type": "stream",
     "text": [
      "Aopt1\n",
      "  6.131141 seconds (46.44 M allocations: 3.753 GiB, 10.18% gc time)\n"
     ]
    },
    {
     "name": "stderr",
     "output_type": "stream",
     "text": [
      "┌ Info: Genetic screen finished...\n",
      "└ @ Main In[14]:63\n",
      "┌ Info: (\"Aopt_motif\", Any[123, 91, 11, 98, 51, 17, 126, 189, 154, 69, 12, 183, 185, 93, 101, 100, 193, 101, 117, 6])\n",
      "└ @ Main In[14]:64\n"
     ]
    },
    {
     "name": "stdout",
     "output_type": "stream",
     "text": [
      "Aopt1\n",
      " 10.644197 seconds (81.44 M allocations: 6.580 GiB, 10.27% gc time)\n"
     ]
    },
    {
     "name": "stderr",
     "output_type": "stream",
     "text": [
      "┌ Info: Genetic screen finished...\n",
      "└ @ Main In[14]:63\n",
      "┌ Info: (\"Aopt_motif\", Any[65, 34, 198, 192, 11, 23, 95, 52, 192, 180, 119, 126, 91, 87, 172, 19, 167, 6, 18, 119])\n",
      "└ @ Main In[14]:64\n"
     ]
    },
    {
     "name": "stdout",
     "output_type": "stream",
     "text": [
      "Aopt1\n",
      "  5.864114 seconds (44.90 M allocations: 3.629 GiB, 10.27% gc time)\n"
     ]
    },
    {
     "name": "stderr",
     "output_type": "stream",
     "text": [
      "┌ Info: Genetic screen finished...\n",
      "└ @ Main In[14]:63\n",
      "┌ Info: (\"Aopt_motif\", Any[93, 201, 74, 20, 107, 33, 32, 155, 68, 117, 150, 49, 53, 76, 102, 17, 181, 44, 168, 161])\n",
      "└ @ Main In[14]:64\n"
     ]
    },
    {
     "name": "stdout",
     "output_type": "stream",
     "text": [
      "Aopt1\n",
      "  7.015330 seconds (56.54 M allocations: 4.569 GiB, 10.81% gc time)\n"
     ]
    },
    {
     "name": "stderr",
     "output_type": "stream",
     "text": [
      "┌ Info: Genetic screen finished...\n",
      "└ @ Main In[14]:63\n",
      "┌ Info: (\"Aopt_motif\", Any[97, 161, 23, 24, 125, 170, 43, 159, 194, 132, 91, 88, 57, 23, 185, 21, 69, 48, 189, 136])\n",
      "└ @ Main In[14]:64\n"
     ]
    },
    {
     "name": "stdout",
     "output_type": "stream",
     "text": [
      "Aopt1\n",
      " 10.496603 seconds (83.72 M allocations: 6.764 GiB, 10.67% gc time)\n"
     ]
    },
    {
     "name": "stderr",
     "output_type": "stream",
     "text": [
      "┌ Info: Genetic screen finished...\n",
      "└ @ Main In[14]:63\n",
      "┌ Info: (\"Aopt_motif\", Any[50, 135, 9, 36, 15, 136, 74, 169, 191, 7, 111, 30, 54, 133, 182, 41, 18, 127, 106, 96])\n",
      "└ @ Main In[14]:64\n"
     ]
    },
    {
     "name": "stdout",
     "output_type": "stream",
     "text": [
      "Aopt1\n",
      "  5.769720 seconds (45.46 M allocations: 3.674 GiB, 10.56% gc time)\n"
     ]
    },
    {
     "name": "stderr",
     "output_type": "stream",
     "text": [
      "┌ Info: Genetic screen finished...\n",
      "└ @ Main In[14]:63\n",
      "┌ Info: (\"Aopt_motif\", Any[98, 162, 79, 193, 116, 171, 37, 141, 132, 180, 96, 179, 65, 173, 170, 94, 186, 97, 174, 137])\n",
      "└ @ Main In[14]:64\n"
     ]
    },
    {
     "name": "stdout",
     "output_type": "stream",
     "text": [
      "Aopt1\n",
      "  6.086978 seconds (47.61 M allocations: 3.848 GiB, 10.48% gc time)\n"
     ]
    },
    {
     "name": "stderr",
     "output_type": "stream",
     "text": [
      "┌ Info: Genetic screen finished...\n",
      "└ @ Main In[14]:63\n",
      "┌ Info: (\"Aopt_motif\", Any[75, 62, 2, 131, 195, 71, 98, 157, 128, 46, 89, 197, 55, 159, 150, 2, 67, 96, 10, 83])\n",
      "└ @ Main In[14]:64\n"
     ]
    },
    {
     "name": "stdout",
     "output_type": "stream",
     "text": [
      "Aopt1\n",
      "  3.955997 seconds (30.28 M allocations: 2.450 GiB, 10.29% gc time)\n"
     ]
    },
    {
     "name": "stderr",
     "output_type": "stream",
     "text": [
      "┌ Info: Genetic screen finished...\n",
      "└ @ Main In[14]:63\n",
      "┌ Info: (\"Aopt_motif\", Any[21, 20, 27, 155, 150, 98, 11, 114, 66, 4, 25, 182, 184, 101, 179, 87, 118, 122, 195, 76])\n",
      "└ @ Main In[14]:64\n"
     ]
    },
    {
     "name": "stdout",
     "output_type": "stream",
     "text": [
      "Aopt1\n",
      "  6.616788 seconds (51.52 M allocations: 4.164 GiB, 10.45% gc time)\n"
     ]
    },
    {
     "name": "stderr",
     "output_type": "stream",
     "text": [
      "┌ Info: Genetic screen finished...\n",
      "└ @ Main In[14]:63\n",
      "┌ Info: (\"Aopt_motif\", Any[95, 159, 76, 143, 200, 51, 34, 157, 138, 8, 89, 86, 55, 21, 104, 19, 183, 46, 150, 163])\n",
      "└ @ Main In[14]:64\n"
     ]
    },
    {
     "name": "stdout",
     "output_type": "stream",
     "text": [
      "Aopt1\n",
      "  9.060154 seconds (73.36 M allocations: 5.927 GiB, 10.94% gc time)\n"
     ]
    },
    {
     "name": "stderr",
     "output_type": "stream",
     "text": [
      "┌ Info: Genetic screen finished...\n",
      "└ @ Main In[14]:63\n",
      "┌ Info: (\"Aopt_motif\", Any[91, 155, 72, 18, 50, 121, 30, 153, 119, 117, 99, 82, 181, 74, 100, 15, 179, 30, 6, 109])\n",
      "└ @ Main In[14]:64\n"
     ]
    },
    {
     "name": "stdout",
     "output_type": "stream",
     "text": [
      "Aopt1\n",
      "  7.575309 seconds (60.39 M allocations: 4.879 GiB, 10.72% gc time)\n"
     ]
    },
    {
     "name": "stderr",
     "output_type": "stream",
     "text": [
      "┌ Info: Genetic screen finished...\n",
      "└ @ Main In[14]:63\n",
      "┌ Info: (\"Aopt_motif\", Any[94, 76, 89, 21, 122, 70, 33, 81, 122, 65, 88, 56, 54, 20, 103, 18, 132, 45, 155, 162])\n",
      "└ @ Main In[14]:64\n"
     ]
    },
    {
     "name": "stdout",
     "output_type": "stream",
     "text": [
      "Aopt1\n",
      "  5.464261 seconds (44.44 M allocations: 3.592 GiB, 10.91% gc time)\n"
     ]
    },
    {
     "name": "stderr",
     "output_type": "stream",
     "text": [
      "┌ Info: Genetic screen finished...\n",
      "└ @ Main In[14]:63\n",
      "┌ Info: (\"Aopt_motif\", Any[84, 108, 179, 183, 191, 71, 29, 47, 186, 11, 72, 123, 30, 35, 40, 15, 85, 58, 65, 28])\n",
      "└ @ Main In[14]:64\n"
     ]
    },
    {
     "name": "stdout",
     "output_type": "stream",
     "text": [
      "Aopt1\n",
      "  2.938386 seconds (22.73 M allocations: 1.838 GiB, 10.36% gc time)\n"
     ]
    },
    {
     "name": "stderr",
     "output_type": "stream",
     "text": [
      "┌ Info: Genetic screen finished...\n",
      "└ @ Main In[14]:63\n",
      "┌ Info: (\"Aopt_motif\", Any[94, 158, 89, 142, 122, 70, 33, 25, 122, 129, 104, 85, 54, 176, 103, 18, 132, 45, 169, 162])\n",
      "└ @ Main In[14]:64\n"
     ]
    },
    {
     "name": "stdout",
     "output_type": "stream",
     "text": [
      "Aopt1\n",
      " 12.055830 seconds (96.17 M allocations: 7.769 GiB, 10.71% gc time)\n"
     ]
    },
    {
     "name": "stderr",
     "output_type": "stream",
     "text": [
      "┌ Info: Genetic screen finished...\n",
      "└ @ Main In[14]:63\n",
      "┌ Info: (\"Aopt_motif\", Any[40, 163, 105, 68, 157, 137, 39, 87, 107, 71, 105, 74, 144, 181, 161, 31, 94, 198, 83, 125])\n",
      "└ @ Main In[14]:64\n"
     ]
    },
    {
     "name": "stdout",
     "output_type": "stream",
     "text": [
      "Aopt1\n",
      "  3.717078 seconds (29.16 M allocations: 2.358 GiB, 10.51% gc time)\n"
     ]
    },
    {
     "name": "stderr",
     "output_type": "stream",
     "text": [
      "┌ Info: Genetic screen finished...\n",
      "└ @ Main In[14]:63\n",
      "┌ Info: (\"Aopt_motif\", Any[154, 1, 26, 72, 195, 18, 49, 7, 113, 28, 94, 24, 6, 126, 4, 181, 201, 44, 92, 153])\n",
      "└ @ Main In[14]:64\n"
     ]
    },
    {
     "name": "stdout",
     "output_type": "stream",
     "text": [
      "Aopt1\n",
      "  4.649815 seconds (36.44 M allocations: 2.946 GiB, 10.60% gc time)\n"
     ]
    },
    {
     "name": "stderr",
     "output_type": "stream",
     "text": [
      "┌ Info: Genetic screen finished...\n",
      "└ @ Main In[14]:63\n",
      "┌ Info: (\"Aopt_motif\", Any[96, 112, 77, 38, 55, 126, 35, 122, 124, 34, 16, 58, 56, 178, 105, 20, 166, 111, 11, 120])\n",
      "└ @ Main In[14]:64\n"
     ]
    },
    {
     "name": "stdout",
     "output_type": "stream",
     "text": [
      "Aopt1\n",
      "  5.761537 seconds (46.49 M allocations: 3.759 GiB, 10.90% gc time)\n"
     ]
    },
    {
     "name": "stderr",
     "output_type": "stream",
     "text": [
      "┌ Info: Genetic screen finished...\n",
      "└ @ Main In[14]:63\n",
      "┌ Info: (\"Aopt_motif\", Any[199, 79, 186, 101, 87, 67, 6, 104, 117, 1, 28, 36, 162, 173, 156, 21, 153, 106, 107, 90])\n",
      "└ @ Main In[14]:64\n"
     ]
    },
    {
     "name": "stdout",
     "output_type": "stream",
     "text": [
      "Aopt1\n",
      "  7.485490 seconds (57.38 M allocations: 4.636 GiB, 10.31% gc time)\n"
     ]
    },
    {
     "name": "stderr",
     "output_type": "stream",
     "text": [
      "┌ Info: Genetic screen finished...\n",
      "└ @ Main In[14]:63\n",
      "┌ Info: (\"Aopt_motif\", Any[15, 42, 182, 62, 84, 176, 49, 191, 17, 81, 57, 158, 33, 188, 195, 119, 195, 160, 198, 70])\n",
      "└ @ Main In[14]:64\n"
     ]
    },
    {
     "name": "stdout",
     "output_type": "stream",
     "text": [
      "Aopt1\n",
      "  8.444022 seconds (62.18 M allocations: 5.024 GiB, 9.89% gc time)\n"
     ]
    },
    {
     "name": "stderr",
     "output_type": "stream",
     "text": [
      "┌ Info: Genetic screen finished...\n",
      "└ @ Main In[14]:63\n",
      "┌ Info: (\"Aopt_motif\", Any[94, 23, 89, 21, 122, 132, 33, 156, 122, 129, 88, 74, 145, 20, 182, 18, 132, 103, 169, 162])\n",
      "└ @ Main In[14]:64\n"
     ]
    },
    {
     "name": "stdout",
     "output_type": "stream",
     "text": [
      "Aopt1\n",
      " 10.842250 seconds (87.11 M allocations: 7.038 GiB, 10.83% gc time)\n"
     ]
    },
    {
     "name": "stderr",
     "output_type": "stream",
     "text": [
      "┌ Info: Genetic screen finished...\n",
      "└ @ Main In[14]:63\n",
      "┌ Info: (\"Aopt_motif\", Any[164, 54, 42, 135, 181, 175, 102, 6, 73, 83, 115, 97, 108, 169, 114, 94, 8, 138, 25, 50])\n",
      "└ @ Main In[14]:64\n"
     ]
    },
    {
     "name": "stdout",
     "output_type": "stream",
     "text": [
      "Aopt1\n",
      " 10.026921 seconds (75.27 M allocations: 6.082 GiB, 10.07% gc time)\n"
     ]
    },
    {
     "name": "stderr",
     "output_type": "stream",
     "text": [
      "┌ Info: Genetic screen finished...\n",
      "└ @ Main In[14]:63\n",
      "┌ Info: (\"Aopt_motif\", Any[8, 129, 42, 110, 71, 168, 18, 191, 163, 39, 75, 1, 129, 181, 143, 124, 39, 57, 134, 40])\n",
      "└ @ Main In[14]:64\n"
     ]
    },
    {
     "name": "stdout",
     "output_type": "stream",
     "text": [
      "Aopt1\n",
      "  6.203354 seconds (47.16 M allocations: 3.811 GiB, 10.24% gc time)\n"
     ]
    },
    {
     "name": "stderr",
     "output_type": "stream",
     "text": [
      "┌ Info: Genetic screen finished...\n",
      "└ @ Main In[14]:63\n",
      "┌ Info: (\"Aopt_motif\", Any[124, 77, 76, 22, 8, 51, 34, 138, 129, 130, 89, 57, 55, 21, 104, 19, 159, 46, 156, 163])\n",
      "└ @ Main In[14]:64\n"
     ]
    },
    {
     "name": "stdout",
     "output_type": "stream",
     "text": [
      "Aopt1\n",
      "  9.190940 seconds (73.96 M allocations: 5.976 GiB, 10.81% gc time)\n"
     ]
    },
    {
     "name": "stderr",
     "output_type": "stream",
     "text": [
      "┌ Info: Genetic screen finished...\n",
      "└ @ Main In[14]:63\n",
      "┌ Info: (\"Aopt_motif\", Any[50, 197, 135, 94, 149, 136, 98, 125, 106, 60, 122, 89, 65, 195, 39, 111, 98, 49, 159, 19])\n",
      "└ @ Main In[14]:64\n"
     ]
    },
    {
     "name": "stdout",
     "output_type": "stream",
     "text": [
      "Aopt1\n",
      "  4.478543 seconds (33.99 M allocations: 2.748 GiB, 10.23% gc time)\n"
     ]
    },
    {
     "name": "stderr",
     "output_type": "stream",
     "text": [
      "┌ Info: Genetic screen finished...\n",
      "└ @ Main In[14]:63\n",
      "┌ Info: (\"Aopt_motif\", Any[194, 72, 71, 90, 156, 37, 20, 21, 81, 125, 4, 138, 68, 86, 81, 167, 95, 41, 20, 158])\n",
      "└ @ Main In[14]:64\n"
     ]
    },
    {
     "name": "stdout",
     "output_type": "stream",
     "text": [
      "Aopt1\n",
      " 10.941661 seconds (83.36 M allocations: 6.735 GiB, 10.26% gc time)\n"
     ]
    },
    {
     "name": "stderr",
     "output_type": "stream",
     "text": [
      "┌ Info: Genetic screen finished...\n",
      "└ @ Main In[14]:63\n",
      "┌ Info: (\"Aopt_motif\", Any[166, 18, 76, 42, 123, 142, 34, 42, 123, 130, 39, 86, 42, 99, 104, 19, 164, 98, 91, 3])\n",
      "└ @ Main In[14]:64\n"
     ]
    },
    {
     "name": "stdout",
     "output_type": "stream",
     "text": [
      "Aopt1\n",
      " 11.041351 seconds (86.34 M allocations: 6.975 GiB, 10.61% gc time)\n"
     ]
    },
    {
     "name": "stderr",
     "output_type": "stream",
     "text": [
      "┌ Info: Genetic screen finished...\n",
      "└ @ Main In[14]:63\n",
      "┌ Info: (\"Aopt_motif\", Any[4, 156, 87, 14, 51, 122, 31, 79, 6, 127, 86, 83, 52, 18, 101, 99, 42, 43, 7, 153])\n",
      "└ @ Main In[14]:64\n"
     ]
    },
    {
     "name": "stdout",
     "output_type": "stream",
     "text": [
      "Aopt1\n",
      "  6.878410 seconds (53.71 M allocations: 4.342 GiB, 10.52% gc time)\n"
     ]
    },
    {
     "name": "stderr",
     "output_type": "stream",
     "text": [
      "┌ Info: Genetic screen finished...\n",
      "└ @ Main In[14]:63\n",
      "┌ Info: (\"Aopt_motif\", Any[98, 60, 165, 128, 106, 183, 37, 38, 111, 117, 201, 119, 154, 78, 100, 21, 81, 136, 52, 19])\n",
      "└ @ Main In[14]:64\n"
     ]
    },
    {
     "name": "stdout",
     "output_type": "stream",
     "text": [
      "Aopt1\n",
      "  6.875302 seconds (53.84 M allocations: 4.351 GiB, 10.56% gc time)\n"
     ]
    },
    {
     "name": "stderr",
     "output_type": "stream",
     "text": [
      "┌ Info: Genetic screen finished...\n",
      "└ @ Main In[14]:63\n",
      "┌ Info: (\"Aopt_motif\", Any[37, 59, 86, 18, 50, 121, 30, 153, 119, 126, 99, 104, 69, 17, 194, 98, 179, 43, 6, 159])\n",
      "└ @ Main In[14]:64\n"
     ]
    },
    {
     "name": "stdout",
     "output_type": "stream",
     "text": [
      "Aopt1\n",
      "  9.081796 seconds (70.77 M allocations: 5.718 GiB, 10.47% gc time)\n"
     ]
    },
    {
     "name": "stderr",
     "output_type": "stream",
     "text": [
      "┌ Info: Genetic screen finished...\n",
      "└ @ Main In[14]:63\n",
      "┌ Info: (\"Aopt_motif\", Any[151, 54, 64, 164, 96, 115, 24, 72, 19, 72, 59, 24, 34, 59, 63, 61, 159, 174, 118, 69])\n",
      "└ @ Main In[14]:64\n"
     ]
    },
    {
     "name": "stdout",
     "output_type": "stream",
     "text": [
      "Aopt1\n",
      "  7.758823 seconds (58.15 M allocations: 4.699 GiB, 10.08% gc time)\n"
     ]
    },
    {
     "data": {
      "text/plain": [
       "499-element Array{Any,1}:\n",
       " (2, 200)  \n",
       " (3, 132)  \n",
       " (4, 141)  \n",
       " (5, 131)  \n",
       " (6, 136)  \n",
       " (7, 135)  \n",
       " (8, 134)  \n",
       " (9, 138)  \n",
       " (10, 134) \n",
       " (11, 133) \n",
       " (12, 133) \n",
       " (13, 200) \n",
       " (14, 133) \n",
       " ⋮         \n",
       " (489, 135)\n",
       " (490, 200)\n",
       " (491, 140)\n",
       " (492, 136)\n",
       " (493, 200)\n",
       " (494, 132)\n",
       " (495, 142)\n",
       " (496, 200)\n",
       " (497, 200)\n",
       " (498, 135)\n",
       " (499, 184)\n",
       " (500, 131)"
      ]
     },
     "execution_count": 55,
     "metadata": {},
     "output_type": "execute_result"
    }
   ],
   "source": [
    "step = 1\n",
    "pop_score_hard = []\n",
    "p = 2\n",
    "while p <= 500\n",
    "    result = @time GAME(hard_sequences,0.001,3000, p, 10)\n",
    "    push!(pop_score_hard, (p, result[5]))\n",
    "    p += step\n",
    "end\n",
    "pop_score_hard"
   ]
  },
  {
   "cell_type": "code",
   "execution_count": 49,
   "metadata": {},
   "outputs": [],
   "source": [
    "open(\"easy_population_v_score.data\", \"w\") do file\n",
    "        println(file, pop_score)\n",
    "end"
   ]
  },
  {
   "cell_type": "code",
   "execution_count": 50,
   "metadata": {},
   "outputs": [],
   "source": [
    "open(\"hard_population_v_score.data\", \"w\") do file\n",
    "        println(file, pop_score_hard)\n",
    "end"
   ]
  },
  {
   "cell_type": "code",
   "execution_count": 54,
   "metadata": {},
   "outputs": [],
   "source": [
    "open(\"hard_mutation_v_score_twice.data\", \"w\") do file\n",
    "        println(file, mutrate_score_hard)\n",
    "end"
   ]
  },
  {
   "cell_type": "code",
   "execution_count": 52,
   "metadata": {},
   "outputs": [],
   "source": [
    "open(\"easy_mutation_v_score.data\", \"w\") do file\n",
    "        println(file, mutrate_score)\n",
    "end"
   ]
  },
  {
   "cell_type": "code",
   "execution_count": 6,
   "metadata": {},
   "outputs": [],
   "source": [
    "# The end."
   ]
  }
 ],
 "metadata": {
  "@webio": {
   "lastCommId": "FEC54B0D3A5241FABE1CA0BFCE42F483",
   "lastKernelId": "da769cf0-b10c-45c2-a502-614b76fa4764"
  },
  "kernelspec": {
   "display_name": "Julia 1.0.1",
   "language": "julia",
   "name": "julia-1.0"
  },
  "language_info": {
   "file_extension": ".jl",
   "mimetype": "application/julia",
   "name": "julia",
   "version": "1.0.1"
  }
 },
 "nbformat": 4,
 "nbformat_minor": 2
}
